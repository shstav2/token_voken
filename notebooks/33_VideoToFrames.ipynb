{
 "cells": [
  {
   "cell_type": "markdown",
   "metadata": {},
   "source": [
    "# Imports"
   ]
  },
  {
   "cell_type": "code",
   "execution_count": 1,
   "metadata": {
    "ExecuteTime": {
     "end_time": "2021-01-17T10:20:35.569777Z",
     "start_time": "2021-01-17T10:20:34.256242Z"
    }
   },
   "outputs": [],
   "source": [
    "import os\n",
    "import sys\n",
    "import time\n",
    "\n",
    "import numpy as np\n",
    "import pandas as pd\n",
    "\n",
    "import seaborn as sns\n",
    "import matplotlib.pyplot as plt\n",
    "from ipywidgets import interact\n",
    "from IPython.display import YouTubeVideo, Markdown, display, Video, Image\n",
    "\n",
    "from tqdm.notebook import tqdm\n",
    "tqdm.pandas()"
   ]
  },
  {
   "cell_type": "code",
   "execution_count": 2,
   "metadata": {
    "ExecuteTime": {
     "end_time": "2021-01-17T10:20:35.575362Z",
     "start_time": "2021-01-17T10:20:35.572207Z"
    }
   },
   "outputs": [],
   "source": [
    "pd.set_option('display.max_colwidth', 200)\n",
    "pd.options.display.float_format = '{:,.2f}'.format"
   ]
  },
  {
   "cell_type": "code",
   "execution_count": 3,
   "metadata": {},
   "outputs": [],
   "source": [
    "sys.path.append('/Users/staveshemesh/Projects/shstav2/token_voken/src')\n",
    "sys.path.append('/Users/staveshemesh/Projects/shstav2/token_voken')\n",
    "from src.common.setup import syspath_append_projects\n",
    "syspath_append_projects()\n",
    "from src.common.path_resolvers import *\n",
    "from src.common.constants import *\n",
    "from src.common.display_utils import *\n",
    "from src.common.commands import *\n",
    "from src.common.status import *"
   ]
  },
  {
   "cell_type": "code",
   "execution_count": 4,
   "metadata": {},
   "outputs": [],
   "source": [
    "INPUT_DATA_ROOT = '/Users/staveshemesh/Projects/shstav2/token_voken/data/'\n",
    "INPUT_ITERATION = '20210419_220655'\n",
    "VALID_INTERVALS_PATH = os.path.join(INPUT_DATA_ROOT, INPUT_ITERATION, 'dataframes/df_intervals_valid.csv')"
   ]
  },
  {
   "cell_type": "code",
   "execution_count": 5,
   "metadata": {},
   "outputs": [],
   "source": [
    "TIMESTR = time.strftime(\"%Y%m%d_%H%M%S\")\n",
    "\n",
    "OUTPUT_ROOT = '/Users/staveshemesh/Projects/shstav2/token_voken/data/'"
   ]
  },
  {
   "cell_type": "markdown",
   "metadata": {},
   "source": [
    "# Read Data"
   ]
  },
  {
   "cell_type": "markdown",
   "metadata": {},
   "source": [
    "## df_intervals"
   ]
  },
  {
   "cell_type": "code",
   "execution_count": 6,
   "metadata": {},
   "outputs": [],
   "source": [
    "df_intervals = pd.read_csv(VALID_INTERVALS_PATH, dtype={'interval_id': object})"
   ]
  },
  {
   "cell_type": "code",
   "execution_count": 7,
   "metadata": {},
   "outputs": [
    {
     "data": {
      "text/html": [
       "<div>\n",
       "<style scoped>\n",
       "    .dataframe tbody tr th:only-of-type {\n",
       "        vertical-align: middle;\n",
       "    }\n",
       "\n",
       "    .dataframe tbody tr th {\n",
       "        vertical-align: top;\n",
       "    }\n",
       "\n",
       "    .dataframe thead th {\n",
       "        text-align: right;\n",
       "    }\n",
       "</style>\n",
       "<table border=\"1\" class=\"dataframe\">\n",
       "  <thead>\n",
       "    <tr style=\"text-align: right;\">\n",
       "      <th></th>\n",
       "      <th>speaker</th>\n",
       "      <th>video_id</th>\n",
       "      <th>interval_id</th>\n",
       "      <th>valid</th>\n",
       "      <th>duration</th>\n",
       "      <th>start_time_string</th>\n",
       "      <th>end_time_string</th>\n",
       "      <th>video_link</th>\n",
       "      <th>video_fn</th>\n",
       "      <th>start_time</th>\n",
       "      <th>...</th>\n",
       "      <th>valid_single_token_per_frame</th>\n",
       "      <th>video_downloded</th>\n",
       "      <th>valid_hd5</th>\n",
       "      <th>valid_max_token_duration</th>\n",
       "      <th>valid_frames_count</th>\n",
       "      <th>video_downloaded</th>\n",
       "      <th>interval_video_path</th>\n",
       "      <th>interval_video_downloaded</th>\n",
       "      <th>interval_frames_dir</th>\n",
       "      <th>full_video_path</th>\n",
       "    </tr>\n",
       "  </thead>\n",
       "  <tbody>\n",
       "    <tr>\n",
       "      <th>0</th>\n",
       "      <td>oliver</td>\n",
       "      <td>Tt-mpuR_QHQ</td>\n",
       "      <td>100912</td>\n",
       "      <td>True</td>\n",
       "      <td>20.75</td>\n",
       "      <td>00:10:26.55</td>\n",
       "      <td>00:10:47.31</td>\n",
       "      <td>https://www.youtube.com/watch?v=Tt-mpuR_QHQ</td>\n",
       "      <td>Puerto_Rico_-_Last_Week_Tonight_with_John_Oliver_HBO-Tt-mpuR_QHQ.webm</td>\n",
       "      <td>0 days 00:10:26.550000</td>\n",
       "      <td>...</td>\n",
       "      <td>True</td>\n",
       "      <td>False</td>\n",
       "      <td>True</td>\n",
       "      <td>True</td>\n",
       "      <td>True</td>\n",
       "      <td>True</td>\n",
       "      <td>/Users/staveshemesh/Projects/PATS_DATA/Youtube/oliver/Tt-mpuR_QHQ/100912/100912.mp4</td>\n",
       "      <td>True</td>\n",
       "      <td>/Users/staveshemesh/Projects/PATS_DATA/Youtube/oliver/Tt-mpuR_QHQ/100912/vokens/face_annot_224</td>\n",
       "      <td>/Users/staveshemesh/Projects/PATS_DATA/Youtube/oliver/Tt-mpuR_QHQ/Tt-mpuR_QHQ.mp4</td>\n",
       "    </tr>\n",
       "    <tr>\n",
       "      <th>1</th>\n",
       "      <td>oliver</td>\n",
       "      <td>Tt-mpuR_QHQ</td>\n",
       "      <td>100913</td>\n",
       "      <td>True</td>\n",
       "      <td>7.74</td>\n",
       "      <td>00:10:47.44</td>\n",
       "      <td>00:10:55.18</td>\n",
       "      <td>https://www.youtube.com/watch?v=Tt-mpuR_QHQ</td>\n",
       "      <td>Puerto_Rico_-_Last_Week_Tonight_with_John_Oliver_HBO-Tt-mpuR_QHQ.webm</td>\n",
       "      <td>0 days 00:10:47.440000</td>\n",
       "      <td>...</td>\n",
       "      <td>True</td>\n",
       "      <td>False</td>\n",
       "      <td>True</td>\n",
       "      <td>True</td>\n",
       "      <td>True</td>\n",
       "      <td>True</td>\n",
       "      <td>/Users/staveshemesh/Projects/PATS_DATA/Youtube/oliver/Tt-mpuR_QHQ/100913/100913.mp4</td>\n",
       "      <td>True</td>\n",
       "      <td>/Users/staveshemesh/Projects/PATS_DATA/Youtube/oliver/Tt-mpuR_QHQ/100913/vokens/face_annot_224</td>\n",
       "      <td>/Users/staveshemesh/Projects/PATS_DATA/Youtube/oliver/Tt-mpuR_QHQ/Tt-mpuR_QHQ.mp4</td>\n",
       "    </tr>\n",
       "  </tbody>\n",
       "</table>\n",
       "<p>2 rows × 25 columns</p>\n",
       "</div>"
      ],
      "text/plain": [
       "  speaker     video_id interval_id  valid  duration start_time_string  \\\n",
       "0  oliver  Tt-mpuR_QHQ      100912   True     20.75       00:10:26.55   \n",
       "1  oliver  Tt-mpuR_QHQ      100913   True      7.74       00:10:47.44   \n",
       "\n",
       "  end_time_string                                   video_link  \\\n",
       "0     00:10:47.31  https://www.youtube.com/watch?v=Tt-mpuR_QHQ   \n",
       "1     00:10:55.18  https://www.youtube.com/watch?v=Tt-mpuR_QHQ   \n",
       "\n",
       "                                                                video_fn  \\\n",
       "0  Puerto_Rico_-_Last_Week_Tonight_with_John_Oliver_HBO-Tt-mpuR_QHQ.webm   \n",
       "1  Puerto_Rico_-_Last_Week_Tonight_with_John_Oliver_HBO-Tt-mpuR_QHQ.webm   \n",
       "\n",
       "               start_time  ... valid_single_token_per_frame video_downloded  \\\n",
       "0  0 days 00:10:26.550000  ...                         True           False   \n",
       "1  0 days 00:10:47.440000  ...                         True           False   \n",
       "\n",
       "  valid_hd5  valid_max_token_duration  valid_frames_count  video_downloaded  \\\n",
       "0      True                      True                True              True   \n",
       "1      True                      True                True              True   \n",
       "\n",
       "                                                                   interval_video_path  \\\n",
       "0  /Users/staveshemesh/Projects/PATS_DATA/Youtube/oliver/Tt-mpuR_QHQ/100912/100912.mp4   \n",
       "1  /Users/staveshemesh/Projects/PATS_DATA/Youtube/oliver/Tt-mpuR_QHQ/100913/100913.mp4   \n",
       "\n",
       "   interval_video_downloaded  \\\n",
       "0                       True   \n",
       "1                       True   \n",
       "\n",
       "                                                                              interval_frames_dir  \\\n",
       "0  /Users/staveshemesh/Projects/PATS_DATA/Youtube/oliver/Tt-mpuR_QHQ/100912/vokens/face_annot_224   \n",
       "1  /Users/staveshemesh/Projects/PATS_DATA/Youtube/oliver/Tt-mpuR_QHQ/100913/vokens/face_annot_224   \n",
       "\n",
       "                                                                     full_video_path  \n",
       "0  /Users/staveshemesh/Projects/PATS_DATA/Youtube/oliver/Tt-mpuR_QHQ/Tt-mpuR_QHQ.mp4  \n",
       "1  /Users/staveshemesh/Projects/PATS_DATA/Youtube/oliver/Tt-mpuR_QHQ/Tt-mpuR_QHQ.mp4  \n",
       "\n",
       "[2 rows x 25 columns]"
      ]
     },
     "execution_count": 7,
     "metadata": {},
     "output_type": "execute_result"
    }
   ],
   "source": [
    "df_intervals.head(n=2)"
   ]
  },
  {
   "cell_type": "code",
   "execution_count": 8,
   "metadata": {},
   "outputs": [
    {
     "data": {
      "text/markdown": [
       "**Valid intervals, Speaker oliver**:"
      ],
      "text/plain": [
       "<IPython.core.display.Markdown object>"
      ]
     },
     "metadata": {},
     "output_type": "display_data"
    },
    {
     "name": "stdout",
     "output_type": "stream",
     "text": [
      "  ◘ Videos: #123\n",
      "  ◘ Intervals: #2,118\n",
      "  ◘ Total Duration: 08 hours, 13 minutues, 25 seconds (29,605 seconds)\n",
      "  ◘ All are Youtube videos: True\n"
     ]
    }
   ],
   "source": [
    "printmd(f'**Valid intervals, Speaker {SPEAKER_NAME}**:')\n",
    "display_df_info(df_intervals)"
   ]
  },
  {
   "cell_type": "markdown",
   "metadata": {},
   "source": [
    "## Interval Data Status"
   ]
  },
  {
   "cell_type": "code",
   "execution_count": 9,
   "metadata": {},
   "outputs": [],
   "source": [
    "status_frames(df_intervals)"
   ]
  },
  {
   "cell_type": "code",
   "execution_count": 10,
   "metadata": {},
   "outputs": [
    {
     "data": {
      "text/html": [
       "<style  type=\"text/css\" >\n",
       "    #T_4d942_ caption {\n",
       "          color: blue;\n",
       "          font-size: 16px;\n",
       "    }</style><table id=\"T_4d942_\" ><caption>[1] Downloaded Interval Video</caption><thead>    <tr>        <th class=\"blank level0\" ></th>        <th class=\"col_heading level0 col0\" >interval_video_downloaded</th>    </tr></thead><tbody>\n",
       "                <tr>\n",
       "                        <th id=\"T_4d942_level0_row0\" class=\"row_heading level0 row0\" >True</th>\n",
       "                        <td id=\"T_4d942_row0_col0\" class=\"data row0 col0\" >1992</td>\n",
       "            </tr>\n",
       "            <tr>\n",
       "                        <th id=\"T_4d942_level0_row1\" class=\"row_heading level0 row1\" >False</th>\n",
       "                        <td id=\"T_4d942_row1_col0\" class=\"data row1 col0\" >126</td>\n",
       "            </tr>\n",
       "    </tbody></table>"
      ],
      "text/plain": [
       "<pandas.io.formats.style.Styler at 0x111ade0a0>"
      ]
     },
     "metadata": {},
     "output_type": "display_data"
    },
    {
     "data": {
      "text/html": [
       "<style  type=\"text/css\" >\n",
       "    #T_e28f2_ caption {\n",
       "          color: blue;\n",
       "          font-size: 16px;\n",
       "    }</style><table id=\"T_e28f2_\" ><caption>[2] Frame Dir Exsits</caption><thead>    <tr>        <th class=\"blank level0\" ></th>        <th class=\"col_heading level0 col0\" >frames_dir_exists</th>    </tr></thead><tbody>\n",
       "                <tr>\n",
       "                        <th id=\"T_e28f2_level0_row0\" class=\"row_heading level0 row0\" >False</th>\n",
       "                        <td id=\"T_e28f2_row0_col0\" class=\"data row0 col0\" >1388</td>\n",
       "            </tr>\n",
       "            <tr>\n",
       "                        <th id=\"T_e28f2_level0_row1\" class=\"row_heading level0 row1\" >True</th>\n",
       "                        <td id=\"T_e28f2_row1_col0\" class=\"data row1 col0\" >730</td>\n",
       "            </tr>\n",
       "    </tbody></table>"
      ],
      "text/plain": [
       "<pandas.io.formats.style.Styler at 0x111bc49d0>"
      ]
     },
     "metadata": {},
     "output_type": "display_data"
    },
    {
     "data": {
      "text/html": [
       "<style  type=\"text/css\" >\n",
       "    #T_0aeb5_ caption {\n",
       "          color: blue;\n",
       "          font-size: 16px;\n",
       "    }</style><table id=\"T_0aeb5_\" ><caption>[3] Frames Dir Has Content</caption><thead>    <tr>        <th class=\"blank level0\" ></th>        <th class=\"col_heading level0 col0\" >frames_dir_content_size</th>    </tr></thead><tbody>\n",
       "                <tr>\n",
       "                        <th id=\"T_0aeb5_level0_row0\" class=\"row_heading level0 row0\" >False</th>\n",
       "                        <td id=\"T_0aeb5_row0_col0\" class=\"data row0 col0\" >2075</td>\n",
       "            </tr>\n",
       "            <tr>\n",
       "                        <th id=\"T_0aeb5_level0_row1\" class=\"row_heading level0 row1\" >True</th>\n",
       "                        <td id=\"T_0aeb5_row1_col0\" class=\"data row1 col0\" >43</td>\n",
       "            </tr>\n",
       "    </tbody></table>"
      ],
      "text/plain": [
       "<pandas.io.formats.style.Styler at 0x13c359b20>"
      ]
     },
     "metadata": {},
     "output_type": "display_data"
    },
    {
     "data": {
      "text/html": [
       "<style  type=\"text/css\" >\n",
       "    #T_4d0de_ caption {\n",
       "          color: blue;\n",
       "          font-size: 16px;\n",
       "    }</style><table id=\"T_4d0de_\" ><caption>[4] Has Completed Frames (Video -> Frames)</caption><thead>    <tr>        <th class=\"blank level0\" ></th>        <th class=\"col_heading level0 col0\" >has_completed_frames</th>    </tr></thead><tbody>\n",
       "                <tr>\n",
       "                        <th id=\"T_4d0de_level0_row0\" class=\"row_heading level0 row0\" >False</th>\n",
       "                        <td id=\"T_4d0de_row0_col0\" class=\"data row0 col0\" >1525</td>\n",
       "            </tr>\n",
       "            <tr>\n",
       "                        <th id=\"T_4d0de_level0_row1\" class=\"row_heading level0 row1\" >True</th>\n",
       "                        <td id=\"T_4d0de_row1_col0\" class=\"data row1 col0\" >593</td>\n",
       "            </tr>\n",
       "    </tbody></table>"
      ],
      "text/plain": [
       "<pandas.io.formats.style.Styler at 0x13c359f40>"
      ]
     },
     "metadata": {},
     "output_type": "display_data"
    },
    {
     "data": {
      "text/html": [
       "<style  type=\"text/css\" >\n",
       "    #T_10106_ caption {\n",
       "          color: blue;\n",
       "          font-size: 16px;\n",
       "    }</style><table id=\"T_10106_\" ><caption>[5] Detected Face</caption><thead>    <tr>        <th class=\"blank level0\" ></th>        <th class=\"col_heading level0 col0\" >has_detected_faces</th>    </tr></thead><tbody>\n",
       "                <tr>\n",
       "                        <th id=\"T_10106_level0_row0\" class=\"row_heading level0 row0\" >False</th>\n",
       "                        <td id=\"T_10106_row0_col0\" class=\"data row0 col0\" >2107</td>\n",
       "            </tr>\n",
       "            <tr>\n",
       "                        <th id=\"T_10106_level0_row1\" class=\"row_heading level0 row1\" >True</th>\n",
       "                        <td id=\"T_10106_row1_col0\" class=\"data row1 col0\" >11</td>\n",
       "            </tr>\n",
       "    </tbody></table>"
      ],
      "text/plain": [
       "<pandas.io.formats.style.Styler at 0x13c3400d0>"
      ]
     },
     "metadata": {},
     "output_type": "display_data"
    },
    {
     "data": {
      "text/html": [
       "<style  type=\"text/css\" >\n",
       "    #T_8f486_ caption {\n",
       "          color: blue;\n",
       "          font-size: 16px;\n",
       "    }</style><table id=\"T_8f486_\" ><caption>[6] Need To Extract Frames</caption><thead>    <tr>        <th class=\"blank level0\" ></th>        <th class=\"col_heading level0 col0\" >need_to_extract_frames</th>    </tr></thead><tbody>\n",
       "                <tr>\n",
       "                        <th id=\"T_8f486_level0_row0\" class=\"row_heading level0 row0\" >True</th>\n",
       "                        <td id=\"T_8f486_row0_col0\" class=\"data row0 col0\" >1514</td>\n",
       "            </tr>\n",
       "            <tr>\n",
       "                        <th id=\"T_8f486_level0_row1\" class=\"row_heading level0 row1\" >False</th>\n",
       "                        <td id=\"T_8f486_row1_col0\" class=\"data row1 col0\" >604</td>\n",
       "            </tr>\n",
       "    </tbody></table>"
      ],
      "text/plain": [
       "<pandas.io.formats.style.Styler at 0x13c359d90>"
      ]
     },
     "metadata": {},
     "output_type": "display_data"
    }
   ],
   "source": [
    "display_value_counts(df_intervals['interval_video_downloaded'], '[1] Downloaded Interval Video')\n",
    "display_value_counts(df_intervals['frames_dir_exists'],         '[2] Frame Dir Exsits')\n",
    "display_value_counts(df_intervals['frames_dir_content_size'],   '[3] Frames Dir Has Content')\n",
    "display_value_counts(df_intervals['has_completed_frames'],      '[4] Has Completed Frames (Video -> Frames)')\n",
    "display_value_counts(df_intervals['has_detected_faces'],        '[5] Detected Face')\n",
    "display_value_counts(df_intervals['need_to_extract_frames'],    '[6] Need To Extract Frames')"
   ]
  },
  {
   "cell_type": "code",
   "execution_count": 11,
   "metadata": {},
   "outputs": [
    {
     "data": {
      "text/plain": [
       "(500, 34)"
      ]
     },
     "execution_count": 11,
     "metadata": {},
     "output_type": "execute_result"
    }
   ],
   "source": [
    "df_batch2 = df_intervals[(df_intervals['need_to_extract_frames'])&((df_intervals['status_interval_video_downloaded']))].iloc[:500]\n",
    "df_batch2.shape"
   ]
  },
  {
   "cell_type": "code",
   "execution_count": 19,
   "metadata": {},
   "outputs": [
    {
     "data": {
      "text/html": [
       "<div>\n",
       "<style scoped>\n",
       "    .dataframe tbody tr th:only-of-type {\n",
       "        vertical-align: middle;\n",
       "    }\n",
       "\n",
       "    .dataframe tbody tr th {\n",
       "        vertical-align: top;\n",
       "    }\n",
       "\n",
       "    .dataframe thead th {\n",
       "        text-align: right;\n",
       "    }\n",
       "</style>\n",
       "<table border=\"1\" class=\"dataframe\">\n",
       "  <thead>\n",
       "    <tr style=\"text-align: right;\">\n",
       "      <th></th>\n",
       "      <th>speaker</th>\n",
       "      <th>video_id</th>\n",
       "      <th>interval_id</th>\n",
       "      <th>valid</th>\n",
       "      <th>duration</th>\n",
       "      <th>start_time_string</th>\n",
       "      <th>end_time_string</th>\n",
       "      <th>video_link</th>\n",
       "      <th>video_fn</th>\n",
       "      <th>start_time</th>\n",
       "      <th>...</th>\n",
       "      <th>full_video_path</th>\n",
       "      <th>status_interval_video_downloaded</th>\n",
       "      <th>frames_dir_exists</th>\n",
       "      <th>frames_count</th>\n",
       "      <th>supposed_frames_count</th>\n",
       "      <th>missing_frames_count</th>\n",
       "      <th>has_completed_frames</th>\n",
       "      <th>frames_dir_content_size</th>\n",
       "      <th>has_detected_faces</th>\n",
       "      <th>need_to_extract_frames</th>\n",
       "    </tr>\n",
       "  </thead>\n",
       "  <tbody>\n",
       "    <tr>\n",
       "      <th>249</th>\n",
       "      <td>oliver</td>\n",
       "      <td>6UsHHOCH4q8</td>\n",
       "      <td>101891</td>\n",
       "      <td>True</td>\n",
       "      <td>10.28</td>\n",
       "      <td>00:12:03.32</td>\n",
       "      <td>00:12:13.60</td>\n",
       "      <td>http://www.youtube.com/watch?v=6UsHHOCH4q8</td>\n",
       "      <td>Tobacco_-_Last_Week_Tonight_with_John_Oliver_HBO-6UsHHOCH4q8.mkv</td>\n",
       "      <td>0 days 00:12:03.320000</td>\n",
       "      <td>...</td>\n",
       "      <td>/Users/staveshemesh/Projects/PATS_DATA/Youtube/oliver/6UsHHOCH4q8/6UsHHOCH4q8.mp4</td>\n",
       "      <td>False</td>\n",
       "      <td>False</td>\n",
       "      <td>-1</td>\n",
       "      <td>154</td>\n",
       "      <td>155</td>\n",
       "      <td>False</td>\n",
       "      <td>False</td>\n",
       "      <td>True</td>\n",
       "      <td>False</td>\n",
       "    </tr>\n",
       "    <tr>\n",
       "      <th>247</th>\n",
       "      <td>oliver</td>\n",
       "      <td>6UsHHOCH4q8</td>\n",
       "      <td>101889</td>\n",
       "      <td>True</td>\n",
       "      <td>9.28</td>\n",
       "      <td>00:11:46.30</td>\n",
       "      <td>00:11:55.58</td>\n",
       "      <td>http://www.youtube.com/watch?v=6UsHHOCH4q8</td>\n",
       "      <td>Tobacco_-_Last_Week_Tonight_with_John_Oliver_HBO-6UsHHOCH4q8.mkv</td>\n",
       "      <td>0 days 00:11:46.300000</td>\n",
       "      <td>...</td>\n",
       "      <td>/Users/staveshemesh/Projects/PATS_DATA/Youtube/oliver/6UsHHOCH4q8/6UsHHOCH4q8.mp4</td>\n",
       "      <td>False</td>\n",
       "      <td>False</td>\n",
       "      <td>-1</td>\n",
       "      <td>139</td>\n",
       "      <td>140</td>\n",
       "      <td>False</td>\n",
       "      <td>False</td>\n",
       "      <td>True</td>\n",
       "      <td>False</td>\n",
       "    </tr>\n",
       "    <tr>\n",
       "      <th>195</th>\n",
       "      <td>oliver</td>\n",
       "      <td>P8pjd1QEA0c</td>\n",
       "      <td>101678</td>\n",
       "      <td>True</td>\n",
       "      <td>10.74</td>\n",
       "      <td>00:12:29.51</td>\n",
       "      <td>00:12:40.26</td>\n",
       "      <td>http://www.youtube.com/watch?v=P8pjd1QEA0c</td>\n",
       "      <td>Student_Debt_-_Last_Week_Tonight_with_John_Oliver_HBO-P8pjd1QEA0c.mkv</td>\n",
       "      <td>0 days 00:12:29.510000</td>\n",
       "      <td>...</td>\n",
       "      <td>/Users/staveshemesh/Projects/PATS_DATA/Youtube/oliver/P8pjd1QEA0c/P8pjd1QEA0c.mp4</td>\n",
       "      <td>True</td>\n",
       "      <td>False</td>\n",
       "      <td>-1</td>\n",
       "      <td>161</td>\n",
       "      <td>162</td>\n",
       "      <td>False</td>\n",
       "      <td>True</td>\n",
       "      <td>True</td>\n",
       "      <td>False</td>\n",
       "    </tr>\n",
       "    <tr>\n",
       "      <th>199</th>\n",
       "      <td>oliver</td>\n",
       "      <td>6UsHHOCH4q8</td>\n",
       "      <td>101683</td>\n",
       "      <td>True</td>\n",
       "      <td>6.41</td>\n",
       "      <td>00:01:55.94</td>\n",
       "      <td>00:02:02.35</td>\n",
       "      <td>http://www.youtube.com/watch?v=6UsHHOCH4q8</td>\n",
       "      <td>Tobacco_-_Last_Week_Tonight_with_John_Oliver_HBO-6UsHHOCH4q8.mkv</td>\n",
       "      <td>0 days 00:01:55.940000</td>\n",
       "      <td>...</td>\n",
       "      <td>/Users/staveshemesh/Projects/PATS_DATA/Youtube/oliver/6UsHHOCH4q8/6UsHHOCH4q8.mp4</td>\n",
       "      <td>False</td>\n",
       "      <td>False</td>\n",
       "      <td>-1</td>\n",
       "      <td>96</td>\n",
       "      <td>97</td>\n",
       "      <td>False</td>\n",
       "      <td>False</td>\n",
       "      <td>True</td>\n",
       "      <td>False</td>\n",
       "    </tr>\n",
       "  </tbody>\n",
       "</table>\n",
       "<p>4 rows × 34 columns</p>\n",
       "</div>"
      ],
      "text/plain": [
       "    speaker     video_id interval_id  valid  duration start_time_string  \\\n",
       "249  oliver  6UsHHOCH4q8      101891   True     10.28       00:12:03.32   \n",
       "247  oliver  6UsHHOCH4q8      101889   True      9.28       00:11:46.30   \n",
       "195  oliver  P8pjd1QEA0c      101678   True     10.74       00:12:29.51   \n",
       "199  oliver  6UsHHOCH4q8      101683   True      6.41       00:01:55.94   \n",
       "\n",
       "    end_time_string                                  video_link  \\\n",
       "249     00:12:13.60  http://www.youtube.com/watch?v=6UsHHOCH4q8   \n",
       "247     00:11:55.58  http://www.youtube.com/watch?v=6UsHHOCH4q8   \n",
       "195     00:12:40.26  http://www.youtube.com/watch?v=P8pjd1QEA0c   \n",
       "199     00:02:02.35  http://www.youtube.com/watch?v=6UsHHOCH4q8   \n",
       "\n",
       "                                                                  video_fn  \\\n",
       "249       Tobacco_-_Last_Week_Tonight_with_John_Oliver_HBO-6UsHHOCH4q8.mkv   \n",
       "247       Tobacco_-_Last_Week_Tonight_with_John_Oliver_HBO-6UsHHOCH4q8.mkv   \n",
       "195  Student_Debt_-_Last_Week_Tonight_with_John_Oliver_HBO-P8pjd1QEA0c.mkv   \n",
       "199       Tobacco_-_Last_Week_Tonight_with_John_Oliver_HBO-6UsHHOCH4q8.mkv   \n",
       "\n",
       "                 start_time  ...  \\\n",
       "249  0 days 00:12:03.320000  ...   \n",
       "247  0 days 00:11:46.300000  ...   \n",
       "195  0 days 00:12:29.510000  ...   \n",
       "199  0 days 00:01:55.940000  ...   \n",
       "\n",
       "                                                                       full_video_path  \\\n",
       "249  /Users/staveshemesh/Projects/PATS_DATA/Youtube/oliver/6UsHHOCH4q8/6UsHHOCH4q8.mp4   \n",
       "247  /Users/staveshemesh/Projects/PATS_DATA/Youtube/oliver/6UsHHOCH4q8/6UsHHOCH4q8.mp4   \n",
       "195  /Users/staveshemesh/Projects/PATS_DATA/Youtube/oliver/P8pjd1QEA0c/P8pjd1QEA0c.mp4   \n",
       "199  /Users/staveshemesh/Projects/PATS_DATA/Youtube/oliver/6UsHHOCH4q8/6UsHHOCH4q8.mp4   \n",
       "\n",
       "    status_interval_video_downloaded frames_dir_exists  frames_count  \\\n",
       "249                            False             False            -1   \n",
       "247                            False             False            -1   \n",
       "195                             True             False            -1   \n",
       "199                            False             False            -1   \n",
       "\n",
       "     supposed_frames_count  missing_frames_count  has_completed_frames  \\\n",
       "249                    154                   155                 False   \n",
       "247                    139                   140                 False   \n",
       "195                    161                   162                 False   \n",
       "199                     96                    97                 False   \n",
       "\n",
       "     frames_dir_content_size  has_detected_faces  need_to_extract_frames  \n",
       "249                    False                True                   False  \n",
       "247                    False                True                   False  \n",
       "195                     True                True                   False  \n",
       "199                    False                True                   False  \n",
       "\n",
       "[4 rows x 34 columns]"
      ]
     },
     "execution_count": 19,
     "metadata": {},
     "output_type": "execute_result"
    }
   ],
   "source": [
    "df_intervals[df_intervals['has_detected_faces']].sample(n=4)"
   ]
  },
  {
   "cell_type": "code",
   "execution_count": 17,
   "metadata": {},
   "outputs": [
    {
     "ename": "NameError",
     "evalue": "name 'df_batch3' is not defined",
     "output_type": "error",
     "traceback": [
      "\u001b[0;31m---------------------------------------------------------------------------\u001b[0m",
      "\u001b[0;31mNameError\u001b[0m                                 Traceback (most recent call last)",
      "\u001b[0;32m<ipython-input-17-c48e2215f5ce>\u001b[0m in \u001b[0;36m<module>\u001b[0;34m\u001b[0m\n\u001b[0;32m----> 1\u001b[0;31m \u001b[0minterval_video_paths\u001b[0m \u001b[0;34m=\u001b[0m \u001b[0mdf_batch3\u001b[0m\u001b[0;34m[\u001b[0m\u001b[0;34m'interval_video_path'\u001b[0m\u001b[0;34m]\u001b[0m\u001b[0;34m.\u001b[0m\u001b[0mtolist\u001b[0m\u001b[0;34m(\u001b[0m\u001b[0;34m)\u001b[0m\u001b[0;34m\u001b[0m\u001b[0;34m\u001b[0m\u001b[0m\n\u001b[0m\u001b[1;32m      2\u001b[0m \u001b[0minterval_frames_dirs\u001b[0m \u001b[0;34m=\u001b[0m \u001b[0mdf_batch3\u001b[0m\u001b[0;34m[\u001b[0m\u001b[0;34m'interval_frames_dir'\u001b[0m\u001b[0;34m]\u001b[0m\u001b[0;34m.\u001b[0m\u001b[0mtolist\u001b[0m\u001b[0;34m(\u001b[0m\u001b[0;34m)\u001b[0m\u001b[0;34m\u001b[0m\u001b[0;34m\u001b[0m\u001b[0m\n",
      "\u001b[0;31mNameError\u001b[0m: name 'df_batch3' is not defined"
     ]
    }
   ],
   "source": [
    "interval_video_paths = df_batch3['interval_video_path'].tolist()\n",
    "interval_frames_dirs = df_batch3['interval_frames_dir'].tolist()"
   ]
  },
  {
   "cell_type": "code",
   "execution_count": null,
   "metadata": {},
   "outputs": [],
   "source": [
    "interval_video_paths[10:12]"
   ]
  },
  {
   "cell_type": "code",
   "execution_count": null,
   "metadata": {},
   "outputs": [],
   "source": [
    "interval_frames_dirs[10:12]"
   ]
  },
  {
   "cell_type": "code",
   "execution_count": 25,
   "metadata": {},
   "outputs": [
    {
     "data": {
      "text/plain": [
       "(500, 34)"
      ]
     },
     "execution_count": 25,
     "metadata": {},
     "output_type": "execute_result"
    }
   ],
   "source": [
    "df_batch2 = df_intervals[(df_intervals['need_to_extract_frames'])&((df_intervals['status_interval_video_downloaded']))].iloc[:500]\n",
    "df_batch2.shape"
   ]
  },
  {
   "cell_type": "code",
   "execution_count": 28,
   "metadata": {},
   "outputs": [
    {
     "data": {
      "text/plain": [
       "500"
      ]
     },
     "execution_count": 28,
     "metadata": {},
     "output_type": "execute_result"
    }
   ],
   "source": [
    "len(df_batch2)"
   ]
  },
  {
   "cell_type": "code",
   "execution_count": 29,
   "metadata": {},
   "outputs": [],
   "source": [
    "batchfile = f'df_intervals_batch2_{len(df_batch2)}_{TIMESTR}'\n",
    "batch_path = os.path.join(OUTPUT_ROOT, batchfile)"
   ]
  },
  {
   "cell_type": "code",
   "execution_count": 31,
   "metadata": {},
   "outputs": [],
   "source": [
    "df_batch2.to_csv(batch_path, header=True)"
   ]
  },
  {
   "cell_type": "code",
   "execution_count": 6,
   "metadata": {},
   "outputs": [],
   "source": [
    "from src.pipeline._4_video_to_frames import video_to_frames_and_delete"
   ]
  },
  {
   "cell_type": "code",
   "execution_count": 11,
   "metadata": {},
   "outputs": [],
   "source": [
    "interval_video_path = '/Users/staveshemesh/Projects/PATS_DATA/Youtube/oliver/8-hahRWhFvg/101302/101302.mp4'\n",
    "interval_frames_dir = '/Users/staveshemesh/Projects/PATS_DATA/Youtube/oliver/8-hahRWhFvg/101302/vokens/face_annot_224'"
   ]
  },
  {
   "cell_type": "code",
   "execution_count": 12,
   "metadata": {},
   "outputs": [
    {
     "name": "stdout",
     "output_type": "stream",
     "text": [
      "2021-05-16 23:48:08,502 | INFO : ✅  ffmpeg -i \"/Users/staveshemesh/Projects/PATS_DATA/Youtube/oliver/8-hahRWhFvg/101302/101302.mp4\" -start_number 0 -r 15 -q:v 2 -qmin 2 -qmax 2 \"/Users/staveshemesh/Projects/PATS_DATA/Youtube/oliver/8-hahRWhFvg/101302/vokens/face_annot_224/$filename%05d.jpg\"\n"
     ]
    }
   ],
   "source": [
    "video_to_frames_and_delete(interval_video_path, interval_frames_dir, override=True)"
   ]
  },
  {
   "cell_type": "code",
   "execution_count": 13,
   "metadata": {},
   "outputs": [
    {
     "name": "stdout",
     "output_type": "stream",
     "text": [
      "2021-05-17 12:24:34,799 | INFO : ✅  ffmpeg -i \"/Users/staveshemesh/Projects/PATS_DATA/Youtube/oliver/P8pjd1QEA0c/101678/101678.mp4\" -start_number 0 -r 15 -q:v 2 -qmin 2 -qmax 2 \"/Users/staveshemesh/Projects/PATS_DATA/Youtube/oliver/P8pjd1QEA0c/101678/vokens/face_annot_224/$filename%05d.jpg\"\n"
     ]
    }
   ],
   "source": [
    "# P8pjd1QEA0c_101678\n",
    "interval_video_path = '/Users/staveshemesh/Projects/PATS_DATA/Youtube/oliver/P8pjd1QEA0c/101678/101678.mp4'\n",
    "interval_frames_dir = '/Users/staveshemesh/Projects/PATS_DATA/Youtube/oliver/P8pjd1QEA0c/101678/vokens/face_annot_224'\n",
    "video_to_frames_and_delete(interval_video_path, interval_frames_dir, override=True)"
   ]
  },
  {
   "cell_type": "code",
   "execution_count": null,
   "metadata": {},
   "outputs": [],
   "source": [
    "for interval_video_path, interval_frames_dir in tqdm(zip(interval_video_paths, interval_frames_dirs)):\n",
    "    video_to_frames_and_delete(interval_video_path, interval_frames_dir, override=True)"
   ]
  }
 ],
 "metadata": {
  "kernelspec": {
   "display_name": "Python 3",
   "language": "python",
   "name": "python3"
  },
  "language_info": {
   "codemirror_mode": {
    "name": "ipython",
    "version": 3
   },
   "file_extension": ".py",
   "mimetype": "text/x-python",
   "name": "python",
   "nbconvert_exporter": "python",
   "pygments_lexer": "ipython3",
   "version": "3.9.5"
  },
  "toc": {
   "base_numbering": 1,
   "nav_menu": {},
   "number_sections": true,
   "sideBar": true,
   "skip_h1_title": false,
   "title_cell": "Table of Contents",
   "title_sidebar": "Contents",
   "toc_cell": false,
   "toc_position": {},
   "toc_section_display": true,
   "toc_window_display": false
  },
  "toc-showcode": false
 },
 "nbformat": 4,
 "nbformat_minor": 4
}
