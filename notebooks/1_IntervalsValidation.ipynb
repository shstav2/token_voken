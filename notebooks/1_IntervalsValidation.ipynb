{
 "cells": [
  {
   "cell_type": "markdown",
   "metadata": {},
   "source": [
    "# Imports"
   ]
  },
  {
   "cell_type": "code",
   "execution_count": 23,
   "metadata": {
    "ExecuteTime": {
     "end_time": "2021-01-17T10:20:35.569777Z",
     "start_time": "2021-01-17T10:20:34.256242Z"
    },
    "jupyter": {
     "source_hidden": true
    }
   },
   "outputs": [],
   "source": [
    "import os\n",
    "import sys\n",
    "import h5py\n",
    "import time\n",
    "import youtube_dl\n",
    "\n",
    "import numpy as np\n",
    "import pandas as pd\n",
    "\n",
    "import seaborn as sns\n",
    "from pprint import pprint\n",
    "import matplotlib.pyplot as plt\n",
    "from ipywidgets import interact\n",
    "from IPython.display import YouTubeVideo, Markdown, display, Video, Image\n",
    "\n",
    "from tqdm.notebook import tqdm\n",
    "tqdm.pandas()"
   ]
  },
  {
   "cell_type": "code",
   "execution_count": 2,
   "metadata": {
    "jupyter": {
     "source_hidden": true
    }
   },
   "outputs": [],
   "source": [
    "sys.path.append('/Users/staveshemesh/Projects/shstav2/token_voken/src')\n",
    "sys.path.append('/Users/staveshemesh/Projects/shstav2/token_voken')"
   ]
  },
  {
   "cell_type": "code",
   "execution_count": 3,
   "metadata": {
    "ExecuteTime": {
     "end_time": "2021-01-17T10:20:35.575362Z",
     "start_time": "2021-01-17T10:20:35.572207Z"
    },
    "jupyter": {
     "source_hidden": true
    }
   },
   "outputs": [],
   "source": [
    "pd.set_option('display.max_colwidth', 200)\n",
    "pd.options.display.float_format = '{:,.2f}'.format"
   ]
  },
  {
   "cell_type": "markdown",
   "metadata": {},
   "source": [
    "# Constants"
   ]
  },
  {
   "cell_type": "code",
   "execution_count": 4,
   "metadata": {
    "jupyter": {
     "source_hidden": true
    }
   },
   "outputs": [],
   "source": [
    "FRAME_RATE = 15\n",
    "SPEAKER_NAME = 'oliver'\n",
    "\n",
    "DATA_ROOT = '/Users/staveshemesh/Projects/PATS_DATA/'\n",
    "SPEAKER_DATA_DIR = os.path.join(DATA_ROOT, f'Processed/{SPEAKER_NAME}/data')\n",
    "\n",
    "# All Intervals Raw Data\n",
    "INTERVALS_FILE_NAME = 'cmu_intervals_df.csv'\n",
    "INTERVALS_PATH = os.path.join(SPEAKER_DATA_DIR, INTERVALS_FILE_NAME)\n",
    "\n",
    "# Speaker Data\n",
    "# /Users/staveshemesh/Projects/PATS_DATA/Processed/oliver/data/processed/oliver/ {100905.h5, 217103.h5}\n",
    "SPEAKER_PATS_INTERVAL_DIR = os.path.join(DATA_ROOT, f'Processed/{SPEAKER_NAME}/data/processed/{SPEAKER_NAME}')\n",
    "SPEAKER_YOUTUBE_DATA_DIR = os.path.join(DATA_ROOT, f'Youtube/{SPEAKER_NAME}/')\n",
    "\n",
    "# Processed Data\n",
    "INTERVALS_PATH_CACHE = os.path.join(DATA_ROOT, 'Sample/df_intervals_all.csv')"
   ]
  },
  {
   "cell_type": "code",
   "execution_count": 5,
   "metadata": {
    "jupyter": {
     "source_hidden": true
    }
   },
   "outputs": [],
   "source": [
    "TIMESTR = time.strftime(\"%Y%m%d_%H%M%S\")\n",
    "\n",
    "OUTPUT_ROOT = '/Users/staveshemesh/Projects/shstav2/token_voken/data/'\n",
    "OUTPUT_DIR = os.path.join(OUTPUT_ROOT, TIMESTR, 'dataframes')"
   ]
  },
  {
   "cell_type": "code",
   "execution_count": 6,
   "metadata": {
    "jupyter": {
     "source_hidden": true
    }
   },
   "outputs": [],
   "source": [
    "LIST_BULLET = '  ◘ '\n",
    "TAB = '&nbsp;&nbsp;&nbsp;&nbsp;'\n",
    "VIDEO_ID_LEN = 11"
   ]
  },
  {
   "cell_type": "markdown",
   "metadata": {},
   "source": [
    "# Helpers"
   ]
  },
  {
   "cell_type": "markdown",
   "metadata": {},
   "source": [
    "## Resolvers"
   ]
  },
  {
   "cell_type": "code",
   "execution_count": 7,
   "metadata": {
    "jupyter": {
     "source_hidden": true
    }
   },
   "outputs": [],
   "source": [
    "from src.path_resolvers import *"
   ]
  },
  {
   "cell_type": "markdown",
   "metadata": {},
   "source": [
    "## Data Processing"
   ]
  },
  {
   "cell_type": "code",
   "execution_count": 8,
   "metadata": {
    "jupyter": {
     "source_hidden": true
    }
   },
   "outputs": [],
   "source": [
    "def read_text(interval_id, debug=False):\n",
    "    interval_text_path = resolve_interval_text_path(interval_id)\n",
    "    if debug:\n",
    "        print('resolve_interval_text_path: ', interval_text_path)\n",
    "    df_token_frames_interval = pd.read_hdf(interval_text_path)\n",
    "    df_token_frames_interval['start_frame'] = df_token_frames_interval['start_frame'].astype(int)\n",
    "    df_token_frames_interval['end_frame'] = df_token_frames_interval['end_frame'].astype(int)\n",
    "    df_token_frames_interval['frames_count'] = df_token_frames_interval['end_frame'] - df_token_frames_interval['start_frame']\n",
    "    df_token_frames_interval['time'] = round(df_token_frames_interval['end_frame'] / FRAME_RATE, 1)\n",
    "    return df_token_frames_interval"
   ]
  },
  {
   "cell_type": "code",
   "execution_count": 9,
   "metadata": {
    "jupyter": {
     "source_hidden": true
    }
   },
   "outputs": [],
   "source": [
    "def process_intervals(df_intervals_all):\n",
    "    df_intervals_all['org_start_time'] = df_intervals_all['start_time']\n",
    "    df_intervals_all['org_end_time'] = df_intervals_all['end_time']\n",
    "\n",
    "    df_intervals_all['start_time'] = pd.to_timedelta(df_intervals_all['start_time'].str.slice(11, 22))\n",
    "    df_intervals_all['end_time'] = pd.to_timedelta(df_intervals_all['end_time'].str.slice(11, 22))\n",
    "\n",
    "    time_format_func = lambda x: f'{x.components.hours:02d}:{x.components.minutes:02d}:{x.components.seconds:02d}.{x.components.milliseconds//10}' if not pd.isnull(x) else ''\n",
    "    df_intervals_all['start_time_string'] = df_intervals_all['start_time'].apply(time_format_func)\n",
    "    df_intervals_all['end_time_string'] = df_intervals_all['end_time'].apply(time_format_func)\n",
    "    \n",
    "    df_intervals_all['video_id'] = df_intervals_all['video_link'].str.slice(start=-VIDEO_ID_LEN)"
   ]
  },
  {
   "cell_type": "markdown",
   "metadata": {},
   "source": [
    "## Run Commands"
   ]
  },
  {
   "cell_type": "code",
   "execution_count": 10,
   "metadata": {
    "jupyter": {
     "source_hidden": true
    }
   },
   "outputs": [],
   "source": [
    "from src.commands import run_command"
   ]
  },
  {
   "cell_type": "markdown",
   "metadata": {},
   "source": [
    "## Display Utils"
   ]
  },
  {
   "cell_type": "code",
   "execution_count": 11,
   "metadata": {
    "jupyter": {
     "source_hidden": true
    }
   },
   "outputs": [],
   "source": [
    "from src.display_utils import *"
   ]
  },
  {
   "cell_type": "markdown",
   "metadata": {},
   "source": [
    "# Read Data"
   ]
  },
  {
   "cell_type": "code",
   "execution_count": 18,
   "metadata": {
    "jupyter": {
     "source_hidden": true
    }
   },
   "outputs": [
    {
     "name": "stdout",
     "output_type": "stream",
     "text": [
      "total 366720\n",
      "drwxr-xr-x@ 7 staveshemesh  staff        224 Apr 20 12:07 \u001b[1m\u001b[36m.\u001b[m\u001b[m\n",
      "drwxr-xr-x@ 4 staveshemesh  staff        128 Apr 20 12:07 \u001b[1m\u001b[36m..\u001b[m\u001b[m\n",
      "-rw-r--r--@ 1 staveshemesh  staff       6148 Apr 20 12:07 .DS_Store\n",
      "-rw-rw-r--@ 1 staveshemesh  staff   16269612 Aug 24  2020 cmu_intervals_df.csv\n",
      "-rw-rw-r--@ 1 staveshemesh  staff     505427 Aug 24  2020 cmu_intervals_df_transforms.csv\n",
      "-rw-rw-r--@ 1 staveshemesh  staff  170969952 Aug 24  2020 missing_intervals.h5\n",
      "drwxr-xr-x@ 4 staveshemesh  staff        128 Mar  7 13:41 \u001b[1m\u001b[36mprocessed\u001b[m\u001b[m\n"
     ]
    }
   ],
   "source": [
    "!ls -al {PATS_SPEAKER_DATA_DIR}"
   ]
  },
  {
   "cell_type": "code",
   "execution_count": 17,
   "metadata": {
    "jupyter": {
     "source_hidden": true
    }
   },
   "outputs": [
    {
     "name": "stdout",
     "output_type": "stream",
     "text": [
      "/Users/staveshemesh/Projects/PATS_DATA/Processed/oliver/data/processed/oliver\n",
      "   Total Intervals:     2125\n"
     ]
    }
   ],
   "source": [
    "! echo {PATS_SPEAKER_PATS_INTERVAL_DIR}\n",
    "print('   Total Intervals:', end=' ')\n",
    "! ls -al {PATS_SPEAKER_PATS_INTERVAL_DIR} | wc -l"
   ]
  },
  {
   "cell_type": "markdown",
   "metadata": {},
   "source": [
    "## df_intervals_all (cmu_intervals_df.csv)"
   ]
  },
  {
   "cell_type": "code",
   "execution_count": 19,
   "metadata": {
    "jupyter": {
     "source_hidden": true
    }
   },
   "outputs": [
    {
     "name": "stderr",
     "output_type": "stream",
     "text": [
      "/Users/staveshemesh/.pyenv/versions/3.6.8/lib/python3.6/site-packages/IPython/core/interactiveshell.py:3072: DtypeWarning: Columns (5) have mixed types. Specify dtype option on import or set low_memory=False.\n",
      "  interactivity=interactivity, compiler=compiler, result=result)\n"
     ]
    }
   ],
   "source": [
    "df_intervals_all = pd.read_csv(INTERVALS_PATH_CACHE)\n",
    "df_intervals_all.rename(columns={'delta_time': 'duration'}, inplace=True)"
   ]
  },
  {
   "cell_type": "code",
   "execution_count": 20,
   "metadata": {
    "jupyter": {
     "source_hidden": true
    }
   },
   "outputs": [],
   "source": [
    "COLS_VALIDITY = [\n",
    "    'valid',\n",
    "    'valid_max_frames_per_token',\n",
    "    'valid_duration',\n",
    "    'valid_single_token_per_frame'\n",
    "]\n",
    "COLS_VIEW = [\n",
    "    'speaker', 'interval_id',\n",
    "    'duration', 'start_time_string', 'end_time_string',\n",
    "    'video_link'\n",
    "]"
   ]
  },
  {
   "cell_type": "markdown",
   "metadata": {},
   "source": [
    "## df_intervals"
   ]
  },
  {
   "cell_type": "code",
   "execution_count": 21,
   "metadata": {
    "jupyter": {
     "source_hidden": true
    }
   },
   "outputs": [],
   "source": [
    "MASK_SPEAKER = df_intervals_all['speaker'] == SPEAKER_NAME"
   ]
  },
  {
   "cell_type": "code",
   "execution_count": 22,
   "metadata": {
    "ExecuteTime": {
     "end_time": "2021-01-17T10:20:36.300683Z",
     "start_time": "2021-01-17T10:20:36.280070Z"
    },
    "jupyter": {
     "source_hidden": true
    }
   },
   "outputs": [
    {
     "data": {
      "text/html": [
       "<div>\n",
       "<style scoped>\n",
       "    .dataframe tbody tr th:only-of-type {\n",
       "        vertical-align: middle;\n",
       "    }\n",
       "\n",
       "    .dataframe tbody tr th {\n",
       "        vertical-align: top;\n",
       "    }\n",
       "\n",
       "    .dataframe thead th {\n",
       "        text-align: right;\n",
       "    }\n",
       "</style>\n",
       "<table border=\"1\" class=\"dataframe\">\n",
       "  <thead>\n",
       "    <tr style=\"text-align: right;\">\n",
       "      <th></th>\n",
       "      <th>speaker</th>\n",
       "      <th>interval_id</th>\n",
       "      <th>duration</th>\n",
       "      <th>start_time_string</th>\n",
       "      <th>end_time_string</th>\n",
       "      <th>video_link</th>\n",
       "    </tr>\n",
       "  </thead>\n",
       "  <tbody>\n",
       "    <tr>\n",
       "      <th>45583</th>\n",
       "      <td>oliver</td>\n",
       "      <td>103902</td>\n",
       "      <td>7.27</td>\n",
       "      <td>00:08:45.99</td>\n",
       "      <td>00:08:53.26</td>\n",
       "      <td>http://www.youtube.com/watch?v=fpbOEoRrHyU</td>\n",
       "    </tr>\n",
       "    <tr>\n",
       "      <th>47734</th>\n",
       "      <td>oliver</td>\n",
       "      <td>105212</td>\n",
       "      <td>44.58</td>\n",
       "      <td>00:04:06.34</td>\n",
       "      <td>00:04:50.92</td>\n",
       "      <td>http://www.youtube.com/watch?v=LfgSEwjAeno</td>\n",
       "    </tr>\n",
       "    <tr>\n",
       "      <th>44869</th>\n",
       "      <td>oliver</td>\n",
       "      <td>104866</td>\n",
       "      <td>2.34</td>\n",
       "      <td>00:00:05.60</td>\n",
       "      <td>00:00:07.94</td>\n",
       "      <td>http://www.youtube.com/watch?v=nG2pEffLEJo</td>\n",
       "    </tr>\n",
       "  </tbody>\n",
       "</table>\n",
       "</div>"
      ],
      "text/plain": [
       "      speaker interval_id  duration start_time_string end_time_string  \\\n",
       "45583  oliver      103902      7.27       00:08:45.99     00:08:53.26   \n",
       "47734  oliver      105212     44.58       00:04:06.34     00:04:50.92   \n",
       "44869  oliver      104866      2.34       00:00:05.60     00:00:07.94   \n",
       "\n",
       "                                       video_link  \n",
       "45583  http://www.youtube.com/watch?v=fpbOEoRrHyU  \n",
       "47734  http://www.youtube.com/watch?v=LfgSEwjAeno  \n",
       "44869  http://www.youtube.com/watch?v=nG2pEffLEJo  "
      ]
     },
     "execution_count": 22,
     "metadata": {},
     "output_type": "execute_result"
    }
   ],
   "source": [
    "df_intervals = df_intervals_all[MASK_SPEAKER]\n",
    "df_intervals.sample(n=3)[COLS_VIEW]"
   ]
  },
  {
   "cell_type": "code",
   "execution_count": 24,
   "metadata": {
    "jupyter": {
     "source_hidden": true
    }
   },
   "outputs": [],
   "source": [
    "def print_df_info(df):\n",
    "    print(f'{LIST_BULLET}Videos: #{df[\"video_link\"].nunique():,}')\n",
    "    print(f'{LIST_BULLET}Intervals: #{df[\"interval_id\"].nunique():,}')\n",
    "    total_duration = df[\"duration\"].sum()\n",
    "    total_duration_string = time.strftime('%H hours, %M minutues, %S seconds', time.gmtime(total_duration))\n",
    "    print(f'{LIST_BULLET}Total Duration: {total_duration_string} ({int(total_duration):,} seconds)')\n",
    "    all_youtube = df_intervals['video_link'].str.contains('youtube').all()\n",
    "    print(f'{LIST_BULLET}All are Youtube videos: {all_youtube}')"
   ]
  },
  {
   "cell_type": "code",
   "execution_count": 25,
   "metadata": {
    "jupyter": {
     "source_hidden": true
    }
   },
   "outputs": [
    {
     "data": {
      "text/markdown": [
       "Speaker **oliver**:"
      ],
      "text/plain": [
       "<IPython.core.display.Markdown object>"
      ]
     },
     "metadata": {},
     "output_type": "display_data"
    },
    {
     "name": "stdout",
     "output_type": "stream",
     "text": [
      "  ◘ Videos: #124\n",
      "  ◘ Intervals: #4,629\n",
      "  ◘ Total Duration: 18 hours, 15 minutues, 23 seconds (65,723 seconds)\n",
      "  ◘ All are Youtube videos: True\n"
     ]
    }
   ],
   "source": [
    "printmd(f'Speaker **{SPEAKER_NAME}**:')\n",
    "print_df_info(df_intervals)"
   ]
  },
  {
   "cell_type": "markdown",
   "metadata": {},
   "source": [
    "## df_videos"
   ]
  },
  {
   "cell_type": "markdown",
   "metadata": {},
   "source": [
    "### Cols"
   ]
  },
  {
   "cell_type": "code",
   "execution_count": 26,
   "metadata": {
    "jupyter": {
     "source_hidden": true
    }
   },
   "outputs": [],
   "source": [
    "COLS_VIDEOS = [\n",
    "    'video_link',\n",
    "    'data_ratio', 'duration_net', 'duration_total',\n",
    "    'num_intervals'\n",
    "]"
   ]
  },
  {
   "cell_type": "markdown",
   "metadata": {},
   "source": [
    "### Duration: Net and Total"
   ]
  },
  {
   "cell_type": "code",
   "execution_count": 27,
   "metadata": {
    "jupyter": {
     "source_hidden": true
    }
   },
   "outputs": [
    {
     "name": "stdout",
     "output_type": "stream",
     "text": [
      "df_videos: 124\n"
     ]
    },
    {
     "data": {
      "text/html": [
       "<div>\n",
       "<style scoped>\n",
       "    .dataframe tbody tr th:only-of-type {\n",
       "        vertical-align: middle;\n",
       "    }\n",
       "\n",
       "    .dataframe tbody tr th {\n",
       "        vertical-align: top;\n",
       "    }\n",
       "\n",
       "    .dataframe thead th {\n",
       "        text-align: right;\n",
       "    }\n",
       "</style>\n",
       "<table border=\"1\" class=\"dataframe\">\n",
       "  <thead>\n",
       "    <tr style=\"text-align: right;\">\n",
       "      <th></th>\n",
       "      <th>video_link</th>\n",
       "      <th>duration_net</th>\n",
       "      <th>num_intervals</th>\n",
       "    </tr>\n",
       "  </thead>\n",
       "  <tbody>\n",
       "    <tr>\n",
       "      <th>0</th>\n",
       "      <td>http://www.youtube.com/watch?v=0Rnq1NpHdmw</td>\n",
       "      <td>711.64</td>\n",
       "      <td>37</td>\n",
       "    </tr>\n",
       "    <tr>\n",
       "      <th>1</th>\n",
       "      <td>http://www.youtube.com/watch?v=2sWRXr2Yu9g</td>\n",
       "      <td>104.77</td>\n",
       "      <td>5</td>\n",
       "    </tr>\n",
       "    <tr>\n",
       "      <th>2</th>\n",
       "      <td>http://www.youtube.com/watch?v=3FCioWz7aps</td>\n",
       "      <td>52.72</td>\n",
       "      <td>4</td>\n",
       "    </tr>\n",
       "    <tr>\n",
       "      <th>3</th>\n",
       "      <td>http://www.youtube.com/watch?v=3bxcc3SM_KA</td>\n",
       "      <td>328.06</td>\n",
       "      <td>68</td>\n",
       "    </tr>\n",
       "    <tr>\n",
       "      <th>4</th>\n",
       "      <td>http://www.youtube.com/watch?v=3kEpZWGgJks</td>\n",
       "      <td>505.44</td>\n",
       "      <td>63</td>\n",
       "    </tr>\n",
       "  </tbody>\n",
       "</table>\n",
       "</div>"
      ],
      "text/plain": [
       "                                   video_link  duration_net  num_intervals\n",
       "0  http://www.youtube.com/watch?v=0Rnq1NpHdmw        711.64             37\n",
       "1  http://www.youtube.com/watch?v=2sWRXr2Yu9g        104.77              5\n",
       "2  http://www.youtube.com/watch?v=3FCioWz7aps         52.72              4\n",
       "3  http://www.youtube.com/watch?v=3bxcc3SM_KA        328.06             68\n",
       "4  http://www.youtube.com/watch?v=3kEpZWGgJks        505.44             63"
      ]
     },
     "execution_count": 27,
     "metadata": {},
     "output_type": "execute_result"
    }
   ],
   "source": [
    "df_videos = df_intervals.groupby('video_link')['duration'].agg(['sum','count']).reset_index()\n",
    "df_videos.rename(columns={'sum': 'duration_net', 'count': 'num_intervals'}, inplace=True)\n",
    "print(f'df_videos: {df_videos.shape[0]}')\n",
    "df_videos.head()"
   ]
  },
  {
   "cell_type": "code",
   "execution_count": 28,
   "metadata": {
    "jupyter": {
     "source_hidden": true
    }
   },
   "outputs": [
    {
     "data": {
      "application/vnd.jupyter.widget-view+json": {
       "model_id": "394b26fb217a4215a05a0e53a915312c",
       "version_major": 2,
       "version_minor": 0
      },
      "text/plain": [
       "HBox(children=(FloatProgress(value=0.0, max=124.0), HTML(value='')))"
      ]
     },
     "metadata": {},
     "output_type": "display_data"
    },
    {
     "name": "stdout",
     "output_type": "stream",
     "text": [
      "\n"
     ]
    }
   ],
   "source": [
    "with youtube_dl.YoutubeDL({'quiet': True}) as ydl:\n",
    "    df_videos['duration_total'] = df_videos['video_link'].progress_apply(lambda url: ydl.extract_info(url, download=False).get('duration', 0))"
   ]
  },
  {
   "cell_type": "code",
   "execution_count": 29,
   "metadata": {
    "jupyter": {
     "source_hidden": true
    }
   },
   "outputs": [
    {
     "data": {
      "text/html": [
       "<div>\n",
       "<style scoped>\n",
       "    .dataframe tbody tr th:only-of-type {\n",
       "        vertical-align: middle;\n",
       "    }\n",
       "\n",
       "    .dataframe tbody tr th {\n",
       "        vertical-align: top;\n",
       "    }\n",
       "\n",
       "    .dataframe thead th {\n",
       "        text-align: right;\n",
       "    }\n",
       "</style>\n",
       "<table border=\"1\" class=\"dataframe\">\n",
       "  <thead>\n",
       "    <tr style=\"text-align: right;\">\n",
       "      <th></th>\n",
       "      <th>video_link</th>\n",
       "      <th>data_ratio</th>\n",
       "      <th>duration_net</th>\n",
       "      <th>duration_total</th>\n",
       "      <th>num_intervals</th>\n",
       "    </tr>\n",
       "  </thead>\n",
       "  <tbody>\n",
       "    <tr>\n",
       "      <th>92</th>\n",
       "      <td>http://www.youtube.com/watch?v=rrawNvcF64g</td>\n",
       "      <td>76.44</td>\n",
       "      <td>142.94</td>\n",
       "      <td>187</td>\n",
       "      <td>5</td>\n",
       "    </tr>\n",
       "    <tr>\n",
       "      <th>26</th>\n",
       "      <td>http://www.youtube.com/watch?v=DnpO_RTSNmQ</td>\n",
       "      <td>75.29</td>\n",
       "      <td>988.52</td>\n",
       "      <td>1313</td>\n",
       "      <td>43</td>\n",
       "    </tr>\n",
       "    <tr>\n",
       "      <th>28</th>\n",
       "      <td>http://www.youtube.com/watch?v=FVFdsl29s_Q</td>\n",
       "      <td>74.79</td>\n",
       "      <td>1,081.40</td>\n",
       "      <td>1446</td>\n",
       "      <td>42</td>\n",
       "    </tr>\n",
       "    <tr>\n",
       "      <th>60</th>\n",
       "      <td>http://www.youtube.com/watch?v=_S2G8jhhUHg</td>\n",
       "      <td>74.29</td>\n",
       "      <td>644.11</td>\n",
       "      <td>867</td>\n",
       "      <td>33</td>\n",
       "    </tr>\n",
       "    <tr>\n",
       "      <th>10</th>\n",
       "      <td>http://www.youtube.com/watch?v=5d667Bb_iYA</td>\n",
       "      <td>73.85</td>\n",
       "      <td>653.59</td>\n",
       "      <td>885</td>\n",
       "      <td>37</td>\n",
       "    </tr>\n",
       "  </tbody>\n",
       "</table>\n",
       "</div>"
      ],
      "text/plain": [
       "                                    video_link  data_ratio  duration_net  \\\n",
       "92  http://www.youtube.com/watch?v=rrawNvcF64g       76.44        142.94   \n",
       "26  http://www.youtube.com/watch?v=DnpO_RTSNmQ       75.29        988.52   \n",
       "28  http://www.youtube.com/watch?v=FVFdsl29s_Q       74.79      1,081.40   \n",
       "60  http://www.youtube.com/watch?v=_S2G8jhhUHg       74.29        644.11   \n",
       "10  http://www.youtube.com/watch?v=5d667Bb_iYA       73.85        653.59   \n",
       "\n",
       "    duration_total  num_intervals  \n",
       "92             187              5  \n",
       "26            1313             43  \n",
       "28            1446             42  \n",
       "60             867             33  \n",
       "10             885             37  "
      ]
     },
     "execution_count": 29,
     "metadata": {},
     "output_type": "execute_result"
    }
   ],
   "source": [
    "df_videos['data_ratio'] = df_videos['duration_net'] / df_videos['duration_total'] * 100\n",
    "df_videos.sort_values('data_ratio', ascending=False, inplace=True)\n",
    "df_videos = df_videos[COLS_VIDEOS]\n",
    "df_videos.head()"
   ]
  },
  {
   "cell_type": "code",
   "execution_count": 23,
   "metadata": {
    "jupyter": {
     "source_hidden": true
    }
   },
   "outputs": [
    {
     "data": {
      "text/html": [
       "<div>\n",
       "<style scoped>\n",
       "    .dataframe tbody tr th:only-of-type {\n",
       "        vertical-align: middle;\n",
       "    }\n",
       "\n",
       "    .dataframe tbody tr th {\n",
       "        vertical-align: top;\n",
       "    }\n",
       "\n",
       "    .dataframe thead th {\n",
       "        text-align: right;\n",
       "    }\n",
       "</style>\n",
       "<table border=\"1\" class=\"dataframe\">\n",
       "  <thead>\n",
       "    <tr style=\"text-align: right;\">\n",
       "      <th></th>\n",
       "      <th>video_link</th>\n",
       "      <th>data_ratio</th>\n",
       "      <th>duration_net</th>\n",
       "      <th>duration_total</th>\n",
       "      <th>num_intervals</th>\n",
       "    </tr>\n",
       "  </thead>\n",
       "  <tbody>\n",
       "    <tr>\n",
       "      <th>120</th>\n",
       "      <td>https://www.youtube.com/watch?v=l9qA8c-E_oA</td>\n",
       "      <td>25.42</td>\n",
       "      <td>67.87</td>\n",
       "      <td>267</td>\n",
       "      <td>3</td>\n",
       "    </tr>\n",
       "    <tr>\n",
       "      <th>9</th>\n",
       "      <td>http://www.youtube.com/watch?v=5cBV8KFFasY</td>\n",
       "      <td>23.60</td>\n",
       "      <td>126.00</td>\n",
       "      <td>534</td>\n",
       "      <td>7</td>\n",
       "    </tr>\n",
       "    <tr>\n",
       "      <th>68</th>\n",
       "      <td>http://www.youtube.com/watch?v=dH573B1bkHI</td>\n",
       "      <td>21.11</td>\n",
       "      <td>36.30</td>\n",
       "      <td>172</td>\n",
       "      <td>3</td>\n",
       "    </tr>\n",
       "    <tr>\n",
       "      <th>46</th>\n",
       "      <td>http://www.youtube.com/watch?v=UC_gXD5OE88</td>\n",
       "      <td>20.45</td>\n",
       "      <td>79.55</td>\n",
       "      <td>389</td>\n",
       "      <td>5</td>\n",
       "    </tr>\n",
       "    <tr>\n",
       "      <th>105</th>\n",
       "      <td>https://www.youtube.com/watch?v=-Z668Qc0P4Q</td>\n",
       "      <td>0.45</td>\n",
       "      <td>6.40</td>\n",
       "      <td>1412</td>\n",
       "      <td>1</td>\n",
       "    </tr>\n",
       "  </tbody>\n",
       "</table>\n",
       "</div>"
      ],
      "text/plain": [
       "                                      video_link  data_ratio  duration_net  \\\n",
       "120  https://www.youtube.com/watch?v=l9qA8c-E_oA       25.42         67.87   \n",
       "9     http://www.youtube.com/watch?v=5cBV8KFFasY       23.60        126.00   \n",
       "68    http://www.youtube.com/watch?v=dH573B1bkHI       21.11         36.30   \n",
       "46    http://www.youtube.com/watch?v=UC_gXD5OE88       20.45         79.55   \n",
       "105  https://www.youtube.com/watch?v=-Z668Qc0P4Q        0.45          6.40   \n",
       "\n",
       "     duration_total  num_intervals  \n",
       "120             267              3  \n",
       "9               534              7  \n",
       "68              172              3  \n",
       "46              389              5  \n",
       "105            1412              1  "
      ]
     },
     "execution_count": 23,
     "metadata": {},
     "output_type": "execute_result"
    }
   ],
   "source": [
    "df_videos.tail()"
   ]
  },
  {
   "cell_type": "code",
   "execution_count": 24,
   "metadata": {
    "jupyter": {
     "source_hidden": true
    }
   },
   "outputs": [
    {
     "data": {
      "image/png": "[encoded data removed]",
      "text/plain": [
       "<Figure size 360x360 with 1 Axes>"
      ]
     },
     "metadata": {
      "needs_background": "light"
     },
     "output_type": "display_data"
    }
   ],
   "source": [
    "sns.displot(df_videos['data_ratio']);"
   ]
  },
  {
   "cell_type": "code",
   "execution_count": 25,
   "metadata": {
    "jupyter": {
     "source_hidden": true
    }
   },
   "outputs": [
    {
     "data": {
      "text/html": [
       "<div>\n",
       "<style scoped>\n",
       "    .dataframe tbody tr th:only-of-type {\n",
       "        vertical-align: middle;\n",
       "    }\n",
       "\n",
       "    .dataframe tbody tr th {\n",
       "        vertical-align: top;\n",
       "    }\n",
       "\n",
       "    .dataframe thead th {\n",
       "        text-align: right;\n",
       "    }\n",
       "</style>\n",
       "<table border=\"1\" class=\"dataframe\">\n",
       "  <thead>\n",
       "    <tr style=\"text-align: right;\">\n",
       "      <th></th>\n",
       "      <th>data_ratio</th>\n",
       "    </tr>\n",
       "  </thead>\n",
       "  <tbody>\n",
       "    <tr>\n",
       "      <th>count</th>\n",
       "      <td>124.00</td>\n",
       "    </tr>\n",
       "    <tr>\n",
       "      <th>mean</th>\n",
       "      <td>57.70</td>\n",
       "    </tr>\n",
       "    <tr>\n",
       "      <th>std</th>\n",
       "      <td>13.74</td>\n",
       "    </tr>\n",
       "    <tr>\n",
       "      <th>min</th>\n",
       "      <td>0.45</td>\n",
       "    </tr>\n",
       "    <tr>\n",
       "      <th>25%</th>\n",
       "      <td>52.87</td>\n",
       "    </tr>\n",
       "    <tr>\n",
       "      <th>50%</th>\n",
       "      <td>60.92</td>\n",
       "    </tr>\n",
       "    <tr>\n",
       "      <th>75%</th>\n",
       "      <td>67.56</td>\n",
       "    </tr>\n",
       "    <tr>\n",
       "      <th>max</th>\n",
       "      <td>76.44</td>\n",
       "    </tr>\n",
       "  </tbody>\n",
       "</table>\n",
       "</div>"
      ],
      "text/plain": [
       "       data_ratio\n",
       "count      124.00\n",
       "mean        57.70\n",
       "std         13.74\n",
       "min          0.45\n",
       "25%         52.87\n",
       "50%         60.92\n",
       "75%         67.56\n",
       "max         76.44"
      ]
     },
     "execution_count": 25,
     "metadata": {},
     "output_type": "execute_result"
    }
   ],
   "source": [
    "df_videos['data_ratio'].describe().to_frame()"
   ]
  },
  {
   "cell_type": "code",
   "execution_count": 26,
   "metadata": {
    "jupyter": {
     "source_hidden": true
    }
   },
   "outputs": [
    {
     "data": {
      "image/png": "[encoded data removed]",
      "text/plain": [
       "<Figure size 360x360 with 1 Axes>"
      ]
     },
     "metadata": {
      "needs_background": "light"
     },
     "output_type": "display_data"
    }
   ],
   "source": [
    "sns.displot(df_videos['duration_total']);"
   ]
  },
  {
   "cell_type": "code",
   "execution_count": 27,
   "metadata": {
    "jupyter": {
     "source_hidden": true
    }
   },
   "outputs": [
    {
     "data": {
      "text/html": [
       "<div>\n",
       "<style scoped>\n",
       "    .dataframe tbody tr th:only-of-type {\n",
       "        vertical-align: middle;\n",
       "    }\n",
       "\n",
       "    .dataframe tbody tr th {\n",
       "        vertical-align: top;\n",
       "    }\n",
       "\n",
       "    .dataframe thead th {\n",
       "        text-align: right;\n",
       "    }\n",
       "</style>\n",
       "<table border=\"1\" class=\"dataframe\">\n",
       "  <thead>\n",
       "    <tr style=\"text-align: right;\">\n",
       "      <th></th>\n",
       "      <th>duration_total</th>\n",
       "    </tr>\n",
       "  </thead>\n",
       "  <tbody>\n",
       "    <tr>\n",
       "      <th>count</th>\n",
       "      <td>124.00</td>\n",
       "    </tr>\n",
       "    <tr>\n",
       "      <th>mean</th>\n",
       "      <td>885.64</td>\n",
       "    </tr>\n",
       "    <tr>\n",
       "      <th>std</th>\n",
       "      <td>411.25</td>\n",
       "    </tr>\n",
       "    <tr>\n",
       "      <th>min</th>\n",
       "      <td>38.00</td>\n",
       "    </tr>\n",
       "    <tr>\n",
       "      <th>25%</th>\n",
       "      <td>678.00</td>\n",
       "    </tr>\n",
       "    <tr>\n",
       "      <th>50%</th>\n",
       "      <td>999.50</td>\n",
       "    </tr>\n",
       "    <tr>\n",
       "      <th>75%</th>\n",
       "      <td>1,163.25</td>\n",
       "    </tr>\n",
       "    <tr>\n",
       "      <th>max</th>\n",
       "      <td>1,994.00</td>\n",
       "    </tr>\n",
       "  </tbody>\n",
       "</table>\n",
       "</div>"
      ],
      "text/plain": [
       "       duration_total\n",
       "count          124.00\n",
       "mean           885.64\n",
       "std            411.25\n",
       "min             38.00\n",
       "25%            678.00\n",
       "50%            999.50\n",
       "75%          1,163.25\n",
       "max          1,994.00"
      ]
     },
     "execution_count": 27,
     "metadata": {},
     "output_type": "execute_result"
    }
   ],
   "source": [
    "df_videos['duration_total'].describe().to_frame()"
   ]
  },
  {
   "cell_type": "markdown",
   "metadata": {},
   "source": [
    "## df_words"
   ]
  },
  {
   "cell_type": "code",
   "execution_count": 57,
   "metadata": {
    "jupyter": {
     "source_hidden": true
    }
   },
   "outputs": [],
   "source": [
    "speaker_interval_ids = df_intervals['interval_id'].tolist()"
   ]
  },
  {
   "cell_type": "code",
   "execution_count": 52,
   "metadata": {
    "jupyter": {
     "source_hidden": true
    },
    "tags": []
   },
   "outputs": [
    {
     "data": {
      "text/html": [
       "<div>\n",
       "<style scoped>\n",
       "    .dataframe tbody tr th:only-of-type {\n",
       "        vertical-align: middle;\n",
       "    }\n",
       "\n",
       "    .dataframe tbody tr th {\n",
       "        vertical-align: top;\n",
       "    }\n",
       "\n",
       "    .dataframe thead th {\n",
       "        text-align: right;\n",
       "    }\n",
       "</style>\n",
       "<table border=\"1\" class=\"dataframe\">\n",
       "  <thead>\n",
       "    <tr style=\"text-align: right;\">\n",
       "      <th></th>\n",
       "      <th>Word</th>\n",
       "      <th>start_frame</th>\n",
       "      <th>end_frame</th>\n",
       "      <th>frames_count</th>\n",
       "      <th>time</th>\n",
       "    </tr>\n",
       "  </thead>\n",
       "  <tbody>\n",
       "    <tr>\n",
       "      <th>0</th>\n",
       "      <td>or</td>\n",
       "      <td>0</td>\n",
       "      <td>4</td>\n",
       "      <td>4</td>\n",
       "      <td>0.30</td>\n",
       "    </tr>\n",
       "    <tr>\n",
       "      <th>1</th>\n",
       "      <td>targeted</td>\n",
       "      <td>4</td>\n",
       "      <td>12</td>\n",
       "      <td>8</td>\n",
       "      <td>0.80</td>\n",
       "    </tr>\n",
       "    <tr>\n",
       "      <th>2</th>\n",
       "      <td>regulation</td>\n",
       "      <td>12</td>\n",
       "      <td>21</td>\n",
       "      <td>9</td>\n",
       "      <td>1.40</td>\n",
       "    </tr>\n",
       "    <tr>\n",
       "      <th>3</th>\n",
       "      <td>of</td>\n",
       "      <td>21</td>\n",
       "      <td>27</td>\n",
       "      <td>6</td>\n",
       "      <td>1.80</td>\n",
       "    </tr>\n",
       "    <tr>\n",
       "      <th>4</th>\n",
       "      <td>abortion</td>\n",
       "      <td>27</td>\n",
       "      <td>34</td>\n",
       "      <td>7</td>\n",
       "      <td>2.30</td>\n",
       "    </tr>\n",
       "    <tr>\n",
       "      <th>5</th>\n",
       "      <td>providers</td>\n",
       "      <td>34</td>\n",
       "      <td>42</td>\n",
       "      <td>8</td>\n",
       "      <td>2.80</td>\n",
       "    </tr>\n",
       "    <tr>\n",
       "      <th>6</th>\n",
       "      <td>supporters</td>\n",
       "      <td>42</td>\n",
       "      <td>58</td>\n",
       "      <td>16</td>\n",
       "      <td>3.90</td>\n",
       "    </tr>\n",
       "    <tr>\n",
       "      <th>7</th>\n",
       "      <td>to</td>\n",
       "      <td>58</td>\n",
       "      <td>63</td>\n",
       "      <td>5</td>\n",
       "      <td>4.20</td>\n",
       "    </tr>\n",
       "    <tr>\n",
       "      <th>8</th>\n",
       "      <td>an</td>\n",
       "      <td>63</td>\n",
       "      <td>64</td>\n",
       "      <td>1</td>\n",
       "      <td>4.30</td>\n",
       "    </tr>\n",
       "    <tr>\n",
       "      <th>9</th>\n",
       "      <td>earring</td>\n",
       "      <td>64</td>\n",
       "      <td>73</td>\n",
       "      <td>9</td>\n",
       "      <td>4.90</td>\n",
       "    </tr>\n",
       "    <tr>\n",
       "      <th>10</th>\n",
       "      <td>degree</td>\n",
       "      <td>73</td>\n",
       "      <td>79</td>\n",
       "      <td>6</td>\n",
       "      <td>5.30</td>\n",
       "    </tr>\n",
       "    <tr>\n",
       "      <th>11</th>\n",
       "      <td>them</td>\n",
       "      <td>79</td>\n",
       "      <td>104</td>\n",
       "      <td>25</td>\n",
       "      <td>6.90</td>\n",
       "    </tr>\n",
       "  </tbody>\n",
       "</table>\n",
       "</div>"
      ],
      "text/plain": [
       "          Word  start_frame  end_frame  frames_count  time\n",
       "0           or            0          4             4  0.30\n",
       "1     targeted            4         12             8  0.80\n",
       "2   regulation           12         21             9  1.40\n",
       "3           of           21         27             6  1.80\n",
       "4     abortion           27         34             7  2.30\n",
       "5    providers           34         42             8  2.80\n",
       "6   supporters           42         58            16  3.90\n",
       "7           to           58         63             5  4.20\n",
       "8           an           63         64             1  4.30\n",
       "9      earring           64         73             9  4.90\n",
       "10      degree           73         79             6  5.30\n",
       "11        them           79        104            25  6.90"
      ]
     },
     "execution_count": 52,
     "metadata": {},
     "output_type": "execute_result"
    }
   ],
   "source": [
    "read_text('214431')"
   ]
  },
  {
   "cell_type": "code",
   "execution_count": 61,
   "metadata": {
    "jupyter": {
     "source_hidden": true
    }
   },
   "outputs": [
    {
     "data": {
      "application/vnd.jupyter.widget-view+json": {
       "model_id": "fa594da3f92e4f49916692128e578b55",
       "version_major": 2,
       "version_minor": 0
      },
      "text/plain": [
       "HBox(children=(FloatProgress(value=0.0, max=4629.0), HTML(value='')))"
      ]
     },
     "metadata": {},
     "output_type": "display_data"
    },
    {
     "name": "stdout",
     "output_type": "stream",
     "text": [
      "\n"
     ]
    }
   ],
   "source": [
    "interval_text_status = []\n",
    "interval_id_to_df_words = {}\n",
    "\n",
    "for interval_id in tqdm(speaker_interval_ids):\n",
    "    try:\n",
    "        df_words = read_text(interval_id)\n",
    "        interval_id_to_df_words[interval_id] = df_words\n",
    "        has_text = True\n",
    "    except ValueError as e:\n",
    "        has_text = False\n",
    "    interval_text_status.append([interval_id, has_text])"
   ]
  },
  {
   "cell_type": "markdown",
   "metadata": {},
   "source": [
    "# Intervals Validity"
   ]
  },
  {
   "cell_type": "markdown",
   "metadata": {},
   "source": [
    "## Interval PATS Text"
   ]
  },
  {
   "cell_type": "markdown",
   "metadata": {},
   "source": [
    "### Has Groups (`valid_hd5`)"
   ]
  },
  {
   "cell_type": "code",
   "execution_count": 73,
   "metadata": {
    "jupyter": {
     "source_hidden": true
    }
   },
   "outputs": [
    {
     "data": {
      "text/html": [
       "<style  type=\"text/css\" >\n",
       "    #T_152c56c2_9fb9_11eb_8796_acde48001122 caption {\n",
       "          color: navy;\n",
       "          font-size: 16px;\n",
       "    }</style><table id=\"T_152c56c2_9fb9_11eb_8796_acde48001122\" ><caption>Valid hd5 group</caption><thead>    <tr>        <th class=\"blank level0\" ></th>        <th class=\"col_heading level0 col0\" >valid_hd5</th>    </tr></thead><tbody>\n",
       "                <tr>\n",
       "                        <th id=\"T_152c56c2_9fb9_11eb_8796_acde48001122level0_row0\" class=\"row_heading level0 row0\" >True</th>\n",
       "                        <td id=\"T_152c56c2_9fb9_11eb_8796_acde48001122row0_col0\" class=\"data row0 col0\" >4254</td>\n",
       "            </tr>\n",
       "            <tr>\n",
       "                        <th id=\"T_152c56c2_9fb9_11eb_8796_acde48001122level0_row1\" class=\"row_heading level0 row1\" >False</th>\n",
       "                        <td id=\"T_152c56c2_9fb9_11eb_8796_acde48001122row1_col0\" class=\"data row1 col0\" >375</td>\n",
       "            </tr>\n",
       "    </tbody></table>"
      ],
      "text/plain": [
       "<pandas.io.formats.style.Styler at 0x13abf9828>"
      ]
     },
     "metadata": {},
     "output_type": "display_data"
    }
   ],
   "source": [
    "df_interval_text_status = pd.DataFrame(interval_text_status, columns=['interval_id', 'valid_hd5'])\n",
    "df_intervals = df_intervals.merge(df_interval_text_status)\n",
    "display_value_counts(df_intervals['valid_hd5'], 'Valid hd5 group')"
   ]
  },
  {
   "cell_type": "markdown",
   "metadata": {},
   "source": [
    "### Token Frames Duration (`valid_max_token_duration`)"
   ]
  },
  {
   "cell_type": "code",
   "execution_count": 83,
   "metadata": {
    "jupyter": {
     "source_hidden": true
    }
   },
   "outputs": [
    {
     "name": "stdout",
     "output_type": "stream",
     "text": [
      "Max allowed frames per token is: 60 frames (= 4 seconds)\n"
     ]
    }
   ],
   "source": [
    "MAX_SECONDS_PER_TOKEN = 4\n",
    "MAX_FRAMES_THRESHOLD = FRAME_RATE * MAX_SECONDS_PER_TOKEN\n",
    "print(f'Max allowed frames per token is: {MAX_FRAMES_THRESHOLD} frames (= {MAX_SECONDS_PER_TOKEN} seconds)')"
   ]
  },
  {
   "cell_type": "code",
   "execution_count": 75,
   "metadata": {
    "jupyter": {
     "source_hidden": true
    }
   },
   "outputs": [],
   "source": [
    "UNKNOWN_MAX_FRAMES_PER_TOKEN = -1\n",
    "\n",
    "def get_max_frames_number_for_token(interval_id):\n",
    "    try:\n",
    "        df_tokens = interval_id_to_df_words[interval_id]\n",
    "        max_token_frames = df_tokens['frames_count'].max()\n",
    "    except:\n",
    "        max_token_frames = UNKNOWN_MAX_FRAMES_PER_TOKEN\n",
    "    return max_token_frames"
   ]
  },
  {
   "cell_type": "code",
   "execution_count": 76,
   "metadata": {
    "jupyter": {
     "source_hidden": true
    }
   },
   "outputs": [
    {
     "data": {
      "application/vnd.jupyter.widget-view+json": {
       "model_id": "64c9da86cc304b659d5ac1210a861593",
       "version_major": 2,
       "version_minor": 0
      },
      "text/plain": [
       "HBox(children=(FloatProgress(value=0.0, max=4629.0), HTML(value='')))"
      ]
     },
     "metadata": {},
     "output_type": "display_data"
    },
    {
     "name": "stdout",
     "output_type": "stream",
     "text": [
      "\n"
     ]
    }
   ],
   "source": [
    "df_intervals['max_frames_token'] = df_intervals['interval_id'].progress_apply(get_max_frames_number_for_token)"
   ]
  },
  {
   "cell_type": "code",
   "execution_count": 81,
   "metadata": {
    "jupyter": {
     "source_hidden": true
    }
   },
   "outputs": [
    {
     "data": {
      "text/html": [
       "<div>\n",
       "<style scoped>\n",
       "    .dataframe tbody tr th:only-of-type {\n",
       "        vertical-align: middle;\n",
       "    }\n",
       "\n",
       "    .dataframe tbody tr th {\n",
       "        vertical-align: top;\n",
       "    }\n",
       "\n",
       "    .dataframe thead th {\n",
       "        text-align: right;\n",
       "    }\n",
       "</style>\n",
       "<table border=\"1\" class=\"dataframe\">\n",
       "  <thead>\n",
       "    <tr style=\"text-align: right;\">\n",
       "      <th></th>\n",
       "      <th>Unnamed: 0</th>\n",
       "      <th>Unnamed: 0.1</th>\n",
       "      <th>dataset</th>\n",
       "      <th>duration</th>\n",
       "      <th>end_time</th>\n",
       "      <th>interval_id</th>\n",
       "      <th>speaker</th>\n",
       "      <th>start_time</th>\n",
       "      <th>video_fn</th>\n",
       "      <th>video_link</th>\n",
       "      <th>...</th>\n",
       "      <th>start_time_string</th>\n",
       "      <th>end_time_string</th>\n",
       "      <th>video_id</th>\n",
       "      <th>max_frames_token</th>\n",
       "      <th>valid</th>\n",
       "      <th>valid_max_frames_per_token</th>\n",
       "      <th>valid_duration</th>\n",
       "      <th>valid_single_token_per_frame</th>\n",
       "      <th>video_downloded</th>\n",
       "      <th>valid_hd5</th>\n",
       "    </tr>\n",
       "  </thead>\n",
       "  <tbody>\n",
       "    <tr>\n",
       "      <th>0</th>\n",
       "      <td>43180</td>\n",
       "      <td>43180</td>\n",
       "      <td>dev</td>\n",
       "      <td>12.21</td>\n",
       "      <td>0 days 00:01:10.830000</td>\n",
       "      <td>214428</td>\n",
       "      <td>oliver</td>\n",
       "      <td>0 days 00:00:58.620000</td>\n",
       "      <td>Abortion_Laws_-_Last_Week_Tonight_with_John_Oliver_HBO-DRauXXz6t0Y.webm</td>\n",
       "      <td>http://www.youtube.com/watch?v=DRauXXz6t0Y</td>\n",
       "      <td>...</td>\n",
       "      <td>00:00:58.62</td>\n",
       "      <td>00:01:10.83</td>\n",
       "      <td>DRauXXz6t0Y</td>\n",
       "      <td>88</td>\n",
       "      <td>False</td>\n",
       "      <td>False</td>\n",
       "      <td>False</td>\n",
       "      <td>True</td>\n",
       "      <td>False</td>\n",
       "      <td>True</td>\n",
       "    </tr>\n",
       "    <tr>\n",
       "      <th>1</th>\n",
       "      <td>43181</td>\n",
       "      <td>43181</td>\n",
       "      <td>dev</td>\n",
       "      <td>6.14</td>\n",
       "      <td>0 days 00:01:17.110000</td>\n",
       "      <td>214429</td>\n",
       "      <td>oliver</td>\n",
       "      <td>0 days 00:01:10.970000</td>\n",
       "      <td>Abortion_Laws_-_Last_Week_Tonight_with_John_Oliver_HBO-DRauXXz6t0Y.webm</td>\n",
       "      <td>http://www.youtube.com/watch?v=DRauXXz6t0Y</td>\n",
       "      <td>...</td>\n",
       "      <td>00:01:10.97</td>\n",
       "      <td>00:01:17.11</td>\n",
       "      <td>DRauXXz6t0Y</td>\n",
       "      <td>31</td>\n",
       "      <td>False</td>\n",
       "      <td>True</td>\n",
       "      <td>False</td>\n",
       "      <td>True</td>\n",
       "      <td>False</td>\n",
       "      <td>True</td>\n",
       "    </tr>\n",
       "  </tbody>\n",
       "</table>\n",
       "<p>2 rows × 22 columns</p>\n",
       "</div>"
      ],
      "text/plain": [
       "   Unnamed: 0  Unnamed: 0.1 dataset  duration                end_time  \\\n",
       "0       43180         43180     dev     12.21  0 days 00:01:10.830000   \n",
       "1       43181         43181     dev      6.14  0 days 00:01:17.110000   \n",
       "\n",
       "  interval_id speaker              start_time  \\\n",
       "0      214428  oliver  0 days 00:00:58.620000   \n",
       "1      214429  oliver  0 days 00:01:10.970000   \n",
       "\n",
       "                                                                  video_fn  \\\n",
       "0  Abortion_Laws_-_Last_Week_Tonight_with_John_Oliver_HBO-DRauXXz6t0Y.webm   \n",
       "1  Abortion_Laws_-_Last_Week_Tonight_with_John_Oliver_HBO-DRauXXz6t0Y.webm   \n",
       "\n",
       "                                   video_link  ... start_time_string  \\\n",
       "0  http://www.youtube.com/watch?v=DRauXXz6t0Y  ...       00:00:58.62   \n",
       "1  http://www.youtube.com/watch?v=DRauXXz6t0Y  ...       00:01:10.97   \n",
       "\n",
       "  end_time_string     video_id max_frames_token  valid  \\\n",
       "0     00:01:10.83  DRauXXz6t0Y               88  False   \n",
       "1     00:01:17.11  DRauXXz6t0Y               31  False   \n",
       "\n",
       "   valid_max_frames_per_token  valid_duration  valid_single_token_per_frame  \\\n",
       "0                       False           False                          True   \n",
       "1                        True           False                          True   \n",
       "\n",
       "   video_downloded  valid_hd5  \n",
       "0            False       True  \n",
       "1            False       True  \n",
       "\n",
       "[2 rows x 22 columns]"
      ]
     },
     "execution_count": 81,
     "metadata": {},
     "output_type": "execute_result"
    }
   ],
   "source": [
    "df_intervals.head(n=2)"
   ]
  },
  {
   "cell_type": "code",
   "execution_count": 103,
   "metadata": {
    "jupyter": {
     "source_hidden": true
    }
   },
   "outputs": [
    {
     "data": {
      "image/png": "[encoded data removed]",
      "text/plain": [
       "<Figure size 360x360 with 1 Axes>"
      ]
     },
     "metadata": {},
     "output_type": "display_data"
    }
   ],
   "source": [
    "sns.set_style('ticks')\n",
    "sns.displot(df_intervals[df_intervals['max_frames_token'] != -1]['max_frames_token'])\n",
    "plt.axvline(MAX_FRAMES_THRESHOLD, color='deeppink');"
   ]
  },
  {
   "cell_type": "code",
   "execution_count": 105,
   "metadata": {
    "jupyter": {
     "source_hidden": true
    }
   },
   "outputs": [
    {
     "data": {
      "text/html": [
       "<style  type=\"text/css\" >\n",
       "    #T_fafdf3ac_9fbb_11eb_9bbb_acde48001122 caption {\n",
       "          color: navy;\n",
       "          font-size: 16px;\n",
       "    }</style><table id=\"T_fafdf3ac_9fbb_11eb_9bbb_acde48001122\" ><caption>Valid Token Duration</caption><thead>    <tr>        <th class=\"blank level0\" ></th>        <th class=\"col_heading level0 col0\" >valid_max_token_duration</th>    </tr></thead><tbody>\n",
       "                <tr>\n",
       "                        <th id=\"T_fafdf3ac_9fbb_11eb_9bbb_acde48001122level0_row0\" class=\"row_heading level0 row0\" >True</th>\n",
       "                        <td id=\"T_fafdf3ac_9fbb_11eb_9bbb_acde48001122row0_col0\" class=\"data row0 col0\" >3077</td>\n",
       "            </tr>\n",
       "            <tr>\n",
       "                        <th id=\"T_fafdf3ac_9fbb_11eb_9bbb_acde48001122level0_row1\" class=\"row_heading level0 row1\" >False</th>\n",
       "                        <td id=\"T_fafdf3ac_9fbb_11eb_9bbb_acde48001122row1_col0\" class=\"data row1 col0\" >1552</td>\n",
       "            </tr>\n",
       "    </tbody></table>"
      ],
      "text/plain": [
       "<pandas.io.formats.style.Styler at 0x13aed4278>"
      ]
     },
     "metadata": {},
     "output_type": "display_data"
    }
   ],
   "source": [
    "mask_below_max_frames_limit = (df_intervals['max_frames_token'] < MAX_FRAMES_THRESHOLD)\n",
    "mask_known_max_frames = (df_intervals['max_frames_token'] != UNKNOWN_MAX_FRAMES_PER_TOKEN) \n",
    "\n",
    "df_intervals['valid_max_token_duration'] = mask_below_max_frames_limit & mask_known_max_frames\n",
    "display_value_counts(df_intervals['valid_max_token_duration'], 'Valid Token Duration')"
   ]
  },
  {
   "cell_type": "markdown",
   "metadata": {},
   "source": [
    "### Multiple Words Per Frame (`valid_single_token_per_frame`)"
   ]
  },
  {
   "cell_type": "code",
   "execution_count": 115,
   "metadata": {
    "jupyter": {
     "source_hidden": true
    }
   },
   "outputs": [
    {
     "data": {
      "text/markdown": [
       "**Video path**: /Users/staveshemesh/Projects/PATS_DATA/Youtube/oliver/5d667Bb_iYA/101204/101204.mp4"
      ],
      "text/plain": [
       "<IPython.core.display.Markdown object>"
      ]
     },
     "metadata": {},
     "output_type": "display_data"
    },
    {
     "data": {
      "text/markdown": [
       "**Text path**: /Users/staveshemesh/Projects/PATS_DATA/Processed/oliver/data/processed/oliver/101204.h5"
      ],
      "text/plain": [
       "<IPython.core.display.Markdown object>"
      ]
     },
     "metadata": {},
     "output_type": "display_data"
    },
    {
     "name": "stdout",
     "output_type": "stream",
     "text": [
      "Start token unique: False\n"
     ]
    },
    {
     "data": {
      "text/html": [
       "<div>\n",
       "<style scoped>\n",
       "    .dataframe tbody tr th:only-of-type {\n",
       "        vertical-align: middle;\n",
       "    }\n",
       "\n",
       "    .dataframe tbody tr th {\n",
       "        vertical-align: top;\n",
       "    }\n",
       "\n",
       "    .dataframe thead th {\n",
       "        text-align: right;\n",
       "    }\n",
       "</style>\n",
       "<table border=\"1\" class=\"dataframe\">\n",
       "  <thead>\n",
       "    <tr style=\"text-align: right;\">\n",
       "      <th></th>\n",
       "      <th>Word</th>\n",
       "      <th>start_frame</th>\n",
       "      <th>end_frame</th>\n",
       "      <th>frames_count</th>\n",
       "      <th>time</th>\n",
       "    </tr>\n",
       "  </thead>\n",
       "  <tbody>\n",
       "    <tr>\n",
       "      <th>24</th>\n",
       "      <td>out</td>\n",
       "      <td>117</td>\n",
       "      <td>120</td>\n",
       "      <td>3</td>\n",
       "      <td>8.00</td>\n",
       "    </tr>\n",
       "    <tr>\n",
       "      <th>25</th>\n",
       "      <td>me</td>\n",
       "      <td>120</td>\n",
       "      <td>123</td>\n",
       "      <td>3</td>\n",
       "      <td>8.20</td>\n",
       "    </tr>\n",
       "    <tr>\n",
       "      <th>26</th>\n",
       "      <td>on</td>\n",
       "      <td>123</td>\n",
       "      <td>123</td>\n",
       "      <td>0</td>\n",
       "      <td>8.20</td>\n",
       "    </tr>\n",
       "    <tr>\n",
       "      <th>27</th>\n",
       "      <td>so</td>\n",
       "      <td>123</td>\n",
       "      <td>127</td>\n",
       "      <td>4</td>\n",
       "      <td>8.50</td>\n",
       "    </tr>\n",
       "    <tr>\n",
       "      <th>28</th>\n",
       "      <td>too</td>\n",
       "      <td>127</td>\n",
       "      <td>130</td>\n",
       "      <td>3</td>\n",
       "      <td>8.70</td>\n",
       "    </tr>\n",
       "    <tr>\n",
       "      <th>29</th>\n",
       "      <td>should</td>\n",
       "      <td>130</td>\n",
       "      <td>136</td>\n",
       "      <td>6</td>\n",
       "      <td>9.10</td>\n",
       "    </tr>\n",
       "    <tr>\n",
       "      <th>30</th>\n",
       "      <td>gay</td>\n",
       "      <td>136</td>\n",
       "      <td>141</td>\n",
       "      <td>5</td>\n",
       "      <td>9.40</td>\n",
       "    </tr>\n",
       "    <tr>\n",
       "      <th>31</th>\n",
       "      <td>people</td>\n",
       "      <td>141</td>\n",
       "      <td>144</td>\n",
       "      <td>3</td>\n",
       "      <td>9.60</td>\n",
       "    </tr>\n",
       "    <tr>\n",
       "      <th>32</th>\n",
       "      <td>be</td>\n",
       "      <td>144</td>\n",
       "      <td>147</td>\n",
       "      <td>3</td>\n",
       "      <td>9.80</td>\n",
       "    </tr>\n",
       "    <tr>\n",
       "      <th>33</th>\n",
       "      <td>discriminated</td>\n",
       "      <td>147</td>\n",
       "      <td>147</td>\n",
       "      <td>0</td>\n",
       "      <td>9.80</td>\n",
       "    </tr>\n",
       "    <tr>\n",
       "      <th>34</th>\n",
       "      <td>against</td>\n",
       "      <td>147</td>\n",
       "      <td>147</td>\n",
       "      <td>0</td>\n",
       "      <td>9.80</td>\n",
       "    </tr>\n",
       "    <tr>\n",
       "      <th>35</th>\n",
       "      <td>is</td>\n",
       "      <td>147</td>\n",
       "      <td>147</td>\n",
       "      <td>0</td>\n",
       "      <td>9.80</td>\n",
       "    </tr>\n",
       "    <tr>\n",
       "      <th>36</th>\n",
       "      <td>just</td>\n",
       "      <td>147</td>\n",
       "      <td>147</td>\n",
       "      <td>0</td>\n",
       "      <td>9.80</td>\n",
       "    </tr>\n",
       "    <tr>\n",
       "      <th>37</th>\n",
       "      <td>know</td>\n",
       "      <td>147</td>\n",
       "      <td>147</td>\n",
       "      <td>0</td>\n",
       "      <td>9.80</td>\n",
       "    </tr>\n",
       "    <tr>\n",
       "      <th>38</th>\n",
       "      <td>it</td>\n",
       "      <td>147</td>\n",
       "      <td>147</td>\n",
       "      <td>0</td>\n",
       "      <td>9.80</td>\n",
       "    </tr>\n",
       "    <tr>\n",
       "      <th>39</th>\n",
       "      <td>is</td>\n",
       "      <td>147</td>\n",
       "      <td>147</td>\n",
       "      <td>0</td>\n",
       "      <td>9.80</td>\n",
       "    </tr>\n",
       "  </tbody>\n",
       "</table>\n",
       "</div>"
      ],
      "text/plain": [
       "             Word  start_frame  end_frame  frames_count  time\n",
       "24            out          117        120             3  8.00\n",
       "25             me          120        123             3  8.20\n",
       "26             on          123        123             0  8.20\n",
       "27             so          123        127             4  8.50\n",
       "28            too          127        130             3  8.70\n",
       "29         should          130        136             6  9.10\n",
       "30            gay          136        141             5  9.40\n",
       "31         people          141        144             3  9.60\n",
       "32             be          144        147             3  9.80\n",
       "33  discriminated          147        147             0  9.80\n",
       "34        against          147        147             0  9.80\n",
       "35             is          147        147             0  9.80\n",
       "36           just          147        147             0  9.80\n",
       "37           know          147        147             0  9.80\n",
       "38             it          147        147             0  9.80\n",
       "39             is          147        147             0  9.80"
      ]
     },
     "execution_count": 115,
     "metadata": {},
     "output_type": "execute_result"
    }
   ],
   "source": [
    "df_tokens = read_text('101204')\n",
    "printmd(f'**Video path**: {resolve_interval_video_path(\"101204\")}')\n",
    "printmd(f'**Text path**: {resolve_interval_text_path(\"101204\")}')\n",
    "print(f'Start token unique: {df_tokens[\"start_frame\"].is_unique}')\n",
    "df_tokens[24:40]"
   ]
  },
  {
   "cell_type": "code",
   "execution_count": 120,
   "metadata": {
    "jupyter": {
     "source_hidden": true
    }
   },
   "outputs": [],
   "source": [
    "MAX_TOKENS_PER_FRAME_LIMIT = 2 # allow not more two tokens with the same start frame\n",
    "\n",
    "def valid_single_frame_tokens_count(interval_id):\n",
    "    df_tokens = interval_id_to_df_words.get(interval_id)\n",
    "    if df_tokens is None:\n",
    "        return False\n",
    "    max_tokens_per_frame = df_tokens['start_frame'].value_counts().max()\n",
    "    return max_tokens_per_frame <= MAX_TOKENS_PER_FRAME_LIMIT"
   ]
  },
  {
   "cell_type": "code",
   "execution_count": 121,
   "metadata": {
    "jupyter": {
     "source_hidden": true
    }
   },
   "outputs": [
    {
     "data": {
      "application/vnd.jupyter.widget-view+json": {
       "model_id": "8bda51f397ba456c94795895ad624dd9",
       "version_major": 2,
       "version_minor": 0
      },
      "text/plain": [
       "HBox(children=(FloatProgress(value=0.0, max=4629.0), HTML(value='')))"
      ]
     },
     "metadata": {},
     "output_type": "display_data"
    },
    {
     "name": "stdout",
     "output_type": "stream",
     "text": [
      "\n"
     ]
    }
   ],
   "source": [
    "df_intervals['valid_single_token_per_frame'] = df_intervals['interval_id'].progress_apply(valid_single_frame_tokens_count)"
   ]
  },
  {
   "cell_type": "code",
   "execution_count": 122,
   "metadata": {
    "jupyter": {
     "source_hidden": true
    }
   },
   "outputs": [
    {
     "data": {
      "text/html": [
       "<style  type=\"text/css\" >\n",
       "    #T_dc6198ec_9fbe_11eb_aa81_acde48001122 caption {\n",
       "          color: navy;\n",
       "          font-size: 16px;\n",
       "    }</style><table id=\"T_dc6198ec_9fbe_11eb_aa81_acde48001122\" ><caption>Max of 2 tokens per frame</caption><thead>    <tr>        <th class=\"blank level0\" ></th>        <th class=\"col_heading level0 col0\" >valid_single_token_per_frame</th>    </tr></thead><tbody>\n",
       "                <tr>\n",
       "                        <th id=\"T_dc6198ec_9fbe_11eb_aa81_acde48001122level0_row0\" class=\"row_heading level0 row0\" >True</th>\n",
       "                        <td id=\"T_dc6198ec_9fbe_11eb_aa81_acde48001122row0_col0\" class=\"data row0 col0\" >4062</td>\n",
       "            </tr>\n",
       "            <tr>\n",
       "                        <th id=\"T_dc6198ec_9fbe_11eb_aa81_acde48001122level0_row1\" class=\"row_heading level0 row1\" >False</th>\n",
       "                        <td id=\"T_dc6198ec_9fbe_11eb_aa81_acde48001122row1_col0\" class=\"data row1 col0\" >567</td>\n",
       "            </tr>\n",
       "    </tbody></table>"
      ],
      "text/plain": [
       "<pandas.io.formats.style.Styler at 0x13c48bdd8>"
      ]
     },
     "metadata": {},
     "output_type": "display_data"
    }
   ],
   "source": [
    "display_value_counts(df_intervals['valid_single_token_per_frame'], f'Max of {MAX_TOKENS_PER_FRAME_LIMIT} tokens per frame')"
   ]
  },
  {
   "cell_type": "markdown",
   "metadata": {},
   "source": [
    "### Frame Count (`valid_frames_count`)"
   ]
  },
  {
   "cell_type": "code",
   "execution_count": 140,
   "metadata": {
    "jupyter": {
     "source_hidden": true
    }
   },
   "outputs": [],
   "source": [
    "def valid_interval_frame_count(interval_id, duration):\n",
    "    df_tokens = interval_id_to_df_words.get(interval_id)\n",
    "    if df_tokens is None:\n",
    "        return False\n",
    "    total_frames = df_tokens['end_frame'].max()\n",
    "    max_tokens_per_frame = df_tokens['start_frame'].value_counts().max()\n",
    "    lower_bound = (duration - 2) * FRAME_RATE\n",
    "    upper_bound = (duration + 1) * FRAME_RATE\n",
    "    is_valid = lower_bound <= total_frames <= upper_bound\n",
    "    debug_symbol = '✓' if is_valid else '✗'\n",
    "    if interval_id in df_intervals['interval_id'][:10].tolist():\n",
    "        print(debug_symbol, interval_id, round(lower_bound, 2), total_frames, round(upper_bound, 2))\n",
    "    return lower_bound <= total_frames <= upper_bound"
   ]
  },
  {
   "cell_type": "code",
   "execution_count": 141,
   "metadata": {
    "jupyter": {
     "source_hidden": true
    }
   },
   "outputs": [
    {
     "data": {
      "application/vnd.jupyter.widget-view+json": {
       "model_id": "66bc29ef7713465486107e9d95f1b31d",
       "version_major": 2,
       "version_minor": 0
      },
      "text/plain": [
       "HBox(children=(FloatProgress(value=0.0, max=4629.0), HTML(value='')))"
      ]
     },
     "metadata": {},
     "output_type": "display_data"
    },
    {
     "name": "stdout",
     "output_type": "stream",
     "text": [
      "✓ 214428 153.18 184 198.18\n",
      "✓ 214429 62.09 93 107.09\n",
      "✗ 214430 1506.54 1482 1551.54\n",
      "✓ 214431 73.1 104 118.1\n",
      "✓ 214433 212.24 241 257.24\n",
      "✓ 214434 368.4 396 413.4\n",
      "✓ 214435 70.1 101 115.1\n",
      "✓ 214436 61.09 92 106.09\n",
      "✓ 214438 1164.19 1190 1209.19\n",
      "✗ 214439 124.15 123 169.15\n",
      "\n"
     ]
    }
   ],
   "source": [
    "df_intervals['valid_frames_count'] = df_intervals[['interval_id', 'duration']].progress_apply(lambda x: valid_interval_frame_count(*x), axis=1)"
   ]
  },
  {
   "cell_type": "code",
   "execution_count": 132,
   "metadata": {
    "jupyter": {
     "source_hidden": true
    }
   },
   "outputs": [
    {
     "data": {
      "text/html": [
       "<style  type=\"text/css\" >\n",
       "    #T_b9a6e292_9fc0_11eb_bc8b_acde48001122 caption {\n",
       "          color: navy;\n",
       "          font-size: 16px;\n",
       "    }</style><table id=\"T_b9a6e292_9fc0_11eb_bc8b_acde48001122\" ><caption>Frame Count = Frame Rate * Seconds</caption><thead>    <tr>        <th class=\"blank level0\" ></th>        <th class=\"col_heading level0 col0\" >valid_frames_count</th>    </tr></thead><tbody>\n",
       "                <tr>\n",
       "                        <th id=\"T_b9a6e292_9fc0_11eb_bc8b_acde48001122level0_row0\" class=\"row_heading level0 row0\" >False</th>\n",
       "                        <td id=\"T_b9a6e292_9fc0_11eb_bc8b_acde48001122row0_col0\" class=\"data row0 col0\" >3916</td>\n",
       "            </tr>\n",
       "            <tr>\n",
       "                        <th id=\"T_b9a6e292_9fc0_11eb_bc8b_acde48001122level0_row1\" class=\"row_heading level0 row1\" >True</th>\n",
       "                        <td id=\"T_b9a6e292_9fc0_11eb_bc8b_acde48001122row1_col0\" class=\"data row1 col0\" >713</td>\n",
       "            </tr>\n",
       "    </tbody></table>"
      ],
      "text/plain": [
       "<pandas.io.formats.style.Styler at 0x13e3cf518>"
      ]
     },
     "metadata": {},
     "output_type": "display_data"
    }
   ],
   "source": [
    "display_value_counts(df_intervals['valid_frames_count'], f'Frame Count = Frame Rate * Seconds')"
   ]
  },
  {
   "cell_type": "code",
   "execution_count": 137,
   "metadata": {
    "jupyter": {
     "source_hidden": true
    }
   },
   "outputs": [
    {
     "data": {
      "text/html": [
       "<div>\n",
       "<style scoped>\n",
       "    .dataframe tbody tr th:only-of-type {\n",
       "        vertical-align: middle;\n",
       "    }\n",
       "\n",
       "    .dataframe tbody tr th {\n",
       "        vertical-align: top;\n",
       "    }\n",
       "\n",
       "    .dataframe thead th {\n",
       "        text-align: right;\n",
       "    }\n",
       "</style>\n",
       "<table border=\"1\" class=\"dataframe\">\n",
       "  <thead>\n",
       "    <tr style=\"text-align: right;\">\n",
       "      <th></th>\n",
       "      <th>Word</th>\n",
       "      <th>start_frame</th>\n",
       "      <th>end_frame</th>\n",
       "      <th>frames_count</th>\n",
       "      <th>time</th>\n",
       "    </tr>\n",
       "  </thead>\n",
       "  <tbody>\n",
       "    <tr>\n",
       "      <th>0</th>\n",
       "      <td>restrictions</td>\n",
       "      <td>0</td>\n",
       "      <td>8</td>\n",
       "      <td>8</td>\n",
       "      <td>0.50</td>\n",
       "    </tr>\n",
       "    <tr>\n",
       "      <th>1</th>\n",
       "      <td>on</td>\n",
       "      <td>8</td>\n",
       "      <td>8</td>\n",
       "      <td>0</td>\n",
       "      <td>0.50</td>\n",
       "    </tr>\n",
       "    <tr>\n",
       "      <th>2</th>\n",
       "      <td>Old</td>\n",
       "      <td>8</td>\n",
       "      <td>11</td>\n",
       "      <td>3</td>\n",
       "      <td>0.70</td>\n",
       "    </tr>\n",
       "    <tr>\n",
       "      <th>3</th>\n",
       "      <td>clinics</td>\n",
       "      <td>11</td>\n",
       "      <td>19</td>\n",
       "      <td>8</td>\n",
       "      <td>1.30</td>\n",
       "    </tr>\n",
       "    <tr>\n",
       "      <th>4</th>\n",
       "      <td>pictures</td>\n",
       "      <td>19</td>\n",
       "      <td>22</td>\n",
       "      <td>3</td>\n",
       "      <td>1.50</td>\n",
       "    </tr>\n",
       "    <tr>\n",
       "      <th>5</th>\n",
       "      <td>of</td>\n",
       "      <td>22</td>\n",
       "      <td>23</td>\n",
       "      <td>1</td>\n",
       "      <td>1.50</td>\n",
       "    </tr>\n",
       "    <tr>\n",
       "      <th>6</th>\n",
       "      <td>Kum</td>\n",
       "      <td>23</td>\n",
       "      <td>28</td>\n",
       "      <td>5</td>\n",
       "      <td>1.90</td>\n",
       "    </tr>\n",
       "    <tr>\n",
       "      <th>7</th>\n",
       "      <td>&amp;</td>\n",
       "      <td>28</td>\n",
       "      <td>29</td>\n",
       "      <td>1</td>\n",
       "      <td>1.90</td>\n",
       "    </tr>\n",
       "    <tr>\n",
       "      <th>8</th>\n",
       "      <td>Go's</td>\n",
       "      <td>29</td>\n",
       "      <td>32</td>\n",
       "      <td>3</td>\n",
       "      <td>2.10</td>\n",
       "    </tr>\n",
       "    <tr>\n",
       "      <th>9</th>\n",
       "      <td>now</td>\n",
       "      <td>32</td>\n",
       "      <td>35</td>\n",
       "      <td>3</td>\n",
       "      <td>2.30</td>\n",
       "    </tr>\n",
       "    <tr>\n",
       "      <th>10</th>\n",
       "      <td>he's</td>\n",
       "      <td>35</td>\n",
       "      <td>43</td>\n",
       "      <td>8</td>\n",
       "      <td>2.90</td>\n",
       "    </tr>\n",
       "    <tr>\n",
       "      <th>11</th>\n",
       "      <td>like</td>\n",
       "      <td>43</td>\n",
       "      <td>46</td>\n",
       "      <td>3</td>\n",
       "      <td>3.10</td>\n",
       "    </tr>\n",
       "    <tr>\n",
       "      <th>12</th>\n",
       "      <td>a</td>\n",
       "      <td>46</td>\n",
       "      <td>64</td>\n",
       "      <td>18</td>\n",
       "      <td>4.30</td>\n",
       "    </tr>\n",
       "    <tr>\n",
       "      <th>13</th>\n",
       "      <td>Taco</td>\n",
       "      <td>64</td>\n",
       "      <td>71</td>\n",
       "      <td>7</td>\n",
       "      <td>4.70</td>\n",
       "    </tr>\n",
       "    <tr>\n",
       "      <th>14</th>\n",
       "      <td>Bell</td>\n",
       "      <td>71</td>\n",
       "      <td>73</td>\n",
       "      <td>2</td>\n",
       "      <td>4.90</td>\n",
       "    </tr>\n",
       "    <tr>\n",
       "      <th>15</th>\n",
       "      <td>employee</td>\n",
       "      <td>73</td>\n",
       "      <td>76</td>\n",
       "      <td>3</td>\n",
       "      <td>5.10</td>\n",
       "    </tr>\n",
       "    <tr>\n",
       "      <th>16</th>\n",
       "      <td>licking</td>\n",
       "      <td>76</td>\n",
       "      <td>92</td>\n",
       "      <td>16</td>\n",
       "      <td>6.10</td>\n",
       "    </tr>\n",
       "    <tr>\n",
       "      <th>17</th>\n",
       "      <td>their</td>\n",
       "      <td>92</td>\n",
       "      <td>95</td>\n",
       "      <td>3</td>\n",
       "      <td>6.30</td>\n",
       "    </tr>\n",
       "    <tr>\n",
       "      <th>18</th>\n",
       "      <td>food</td>\n",
       "      <td>95</td>\n",
       "      <td>98</td>\n",
       "      <td>3</td>\n",
       "      <td>6.50</td>\n",
       "    </tr>\n",
       "    <tr>\n",
       "      <th>19</th>\n",
       "      <td>and</td>\n",
       "      <td>98</td>\n",
       "      <td>101</td>\n",
       "      <td>3</td>\n",
       "      <td>6.70</td>\n",
       "    </tr>\n",
       "    <tr>\n",
       "      <th>20</th>\n",
       "      <td>say</td>\n",
       "      <td>101</td>\n",
       "      <td>103</td>\n",
       "      <td>2</td>\n",
       "      <td>6.90</td>\n",
       "    </tr>\n",
       "    <tr>\n",
       "      <th>21</th>\n",
       "      <td>okay</td>\n",
       "      <td>103</td>\n",
       "      <td>113</td>\n",
       "      <td>10</td>\n",
       "      <td>7.50</td>\n",
       "    </tr>\n",
       "    <tr>\n",
       "      <th>22</th>\n",
       "      <td>restaurants</td>\n",
       "      <td>113</td>\n",
       "      <td>123</td>\n",
       "      <td>10</td>\n",
       "      <td>8.20</td>\n",
       "    </tr>\n",
       "    <tr>\n",
       "      <th>23</th>\n",
       "      <td>have</td>\n",
       "      <td>123</td>\n",
       "      <td>123</td>\n",
       "      <td>0</td>\n",
       "      <td>8.20</td>\n",
       "    </tr>\n",
       "    <tr>\n",
       "      <th>24</th>\n",
       "      <td>to</td>\n",
       "      <td>123</td>\n",
       "      <td>123</td>\n",
       "      <td>0</td>\n",
       "      <td>8.20</td>\n",
       "    </tr>\n",
       "    <tr>\n",
       "      <th>25</th>\n",
       "      <td>have</td>\n",
       "      <td>123</td>\n",
       "      <td>123</td>\n",
       "      <td>0</td>\n",
       "      <td>8.20</td>\n",
       "    </tr>\n",
       "  </tbody>\n",
       "</table>\n",
       "</div>"
      ],
      "text/plain": [
       "            Word  start_frame  end_frame  frames_count  time\n",
       "0   restrictions            0          8             8  0.50\n",
       "1             on            8          8             0  0.50\n",
       "2            Old            8         11             3  0.70\n",
       "3        clinics           11         19             8  1.30\n",
       "4       pictures           19         22             3  1.50\n",
       "5             of           22         23             1  1.50\n",
       "6            Kum           23         28             5  1.90\n",
       "7              &           28         29             1  1.90\n",
       "8           Go's           29         32             3  2.10\n",
       "9            now           32         35             3  2.30\n",
       "10          he's           35         43             8  2.90\n",
       "11          like           43         46             3  3.10\n",
       "12             a           46         64            18  4.30\n",
       "13          Taco           64         71             7  4.70\n",
       "14          Bell           71         73             2  4.90\n",
       "15      employee           73         76             3  5.10\n",
       "16       licking           76         92            16  6.10\n",
       "17         their           92         95             3  6.30\n",
       "18          food           95         98             3  6.50\n",
       "19           and           98        101             3  6.70\n",
       "20           say          101        103             2  6.90\n",
       "21          okay          103        113            10  7.50\n",
       "22   restaurants          113        123            10  8.20\n",
       "23          have          123        123             0  8.20\n",
       "24            to          123        123             0  8.20\n",
       "25          have          123        123             0  8.20"
      ]
     },
     "execution_count": 137,
     "metadata": {},
     "output_type": "execute_result"
    }
   ],
   "source": [
    "read_text('214439')"
   ]
  },
  {
   "cell_type": "markdown",
   "metadata": {},
   "source": [
    "## Interval Video"
   ]
  },
  {
   "cell_type": "markdown",
   "metadata": {},
   "source": [
    "### Total Duration (`valid_duration`)"
   ]
  },
  {
   "cell_type": "code",
   "execution_count": 170,
   "metadata": {
    "jupyter": {
     "source_hidden": true
    }
   },
   "outputs": [],
   "source": [
    "MIN_DURATION_SECS_THRESHOLD = 4"
   ]
  },
  {
   "cell_type": "code",
   "execution_count": 171,
   "metadata": {
    "jupyter": {
     "source_hidden": true
    }
   },
   "outputs": [
    {
     "data": {
      "text/plain": [
       "Index(['Unnamed: 0', 'Unnamed: 0.1', 'dataset', 'duration', 'end_time',\n",
       "       'interval_id', 'speaker', 'start_time', 'video_fn', 'video_link',\n",
       "       'org_start_time', 'org_end_time', 'start_time_string',\n",
       "       'end_time_string', 'video_id', 'max_frames_token', 'valid',\n",
       "       'valid_duration', 'valid_single_token_per_frame', 'video_downloded',\n",
       "       'valid_hd5', 'valid_max_token_duration', 'valid_frames_count'],\n",
       "      dtype='object')"
      ]
     },
     "execution_count": 171,
     "metadata": {},
     "output_type": "execute_result"
    }
   ],
   "source": [
    "df_intervals.columns"
   ]
  },
  {
   "cell_type": "code",
   "execution_count": 172,
   "metadata": {
    "jupyter": {
     "source_hidden": true
    }
   },
   "outputs": [],
   "source": [
    "df_intervals['valid_duration'] = MIN_DURATION_SECS_THRESHOLD < df_intervals['duration']"
   ]
  },
  {
   "cell_type": "code",
   "execution_count": 173,
   "metadata": {
    "jupyter": {
     "source_hidden": true
    }
   },
   "outputs": [
    {
     "data": {
      "text/html": [
       "<style  type=\"text/css\" >\n",
       "    #T_5187b75e_9fc5_11eb_8bb7_acde48001122 caption {\n",
       "          color: navy;\n",
       "          font-size: 16px;\n",
       "    }</style><table id=\"T_5187b75e_9fc5_11eb_8bb7_acde48001122\" ><caption>Duration > 4 seconds</caption><thead>    <tr>        <th class=\"blank level0\" ></th>        <th class=\"col_heading level0 col0\" >valid_duration</th>    </tr></thead><tbody>\n",
       "                <tr>\n",
       "                        <th id=\"T_5187b75e_9fc5_11eb_8bb7_acde48001122level0_row0\" class=\"row_heading level0 row0\" >True</th>\n",
       "                        <td id=\"T_5187b75e_9fc5_11eb_8bb7_acde48001122row0_col0\" class=\"data row0 col0\" >3499</td>\n",
       "            </tr>\n",
       "            <tr>\n",
       "                        <th id=\"T_5187b75e_9fc5_11eb_8bb7_acde48001122level0_row1\" class=\"row_heading level0 row1\" >False</th>\n",
       "                        <td id=\"T_5187b75e_9fc5_11eb_8bb7_acde48001122row1_col0\" class=\"data row1 col0\" >1130</td>\n",
       "            </tr>\n",
       "    </tbody></table>"
      ],
      "text/plain": [
       "<pandas.io.formats.style.Styler at 0x13e9a22b0>"
      ]
     },
     "metadata": {},
     "output_type": "display_data"
    }
   ],
   "source": [
    "display_value_counts(df_intervals['valid_duration'], f'Duration > {MIN_DURATION_SECS_THRESHOLD} seconds')"
   ]
  },
  {
   "cell_type": "markdown",
   "metadata": {},
   "source": [
    "## Finalize Valid"
   ]
  },
  {
   "cell_type": "code",
   "execution_count": 174,
   "metadata": {
    "jupyter": {
     "source_hidden": true
    }
   },
   "outputs": [
    {
     "data": {
      "text/plain": [
       "['valid_duration',\n",
       " 'valid_single_token_per_frame',\n",
       " 'valid_hd5',\n",
       " 'valid_max_token_duration',\n",
       " 'valid_frames_count']"
      ]
     },
     "execution_count": 174,
     "metadata": {},
     "output_type": "execute_result"
    }
   ],
   "source": [
    "df_intervals.columns[df_intervals.columns.str.contains('valid_')].tolist()"
   ]
  },
  {
   "cell_type": "code",
   "execution_count": 175,
   "metadata": {
    "jupyter": {
     "source_hidden": true
    }
   },
   "outputs": [],
   "source": [
    "df_intervals.drop('valid_max_frames_per_token', axis=1, errors='ignore', inplace=True)"
   ]
  },
  {
   "cell_type": "code",
   "execution_count": 176,
   "metadata": {
    "jupyter": {
     "source_hidden": true
    }
   },
   "outputs": [],
   "source": [
    "COLS_VALID = [\n",
    "    'valid_duration',\n",
    "    'valid_single_token_per_frame',\n",
    "    'valid_hd5',\n",
    "    'valid_max_token_duration',\n",
    "    'valid_frames_count'\n",
    "]"
   ]
  },
  {
   "cell_type": "code",
   "execution_count": 177,
   "metadata": {
    "jupyter": {
     "source_hidden": true
    }
   },
   "outputs": [
    {
     "data": {
      "text/html": [
       "<div>\n",
       "<style scoped>\n",
       "    .dataframe tbody tr th:only-of-type {\n",
       "        vertical-align: middle;\n",
       "    }\n",
       "\n",
       "    .dataframe tbody tr th {\n",
       "        vertical-align: top;\n",
       "    }\n",
       "\n",
       "    .dataframe thead th {\n",
       "        text-align: right;\n",
       "    }\n",
       "</style>\n",
       "<table border=\"1\" class=\"dataframe\">\n",
       "  <thead>\n",
       "    <tr style=\"text-align: right;\">\n",
       "      <th></th>\n",
       "      <th>records</th>\n",
       "      <th>%records</th>\n",
       "    </tr>\n",
       "  </thead>\n",
       "  <tbody>\n",
       "    <tr>\n",
       "      <th>valid_duration</th>\n",
       "      <td>3499</td>\n",
       "      <td>75.59</td>\n",
       "    </tr>\n",
       "    <tr>\n",
       "      <th>valid_single_token_per_frame</th>\n",
       "      <td>4062</td>\n",
       "      <td>87.75</td>\n",
       "    </tr>\n",
       "    <tr>\n",
       "      <th>valid_hd5</th>\n",
       "      <td>4254</td>\n",
       "      <td>91.90</td>\n",
       "    </tr>\n",
       "    <tr>\n",
       "      <th>valid_max_token_duration</th>\n",
       "      <td>3077</td>\n",
       "      <td>66.47</td>\n",
       "    </tr>\n",
       "    <tr>\n",
       "      <th>valid_frames_count</th>\n",
       "      <td>4076</td>\n",
       "      <td>88.05</td>\n",
       "    </tr>\n",
       "  </tbody>\n",
       "</table>\n",
       "</div>"
      ],
      "text/plain": [
       "                              records  %records\n",
       "valid_duration                   3499     75.59\n",
       "valid_single_token_per_frame     4062     87.75\n",
       "valid_hd5                        4254     91.90\n",
       "valid_max_token_duration         3077     66.47\n",
       "valid_frames_count               4076     88.05"
      ]
     },
     "execution_count": 177,
     "metadata": {},
     "output_type": "execute_result"
    }
   ],
   "source": [
    "total_intervals = len(df_intervals)\n",
    "df_validity_summary = df_intervals[COLS_VALID].sum().to_frame().rename(columns={0: 'records'})\n",
    "df_validity_summary['%records'] = df_validity_summary['records'] / total_intervals * 100\n",
    "df_validity_summary"
   ]
  },
  {
   "cell_type": "code",
   "execution_count": 184,
   "metadata": {
    "jupyter": {
     "source_hidden": true
    }
   },
   "outputs": [
    {
     "data": {
      "text/html": [
       "<style  type=\"text/css\" >\n",
       "    #T_bf1e41f4_9fc5_11eb_b8df_acde48001122 caption {\n",
       "          color: navy;\n",
       "          font-size: 16px;\n",
       "    }</style><table id=\"T_bf1e41f4_9fc5_11eb_b8df_acde48001122\" ><caption>Valid Intervals</caption><thead>    <tr>        <th class=\"blank level0\" ></th>        <th class=\"col_heading level0 col0\" >valid</th>    </tr></thead><tbody>\n",
       "                <tr>\n",
       "                        <th id=\"T_bf1e41f4_9fc5_11eb_b8df_acde48001122level0_row0\" class=\"row_heading level0 row0\" >False</th>\n",
       "                        <td id=\"T_bf1e41f4_9fc5_11eb_b8df_acde48001122row0_col0\" class=\"data row0 col0\" >2511</td>\n",
       "            </tr>\n",
       "            <tr>\n",
       "                        <th id=\"T_bf1e41f4_9fc5_11eb_b8df_acde48001122level0_row1\" class=\"row_heading level0 row1\" >True</th>\n",
       "                        <td id=\"T_bf1e41f4_9fc5_11eb_b8df_acde48001122row1_col0\" class=\"data row1 col0\" >2118</td>\n",
       "            </tr>\n",
       "    </tbody></table>"
      ],
      "text/plain": [
       "<pandas.io.formats.style.Styler at 0x13e96d9e8>"
      ]
     },
     "metadata": {},
     "output_type": "display_data"
    }
   ],
   "source": [
    "df_intervals['valid'] = df_intervals[COLS_VALID].all(axis=1)\n",
    "display_value_counts(df_intervals['valid'], 'Valid Intervals')"
   ]
  },
  {
   "cell_type": "code",
   "execution_count": 186,
   "metadata": {
    "jupyter": {
     "source_hidden": true
    }
   },
   "outputs": [
    {
     "data": {
      "text/html": [
       "<div>\n",
       "<style scoped>\n",
       "    .dataframe tbody tr th:only-of-type {\n",
       "        vertical-align: middle;\n",
       "    }\n",
       "\n",
       "    .dataframe tbody tr th {\n",
       "        vertical-align: top;\n",
       "    }\n",
       "\n",
       "    .dataframe thead th {\n",
       "        text-align: right;\n",
       "    }\n",
       "</style>\n",
       "<table border=\"1\" class=\"dataframe\">\n",
       "  <thead>\n",
       "    <tr style=\"text-align: right;\">\n",
       "      <th></th>\n",
       "      <th>records</th>\n",
       "      <th>%records</th>\n",
       "    </tr>\n",
       "  </thead>\n",
       "  <tbody>\n",
       "    <tr>\n",
       "      <th>valid</th>\n",
       "      <td>2118</td>\n",
       "      <td>45.76</td>\n",
       "    </tr>\n",
       "    <tr>\n",
       "      <th>valid_duration</th>\n",
       "      <td>3499</td>\n",
       "      <td>75.59</td>\n",
       "    </tr>\n",
       "    <tr>\n",
       "      <th>valid_single_token_per_frame</th>\n",
       "      <td>4062</td>\n",
       "      <td>87.75</td>\n",
       "    </tr>\n",
       "    <tr>\n",
       "      <th>valid_hd5</th>\n",
       "      <td>4254</td>\n",
       "      <td>91.90</td>\n",
       "    </tr>\n",
       "    <tr>\n",
       "      <th>valid_max_token_duration</th>\n",
       "      <td>3077</td>\n",
       "      <td>66.47</td>\n",
       "    </tr>\n",
       "    <tr>\n",
       "      <th>valid_frames_count</th>\n",
       "      <td>4076</td>\n",
       "      <td>88.05</td>\n",
       "    </tr>\n",
       "  </tbody>\n",
       "</table>\n",
       "</div>"
      ],
      "text/plain": [
       "                              records  %records\n",
       "valid                            2118     45.76\n",
       "valid_duration                   3499     75.59\n",
       "valid_single_token_per_frame     4062     87.75\n",
       "valid_hd5                        4254     91.90\n",
       "valid_max_token_duration         3077     66.47\n",
       "valid_frames_count               4076     88.05"
      ]
     },
     "execution_count": 186,
     "metadata": {},
     "output_type": "execute_result"
    }
   ],
   "source": [
    "df_validity_summary = df_intervals[['valid'] + COLS_VALID].sum().to_frame().rename(columns={0: 'records'})\n",
    "df_validity_summary['%records'] = df_validity_summary['records'] / total_intervals * 100\n",
    "df_validity_summary"
   ]
  },
  {
   "cell_type": "code",
   "execution_count": 246,
   "metadata": {
    "jupyter": {
     "source_hidden": true
    }
   },
   "outputs": [
    {
     "data": {
      "text/html": [
       "<div>\n",
       "<style scoped>\n",
       "    .dataframe tbody tr th:only-of-type {\n",
       "        vertical-align: middle;\n",
       "    }\n",
       "\n",
       "    .dataframe tbody tr th {\n",
       "        vertical-align: top;\n",
       "    }\n",
       "\n",
       "    .dataframe thead th {\n",
       "        text-align: right;\n",
       "    }\n",
       "</style>\n",
       "<table border=\"1\" class=\"dataframe\">\n",
       "  <thead>\n",
       "    <tr style=\"text-align: right;\">\n",
       "      <th></th>\n",
       "      <th>valid</th>\n",
       "      <th>speaker</th>\n",
       "      <th>interval_id</th>\n",
       "      <th>duration</th>\n",
       "      <th>start_time_string</th>\n",
       "      <th>end_time_string</th>\n",
       "      <th>video_link</th>\n",
       "      <th>valid_duration</th>\n",
       "      <th>valid_single_token_per_frame</th>\n",
       "      <th>valid_hd5</th>\n",
       "      <th>valid_max_token_duration</th>\n",
       "      <th>valid_frames_count</th>\n",
       "    </tr>\n",
       "  </thead>\n",
       "  <tbody>\n",
       "    <tr>\n",
       "      <th>0</th>\n",
       "      <td>False</td>\n",
       "      <td>oliver</td>\n",
       "      <td>214428</td>\n",
       "      <td>12.21</td>\n",
       "      <td>00:00:58.62</td>\n",
       "      <td>00:01:10.83</td>\n",
       "      <td>http://www.youtube.com/watch?v=DRauXXz6t0Y</td>\n",
       "      <td>True</td>\n",
       "      <td>True</td>\n",
       "      <td>True</td>\n",
       "      <td>False</td>\n",
       "      <td>True</td>\n",
       "    </tr>\n",
       "    <tr>\n",
       "      <th>1</th>\n",
       "      <td>True</td>\n",
       "      <td>oliver</td>\n",
       "      <td>214429</td>\n",
       "      <td>6.14</td>\n",
       "      <td>00:01:10.97</td>\n",
       "      <td>00:01:17.11</td>\n",
       "      <td>http://www.youtube.com/watch?v=DRauXXz6t0Y</td>\n",
       "      <td>True</td>\n",
       "      <td>True</td>\n",
       "      <td>True</td>\n",
       "      <td>True</td>\n",
       "      <td>True</td>\n",
       "    </tr>\n",
       "  </tbody>\n",
       "</table>\n",
       "</div>"
      ],
      "text/plain": [
       "   valid speaker interval_id  duration start_time_string end_time_string  \\\n",
       "0  False  oliver      214428     12.21       00:00:58.62     00:01:10.83   \n",
       "1   True  oliver      214429      6.14       00:01:10.97     00:01:17.11   \n",
       "\n",
       "                                   video_link  valid_duration  \\\n",
       "0  http://www.youtube.com/watch?v=DRauXXz6t0Y            True   \n",
       "1  http://www.youtube.com/watch?v=DRauXXz6t0Y            True   \n",
       "\n",
       "   valid_single_token_per_frame  valid_hd5  valid_max_token_duration  \\\n",
       "0                          True       True                     False   \n",
       "1                          True       True                      True   \n",
       "\n",
       "   valid_frames_count  \n",
       "0                True  \n",
       "1                True  "
      ]
     },
     "execution_count": 246,
     "metadata": {},
     "output_type": "execute_result"
    }
   ],
   "source": [
    "df_intervals[['valid'] + COLS_VIEW + COLS_VALID].head(n=2)"
   ]
  },
  {
   "cell_type": "markdown",
   "metadata": {},
   "source": [
    "# Download Data"
   ]
  },
  {
   "cell_type": "code",
   "execution_count": 194,
   "metadata": {
    "jupyter": {
     "source_hidden": true
    }
   },
   "outputs": [],
   "source": [
    "os.makedirs(OUTPUT_DIR)"
   ]
  },
  {
   "cell_type": "code",
   "execution_count": 195,
   "metadata": {
    "jupyter": {
     "source_hidden": true
    }
   },
   "outputs": [
    {
     "data": {
      "text/markdown": [
       "&nbsp;&nbsp;&nbsp;&nbsp;**/20210418_005318** → mkdir /Users/staveshemesh/Projects/shstav2/token_voken/data/20210418_005318/dataframes.."
      ],
      "text/plain": [
       "<IPython.core.display.Markdown object>"
      ]
     },
     "metadata": {},
     "output_type": "display_data"
    }
   ],
   "source": [
    "printmd(f'{TAB}**/{TIMESTR}** → mkdir {OUTPUT_DIR}..')"
   ]
  },
  {
   "cell_type": "markdown",
   "metadata": {},
   "source": [
    "## df_intervals.to_csv"
   ]
  },
  {
   "cell_type": "code",
   "execution_count": 204,
   "metadata": {
    "jupyter": {
     "source_hidden": true
    }
   },
   "outputs": [],
   "source": [
    "df_intervals.drop('Unnamed: 0.1', axis=1, inplace=True)"
   ]
  },
  {
   "cell_type": "code",
   "execution_count": 3,
   "metadata": {
    "jupyter": {
     "source_hidden": true
    }
   },
   "outputs": [],
   "source": [
    "COLS_OUTPUT = [\n",
    "    # core\n",
    "    'speaker', 'video_id', 'interval_id', 'valid',\n",
    "    # features\n",
    "    'duration', 'start_time_string',  'end_time_string',\n",
    "    'video_link', 'video_fn',\n",
    "    'start_time', 'end_time',\n",
    "    'org_start_time', 'org_end_time',\n",
    "    # validity\n",
    "    'max_frames_token',\n",
    "    'valid_duration', 'valid_single_token_per_frame', 'video_downloded', 'valid_hd5',\n",
    "    'valid_max_token_duration', 'valid_frames_count'\n",
    "]"
   ]
  },
  {
   "cell_type": "code",
   "execution_count": 232,
   "metadata": {
    "jupyter": {
     "source_hidden": true
    }
   },
   "outputs": [
    {
     "data": {
      "text/plain": [
       "(20, 20)"
      ]
     },
     "execution_count": 232,
     "metadata": {},
     "output_type": "execute_result"
    }
   ],
   "source": [
    "len(df_intervals.columns), len(COLS_OUTPUT)"
   ]
  },
  {
   "cell_type": "code",
   "execution_count": 235,
   "metadata": {
    "jupyter": {
     "source_hidden": true
    }
   },
   "outputs": [
    {
     "data": {
      "text/html": [
       "<div>\n",
       "<style scoped>\n",
       "    .dataframe tbody tr th:only-of-type {\n",
       "        vertical-align: middle;\n",
       "    }\n",
       "\n",
       "    .dataframe tbody tr th {\n",
       "        vertical-align: top;\n",
       "    }\n",
       "\n",
       "    .dataframe thead th {\n",
       "        text-align: right;\n",
       "    }\n",
       "</style>\n",
       "<table border=\"1\" class=\"dataframe\">\n",
       "  <thead>\n",
       "    <tr style=\"text-align: right;\">\n",
       "      <th></th>\n",
       "      <th>speaker</th>\n",
       "      <th>video_id</th>\n",
       "      <th>interval_id</th>\n",
       "      <th>valid</th>\n",
       "      <th>duration</th>\n",
       "      <th>start_time_string</th>\n",
       "      <th>end_time_string</th>\n",
       "      <th>video_link</th>\n",
       "      <th>video_fn</th>\n",
       "      <th>start_time</th>\n",
       "      <th>end_time</th>\n",
       "      <th>org_start_time</th>\n",
       "      <th>org_end_time</th>\n",
       "      <th>max_frames_token</th>\n",
       "      <th>valid_duration</th>\n",
       "      <th>valid_single_token_per_frame</th>\n",
       "      <th>video_downloded</th>\n",
       "      <th>valid_hd5</th>\n",
       "      <th>valid_max_token_duration</th>\n",
       "      <th>valid_frames_count</th>\n",
       "    </tr>\n",
       "  </thead>\n",
       "  <tbody>\n",
       "    <tr>\n",
       "      <th>0</th>\n",
       "      <td>oliver</td>\n",
       "      <td>DRauXXz6t0Y</td>\n",
       "      <td>214428</td>\n",
       "      <td>False</td>\n",
       "      <td>12.21</td>\n",
       "      <td>00:00:58.62</td>\n",
       "      <td>00:01:10.83</td>\n",
       "      <td>http://www.youtube.com/watch?v=DRauXXz6t0Y</td>\n",
       "      <td>Abortion_Laws_-_Last_Week_Tonight_with_John_Oliver_HBO-DRauXXz6t0Y.webm</td>\n",
       "      <td>0 days 00:00:58.620000</td>\n",
       "      <td>0 days 00:01:10.830000</td>\n",
       "      <td>0 days 00:00:58.620000</td>\n",
       "      <td>0 days 00:01:10.830000</td>\n",
       "      <td>88</td>\n",
       "      <td>True</td>\n",
       "      <td>True</td>\n",
       "      <td>False</td>\n",
       "      <td>True</td>\n",
       "      <td>False</td>\n",
       "      <td>True</td>\n",
       "    </tr>\n",
       "    <tr>\n",
       "      <th>1</th>\n",
       "      <td>oliver</td>\n",
       "      <td>DRauXXz6t0Y</td>\n",
       "      <td>214429</td>\n",
       "      <td>True</td>\n",
       "      <td>6.14</td>\n",
       "      <td>00:01:10.97</td>\n",
       "      <td>00:01:17.11</td>\n",
       "      <td>http://www.youtube.com/watch?v=DRauXXz6t0Y</td>\n",
       "      <td>Abortion_Laws_-_Last_Week_Tonight_with_John_Oliver_HBO-DRauXXz6t0Y.webm</td>\n",
       "      <td>0 days 00:01:10.970000</td>\n",
       "      <td>0 days 00:01:17.110000</td>\n",
       "      <td>0 days 00:01:10.970000</td>\n",
       "      <td>0 days 00:01:17.110000</td>\n",
       "      <td>31</td>\n",
       "      <td>True</td>\n",
       "      <td>True</td>\n",
       "      <td>False</td>\n",
       "      <td>True</td>\n",
       "      <td>True</td>\n",
       "      <td>True</td>\n",
       "    </tr>\n",
       "  </tbody>\n",
       "</table>\n",
       "</div>"
      ],
      "text/plain": [
       "  speaker     video_id interval_id  valid  duration start_time_string  \\\n",
       "0  oliver  DRauXXz6t0Y      214428  False     12.21       00:00:58.62   \n",
       "1  oliver  DRauXXz6t0Y      214429   True      6.14       00:01:10.97   \n",
       "\n",
       "  end_time_string                                  video_link  \\\n",
       "0     00:01:10.83  http://www.youtube.com/watch?v=DRauXXz6t0Y   \n",
       "1     00:01:17.11  http://www.youtube.com/watch?v=DRauXXz6t0Y   \n",
       "\n",
       "                                                                  video_fn  \\\n",
       "0  Abortion_Laws_-_Last_Week_Tonight_with_John_Oliver_HBO-DRauXXz6t0Y.webm   \n",
       "1  Abortion_Laws_-_Last_Week_Tonight_with_John_Oliver_HBO-DRauXXz6t0Y.webm   \n",
       "\n",
       "               start_time                end_time          org_start_time  \\\n",
       "0  0 days 00:00:58.620000  0 days 00:01:10.830000  0 days 00:00:58.620000   \n",
       "1  0 days 00:01:10.970000  0 days 00:01:17.110000  0 days 00:01:10.970000   \n",
       "\n",
       "             org_end_time  max_frames_token  valid_duration  \\\n",
       "0  0 days 00:01:10.830000                88            True   \n",
       "1  0 days 00:01:17.110000                31            True   \n",
       "\n",
       "   valid_single_token_per_frame  video_downloded  valid_hd5  \\\n",
       "0                          True            False       True   \n",
       "1                          True            False       True   \n",
       "\n",
       "   valid_max_token_duration  valid_frames_count  \n",
       "0                     False                True  \n",
       "1                      True                True  "
      ]
     },
     "execution_count": 235,
     "metadata": {},
     "output_type": "execute_result"
    }
   ],
   "source": [
    "df_intervals = df_intervals[COLS_OUTPUT]\n",
    "df_intervals.head(n=2)"
   ]
  },
  {
   "cell_type": "code",
   "execution_count": 241,
   "metadata": {
    "jupyter": {
     "source_hidden": true
    }
   },
   "outputs": [
    {
     "data": {
      "text/markdown": [
       "&nbsp;&nbsp;&nbsp;&nbsp;**/20210418_005318** → df_intervals /Users/staveshemesh/Projects/shstav2/token_voken/data/20210418_005318/dataframes/df_intervals_oliver.csv"
      ],
      "text/plain": [
       "<IPython.core.display.Markdown object>"
      ]
     },
     "metadata": {},
     "output_type": "display_data"
    }
   ],
   "source": [
    "intervals_output_path = os.path.join(OUTPUT_DIR, f'df_intervals_{SPEAKER_NAME}.csv')\n",
    "printmd(f'{TAB}**/{TIMESTR}** → df_intervals {intervals_output_path}')\n",
    "df_intervals.to_csv(intervals_output_path, index=False, header=True)"
   ]
  },
  {
   "cell_type": "code",
   "execution_count": null,
   "metadata": {
    "jupyter": {
     "source_hidden": true
    }
   },
   "outputs": [],
   "source": []
  }
 ],
 "metadata": {
  "kernelspec": {
   "display_name": "Python 3",
   "language": "python",
   "name": "python3"
  },
  "language_info": {
   "codemirror_mode": {
    "name": "ipython",
    "version": 3
   },
   "file_extension": ".py",
   "mimetype": "text/x-python",
   "name": "python",
   "nbconvert_exporter": "python",
   "pygments_lexer": "ipython3",
   "version": "3.9.5"
  },
  "toc": {
   "base_numbering": 1,
   "nav_menu": {},
   "number_sections": true,
   "sideBar": true,
   "skip_h1_title": false,
   "title_cell": "Table of Contents",
   "title_sidebar": "Contents",
   "toc_cell": false,
   "toc_position": {},
   "toc_section_display": true,
   "toc_window_display": false
  },
  "toc-autonumbering": false,
  "toc-showcode": true,
  "toc-showmarkdowntxt": true
 },
 "nbformat": 4,
 "nbformat_minor": 4
}
