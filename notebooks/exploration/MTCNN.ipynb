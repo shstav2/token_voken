{
 "cells": [
  {
   "cell_type": "code",
   "execution_count": 1,
   "id": "technological-rhythm",
   "metadata": {},
   "outputs": [],
   "source": [
    "import os\n",
    "from facenet_pytorch import MTCNN\n",
    "from PIL import Image\n",
    "import torch\n",
    "# from imutils.video import FileVideoStream\n",
    "import cv2\n",
    "import time\n",
    "import glob\n",
    "import matplotlib.pyplot as plt\n",
    "from tqdm.notebook import tqdm"
   ]
  },
  {
   "cell_type": "code",
   "execution_count": 2,
   "id": "complete-excuse",
   "metadata": {},
   "outputs": [],
   "source": [
    "import logging\n",
    "import sys\n",
    "logging.basicConfig(format='%(asctime)s | %(levelname)s : %(message)s',\n",
    "                     level=logging.INFO, stream=sys.stdout)"
   ]
  },
  {
   "cell_type": "code",
   "execution_count": 3,
   "id": "verbal-absolute",
   "metadata": {},
   "outputs": [
    {
     "data": {
      "text/plain": [
       "'cpu'"
      ]
     },
     "execution_count": 3,
     "metadata": {},
     "output_type": "execute_result"
    }
   ],
   "source": [
    "device = 'cuda' if torch.cuda.is_available() else 'cpu'\n",
    "device"
   ]
  },
  {
   "cell_type": "markdown",
   "id": "stable-lender",
   "metadata": {},
   "source": [
    "# MTCNN Model"
   ]
  },
  {
   "cell_type": "code",
   "execution_count": 4,
   "id": "ready-meter",
   "metadata": {},
   "outputs": [],
   "source": [
    "mtcnn = MTCNN(keep_all=False, select_largest=False, device=device)#post_process=False"
   ]
  },
  {
   "cell_type": "markdown",
   "id": "arbitrary-motivation",
   "metadata": {},
   "source": [
    "### Benchmark Batch Mode"
   ]
  },
  {
   "cell_type": "code",
   "execution_count": 5,
   "id": "attractive-craps",
   "metadata": {},
   "outputs": [],
   "source": [
    "interval_frames_dir = '/Users/staveshemesh/Projects/PATS_DATA/Youtube/oliver/hmoAX9f6MOc/102430/vokens/v6_face_annot_224/'\n",
    "frame_paths = [os.path.join(interval_frames_dir, filename) for filename in os.listdir(interval_frames_dir)]\n",
    "frames = [Image.open(frame_path) for frame_path in frame_paths]"
   ]
  },
  {
   "cell_type": "code",
   "execution_count": 7,
   "id": "variable-average",
   "metadata": {},
   "outputs": [
    {
     "name": "stdout",
     "output_type": "stream",
     "text": [
      "2021-05-16 13:40:43,006 | INFO : Start.. 334 batch\n",
      "2021-05-16 13:50:50,821 | INFO : End.\n"
     ]
    }
   ],
   "source": [
    "logging.info(f'Start.. {len(frames)} batch')\n",
    "# Detect face\n",
    "faces = mtcnn(frames)\n",
    "logging.info('End.')"
   ]
  },
  {
   "cell_type": "code",
   "execution_count": 8,
   "id": "intense-facial",
   "metadata": {},
   "outputs": [
    {
     "data": {
      "text/plain": [
       "334"
      ]
     },
     "execution_count": 8,
     "metadata": {},
     "output_type": "execute_result"
    }
   ],
   "source": [
    "len(faces)"
   ]
  },
  {
   "cell_type": "code",
   "execution_count": 9,
   "id": "bacterial-copper",
   "metadata": {},
   "outputs": [
    {
     "name": "stdout",
     "output_type": "stream",
     "text": [
      "2021-05-16 13:52:11,536 | INFO : Start.. 334 non-batch\n",
      "2021-05-16 13:54:42,704 | INFO : End.\n"
     ]
    }
   ],
   "source": [
    "logging.info(f'Start.. {len(frames)} non-batch')\n",
    "# Detect face\n",
    "faces2 = [mtcnn(frame) for frame in frames]\n",
    "logging.info('End.')"
   ]
  },
  {
   "cell_type": "code",
   "execution_count": 10,
   "id": "prescription-brooks",
   "metadata": {},
   "outputs": [
    {
     "name": "stdout",
     "output_type": "stream",
     "text": [
      "2021-05-16 14:06:21,474 | INFO : Start.. 334 batch\n",
      "2021-05-16 14:13:31,576 | INFO : End.\n"
     ]
    }
   ],
   "source": [
    "logging.info(f'Start.. {len(frames)} batch')\n",
    "# Detect face\n",
    "faces = mtcnn(frames)\n",
    "logging.info('End.')"
   ]
  },
  {
   "cell_type": "code",
   "execution_count": 11,
   "id": "upset-soviet",
   "metadata": {},
   "outputs": [
    {
     "name": "stdout",
     "output_type": "stream",
     "text": [
      "2021-05-16 14:21:57,561 | INFO : Start.. 334 non-batch\n",
      "2021-05-16 14:25:15,430 | INFO : End.\n"
     ]
    }
   ],
   "source": [
    "logging.info(f'Start.. {len(frames)} non-batch')\n",
    "# Detect face\n",
    "faces2 = [mtcnn(frame) for frame in frames]\n",
    "logging.info('End.')"
   ]
  },
  {
   "cell_type": "code",
   "execution_count": 5,
   "id": "adverse-track",
   "metadata": {},
   "outputs": [],
   "source": [
    "def save_faces(interval_id, frame_filename, debug=False):\n",
    "    frame_id, frame_path = resolve_paths(frame_filename, interval_id)\n",
    "    \n",
    "    image = Image.open(frame_path)\n",
    "    boxes, probs, points = mtcnn.detect(image, landmarks=True)\n",
    "    img_draw = image.copy()\n",
    "    draw = ImageDraw.Draw(img_draw)\n",
    "    \n",
    "    for i, (box, point) in enumerate(zip(boxes, points)):\n",
    "        draw.rectangle(box.tolist(), width=5)\n",
    "        for p in point:\n",
    "            draw.rectangle((p - 10).tolist() + (p + 10).tolist(), width=10)\n",
    "        detected_face_path = resolve_detected_face_path(interval_id, frame_id, i, create=True)\n",
    "        extract_face(image, box, image_size=224, margin=70, save_path=detected_face_path)\n",
    "    \n",
    "    annotated_faces_path = resolve_annot_faces_path(interval_id, frame_id)\n",
    "    img_draw.save(annotated_faces_path)\n",
    "    \n",
    "    debug_print(debug, frame_filename, frame_id, annotated_faces_path, probs)"
   ]
  },
  {
   "cell_type": "code",
   "execution_count": 15,
   "id": "dying-current",
   "metadata": {},
   "outputs": [],
   "source": [
    "interval_frames_dir = '/Users/staveshemesh/Projects/PATS_DATA/Youtube/oliver/hmoAX9f6MOc/102430/vokens/v6_face_annot_224/'\n",
    "frame_paths = [os.path.join(interval_frames_dir, filename) for filename in os.listdir(interval_frames_dir)]\n",
    "frames = [Image.open(frame_path) for frame_path in frame_paths]"
   ]
  },
  {
   "cell_type": "code",
   "execution_count": null,
   "id": "annoying-speech",
   "metadata": {},
   "outputs": [],
   "source": [
    "interval_frames_dir = '/Users/staveshemesh/Projects/PATS_DATA/Youtube/oliver/hmoAX9f6MOc/102430/vokens/v6_face_annot_224/'\n",
    "frame_paths = [os.path.join(interval_frames_dir, filename) for filename in os.listdir(interval_frames_dir)]\n",
    "frames = [Image.open(frame_path) for frame_path in frame_paths]"
   ]
  }
 ],
 "metadata": {
  "kernelspec": {
   "display_name": "Python 3",
   "language": "python",
   "name": "python3"
  },
  "language_info": {
   "codemirror_mode": {
    "name": "ipython",
    "version": 3
   },
   "file_extension": ".py",
   "mimetype": "text/x-python",
   "name": "python",
   "nbconvert_exporter": "python",
   "pygments_lexer": "ipython3",
   "version": "3.9.5"
  }
 },
 "nbformat": 4,
 "nbformat_minor": 5
}
