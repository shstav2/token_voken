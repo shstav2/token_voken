{
 "cells": [
  {
   "cell_type": "code",
   "execution_count": 1,
   "id": "excited-walter",
   "metadata": {},
   "outputs": [],
   "source": [
    "import os\n",
    "import sys\n",
    "import time\n",
    "import itertools\n",
    "\n",
    "import numpy as np\n",
    "import pandas as pd\n",
    "\n",
    "import torch\n",
    "\n",
    "from ipywidgets import interact\n",
    "import matplotlib.pyplot as plt\n",
    "import seaborn as sns\n",
    "import IPython\n",
    "from IPython.display import Markdown, display\n",
    "from tqdm.notebook import tqdm"
   ]
  },
  {
   "cell_type": "code",
   "execution_count": 2,
   "id": "manual-auckland",
   "metadata": {},
   "outputs": [],
   "source": [
    "sys.path.append('/Users/staveshemesh/Projects/shstav2/token_voken/src')\n",
    "sys.path.append('/Users/staveshemesh/Projects/shstav2/token_voken')\n",
    "from src.common.setup import syspath_append_projects\n",
    "syspath_append_projects()\n",
    "from src.common.path_resolvers import *\n",
    "from src.common.constants import *\n",
    "from src.common.display_utils import *\n",
    "from src.common.commands import *\n",
    "from src.common.status import *"
   ]
  },
  {
   "cell_type": "code",
   "execution_count": 4,
   "id": "outer-passport",
   "metadata": {},
   "outputs": [],
   "source": [
    "DATA_ROOT = '/Users/staveshemesh/Projects/shstav2/token_voken/data/'\n",
    "\n",
    "# Batch 1\n",
    "BATCH1_INTERVALS_FILE = '20210506_135358_df_intervals_batch1_431.csv'\n",
    "BATCH1_INTERVALS_PATH = os.path.join(DATA_ROOT, BATCH1_INTERVALS_FILE)\n",
    "BATCH1_DATASET_FILE = '20210510_190411_df_dataset_batch1_15659.csv'\n",
    "BATCH1_DATASET_PATH = os.path.join(DATA_ROOT, BATCH1_DATASET_FILE)\n",
    "# Batch 2\n",
    "BATCH2_INTERVALS_FILE = 'df_intervals_batch2_500_20210515_195921.csv'\n",
    "BATCH2_INTERVALS_PATH = os.path.join(DATA_ROOT, BATCH2_INTERVALS_FILE)\n",
    "\n",
    "# Valid intervals\n",
    "INPUT_ITERATION = '20210419_220655'\n",
    "VALID_INTERVALS_PATH = os.path.join(DATA_ROOT, INPUT_ITERATION, 'dataframes/df_intervals_valid.csv')\n",
    "\n",
    "TIMESTR = time.strftime(\"%Y%m%d_%H%M%S\")"
   ]
  },
  {
   "cell_type": "markdown",
   "id": "heated-invasion",
   "metadata": {},
   "source": [
    "# Read Data"
   ]
  },
  {
   "cell_type": "code",
   "execution_count": 12,
   "id": "secure-waterproof",
   "metadata": {},
   "outputs": [
    {
     "data": {
      "text/plain": [
       "(431, 33)"
      ]
     },
     "execution_count": 12,
     "metadata": {},
     "output_type": "execute_result"
    }
   ],
   "source": [
    "df_intervals_batch1 = pd.read_csv(BATCH1_INTERVALS_PATH, dtype={'interval_id': object})\n",
    "df_intervals_batch1.shape"
   ]
  },
  {
   "cell_type": "code",
   "execution_count": 14,
   "id": "cathedral-static",
   "metadata": {},
   "outputs": [
    {
     "data": {
      "text/plain": [
       "(15659, 19)"
      ]
     },
     "execution_count": 14,
     "metadata": {},
     "output_type": "execute_result"
    }
   ],
   "source": [
    "df_dataset_batch1 = pd.read_csv(BATCH1_DATASET_PATH, dtype={'interval_id': object, 'frame_selected': object})\n",
    "df_dataset_batch1.shape"
   ]
  },
  {
   "cell_type": "code",
   "execution_count": 7,
   "id": "alternate-strike",
   "metadata": {},
   "outputs": [
    {
     "data": {
      "text/plain": [
       "(2118, 25)"
      ]
     },
     "execution_count": 7,
     "metadata": {},
     "output_type": "execute_result"
    }
   ],
   "source": [
    "df_intervals_valid = pd.read_csv(VALID_INTERVALS_PATH, dtype={'interval_id': object})\n",
    "df_intervals_valid.shape"
   ]
  },
  {
   "cell_type": "code",
   "execution_count": 35,
   "id": "atomic-passage",
   "metadata": {},
   "outputs": [
    {
     "data": {
      "text/plain": [
       "'/Users/staveshemesh/Projects/PATS_DATA/Youtube/oliver/nG2pEffLEJo/101168/vokens/face_annot_224/00037/detected_face_0.png'"
      ]
     },
     "execution_count": 35,
     "metadata": {},
     "output_type": "execute_result"
    }
   ],
   "source": [
    "df_dataset_batch1.frame_face_path.iloc[2000]"
   ]
  },
  {
   "cell_type": "code",
   "execution_count": 18,
   "id": "indoor-germany",
   "metadata": {},
   "outputs": [
    {
     "name": "stdout",
     "output_type": "stream",
     "text": [
      "/Users/staveshemesh/Projects/PATS_DATA/Youtube/oliver/Tt-mpuR_QHQ/100913/vokens/face_annot_224/00069/detected_face_0.png -> /Users/staveshemesh/Projects/PATS_DATA/Youtube/oliver/Tt-mpuR_QHQ/100913/face_annot_224/00069/detected_face_0.png\n"
     ]
    }
   ],
   "source": [
    "\n",
    "source = df_dataset_batch1.iloc[10].frame_face_path\n",
    "target = source.replace('vokens/', '')\n",
    "print(f'{source} -> {target}')"
   ]
  },
  {
   "cell_type": "code",
   "execution_count": null,
   "id": "hidden-eligibility",
   "metadata": {},
   "outputs": [],
   "source": [
    "from distutils.dir_util import copy_tree\n",
    "copy_tree(source, \"/x/y/z\")"
   ]
  },
  {
   "cell_type": "code",
   "execution_count": 19,
   "id": "western-russian",
   "metadata": {},
   "outputs": [
    {
     "ename": "TypeError",
     "evalue": "resolve_interval_face_annot_224_dir() missing 1 required positional argument: 'interval_id'",
     "output_type": "error",
     "traceback": [
      "\u001b[0;31m---------------------------------------------------------------------------\u001b[0m",
      "\u001b[0;31mTypeError\u001b[0m                                 Traceback (most recent call last)",
      "\u001b[0;32m<ipython-input-19-0379e8c95fee>\u001b[0m in \u001b[0;36m<module>\u001b[0;34m\u001b[0m\n\u001b[0;32m----> 1\u001b[0;31m \u001b[0mresolve_interval_face_annot_224_dir\u001b[0m\u001b[0;34m(\u001b[0m\u001b[0;34m'100913'\u001b[0m\u001b[0;34m)\u001b[0m\u001b[0;34m\u001b[0m\u001b[0;34m\u001b[0m\u001b[0m\n\u001b[0m",
      "\u001b[0;31mTypeError\u001b[0m: resolve_interval_face_annot_224_dir() missing 1 required positional argument: 'interval_id'"
     ]
    }
   ],
   "source": [
    "resolve_interval_face_annot_224_dir('100913')"
   ]
  },
  {
   "cell_type": "markdown",
   "id": "exempt-refrigerator",
   "metadata": {},
   "source": [
    "# Face Detection"
   ]
  },
  {
   "cell_type": "code",
   "execution_count": 21,
   "id": "strong-world",
   "metadata": {},
   "outputs": [
    {
     "data": {
      "text/html": [
       "<style  type=\"text/css\" >\n",
       "    #T_cdbbce66_b73d_11eb_bb51_acde48001122 caption {\n",
       "          color: blue;\n",
       "          font-size: 16px;\n",
       "    }</style><table id=\"T_cdbbce66_b73d_11eb_bb51_acde48001122\" ><caption>Existing Frames</caption><thead>    <tr>        <th class=\"blank level0\" ></th>        <th class=\"col_heading level0 col0\" >has_path</th>    </tr></thead><tbody>\n",
       "                <tr>\n",
       "                        <th id=\"T_cdbbce66_b73d_11eb_bb51_acde48001122level0_row0\" class=\"row_heading level0 row0\" >True</th>\n",
       "                        <td id=\"T_cdbbce66_b73d_11eb_bb51_acde48001122row0_col0\" class=\"data row0 col0\" >14701</td>\n",
       "            </tr>\n",
       "            <tr>\n",
       "                        <th id=\"T_cdbbce66_b73d_11eb_bb51_acde48001122level0_row1\" class=\"row_heading level0 row1\" >False</th>\n",
       "                        <td id=\"T_cdbbce66_b73d_11eb_bb51_acde48001122row1_col0\" class=\"data row1 col0\" >958</td>\n",
       "            </tr>\n",
       "    </tbody></table>"
      ],
      "text/plain": [
       "<pandas.io.formats.style.Styler at 0x15acd9e80>"
      ]
     },
     "execution_count": 21,
     "metadata": {},
     "output_type": "execute_result"
    }
   ],
   "source": [
    "df_dataset_batch1['has_path'] = df_dataset_batch1.frame_face_path.apply(os.path.exists)\n",
    "df_with_caption(df_dataset_batch1['has_path'].value_counts().to_frame(), 'Existing Frames')"
   ]
  },
  {
   "cell_type": "markdown",
   "id": "moral-rings",
   "metadata": {},
   "source": [
    "## MTCNN Model"
   ]
  },
  {
   "cell_type": "code",
   "execution_count": 8,
   "id": "warming-prediction",
   "metadata": {},
   "outputs": [],
   "source": [
    "from PIL import Image, ImageDraw, UnidentifiedImageError, ImageFont\n",
    "from facenet_pytorch import MTCNN, extract_face"
   ]
  },
  {
   "cell_type": "code",
   "execution_count": 9,
   "id": "governmental-resident",
   "metadata": {},
   "outputs": [],
   "source": [
    "mtcnn = MTCNN(select_largest=False, thresholds=[0.9, 0.9, 0.9], device='cpu')"
   ]
  },
  {
   "cell_type": "code",
   "execution_count": 10,
   "id": "processed-defensive",
   "metadata": {},
   "outputs": [],
   "source": [
    "display_every = 187\n",
    "FRAME_EXTENSION = 'jpg'\n",
    "\n",
    "def create_face_images(interval_ids):\n",
    "    for interval_id in tqdm(interval_ids):\n",
    "        frames_dir = resolve_interval_frames_dir(df_intervals_valid, interval_id)\n",
    "        print(frames_dir)\n",
    "        frames = sorted(os.listdir(frames_dir))\n",
    "        for frame_filename in frames:\n",
    "            if frame_filename.endswith(f\".{FRAME_EXTENSION}\"):\n",
    "                frame_fullpath = os.path.join(frames_dir, frame_filename)\n",
    "                frame_id = int(frame_filename.split(\".\")[0])\n",
    "                save_faces(interval_id, frame_id, frame_fullpath)\n",
    "\n",
    "def save_faces(interval_id, frame_id, frame_path, debug=False):\n",
    "    image = Image.open(frame_path)\n",
    "    boxes, probs, points = mtcnn.detect(image, landmarks=True)\n",
    "    img_draw = image.copy()\n",
    "    draw = ImageDraw.Draw(img_draw)\n",
    "    \n",
    "    for i, (box, point, prob) in enumerate(zip(boxes, points, probs)):\n",
    "        draw.rectangle(box.tolist(), width=10)\n",
    "        for p in point:\n",
    "            draw.rectangle((p - 10).tolist() + (p + 10).tolist(), width=5)\n",
    "        detected_face_path = resolve_detected_face_path(df_intervals_valid, interval_id, frame_id, i, create=True)\n",
    "        extract_face(image, box, image_size=224, margin=70, save_path=detected_face_path)\n",
    "    \n",
    "    annotated_faces_path = resolve_annot_faces_path(df_intervals_valid, interval_id, frame_id)\n",
    "    img_draw.save(annotated_faces_path)\n",
    "    \n",
    "    debug_print(debug, frame_path, frame_id, annotated_faces_path, probs)\n",
    "    \n",
    "\n",
    "def debug_print(debug, frame_filename, frame_id, annotated_faces_path, probs):\n",
    "    should_display = debug or (f'000.{FRAME_EXTENSION}' in frame_filename)\n",
    "    if should_display:\n",
    "        print(f'Frame id: {frame_id}. Ouput dir: {annotated_faces_path}..')\n",
    "        print(f'probs: {probs}')\n",
    "        display(IPython.display.Image(annotated_faces_path, height=500, width=500))"
   ]
  },
  {
   "cell_type": "code",
   "execution_count": 36,
   "id": "aware-feature",
   "metadata": {},
   "outputs": [],
   "source": [
    "pending_interval_ids = df_dataset_batch1[~df_dataset_batch1['has_path']]['interval_id'].tolist()"
   ]
  },
  {
   "cell_type": "code",
   "execution_count": 51,
   "id": "social-gabriel",
   "metadata": {},
   "outputs": [
    {
     "data": {
      "text/plain": [
       "['/Users/staveshemesh/Projects/PATS_DATA/Youtube/oliver/Tt-mpuR_QHQ/100913/vokens/face_annot_224/00002/detected_face_0.png',\n",
       " '/Users/staveshemesh/Projects/PATS_DATA/Youtube/oliver/Tt-mpuR_QHQ/100913/vokens/face_annot_224/00006/detected_face_0.png',\n",
       " '/Users/staveshemesh/Projects/PATS_DATA/Youtube/oliver/Tt-mpuR_QHQ/100913/vokens/face_annot_224/00011/detected_face_0.png',\n",
       " '/Users/staveshemesh/Projects/PATS_DATA/Youtube/oliver/Tt-mpuR_QHQ/100913/vokens/face_annot_224/00017/detected_face_0.png',\n",
       " '/Users/staveshemesh/Projects/PATS_DATA/Youtube/oliver/Tt-mpuR_QHQ/100913/vokens/face_annot_224/00033/detected_face_0.png',\n",
       " '/Users/staveshemesh/Projects/PATS_DATA/Youtube/oliver/Tt-mpuR_QHQ/100913/vokens/face_annot_224/00033/detected_face_0.png',\n",
       " '/Users/staveshemesh/Projects/PATS_DATA/Youtube/oliver/Tt-mpuR_QHQ/100913/vokens/face_annot_224/00048/detected_face_0.png',\n",
       " '/Users/staveshemesh/Projects/PATS_DATA/Youtube/oliver/Tt-mpuR_QHQ/100913/vokens/face_annot_224/00053/detected_face_0.png',\n",
       " '/Users/staveshemesh/Projects/PATS_DATA/Youtube/oliver/Tt-mpuR_QHQ/100913/vokens/face_annot_224/00059/detected_face_0.png',\n",
       " '/Users/staveshemesh/Projects/PATS_DATA/Youtube/oliver/Tt-mpuR_QHQ/100913/vokens/face_annot_224/00062/detected_face_0.png']"
      ]
     },
     "execution_count": 51,
     "metadata": {},
     "output_type": "execute_result"
    }
   ],
   "source": [
    "df_dataset_batch1['frame_face_path'].tolist()[:10]"
   ]
  },
  {
   "cell_type": "code",
   "execution_count": 37,
   "id": "creative-moral",
   "metadata": {},
   "outputs": [
    {
     "data": {
      "text/plain": [
       "958"
      ]
     },
     "execution_count": 37,
     "metadata": {},
     "output_type": "execute_result"
    }
   ],
   "source": [
    "len(pending_interval_ids)"
   ]
  },
  {
   "cell_type": "code",
   "execution_count": 41,
   "id": "several-administrator",
   "metadata": {},
   "outputs": [],
   "source": [
    "all_interval_ids = df_dataset_batch1['interval_id'].tolist()"
   ]
  },
  {
   "cell_type": "code",
   "execution_count": 42,
   "id": "thirty-transfer",
   "metadata": {},
   "outputs": [
    {
     "data": {
      "text/plain": [
       "['100913', '100913', '100913']"
      ]
     },
     "execution_count": 42,
     "metadata": {},
     "output_type": "execute_result"
    }
   ],
   "source": [
    "all_interval_ids[:3]"
   ]
  },
  {
   "cell_type": "code",
   "execution_count": 46,
   "id": "ultimate-somalia",
   "metadata": {},
   "outputs": [
    {
     "data": {
      "text/plain": [
       "['101027', '101037', '101084', '101084']"
      ]
     },
     "execution_count": 46,
     "metadata": {},
     "output_type": "execute_result"
    }
   ],
   "source": [
    "pending_interval_ids[:4]"
   ]
  },
  {
   "cell_type": "code",
   "execution_count": 54,
   "id": "executive-settlement",
   "metadata": {},
   "outputs": [
    {
     "data": {
      "text/plain": [
       "'/Users/staveshemesh/Projects/PATS_DATA/Youtube/oliver/MepXBJjsNxs/101926/frames'"
      ]
     },
     "execution_count": 54,
     "metadata": {},
     "output_type": "execute_result"
    }
   ],
   "source": [
    "resolve_interval_frames_dir(df_intervals, '101926')"
   ]
  },
  {
   "cell_type": "code",
   "execution_count": 55,
   "id": "activated-width",
   "metadata": {},
   "outputs": [
    {
     "data": {
      "text/plain": [
       "'/Users/staveshemesh/Projects/PATS_DATA/Youtube/oliver/nG2pEffLEJo/102025/frames'"
      ]
     },
     "execution_count": 55,
     "metadata": {},
     "output_type": "execute_result"
    }
   ],
   "source": [
    "resolve_interval_frames_dir(df_intervals, '102025')"
   ]
  },
  {
   "cell_type": "code",
   "execution_count": 52,
   "id": "straight-terrorism",
   "metadata": {},
   "outputs": [
    {
     "data": {
      "text/html": [
       "<div>\n",
       "<style scoped>\n",
       "    .dataframe tbody tr th:only-of-type {\n",
       "        vertical-align: middle;\n",
       "    }\n",
       "\n",
       "    .dataframe tbody tr th {\n",
       "        vertical-align: top;\n",
       "    }\n",
       "\n",
       "    .dataframe thead th {\n",
       "        text-align: right;\n",
       "    }\n",
       "</style>\n",
       "<table border=\"1\" class=\"dataframe\">\n",
       "  <thead>\n",
       "    <tr style=\"text-align: right;\">\n",
       "      <th></th>\n",
       "      <th>word_original</th>\n",
       "      <th>bert_token</th>\n",
       "      <th>token_id</th>\n",
       "      <th>frame_selected</th>\n",
       "      <th>voken_id</th>\n",
       "      <th>interval_id</th>\n",
       "      <th>offset_start</th>\n",
       "      <th>offset_end</th>\n",
       "      <th>word_time</th>\n",
       "      <th>word_len_plus_1</th>\n",
       "      <th>word_start</th>\n",
       "      <th>word_end</th>\n",
       "      <th>frame_start</th>\n",
       "      <th>frame_end</th>\n",
       "      <th>frame_count</th>\n",
       "      <th>frame_path</th>\n",
       "      <th>frame_face_path</th>\n",
       "      <th>video_id</th>\n",
       "      <th>interval_time</th>\n",
       "      <th>has_path</th>\n",
       "    </tr>\n",
       "  </thead>\n",
       "  <tbody>\n",
       "    <tr>\n",
       "      <th>789</th>\n",
       "      <td>online</td>\n",
       "      <td>online</td>\n",
       "      <td>3784</td>\n",
       "      <td>575</td>\n",
       "      <td>725</td>\n",
       "      <td>101027</td>\n",
       "      <td>603</td>\n",
       "      <td>609</td>\n",
       "      <td>38.3</td>\n",
       "      <td>7</td>\n",
       "      <td>603</td>\n",
       "      <td>609</td>\n",
       "      <td>570</td>\n",
       "      <td>580</td>\n",
       "      <td>10</td>\n",
       "      <td>575_101027_PuNIwYsz7PI</td>\n",
       "      <td>/Users/staveshemesh/Projects/PATS_DATA/Youtube...</td>\n",
       "      <td>PuNIwYsz7PI</td>\n",
       "      <td>38.705372</td>\n",
       "      <td>False</td>\n",
       "    </tr>\n",
       "  </tbody>\n",
       "</table>\n",
       "</div>"
      ],
      "text/plain": [
       "    word_original bert_token  token_id frame_selected  voken_id interval_id  \\\n",
       "789        online     online      3784            575       725      101027   \n",
       "\n",
       "     offset_start  offset_end  word_time  word_len_plus_1  word_start  \\\n",
       "789           603         609       38.3                7         603   \n",
       "\n",
       "     word_end  frame_start  frame_end  frame_count              frame_path  \\\n",
       "789       609          570        580           10  575_101027_PuNIwYsz7PI   \n",
       "\n",
       "                                       frame_face_path     video_id  \\\n",
       "789  /Users/staveshemesh/Projects/PATS_DATA/Youtube...  PuNIwYsz7PI   \n",
       "\n",
       "     interval_time  has_path  \n",
       "789      38.705372     False  "
      ]
     },
     "execution_count": 52,
     "metadata": {},
     "output_type": "execute_result"
    }
   ],
   "source": [
    "df_dataset_batch1[(~df_dataset_batch1['has_path']) & (df_dataset_batch1['interval_id'] == '101027')]"
   ]
  },
  {
   "cell_type": "code",
   "execution_count": 53,
   "id": "balanced-blink",
   "metadata": {},
   "outputs": [
    {
     "data": {
      "text/plain": [
       "101926    75\n",
       "102025    62\n",
       "101951    61\n",
       "104432    56\n",
       "101741    50\n",
       "101300    46\n",
       "101928    44\n",
       "104948    41\n",
       "101969    40\n",
       "101954    33\n",
       "104420    33\n",
       "101678    31\n",
       "101302    30\n",
       "104937    28\n",
       "104788    27\n",
       "101979    26\n",
       "104775    25\n",
       "104770    22\n",
       "104885    22\n",
       "101687    22\n",
       "104853    19\n",
       "101962    18\n",
       "104921    15\n",
       "101956    14\n",
       "102079    14\n",
       "104957    14\n",
       "101980    14\n",
       "104818    13\n",
       "104928    11\n",
       "104716     9\n",
       "101686     8\n",
       "104918     6\n",
       "102300     6\n",
       "101665     3\n",
       "104470     2\n",
       "101856     2\n",
       "104973     2\n",
       "101084     2\n",
       "101676     1\n",
       "105040     1\n",
       "104613     1\n",
       "101037     1\n",
       "101361     1\n",
       "104285     1\n",
       "101791     1\n",
       "101832     1\n",
       "101695     1\n",
       "104345     1\n",
       "101205     1\n",
       "101027     1\n",
       "Name: interval_id, dtype: int64"
      ]
     },
     "execution_count": 53,
     "metadata": {},
     "output_type": "execute_result"
    }
   ],
   "source": [
    "df_dataset_batch1[(~df_dataset_batch1['has_path'])]['interval_id'].value_counts()"
   ]
  },
  {
   "cell_type": "code",
   "execution_count": 39,
   "id": "environmental-chicken",
   "metadata": {},
   "outputs": [
    {
     "data": {
      "text/plain": [
       "'/Users/staveshemesh/Projects/PATS_DATA/Youtube/oliver/8-hahRWhFvg/101300/frames'"
      ]
     },
     "execution_count": 39,
     "metadata": {},
     "output_type": "execute_result"
    }
   ],
   "source": [
    "for interval in \n",
    "resolve_interval_frames_dir(df_intervals, pending_interval_ids[10])"
   ]
  },
  {
   "cell_type": "code",
   "execution_count": 28,
   "id": "broad-mozambique",
   "metadata": {},
   "outputs": [
    {
     "data": {
      "application/vnd.jupyter.widget-view+json": {
       "model_id": "9a1fdc2850134bf6b1543b5f647859f3",
       "version_major": 2,
       "version_minor": 0
      },
      "text/plain": [
       "HBox(children=(FloatProgress(value=0.0), HTML(value='')))"
      ]
     },
     "metadata": {},
     "output_type": "display_data"
    },
    {
     "name": "stdout",
     "output_type": "stream",
     "text": [
      "/Users/staveshemesh/Projects/PATS_DATA/Youtube/oliver/PuNIwYsz7PI/101027/frames\n",
      "\n"
     ]
    },
    {
     "ename": "FileNotFoundError",
     "evalue": "[Errno 2] No such file or directory: '/Users/staveshemesh/Projects/PATS_DATA/Youtube/oliver/PuNIwYsz7PI/101027/frames'",
     "output_type": "error",
     "traceback": [
      "\u001b[0;31m---------------------------------------------------------------------------\u001b[0m",
      "\u001b[0;31mFileNotFoundError\u001b[0m                         Traceback (most recent call last)",
      "\u001b[0;32m<ipython-input-28-b2d6d45683fc>\u001b[0m in \u001b[0;36m<module>\u001b[0;34m\u001b[0m\n\u001b[0;32m----> 1\u001b[0;31m \u001b[0mcreate_face_images\u001b[0m\u001b[0;34m(\u001b[0m\u001b[0mpending_interval_ids\u001b[0m\u001b[0;34m[\u001b[0m\u001b[0;34m:\u001b[0m\u001b[0;36m100\u001b[0m\u001b[0;34m]\u001b[0m\u001b[0;34m)\u001b[0m\u001b[0;34m\u001b[0m\u001b[0;34m\u001b[0m\u001b[0m\n\u001b[0m",
      "\u001b[0;32m<ipython-input-10-198e530da310>\u001b[0m in \u001b[0;36mcreate_face_images\u001b[0;34m(interval_ids)\u001b[0m\n\u001b[1;32m      6\u001b[0m         \u001b[0mframes_dir\u001b[0m \u001b[0;34m=\u001b[0m \u001b[0mresolve_interval_frames_dir\u001b[0m\u001b[0;34m(\u001b[0m\u001b[0mdf_intervals_valid\u001b[0m\u001b[0;34m,\u001b[0m \u001b[0minterval_id\u001b[0m\u001b[0;34m)\u001b[0m\u001b[0;34m\u001b[0m\u001b[0;34m\u001b[0m\u001b[0m\n\u001b[1;32m      7\u001b[0m         \u001b[0mprint\u001b[0m\u001b[0;34m(\u001b[0m\u001b[0mframes_dir\u001b[0m\u001b[0;34m)\u001b[0m\u001b[0;34m\u001b[0m\u001b[0;34m\u001b[0m\u001b[0m\n\u001b[0;32m----> 8\u001b[0;31m         \u001b[0mframes\u001b[0m \u001b[0;34m=\u001b[0m \u001b[0msorted\u001b[0m\u001b[0;34m(\u001b[0m\u001b[0mos\u001b[0m\u001b[0;34m.\u001b[0m\u001b[0mlistdir\u001b[0m\u001b[0;34m(\u001b[0m\u001b[0mframes_dir\u001b[0m\u001b[0;34m)\u001b[0m\u001b[0;34m)\u001b[0m\u001b[0;34m\u001b[0m\u001b[0;34m\u001b[0m\u001b[0m\n\u001b[0m\u001b[1;32m      9\u001b[0m         \u001b[0;32mfor\u001b[0m \u001b[0mframe_filename\u001b[0m \u001b[0;32min\u001b[0m \u001b[0mframes\u001b[0m\u001b[0;34m:\u001b[0m\u001b[0;34m\u001b[0m\u001b[0;34m\u001b[0m\u001b[0m\n\u001b[1;32m     10\u001b[0m             \u001b[0;32mif\u001b[0m \u001b[0mframe_filename\u001b[0m\u001b[0;34m.\u001b[0m\u001b[0mendswith\u001b[0m\u001b[0;34m(\u001b[0m\u001b[0;34mf\".{FRAME_EXTENSION}\"\u001b[0m\u001b[0;34m)\u001b[0m\u001b[0;34m:\u001b[0m\u001b[0;34m\u001b[0m\u001b[0;34m\u001b[0m\u001b[0m\n",
      "\u001b[0;31mFileNotFoundError\u001b[0m: [Errno 2] No such file or directory: '/Users/staveshemesh/Projects/PATS_DATA/Youtube/oliver/PuNIwYsz7PI/101027/frames'"
     ]
    }
   ],
   "source": [
    "create_face_images(pending_interval_ids[:100])"
   ]
  },
  {
   "cell_type": "code",
   "execution_count": null,
   "id": "informative-alberta",
   "metadata": {},
   "outputs": [],
   "source": []
  }
 ],
 "metadata": {
  "kernelspec": {
   "display_name": "Python 3",
   "language": "python",
   "name": "python3"
  },
  "language_info": {
   "codemirror_mode": {
    "name": "ipython",
    "version": 3
   },
   "file_extension": ".py",
   "mimetype": "text/x-python",
   "name": "python",
   "nbconvert_exporter": "python",
   "pygments_lexer": "ipython3",
   "version": "3.9.5"
  }
 },
 "nbformat": 4,
 "nbformat_minor": 5
}
