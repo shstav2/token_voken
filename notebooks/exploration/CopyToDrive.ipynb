{
 "cells": [
  {
   "cell_type": "code",
   "execution_count": 2,
   "id": "responsible-break",
   "metadata": {},
   "outputs": [],
   "source": [
    "import os\n",
    "import sys\n",
    "import time\n",
    "import itertools\n",
    "\n",
    "import numpy as np\n",
    "import pandas as pd\n",
    "\n",
    "import torch\n",
    "\n",
    "from ipywidgets import interact\n",
    "import matplotlib.pyplot as plt\n",
    "import seaborn as sns\n",
    "import IPython\n",
    "from IPython.display import Markdown, display\n",
    "from tqdm.notebook import tqdm"
   ]
  },
  {
   "cell_type": "code",
   "execution_count": 3,
   "id": "distributed-darkness",
   "metadata": {},
   "outputs": [],
   "source": [
    "# sys.path.append('/Users/staveshemesh/Projects/shstav2/token_voken/src')\n",
    "# sys.path.append('/Users/staveshemesh/Projects/shstav2/token_voken')\n",
    "# from src.common.setup import syspath_append_projects\n",
    "# syspath_append_projects()\n",
    "# from src.common.path_resolvers import *\n",
    "# from src.common.constants import *\n",
    "# from src.common.display_utils import *\n",
    "# from src.common.commands import *\n",
    "# from src.common.status import *"
   ]
  },
  {
   "cell_type": "code",
   "execution_count": 4,
   "id": "quantitative-annotation",
   "metadata": {},
   "outputs": [],
   "source": [
    "DATA_ROOT = '/Users/staveshemesh/Projects/shstav2/token_voken/data'\n",
    "INTERVALS_FILE = 'df_intervals_batch2_500_20210515_195921.csv'\n",
    "INTERVALS_PATH = os.path.join(DATA_ROOT, INTERVALS_FILE)\n",
    "\n",
    "TIMESTR = time.strftime(\"%Y%m%d_%H%M%S\")"
   ]
  },
  {
   "cell_type": "markdown",
   "id": "mounted-jason",
   "metadata": {},
   "source": [
    "# Read Data"
   ]
  },
  {
   "cell_type": "code",
   "execution_count": 5,
   "id": "sought-restriction",
   "metadata": {},
   "outputs": [],
   "source": [
    "df_intervals = pd.read_csv(INTERVALS_PATH, dtype={'interval_id': object})"
   ]
  },
  {
   "cell_type": "code",
   "execution_count": 6,
   "id": "posted-guatemala",
   "metadata": {},
   "outputs": [
    {
     "data": {
      "text/plain": [
       "(500, 35)"
      ]
     },
     "execution_count": 6,
     "metadata": {},
     "output_type": "execute_result"
    }
   ],
   "source": [
    "df_intervals.shape"
   ]
  },
  {
   "cell_type": "code",
   "execution_count": 7,
   "id": "clinical-cosmetic",
   "metadata": {},
   "outputs": [
    {
     "data": {
      "text/plain": [
       "Wpzvaqypav8    27\n",
       "YQZ2UeOTO3I    19\n",
       "PDylgzybWAw    19\n",
       "oDPCmmZifE8    18\n",
       "Nn_Zln_4pA8    17\n",
       "3bxcc3SM_KA    17\n",
       "hmoAX9f6MOc    17\n",
       "YEGpriv2TAc    15\n",
       "6UsHHOCH4q8    15\n",
       "wD8AwgO0AQI    13\n",
       "TrS0uNBuG9c    13\n",
       "bq2_wSsDwkQ    12\n",
       "4Z4j2CrJRn4    12\n",
       "E_F5GxCwizc    12\n",
       "Tt-mpuR_QHQ    11\n",
       "GUizvEjR-0U    11\n",
       "QplQL5eAxlY    11\n",
       "fpbOEoRrHyU    10\n",
       "_Pz3syET3DY    10\n",
       "9PK-netuhHA    10\n",
       "zNdkrtfZP8I    10\n",
       "CesHr99ezWE    10\n",
       "pDVmldTurqk     9\n",
       "FVFdsl29s_Q     9\n",
       "MepXBJjsNxs     9\n",
       "0Rnq1NpHdmw     9\n",
       "umqvYhb3wf4     8\n",
       "5scez5dqtAc     8\n",
       "xcwJt4bcnXs     8\n",
       "aIMgfBZrrZ8     8\n",
       "Name: video_id, dtype: int64"
      ]
     },
     "execution_count": 7,
     "metadata": {},
     "output_type": "execute_result"
    }
   ],
   "source": [
    "df_intervals['video_id'].value_counts()[:30]"
   ]
  },
  {
   "cell_type": "code",
   "execution_count": 14,
   "id": "prime-warehouse",
   "metadata": {},
   "outputs": [
    {
     "data": {
      "text/plain": [
       "mOVPStnVgvU    5\n",
       "OubM8bD9kck    5\n",
       "PuNIwYsz7PI    4\n",
       "5d667Bb_iYA    4\n",
       "nG2pEffLEJo    4\n",
       "92vuuZt7wak    4\n",
       "5xnZ_CeTqyM    4\n",
       "ZwY2E0hjGuU    4\n",
       "7-LPcVo7gC0    4\n",
       "P8pjd1QEA0c    4\n",
       "BcR_Wg42dv8    3\n",
       "fJ9prhPV2PI    3\n",
       "1Y1ya-yF35g    3\n",
       "nJ24vcyJxDs    2\n",
       "XEVlyP4_11M    2\n",
       "AJKfs4ZnbNE    2\n",
       "boI4D1FlIVs    2\n",
       "IYfgvS0FA7U    2\n",
       "h1Lfd1aB9YI    2\n",
       "xAnw2atT628    1\n",
       "8-hahRWhFvg    1\n",
       "hkYzuHMcP64    1\n",
       "2sWRXr2Yu9g    1\n",
       "HKMNKS-9ugY    1\n",
       "l9qA8c-E_oA    1\n",
       "PsB1e-1BB4Y    1\n",
       "5cBV8KFFasY    1\n",
       "r-ERajkMXw0    1\n",
       "uiN_-AEhTpk    1\n",
       "8YQ_HGvrHEU    1\n",
       "Name: video_id, dtype: int64"
      ]
     },
     "execution_count": 14,
     "metadata": {},
     "output_type": "execute_result"
    }
   ],
   "source": [
    "df_intervals['video_id'].value_counts()[-30:].video_ids"
   ]
  },
  {
   "cell_type": "code",
   "execution_count": 15,
   "id": "similar-captain",
   "metadata": {},
   "outputs": [
    {
     "ename": "TypeError",
     "evalue": "'numpy.ndarray' object is not callable",
     "output_type": "error",
     "traceback": [
      "\u001b[0;31m---------------------------------------------------------------------------\u001b[0m",
      "\u001b[0;31mTypeError\u001b[0m                                 Traceback (most recent call last)",
      "\u001b[0;32m<ipython-input-15-bc627fb85902>\u001b[0m in \u001b[0;36m<module>\u001b[0;34m\u001b[0m\n\u001b[0;32m----> 1\u001b[0;31m \u001b[0mdf_intervals\u001b[0m\u001b[0;34m[\u001b[0m\u001b[0;34m'video_id'\u001b[0m\u001b[0;34m]\u001b[0m\u001b[0;34m.\u001b[0m\u001b[0mvalue_counts\u001b[0m\u001b[0;34m(\u001b[0m\u001b[0;34m)\u001b[0m\u001b[0;34m[\u001b[0m\u001b[0;34m-\u001b[0m\u001b[0;36m30\u001b[0m\u001b[0;34m:\u001b[0m\u001b[0;34m]\u001b[0m\u001b[0;34m.\u001b[0m\u001b[0mvalues\u001b[0m\u001b[0;34m(\u001b[0m\u001b[0;34m)\u001b[0m\u001b[0;34m\u001b[0m\u001b[0;34m\u001b[0m\u001b[0m\n\u001b[0m",
      "\u001b[0;31mTypeError\u001b[0m: 'numpy.ndarray' object is not callable"
     ]
    }
   ],
   "source": [
    "df_intervals['video_id'].value_counts()[-30:].values()"
   ]
  },
  {
   "cell_type": "code",
   "execution_count": 5,
   "id": "hungry-plate",
   "metadata": {},
   "outputs": [
    {
     "data": {
      "text/plain": [
       "(500, 35)"
      ]
     },
     "execution_count": 5,
     "metadata": {},
     "output_type": "execute_result"
    }
   ],
   "source": [
    "df_intervals.shape"
   ]
  },
  {
   "cell_type": "code",
   "execution_count": 7,
   "id": "pressing-startup",
   "metadata": {},
   "outputs": [],
   "source": [
    "interval_ids = df_intervals['interval_id'].tolist()"
   ]
  },
  {
   "cell_type": "code",
   "execution_count": 10,
   "id": "falling-policy",
   "metadata": {},
   "outputs": [
    {
     "data": {
      "text/plain": [
       "68"
      ]
     },
     "execution_count": 10,
     "metadata": {},
     "output_type": "execute_result"
    }
   ],
   "source": [
    "df_intervals['video_id'].nunique()"
   ]
  },
  {
   "cell_type": "code",
   "execution_count": 12,
   "id": "effective-enzyme",
   "metadata": {},
   "outputs": [
    {
     "name": "stdout",
     "output_type": "stream",
     "text": [
      "Requirement already satisfied: pydrive in /Users/staveshemesh/.pyenv/versions/3.6.8/lib/python3.6/site-packages (1.3.1)\n",
      "Requirement already satisfied: oauth2client>=4.0.0 in /Users/staveshemesh/.pyenv/versions/3.6.8/lib/python3.6/site-packages (from pydrive) (4.1.3)\n",
      "Requirement already satisfied: google-api-python-client>=1.2 in /Users/staveshemesh/.pyenv/versions/3.6.8/lib/python3.6/site-packages (from pydrive) (1.12.8)\n",
      "Requirement already satisfied: PyYAML>=3.0 in /Users/staveshemesh/.pyenv/versions/3.6.8/lib/python3.6/site-packages (from pydrive) (5.3.1)\n",
      "Collecting six<2dev,>=1.13.0\n",
      "  Downloading six-1.16.0-py2.py3-none-any.whl (11 kB)\n",
      "Requirement already satisfied: httplib2<1dev,>=0.15.0 in /Users/staveshemesh/.pyenv/versions/3.6.8/lib/python3.6/site-packages (from google-api-python-client>=1.2->pydrive) (0.18.1)\n",
      "Collecting google-auth>=1.16.0\n",
      "  Downloading google_auth-1.30.0-py2.py3-none-any.whl (146 kB)\n",
      "\u001b[K     |████████████████████████████████| 146 kB 571 kB/s eta 0:00:01\n",
      "\u001b[?25hRequirement already satisfied: uritemplate<4dev,>=3.0.0 in /Users/staveshemesh/.pyenv/versions/3.6.8/lib/python3.6/site-packages (from google-api-python-client>=1.2->pydrive) (3.0.1)\n",
      "Requirement already satisfied: google-api-core<2dev,>=1.21.0 in /Users/staveshemesh/.pyenv/versions/3.6.8/lib/python3.6/site-packages (from google-api-python-client>=1.2->pydrive) (1.23.0)\n",
      "Requirement already satisfied: google-auth-httplib2>=0.0.3 in /Users/staveshemesh/.pyenv/versions/3.6.8/lib/python3.6/site-packages (from google-api-python-client>=1.2->pydrive) (0.0.4)\n",
      "Requirement already satisfied: pytz in /Users/staveshemesh/.pyenv/versions/3.6.8/lib/python3.6/site-packages (from google-api-core<2dev,>=1.21.0->google-api-python-client>=1.2->pydrive) (2019.3)\n",
      "Requirement already satisfied: setuptools>=34.0.0 in /Users/staveshemesh/.pyenv/versions/3.6.8/lib/python3.6/site-packages (from google-api-core<2dev,>=1.21.0->google-api-python-client>=1.2->pydrive) (50.3.2)\n",
      "Requirement already satisfied: googleapis-common-protos<2.0dev,>=1.6.0 in /Users/staveshemesh/.pyenv/versions/3.6.8/lib/python3.6/site-packages (from google-api-core<2dev,>=1.21.0->google-api-python-client>=1.2->pydrive) (1.52.0)\n",
      "Requirement already satisfied: protobuf>=3.12.0 in /Users/staveshemesh/.pyenv/versions/3.6.8/lib/python3.6/site-packages (from google-api-core<2dev,>=1.21.0->google-api-python-client>=1.2->pydrive) (3.12.2)\n",
      "Requirement already satisfied: requests<3.0.0dev,>=2.18.0 in /Users/staveshemesh/.pyenv/versions/3.6.8/lib/python3.6/site-packages (from google-api-core<2dev,>=1.21.0->google-api-python-client>=1.2->pydrive) (2.21.0)\n",
      "Requirement already satisfied: cachetools<5.0,>=2.0.0 in /Users/staveshemesh/.pyenv/versions/3.6.8/lib/python3.6/site-packages (from google-auth>=1.16.0->google-api-python-client>=1.2->pydrive) (4.1.0)\n",
      "Requirement already satisfied: rsa<5,>=3.1.4 in /Users/staveshemesh/.pyenv/versions/3.6.8/lib/python3.6/site-packages (from google-auth>=1.16.0->google-api-python-client>=1.2->pydrive) (4.0)\n",
      "Requirement already satisfied: pyasn1-modules>=0.2.1 in /Users/staveshemesh/.pyenv/versions/3.6.8/lib/python3.6/site-packages (from google-auth>=1.16.0->google-api-python-client>=1.2->pydrive) (0.2.8)\n",
      "Requirement already satisfied: pyasn1>=0.1.7 in /Users/staveshemesh/.pyenv/versions/3.6.8/lib/python3.6/site-packages (from oauth2client>=4.0.0->pydrive) (0.4.8)\n",
      "Requirement already satisfied: chardet<3.1.0,>=3.0.2 in /Users/staveshemesh/.pyenv/versions/3.6.8/lib/python3.6/site-packages (from requests<3.0.0dev,>=2.18.0->google-api-core<2dev,>=1.21.0->google-api-python-client>=1.2->pydrive) (3.0.4)\n",
      "Requirement already satisfied: urllib3<1.25,>=1.21.1 in /Users/staveshemesh/.pyenv/versions/3.6.8/lib/python3.6/site-packages (from requests<3.0.0dev,>=2.18.0->google-api-core<2dev,>=1.21.0->google-api-python-client>=1.2->pydrive) (1.24.3)\n",
      "Requirement already satisfied: idna<2.9,>=2.5 in /Users/staveshemesh/.pyenv/versions/3.6.8/lib/python3.6/site-packages (from requests<3.0.0dev,>=2.18.0->google-api-core<2dev,>=1.21.0->google-api-python-client>=1.2->pydrive) (2.8)\n",
      "Requirement already satisfied: certifi>=2017.4.17 in /Users/staveshemesh/.pyenv/versions/3.6.8/lib/python3.6/site-packages (from requests<3.0.0dev,>=2.18.0->google-api-core<2dev,>=1.21.0->google-api-python-client>=1.2->pydrive) (2019.11.28)\n",
      "Installing collected packages: six, google-auth\n",
      "  Attempting uninstall: six\n",
      "    Found existing installation: six 1.12.0\n",
      "    Uninstalling six-1.12.0:\n",
      "      Successfully uninstalled six-1.12.0\n",
      "  Attempting uninstall: google-auth\n",
      "    Found existing installation: google-auth 1.4.2\n",
      "    Uninstalling google-auth-1.4.2:\n",
      "      Successfully uninstalled google-auth-1.4.2\n",
      "Successfully installed google-auth-1.30.0 six-1.16.0\n",
      "\u001b[33mWARNING: You are using pip version 21.0.1; however, version 21.1.1 is available.\n",
      "You should consider upgrading via the '/Users/staveshemesh/.pyenv/versions/3.6.8/bin/python3 -m pip install --upgrade pip' command.\u001b[0m\n"
     ]
    }
   ],
   "source": [
    "!pip install pydrive -U"
   ]
  },
  {
   "cell_type": "code",
   "execution_count": 1,
   "id": "adopted-recognition",
   "metadata": {},
   "outputs": [],
   "source": [
    "from pydrive.auth import GoogleAuth\n",
    "from pydrive.drive import GoogleDrive"
   ]
  },
  {
   "cell_type": "code",
   "execution_count": 2,
   "id": "precious-scott",
   "metadata": {},
   "outputs": [
    {
     "ename": "NameError",
     "evalue": "name 'df_intervals' is not defined",
     "output_type": "error",
     "traceback": [
      "\u001b[0;31m---------------------------------------------------------------------------\u001b[0m",
      "\u001b[0;31mNameError\u001b[0m                                 Traceback (most recent call last)",
      "\u001b[0;32m<ipython-input-2-7631da503831>\u001b[0m in \u001b[0;36m<module>\u001b[0;34m\u001b[0m\n\u001b[0;32m----> 1\u001b[0;31m \u001b[0mdf_intervals\u001b[0m\u001b[0;34m\u001b[0m\u001b[0;34m\u001b[0m\u001b[0m\n\u001b[0m",
      "\u001b[0;31mNameError\u001b[0m: name 'df_intervals' is not defined"
     ]
    }
   ],
   "source": [
    "df_inte"
   ]
  },
  {
   "cell_type": "code",
   "execution_count": null,
   "id": "graduate-giving",
   "metadata": {},
   "outputs": [],
   "source": []
  }
 ],
 "metadata": {
  "kernelspec": {
   "display_name": "Python 3",
   "language": "python",
   "name": "python3"
  },
  "language_info": {
   "codemirror_mode": {
    "name": "ipython",
    "version": 3
   },
   "file_extension": ".py",
   "mimetype": "text/x-python",
   "name": "python",
   "nbconvert_exporter": "python",
   "pygments_lexer": "ipython3",
   "version": "3.6.8"
  }
 },
 "nbformat": 4,
 "nbformat_minor": 5
}
