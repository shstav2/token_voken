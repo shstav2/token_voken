{
 "cells": [
  {
   "cell_type": "code",
   "execution_count": 19,
   "id": "streaming-glossary",
   "metadata": {},
   "outputs": [],
   "source": [
    "import os\n",
    "import h5py\n",
    "import pandas as pd"
   ]
  },
  {
   "cell_type": "code",
   "execution_count": 6,
   "id": "disturbed-columbus",
   "metadata": {},
   "outputs": [],
   "source": [
    "VOKENS_DIR = '/Users/staveshemesh/Projects/shstav2/snap/xmatching/bert_resnext/vokens'\n",
    "VOKENS_PATH = os.path.join(VOKENS_DIR, 'wiki.train.raw.vg_nococo.hdf5')\n",
    "VOKEN_IDS_PATH = os.path.join(VOKENS_DIR, 'wiki.train.raw.vg_nococo.ids')"
   ]
  },
  {
   "cell_type": "markdown",
   "id": "parental-right",
   "metadata": {},
   "source": [
    "# Vokens"
   ]
  },
  {
   "cell_type": "code",
   "execution_count": 10,
   "id": "binding-laugh",
   "metadata": {},
   "outputs": [
    {
     "name": "stdout",
     "output_type": "stream",
     "text": [
      "total 886560\n",
      "drwxr-xr-x  4 staveshemesh  staff   128B Feb 18 13:00 \u001b[1m\u001b[36m.\u001b[m\u001b[m\n",
      "drwxr-xr-x  4 staveshemesh  staff   128B Feb 18 14:42 \u001b[1m\u001b[36m..\u001b[m\u001b[m\n",
      "-rw-r--r--  1 staveshemesh  staff   425M Dec  7 23:36 wiki.train.raw.vg_nococo.hdf5\n",
      "-rw-r--r--  1 staveshemesh  staff   877K Dec  7 23:36 wiki.train.raw.vg_nococo.ids\n"
     ]
    }
   ],
   "source": [
    "!ls -alh {VOKENS_DIR}"
   ]
  },
  {
   "cell_type": "markdown",
   "id": "legitimate-blend",
   "metadata": {},
   "source": [
    "## Voken Unique Ids"
   ]
  },
  {
   "cell_type": "code",
   "execution_count": 12,
   "id": "perfect-organization",
   "metadata": {},
   "outputs": [
    {
     "name": "stdout",
     "output_type": "stream",
     "text": [
      "vg_nococo/1\n",
      "vg_nococo/2\n",
      "vg_nococo/3\n",
      "vg_nococo/4\n",
      "vg_nococo/5\n",
      "vg_nococo/433\n",
      "vg_nococo/434\n",
      "vg_nococo/435\n",
      "vg_nococo/436\n",
      "vg_nococo/437\n"
     ]
    }
   ],
   "source": [
    "!(head -5 && tail -n5) < {VOKEN_IDS_PATH}"
   ]
  },
  {
   "cell_type": "markdown",
   "id": "latest-difference",
   "metadata": {},
   "source": [
    "## Vokens"
   ]
  },
  {
   "cell_type": "code",
   "execution_count": 41,
   "id": "sixth-diana",
   "metadata": {},
   "outputs": [
    {
     "data": {
      "text/plain": [
       "'/Users/staveshemesh/Projects/shstav2/snap/xmatching/bert_resnext/vokens/wiki.train.raw.vg_nococo.hdf5'"
      ]
     },
     "execution_count": 41,
     "metadata": {},
     "output_type": "execute_result"
    }
   ],
   "source": [
    "VOKENS_PATH"
   ]
  },
  {
   "cell_type": "code",
   "execution_count": 38,
   "id": "second-chicago",
   "metadata": {},
   "outputs": [
    {
     "name": "stdout",
     "output_type": "stream",
     "text": [
      "Total vokens: 111,457,490\n"
     ]
    }
   ],
   "source": [
    "print(f'Total vokens: {df_vokens.shape[0]:,}')"
   ]
  },
  {
   "cell_type": "code",
   "execution_count": 27,
   "id": "frozen-louisville",
   "metadata": {},
   "outputs": [
    {
     "data": {
      "text/html": [
       "<div>\n",
       "<style scoped>\n",
       "    .dataframe tbody tr th:only-of-type {\n",
       "        vertical-align: middle;\n",
       "    }\n",
       "\n",
       "    .dataframe tbody tr th {\n",
       "        vertical-align: top;\n",
       "    }\n",
       "\n",
       "    .dataframe thead th {\n",
       "        text-align: right;\n",
       "    }\n",
       "</style>\n",
       "<table border=\"1\" class=\"dataframe\">\n",
       "  <thead>\n",
       "    <tr style=\"text-align: right;\">\n",
       "      <th></th>\n",
       "      <th>voken_id</th>\n",
       "    </tr>\n",
       "  </thead>\n",
       "  <tbody>\n",
       "    <tr>\n",
       "      <th>0</th>\n",
       "      <td>40306</td>\n",
       "    </tr>\n",
       "    <tr>\n",
       "      <th>1</th>\n",
       "      <td>15672</td>\n",
       "    </tr>\n",
       "    <tr>\n",
       "      <th>2</th>\n",
       "      <td>31865</td>\n",
       "    </tr>\n",
       "    <tr>\n",
       "      <th>3</th>\n",
       "      <td>34639</td>\n",
       "    </tr>\n",
       "    <tr>\n",
       "      <th>4</th>\n",
       "      <td>41672</td>\n",
       "    </tr>\n",
       "  </tbody>\n",
       "</table>\n",
       "</div>"
      ],
      "text/plain": [
       "   voken_id\n",
       "0     40306\n",
       "1     15672\n",
       "2     31865\n",
       "3     34639\n",
       "4     41672"
      ]
     },
     "execution_count": 27,
     "metadata": {},
     "output_type": "execute_result"
    }
   ],
   "source": [
    "with h5py.File(VOKENS_PATH, 'r') as hf:\n",
    "    vokens = hf['vokens'][:]\n",
    "### But you will loose the column index name\n",
    "df_vokens = pd.DataFrame({'voken_id': vokens})\n",
    "df_vokens.head()"
   ]
  },
  {
   "cell_type": "code",
   "execution_count": 40,
   "id": "manual-proposition",
   "metadata": {},
   "outputs": [
    {
     "data": {
      "text/html": [
       "<style  type=\"text/css\" >\n",
       "</style><table id=\"T_0ec5bdc8_9ece_11eb_bdb0_acde48001122\" ><thead>    <tr>        <th class=\"blank level0\" ></th>        <th class=\"col_heading level0 col0\" >voken_id</th>        <th class=\"col_heading level0 col1\" >count</th>    </tr></thead><tbody>\n",
       "                <tr>\n",
       "                        <th id=\"T_0ec5bdc8_9ece_11eb_bdb0_acde48001122level0_row0\" class=\"row_heading level0 row0\" >0</th>\n",
       "                        <td id=\"T_0ec5bdc8_9ece_11eb_bdb0_acde48001122row0_col0\" class=\"data row0 col0\" >28343</td>\n",
       "                        <td id=\"T_0ec5bdc8_9ece_11eb_bdb0_acde48001122row0_col1\" class=\"data row0 col1\" >738,180</td>\n",
       "            </tr>\n",
       "            <tr>\n",
       "                        <th id=\"T_0ec5bdc8_9ece_11eb_bdb0_acde48001122level0_row1\" class=\"row_heading level0 row1\" >1</th>\n",
       "                        <td id=\"T_0ec5bdc8_9ece_11eb_bdb0_acde48001122row1_col0\" class=\"data row1 col0\" >45280</td>\n",
       "                        <td id=\"T_0ec5bdc8_9ece_11eb_bdb0_acde48001122row1_col1\" class=\"data row1 col1\" >539,782</td>\n",
       "            </tr>\n",
       "            <tr>\n",
       "                        <th id=\"T_0ec5bdc8_9ece_11eb_bdb0_acde48001122level0_row2\" class=\"row_heading level0 row2\" >2</th>\n",
       "                        <td id=\"T_0ec5bdc8_9ece_11eb_bdb0_acde48001122row2_col0\" class=\"data row2 col0\" >31728</td>\n",
       "                        <td id=\"T_0ec5bdc8_9ece_11eb_bdb0_acde48001122row2_col1\" class=\"data row2 col1\" >510,201</td>\n",
       "            </tr>\n",
       "            <tr>\n",
       "                        <th id=\"T_0ec5bdc8_9ece_11eb_bdb0_acde48001122level0_row3\" class=\"row_heading level0 row3\" >3</th>\n",
       "                        <td id=\"T_0ec5bdc8_9ece_11eb_bdb0_acde48001122row3_col0\" class=\"data row3 col0\" >41672</td>\n",
       "                        <td id=\"T_0ec5bdc8_9ece_11eb_bdb0_acde48001122row3_col1\" class=\"data row3 col1\" >406,354</td>\n",
       "            </tr>\n",
       "            <tr>\n",
       "                        <th id=\"T_0ec5bdc8_9ece_11eb_bdb0_acde48001122level0_row4\" class=\"row_heading level0 row4\" >4</th>\n",
       "                        <td id=\"T_0ec5bdc8_9ece_11eb_bdb0_acde48001122row4_col0\" class=\"data row4 col0\" >34953</td>\n",
       "                        <td id=\"T_0ec5bdc8_9ece_11eb_bdb0_acde48001122row4_col1\" class=\"data row4 col1\" >396,429</td>\n",
       "            </tr>\n",
       "            <tr>\n",
       "                        <th id=\"T_0ec5bdc8_9ece_11eb_bdb0_acde48001122level0_row5\" class=\"row_heading level0 row5\" >5</th>\n",
       "                        <td id=\"T_0ec5bdc8_9ece_11eb_bdb0_acde48001122row5_col0\" class=\"data row5 col0\" >28628</td>\n",
       "                        <td id=\"T_0ec5bdc8_9ece_11eb_bdb0_acde48001122row5_col1\" class=\"data row5 col1\" >348,938</td>\n",
       "            </tr>\n",
       "            <tr>\n",
       "                        <th id=\"T_0ec5bdc8_9ece_11eb_bdb0_acde48001122level0_row6\" class=\"row_heading level0 row6\" >6</th>\n",
       "                        <td id=\"T_0ec5bdc8_9ece_11eb_bdb0_acde48001122row6_col0\" class=\"data row6 col0\" >48773</td>\n",
       "                        <td id=\"T_0ec5bdc8_9ece_11eb_bdb0_acde48001122row6_col1\" class=\"data row6 col1\" >289,678</td>\n",
       "            </tr>\n",
       "            <tr>\n",
       "                        <th id=\"T_0ec5bdc8_9ece_11eb_bdb0_acde48001122level0_row7\" class=\"row_heading level0 row7\" >7</th>\n",
       "                        <td id=\"T_0ec5bdc8_9ece_11eb_bdb0_acde48001122row7_col0\" class=\"data row7 col0\" >34166</td>\n",
       "                        <td id=\"T_0ec5bdc8_9ece_11eb_bdb0_acde48001122row7_col1\" class=\"data row7 col1\" >288,978</td>\n",
       "            </tr>\n",
       "            <tr>\n",
       "                        <th id=\"T_0ec5bdc8_9ece_11eb_bdb0_acde48001122level0_row8\" class=\"row_heading level0 row8\" >8</th>\n",
       "                        <td id=\"T_0ec5bdc8_9ece_11eb_bdb0_acde48001122row8_col0\" class=\"data row8 col0\" >13285</td>\n",
       "                        <td id=\"T_0ec5bdc8_9ece_11eb_bdb0_acde48001122row8_col1\" class=\"data row8 col1\" >277,514</td>\n",
       "            </tr>\n",
       "            <tr>\n",
       "                        <th id=\"T_0ec5bdc8_9ece_11eb_bdb0_acde48001122level0_row9\" class=\"row_heading level0 row9\" >9</th>\n",
       "                        <td id=\"T_0ec5bdc8_9ece_11eb_bdb0_acde48001122row9_col0\" class=\"data row9 col0\" >39472</td>\n",
       "                        <td id=\"T_0ec5bdc8_9ece_11eb_bdb0_acde48001122row9_col1\" class=\"data row9 col1\" >271,188</td>\n",
       "            </tr>\n",
       "    </tbody></table>"
      ],
      "text/plain": [
       "<pandas.io.formats.style.Styler at 0x10cbd9be0>"
      ]
     },
     "execution_count": 40,
     "metadata": {},
     "output_type": "execute_result"
    }
   ],
   "source": [
    "df_vokens['voken_id'].value_counts()[:10].to_frame().reset_index()\\\n",
    "    .rename(columns={'index': 'voken_id', 'voken_id': 'count'})\\\n",
    "    .style.format({\"count\": \"{:,}\"})"
   ]
  },
  {
   "cell_type": "code",
   "execution_count": null,
   "id": "functioning-captain",
   "metadata": {},
   "outputs": [],
   "source": []
  }
 ],
 "metadata": {
  "kernelspec": {
   "display_name": "Python 3",
   "language": "python",
   "name": "python3"
  },
  "language_info": {
   "codemirror_mode": {
    "name": "ipython",
    "version": 3
   },
   "file_extension": ".py",
   "mimetype": "text/x-python",
   "name": "python",
   "nbconvert_exporter": "python",
   "pygments_lexer": "ipython3",
   "version": "3.6.8"
  }
 },
 "nbformat": 4,
 "nbformat_minor": 5
}
