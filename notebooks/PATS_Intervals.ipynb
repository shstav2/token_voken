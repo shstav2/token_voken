{
 "cells": [
  {
   "cell_type": "markdown",
   "metadata": {},
   "source": [
    "# Imports"
   ]
  },
  {
   "cell_type": "code",
   "execution_count": 38,
   "metadata": {
    "ExecuteTime": {
     "end_time": "2021-01-17T10:20:35.569777Z",
     "start_time": "2021-01-17T10:20:34.256242Z"
    },
    "jupyter": {
     "source_hidden": true
    }
   },
   "outputs": [],
   "source": [
    "import os\n",
    "import sys\n",
    "import h5py\n",
    "import time\n",
    "import youtube_dl\n",
    "\n",
    "import numpy as np\n",
    "import pandas as pd\n",
    "\n",
    "import seaborn as sns\n",
    "from pprint import pprint\n",
    "import matplotlib.pyplot as plt\n",
    "from ipywidgets import interact\n",
    "from IPython.display import YouTubeVideo, Markdown, display, Video, Image\n",
    "\n",
    "from tqdm.notebook import tqdm\n",
    "tqdm.pandas()"
   ]
  },
  {
   "cell_type": "code",
   "execution_count": 39,
   "metadata": {
    "ExecuteTime": {
     "end_time": "2021-01-17T10:20:35.575362Z",
     "start_time": "2021-01-17T10:20:35.572207Z"
    },
    "jupyter": {
     "source_hidden": true
    }
   },
   "outputs": [],
   "source": [
    "pd.set_option('display.max_colwidth', 100)\n",
    "pd.options.display.float_format = '{:,.2f}'.format\n",
    "sns.set(rc={'figure.figsize':(11.7,8.27)})"
   ]
  },
  {
   "cell_type": "code",
   "execution_count": 40,
   "metadata": {},
   "outputs": [],
   "source": [
    "import sys\n",
    "sys.path.append('/home/stav/Projects/token_voken')"
   ]
  },
  {
   "cell_type": "code",
   "execution_count": 5,
   "metadata": {},
   "outputs": [],
   "source": [
    "from src.common.constants import PATS_DATA_ROOT"
   ]
  },
  {
   "cell_type": "code",
   "execution_count": 6,
   "metadata": {},
   "outputs": [
    {
     "name": "stdout",
     "output_type": "stream",
     "text": [
      "/home/stav/Data/PATS_DATA\n",
      "total 25M\r\n",
      "drwxrwxr-x 3 stav stav 4.0K Sep  2 23:27 .\r\n",
      "drwxrwxr-x 5 stav stav 4.0K Jul 26 02:57 ..\r\n",
      "-rw-r--r-- 1 stav stav 8.1K Jul 19 22:32 .DS_Store\r\n",
      "-rw-r--r-- 1 stav stav 4.0K Jun 28 20:37 ._.DS_Store\r\n",
      "drwxrwxr-x 3 stav stav 4.0K Jun 28 20:37 Videos\r\n",
      "-rw-r--r-- 1 stav stav  25M Sep  2 23:29 df_intervals_all.csv\r\n"
     ]
    }
   ],
   "source": [
    "print(PATS_DATA_ROOT)\n",
    "!ls -alh {PATS_DATA_ROOT}"
   ]
  },
  {
   "cell_type": "markdown",
   "metadata": {},
   "source": [
    "# Constants"
   ]
  },
  {
   "cell_type": "code",
   "execution_count": 16,
   "metadata": {},
   "outputs": [],
   "source": [
    "SPEAKER_NAME = 'noah'\n",
    "INTERVALS_PATH = os.path.join(PATS_DATA_ROOT, 'df_intervals_all.csv')"
   ]
  },
  {
   "cell_type": "code",
   "execution_count": 23,
   "metadata": {
    "jupyter": {
     "source_hidden": true
    }
   },
   "outputs": [],
   "source": [
    "COL_SPEAKER       = 'speaker'\n",
    "COL_VIDEO_LINK    = 'video_link'\n",
    "COL_VALID         = 'valid'\n",
    "\n",
    "COLS = [COL_SPEAKER, COL_VIDEO_LINK, 'video_fn', 'start_time_string', 'end_time_string', 'delta_time', 'interval_id', 'speaker',\n",
    "         'video_id', COL_VALID]\n",
    "\n",
    "COLS_VALIDITY = [\n",
    "    'valid',\n",
    "    'valid_max_frames_per_token',\n",
    "    'valid_duration',\n",
    "    'valid_single_token_per_frame'\n",
    "]\n",
    "COLS_VIEW = [\n",
    "    'speaker', 'interval_id',\n",
    "    'duration', 'start_time_string', 'end_time_string',\n",
    "    'video_link'\n",
    "]"
   ]
  },
  {
   "cell_type": "markdown",
   "metadata": {},
   "source": [
    "## Load Intervals"
   ]
  },
  {
   "cell_type": "code",
   "execution_count": 43,
   "metadata": {},
   "outputs": [
    {
     "name": "stdout",
     "output_type": "stream",
     "text": [
      "Loading /home/stav/Data/PATS_DATA/df_intervals_all.csv..\n"
     ]
    },
    {
     "data": {
      "text/plain": [
       "Index(['Unnamed: 0', 'Unnamed: 0.1', 'dataset', 'delta_time', 'end_time',\n",
       "       'interval_id', 'speaker', 'start_time', 'video_fn', 'video_link',\n",
       "       'org_start_time', 'org_end_time', 'start_time_string',\n",
       "       'end_time_string', 'video_id', 'max_frames_token', 'valid',\n",
       "       'valid_max_frames_per_token', 'valid_duration',\n",
       "       'valid_single_token_per_frame', 'video_downloded'],\n",
       "      dtype='object')"
      ]
     },
     "execution_count": 43,
     "metadata": {},
     "output_type": "execute_result"
    }
   ],
   "source": [
    "print(f'Loading {INTERVALS_PATH}..')\n",
    "df_intervals_all = pd.read_csv(INTERVALS_PATH)\n",
    "df_intervals_all.columns"
   ]
  },
  {
   "cell_type": "code",
   "execution_count": 20,
   "metadata": {},
   "outputs": [
    {
     "data": {
      "text/html": [
       "<div>\n",
       "<style scoped>\n",
       "    .dataframe tbody tr th:only-of-type {\n",
       "        vertical-align: middle;\n",
       "    }\n",
       "\n",
       "    .dataframe tbody tr th {\n",
       "        vertical-align: top;\n",
       "    }\n",
       "\n",
       "    .dataframe thead th {\n",
       "        text-align: right;\n",
       "    }\n",
       "</style>\n",
       "<table border=\"1\" class=\"dataframe\">\n",
       "  <thead>\n",
       "    <tr style=\"text-align: right;\">\n",
       "      <th></th>\n",
       "      <th>speaker</th>\n",
       "      <th>video_link</th>\n",
       "      <th>video_fn</th>\n",
       "      <th>start_time_string</th>\n",
       "      <th>end_time_string</th>\n",
       "      <th>delta_time</th>\n",
       "      <th>interval_id</th>\n",
       "      <th>speaker</th>\n",
       "      <th>video_id</th>\n",
       "      <th>valid</th>\n",
       "    </tr>\n",
       "  </thead>\n",
       "  <tbody>\n",
       "    <tr>\n",
       "      <th>42661</th>\n",
       "      <td>jon</td>\n",
       "      <td>http://media.mtvnservices.com/embed/mgid:arc:video:comedycentral.com:39a96e12-4063-4015-bca8-7ac...</td>\n",
       "      <td>thedailyshow wait-wait----don-t-tell-him- part 1-39a96e12-4063-4015-bca8-7ac589fcd16f.mp4</td>\n",
       "      <td>00:01:17.1</td>\n",
       "      <td>00:01:29.48</td>\n",
       "      <td>12.48</td>\n",
       "      <td>211286</td>\n",
       "      <td>jon</td>\n",
       "      <td>ac589fcd16f</td>\n",
       "      <td>False</td>\n",
       "    </tr>\n",
       "    <tr>\n",
       "      <th>57411</th>\n",
       "      <td>shelly</td>\n",
       "      <td>http://www.youtube.com/watch?v=yJVpJ588ASc</td>\n",
       "      <td>16._Dying_alone_The_badness_of_death_Part_I-yJVpJ588ASc.mp4</td>\n",
       "      <td>00:16:45.33</td>\n",
       "      <td>00:16:55.88</td>\n",
       "      <td>10.54</td>\n",
       "      <td>2084</td>\n",
       "      <td>shelly</td>\n",
       "      <td>yJVpJ588ASc</td>\n",
       "      <td>False</td>\n",
       "    </tr>\n",
       "    <tr>\n",
       "      <th>63972</th>\n",
       "      <td>fallon</td>\n",
       "      <td>https://www.youtube.com/watch?v=tk67gfdyhLg</td>\n",
       "      <td>tk67gfdyhLg</td>\n",
       "      <td>00:03:17.53</td>\n",
       "      <td>00:03:40.3</td>\n",
       "      <td>22.50</td>\n",
       "      <td>cmu0000005766</td>\n",
       "      <td>fallon</td>\n",
       "      <td>tk67gfdyhLg</td>\n",
       "      <td>False</td>\n",
       "    </tr>\n",
       "    <tr>\n",
       "      <th>32610</th>\n",
       "      <td>ellen</td>\n",
       "      <td>https://www.youtube.com/watch?v=4-8LW2Zps1o</td>\n",
       "      <td>season12_Ellen_s_Advice_for_College_Grads-4-8LW2Zps1o.mkv</td>\n",
       "      <td>00:01:49.24</td>\n",
       "      <td>00:01:52.44</td>\n",
       "      <td>3.20</td>\n",
       "      <td>110690</td>\n",
       "      <td>ellen</td>\n",
       "      <td>4-8LW2Zps1o</td>\n",
       "      <td>False</td>\n",
       "    </tr>\n",
       "    <tr>\n",
       "      <th>1120</th>\n",
       "      <td>almaram</td>\n",
       "      <td>http://www.youtube.com/watch?v=0l0p1x7uffI</td>\n",
       "      <td>Lessons_in_Fiqh_52-0l0p1x7uffI.mp4</td>\n",
       "      <td>00:13:06.58</td>\n",
       "      <td>00:13:26.47</td>\n",
       "      <td>19.89</td>\n",
       "      <td>120353</td>\n",
       "      <td>almaram</td>\n",
       "      <td>0l0p1x7uffI</td>\n",
       "      <td>False</td>\n",
       "    </tr>\n",
       "  </tbody>\n",
       "</table>\n",
       "</div>"
      ],
      "text/plain": [
       "       speaker  \\\n",
       "42661      jon   \n",
       "57411   shelly   \n",
       "63972   fallon   \n",
       "32610    ellen   \n",
       "1120   almaram   \n",
       "\n",
       "                                                                                                video_link  \\\n",
       "42661  http://media.mtvnservices.com/embed/mgid:arc:video:comedycentral.com:39a96e12-4063-4015-bca8-7ac...   \n",
       "57411                                                           http://www.youtube.com/watch?v=yJVpJ588ASc   \n",
       "63972                                                          https://www.youtube.com/watch?v=tk67gfdyhLg   \n",
       "32610                                                          https://www.youtube.com/watch?v=4-8LW2Zps1o   \n",
       "1120                                                            http://www.youtube.com/watch?v=0l0p1x7uffI   \n",
       "\n",
       "                                                                                        video_fn  \\\n",
       "42661  thedailyshow wait-wait----don-t-tell-him- part 1-39a96e12-4063-4015-bca8-7ac589fcd16f.mp4   \n",
       "57411                                16._Dying_alone_The_badness_of_death_Part_I-yJVpJ588ASc.mp4   \n",
       "63972                                                                                tk67gfdyhLg   \n",
       "32610                                  season12_Ellen_s_Advice_for_College_Grads-4-8LW2Zps1o.mkv   \n",
       "1120                                                          Lessons_in_Fiqh_52-0l0p1x7uffI.mp4   \n",
       "\n",
       "      start_time_string end_time_string  delta_time    interval_id  speaker  \\\n",
       "42661        00:01:17.1     00:01:29.48       12.48         211286      jon   \n",
       "57411       00:16:45.33     00:16:55.88       10.54           2084   shelly   \n",
       "63972       00:03:17.53      00:03:40.3       22.50  cmu0000005766   fallon   \n",
       "32610       00:01:49.24     00:01:52.44        3.20         110690    ellen   \n",
       "1120        00:13:06.58     00:13:26.47       19.89         120353  almaram   \n",
       "\n",
       "          video_id  valid  \n",
       "42661  ac589fcd16f  False  \n",
       "57411  yJVpJ588ASc  False  \n",
       "63972  tk67gfdyhLg  False  \n",
       "32610  4-8LW2Zps1o  False  \n",
       "1120   0l0p1x7uffI  False  "
      ]
     },
     "execution_count": 20,
     "metadata": {},
     "output_type": "execute_result"
    }
   ],
   "source": [
    "df_intervals_all[COLS].sample(n=5)"
   ]
  },
  {
   "cell_type": "code",
   "execution_count": 21,
   "metadata": {},
   "outputs": [
    {
     "data": {
      "text/html": [
       "<div>\n",
       "<style scoped>\n",
       "    .dataframe tbody tr th:only-of-type {\n",
       "        vertical-align: middle;\n",
       "    }\n",
       "\n",
       "    .dataframe tbody tr th {\n",
       "        vertical-align: top;\n",
       "    }\n",
       "\n",
       "    .dataframe thead th {\n",
       "        text-align: right;\n",
       "    }\n",
       "</style>\n",
       "<table border=\"1\" class=\"dataframe\">\n",
       "  <thead>\n",
       "    <tr style=\"text-align: right;\">\n",
       "      <th></th>\n",
       "      <th>speaker</th>\n",
       "      <th>video_link</th>\n",
       "      <th>video_fn</th>\n",
       "      <th>start_time_string</th>\n",
       "      <th>end_time_string</th>\n",
       "      <th>delta_time</th>\n",
       "      <th>interval_id</th>\n",
       "      <th>speaker</th>\n",
       "      <th>video_id</th>\n",
       "      <th>valid</th>\n",
       "    </tr>\n",
       "  </thead>\n",
       "  <tbody>\n",
       "    <tr>\n",
       "      <th>70960</th>\n",
       "      <td>corden</td>\n",
       "      <td>https://www.youtube.com/watch?v=93kYLSAWQZw</td>\n",
       "      <td>93kYLSAWQZw</td>\n",
       "      <td>00:02:40.26</td>\n",
       "      <td>00:03:18.56</td>\n",
       "      <td>38.30</td>\n",
       "      <td>cmu0000018022</td>\n",
       "      <td>corden</td>\n",
       "      <td>93kYLSAWQZw</td>\n",
       "      <td>False</td>\n",
       "    </tr>\n",
       "    <tr>\n",
       "      <th>68310</th>\n",
       "      <td>colbert</td>\n",
       "      <td>https://www.youtube.com/watch?v=XGbw372nK-I</td>\n",
       "      <td>XGbw372nK-I</td>\n",
       "      <td>00:00:00.6</td>\n",
       "      <td>00:00:21.3</td>\n",
       "      <td>20.97</td>\n",
       "      <td>cmu0000013658</td>\n",
       "      <td>colbert</td>\n",
       "      <td>XGbw372nK-I</td>\n",
       "      <td>False</td>\n",
       "    </tr>\n",
       "    <tr>\n",
       "      <th>71548</th>\n",
       "      <td>corden</td>\n",
       "      <td>https://www.youtube.com/watch?v=lrTW3ujB7wI</td>\n",
       "      <td>lrTW3ujB7wI</td>\n",
       "      <td>00:00:24.29</td>\n",
       "      <td>00:00:30.66</td>\n",
       "      <td>6.37</td>\n",
       "      <td>cmu0000018900</td>\n",
       "      <td>corden</td>\n",
       "      <td>lrTW3ujB7wI</td>\n",
       "      <td>False</td>\n",
       "    </tr>\n",
       "    <tr>\n",
       "      <th>19647</th>\n",
       "      <td>angelica</td>\n",
       "      <td>http://www.youtube.com/watch?v=rIB_xuCbGK0</td>\n",
       "      <td>Mother_Angelica_Live_Classics_-_Thanksgiving_-_November_25_1992-rIB_xuCbGK0.mkv</td>\n",
       "      <td>00:05:50.38</td>\n",
       "      <td>00:05:54.85</td>\n",
       "      <td>4.47</td>\n",
       "      <td>65617</td>\n",
       "      <td>angelica</td>\n",
       "      <td>rIB_xuCbGK0</td>\n",
       "      <td>False</td>\n",
       "    </tr>\n",
       "    <tr>\n",
       "      <th>28833</th>\n",
       "      <td>conan</td>\n",
       "      <td>http://www.youtube.com/watch?v=rULPBI9O8d4</td>\n",
       "      <td>Monologue_03_19_12_-_CONAN_on_TBS-rULPBI9O8d4.mkv</td>\n",
       "      <td>00:00:47.56</td>\n",
       "      <td>00:01:13.3</td>\n",
       "      <td>25.47</td>\n",
       "      <td>114111</td>\n",
       "      <td>conan</td>\n",
       "      <td>rULPBI9O8d4</td>\n",
       "      <td>False</td>\n",
       "    </tr>\n",
       "  </tbody>\n",
       "</table>\n",
       "</div>"
      ],
      "text/plain": [
       "        speaker                                   video_link  \\\n",
       "70960    corden  https://www.youtube.com/watch?v=93kYLSAWQZw   \n",
       "68310   colbert  https://www.youtube.com/watch?v=XGbw372nK-I   \n",
       "71548    corden  https://www.youtube.com/watch?v=lrTW3ujB7wI   \n",
       "19647  angelica   http://www.youtube.com/watch?v=rIB_xuCbGK0   \n",
       "28833     conan   http://www.youtube.com/watch?v=rULPBI9O8d4   \n",
       "\n",
       "                                                                              video_fn  \\\n",
       "70960                                                                      93kYLSAWQZw   \n",
       "68310                                                                      XGbw372nK-I   \n",
       "71548                                                                      lrTW3ujB7wI   \n",
       "19647  Mother_Angelica_Live_Classics_-_Thanksgiving_-_November_25_1992-rIB_xuCbGK0.mkv   \n",
       "28833                                Monologue_03_19_12_-_CONAN_on_TBS-rULPBI9O8d4.mkv   \n",
       "\n",
       "      start_time_string end_time_string  delta_time    interval_id   speaker  \\\n",
       "70960       00:02:40.26     00:03:18.56       38.30  cmu0000018022    corden   \n",
       "68310        00:00:00.6      00:00:21.3       20.97  cmu0000013658   colbert   \n",
       "71548       00:00:24.29     00:00:30.66        6.37  cmu0000018900    corden   \n",
       "19647       00:05:50.38     00:05:54.85        4.47          65617  angelica   \n",
       "28833       00:00:47.56      00:01:13.3       25.47         114111     conan   \n",
       "\n",
       "          video_id  valid  \n",
       "70960  93kYLSAWQZw  False  \n",
       "68310  XGbw372nK-I  False  \n",
       "71548  lrTW3ujB7wI  False  \n",
       "19647  rIB_xuCbGK0  False  \n",
       "28833  rULPBI9O8d4  False  "
      ]
     },
     "execution_count": 21,
     "metadata": {},
     "output_type": "execute_result"
    }
   ],
   "source": [
    "df_intervals_all[COLS].sample(n=5)"
   ]
  },
  {
   "cell_type": "code",
   "execution_count": 11,
   "metadata": {},
   "outputs": [
    {
     "data": {
      "image/png": "[encoded data removed]",
      "text/plain": [
       "<Figure size 842.4x595.44 with 1 Axes>"
      ]
     },
     "metadata": {},
     "output_type": "display_data"
    }
   ],
   "source": [
    "sns.countplot(data=df_intervals, x=COL_SPEAKER)\n",
    "plt.xticks(rotation=70);"
   ]
  },
  {
   "cell_type": "code",
   "execution_count": 13,
   "metadata": {},
   "outputs": [
    {
     "data": {
      "text/html": [
       "<div>\n",
       "<style scoped>\n",
       "    .dataframe tbody tr th:only-of-type {\n",
       "        vertical-align: middle;\n",
       "    }\n",
       "\n",
       "    .dataframe tbody tr th {\n",
       "        vertical-align: top;\n",
       "    }\n",
       "\n",
       "    .dataframe thead th {\n",
       "        text-align: right;\n",
       "    }\n",
       "</style>\n",
       "<table border=\"1\" class=\"dataframe\">\n",
       "  <thead>\n",
       "    <tr style=\"text-align: right;\">\n",
       "      <th></th>\n",
       "      <th>delta_time</th>\n",
       "    </tr>\n",
       "    <tr>\n",
       "      <th>speaker</th>\n",
       "      <th></th>\n",
       "    </tr>\n",
       "  </thead>\n",
       "  <tbody>\n",
       "    <tr>\n",
       "      <th>angelica</th>\n",
       "      <td>109,164.26</td>\n",
       "    </tr>\n",
       "    <tr>\n",
       "      <th>noah</th>\n",
       "      <td>101,010.67</td>\n",
       "    </tr>\n",
       "    <tr>\n",
       "      <th>colbert</th>\n",
       "      <td>84,448.37</td>\n",
       "    </tr>\n",
       "    <tr>\n",
       "      <th>corden</th>\n",
       "      <td>78,104.37</td>\n",
       "    </tr>\n",
       "    <tr>\n",
       "      <th>seth</th>\n",
       "      <td>74,028.03</td>\n",
       "    </tr>\n",
       "    <tr>\n",
       "      <th>oliver</th>\n",
       "      <td>65,723.10</td>\n",
       "    </tr>\n",
       "    <tr>\n",
       "      <th>jon</th>\n",
       "      <td>59,613.41</td>\n",
       "    </tr>\n",
       "    <tr>\n",
       "      <th>conan</th>\n",
       "      <td>59,600.71</td>\n",
       "    </tr>\n",
       "    <tr>\n",
       "      <th>shelly</th>\n",
       "      <td>43,058.79</td>\n",
       "    </tr>\n",
       "    <tr>\n",
       "      <th>ellen</th>\n",
       "      <td>38,169.39</td>\n",
       "    </tr>\n",
       "    <tr>\n",
       "      <th>fallon</th>\n",
       "      <td>34,318.30</td>\n",
       "    </tr>\n",
       "    <tr>\n",
       "      <th>chemistry</th>\n",
       "      <td>29,600.60</td>\n",
       "    </tr>\n",
       "    <tr>\n",
       "      <th>almaram</th>\n",
       "      <td>27,518.25</td>\n",
       "    </tr>\n",
       "    <tr>\n",
       "      <th>rock</th>\n",
       "      <td>15,132.93</td>\n",
       "    </tr>\n",
       "    <tr>\n",
       "      <th>maher</th>\n",
       "      <td>15,054.43</td>\n",
       "    </tr>\n",
       "    <tr>\n",
       "      <th>ferguson</th>\n",
       "      <td>14,065.03</td>\n",
       "    </tr>\n",
       "    <tr>\n",
       "      <th>huckabee</th>\n",
       "      <td>12,298.53</td>\n",
       "    </tr>\n",
       "    <tr>\n",
       "      <th>bee</th>\n",
       "      <td>11,281.57</td>\n",
       "    </tr>\n",
       "    <tr>\n",
       "      <th>lec_hist</th>\n",
       "      <td>10,505.93</td>\n",
       "    </tr>\n",
       "    <tr>\n",
       "      <th>lec_law</th>\n",
       "      <td>10,170.80</td>\n",
       "    </tr>\n",
       "    <tr>\n",
       "      <th>ytch_prof</th>\n",
       "      <td>8,458.73</td>\n",
       "    </tr>\n",
       "    <tr>\n",
       "      <th>lec_evol</th>\n",
       "      <td>5,450.93</td>\n",
       "    </tr>\n",
       "    <tr>\n",
       "      <th>minhaj</th>\n",
       "      <td>4,426.77</td>\n",
       "    </tr>\n",
       "    <tr>\n",
       "      <th>ytch_charisma</th>\n",
       "      <td>3,895.17</td>\n",
       "    </tr>\n",
       "    <tr>\n",
       "      <th>ytch_dating</th>\n",
       "      <td>2,743.80</td>\n",
       "    </tr>\n",
       "    <tr>\n",
       "      <th>lec_cosmic</th>\n",
       "      <td>2,578.40</td>\n",
       "    </tr>\n",
       "  </tbody>\n",
       "</table>\n",
       "</div>"
      ],
      "text/plain": [
       "               delta_time\n",
       "speaker                  \n",
       "angelica       109,164.26\n",
       "noah           101,010.67\n",
       "colbert         84,448.37\n",
       "corden          78,104.37\n",
       "seth            74,028.03\n",
       "oliver          65,723.10\n",
       "jon             59,613.41\n",
       "conan           59,600.71\n",
       "shelly          43,058.79\n",
       "ellen           38,169.39\n",
       "fallon          34,318.30\n",
       "chemistry       29,600.60\n",
       "almaram         27,518.25\n",
       "rock            15,132.93\n",
       "maher           15,054.43\n",
       "ferguson        14,065.03\n",
       "huckabee        12,298.53\n",
       "bee             11,281.57\n",
       "lec_hist        10,505.93\n",
       "lec_law         10,170.80\n",
       "ytch_prof        8,458.73\n",
       "lec_evol         5,450.93\n",
       "minhaj           4,426.77\n",
       "ytch_charisma    3,895.17\n",
       "ytch_dating      2,743.80\n",
       "lec_cosmic       2,578.40"
      ]
     },
     "execution_count": 13,
     "metadata": {},
     "output_type": "execute_result"
    }
   ],
   "source": [
    "df_intervals.groupby(COL_SPEAKER)['delta_time'].sum().nlargest(30).to_frame()#.sort_values()"
   ]
  },
  {
   "cell_type": "code",
   "execution_count": 25,
   "metadata": {},
   "outputs": [
    {
     "data": {
      "text/html": [
       "<div>\n",
       "<style scoped>\n",
       "    .dataframe tbody tr th:only-of-type {\n",
       "        vertical-align: middle;\n",
       "    }\n",
       "\n",
       "    .dataframe tbody tr th {\n",
       "        vertical-align: top;\n",
       "    }\n",
       "\n",
       "    .dataframe thead th {\n",
       "        text-align: right;\n",
       "    }\n",
       "</style>\n",
       "<table border=\"1\" class=\"dataframe\">\n",
       "  <thead>\n",
       "    <tr style=\"text-align: right;\">\n",
       "      <th></th>\n",
       "      <th>speaker</th>\n",
       "    </tr>\n",
       "  </thead>\n",
       "  <tbody>\n",
       "    <tr>\n",
       "      <th>angelica</th>\n",
       "      <td>19795</td>\n",
       "    </tr>\n",
       "    <tr>\n",
       "      <th>jon</th>\n",
       "      <td>8257</td>\n",
       "    </tr>\n",
       "    <tr>\n",
       "      <th>ellen</th>\n",
       "      <td>5605</td>\n",
       "    </tr>\n",
       "    <tr>\n",
       "      <th>colbert</th>\n",
       "      <td>4744</td>\n",
       "    </tr>\n",
       "    <tr>\n",
       "      <th>seth</th>\n",
       "      <td>4636</td>\n",
       "    </tr>\n",
       "    <tr>\n",
       "      <th>oliver</th>\n",
       "      <td>4629</td>\n",
       "    </tr>\n",
       "    <tr>\n",
       "      <th>corden</th>\n",
       "      <td>4408</td>\n",
       "    </tr>\n",
       "    <tr>\n",
       "      <th>noah</th>\n",
       "      <td>4367</td>\n",
       "    </tr>\n",
       "    <tr>\n",
       "      <th>conan</th>\n",
       "      <td>4266</td>\n",
       "    </tr>\n",
       "    <tr>\n",
       "      <th>chemistry</th>\n",
       "      <td>4083</td>\n",
       "    </tr>\n",
       "    <tr>\n",
       "      <th>rock</th>\n",
       "      <td>3794</td>\n",
       "    </tr>\n",
       "    <tr>\n",
       "      <th>shelly</th>\n",
       "      <td>3582</td>\n",
       "    </tr>\n",
       "    <tr>\n",
       "      <th>fallon</th>\n",
       "      <td>2107</td>\n",
       "    </tr>\n",
       "    <tr>\n",
       "      <th>ferguson</th>\n",
       "      <td>1604</td>\n",
       "    </tr>\n",
       "    <tr>\n",
       "      <th>maher</th>\n",
       "      <td>1291</td>\n",
       "    </tr>\n",
       "    <tr>\n",
       "      <th>lec_hist</th>\n",
       "      <td>1201</td>\n",
       "    </tr>\n",
       "    <tr>\n",
       "      <th>almaram</th>\n",
       "      <td>1174</td>\n",
       "    </tr>\n",
       "    <tr>\n",
       "      <th>huckabee</th>\n",
       "      <td>1170</td>\n",
       "    </tr>\n",
       "    <tr>\n",
       "      <th>ytch_prof</th>\n",
       "      <td>782</td>\n",
       "    </tr>\n",
       "    <tr>\n",
       "      <th>bee</th>\n",
       "      <td>736</td>\n",
       "    </tr>\n",
       "    <tr>\n",
       "      <th>lec_evol</th>\n",
       "      <td>632</td>\n",
       "    </tr>\n",
       "    <tr>\n",
       "      <th>minhaj</th>\n",
       "      <td>470</td>\n",
       "    </tr>\n",
       "    <tr>\n",
       "      <th>lec_law</th>\n",
       "      <td>392</td>\n",
       "    </tr>\n",
       "    <tr>\n",
       "      <th>ytch_charisma</th>\n",
       "      <td>313</td>\n",
       "    </tr>\n",
       "    <tr>\n",
       "      <th>ytch_dating</th>\n",
       "      <td>167</td>\n",
       "    </tr>\n",
       "    <tr>\n",
       "      <th>lec_cosmic</th>\n",
       "      <td>84</td>\n",
       "    </tr>\n",
       "  </tbody>\n",
       "</table>\n",
       "</div>"
      ],
      "text/plain": [
       "               speaker\n",
       "angelica         19795\n",
       "jon               8257\n",
       "ellen             5605\n",
       "colbert           4744\n",
       "seth              4636\n",
       "oliver            4629\n",
       "corden            4408\n",
       "noah              4367\n",
       "conan             4266\n",
       "chemistry         4083\n",
       "rock              3794\n",
       "shelly            3582\n",
       "fallon            2107\n",
       "ferguson          1604\n",
       "maher             1291\n",
       "lec_hist          1201\n",
       "almaram           1174\n",
       "huckabee          1170\n",
       "ytch_prof          782\n",
       "bee                736\n",
       "lec_evol           632\n",
       "minhaj             470\n",
       "lec_law            392\n",
       "ytch_charisma      313\n",
       "ytch_dating        167\n",
       "lec_cosmic          84"
      ]
     },
     "execution_count": 25,
     "metadata": {},
     "output_type": "execute_result"
    }
   ],
   "source": [
    "df_intervals_all[COL_SPEAKER].value_counts().to_frame()"
   ]
  },
  {
   "cell_type": "code",
   "execution_count": 26,
   "metadata": {
    "jupyter": {
     "source_hidden": true
    }
   },
   "outputs": [],
   "source": [
    "MASK_SPEAKER = df_intervals_all['speaker'] == SPEAKER_NAME"
   ]
  },
  {
   "cell_type": "code",
   "execution_count": 27,
   "metadata": {
    "ExecuteTime": {
     "end_time": "2021-01-17T10:20:36.300683Z",
     "start_time": "2021-01-17T10:20:36.280070Z"
    },
    "jupyter": {
     "source_hidden": true
    }
   },
   "outputs": [
    {
     "data": {
      "text/html": [
       "<div>\n",
       "<style scoped>\n",
       "    .dataframe tbody tr th:only-of-type {\n",
       "        vertical-align: middle;\n",
       "    }\n",
       "\n",
       "    .dataframe tbody tr th {\n",
       "        vertical-align: top;\n",
       "    }\n",
       "\n",
       "    .dataframe thead th {\n",
       "        text-align: right;\n",
       "    }\n",
       "</style>\n",
       "<table border=\"1\" class=\"dataframe\">\n",
       "  <thead>\n",
       "    <tr style=\"text-align: right;\">\n",
       "      <th></th>\n",
       "      <th>speaker</th>\n",
       "      <th>video_link</th>\n",
       "      <th>video_fn</th>\n",
       "      <th>start_time_string</th>\n",
       "      <th>end_time_string</th>\n",
       "      <th>delta_time</th>\n",
       "      <th>interval_id</th>\n",
       "      <th>speaker</th>\n",
       "      <th>video_id</th>\n",
       "      <th>valid</th>\n",
       "    </tr>\n",
       "  </thead>\n",
       "  <tbody>\n",
       "    <tr>\n",
       "      <th>84093</th>\n",
       "      <td>noah</td>\n",
       "      <td>https://www.youtube.com/watch?v=4APOXh9qzlw</td>\n",
       "      <td>4APOXh9qzlw</td>\n",
       "      <td>00:00:33.6</td>\n",
       "      <td>00:00:39.3</td>\n",
       "      <td>5.97</td>\n",
       "      <td>cmu0000042449</td>\n",
       "      <td>noah</td>\n",
       "      <td>4APOXh9qzlw</td>\n",
       "      <td>False</td>\n",
       "    </tr>\n",
       "    <tr>\n",
       "      <th>82728</th>\n",
       "      <td>noah</td>\n",
       "      <td>https://www.youtube.com/watch?v=8gIydF9jHWE</td>\n",
       "      <td>8gIydF9jHWE</td>\n",
       "      <td>00:03:49.63</td>\n",
       "      <td>00:04:19.9</td>\n",
       "      <td>29.47</td>\n",
       "      <td>cmu0000039548</td>\n",
       "      <td>noah</td>\n",
       "      <td>8gIydF9jHWE</td>\n",
       "      <td>False</td>\n",
       "    </tr>\n",
       "    <tr>\n",
       "      <th>82583</th>\n",
       "      <td>noah</td>\n",
       "      <td>https://www.youtube.com/watch?v=htT9g1uHO00</td>\n",
       "      <td>htT9g1uHO00</td>\n",
       "      <td>00:09:20.20</td>\n",
       "      <td>00:09:24.56</td>\n",
       "      <td>4.37</td>\n",
       "      <td>cmu0000039297</td>\n",
       "      <td>noah</td>\n",
       "      <td>htT9g1uHO00</td>\n",
       "      <td>False</td>\n",
       "    </tr>\n",
       "  </tbody>\n",
       "</table>\n",
       "</div>"
      ],
      "text/plain": [
       "      speaker                                   video_link     video_fn  \\\n",
       "84093    noah  https://www.youtube.com/watch?v=4APOXh9qzlw  4APOXh9qzlw   \n",
       "82728    noah  https://www.youtube.com/watch?v=8gIydF9jHWE  8gIydF9jHWE   \n",
       "82583    noah  https://www.youtube.com/watch?v=htT9g1uHO00  htT9g1uHO00   \n",
       "\n",
       "      start_time_string end_time_string  delta_time    interval_id speaker  \\\n",
       "84093        00:00:33.6      00:00:39.3        5.97  cmu0000042449    noah   \n",
       "82728       00:03:49.63      00:04:19.9       29.47  cmu0000039548    noah   \n",
       "82583       00:09:20.20     00:09:24.56        4.37  cmu0000039297    noah   \n",
       "\n",
       "          video_id  valid  \n",
       "84093  4APOXh9qzlw  False  \n",
       "82728  8gIydF9jHWE  False  \n",
       "82583  htT9g1uHO00  False  "
      ]
     },
     "execution_count": 27,
     "metadata": {},
     "output_type": "execute_result"
    }
   ],
   "source": [
    "df_intervals = df_intervals_all[MASK_SPEAKER]\n",
    "df_intervals.sample(n=3)[COLS]"
   ]
  },
  {
   "cell_type": "code",
   "execution_count": 28,
   "metadata": {},
   "outputs": [
    {
     "data": {
      "text/html": [
       "<div>\n",
       "<style scoped>\n",
       "    .dataframe tbody tr th:only-of-type {\n",
       "        vertical-align: middle;\n",
       "    }\n",
       "\n",
       "    .dataframe tbody tr th {\n",
       "        vertical-align: top;\n",
       "    }\n",
       "\n",
       "    .dataframe thead th {\n",
       "        text-align: right;\n",
       "    }\n",
       "</style>\n",
       "<table border=\"1\" class=\"dataframe\">\n",
       "  <thead>\n",
       "    <tr style=\"text-align: right;\">\n",
       "      <th></th>\n",
       "      <th>Unnamed: 0</th>\n",
       "      <th>Unnamed: 0.1</th>\n",
       "      <th>dataset</th>\n",
       "      <th>delta_time</th>\n",
       "      <th>end_time</th>\n",
       "      <th>interval_id</th>\n",
       "      <th>speaker</th>\n",
       "      <th>start_time</th>\n",
       "      <th>video_fn</th>\n",
       "      <th>video_link</th>\n",
       "      <th>...</th>\n",
       "      <th>org_end_time</th>\n",
       "      <th>start_time_string</th>\n",
       "      <th>end_time_string</th>\n",
       "      <th>video_id</th>\n",
       "      <th>max_frames_token</th>\n",
       "      <th>valid</th>\n",
       "      <th>valid_max_frames_per_token</th>\n",
       "      <th>valid_duration</th>\n",
       "      <th>valid_single_token_per_frame</th>\n",
       "      <th>video_downloded</th>\n",
       "    </tr>\n",
       "  </thead>\n",
       "  <tbody>\n",
       "    <tr>\n",
       "      <th>82470</th>\n",
       "      <td>82470</td>\n",
       "      <td>82470</td>\n",
       "      <td>train</td>\n",
       "      <td>25.70</td>\n",
       "      <td>0 days 00:16:44.130000</td>\n",
       "      <td>cmu0000039077</td>\n",
       "      <td>noah</td>\n",
       "      <td>0 days 00:16:18.430000</td>\n",
       "      <td>EWGGuItX9gY</td>\n",
       "      <td>https://www.youtube.com/watch?v=EWGGuItX9gY</td>\n",
       "      <td>...</td>\n",
       "      <td>0 days 00:16:44.130000</td>\n",
       "      <td>00:16:18.43</td>\n",
       "      <td>00:16:44.13</td>\n",
       "      <td>EWGGuItX9gY</td>\n",
       "      <td>-1</td>\n",
       "      <td>False</td>\n",
       "      <td>False</td>\n",
       "      <td>True</td>\n",
       "      <td>True</td>\n",
       "      <td>False</td>\n",
       "    </tr>\n",
       "    <tr>\n",
       "      <th>82968</th>\n",
       "      <td>82968</td>\n",
       "      <td>82968</td>\n",
       "      <td>train</td>\n",
       "      <td>43.37</td>\n",
       "      <td>0 days 00:06:07.060000</td>\n",
       "      <td>cmu0000040143</td>\n",
       "      <td>noah</td>\n",
       "      <td>0 days 00:05:23.700000</td>\n",
       "      <td>UkdAusG0OUE</td>\n",
       "      <td>https://www.youtube.com/watch?v=UkdAusG0OUE</td>\n",
       "      <td>...</td>\n",
       "      <td>0 days 00:06:07.060000</td>\n",
       "      <td>00:05:23.70</td>\n",
       "      <td>00:06:07.6</td>\n",
       "      <td>UkdAusG0OUE</td>\n",
       "      <td>-1</td>\n",
       "      <td>False</td>\n",
       "      <td>False</td>\n",
       "      <td>True</td>\n",
       "      <td>True</td>\n",
       "      <td>False</td>\n",
       "    </tr>\n",
       "    <tr>\n",
       "      <th>82571</th>\n",
       "      <td>82571</td>\n",
       "      <td>82571</td>\n",
       "      <td>train</td>\n",
       "      <td>9.40</td>\n",
       "      <td>0 days 00:01:25.090000</td>\n",
       "      <td>cmu0000039270</td>\n",
       "      <td>noah</td>\n",
       "      <td>0 days 00:01:15.700000</td>\n",
       "      <td>w5zvsnlyBeU</td>\n",
       "      <td>https://www.youtube.com/watch?v=w5zvsnlyBeU</td>\n",
       "      <td>...</td>\n",
       "      <td>0 days 00:01:25.090000</td>\n",
       "      <td>00:01:15.70</td>\n",
       "      <td>00:01:25.9</td>\n",
       "      <td>w5zvsnlyBeU</td>\n",
       "      <td>-1</td>\n",
       "      <td>False</td>\n",
       "      <td>False</td>\n",
       "      <td>False</td>\n",
       "      <td>True</td>\n",
       "      <td>False</td>\n",
       "    </tr>\n",
       "  </tbody>\n",
       "</table>\n",
       "<p>3 rows × 21 columns</p>\n",
       "</div>"
      ],
      "text/plain": [
       "       Unnamed: 0  Unnamed: 0.1 dataset  delta_time                end_time  \\\n",
       "82470       82470         82470   train       25.70  0 days 00:16:44.130000   \n",
       "82968       82968         82968   train       43.37  0 days 00:06:07.060000   \n",
       "82571       82571         82571   train        9.40  0 days 00:01:25.090000   \n",
       "\n",
       "         interval_id speaker              start_time     video_fn  \\\n",
       "82470  cmu0000039077    noah  0 days 00:16:18.430000  EWGGuItX9gY   \n",
       "82968  cmu0000040143    noah  0 days 00:05:23.700000  UkdAusG0OUE   \n",
       "82571  cmu0000039270    noah  0 days 00:01:15.700000  w5zvsnlyBeU   \n",
       "\n",
       "                                        video_link  ...  \\\n",
       "82470  https://www.youtube.com/watch?v=EWGGuItX9gY  ...   \n",
       "82968  https://www.youtube.com/watch?v=UkdAusG0OUE  ...   \n",
       "82571  https://www.youtube.com/watch?v=w5zvsnlyBeU  ...   \n",
       "\n",
       "                 org_end_time start_time_string end_time_string     video_id  \\\n",
       "82470  0 days 00:16:44.130000       00:16:18.43     00:16:44.13  EWGGuItX9gY   \n",
       "82968  0 days 00:06:07.060000       00:05:23.70      00:06:07.6  UkdAusG0OUE   \n",
       "82571  0 days 00:01:25.090000       00:01:15.70      00:01:25.9  w5zvsnlyBeU   \n",
       "\n",
       "      max_frames_token  valid  valid_max_frames_per_token  valid_duration  \\\n",
       "82470               -1  False                       False            True   \n",
       "82968               -1  False                       False            True   \n",
       "82571               -1  False                       False           False   \n",
       "\n",
       "       valid_single_token_per_frame  video_downloded  \n",
       "82470                          True            False  \n",
       "82968                          True            False  \n",
       "82571                          True            False  \n",
       "\n",
       "[3 rows x 21 columns]"
      ]
     },
     "execution_count": 28,
     "metadata": {},
     "output_type": "execute_result"
    }
   ],
   "source": [
    "df_intervals.sample(n=3)"
   ]
  },
  {
   "cell_type": "code",
   "execution_count": 29,
   "metadata": {},
   "outputs": [
    {
     "data": {
      "text/plain": [
       "(4367, 21)"
      ]
     },
     "execution_count": 29,
     "metadata": {},
     "output_type": "execute_result"
    }
   ],
   "source": [
    "df_intervals.shape"
   ]
  },
  {
   "cell_type": "code",
   "execution_count": 24,
   "metadata": {
    "jupyter": {
     "source_hidden": true
    }
   },
   "outputs": [],
   "source": [
    "def print_df_info(df):\n",
    "    print(f'{LIST_BULLET}Videos: #{df[\"video_link\"].nunique():,}')\n",
    "    print(f'{LIST_BULLET}Intervals: #{df[\"interval_id\"].nunique():,}')\n",
    "    total_duration = df[\"duration\"].sum()\n",
    "    total_duration_string = time.strftime('%H hours, %M minutues, %S seconds', time.gmtime(total_duration))\n",
    "    print(f'{LIST_BULLET}Total Duration: {total_duration_string} ({int(total_duration):,} seconds)')\n",
    "    all_youtube = df_intervals['video_link'].str.contains('youtube').all()\n",
    "    print(f'{LIST_BULLET}All are Youtube videos: {all_youtube}')"
   ]
  },
  {
   "cell_type": "code",
   "execution_count": 25,
   "metadata": {
    "jupyter": {
     "source_hidden": true
    }
   },
   "outputs": [
    {
     "data": {
      "text/markdown": [
       "Speaker **oliver**:"
      ],
      "text/plain": [
       "<IPython.core.display.Markdown object>"
      ]
     },
     "metadata": {},
     "output_type": "display_data"
    },
    {
     "name": "stdout",
     "output_type": "stream",
     "text": [
      "  ◘ Videos: #124\n",
      "  ◘ Intervals: #4,629\n",
      "  ◘ Total Duration: 18 hours, 15 minutues, 23 seconds (65,723 seconds)\n",
      "  ◘ All are Youtube videos: True\n"
     ]
    }
   ],
   "source": [
    "printmd(f'Speaker **{SPEAKER_NAME}**:')\n",
    "print_df_info(df_intervals)"
   ]
  },
  {
   "cell_type": "code",
   "execution_count": 37,
   "metadata": {
    "jupyter": {
     "source_hidden": true
    }
   },
   "outputs": [
    {
     "ename": "NameError",
     "evalue": "name 'speaker_interval_ids' is not defined",
     "output_type": "error",
     "traceback": [
      "\u001b[0;31m---------------------------------------------------------------------------\u001b[0m",
      "\u001b[0;31mNameError\u001b[0m                                 Traceback (most recent call last)",
      "\u001b[0;32m<ipython-input-37-6ecd6c4db314>\u001b[0m in \u001b[0;36m<module>\u001b[0;34m\u001b[0m\n\u001b[1;32m      2\u001b[0m \u001b[0minterval_id_to_df_words\u001b[0m \u001b[0;34m=\u001b[0m \u001b[0;34m{\u001b[0m\u001b[0;34m}\u001b[0m\u001b[0;34m\u001b[0m\u001b[0;34m\u001b[0m\u001b[0m\n\u001b[1;32m      3\u001b[0m \u001b[0;34m\u001b[0m\u001b[0m\n\u001b[0;32m----> 4\u001b[0;31m \u001b[0;32mfor\u001b[0m \u001b[0minterval_id\u001b[0m \u001b[0;32min\u001b[0m \u001b[0mtqdm\u001b[0m\u001b[0;34m(\u001b[0m\u001b[0mspeaker_interval_ids\u001b[0m\u001b[0;34m)\u001b[0m\u001b[0;34m:\u001b[0m\u001b[0;34m\u001b[0m\u001b[0;34m\u001b[0m\u001b[0m\n\u001b[0m\u001b[1;32m      5\u001b[0m     \u001b[0;32mtry\u001b[0m\u001b[0;34m:\u001b[0m\u001b[0;34m\u001b[0m\u001b[0;34m\u001b[0m\u001b[0m\n\u001b[1;32m      6\u001b[0m         \u001b[0mdf_words\u001b[0m \u001b[0;34m=\u001b[0m \u001b[0mread_text\u001b[0m\u001b[0;34m(\u001b[0m\u001b[0minterval_id\u001b[0m\u001b[0;34m)\u001b[0m\u001b[0;34m\u001b[0m\u001b[0;34m\u001b[0m\u001b[0m\n",
      "\u001b[0;31mNameError\u001b[0m: name 'speaker_interval_ids' is not defined"
     ]
    }
   ],
   "source": [
    "interval_text_status = []\n",
    "interval_id_to_df_words = {}\n",
    "\n",
    "for interval_id in tqdm(speaker_interval_ids):\n",
    "    try:\n",
    "        df_words = read_text(interval_id)\n",
    "        interval_id_to_df_words[interval_id] = df_words\n",
    "        has_text = True\n",
    "    except ValueError as e:\n",
    "        has_text = False\n",
    "    interval_text_status.append([interval_id, has_text])"
   ]
  },
  {
   "cell_type": "markdown",
   "metadata": {},
   "source": [
    "# Intervals Validity"
   ]
  },
  {
   "cell_type": "markdown",
   "metadata": {},
   "source": [
    "## Interval PATS Text"
   ]
  },
  {
   "cell_type": "markdown",
   "metadata": {},
   "source": [
    "### Has Groups (`valid_hd5`)"
   ]
  },
  {
   "cell_type": "code",
   "execution_count": 73,
   "metadata": {
    "jupyter": {
     "source_hidden": true
    }
   },
   "outputs": [
    {
     "data": {
      "text/html": [
       "<style  type=\"text/css\" >\n",
       "    #T_152c56c2_9fb9_11eb_8796_acde48001122 caption {\n",
       "          color: navy;\n",
       "          font-size: 16px;\n",
       "    }</style><table id=\"T_152c56c2_9fb9_11eb_8796_acde48001122\" ><caption>Valid hd5 group</caption><thead>    <tr>        <th class=\"blank level0\" ></th>        <th class=\"col_heading level0 col0\" >valid_hd5</th>    </tr></thead><tbody>\n",
       "                <tr>\n",
       "                        <th id=\"T_152c56c2_9fb9_11eb_8796_acde48001122level0_row0\" class=\"row_heading level0 row0\" >True</th>\n",
       "                        <td id=\"T_152c56c2_9fb9_11eb_8796_acde48001122row0_col0\" class=\"data row0 col0\" >4254</td>\n",
       "            </tr>\n",
       "            <tr>\n",
       "                        <th id=\"T_152c56c2_9fb9_11eb_8796_acde48001122level0_row1\" class=\"row_heading level0 row1\" >False</th>\n",
       "                        <td id=\"T_152c56c2_9fb9_11eb_8796_acde48001122row1_col0\" class=\"data row1 col0\" >375</td>\n",
       "            </tr>\n",
       "    </tbody></table>"
      ],
      "text/plain": [
       "<pandas.io.formats.style.Styler at 0x13abf9828>"
      ]
     },
     "metadata": {},
     "output_type": "display_data"
    }
   ],
   "source": [
    "df_interval_text_status = pd.DataFrame(interval_text_status, columns=['interval_id', 'valid_hd5'])\n",
    "df_intervals = df_intervals.merge(df_interval_text_status)\n",
    "display_value_counts(df_intervals['valid_hd5'], 'Valid hd5 group')"
   ]
  },
  {
   "cell_type": "markdown",
   "metadata": {},
   "source": [
    "### Token Frames Duration (`valid_max_token_duration`)"
   ]
  },
  {
   "cell_type": "code",
   "execution_count": 31,
   "metadata": {
    "jupyter": {
     "source_hidden": true
    }
   },
   "outputs": [
    {
     "name": "stdout",
     "output_type": "stream",
     "text": [
      "Max allowed frames per token is: 60 frames (= 4 seconds)\n"
     ]
    }
   ],
   "source": [
    "FRAME_RATE = 15\n",
    "MAX_SECONDS_PER_TOKEN = 4\n",
    "MAX_FRAMES_THRESHOLD = FRAME_RATE * MAX_SECONDS_PER_TOKEN\n",
    "print(f'Max allowed frames per token is: {MAX_FRAMES_THRESHOLD} frames (= {MAX_SECONDS_PER_TOKEN} seconds)')"
   ]
  },
  {
   "cell_type": "code",
   "execution_count": 36,
   "metadata": {
    "jupyter": {
     "source_hidden": true
    }
   },
   "outputs": [],
   "source": [
    "UNKNOWN_MAX_FRAMES_PER_TOKEN = -1\n",
    "\n",
    "def get_max_frames_number_for_token(interval_id):\n",
    "    df_tokens = interval_id_to_df_words[interval_id]\n",
    "    max_token_frames = df_tokens['frames_count'].max()\n",
    "    return max_token_frames"
   ]
  },
  {
   "cell_type": "code",
   "execution_count": 33,
   "metadata": {
    "jupyter": {
     "source_hidden": true
    }
   },
   "outputs": [
    {
     "data": {
      "application/vnd.jupyter.widget-view+json": {
       "model_id": "ce65d46899e04789b8d94ac943f65b79",
       "version_major": 2,
       "version_minor": 0
      },
      "text/plain": [
       "  0%|          | 0/4367 [00:00<?, ?it/s]"
      ]
     },
     "metadata": {},
     "output_type": "display_data"
    },
    {
     "name": "stderr",
     "output_type": "stream",
     "text": [
      "<ipython-input-33-994f458a10c3>:1: SettingWithCopyWarning: \n",
      "A value is trying to be set on a copy of a slice from a DataFrame.\n",
      "Try using .loc[row_indexer,col_indexer] = value instead\n",
      "\n",
      "See the caveats in the documentation: https://pandas.pydata.org/pandas-docs/stable/user_guide/indexing.html#returning-a-view-versus-a-copy\n",
      "  df_intervals['max_frames_token'] = df_intervals['interval_id'].progress_apply(get_max_frames_number_for_token)\n"
     ]
    }
   ],
   "source": [
    "df_intervals['max_frames_token'] = df_intervals['interval_id'].progress_apply(get_max_frames_number_for_token)"
   ]
  },
  {
   "cell_type": "code",
   "execution_count": 35,
   "metadata": {},
   "outputs": [
    {
     "data": {
      "text/plain": [
       "-1    4367\n",
       "Name: max_frames_token, dtype: int64"
      ]
     },
     "execution_count": 35,
     "metadata": {},
     "output_type": "execute_result"
    }
   ],
   "source": [
    "df_intervals['max_frames_token'].value_counts()"
   ]
  },
  {
   "cell_type": "code",
   "execution_count": 81,
   "metadata": {
    "jupyter": {
     "source_hidden": true
    }
   },
   "outputs": [
    {
     "data": {
      "text/html": [
       "<div>\n",
       "<style scoped>\n",
       "    .dataframe tbody tr th:only-of-type {\n",
       "        vertical-align: middle;\n",
       "    }\n",
       "\n",
       "    .dataframe tbody tr th {\n",
       "        vertical-align: top;\n",
       "    }\n",
       "\n",
       "    .dataframe thead th {\n",
       "        text-align: right;\n",
       "    }\n",
       "</style>\n",
       "<table border=\"1\" class=\"dataframe\">\n",
       "  <thead>\n",
       "    <tr style=\"text-align: right;\">\n",
       "      <th></th>\n",
       "      <th>Unnamed: 0</th>\n",
       "      <th>Unnamed: 0.1</th>\n",
       "      <th>dataset</th>\n",
       "      <th>duration</th>\n",
       "      <th>end_time</th>\n",
       "      <th>interval_id</th>\n",
       "      <th>speaker</th>\n",
       "      <th>start_time</th>\n",
       "      <th>video_fn</th>\n",
       "      <th>video_link</th>\n",
       "      <th>...</th>\n",
       "      <th>start_time_string</th>\n",
       "      <th>end_time_string</th>\n",
       "      <th>video_id</th>\n",
       "      <th>max_frames_token</th>\n",
       "      <th>valid</th>\n",
       "      <th>valid_max_frames_per_token</th>\n",
       "      <th>valid_duration</th>\n",
       "      <th>valid_single_token_per_frame</th>\n",
       "      <th>video_downloded</th>\n",
       "      <th>valid_hd5</th>\n",
       "    </tr>\n",
       "  </thead>\n",
       "  <tbody>\n",
       "    <tr>\n",
       "      <th>0</th>\n",
       "      <td>43180</td>\n",
       "      <td>43180</td>\n",
       "      <td>dev</td>\n",
       "      <td>12.21</td>\n",
       "      <td>0 days 00:01:10.830000</td>\n",
       "      <td>214428</td>\n",
       "      <td>oliver</td>\n",
       "      <td>0 days 00:00:58.620000</td>\n",
       "      <td>Abortion_Laws_-_Last_Week_Tonight_with_John_Oliver_HBO-DRauXXz6t0Y.webm</td>\n",
       "      <td>http://www.youtube.com/watch?v=DRauXXz6t0Y</td>\n",
       "      <td>...</td>\n",
       "      <td>00:00:58.62</td>\n",
       "      <td>00:01:10.83</td>\n",
       "      <td>DRauXXz6t0Y</td>\n",
       "      <td>88</td>\n",
       "      <td>False</td>\n",
       "      <td>False</td>\n",
       "      <td>False</td>\n",
       "      <td>True</td>\n",
       "      <td>False</td>\n",
       "      <td>True</td>\n",
       "    </tr>\n",
       "    <tr>\n",
       "      <th>1</th>\n",
       "      <td>43181</td>\n",
       "      <td>43181</td>\n",
       "      <td>dev</td>\n",
       "      <td>6.14</td>\n",
       "      <td>0 days 00:01:17.110000</td>\n",
       "      <td>214429</td>\n",
       "      <td>oliver</td>\n",
       "      <td>0 days 00:01:10.970000</td>\n",
       "      <td>Abortion_Laws_-_Last_Week_Tonight_with_John_Oliver_HBO-DRauXXz6t0Y.webm</td>\n",
       "      <td>http://www.youtube.com/watch?v=DRauXXz6t0Y</td>\n",
       "      <td>...</td>\n",
       "      <td>00:01:10.97</td>\n",
       "      <td>00:01:17.11</td>\n",
       "      <td>DRauXXz6t0Y</td>\n",
       "      <td>31</td>\n",
       "      <td>False</td>\n",
       "      <td>True</td>\n",
       "      <td>False</td>\n",
       "      <td>True</td>\n",
       "      <td>False</td>\n",
       "      <td>True</td>\n",
       "    </tr>\n",
       "  </tbody>\n",
       "</table>\n",
       "<p>2 rows × 22 columns</p>\n",
       "</div>"
      ],
      "text/plain": [
       "   Unnamed: 0  Unnamed: 0.1 dataset  duration                end_time  \\\n",
       "0       43180         43180     dev     12.21  0 days 00:01:10.830000   \n",
       "1       43181         43181     dev      6.14  0 days 00:01:17.110000   \n",
       "\n",
       "  interval_id speaker              start_time  \\\n",
       "0      214428  oliver  0 days 00:00:58.620000   \n",
       "1      214429  oliver  0 days 00:01:10.970000   \n",
       "\n",
       "                                                                  video_fn  \\\n",
       "0  Abortion_Laws_-_Last_Week_Tonight_with_John_Oliver_HBO-DRauXXz6t0Y.webm   \n",
       "1  Abortion_Laws_-_Last_Week_Tonight_with_John_Oliver_HBO-DRauXXz6t0Y.webm   \n",
       "\n",
       "                                   video_link  ... start_time_string  \\\n",
       "0  http://www.youtube.com/watch?v=DRauXXz6t0Y  ...       00:00:58.62   \n",
       "1  http://www.youtube.com/watch?v=DRauXXz6t0Y  ...       00:01:10.97   \n",
       "\n",
       "  end_time_string     video_id max_frames_token  valid  \\\n",
       "0     00:01:10.83  DRauXXz6t0Y               88  False   \n",
       "1     00:01:17.11  DRauXXz6t0Y               31  False   \n",
       "\n",
       "   valid_max_frames_per_token  valid_duration  valid_single_token_per_frame  \\\n",
       "0                       False           False                          True   \n",
       "1                        True           False                          True   \n",
       "\n",
       "   video_downloded  valid_hd5  \n",
       "0            False       True  \n",
       "1            False       True  \n",
       "\n",
       "[2 rows x 22 columns]"
      ]
     },
     "execution_count": 81,
     "metadata": {},
     "output_type": "execute_result"
    }
   ],
   "source": [
    "df_intervals.head(n=2)"
   ]
  },
  {
   "cell_type": "code",
   "execution_count": 103,
   "metadata": {
    "jupyter": {
     "source_hidden": true
    }
   },
   "outputs": [
    {
     "data": {
      "image/png": "[encoded data removed]",
      "text/plain": [
       "<Figure size 360x360 with 1 Axes>"
      ]
     },
     "metadata": {},
     "output_type": "display_data"
    }
   ],
   "source": [
    "sns.set_style('ticks')\n",
    "sns.displot(df_intervals[df_intervals['max_frames_token'] != -1]['max_frames_token'])\n",
    "plt.axvline(MAX_FRAMES_THRESHOLD, color='deeppink');"
   ]
  },
  {
   "cell_type": "code",
   "execution_count": 105,
   "metadata": {
    "jupyter": {
     "source_hidden": true
    }
   },
   "outputs": [
    {
     "data": {
      "text/html": [
       "<style  type=\"text/css\" >\n",
       "    #T_fafdf3ac_9fbb_11eb_9bbb_acde48001122 caption {\n",
       "          color: navy;\n",
       "          font-size: 16px;\n",
       "    }</style><table id=\"T_fafdf3ac_9fbb_11eb_9bbb_acde48001122\" ><caption>Valid Token Duration</caption><thead>    <tr>        <th class=\"blank level0\" ></th>        <th class=\"col_heading level0 col0\" >valid_max_token_duration</th>    </tr></thead><tbody>\n",
       "                <tr>\n",
       "                        <th id=\"T_fafdf3ac_9fbb_11eb_9bbb_acde48001122level0_row0\" class=\"row_heading level0 row0\" >True</th>\n",
       "                        <td id=\"T_fafdf3ac_9fbb_11eb_9bbb_acde48001122row0_col0\" class=\"data row0 col0\" >3077</td>\n",
       "            </tr>\n",
       "            <tr>\n",
       "                        <th id=\"T_fafdf3ac_9fbb_11eb_9bbb_acde48001122level0_row1\" class=\"row_heading level0 row1\" >False</th>\n",
       "                        <td id=\"T_fafdf3ac_9fbb_11eb_9bbb_acde48001122row1_col0\" class=\"data row1 col0\" >1552</td>\n",
       "            </tr>\n",
       "    </tbody></table>"
      ],
      "text/plain": [
       "<pandas.io.formats.style.Styler at 0x13aed4278>"
      ]
     },
     "metadata": {},
     "output_type": "display_data"
    }
   ],
   "source": [
    "mask_below_max_frames_limit = (df_intervals['max_frames_token'] < MAX_FRAMES_THRESHOLD)\n",
    "mask_known_max_frames = (df_intervals['max_frames_token'] != UNKNOWN_MAX_FRAMES_PER_TOKEN) \n",
    "\n",
    "df_intervals['valid_max_token_duration'] = mask_below_max_frames_limit & mask_known_max_frames\n",
    "display_value_counts(df_intervals['valid_max_token_duration'], 'Valid Token Duration')"
   ]
  },
  {
   "cell_type": "markdown",
   "metadata": {},
   "source": [
    "### Multiple Words Per Frame (`valid_single_token_per_frame`)"
   ]
  },
  {
   "cell_type": "code",
   "execution_count": 115,
   "metadata": {
    "jupyter": {
     "source_hidden": true
    }
   },
   "outputs": [
    {
     "data": {
      "text/markdown": [
       "**Video path**: /Users/staveshemesh/Projects/PATS_DATA/Youtube/oliver/5d667Bb_iYA/101204/101204.mp4"
      ],
      "text/plain": [
       "<IPython.core.display.Markdown object>"
      ]
     },
     "metadata": {},
     "output_type": "display_data"
    },
    {
     "data": {
      "text/markdown": [
       "**Text path**: /Users/staveshemesh/Projects/PATS_DATA/Processed/oliver/data/processed/oliver/101204.h5"
      ],
      "text/plain": [
       "<IPython.core.display.Markdown object>"
      ]
     },
     "metadata": {},
     "output_type": "display_data"
    },
    {
     "name": "stdout",
     "output_type": "stream",
     "text": [
      "Start token unique: False\n"
     ]
    },
    {
     "data": {
      "text/html": [
       "<div>\n",
       "<style scoped>\n",
       "    .dataframe tbody tr th:only-of-type {\n",
       "        vertical-align: middle;\n",
       "    }\n",
       "\n",
       "    .dataframe tbody tr th {\n",
       "        vertical-align: top;\n",
       "    }\n",
       "\n",
       "    .dataframe thead th {\n",
       "        text-align: right;\n",
       "    }\n",
       "</style>\n",
       "<table border=\"1\" class=\"dataframe\">\n",
       "  <thead>\n",
       "    <tr style=\"text-align: right;\">\n",
       "      <th></th>\n",
       "      <th>Word</th>\n",
       "      <th>start_frame</th>\n",
       "      <th>end_frame</th>\n",
       "      <th>frames_count</th>\n",
       "      <th>time</th>\n",
       "    </tr>\n",
       "  </thead>\n",
       "  <tbody>\n",
       "    <tr>\n",
       "      <th>24</th>\n",
       "      <td>out</td>\n",
       "      <td>117</td>\n",
       "      <td>120</td>\n",
       "      <td>3</td>\n",
       "      <td>8.00</td>\n",
       "    </tr>\n",
       "    <tr>\n",
       "      <th>25</th>\n",
       "      <td>me</td>\n",
       "      <td>120</td>\n",
       "      <td>123</td>\n",
       "      <td>3</td>\n",
       "      <td>8.20</td>\n",
       "    </tr>\n",
       "    <tr>\n",
       "      <th>26</th>\n",
       "      <td>on</td>\n",
       "      <td>123</td>\n",
       "      <td>123</td>\n",
       "      <td>0</td>\n",
       "      <td>8.20</td>\n",
       "    </tr>\n",
       "    <tr>\n",
       "      <th>27</th>\n",
       "      <td>so</td>\n",
       "      <td>123</td>\n",
       "      <td>127</td>\n",
       "      <td>4</td>\n",
       "      <td>8.50</td>\n",
       "    </tr>\n",
       "    <tr>\n",
       "      <th>28</th>\n",
       "      <td>too</td>\n",
       "      <td>127</td>\n",
       "      <td>130</td>\n",
       "      <td>3</td>\n",
       "      <td>8.70</td>\n",
       "    </tr>\n",
       "    <tr>\n",
       "      <th>29</th>\n",
       "      <td>should</td>\n",
       "      <td>130</td>\n",
       "      <td>136</td>\n",
       "      <td>6</td>\n",
       "      <td>9.10</td>\n",
       "    </tr>\n",
       "    <tr>\n",
       "      <th>30</th>\n",
       "      <td>gay</td>\n",
       "      <td>136</td>\n",
       "      <td>141</td>\n",
       "      <td>5</td>\n",
       "      <td>9.40</td>\n",
       "    </tr>\n",
       "    <tr>\n",
       "      <th>31</th>\n",
       "      <td>people</td>\n",
       "      <td>141</td>\n",
       "      <td>144</td>\n",
       "      <td>3</td>\n",
       "      <td>9.60</td>\n",
       "    </tr>\n",
       "    <tr>\n",
       "      <th>32</th>\n",
       "      <td>be</td>\n",
       "      <td>144</td>\n",
       "      <td>147</td>\n",
       "      <td>3</td>\n",
       "      <td>9.80</td>\n",
       "    </tr>\n",
       "    <tr>\n",
       "      <th>33</th>\n",
       "      <td>discriminated</td>\n",
       "      <td>147</td>\n",
       "      <td>147</td>\n",
       "      <td>0</td>\n",
       "      <td>9.80</td>\n",
       "    </tr>\n",
       "    <tr>\n",
       "      <th>34</th>\n",
       "      <td>against</td>\n",
       "      <td>147</td>\n",
       "      <td>147</td>\n",
       "      <td>0</td>\n",
       "      <td>9.80</td>\n",
       "    </tr>\n",
       "    <tr>\n",
       "      <th>35</th>\n",
       "      <td>is</td>\n",
       "      <td>147</td>\n",
       "      <td>147</td>\n",
       "      <td>0</td>\n",
       "      <td>9.80</td>\n",
       "    </tr>\n",
       "    <tr>\n",
       "      <th>36</th>\n",
       "      <td>just</td>\n",
       "      <td>147</td>\n",
       "      <td>147</td>\n",
       "      <td>0</td>\n",
       "      <td>9.80</td>\n",
       "    </tr>\n",
       "    <tr>\n",
       "      <th>37</th>\n",
       "      <td>know</td>\n",
       "      <td>147</td>\n",
       "      <td>147</td>\n",
       "      <td>0</td>\n",
       "      <td>9.80</td>\n",
       "    </tr>\n",
       "    <tr>\n",
       "      <th>38</th>\n",
       "      <td>it</td>\n",
       "      <td>147</td>\n",
       "      <td>147</td>\n",
       "      <td>0</td>\n",
       "      <td>9.80</td>\n",
       "    </tr>\n",
       "    <tr>\n",
       "      <th>39</th>\n",
       "      <td>is</td>\n",
       "      <td>147</td>\n",
       "      <td>147</td>\n",
       "      <td>0</td>\n",
       "      <td>9.80</td>\n",
       "    </tr>\n",
       "  </tbody>\n",
       "</table>\n",
       "</div>"
      ],
      "text/plain": [
       "             Word  start_frame  end_frame  frames_count  time\n",
       "24            out          117        120             3  8.00\n",
       "25             me          120        123             3  8.20\n",
       "26             on          123        123             0  8.20\n",
       "27             so          123        127             4  8.50\n",
       "28            too          127        130             3  8.70\n",
       "29         should          130        136             6  9.10\n",
       "30            gay          136        141             5  9.40\n",
       "31         people          141        144             3  9.60\n",
       "32             be          144        147             3  9.80\n",
       "33  discriminated          147        147             0  9.80\n",
       "34        against          147        147             0  9.80\n",
       "35             is          147        147             0  9.80\n",
       "36           just          147        147             0  9.80\n",
       "37           know          147        147             0  9.80\n",
       "38             it          147        147             0  9.80\n",
       "39             is          147        147             0  9.80"
      ]
     },
     "execution_count": 115,
     "metadata": {},
     "output_type": "execute_result"
    }
   ],
   "source": [
    "df_tokens = read_text('101204')\n",
    "printmd(f'**Video path**: {resolve_interval_video_path(\"101204\")}')\n",
    "printmd(f'**Text path**: {resolve_interval_text_path(\"101204\")}')\n",
    "print(f'Start token unique: {df_tokens[\"start_frame\"].is_unique}')\n",
    "df_tokens[24:40]"
   ]
  },
  {
   "cell_type": "code",
   "execution_count": 120,
   "metadata": {
    "jupyter": {
     "source_hidden": true
    }
   },
   "outputs": [],
   "source": [
    "MAX_TOKENS_PER_FRAME_LIMIT = 2 # allow not more two tokens with the same start frame\n",
    "\n",
    "def valid_single_frame_tokens_count(interval_id):\n",
    "    df_tokens = interval_id_to_df_words.get(interval_id)\n",
    "    if df_tokens is None:\n",
    "        return False\n",
    "    max_tokens_per_frame = df_tokens['start_frame'].value_counts().max()\n",
    "    return max_tokens_per_frame <= MAX_TOKENS_PER_FRAME_LIMIT"
   ]
  },
  {
   "cell_type": "code",
   "execution_count": 121,
   "metadata": {
    "jupyter": {
     "source_hidden": true
    }
   },
   "outputs": [
    {
     "data": {
      "application/vnd.jupyter.widget-view+json": {
       "model_id": "8bda51f397ba456c94795895ad624dd9",
       "version_major": 2,
       "version_minor": 0
      },
      "text/plain": [
       "HBox(children=(FloatProgress(value=0.0, max=4629.0), HTML(value='')))"
      ]
     },
     "metadata": {},
     "output_type": "display_data"
    },
    {
     "name": "stdout",
     "output_type": "stream",
     "text": [
      "\n"
     ]
    }
   ],
   "source": [
    "df_intervals['valid_single_token_per_frame'] = df_intervals['interval_id'].progress_apply(valid_single_frame_tokens_count)"
   ]
  },
  {
   "cell_type": "code",
   "execution_count": 122,
   "metadata": {
    "jupyter": {
     "source_hidden": true
    }
   },
   "outputs": [
    {
     "data": {
      "text/html": [
       "<style  type=\"text/css\" >\n",
       "    #T_dc6198ec_9fbe_11eb_aa81_acde48001122 caption {\n",
       "          color: navy;\n",
       "          font-size: 16px;\n",
       "    }</style><table id=\"T_dc6198ec_9fbe_11eb_aa81_acde48001122\" ><caption>Max of 2 tokens per frame</caption><thead>    <tr>        <th class=\"blank level0\" ></th>        <th class=\"col_heading level0 col0\" >valid_single_token_per_frame</th>    </tr></thead><tbody>\n",
       "                <tr>\n",
       "                        <th id=\"T_dc6198ec_9fbe_11eb_aa81_acde48001122level0_row0\" class=\"row_heading level0 row0\" >True</th>\n",
       "                        <td id=\"T_dc6198ec_9fbe_11eb_aa81_acde48001122row0_col0\" class=\"data row0 col0\" >4062</td>\n",
       "            </tr>\n",
       "            <tr>\n",
       "                        <th id=\"T_dc6198ec_9fbe_11eb_aa81_acde48001122level0_row1\" class=\"row_heading level0 row1\" >False</th>\n",
       "                        <td id=\"T_dc6198ec_9fbe_11eb_aa81_acde48001122row1_col0\" class=\"data row1 col0\" >567</td>\n",
       "            </tr>\n",
       "    </tbody></table>"
      ],
      "text/plain": [
       "<pandas.io.formats.style.Styler at 0x13c48bdd8>"
      ]
     },
     "metadata": {},
     "output_type": "display_data"
    }
   ],
   "source": [
    "display_value_counts(df_intervals['valid_single_token_per_frame'], f'Max of {MAX_TOKENS_PER_FRAME_LIMIT} tokens per frame')"
   ]
  },
  {
   "cell_type": "markdown",
   "metadata": {},
   "source": [
    "### Frame Count (`valid_frames_count`)"
   ]
  },
  {
   "cell_type": "code",
   "execution_count": 140,
   "metadata": {
    "jupyter": {
     "source_hidden": true
    }
   },
   "outputs": [],
   "source": [
    "def valid_interval_frame_count(interval_id, duration):\n",
    "    df_tokens = interval_id_to_df_words.get(interval_id)\n",
    "    if df_tokens is None:\n",
    "        return False\n",
    "    total_frames = df_tokens['end_frame'].max()\n",
    "    max_tokens_per_frame = df_tokens['start_frame'].value_counts().max()\n",
    "    lower_bound = (duration - 2) * FRAME_RATE\n",
    "    upper_bound = (duration + 1) * FRAME_RATE\n",
    "    is_valid = lower_bound <= total_frames <= upper_bound\n",
    "    debug_symbol = '✓' if is_valid else '✗'\n",
    "    if interval_id in df_intervals['interval_id'][:10].tolist():\n",
    "        print(debug_symbol, interval_id, round(lower_bound, 2), total_frames, round(upper_bound, 2))\n",
    "    return lower_bound <= total_frames <= upper_bound"
   ]
  },
  {
   "cell_type": "code",
   "execution_count": 141,
   "metadata": {
    "jupyter": {
     "source_hidden": true
    }
   },
   "outputs": [
    {
     "data": {
      "application/vnd.jupyter.widget-view+json": {
       "model_id": "66bc29ef7713465486107e9d95f1b31d",
       "version_major": 2,
       "version_minor": 0
      },
      "text/plain": [
       "HBox(children=(FloatProgress(value=0.0, max=4629.0), HTML(value='')))"
      ]
     },
     "metadata": {},
     "output_type": "display_data"
    },
    {
     "name": "stdout",
     "output_type": "stream",
     "text": [
      "✓ 214428 153.18 184 198.18\n",
      "✓ 214429 62.09 93 107.09\n",
      "✗ 214430 1506.54 1482 1551.54\n",
      "✓ 214431 73.1 104 118.1\n",
      "✓ 214433 212.24 241 257.24\n",
      "✓ 214434 368.4 396 413.4\n",
      "✓ 214435 70.1 101 115.1\n",
      "✓ 214436 61.09 92 106.09\n",
      "✓ 214438 1164.19 1190 1209.19\n",
      "✗ 214439 124.15 123 169.15\n",
      "\n"
     ]
    }
   ],
   "source": [
    "df_intervals['valid_frames_count'] = df_intervals[['interval_id', 'duration']].progress_apply(lambda x: valid_interval_frame_count(*x), axis=1)"
   ]
  },
  {
   "cell_type": "code",
   "execution_count": 132,
   "metadata": {
    "jupyter": {
     "source_hidden": true
    }
   },
   "outputs": [
    {
     "data": {
      "text/html": [
       "<style  type=\"text/css\" >\n",
       "    #T_b9a6e292_9fc0_11eb_bc8b_acde48001122 caption {\n",
       "          color: navy;\n",
       "          font-size: 16px;\n",
       "    }</style><table id=\"T_b9a6e292_9fc0_11eb_bc8b_acde48001122\" ><caption>Frame Count = Frame Rate * Seconds</caption><thead>    <tr>        <th class=\"blank level0\" ></th>        <th class=\"col_heading level0 col0\" >valid_frames_count</th>    </tr></thead><tbody>\n",
       "                <tr>\n",
       "                        <th id=\"T_b9a6e292_9fc0_11eb_bc8b_acde48001122level0_row0\" class=\"row_heading level0 row0\" >False</th>\n",
       "                        <td id=\"T_b9a6e292_9fc0_11eb_bc8b_acde48001122row0_col0\" class=\"data row0 col0\" >3916</td>\n",
       "            </tr>\n",
       "            <tr>\n",
       "                        <th id=\"T_b9a6e292_9fc0_11eb_bc8b_acde48001122level0_row1\" class=\"row_heading level0 row1\" >True</th>\n",
       "                        <td id=\"T_b9a6e292_9fc0_11eb_bc8b_acde48001122row1_col0\" class=\"data row1 col0\" >713</td>\n",
       "            </tr>\n",
       "    </tbody></table>"
      ],
      "text/plain": [
       "<pandas.io.formats.style.Styler at 0x13e3cf518>"
      ]
     },
     "metadata": {},
     "output_type": "display_data"
    }
   ],
   "source": [
    "display_value_counts(df_intervals['valid_frames_count'], f'Frame Count = Frame Rate * Seconds')"
   ]
  },
  {
   "cell_type": "code",
   "execution_count": 137,
   "metadata": {
    "jupyter": {
     "source_hidden": true
    }
   },
   "outputs": [
    {
     "data": {
      "text/html": [
       "<div>\n",
       "<style scoped>\n",
       "    .dataframe tbody tr th:only-of-type {\n",
       "        vertical-align: middle;\n",
       "    }\n",
       "\n",
       "    .dataframe tbody tr th {\n",
       "        vertical-align: top;\n",
       "    }\n",
       "\n",
       "    .dataframe thead th {\n",
       "        text-align: right;\n",
       "    }\n",
       "</style>\n",
       "<table border=\"1\" class=\"dataframe\">\n",
       "  <thead>\n",
       "    <tr style=\"text-align: right;\">\n",
       "      <th></th>\n",
       "      <th>Word</th>\n",
       "      <th>start_frame</th>\n",
       "      <th>end_frame</th>\n",
       "      <th>frames_count</th>\n",
       "      <th>time</th>\n",
       "    </tr>\n",
       "  </thead>\n",
       "  <tbody>\n",
       "    <tr>\n",
       "      <th>0</th>\n",
       "      <td>restrictions</td>\n",
       "      <td>0</td>\n",
       "      <td>8</td>\n",
       "      <td>8</td>\n",
       "      <td>0.50</td>\n",
       "    </tr>\n",
       "    <tr>\n",
       "      <th>1</th>\n",
       "      <td>on</td>\n",
       "      <td>8</td>\n",
       "      <td>8</td>\n",
       "      <td>0</td>\n",
       "      <td>0.50</td>\n",
       "    </tr>\n",
       "    <tr>\n",
       "      <th>2</th>\n",
       "      <td>Old</td>\n",
       "      <td>8</td>\n",
       "      <td>11</td>\n",
       "      <td>3</td>\n",
       "      <td>0.70</td>\n",
       "    </tr>\n",
       "    <tr>\n",
       "      <th>3</th>\n",
       "      <td>clinics</td>\n",
       "      <td>11</td>\n",
       "      <td>19</td>\n",
       "      <td>8</td>\n",
       "      <td>1.30</td>\n",
       "    </tr>\n",
       "    <tr>\n",
       "      <th>4</th>\n",
       "      <td>pictures</td>\n",
       "      <td>19</td>\n",
       "      <td>22</td>\n",
       "      <td>3</td>\n",
       "      <td>1.50</td>\n",
       "    </tr>\n",
       "    <tr>\n",
       "      <th>5</th>\n",
       "      <td>of</td>\n",
       "      <td>22</td>\n",
       "      <td>23</td>\n",
       "      <td>1</td>\n",
       "      <td>1.50</td>\n",
       "    </tr>\n",
       "    <tr>\n",
       "      <th>6</th>\n",
       "      <td>Kum</td>\n",
       "      <td>23</td>\n",
       "      <td>28</td>\n",
       "      <td>5</td>\n",
       "      <td>1.90</td>\n",
       "    </tr>\n",
       "    <tr>\n",
       "      <th>7</th>\n",
       "      <td>&amp;</td>\n",
       "      <td>28</td>\n",
       "      <td>29</td>\n",
       "      <td>1</td>\n",
       "      <td>1.90</td>\n",
       "    </tr>\n",
       "    <tr>\n",
       "      <th>8</th>\n",
       "      <td>Go's</td>\n",
       "      <td>29</td>\n",
       "      <td>32</td>\n",
       "      <td>3</td>\n",
       "      <td>2.10</td>\n",
       "    </tr>\n",
       "    <tr>\n",
       "      <th>9</th>\n",
       "      <td>now</td>\n",
       "      <td>32</td>\n",
       "      <td>35</td>\n",
       "      <td>3</td>\n",
       "      <td>2.30</td>\n",
       "    </tr>\n",
       "    <tr>\n",
       "      <th>10</th>\n",
       "      <td>he's</td>\n",
       "      <td>35</td>\n",
       "      <td>43</td>\n",
       "      <td>8</td>\n",
       "      <td>2.90</td>\n",
       "    </tr>\n",
       "    <tr>\n",
       "      <th>11</th>\n",
       "      <td>like</td>\n",
       "      <td>43</td>\n",
       "      <td>46</td>\n",
       "      <td>3</td>\n",
       "      <td>3.10</td>\n",
       "    </tr>\n",
       "    <tr>\n",
       "      <th>12</th>\n",
       "      <td>a</td>\n",
       "      <td>46</td>\n",
       "      <td>64</td>\n",
       "      <td>18</td>\n",
       "      <td>4.30</td>\n",
       "    </tr>\n",
       "    <tr>\n",
       "      <th>13</th>\n",
       "      <td>Taco</td>\n",
       "      <td>64</td>\n",
       "      <td>71</td>\n",
       "      <td>7</td>\n",
       "      <td>4.70</td>\n",
       "    </tr>\n",
       "    <tr>\n",
       "      <th>14</th>\n",
       "      <td>Bell</td>\n",
       "      <td>71</td>\n",
       "      <td>73</td>\n",
       "      <td>2</td>\n",
       "      <td>4.90</td>\n",
       "    </tr>\n",
       "    <tr>\n",
       "      <th>15</th>\n",
       "      <td>employee</td>\n",
       "      <td>73</td>\n",
       "      <td>76</td>\n",
       "      <td>3</td>\n",
       "      <td>5.10</td>\n",
       "    </tr>\n",
       "    <tr>\n",
       "      <th>16</th>\n",
       "      <td>licking</td>\n",
       "      <td>76</td>\n",
       "      <td>92</td>\n",
       "      <td>16</td>\n",
       "      <td>6.10</td>\n",
       "    </tr>\n",
       "    <tr>\n",
       "      <th>17</th>\n",
       "      <td>their</td>\n",
       "      <td>92</td>\n",
       "      <td>95</td>\n",
       "      <td>3</td>\n",
       "      <td>6.30</td>\n",
       "    </tr>\n",
       "    <tr>\n",
       "      <th>18</th>\n",
       "      <td>food</td>\n",
       "      <td>95</td>\n",
       "      <td>98</td>\n",
       "      <td>3</td>\n",
       "      <td>6.50</td>\n",
       "    </tr>\n",
       "    <tr>\n",
       "      <th>19</th>\n",
       "      <td>and</td>\n",
       "      <td>98</td>\n",
       "      <td>101</td>\n",
       "      <td>3</td>\n",
       "      <td>6.70</td>\n",
       "    </tr>\n",
       "    <tr>\n",
       "      <th>20</th>\n",
       "      <td>say</td>\n",
       "      <td>101</td>\n",
       "      <td>103</td>\n",
       "      <td>2</td>\n",
       "      <td>6.90</td>\n",
       "    </tr>\n",
       "    <tr>\n",
       "      <th>21</th>\n",
       "      <td>okay</td>\n",
       "      <td>103</td>\n",
       "      <td>113</td>\n",
       "      <td>10</td>\n",
       "      <td>7.50</td>\n",
       "    </tr>\n",
       "    <tr>\n",
       "      <th>22</th>\n",
       "      <td>restaurants</td>\n",
       "      <td>113</td>\n",
       "      <td>123</td>\n",
       "      <td>10</td>\n",
       "      <td>8.20</td>\n",
       "    </tr>\n",
       "    <tr>\n",
       "      <th>23</th>\n",
       "      <td>have</td>\n",
       "      <td>123</td>\n",
       "      <td>123</td>\n",
       "      <td>0</td>\n",
       "      <td>8.20</td>\n",
       "    </tr>\n",
       "    <tr>\n",
       "      <th>24</th>\n",
       "      <td>to</td>\n",
       "      <td>123</td>\n",
       "      <td>123</td>\n",
       "      <td>0</td>\n",
       "      <td>8.20</td>\n",
       "    </tr>\n",
       "    <tr>\n",
       "      <th>25</th>\n",
       "      <td>have</td>\n",
       "      <td>123</td>\n",
       "      <td>123</td>\n",
       "      <td>0</td>\n",
       "      <td>8.20</td>\n",
       "    </tr>\n",
       "  </tbody>\n",
       "</table>\n",
       "</div>"
      ],
      "text/plain": [
       "            Word  start_frame  end_frame  frames_count  time\n",
       "0   restrictions            0          8             8  0.50\n",
       "1             on            8          8             0  0.50\n",
       "2            Old            8         11             3  0.70\n",
       "3        clinics           11         19             8  1.30\n",
       "4       pictures           19         22             3  1.50\n",
       "5             of           22         23             1  1.50\n",
       "6            Kum           23         28             5  1.90\n",
       "7              &           28         29             1  1.90\n",
       "8           Go's           29         32             3  2.10\n",
       "9            now           32         35             3  2.30\n",
       "10          he's           35         43             8  2.90\n",
       "11          like           43         46             3  3.10\n",
       "12             a           46         64            18  4.30\n",
       "13          Taco           64         71             7  4.70\n",
       "14          Bell           71         73             2  4.90\n",
       "15      employee           73         76             3  5.10\n",
       "16       licking           76         92            16  6.10\n",
       "17         their           92         95             3  6.30\n",
       "18          food           95         98             3  6.50\n",
       "19           and           98        101             3  6.70\n",
       "20           say          101        103             2  6.90\n",
       "21          okay          103        113            10  7.50\n",
       "22   restaurants          113        123            10  8.20\n",
       "23          have          123        123             0  8.20\n",
       "24            to          123        123             0  8.20\n",
       "25          have          123        123             0  8.20"
      ]
     },
     "execution_count": 137,
     "metadata": {},
     "output_type": "execute_result"
    }
   ],
   "source": [
    "read_text('214439')"
   ]
  },
  {
   "cell_type": "markdown",
   "metadata": {},
   "source": [
    "## Interval Video"
   ]
  },
  {
   "cell_type": "markdown",
   "metadata": {},
   "source": [
    "### Total Duration (`valid_duration`)"
   ]
  },
  {
   "cell_type": "code",
   "execution_count": 170,
   "metadata": {
    "jupyter": {
     "source_hidden": true
    }
   },
   "outputs": [],
   "source": [
    "MIN_DURATION_SECS_THRESHOLD = 4"
   ]
  },
  {
   "cell_type": "code",
   "execution_count": 171,
   "metadata": {
    "jupyter": {
     "source_hidden": true
    }
   },
   "outputs": [
    {
     "data": {
      "text/plain": [
       "Index(['Unnamed: 0', 'Unnamed: 0.1', 'dataset', 'duration', 'end_time',\n",
       "       'interval_id', 'speaker', 'start_time', 'video_fn', 'video_link',\n",
       "       'org_start_time', 'org_end_time', 'start_time_string',\n",
       "       'end_time_string', 'video_id', 'max_frames_token', 'valid',\n",
       "       'valid_duration', 'valid_single_token_per_frame', 'video_downloded',\n",
       "       'valid_hd5', 'valid_max_token_duration', 'valid_frames_count'],\n",
       "      dtype='object')"
      ]
     },
     "execution_count": 171,
     "metadata": {},
     "output_type": "execute_result"
    }
   ],
   "source": [
    "df_intervals.columns"
   ]
  },
  {
   "cell_type": "code",
   "execution_count": 172,
   "metadata": {
    "jupyter": {
     "source_hidden": true
    }
   },
   "outputs": [],
   "source": [
    "df_intervals['valid_duration'] = MIN_DURATION_SECS_THRESHOLD < df_intervals['duration']"
   ]
  },
  {
   "cell_type": "code",
   "execution_count": 173,
   "metadata": {
    "jupyter": {
     "source_hidden": true
    }
   },
   "outputs": [
    {
     "data": {
      "text/html": [
       "<style  type=\"text/css\" >\n",
       "    #T_5187b75e_9fc5_11eb_8bb7_acde48001122 caption {\n",
       "          color: navy;\n",
       "          font-size: 16px;\n",
       "    }</style><table id=\"T_5187b75e_9fc5_11eb_8bb7_acde48001122\" ><caption>Duration > 4 seconds</caption><thead>    <tr>        <th class=\"blank level0\" ></th>        <th class=\"col_heading level0 col0\" >valid_duration</th>    </tr></thead><tbody>\n",
       "                <tr>\n",
       "                        <th id=\"T_5187b75e_9fc5_11eb_8bb7_acde48001122level0_row0\" class=\"row_heading level0 row0\" >True</th>\n",
       "                        <td id=\"T_5187b75e_9fc5_11eb_8bb7_acde48001122row0_col0\" class=\"data row0 col0\" >3499</td>\n",
       "            </tr>\n",
       "            <tr>\n",
       "                        <th id=\"T_5187b75e_9fc5_11eb_8bb7_acde48001122level0_row1\" class=\"row_heading level0 row1\" >False</th>\n",
       "                        <td id=\"T_5187b75e_9fc5_11eb_8bb7_acde48001122row1_col0\" class=\"data row1 col0\" >1130</td>\n",
       "            </tr>\n",
       "    </tbody></table>"
      ],
      "text/plain": [
       "<pandas.io.formats.style.Styler at 0x13e9a22b0>"
      ]
     },
     "metadata": {},
     "output_type": "display_data"
    }
   ],
   "source": [
    "display_value_counts(df_intervals['valid_duration'], f'Duration > {MIN_DURATION_SECS_THRESHOLD} seconds')"
   ]
  },
  {
   "cell_type": "markdown",
   "metadata": {},
   "source": [
    "## Finalize Valid"
   ]
  },
  {
   "cell_type": "code",
   "execution_count": 174,
   "metadata": {
    "jupyter": {
     "source_hidden": true
    }
   },
   "outputs": [
    {
     "data": {
      "text/plain": [
       "['valid_duration',\n",
       " 'valid_single_token_per_frame',\n",
       " 'valid_hd5',\n",
       " 'valid_max_token_duration',\n",
       " 'valid_frames_count']"
      ]
     },
     "execution_count": 174,
     "metadata": {},
     "output_type": "execute_result"
    }
   ],
   "source": [
    "df_intervals.columns[df_intervals.columns.str.contains('valid_')].tolist()"
   ]
  },
  {
   "cell_type": "code",
   "execution_count": 175,
   "metadata": {
    "jupyter": {
     "source_hidden": true
    }
   },
   "outputs": [],
   "source": [
    "df_intervals.drop('valid_max_frames_per_token', axis=1, errors='ignore', inplace=True)"
   ]
  },
  {
   "cell_type": "code",
   "execution_count": 176,
   "metadata": {
    "jupyter": {
     "source_hidden": true
    }
   },
   "outputs": [],
   "source": [
    "COLS_VALID = [\n",
    "    'valid_duration',\n",
    "    'valid_single_token_per_frame',\n",
    "    'valid_hd5',\n",
    "    'valid_max_token_duration',\n",
    "    'valid_frames_count'\n",
    "]"
   ]
  },
  {
   "cell_type": "code",
   "execution_count": 177,
   "metadata": {
    "jupyter": {
     "source_hidden": true
    }
   },
   "outputs": [
    {
     "data": {
      "text/html": [
       "<div>\n",
       "<style scoped>\n",
       "    .dataframe tbody tr th:only-of-type {\n",
       "        vertical-align: middle;\n",
       "    }\n",
       "\n",
       "    .dataframe tbody tr th {\n",
       "        vertical-align: top;\n",
       "    }\n",
       "\n",
       "    .dataframe thead th {\n",
       "        text-align: right;\n",
       "    }\n",
       "</style>\n",
       "<table border=\"1\" class=\"dataframe\">\n",
       "  <thead>\n",
       "    <tr style=\"text-align: right;\">\n",
       "      <th></th>\n",
       "      <th>records</th>\n",
       "      <th>%records</th>\n",
       "    </tr>\n",
       "  </thead>\n",
       "  <tbody>\n",
       "    <tr>\n",
       "      <th>valid_duration</th>\n",
       "      <td>3499</td>\n",
       "      <td>75.59</td>\n",
       "    </tr>\n",
       "    <tr>\n",
       "      <th>valid_single_token_per_frame</th>\n",
       "      <td>4062</td>\n",
       "      <td>87.75</td>\n",
       "    </tr>\n",
       "    <tr>\n",
       "      <th>valid_hd5</th>\n",
       "      <td>4254</td>\n",
       "      <td>91.90</td>\n",
       "    </tr>\n",
       "    <tr>\n",
       "      <th>valid_max_token_duration</th>\n",
       "      <td>3077</td>\n",
       "      <td>66.47</td>\n",
       "    </tr>\n",
       "    <tr>\n",
       "      <th>valid_frames_count</th>\n",
       "      <td>4076</td>\n",
       "      <td>88.05</td>\n",
       "    </tr>\n",
       "  </tbody>\n",
       "</table>\n",
       "</div>"
      ],
      "text/plain": [
       "                              records  %records\n",
       "valid_duration                   3499     75.59\n",
       "valid_single_token_per_frame     4062     87.75\n",
       "valid_hd5                        4254     91.90\n",
       "valid_max_token_duration         3077     66.47\n",
       "valid_frames_count               4076     88.05"
      ]
     },
     "execution_count": 177,
     "metadata": {},
     "output_type": "execute_result"
    }
   ],
   "source": [
    "total_intervals = len(df_intervals)\n",
    "df_validity_summary = df_intervals[COLS_VALID].sum().to_frame().rename(columns={0: 'records'})\n",
    "df_validity_summary['%records'] = df_validity_summary['records'] / total_intervals * 100\n",
    "df_validity_summary"
   ]
  },
  {
   "cell_type": "code",
   "execution_count": 184,
   "metadata": {
    "jupyter": {
     "source_hidden": true
    }
   },
   "outputs": [
    {
     "data": {
      "text/html": [
       "<style  type=\"text/css\" >\n",
       "    #T_bf1e41f4_9fc5_11eb_b8df_acde48001122 caption {\n",
       "          color: navy;\n",
       "          font-size: 16px;\n",
       "    }</style><table id=\"T_bf1e41f4_9fc5_11eb_b8df_acde48001122\" ><caption>Valid Intervals</caption><thead>    <tr>        <th class=\"blank level0\" ></th>        <th class=\"col_heading level0 col0\" >valid</th>    </tr></thead><tbody>\n",
       "                <tr>\n",
       "                        <th id=\"T_bf1e41f4_9fc5_11eb_b8df_acde48001122level0_row0\" class=\"row_heading level0 row0\" >False</th>\n",
       "                        <td id=\"T_bf1e41f4_9fc5_11eb_b8df_acde48001122row0_col0\" class=\"data row0 col0\" >2511</td>\n",
       "            </tr>\n",
       "            <tr>\n",
       "                        <th id=\"T_bf1e41f4_9fc5_11eb_b8df_acde48001122level0_row1\" class=\"row_heading level0 row1\" >True</th>\n",
       "                        <td id=\"T_bf1e41f4_9fc5_11eb_b8df_acde48001122row1_col0\" class=\"data row1 col0\" >2118</td>\n",
       "            </tr>\n",
       "    </tbody></table>"
      ],
      "text/plain": [
       "<pandas.io.formats.style.Styler at 0x13e96d9e8>"
      ]
     },
     "metadata": {},
     "output_type": "display_data"
    }
   ],
   "source": [
    "df_intervals['valid'] = df_intervals[COLS_VALID].all(axis=1)\n",
    "display_value_counts(df_intervals['valid'], 'Valid Intervals')"
   ]
  },
  {
   "cell_type": "code",
   "execution_count": 186,
   "metadata": {
    "jupyter": {
     "source_hidden": true
    }
   },
   "outputs": [
    {
     "data": {
      "text/html": [
       "<div>\n",
       "<style scoped>\n",
       "    .dataframe tbody tr th:only-of-type {\n",
       "        vertical-align: middle;\n",
       "    }\n",
       "\n",
       "    .dataframe tbody tr th {\n",
       "        vertical-align: top;\n",
       "    }\n",
       "\n",
       "    .dataframe thead th {\n",
       "        text-align: right;\n",
       "    }\n",
       "</style>\n",
       "<table border=\"1\" class=\"dataframe\">\n",
       "  <thead>\n",
       "    <tr style=\"text-align: right;\">\n",
       "      <th></th>\n",
       "      <th>records</th>\n",
       "      <th>%records</th>\n",
       "    </tr>\n",
       "  </thead>\n",
       "  <tbody>\n",
       "    <tr>\n",
       "      <th>valid</th>\n",
       "      <td>2118</td>\n",
       "      <td>45.76</td>\n",
       "    </tr>\n",
       "    <tr>\n",
       "      <th>valid_duration</th>\n",
       "      <td>3499</td>\n",
       "      <td>75.59</td>\n",
       "    </tr>\n",
       "    <tr>\n",
       "      <th>valid_single_token_per_frame</th>\n",
       "      <td>4062</td>\n",
       "      <td>87.75</td>\n",
       "    </tr>\n",
       "    <tr>\n",
       "      <th>valid_hd5</th>\n",
       "      <td>4254</td>\n",
       "      <td>91.90</td>\n",
       "    </tr>\n",
       "    <tr>\n",
       "      <th>valid_max_token_duration</th>\n",
       "      <td>3077</td>\n",
       "      <td>66.47</td>\n",
       "    </tr>\n",
       "    <tr>\n",
       "      <th>valid_frames_count</th>\n",
       "      <td>4076</td>\n",
       "      <td>88.05</td>\n",
       "    </tr>\n",
       "  </tbody>\n",
       "</table>\n",
       "</div>"
      ],
      "text/plain": [
       "                              records  %records\n",
       "valid                            2118     45.76\n",
       "valid_duration                   3499     75.59\n",
       "valid_single_token_per_frame     4062     87.75\n",
       "valid_hd5                        4254     91.90\n",
       "valid_max_token_duration         3077     66.47\n",
       "valid_frames_count               4076     88.05"
      ]
     },
     "execution_count": 186,
     "metadata": {},
     "output_type": "execute_result"
    }
   ],
   "source": [
    "df_validity_summary = df_intervals[['valid'] + COLS_VALID].sum().to_frame().rename(columns={0: 'records'})\n",
    "df_validity_summary['%records'] = df_validity_summary['records'] / total_intervals * 100\n",
    "df_validity_summary"
   ]
  },
  {
   "cell_type": "code",
   "execution_count": 246,
   "metadata": {
    "jupyter": {
     "source_hidden": true
    }
   },
   "outputs": [
    {
     "data": {
      "text/html": [
       "<div>\n",
       "<style scoped>\n",
       "    .dataframe tbody tr th:only-of-type {\n",
       "        vertical-align: middle;\n",
       "    }\n",
       "\n",
       "    .dataframe tbody tr th {\n",
       "        vertical-align: top;\n",
       "    }\n",
       "\n",
       "    .dataframe thead th {\n",
       "        text-align: right;\n",
       "    }\n",
       "</style>\n",
       "<table border=\"1\" class=\"dataframe\">\n",
       "  <thead>\n",
       "    <tr style=\"text-align: right;\">\n",
       "      <th></th>\n",
       "      <th>valid</th>\n",
       "      <th>speaker</th>\n",
       "      <th>interval_id</th>\n",
       "      <th>duration</th>\n",
       "      <th>start_time_string</th>\n",
       "      <th>end_time_string</th>\n",
       "      <th>video_link</th>\n",
       "      <th>valid_duration</th>\n",
       "      <th>valid_single_token_per_frame</th>\n",
       "      <th>valid_hd5</th>\n",
       "      <th>valid_max_token_duration</th>\n",
       "      <th>valid_frames_count</th>\n",
       "    </tr>\n",
       "  </thead>\n",
       "  <tbody>\n",
       "    <tr>\n",
       "      <th>0</th>\n",
       "      <td>False</td>\n",
       "      <td>oliver</td>\n",
       "      <td>214428</td>\n",
       "      <td>12.21</td>\n",
       "      <td>00:00:58.62</td>\n",
       "      <td>00:01:10.83</td>\n",
       "      <td>http://www.youtube.com/watch?v=DRauXXz6t0Y</td>\n",
       "      <td>True</td>\n",
       "      <td>True</td>\n",
       "      <td>True</td>\n",
       "      <td>False</td>\n",
       "      <td>True</td>\n",
       "    </tr>\n",
       "    <tr>\n",
       "      <th>1</th>\n",
       "      <td>True</td>\n",
       "      <td>oliver</td>\n",
       "      <td>214429</td>\n",
       "      <td>6.14</td>\n",
       "      <td>00:01:10.97</td>\n",
       "      <td>00:01:17.11</td>\n",
       "      <td>http://www.youtube.com/watch?v=DRauXXz6t0Y</td>\n",
       "      <td>True</td>\n",
       "      <td>True</td>\n",
       "      <td>True</td>\n",
       "      <td>True</td>\n",
       "      <td>True</td>\n",
       "    </tr>\n",
       "  </tbody>\n",
       "</table>\n",
       "</div>"
      ],
      "text/plain": [
       "   valid speaker interval_id  duration start_time_string end_time_string  \\\n",
       "0  False  oliver      214428     12.21       00:00:58.62     00:01:10.83   \n",
       "1   True  oliver      214429      6.14       00:01:10.97     00:01:17.11   \n",
       "\n",
       "                                   video_link  valid_duration  \\\n",
       "0  http://www.youtube.com/watch?v=DRauXXz6t0Y            True   \n",
       "1  http://www.youtube.com/watch?v=DRauXXz6t0Y            True   \n",
       "\n",
       "   valid_single_token_per_frame  valid_hd5  valid_max_token_duration  \\\n",
       "0                          True       True                     False   \n",
       "1                          True       True                      True   \n",
       "\n",
       "   valid_frames_count  \n",
       "0                True  \n",
       "1                True  "
      ]
     },
     "execution_count": 246,
     "metadata": {},
     "output_type": "execute_result"
    }
   ],
   "source": [
    "df_intervals[['valid'] + COLS_VIEW + COLS_VALID].head(n=2)"
   ]
  },
  {
   "cell_type": "markdown",
   "metadata": {},
   "source": [
    "# Download Data"
   ]
  },
  {
   "cell_type": "code",
   "execution_count": 194,
   "metadata": {
    "jupyter": {
     "source_hidden": true
    }
   },
   "outputs": [],
   "source": [
    "os.makedirs(OUTPUT_DIR)"
   ]
  },
  {
   "cell_type": "code",
   "execution_count": 195,
   "metadata": {
    "jupyter": {
     "source_hidden": true
    }
   },
   "outputs": [
    {
     "data": {
      "text/markdown": [
       "&nbsp;&nbsp;&nbsp;&nbsp;**/20210418_005318** → mkdir /Users/staveshemesh/Projects/shstav2/token_voken/data/20210418_005318/dataframes.."
      ],
      "text/plain": [
       "<IPython.core.display.Markdown object>"
      ]
     },
     "metadata": {},
     "output_type": "display_data"
    }
   ],
   "source": [
    "printmd(f'{TAB}**/{TIMESTR}** → mkdir {OUTPUT_DIR}..')"
   ]
  },
  {
   "cell_type": "markdown",
   "metadata": {},
   "source": [
    "## df_intervals.to_csv"
   ]
  },
  {
   "cell_type": "code",
   "execution_count": 204,
   "metadata": {
    "jupyter": {
     "source_hidden": true
    }
   },
   "outputs": [],
   "source": [
    "df_intervals.drop('Unnamed: 0.1', axis=1, inplace=True)"
   ]
  },
  {
   "cell_type": "code",
   "execution_count": 3,
   "metadata": {
    "jupyter": {
     "source_hidden": true
    }
   },
   "outputs": [],
   "source": [
    "COLS_OUTPUT = [\n",
    "    # core\n",
    "    'speaker', 'video_id', 'interval_id', 'valid',\n",
    "    # features\n",
    "    'duration', 'start_time_string',  'end_time_string',\n",
    "    'video_link', 'video_fn',\n",
    "    'start_time', 'end_time',\n",
    "    'org_start_time', 'org_end_time',\n",
    "    # validity\n",
    "    'max_frames_token',\n",
    "    'valid_duration', 'valid_single_token_per_frame', 'video_downloded', 'valid_hd5',\n",
    "    'valid_max_token_duration', 'valid_frames_count'\n",
    "]"
   ]
  },
  {
   "cell_type": "code",
   "execution_count": 232,
   "metadata": {
    "jupyter": {
     "source_hidden": true
    }
   },
   "outputs": [
    {
     "data": {
      "text/plain": [
       "(20, 20)"
      ]
     },
     "execution_count": 232,
     "metadata": {},
     "output_type": "execute_result"
    }
   ],
   "source": [
    "len(df_intervals.columns), len(COLS_OUTPUT)"
   ]
  },
  {
   "cell_type": "code",
   "execution_count": 235,
   "metadata": {
    "jupyter": {
     "source_hidden": true
    }
   },
   "outputs": [
    {
     "data": {
      "text/html": [
       "<div>\n",
       "<style scoped>\n",
       "    .dataframe tbody tr th:only-of-type {\n",
       "        vertical-align: middle;\n",
       "    }\n",
       "\n",
       "    .dataframe tbody tr th {\n",
       "        vertical-align: top;\n",
       "    }\n",
       "\n",
       "    .dataframe thead th {\n",
       "        text-align: right;\n",
       "    }\n",
       "</style>\n",
       "<table border=\"1\" class=\"dataframe\">\n",
       "  <thead>\n",
       "    <tr style=\"text-align: right;\">\n",
       "      <th></th>\n",
       "      <th>speaker</th>\n",
       "      <th>video_id</th>\n",
       "      <th>interval_id</th>\n",
       "      <th>valid</th>\n",
       "      <th>duration</th>\n",
       "      <th>start_time_string</th>\n",
       "      <th>end_time_string</th>\n",
       "      <th>video_link</th>\n",
       "      <th>video_fn</th>\n",
       "      <th>start_time</th>\n",
       "      <th>end_time</th>\n",
       "      <th>org_start_time</th>\n",
       "      <th>org_end_time</th>\n",
       "      <th>max_frames_token</th>\n",
       "      <th>valid_duration</th>\n",
       "      <th>valid_single_token_per_frame</th>\n",
       "      <th>video_downloded</th>\n",
       "      <th>valid_hd5</th>\n",
       "      <th>valid_max_token_duration</th>\n",
       "      <th>valid_frames_count</th>\n",
       "    </tr>\n",
       "  </thead>\n",
       "  <tbody>\n",
       "    <tr>\n",
       "      <th>0</th>\n",
       "      <td>oliver</td>\n",
       "      <td>DRauXXz6t0Y</td>\n",
       "      <td>214428</td>\n",
       "      <td>False</td>\n",
       "      <td>12.21</td>\n",
       "      <td>00:00:58.62</td>\n",
       "      <td>00:01:10.83</td>\n",
       "      <td>http://www.youtube.com/watch?v=DRauXXz6t0Y</td>\n",
       "      <td>Abortion_Laws_-_Last_Week_Tonight_with_John_Oliver_HBO-DRauXXz6t0Y.webm</td>\n",
       "      <td>0 days 00:00:58.620000</td>\n",
       "      <td>0 days 00:01:10.830000</td>\n",
       "      <td>0 days 00:00:58.620000</td>\n",
       "      <td>0 days 00:01:10.830000</td>\n",
       "      <td>88</td>\n",
       "      <td>True</td>\n",
       "      <td>True</td>\n",
       "      <td>False</td>\n",
       "      <td>True</td>\n",
       "      <td>False</td>\n",
       "      <td>True</td>\n",
       "    </tr>\n",
       "    <tr>\n",
       "      <th>1</th>\n",
       "      <td>oliver</td>\n",
       "      <td>DRauXXz6t0Y</td>\n",
       "      <td>214429</td>\n",
       "      <td>True</td>\n",
       "      <td>6.14</td>\n",
       "      <td>00:01:10.97</td>\n",
       "      <td>00:01:17.11</td>\n",
       "      <td>http://www.youtube.com/watch?v=DRauXXz6t0Y</td>\n",
       "      <td>Abortion_Laws_-_Last_Week_Tonight_with_John_Oliver_HBO-DRauXXz6t0Y.webm</td>\n",
       "      <td>0 days 00:01:10.970000</td>\n",
       "      <td>0 days 00:01:17.110000</td>\n",
       "      <td>0 days 00:01:10.970000</td>\n",
       "      <td>0 days 00:01:17.110000</td>\n",
       "      <td>31</td>\n",
       "      <td>True</td>\n",
       "      <td>True</td>\n",
       "      <td>False</td>\n",
       "      <td>True</td>\n",
       "      <td>True</td>\n",
       "      <td>True</td>\n",
       "    </tr>\n",
       "  </tbody>\n",
       "</table>\n",
       "</div>"
      ],
      "text/plain": [
       "  speaker     video_id interval_id  valid  duration start_time_string  \\\n",
       "0  oliver  DRauXXz6t0Y      214428  False     12.21       00:00:58.62   \n",
       "1  oliver  DRauXXz6t0Y      214429   True      6.14       00:01:10.97   \n",
       "\n",
       "  end_time_string                                  video_link  \\\n",
       "0     00:01:10.83  http://www.youtube.com/watch?v=DRauXXz6t0Y   \n",
       "1     00:01:17.11  http://www.youtube.com/watch?v=DRauXXz6t0Y   \n",
       "\n",
       "                                                                  video_fn  \\\n",
       "0  Abortion_Laws_-_Last_Week_Tonight_with_John_Oliver_HBO-DRauXXz6t0Y.webm   \n",
       "1  Abortion_Laws_-_Last_Week_Tonight_with_John_Oliver_HBO-DRauXXz6t0Y.webm   \n",
       "\n",
       "               start_time                end_time          org_start_time  \\\n",
       "0  0 days 00:00:58.620000  0 days 00:01:10.830000  0 days 00:00:58.620000   \n",
       "1  0 days 00:01:10.970000  0 days 00:01:17.110000  0 days 00:01:10.970000   \n",
       "\n",
       "             org_end_time  max_frames_token  valid_duration  \\\n",
       "0  0 days 00:01:10.830000                88            True   \n",
       "1  0 days 00:01:17.110000                31            True   \n",
       "\n",
       "   valid_single_token_per_frame  video_downloded  valid_hd5  \\\n",
       "0                          True            False       True   \n",
       "1                          True            False       True   \n",
       "\n",
       "   valid_max_token_duration  valid_frames_count  \n",
       "0                     False                True  \n",
       "1                      True                True  "
      ]
     },
     "execution_count": 235,
     "metadata": {},
     "output_type": "execute_result"
    }
   ],
   "source": [
    "df_intervals = df_intervals[COLS_OUTPUT]\n",
    "df_intervals.head(n=2)"
   ]
  },
  {
   "cell_type": "code",
   "execution_count": 241,
   "metadata": {
    "jupyter": {
     "source_hidden": true
    }
   },
   "outputs": [
    {
     "data": {
      "text/markdown": [
       "&nbsp;&nbsp;&nbsp;&nbsp;**/20210418_005318** → df_intervals /Users/staveshemesh/Projects/shstav2/token_voken/data/20210418_005318/dataframes/df_intervals_oliver.csv"
      ],
      "text/plain": [
       "<IPython.core.display.Markdown object>"
      ]
     },
     "metadata": {},
     "output_type": "display_data"
    }
   ],
   "source": [
    "intervals_output_path = os.path.join(OUTPUT_DIR, f'df_intervals_{SPEAKER_NAME}.csv')\n",
    "printmd(f'{TAB}**/{TIMESTR}** → df_intervals {intervals_output_path}')\n",
    "df_intervals.to_csv(intervals_output_path, index=False, header=True)"
   ]
  },
  {
   "cell_type": "code",
   "execution_count": null,
   "metadata": {
    "jupyter": {
     "source_hidden": true
    }
   },
   "outputs": [],
   "source": []
  }
 ],
 "metadata": {
  "kernelspec": {
   "display_name": "Python 3",
   "language": "python",
   "name": "python3"
  },
  "language_info": {
   "codemirror_mode": {
    "name": "ipython",
    "version": 3
   },
   "file_extension": ".py",
   "mimetype": "text/x-python",
   "name": "python",
   "nbconvert_exporter": "python",
   "pygments_lexer": "ipython3",
   "version": "3.8.10"
  },
  "toc": {
   "base_numbering": 1,
   "nav_menu": {},
   "number_sections": true,
   "sideBar": true,
   "skip_h1_title": false,
   "title_cell": "Table of Contents",
   "title_sidebar": "Contents",
   "toc_cell": false,
   "toc_position": {},
   "toc_section_display": true,
   "toc_window_display": false
  },
  "toc-showcode": false
 },
 "nbformat": 4,
 "nbformat_minor": 4
}
