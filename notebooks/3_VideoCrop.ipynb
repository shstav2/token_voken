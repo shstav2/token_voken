{
 "cells": [
  {
   "cell_type": "markdown",
   "metadata": {},
   "source": [
    "# Imports"
   ]
  },
  {
   "cell_type": "code",
   "execution_count": 1,
   "metadata": {
    "ExecuteTime": {
     "end_time": "2021-01-17T10:20:35.569777Z",
     "start_time": "2021-01-17T10:20:34.256242Z"
    }
   },
   "outputs": [],
   "source": [
    "import os\n",
    "import sys\n",
    "import h5py\n",
    "import time\n",
    "from subprocess import call\n",
    "import youtube_dl\n",
    "\n",
    "import numpy as np\n",
    "import pandas as pd\n",
    "\n",
    "import seaborn as sns\n",
    "from pprint import pprint\n",
    "import matplotlib.pyplot as plt\n",
    "from ipywidgets import interact\n",
    "from IPython.display import YouTubeVideo, Markdown, display, Video, Image\n",
    "\n",
    "from tqdm.notebook import tqdm\n",
    "tqdm.pandas()"
   ]
  },
  {
   "cell_type": "code",
   "execution_count": 2,
   "metadata": {
    "ExecuteTime": {
     "end_time": "2021-01-17T10:20:35.575362Z",
     "start_time": "2021-01-17T10:20:35.572207Z"
    }
   },
   "outputs": [],
   "source": [
    "pd.set_option('display.max_colwidth', 200)\n",
    "pd.options.display.float_format = '{:,.2f}'.format"
   ]
  },
  {
   "cell_type": "code",
   "execution_count": 3,
   "metadata": {},
   "outputs": [],
   "source": [
    "sys.path.append('/Users/staveshemesh/Projects/shstav2/token_voken/src')\n",
    "sys.path.append('/Users/staveshemesh/Projects/shstav2/token_voken')\n",
    "from src.common.setup import syspath_append_projects\n",
    "syspath_append_projects()\n",
    "from src.common.path_resolvers import *\n",
    "from src.common.constants import *\n",
    "from src.common.display_utils import *\n",
    "from src.common.commands import *\n",
    "from src.common.status import *"
   ]
  },
  {
   "cell_type": "markdown",
   "metadata": {},
   "source": [
    "# Constants"
   ]
  },
  {
   "cell_type": "code",
   "execution_count": 4,
   "metadata": {},
   "outputs": [],
   "source": [
    "INTERVALS_PATH = '/Users/staveshemesh/Projects/shstav2/token_voken/data/20210418_005318/dataframes/df_intervals_oliver.csv'"
   ]
  },
  {
   "cell_type": "code",
   "execution_count": 5,
   "metadata": {},
   "outputs": [],
   "source": [
    "# TIMESTR = time.strftime(\"%Y%m%d_%H%M%S\")\n",
    "\n",
    "# OUTPUT_ROOT = '/Users/staveshemesh/Projects/shstav2/token_voken/data/'\n",
    "# OUTPUT_DIR = os.path.join(OUTPUT_ROOT, TIMESTR, 'dataframes')"
   ]
  },
  {
   "cell_type": "code",
   "execution_count": 6,
   "metadata": {},
   "outputs": [],
   "source": [
    "COLS_VIEW = [\n",
    "    'speaker', 'interval_id',\n",
    "    'duration', 'start_time_string', 'end_time_string',\n",
    "    'video_link'\n",
    "]"
   ]
  },
  {
   "cell_type": "markdown",
   "metadata": {},
   "source": [
    "# Read Data"
   ]
  },
  {
   "cell_type": "markdown",
   "metadata": {},
   "source": [
    "## df_intervals"
   ]
  },
  {
   "cell_type": "code",
   "execution_count": 7,
   "metadata": {},
   "outputs": [],
   "source": [
    "df_intervals = pd.read_csv(INTERVALS_PATH, dtype={'interval_id': object})"
   ]
  },
  {
   "cell_type": "code",
   "execution_count": 8,
   "metadata": {},
   "outputs": [
    {
     "data": {
      "text/html": [
       "<div>\n",
       "<style scoped>\n",
       "    .dataframe tbody tr th:only-of-type {\n",
       "        vertical-align: middle;\n",
       "    }\n",
       "\n",
       "    .dataframe tbody tr th {\n",
       "        vertical-align: top;\n",
       "    }\n",
       "\n",
       "    .dataframe thead th {\n",
       "        text-align: right;\n",
       "    }\n",
       "</style>\n",
       "<table border=\"1\" class=\"dataframe\">\n",
       "  <thead>\n",
       "    <tr style=\"text-align: right;\">\n",
       "      <th></th>\n",
       "      <th>speaker</th>\n",
       "      <th>video_id</th>\n",
       "      <th>interval_id</th>\n",
       "      <th>valid</th>\n",
       "      <th>duration</th>\n",
       "      <th>start_time_string</th>\n",
       "      <th>end_time_string</th>\n",
       "      <th>video_link</th>\n",
       "      <th>video_fn</th>\n",
       "      <th>start_time</th>\n",
       "      <th>end_time</th>\n",
       "      <th>org_start_time</th>\n",
       "      <th>org_end_time</th>\n",
       "      <th>max_frames_token</th>\n",
       "      <th>valid_duration</th>\n",
       "      <th>valid_single_token_per_frame</th>\n",
       "      <th>video_downloded</th>\n",
       "      <th>valid_hd5</th>\n",
       "      <th>valid_max_token_duration</th>\n",
       "      <th>valid_frames_count</th>\n",
       "    </tr>\n",
       "  </thead>\n",
       "  <tbody>\n",
       "    <tr>\n",
       "      <th>0</th>\n",
       "      <td>oliver</td>\n",
       "      <td>DRauXXz6t0Y</td>\n",
       "      <td>214428</td>\n",
       "      <td>False</td>\n",
       "      <td>12.21</td>\n",
       "      <td>00:00:58.62</td>\n",
       "      <td>00:01:10.83</td>\n",
       "      <td>http://www.youtube.com/watch?v=DRauXXz6t0Y</td>\n",
       "      <td>Abortion_Laws_-_Last_Week_Tonight_with_John_Oliver_HBO-DRauXXz6t0Y.webm</td>\n",
       "      <td>0 days 00:00:58.620000</td>\n",
       "      <td>0 days 00:01:10.830000</td>\n",
       "      <td>0 days 00:00:58.620000</td>\n",
       "      <td>0 days 00:01:10.830000</td>\n",
       "      <td>88</td>\n",
       "      <td>True</td>\n",
       "      <td>True</td>\n",
       "      <td>False</td>\n",
       "      <td>True</td>\n",
       "      <td>False</td>\n",
       "      <td>True</td>\n",
       "    </tr>\n",
       "    <tr>\n",
       "      <th>1</th>\n",
       "      <td>oliver</td>\n",
       "      <td>DRauXXz6t0Y</td>\n",
       "      <td>214429</td>\n",
       "      <td>True</td>\n",
       "      <td>6.14</td>\n",
       "      <td>00:01:10.97</td>\n",
       "      <td>00:01:17.11</td>\n",
       "      <td>http://www.youtube.com/watch?v=DRauXXz6t0Y</td>\n",
       "      <td>Abortion_Laws_-_Last_Week_Tonight_with_John_Oliver_HBO-DRauXXz6t0Y.webm</td>\n",
       "      <td>0 days 00:01:10.970000</td>\n",
       "      <td>0 days 00:01:17.110000</td>\n",
       "      <td>0 days 00:01:10.970000</td>\n",
       "      <td>0 days 00:01:17.110000</td>\n",
       "      <td>31</td>\n",
       "      <td>True</td>\n",
       "      <td>True</td>\n",
       "      <td>False</td>\n",
       "      <td>True</td>\n",
       "      <td>True</td>\n",
       "      <td>True</td>\n",
       "    </tr>\n",
       "  </tbody>\n",
       "</table>\n",
       "</div>"
      ],
      "text/plain": [
       "  speaker     video_id interval_id  valid  duration start_time_string  \\\n",
       "0  oliver  DRauXXz6t0Y      214428  False     12.21       00:00:58.62   \n",
       "1  oliver  DRauXXz6t0Y      214429   True      6.14       00:01:10.97   \n",
       "\n",
       "  end_time_string                                  video_link  \\\n",
       "0     00:01:10.83  http://www.youtube.com/watch?v=DRauXXz6t0Y   \n",
       "1     00:01:17.11  http://www.youtube.com/watch?v=DRauXXz6t0Y   \n",
       "\n",
       "                                                                  video_fn  \\\n",
       "0  Abortion_Laws_-_Last_Week_Tonight_with_John_Oliver_HBO-DRauXXz6t0Y.webm   \n",
       "1  Abortion_Laws_-_Last_Week_Tonight_with_John_Oliver_HBO-DRauXXz6t0Y.webm   \n",
       "\n",
       "               start_time                end_time          org_start_time  \\\n",
       "0  0 days 00:00:58.620000  0 days 00:01:10.830000  0 days 00:00:58.620000   \n",
       "1  0 days 00:01:10.970000  0 days 00:01:17.110000  0 days 00:01:10.970000   \n",
       "\n",
       "             org_end_time  max_frames_token  valid_duration  \\\n",
       "0  0 days 00:01:10.830000                88            True   \n",
       "1  0 days 00:01:17.110000                31            True   \n",
       "\n",
       "   valid_single_token_per_frame  video_downloded  valid_hd5  \\\n",
       "0                          True            False       True   \n",
       "1                          True            False       True   \n",
       "\n",
       "   valid_max_token_duration  valid_frames_count  \n",
       "0                     False                True  \n",
       "1                      True                True  "
      ]
     },
     "execution_count": 8,
     "metadata": {},
     "output_type": "execute_result"
    }
   ],
   "source": [
    "df_intervals.head(n=2)"
   ]
  },
  {
   "cell_type": "code",
   "execution_count": 9,
   "metadata": {},
   "outputs": [
    {
     "data": {
      "text/markdown": [
       "**All intervals, Speaker oliver**:"
      ],
      "text/plain": [
       "<IPython.core.display.Markdown object>"
      ]
     },
     "metadata": {},
     "output_type": "display_data"
    },
    {
     "name": "stdout",
     "output_type": "stream",
     "text": [
      "  ◘ Videos: #124\n",
      "  ◘ Intervals: #4,629\n",
      "  ◘ Total Duration: 18 hours, 15 minutues, 23 seconds (65,723 seconds)\n",
      "  ◘ All are Youtube videos: True\n"
     ]
    }
   ],
   "source": [
    "printmd(f'**All intervals, Speaker {SPEAKER_NAME}**:')\n",
    "display_df_info(df_intervals)"
   ]
  },
  {
   "cell_type": "markdown",
   "metadata": {},
   "source": [
    "## df_intervals_valid"
   ]
  },
  {
   "cell_type": "code",
   "execution_count": 10,
   "metadata": {},
   "outputs": [],
   "source": [
    "df_intervals_valid = df_intervals[df_intervals['valid']].copy()"
   ]
  },
  {
   "cell_type": "code",
   "execution_count": 11,
   "metadata": {},
   "outputs": [
    {
     "data": {
      "text/markdown": [
       "**VALID intervals, Speaker oliver**:"
      ],
      "text/plain": [
       "<IPython.core.display.Markdown object>"
      ]
     },
     "metadata": {},
     "output_type": "display_data"
    },
    {
     "name": "stdout",
     "output_type": "stream",
     "text": [
      "  ◘ Videos: #123\n",
      "  ◘ Intervals: #2,118\n",
      "  ◘ Total Duration: 08 hours, 13 minutues, 25 seconds (29,605 seconds)\n",
      "  ◘ All are Youtube videos: True\n"
     ]
    }
   ],
   "source": [
    "printmd(f'**VALID intervals, Speaker {SPEAKER_NAME}**:')\n",
    "display_df_info(df_intervals_valid)"
   ]
  },
  {
   "cell_type": "markdown",
   "metadata": {},
   "source": [
    "# Download Youtube Videos"
   ]
  },
  {
   "cell_type": "code",
   "execution_count": 12,
   "metadata": {},
   "outputs": [],
   "source": [
    "from src.pipeline._2_video_downloader import youtube_downloader"
   ]
  },
  {
   "cell_type": "markdown",
   "metadata": {},
   "source": [
    "## Downaloder"
   ]
  },
  {
   "cell_type": "code",
   "execution_count": 13,
   "metadata": {},
   "outputs": [
    {
     "name": "stdout",
     "output_type": "stream",
     "text": [
      "2021-05-23 21:58:14,996 | INFO : ✅  youtube-dl -f bestvideo[ext=mp4]+bestaudio[ext=m4a]/bestvideo+bestaudio -o /Users/staveshemesh/Projects/PATS_DATA/Youtube/oliver/8-hahRWhFvg/8-hahRWhFvg https://www.youtube.com/watch?v=8-hahRWhFvg\n"
     ]
    }
   ],
   "source": [
    "video_id = '8-hahRWhFvg' # disambiguation\n",
    "youtube_downloader(video_id)"
   ]
  },
  {
   "cell_type": "code",
   "execution_count": 14,
   "metadata": {},
   "outputs": [
    {
     "name": "stdout",
     "output_type": "stream",
     "text": [
      "2021-05-23 21:58:16,557 | INFO : ✅  youtube-dl -f bestvideo[ext=mp4]+bestaudio[ext=m4a]/bestvideo+bestaudio -o /Users/staveshemesh/Projects/PATS_DATA/Youtube/oliver/P8pjd1QEA0c/P8pjd1QEA0c https://www.youtube.com/watch?v=P8pjd1QEA0c\n"
     ]
    }
   ],
   "source": [
    "video_id = 'P8pjd1QEA0c' # disambiguation\n",
    "youtube_downloader(video_id)"
   ]
  },
  {
   "cell_type": "markdown",
   "metadata": {},
   "source": [
    "## Pending Videos"
   ]
  },
  {
   "cell_type": "code",
   "execution_count": 15,
   "metadata": {},
   "outputs": [],
   "source": [
    "def get_download_status():\n",
    "    # want to downloaded\n",
    "    to_download_video_links = df_intervals_valid['video_link'].unique()\n",
    "    to_download_video_ids = [lnk[-VIDEO_ID_LEN:] for lnk in to_download_video_links]\n",
    "    # already downloaded\n",
    "    already_downloaded_video_ids = !ls {PATS_SPEAKER_VIZ_DIR}\n",
    "    # assert unique ids\n",
    "    assert len(to_download_video_links) == len(set(to_download_video_links))\n",
    "    assert len(already_downloaded_video_ids) == len(set(already_downloaded_video_ids))\n",
    "    # needs to download\n",
    "    pending_download = set(already_downloaded_video_ids) - set(to_download_video_ids)\n",
    "    print(f'Download Status: {len(already_downloaded_video_ids)} / {len(to_download_video_ids)} downloaded, {len(pending_download)} pending.')\n",
    "    return pending_download, already_downloaded_video_ids"
   ]
  },
  {
   "cell_type": "code",
   "execution_count": 16,
   "metadata": {},
   "outputs": [
    {
     "name": "stdout",
     "output_type": "stream",
     "text": [
      "Download Status: 125 / 123 downloaded, 2 pending.\n"
     ]
    }
   ],
   "source": [
    "pending_download, already_downloaded_video_ids = get_download_status()"
   ]
  },
  {
   "cell_type": "code",
   "execution_count": 17,
   "metadata": {},
   "outputs": [
    {
     "name": "stdout",
     "output_type": "stream",
     "text": [
      "\u001b[1m\u001b[36m-Z668Qc0P4Q\u001b[m\u001b[m \u001b[1m\u001b[36m8-hahRWhFvg\u001b[m\u001b[m \u001b[1m\u001b[36mIfi9M7DRazI\u001b[m\u001b[m \u001b[1m\u001b[36mWA0wKeokWUU\u001b[m\u001b[m \u001b[1m\u001b[36mfpbOEoRrHyU\u001b[m\u001b[m \u001b[1m\u001b[36mpf1t7cs9dkc\u001b[m\u001b[m\n",
      "\u001b[1m\u001b[36m0Rnq1NpHdmw\u001b[m\u001b[m \u001b[1m\u001b[36m8YQ_HGvrHEU\u001b[m\u001b[m \u001b[1m\u001b[36mJ6lyURyVz7k\u001b[m\u001b[m \u001b[1m\u001b[36mWHCQndalv94\u001b[m\u001b[m \u001b[1m\u001b[36mfyVz5vgqBhE\u001b[m\u001b[m \u001b[1m\u001b[36mpoL7l-Uk3I8\u001b[m\u001b[m\n",
      "\u001b[1m\u001b[36m1Y1ya-yF35g\u001b[m\u001b[m \u001b[1m\u001b[36m92vuuZt7wak\u001b[m\u001b[m \u001b[1m\u001b[36mK4NRJoCNHIs\u001b[m\u001b[m \u001b[1m\u001b[36mWe1IvUe6KLo\u001b[m\u001b[m \u001b[1m\u001b[36mgvZSpET11ZY\u001b[m\u001b[m \u001b[1m\u001b[36mqr6ar3xJL_Q\u001b[m\u001b[m\n",
      "\u001b[1m\u001b[36m1ZNZY-gd3K0\u001b[m\u001b[m \u001b[1m\u001b[36m9PK-netuhHA\u001b[m\u001b[m \u001b[1m\u001b[36mKUdHIatS36A\u001b[m\u001b[m \u001b[1m\u001b[36mWpzvaqypav8\u001b[m\u001b[m \u001b[1m\u001b[36mh1Lfd1aB9YI\u001b[m\u001b[m \u001b[1m\u001b[36mr-ERajkMXw0\u001b[m\u001b[m\n",
      "\u001b[1m\u001b[36m2sWRXr2Yu9g\u001b[m\u001b[m \u001b[1m\u001b[36mA-4dIImaodQ\u001b[m\u001b[m \u001b[1m\u001b[36mKye2oX-b39E\u001b[m\u001b[m \u001b[1m\u001b[36mWyGq6cjcc3Q\u001b[m\u001b[m \u001b[1m\u001b[36mhWQiXv0sn9Y\u001b[m\u001b[m \u001b[1m\u001b[36mrHFOwlMCdto\u001b[m\u001b[m\n",
      "\u001b[1m\u001b[36m32n4h0kn-88\u001b[m\u001b[m \u001b[1m\u001b[36mAJKfs4ZnbNE\u001b[m\u001b[m \u001b[1m\u001b[36mLfgSEwjAeno\u001b[m\u001b[m \u001b[1m\u001b[36mXEVlyP4_11M\u001b[m\u001b[m \u001b[1m\u001b[36mhkYzuHMcP64\u001b[m\u001b[m \u001b[1m\u001b[36mrrawNvcF64g\u001b[m\u001b[m\n",
      "\u001b[1m\u001b[36m3FCioWz7aps\u001b[m\u001b[m \u001b[1m\u001b[36mAJm8PeWkiEU\u001b[m\u001b[m \u001b[1m\u001b[36mMepXBJjsNxs\u001b[m\u001b[m \u001b[1m\u001b[36mYEGpriv2TAc\u001b[m\u001b[m \u001b[1m\u001b[36mhkZir1L7fSY\u001b[m\u001b[m \u001b[1m\u001b[36muiN_-AEhTpk\u001b[m\u001b[m\n",
      "\u001b[1m\u001b[36m3bxcc3SM_KA\u001b[m\u001b[m \u001b[1m\u001b[36mBUCnjlTfXDw\u001b[m\u001b[m \u001b[1m\u001b[36mNnW5EjwtE2U\u001b[m\u001b[m \u001b[1m\u001b[36mYQZ2UeOTO3I\u001b[m\u001b[m \u001b[1m\u001b[36mhkjkQ-wCZ5A\u001b[m\u001b[m \u001b[1m\u001b[36mumqvYhb3wf4\u001b[m\u001b[m\n",
      "\u001b[1m\u001b[36m3kEpZWGgJks\u001b[m\u001b[m \u001b[1m\u001b[36mBcR_Wg42dv8\u001b[m\u001b[m \u001b[1m\u001b[36mNn_Zln_4pA8\u001b[m\u001b[m \u001b[1m\u001b[36mYlomy1Aw9Hk\u001b[m\u001b[m \u001b[1m\u001b[36mhmoAX9f6MOc\u001b[m\u001b[m \u001b[1m\u001b[36mvU8dCYocuyI\u001b[m\u001b[m\n",
      "\u001b[1m\u001b[36m3lKYPp2Kp6s\u001b[m\u001b[m \u001b[1m\u001b[36mBgyqAD5Z6_A\u001b[m\u001b[m \u001b[1m\u001b[36mOubM8bD9kck\u001b[m\u001b[m \u001b[1m\u001b[36mZwY2E0hjGuU\u001b[m\u001b[m \u001b[1m\u001b[36mhxUAntt1z2c\u001b[m\u001b[m \u001b[1m\u001b[36mvideo_id\u001b[m\u001b[m\n",
      "\u001b[1m\u001b[36m44fCfJQV7yQ\u001b[m\u001b[m \u001b[1m\u001b[36mCesHr99ezWE\u001b[m\u001b[m \u001b[1m\u001b[36mP8pjd1QEA0c\u001b[m\u001b[m \u001b[1m\u001b[36m_Pz3syET3DY\u001b[m\u001b[m \u001b[1m\u001b[36mi8xwLWb0lLY\u001b[m\u001b[m \u001b[1m\u001b[36mwD8AwgO0AQI\u001b[m\u001b[m\n",
      "\u001b[1m\u001b[36m4U2eDJnwz_s\u001b[m\u001b[m \u001b[1m\u001b[36mDRauXXz6t0Y\u001b[m\u001b[m \u001b[1m\u001b[36mPDylgzybWAw\u001b[m\u001b[m \u001b[1m\u001b[36m_S2G8jhhUHg\u001b[m\u001b[m \u001b[1m\u001b[36miAgKHSNqxa8\u001b[m\u001b[m \u001b[1m\u001b[36mxAnw2atT628\u001b[m\u001b[m\n",
      "\u001b[1m\u001b[36m4Z4j2CrJRn4\u001b[m\u001b[m \u001b[1m\u001b[36mDlJEt2KU33I\u001b[m\u001b[m \u001b[1m\u001b[36mPsB1e-1BB4Y\u001b[m\u001b[m \u001b[1m\u001b[36maIMgfBZrrZ8\u001b[m\u001b[m \u001b[1m\u001b[36ml9qA8c-E_oA\u001b[m\u001b[m \u001b[1m\u001b[36mxM8qVuc32Rc\u001b[m\u001b[m\n",
      "\u001b[1m\u001b[36m5cBV8KFFasY\u001b[m\u001b[m \u001b[1m\u001b[36mDnpO_RTSNmQ\u001b[m\u001b[m \u001b[1m\u001b[36mPuNIwYsz7PI\u001b[m\u001b[m \u001b[1m\u001b[36maRrDsbUdY_k\u001b[m\u001b[m \u001b[1m\u001b[36ml_htSPGAY7I\u001b[m\u001b[m \u001b[1m\u001b[36mxcwJt4bcnXs\u001b[m\u001b[m\n",
      "\u001b[1m\u001b[36m5d667Bb_iYA\u001b[m\u001b[m \u001b[1m\u001b[36mE_F5GxCwizc\u001b[m\u001b[m \u001b[1m\u001b[36mQplQL5eAxlY\u001b[m\u001b[m \u001b[1m\u001b[36maw6RsUhw1Q8\u001b[m\u001b[m \u001b[1m\u001b[36mmOVPStnVgvU\u001b[m\u001b[m \u001b[1m\u001b[36mxecEV4dSAXE\u001b[m\u001b[m\n",
      "\u001b[1m\u001b[36m5scez5dqtAc\u001b[m\u001b[m \u001b[1m\u001b[36mFVFdsl29s_Q\u001b[m\u001b[m \u001b[1m\u001b[36mRKjk0ECXjiQ\u001b[m\u001b[m \u001b[1m\u001b[36mb436uUuf_VI\u001b[m\u001b[m \u001b[1m\u001b[36mnG2pEffLEJo\u001b[m\u001b[m \u001b[1m\u001b[36mySTQk6updjQ\u001b[m\u001b[m\n",
      "\u001b[1m\u001b[36m5xnZ_CeTqyM\u001b[m\u001b[m \u001b[1m\u001b[36mGUizvEjR-0U\u001b[m\u001b[m \u001b[1m\u001b[36mTrS0uNBuG9c\u001b[m\u001b[m \u001b[1m\u001b[36mbLY45o6rHm0\u001b[m\u001b[m \u001b[1m\u001b[36mnJ24vcyJxDs\u001b[m\u001b[m \u001b[1m\u001b[36myw_nqzVfxFQ\u001b[m\u001b[m\n",
      "\u001b[1m\u001b[36m6UsHHOCH4q8\u001b[m\u001b[m \u001b[1m\u001b[36mGvtNyOzGogc\u001b[m\u001b[m \u001b[1m\u001b[36mTt-mpuR_QHQ\u001b[m\u001b[m \u001b[1m\u001b[36mboI4D1FlIVs\u001b[m\u001b[m \u001b[1m\u001b[36mnh0ac5HUpDU\u001b[m\u001b[m \u001b[1m\u001b[36mzIhKAQX5izw\u001b[m\u001b[m\n",
      "\u001b[1m\u001b[36m7-LPcVo7gC0\u001b[m\u001b[m \u001b[1m\u001b[36mHKMNKS-9ugY\u001b[m\u001b[m \u001b[1m\u001b[36mUC_gXD5OE88\u001b[m\u001b[m \u001b[1m\u001b[36mbq2_wSsDwkQ\u001b[m\u001b[m \u001b[1m\u001b[36moDPCmmZifE8\u001b[m\u001b[m \u001b[1m\u001b[36mzNdkrtfZP8I\u001b[m\u001b[m\n",
      "\u001b[1m\u001b[36m7VG_s2PCH_c\u001b[m\u001b[m \u001b[1m\u001b[36mHNPRad65-Kg\u001b[m\u001b[m \u001b[1m\u001b[36mUkBvsCMxrNU\u001b[m\u001b[m \u001b[1m\u001b[36mdH573B1bkHI\u001b[m\u001b[m \u001b[1m\u001b[36mpDVmldTurqk\u001b[m\u001b[m \u001b[1m\u001b[36mzsjZ2r9Ygzw\u001b[m\u001b[m\n",
      "\u001b[1m\u001b[36m7y1xJAVZxXg\u001b[m\u001b[m \u001b[1m\u001b[36mIYfgvS0FA7U\u001b[m\u001b[m \u001b[1m\u001b[36mVdLf4fihP78\u001b[m\u001b[m \u001b[1m\u001b[36mfJ9prhPV2PI\u001b[m\u001b[m \u001b[1m\u001b[36mpX8BXH3SJn0\u001b[m\u001b[m\n"
     ]
    }
   ],
   "source": [
    "!ls {PATS_SPEAKER_VIZ_DIR}"
   ]
  },
  {
   "cell_type": "code",
   "execution_count": 46,
   "metadata": {},
   "outputs": [
    {
     "name": "stdout",
     "output_type": "stream",
     "text": [
      "✅  youtube-dl -f bestvideo[ext=mp4]+bestaudio[ext=m4a]/bestvideo+bestaudio -o /Users/staveshemesh/Projects/PATS_DATA/Youtube/oliver/-Z668Qc0P4Q/-Z668Qc0P4Q https://www.youtube.com/watch?v=-Z668Qc0P4Q\n"
     ]
    }
   ],
   "source": [
    "for video_id in pending_download:\n",
    "    youtube_downloader(video_id)"
   ]
  },
  {
   "cell_type": "code",
   "execution_count": 47,
   "metadata": {},
   "outputs": [
    {
     "name": "stdout",
     "output_type": "stream",
     "text": [
      "Download Status: 124 / 123 downloaded, 1 pending.\n"
     ]
    }
   ],
   "source": [
    "pending_download, already_downloaded_video_ids = get_download_status()"
   ]
  },
  {
   "cell_type": "markdown",
   "metadata": {},
   "source": [
    "# Crop Videos"
   ]
  },
  {
   "cell_type": "code",
   "execution_count": 49,
   "metadata": {},
   "outputs": [],
   "source": [
    "df_intervals_valid['video_downloaded'] = df_intervals_valid['video_id'].isin(already_downloaded_video_ids)"
   ]
  },
  {
   "cell_type": "code",
   "execution_count": 55,
   "metadata": {},
   "outputs": [
    {
     "data": {
      "text/html": [
       "<style  type=\"text/css\" >\n",
       "    #T_cedadcde_a04e_11eb_9a68_acde48001122 caption {\n",
       "          color: navy;\n",
       "          font-size: 16px;\n",
       "    }</style><table id=\"T_cedadcde_a04e_11eb_9a68_acde48001122\" ><caption>Downloaded out of Valids</caption><thead>    <tr>        <th class=\"blank level0\" ></th>        <th class=\"col_heading level0 col0\" >video_downloaded</th>    </tr></thead><tbody>\n",
       "                <tr>\n",
       "                        <th id=\"T_cedadcde_a04e_11eb_9a68_acde48001122level0_row0\" class=\"row_heading level0 row0\" >True</th>\n",
       "                        <td id=\"T_cedadcde_a04e_11eb_9a68_acde48001122row0_col0\" class=\"data row0 col0\" >2118</td>\n",
       "            </tr>\n",
       "    </tbody></table>"
      ],
      "text/plain": [
       "<pandas.io.formats.style.Styler at 0x139f400f0>"
      ]
     },
     "metadata": {},
     "output_type": "display_data"
    }
   ],
   "source": [
    "display_value_counts(df_intervals_valid['video_downloaded'], 'Downloaded out of Valids')"
   ]
  },
  {
   "cell_type": "code",
   "execution_count": 56,
   "metadata": {},
   "outputs": [],
   "source": [
    "df_intervals_valid.sort_values(['video_id', 'start_time'], inplace=True)"
   ]
  },
  {
   "cell_type": "code",
   "execution_count": 59,
   "metadata": {},
   "outputs": [
    {
     "data": {
      "text/html": [
       "<div>\n",
       "<style scoped>\n",
       "    .dataframe tbody tr th:only-of-type {\n",
       "        vertical-align: middle;\n",
       "    }\n",
       "\n",
       "    .dataframe tbody tr th {\n",
       "        vertical-align: top;\n",
       "    }\n",
       "\n",
       "    .dataframe thead th {\n",
       "        text-align: right;\n",
       "    }\n",
       "</style>\n",
       "<table border=\"1\" class=\"dataframe\">\n",
       "  <thead>\n",
       "    <tr style=\"text-align: right;\">\n",
       "      <th></th>\n",
       "      <th>speaker</th>\n",
       "      <th>interval_id</th>\n",
       "      <th>duration</th>\n",
       "      <th>start_time_string</th>\n",
       "      <th>end_time_string</th>\n",
       "      <th>video_link</th>\n",
       "    </tr>\n",
       "  </thead>\n",
       "  <tbody>\n",
       "    <tr>\n",
       "      <th>4344</th>\n",
       "      <td>oliver</td>\n",
       "      <td>101087</td>\n",
       "      <td>16.53</td>\n",
       "      <td>00:15:06.43</td>\n",
       "      <td>00:15:22.96</td>\n",
       "      <td>http://www.youtube.com/watch?v=7VG_s2PCH_c</td>\n",
       "    </tr>\n",
       "    <tr>\n",
       "      <th>4347</th>\n",
       "      <td>oliver</td>\n",
       "      <td>101092</td>\n",
       "      <td>11.07</td>\n",
       "      <td>00:15:29.10</td>\n",
       "      <td>00:15:40.16</td>\n",
       "      <td>http://www.youtube.com/watch?v=7VG_s2PCH_c</td>\n",
       "    </tr>\n",
       "    <tr>\n",
       "      <th>4348</th>\n",
       "      <td>oliver</td>\n",
       "      <td>101093</td>\n",
       "      <td>5.67</td>\n",
       "      <td>00:15:40.30</td>\n",
       "      <td>00:15:45.96</td>\n",
       "      <td>http://www.youtube.com/watch?v=7VG_s2PCH_c</td>\n",
       "    </tr>\n",
       "    <tr>\n",
       "      <th>4349</th>\n",
       "      <td>oliver</td>\n",
       "      <td>101097</td>\n",
       "      <td>6.47</td>\n",
       "      <td>00:15:47.36</td>\n",
       "      <td>00:15:53.83</td>\n",
       "      <td>http://www.youtube.com/watch?v=7VG_s2PCH_c</td>\n",
       "    </tr>\n",
       "    <tr>\n",
       "      <th>3628</th>\n",
       "      <td>oliver</td>\n",
       "      <td>101103</td>\n",
       "      <td>14.00</td>\n",
       "      <td>00:19:48.50</td>\n",
       "      <td>00:20:02.50</td>\n",
       "      <td>http://www.youtube.com/watch?v=FVFdsl29s_Q</td>\n",
       "    </tr>\n",
       "  </tbody>\n",
       "</table>\n",
       "</div>"
      ],
      "text/plain": [
       "     speaker  interval_id  duration start_time_string end_time_string  \\\n",
       "4344  oliver       101087     16.53       00:15:06.43     00:15:22.96   \n",
       "4347  oliver       101092     11.07       00:15:29.10     00:15:40.16   \n",
       "4348  oliver       101093      5.67       00:15:40.30     00:15:45.96   \n",
       "4349  oliver       101097      6.47       00:15:47.36     00:15:53.83   \n",
       "3628  oliver       101103     14.00       00:19:48.50     00:20:02.50   \n",
       "\n",
       "                                      video_link  \n",
       "4344  http://www.youtube.com/watch?v=7VG_s2PCH_c  \n",
       "4347  http://www.youtube.com/watch?v=7VG_s2PCH_c  \n",
       "4348  http://www.youtube.com/watch?v=7VG_s2PCH_c  \n",
       "4349  http://www.youtube.com/watch?v=7VG_s2PCH_c  \n",
       "3628  http://www.youtube.com/watch?v=FVFdsl29s_Q  "
      ]
     },
     "execution_count": 59,
     "metadata": {},
     "output_type": "execute_result"
    }
   ],
   "source": [
    "df_intervals_valid[COLS_VIEW][40:45]"
   ]
  },
  {
   "cell_type": "markdown",
   "metadata": {},
   "source": [
    "## Cropper"
   ]
  },
  {
   "cell_type": "code",
   "execution_count": 18,
   "metadata": {},
   "outputs": [],
   "source": [
    "from src.pipeline._3_video_crop import crop_tool"
   ]
  },
  {
   "cell_type": "code",
   "execution_count": 15,
   "metadata": {},
   "outputs": [
    {
     "data": {
      "text/html": [
       "<div>\n",
       "<style scoped>\n",
       "    .dataframe tbody tr th:only-of-type {\n",
       "        vertical-align: middle;\n",
       "    }\n",
       "\n",
       "    .dataframe tbody tr th {\n",
       "        vertical-align: top;\n",
       "    }\n",
       "\n",
       "    .dataframe thead th {\n",
       "        text-align: right;\n",
       "    }\n",
       "</style>\n",
       "<table border=\"1\" class=\"dataframe\">\n",
       "  <thead>\n",
       "    <tr style=\"text-align: right;\">\n",
       "      <th></th>\n",
       "      <th>speaker</th>\n",
       "      <th>video_id</th>\n",
       "      <th>interval_id</th>\n",
       "      <th>valid</th>\n",
       "      <th>duration</th>\n",
       "      <th>start_time_string</th>\n",
       "      <th>end_time_string</th>\n",
       "      <th>video_link</th>\n",
       "      <th>video_fn</th>\n",
       "      <th>start_time</th>\n",
       "      <th>end_time</th>\n",
       "      <th>org_start_time</th>\n",
       "      <th>org_end_time</th>\n",
       "      <th>max_frames_token</th>\n",
       "      <th>valid_duration</th>\n",
       "      <th>valid_single_token_per_frame</th>\n",
       "      <th>video_downloded</th>\n",
       "      <th>valid_hd5</th>\n",
       "      <th>valid_max_token_duration</th>\n",
       "      <th>valid_frames_count</th>\n",
       "    </tr>\n",
       "  </thead>\n",
       "  <tbody>\n",
       "    <tr>\n",
       "      <th>2195</th>\n",
       "      <td>oliver</td>\n",
       "      <td>8-hahRWhFvg</td>\n",
       "      <td>101302</td>\n",
       "      <td>True</td>\n",
       "      <td>16.28</td>\n",
       "      <td>00:05:38.10</td>\n",
       "      <td>00:05:54.38</td>\n",
       "      <td>https://www.youtube.com/watch?v=8-hahRWhFvg</td>\n",
       "      <td>Mexican_Elections_-_Last_Week_Tonight_with_John_Oliver_HBO-8-hahRWhFvg.mp4</td>\n",
       "      <td>0 days 00:05:38.100000</td>\n",
       "      <td>0 days 00:05:54.380000</td>\n",
       "      <td>0 days 00:05:38.100000</td>\n",
       "      <td>0 days 00:05:54.380000</td>\n",
       "      <td>54</td>\n",
       "      <td>True</td>\n",
       "      <td>True</td>\n",
       "      <td>False</td>\n",
       "      <td>True</td>\n",
       "      <td>True</td>\n",
       "      <td>True</td>\n",
       "    </tr>\n",
       "  </tbody>\n",
       "</table>\n",
       "</div>"
      ],
      "text/plain": [
       "     speaker     video_id interval_id  valid  duration start_time_string  \\\n",
       "2195  oliver  8-hahRWhFvg      101302   True     16.28       00:05:38.10   \n",
       "\n",
       "     end_time_string                                   video_link  \\\n",
       "2195     00:05:54.38  https://www.youtube.com/watch?v=8-hahRWhFvg   \n",
       "\n",
       "                                                                        video_fn  \\\n",
       "2195  Mexican_Elections_-_Last_Week_Tonight_with_John_Oliver_HBO-8-hahRWhFvg.mp4   \n",
       "\n",
       "                  start_time                end_time          org_start_time  \\\n",
       "2195  0 days 00:05:38.100000  0 days 00:05:54.380000  0 days 00:05:38.100000   \n",
       "\n",
       "                org_end_time  max_frames_token  valid_duration  \\\n",
       "2195  0 days 00:05:54.380000                54            True   \n",
       "\n",
       "      valid_single_token_per_frame  video_downloded  valid_hd5  \\\n",
       "2195                          True            False       True   \n",
       "\n",
       "      valid_max_token_duration  valid_frames_count  \n",
       "2195                      True                True  "
      ]
     },
     "execution_count": 15,
     "metadata": {},
     "output_type": "execute_result"
    }
   ],
   "source": [
    "df_intervals[df_intervals['interval_id'] == '101302']"
   ]
  },
  {
   "cell_type": "code",
   "execution_count": 19,
   "metadata": {},
   "outputs": [
    {
     "name": "stdout",
     "output_type": "stream",
     "text": [
      "2021-05-16 23:28:08,230 | INFO : ✅  ffmpeg -i \"/Users/staveshemesh/Projects/PATS_DATA/Youtube/oliver/8-hahRWhFvg/8-hahRWhFvg.mp4\" -ss 00:05:38.10 -to 00:05:54.38 -strict -2 \"/Users/staveshemesh/Projects/PATS_DATA/Youtube/oliver/8-hahRWhFvg/101302/101302.mp4\" -y\n"
     ]
    }
   ],
   "source": [
    "crop_tool(df_intervals[df_intervals['interval_id'] == '101302'].iloc[0])"
   ]
  },
  {
   "cell_type": "code",
   "execution_count": 21,
   "metadata": {},
   "outputs": [
    {
     "name": "stdout",
     "output_type": "stream",
     "text": [
      "2021-05-17 11:35:00,090 | INFO : ✅  ffmpeg -i \"/Users/staveshemesh/Projects/PATS_DATA/Youtube/oliver/P8pjd1QEA0c/P8pjd1QEA0c.mp4\" -ss 00:12:29.51 -to 00:12:40.26 -strict -2 \"/Users/staveshemesh/Projects/PATS_DATA/Youtube/oliver/P8pjd1QEA0c/101678/101678.mp4\" -y\n"
     ]
    }
   ],
   "source": [
    "crop_tool(df_intervals[df_intervals['interval_id'] == '101678'].iloc[0])"
   ]
  },
  {
   "cell_type": "code",
   "execution_count": 14,
   "metadata": {},
   "outputs": [
    {
     "data": {
      "text/plain": [
       "speaker                   oliver\n",
       "video_id             BcR_Wg42dv8\n",
       "interval_id               101252\n",
       "start_time_string    00:07:28.56\n",
       "end_time_string      00:07:38.36\n",
       "Name: 2086, dtype: object"
      ]
     },
     "execution_count": 14,
     "metadata": {},
     "output_type": "execute_result"
    }
   ],
   "source": [
    "interval_row = df_intervals[df_intervals['interval_id'] == '101252'].iloc[0]\n",
    "interval_row[['speaker', 'video_id', 'interval_id', 'start_time_string', 'end_time_string']]"
   ]
  },
  {
   "cell_type": "code",
   "execution_count": 11,
   "metadata": {},
   "outputs": [
    {
     "data": {
      "text/plain": [
       "2086    BcR_Wg42dv8\n",
       "Name: video_id, dtype: object"
      ]
     },
     "execution_count": 11,
     "metadata": {},
     "output_type": "execute_result"
    }
   ],
   "source": [
    "df_intervals[df_intervals['interval_id'] == '101252']['video_id']"
   ]
  },
  {
   "cell_type": "code",
   "execution_count": null,
   "metadata": {},
   "outputs": [],
   "source": []
  },
  {
   "cell_type": "code",
   "execution_count": null,
   "metadata": {},
   "outputs": [],
   "source": [
    "df_intervals_valid[1500:].progress_apply(crop_tool, axis=1);"
   ]
  },
  {
   "cell_type": "code",
   "execution_count": 107,
   "metadata": {},
   "outputs": [],
   "source": [
    "df_intervals_valid['interval_id'] = df_intervals_valid['interval_id'].astype(str)"
   ]
  },
  {
   "cell_type": "code",
   "execution_count": 126,
   "metadata": {},
   "outputs": [],
   "source": [
    "df_intervals_valid['interval_video_path'] = \\\n",
    "    PATS_SPEAKER_VIZ_DIR + '/' + \\\n",
    "    df_intervals_valid['video_id'] + '/' + \\\n",
    "    df_intervals_valid['interval_id'] + '/' + \\\n",
    "    df_intervals_valid['interval_id'] + '.mp4'"
   ]
  },
  {
   "cell_type": "code",
   "execution_count": 172,
   "metadata": {},
   "outputs": [],
   "source": [
    "df_intervals_valid['full_video_path'] = \\\n",
    "    PATS_SPEAKER_VIZ_DIR + '/' + \\\n",
    "    df_intervals_valid['video_id'] + '/' + \\\n",
    "    df_intervals_valid['video_id'] + '.mp4'"
   ]
  },
  {
   "cell_type": "code",
   "execution_count": null,
   "metadata": {},
   "outputs": [],
   "source": []
  },
  {
   "cell_type": "code",
   "execution_count": 174,
   "metadata": {},
   "outputs": [
    {
     "data": {
      "text/plain": [
       "True     1851\n",
       "False     267\n",
       "Name: full_video_path, dtype: int64"
      ]
     },
     "execution_count": 174,
     "metadata": {},
     "output_type": "execute_result"
    }
   ],
   "source": [
    "df_intervals_valid['full_video_path'].apply(os.path.exists).value_counts()"
   ]
  },
  {
   "cell_type": "code",
   "execution_count": 184,
   "metadata": {},
   "outputs": [
    {
     "data": {
      "text/plain": [
       "False    2118\n",
       "Name: full_video_path, dtype: int64"
      ]
     },
     "execution_count": 184,
     "metadata": {},
     "output_type": "execute_result"
    }
   ],
   "source": [
    "df_intervals_valid['full_video_path'].apply(os.path.exists).value_counts()"
   ]
  },
  {
   "cell_type": "code",
   "execution_count": 183,
   "metadata": {},
   "outputs": [],
   "source": [
    "for video_path in df_intervals_valid['full_video_path'].unique():\n",
    "    if os.path.exists(video_path):\n",
    "        print('delete: ', video_path)\n",
    "        os.remove(video_path)"
   ]
  },
  {
   "cell_type": "code",
   "execution_count": 176,
   "metadata": {},
   "outputs": [
    {
     "data": {
      "text/plain": [
       "True     1992\n",
       "False     126\n",
       "Name: interval_video_downloaded, dtype: int64"
      ]
     },
     "execution_count": 176,
     "metadata": {},
     "output_type": "execute_result"
    }
   ],
   "source": [
    "df_intervals_valid['interval_video_downloaded'].value_counts()"
   ]
  },
  {
   "cell_type": "code",
   "execution_count": 144,
   "metadata": {},
   "outputs": [],
   "source": [
    "df_intervals_valid['interval_frames_dir'] = \\\n",
    "    PATS_SPEAKER_VIZ_DIR + '/' + \\\n",
    "    df_intervals_valid['video_id'] + '/' + \\\n",
    "    df_intervals_valid['interval_id'] + \\\n",
    "    '/vokens/face_annot_224'"
   ]
  },
  {
   "cell_type": "code",
   "execution_count": 145,
   "metadata": {},
   "outputs": [
    {
     "data": {
      "application/vnd.jupyter.widget-view+json": {
       "model_id": "36b9995247034d1087e5cc18c3be9158",
       "version_major": 2,
       "version_minor": 0
      },
      "text/plain": [
       "HBox(children=(FloatProgress(value=0.0, max=2118.0), HTML(value='')))"
      ]
     },
     "metadata": {},
     "output_type": "display_data"
    },
    {
     "name": "stdout",
     "output_type": "stream",
     "text": [
      "\n"
     ]
    }
   ],
   "source": [
    "df_intervals_valid['interval_video_downloaded'] = df_intervals_valid['interval_video_path'].progress_apply(os.path.exists)"
   ]
  },
  {
   "cell_type": "code",
   "execution_count": 146,
   "metadata": {},
   "outputs": [
    {
     "data": {
      "text/plain": [
       "3033    /Users/staveshemesh/Projects/PATS_DATA/Youtube/oliver/Tt-mpuR_QHQ/100912/100912.mp4\n",
       "3034    /Users/staveshemesh/Projects/PATS_DATA/Youtube/oliver/Tt-mpuR_QHQ/100913/100913.mp4\n",
       "3036    /Users/staveshemesh/Projects/PATS_DATA/Youtube/oliver/Tt-mpuR_QHQ/100937/100937.mp4\n",
       "3565    /Users/staveshemesh/Projects/PATS_DATA/Youtube/oliver/P8pjd1QEA0c/100945/100945.mp4\n",
       "3567    /Users/staveshemesh/Projects/PATS_DATA/Youtube/oliver/P8pjd1QEA0c/100958/100958.mp4\n",
       "Name: interval_video_path, dtype: object"
      ]
     },
     "execution_count": 146,
     "metadata": {},
     "output_type": "execute_result"
    }
   ],
   "source": [
    "df_intervals_valid['interval_video_path'].head()"
   ]
  },
  {
   "cell_type": "code",
   "execution_count": 159,
   "metadata": {},
   "outputs": [],
   "source": [
    "os.makedirs(OUTPUT_DIR)"
   ]
  },
  {
   "cell_type": "code",
   "execution_count": 160,
   "metadata": {},
   "outputs": [
    {
     "data": {
      "text/plain": [
       "'/Users/staveshemesh/Projects/shstav2/token_voken/data/20210419_220655/dataframes'"
      ]
     },
     "execution_count": 160,
     "metadata": {},
     "output_type": "execute_result"
    }
   ],
   "source": [
    "OUTPUT_DIR"
   ]
  },
  {
   "cell_type": "code",
   "execution_count": 186,
   "metadata": {},
   "outputs": [],
   "source": [
    "output_path = os.path.join(OUTPUT_DIR, 'df_intervals_valid.csv')\n",
    "df_intervals_valid.to_csv(output_path, index=False, header=True)"
   ]
  },
  {
   "cell_type": "code",
   "execution_count": 196,
   "metadata": {},
   "outputs": [
    {
     "data": {
      "text/html": [
       "<div>\n",
       "<style scoped>\n",
       "    .dataframe tbody tr th:only-of-type {\n",
       "        vertical-align: middle;\n",
       "    }\n",
       "\n",
       "    .dataframe tbody tr th {\n",
       "        vertical-align: top;\n",
       "    }\n",
       "\n",
       "    .dataframe thead th {\n",
       "        text-align: right;\n",
       "    }\n",
       "</style>\n",
       "<table border=\"1\" class=\"dataframe\">\n",
       "  <thead>\n",
       "    <tr style=\"text-align: right;\">\n",
       "      <th></th>\n",
       "      <th>speaker</th>\n",
       "      <th>video_id</th>\n",
       "      <th>interval_id</th>\n",
       "      <th>valid</th>\n",
       "      <th>duration</th>\n",
       "      <th>start_time_string</th>\n",
       "      <th>end_time_string</th>\n",
       "      <th>video_link</th>\n",
       "      <th>video_fn</th>\n",
       "      <th>start_time</th>\n",
       "      <th>end_time</th>\n",
       "      <th>org_start_time</th>\n",
       "      <th>org_end_time</th>\n",
       "      <th>max_frames_token</th>\n",
       "      <th>valid_duration</th>\n",
       "      <th>valid_single_token_per_frame</th>\n",
       "      <th>video_downloded</th>\n",
       "      <th>valid_hd5</th>\n",
       "      <th>valid_max_token_duration</th>\n",
       "      <th>valid_frames_count</th>\n",
       "    </tr>\n",
       "  </thead>\n",
       "  <tbody>\n",
       "    <tr>\n",
       "      <th>28</th>\n",
       "      <td>oliver</td>\n",
       "      <td>DRauXXz6t0Y</td>\n",
       "      <td>216104</td>\n",
       "      <td>False</td>\n",
       "      <td>69.34</td>\n",
       "      <td>00:04:32.47</td>\n",
       "      <td>00:05:41.80</td>\n",
       "      <td>http://www.youtube.com/watch?v=DRauXXz6t0Y</td>\n",
       "      <td>Abortion_Laws_-_Last_Week_Tonight_with_John_Oliver_HBO-DRauXXz6t0Y.webm</td>\n",
       "      <td>0 days 00:04:32.470000</td>\n",
       "      <td>0 days 00:05:41.800000</td>\n",
       "      <td>0 days 00:04:32.470000</td>\n",
       "      <td>0 days 00:05:41.800000</td>\n",
       "      <td>78</td>\n",
       "      <td>True</td>\n",
       "      <td>True</td>\n",
       "      <td>False</td>\n",
       "      <td>True</td>\n",
       "      <td>False</td>\n",
       "      <td>True</td>\n",
       "    </tr>\n",
       "  </tbody>\n",
       "</table>\n",
       "</div>"
      ],
      "text/plain": [
       "   speaker     video_id  interval_id  valid  duration start_time_string  \\\n",
       "28  oliver  DRauXXz6t0Y       216104  False     69.34       00:04:32.47   \n",
       "\n",
       "   end_time_string                                  video_link  \\\n",
       "28     00:05:41.80  http://www.youtube.com/watch?v=DRauXXz6t0Y   \n",
       "\n",
       "                                                                   video_fn  \\\n",
       "28  Abortion_Laws_-_Last_Week_Tonight_with_John_Oliver_HBO-DRauXXz6t0Y.webm   \n",
       "\n",
       "                start_time                end_time          org_start_time  \\\n",
       "28  0 days 00:04:32.470000  0 days 00:05:41.800000  0 days 00:04:32.470000   \n",
       "\n",
       "              org_end_time  max_frames_token  valid_duration  \\\n",
       "28  0 days 00:05:41.800000                78            True   \n",
       "\n",
       "    valid_single_token_per_frame  video_downloded  valid_hd5  \\\n",
       "28                          True            False       True   \n",
       "\n",
       "    valid_max_token_duration  valid_frames_count  \n",
       "28                     False                True  "
      ]
     },
     "execution_count": 196,
     "metadata": {},
     "output_type": "execute_result"
    }
   ],
   "source": [
    "df_intervals[df_intervals['interval_id'] == 216104]"
   ]
  },
  {
   "cell_type": "code",
   "execution_count": 202,
   "metadata": {},
   "outputs": [
    {
     "name": "stdout",
     "output_type": "stream",
     "text": [
      "Invalid Intervals: 2,511\n"
     ]
    }
   ],
   "source": [
    "invalid_interval_ids = df_intervals[~df_intervals['valid']]['interval_id'].tolist()\n",
    "print(f'Invalid Intervals: {len(invalid_interval_ids):,}')"
   ]
  },
  {
   "cell_type": "code",
   "execution_count": 207,
   "metadata": {},
   "outputs": [
    {
     "data": {
      "text/plain": [
       "'/Users/staveshemesh/Projects/PATS_DATA/Processed/oliver/data/processed/oliver/'"
      ]
     },
     "execution_count": 207,
     "metadata": {},
     "output_type": "execute_result"
    }
   ],
   "source": [
    "PATS_INTERVALS_DIR"
   ]
  },
  {
   "cell_type": "code",
   "execution_count": 209,
   "metadata": {},
   "outputs": [],
   "source": [
    "for invalid_interval_id in invalid_interval_ids:\n",
    "    invalid_interval_path = os.path.join(PATS_INTERVALS_DIR, str(invalid_interval_id) + '.h5')\n",
    "    os.remove(invalid_interval_path)"
   ]
  },
  {
   "cell_type": "code",
   "execution_count": null,
   "metadata": {},
   "outputs": [],
   "source": []
  }
 ],
 "metadata": {
  "kernelspec": {
   "display_name": "Python 3",
   "language": "python",
   "name": "python3"
  },
  "language_info": {
   "codemirror_mode": {
    "name": "ipython",
    "version": 3
   },
   "file_extension": ".py",
   "mimetype": "text/x-python",
   "name": "python",
   "nbconvert_exporter": "python",
   "pygments_lexer": "ipython3",
   "version": "3.9.5"
  },
  "toc": {
   "base_numbering": 1,
   "nav_menu": {},
   "number_sections": true,
   "sideBar": true,
   "skip_h1_title": false,
   "title_cell": "Table of Contents",
   "title_sidebar": "Contents",
   "toc_cell": false,
   "toc_position": {},
   "toc_section_display": true,
   "toc_window_display": false
  },
  "toc-showcode": false
 },
 "nbformat": 4,
 "nbformat_minor": 4
}
