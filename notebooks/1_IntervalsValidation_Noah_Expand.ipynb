{
 "cells": [
  {
   "cell_type": "markdown",
   "metadata": {},
   "source": [
    "# Imports"
   ]
  },
  {
   "cell_type": "code",
   "execution_count": 1,
   "metadata": {},
   "outputs": [
    {
     "data": {
      "text/plain": [
       "'/home/stav/.local/share/virtualenvs/vokenization-XaO4r3tO/bin/python'"
      ]
     },
     "execution_count": 1,
     "metadata": {},
     "output_type": "execute_result"
    }
   ],
   "source": [
    "import sys\n",
    "sys.executable"
   ]
  },
  {
   "cell_type": "code",
   "execution_count": 2,
   "metadata": {},
   "outputs": [],
   "source": [
    "import os\n",
    "import sys"
   ]
  },
  {
   "cell_type": "code",
   "execution_count": 3,
   "metadata": {
    "ExecuteTime": {
     "end_time": "2021-01-17T10:20:35.569777Z",
     "start_time": "2021-01-17T10:20:34.256242Z"
    },
    "jupyter": {
     "source_hidden": true
    }
   },
   "outputs": [],
   "source": [
    "import os\n",
    "import sys\n",
    "import h5py\n",
    "import time\n",
    "# import youtube_dl\n",
    "\n",
    "import numpy as np\n",
    "import pandas as pd\n",
    "\n",
    "import seaborn as sns\n",
    "from pprint import pprint\n",
    "import matplotlib.pyplot as plt\n",
    "# from ipywidgets import interact\n",
    "from IPython.display import YouTubeVideo, Markdown, display, Video, Image\n",
    "\n",
    "from tqdm.notebook import tqdm\n",
    "tqdm.pandas()"
   ]
  },
  {
   "cell_type": "code",
   "execution_count": 4,
   "metadata": {},
   "outputs": [],
   "source": [
    "sys.path.append('/Users/staveshemesh/Projects/shstav2/token_voken/src')\n",
    "sys.path.append('/Users/staveshemesh/Projects/shstav2/token_voken')\n",
    "sys.path.append('/home/stav/Projects/token_voken')"
   ]
  },
  {
   "cell_type": "code",
   "execution_count": 5,
   "metadata": {},
   "outputs": [],
   "source": [
    "from src.common.path_resolvers import resolve_interval_raw_text_path\n",
    "from src.common.display_utils import display_value_counts, printmd\n",
    "from src.common.constants import FRAME_RATE"
   ]
  },
  {
   "cell_type": "code",
   "execution_count": 6,
   "metadata": {
    "ExecuteTime": {
     "end_time": "2021-01-17T10:20:35.575362Z",
     "start_time": "2021-01-17T10:20:35.572207Z"
    },
    "jupyter": {
     "source_hidden": true
    }
   },
   "outputs": [],
   "source": [
    "pd.set_option('display.max_colwidth', 200)\n",
    "pd.options.display.float_format = '{:,.2f}'.format"
   ]
  },
  {
   "cell_type": "markdown",
   "metadata": {},
   "source": [
    "# Constants"
   ]
  },
  {
   "cell_type": "code",
   "execution_count": 7,
   "metadata": {},
   "outputs": [],
   "source": [
    "SPEAKER_NAME   = 'noah'\n",
    "INTERVALS_ORG_PATH = '/home/stav/Data/PATS_DATA/DataFrames/original/cmu_intervals_df.csv'\n",
    "INTERVALS_PATH     = '/home/stav/Data/PATS_DATA/DataFrames/df_intervals_all.csv'\n",
    "VIDEOS_PATH        = '/home/stav/Data/PATS_DATA/DataFrames/df_videos_all.csv'"
   ]
  },
  {
   "cell_type": "code",
   "execution_count": 8,
   "metadata": {},
   "outputs": [],
   "source": [
    "PATS_SPEAKER_PATS_INTERVAL_DIR = '/home/stav/Data/PATS_DATA/Videos/noah'"
   ]
  },
  {
   "cell_type": "markdown",
   "metadata": {},
   "source": [
    "# DataFrames"
   ]
  },
  {
   "cell_type": "markdown",
   "metadata": {},
   "source": [
    "### df_intervals_org"
   ]
  },
  {
   "cell_type": "code",
   "execution_count": 9,
   "metadata": {},
   "outputs": [],
   "source": [
    "df_intervals_org = pd.read_csv(INTERVALS_ORG_PATH)"
   ]
  },
  {
   "cell_type": "code",
   "execution_count": 10,
   "metadata": {},
   "outputs": [
    {
     "data": {
      "text/plain": [
       "(84289, 8)"
      ]
     },
     "execution_count": 10,
     "metadata": {},
     "output_type": "execute_result"
    }
   ],
   "source": [
    "df_intervals_org.shape"
   ]
  },
  {
   "cell_type": "code",
   "execution_count": 11,
   "metadata": {},
   "outputs": [
    {
     "data": {
      "text/html": [
       "<div>\n",
       "<style scoped>\n",
       "    .dataframe tbody tr th:only-of-type {\n",
       "        vertical-align: middle;\n",
       "    }\n",
       "\n",
       "    .dataframe tbody tr th {\n",
       "        vertical-align: top;\n",
       "    }\n",
       "\n",
       "    .dataframe thead th {\n",
       "        text-align: right;\n",
       "    }\n",
       "</style>\n",
       "<table border=\"1\" class=\"dataframe\">\n",
       "  <thead>\n",
       "    <tr style=\"text-align: right;\">\n",
       "      <th></th>\n",
       "      <th>dataset</th>\n",
       "      <th>delta_time</th>\n",
       "      <th>end_time</th>\n",
       "      <th>interval_id</th>\n",
       "      <th>speaker</th>\n",
       "      <th>start_time</th>\n",
       "      <th>video_fn</th>\n",
       "      <th>video_link</th>\n",
       "    </tr>\n",
       "  </thead>\n",
       "  <tbody>\n",
       "    <tr>\n",
       "      <th>0</th>\n",
       "      <td>train</td>\n",
       "      <td>25.83</td>\n",
       "      <td>2019-06-07 00:13:07.420754</td>\n",
       "      <td>120149</td>\n",
       "      <td>almaram</td>\n",
       "      <td>2019-06-07 00:12:41.594928</td>\n",
       "      <td>Lessons_in_Fiqh_02-_How_to_do_wudu-iUGLu4BYH7s.mkv</td>\n",
       "      <td>http://www.youtube.com/watch?v=iUGLu4BYH7s</td>\n",
       "    </tr>\n",
       "    <tr>\n",
       "      <th>1</th>\n",
       "      <td>train</td>\n",
       "      <td>47.78</td>\n",
       "      <td>2019-06-07 00:20:24.357691</td>\n",
       "      <td>120150</td>\n",
       "      <td>almaram</td>\n",
       "      <td>2019-06-07 00:19:36.576577</td>\n",
       "      <td>Lessons_in_Fiqh_02-_How_to_do_wudu-iUGLu4BYH7s.mkv</td>\n",
       "      <td>http://www.youtube.com/watch?v=iUGLu4BYH7s</td>\n",
       "    </tr>\n",
       "    <tr>\n",
       "      <th>2</th>\n",
       "      <td>train</td>\n",
       "      <td>1.67</td>\n",
       "      <td>2019-06-07 00:08:39.252586</td>\n",
       "      <td>120312</td>\n",
       "      <td>almaram</td>\n",
       "      <td>2019-06-07 00:08:37.584251</td>\n",
       "      <td>Lessons_in_Fiqh_02-_How_to_do_wudu-iUGLu4BYH7s.mkv</td>\n",
       "      <td>http://www.youtube.com/watch?v=iUGLu4BYH7s</td>\n",
       "    </tr>\n",
       "    <tr>\n",
       "      <th>3</th>\n",
       "      <td>train</td>\n",
       "      <td>22.09</td>\n",
       "      <td>2019-06-07 00:09:02.409076</td>\n",
       "      <td>120315</td>\n",
       "      <td>almaram</td>\n",
       "      <td>2019-06-07 00:08:40.320320</td>\n",
       "      <td>Lessons_in_Fiqh_02-_How_to_do_wudu-iUGLu4BYH7s.mkv</td>\n",
       "      <td>http://www.youtube.com/watch?v=iUGLu4BYH7s</td>\n",
       "    </tr>\n",
       "    <tr>\n",
       "      <th>4</th>\n",
       "      <td>train</td>\n",
       "      <td>59.66</td>\n",
       "      <td>2019-06-07 00:24:26.266266</td>\n",
       "      <td>120472</td>\n",
       "      <td>almaram</td>\n",
       "      <td>2019-06-07 00:23:26.606607</td>\n",
       "      <td>Lessons_in_Fiqh_02-_How_to_do_wudu-iUGLu4BYH7s.mkv</td>\n",
       "      <td>http://www.youtube.com/watch?v=iUGLu4BYH7s</td>\n",
       "    </tr>\n",
       "  </tbody>\n",
       "</table>\n",
       "</div>"
      ],
      "text/plain": [
       "  dataset  delta_time                    end_time interval_id  speaker  \\\n",
       "0   train       25.83  2019-06-07 00:13:07.420754      120149  almaram   \n",
       "1   train       47.78  2019-06-07 00:20:24.357691      120150  almaram   \n",
       "2   train        1.67  2019-06-07 00:08:39.252586      120312  almaram   \n",
       "3   train       22.09  2019-06-07 00:09:02.409076      120315  almaram   \n",
       "4   train       59.66  2019-06-07 00:24:26.266266      120472  almaram   \n",
       "\n",
       "                   start_time  \\\n",
       "0  2019-06-07 00:12:41.594928   \n",
       "1  2019-06-07 00:19:36.576577   \n",
       "2  2019-06-07 00:08:37.584251   \n",
       "3  2019-06-07 00:08:40.320320   \n",
       "4  2019-06-07 00:23:26.606607   \n",
       "\n",
       "                                             video_fn  \\\n",
       "0  Lessons_in_Fiqh_02-_How_to_do_wudu-iUGLu4BYH7s.mkv   \n",
       "1  Lessons_in_Fiqh_02-_How_to_do_wudu-iUGLu4BYH7s.mkv   \n",
       "2  Lessons_in_Fiqh_02-_How_to_do_wudu-iUGLu4BYH7s.mkv   \n",
       "3  Lessons_in_Fiqh_02-_How_to_do_wudu-iUGLu4BYH7s.mkv   \n",
       "4  Lessons_in_Fiqh_02-_How_to_do_wudu-iUGLu4BYH7s.mkv   \n",
       "\n",
       "                                   video_link  \n",
       "0  http://www.youtube.com/watch?v=iUGLu4BYH7s  \n",
       "1  http://www.youtube.com/watch?v=iUGLu4BYH7s  \n",
       "2  http://www.youtube.com/watch?v=iUGLu4BYH7s  \n",
       "3  http://www.youtube.com/watch?v=iUGLu4BYH7s  \n",
       "4  http://www.youtube.com/watch?v=iUGLu4BYH7s  "
      ]
     },
     "execution_count": 11,
     "metadata": {},
     "output_type": "execute_result"
    }
   ],
   "source": [
    "df_intervals_org.head()"
   ]
  },
  {
   "cell_type": "code",
   "execution_count": 12,
   "metadata": {},
   "outputs": [
    {
     "data": {
      "text/html": [
       "<div>\n",
       "<style scoped>\n",
       "    .dataframe tbody tr th:only-of-type {\n",
       "        vertical-align: middle;\n",
       "    }\n",
       "\n",
       "    .dataframe tbody tr th {\n",
       "        vertical-align: top;\n",
       "    }\n",
       "\n",
       "    .dataframe thead th {\n",
       "        text-align: right;\n",
       "    }\n",
       "</style>\n",
       "<table border=\"1\" class=\"dataframe\">\n",
       "  <thead>\n",
       "    <tr style=\"text-align: right;\">\n",
       "      <th></th>\n",
       "      <th>dataset</th>\n",
       "      <th>delta_time</th>\n",
       "      <th>end_time</th>\n",
       "      <th>interval_id</th>\n",
       "      <th>speaker</th>\n",
       "      <th>start_time</th>\n",
       "      <th>video_fn</th>\n",
       "      <th>video_link</th>\n",
       "    </tr>\n",
       "  </thead>\n",
       "  <tbody>\n",
       "    <tr>\n",
       "      <th>79990</th>\n",
       "      <td>train</td>\n",
       "      <td>6.47</td>\n",
       "      <td>2019-09-26 00:05:08.733333349</td>\n",
       "      <td>cmu0000033759</td>\n",
       "      <td>noah</td>\n",
       "      <td>2019-09-26 00:05:02.266666650</td>\n",
       "      <td>2heqqCYCR2s</td>\n",
       "      <td>https://www.youtube.com/watch?v=2heqqCYCR2s</td>\n",
       "    </tr>\n",
       "    <tr>\n",
       "      <th>79991</th>\n",
       "      <td>train</td>\n",
       "      <td>50.70</td>\n",
       "      <td>2019-09-26 00:06:01.066666603</td>\n",
       "      <td>cmu0000033760</td>\n",
       "      <td>noah</td>\n",
       "      <td>2019-09-26 00:05:10.366666555</td>\n",
       "      <td>2heqqCYCR2s</td>\n",
       "      <td>https://www.youtube.com/watch?v=2heqqCYCR2s</td>\n",
       "    </tr>\n",
       "    <tr>\n",
       "      <th>79992</th>\n",
       "      <td>train</td>\n",
       "      <td>43.27</td>\n",
       "      <td>2019-09-26 00:07:03.366666555</td>\n",
       "      <td>cmu0000033762</td>\n",
       "      <td>noah</td>\n",
       "      <td>2019-09-26 00:06:20.099999905</td>\n",
       "      <td>2heqqCYCR2s</td>\n",
       "      <td>https://www.youtube.com/watch?v=2heqqCYCR2s</td>\n",
       "    </tr>\n",
       "    <tr>\n",
       "      <th>79993</th>\n",
       "      <td>train</td>\n",
       "      <td>31.10</td>\n",
       "      <td>2019-09-26 00:10:08.599999905</td>\n",
       "      <td>cmu0000033765</td>\n",
       "      <td>noah</td>\n",
       "      <td>2019-09-26 00:09:37.500000</td>\n",
       "      <td>2heqqCYCR2s</td>\n",
       "      <td>https://www.youtube.com/watch?v=2heqqCYCR2s</td>\n",
       "    </tr>\n",
       "    <tr>\n",
       "      <th>79994</th>\n",
       "      <td>train</td>\n",
       "      <td>40.77</td>\n",
       "      <td>2019-09-26 00:12:08.900000095</td>\n",
       "      <td>cmu0000033769</td>\n",
       "      <td>noah</td>\n",
       "      <td>2019-09-26 00:11:28.133333445</td>\n",
       "      <td>2heqqCYCR2s</td>\n",
       "      <td>https://www.youtube.com/watch?v=2heqqCYCR2s</td>\n",
       "    </tr>\n",
       "    <tr>\n",
       "      <th>79995</th>\n",
       "      <td>train</td>\n",
       "      <td>20.57</td>\n",
       "      <td>2019-09-26 00:13:02.900000095</td>\n",
       "      <td>cmu0000033770</td>\n",
       "      <td>noah</td>\n",
       "      <td>2019-09-26 00:12:42.333333254</td>\n",
       "      <td>2heqqCYCR2s</td>\n",
       "      <td>https://www.youtube.com/watch?v=2heqqCYCR2s</td>\n",
       "    </tr>\n",
       "    <tr>\n",
       "      <th>79996</th>\n",
       "      <td>train</td>\n",
       "      <td>44.27</td>\n",
       "      <td>2019-09-26 00:15:45.766666651</td>\n",
       "      <td>cmu0000033772</td>\n",
       "      <td>noah</td>\n",
       "      <td>2019-09-26 00:15:01.500000</td>\n",
       "      <td>2heqqCYCR2s</td>\n",
       "      <td>https://www.youtube.com/watch?v=2heqqCYCR2s</td>\n",
       "    </tr>\n",
       "    <tr>\n",
       "      <th>79997</th>\n",
       "      <td>train</td>\n",
       "      <td>28.63</td>\n",
       "      <td>2019-09-26 00:17:07.966666698</td>\n",
       "      <td>cmu0000033774</td>\n",
       "      <td>noah</td>\n",
       "      <td>2019-09-26 00:16:39.333333254</td>\n",
       "      <td>2heqqCYCR2s</td>\n",
       "      <td>https://www.youtube.com/watch?v=2heqqCYCR2s</td>\n",
       "    </tr>\n",
       "    <tr>\n",
       "      <th>79998</th>\n",
       "      <td>train</td>\n",
       "      <td>54.87</td>\n",
       "      <td>2019-09-26 00:18:44.533333301</td>\n",
       "      <td>cmu0000033777</td>\n",
       "      <td>noah</td>\n",
       "      <td>2019-09-26 00:17:49.666666746</td>\n",
       "      <td>2heqqCYCR2s</td>\n",
       "      <td>https://www.youtube.com/watch?v=2heqqCYCR2s</td>\n",
       "    </tr>\n",
       "  </tbody>\n",
       "</table>\n",
       "</div>"
      ],
      "text/plain": [
       "      dataset  delta_time                       end_time    interval_id  \\\n",
       "79990   train        6.47  2019-09-26 00:05:08.733333349  cmu0000033759   \n",
       "79991   train       50.70  2019-09-26 00:06:01.066666603  cmu0000033760   \n",
       "79992   train       43.27  2019-09-26 00:07:03.366666555  cmu0000033762   \n",
       "79993   train       31.10  2019-09-26 00:10:08.599999905  cmu0000033765   \n",
       "79994   train       40.77  2019-09-26 00:12:08.900000095  cmu0000033769   \n",
       "79995   train       20.57  2019-09-26 00:13:02.900000095  cmu0000033770   \n",
       "79996   train       44.27  2019-09-26 00:15:45.766666651  cmu0000033772   \n",
       "79997   train       28.63  2019-09-26 00:17:07.966666698  cmu0000033774   \n",
       "79998   train       54.87  2019-09-26 00:18:44.533333301  cmu0000033777   \n",
       "\n",
       "      speaker                     start_time     video_fn  \\\n",
       "79990    noah  2019-09-26 00:05:02.266666650  2heqqCYCR2s   \n",
       "79991    noah  2019-09-26 00:05:10.366666555  2heqqCYCR2s   \n",
       "79992    noah  2019-09-26 00:06:20.099999905  2heqqCYCR2s   \n",
       "79993    noah     2019-09-26 00:09:37.500000  2heqqCYCR2s   \n",
       "79994    noah  2019-09-26 00:11:28.133333445  2heqqCYCR2s   \n",
       "79995    noah  2019-09-26 00:12:42.333333254  2heqqCYCR2s   \n",
       "79996    noah     2019-09-26 00:15:01.500000  2heqqCYCR2s   \n",
       "79997    noah  2019-09-26 00:16:39.333333254  2heqqCYCR2s   \n",
       "79998    noah  2019-09-26 00:17:49.666666746  2heqqCYCR2s   \n",
       "\n",
       "                                        video_link  \n",
       "79990  https://www.youtube.com/watch?v=2heqqCYCR2s  \n",
       "79991  https://www.youtube.com/watch?v=2heqqCYCR2s  \n",
       "79992  https://www.youtube.com/watch?v=2heqqCYCR2s  \n",
       "79993  https://www.youtube.com/watch?v=2heqqCYCR2s  \n",
       "79994  https://www.youtube.com/watch?v=2heqqCYCR2s  \n",
       "79995  https://www.youtube.com/watch?v=2heqqCYCR2s  \n",
       "79996  https://www.youtube.com/watch?v=2heqqCYCR2s  \n",
       "79997  https://www.youtube.com/watch?v=2heqqCYCR2s  \n",
       "79998  https://www.youtube.com/watch?v=2heqqCYCR2s  "
      ]
     },
     "execution_count": 12,
     "metadata": {},
     "output_type": "execute_result"
    }
   ],
   "source": [
    "df_intervals_org[df_intervals_org['video_fn'] == '2heqqCYCR2s']"
   ]
  },
  {
   "cell_type": "code",
   "execution_count": 13,
   "metadata": {},
   "outputs": [
    {
     "data": {
      "text/html": [
       "<div>\n",
       "<style scoped>\n",
       "    .dataframe tbody tr th:only-of-type {\n",
       "        vertical-align: middle;\n",
       "    }\n",
       "\n",
       "    .dataframe tbody tr th {\n",
       "        vertical-align: top;\n",
       "    }\n",
       "\n",
       "    .dataframe thead th {\n",
       "        text-align: right;\n",
       "    }\n",
       "</style>\n",
       "<table border=\"1\" class=\"dataframe\">\n",
       "  <thead>\n",
       "    <tr style=\"text-align: right;\">\n",
       "      <th></th>\n",
       "      <th>speaker</th>\n",
       "    </tr>\n",
       "  </thead>\n",
       "  <tbody>\n",
       "    <tr>\n",
       "      <th>angelica</th>\n",
       "      <td>19795</td>\n",
       "    </tr>\n",
       "    <tr>\n",
       "      <th>jon</th>\n",
       "      <td>8257</td>\n",
       "    </tr>\n",
       "    <tr>\n",
       "      <th>ellen</th>\n",
       "      <td>5605</td>\n",
       "    </tr>\n",
       "    <tr>\n",
       "      <th>colbert</th>\n",
       "      <td>4744</td>\n",
       "    </tr>\n",
       "    <tr>\n",
       "      <th>seth</th>\n",
       "      <td>4636</td>\n",
       "    </tr>\n",
       "    <tr>\n",
       "      <th>oliver</th>\n",
       "      <td>4629</td>\n",
       "    </tr>\n",
       "    <tr>\n",
       "      <th>corden</th>\n",
       "      <td>4408</td>\n",
       "    </tr>\n",
       "    <tr>\n",
       "      <th>noah</th>\n",
       "      <td>4367</td>\n",
       "    </tr>\n",
       "    <tr>\n",
       "      <th>conan</th>\n",
       "      <td>4266</td>\n",
       "    </tr>\n",
       "    <tr>\n",
       "      <th>chemistry</th>\n",
       "      <td>4083</td>\n",
       "    </tr>\n",
       "    <tr>\n",
       "      <th>rock</th>\n",
       "      <td>3794</td>\n",
       "    </tr>\n",
       "    <tr>\n",
       "      <th>shelly</th>\n",
       "      <td>3582</td>\n",
       "    </tr>\n",
       "    <tr>\n",
       "      <th>fallon</th>\n",
       "      <td>2107</td>\n",
       "    </tr>\n",
       "    <tr>\n",
       "      <th>ferguson</th>\n",
       "      <td>1604</td>\n",
       "    </tr>\n",
       "    <tr>\n",
       "      <th>maher</th>\n",
       "      <td>1291</td>\n",
       "    </tr>\n",
       "  </tbody>\n",
       "</table>\n",
       "</div>"
      ],
      "text/plain": [
       "           speaker\n",
       "angelica     19795\n",
       "jon           8257\n",
       "ellen         5605\n",
       "colbert       4744\n",
       "seth          4636\n",
       "oliver        4629\n",
       "corden        4408\n",
       "noah          4367\n",
       "conan         4266\n",
       "chemistry     4083\n",
       "rock          3794\n",
       "shelly        3582\n",
       "fallon        2107\n",
       "ferguson      1604\n",
       "maher         1291"
      ]
     },
     "execution_count": 13,
     "metadata": {},
     "output_type": "execute_result"
    }
   ],
   "source": [
    "df_intervals_org['speaker'].value_counts().to_frame().head(n=15)"
   ]
  },
  {
   "cell_type": "code",
   "execution_count": 14,
   "metadata": {
    "jupyter": {
     "source_hidden": true
    }
   },
   "outputs": [
    {
     "name": "stderr",
     "output_type": "stream",
     "text": [
      "/home/stav/.local/share/virtualenvs/vokenization-XaO4r3tO/lib/python3.6/site-packages/IPython/core/interactiveshell.py:3072: DtypeWarning: Columns (5) have mixed types.Specify dtype option on import or set low_memory=False.\n",
      "  interactivity=interactivity, compiler=compiler, result=result)\n"
     ]
    }
   ],
   "source": [
    "df_intervals_all = pd.read_csv(INTERVALS_PATH)\n",
    "MASK_SPEAKER = df_intervals_all['speaker'] == SPEAKER_NAME\n",
    "df_intervals = df_intervals_all[MASK_SPEAKER].copy()\n",
    "df_intervals.rename(columns={'delta_time': 'duration'}, inplace=True)"
   ]
  },
  {
   "cell_type": "code",
   "execution_count": 186,
   "metadata": {},
   "outputs": [
    {
     "data": {
      "text/html": [
       "<div>\n",
       "<style scoped>\n",
       "    .dataframe tbody tr th:only-of-type {\n",
       "        vertical-align: middle;\n",
       "    }\n",
       "\n",
       "    .dataframe tbody tr th {\n",
       "        vertical-align: top;\n",
       "    }\n",
       "\n",
       "    .dataframe thead th {\n",
       "        text-align: right;\n",
       "    }\n",
       "</style>\n",
       "<table border=\"1\" class=\"dataframe\">\n",
       "  <thead>\n",
       "    <tr style=\"text-align: right;\">\n",
       "      <th></th>\n",
       "      <th>Unnamed: 0</th>\n",
       "      <th>Unnamed: 0.1</th>\n",
       "      <th>dataset</th>\n",
       "      <th>duration</th>\n",
       "      <th>end_time</th>\n",
       "      <th>interval_id</th>\n",
       "      <th>speaker</th>\n",
       "      <th>start_time</th>\n",
       "      <th>video_fn</th>\n",
       "      <th>video_link</th>\n",
       "      <th>...</th>\n",
       "      <th>org_end_time</th>\n",
       "      <th>start_time_string</th>\n",
       "      <th>end_time_string</th>\n",
       "      <th>video_id</th>\n",
       "      <th>max_frames_token</th>\n",
       "      <th>valid</th>\n",
       "      <th>valid_max_frames_per_token</th>\n",
       "      <th>valid_duration</th>\n",
       "      <th>valid_single_token_per_frame</th>\n",
       "      <th>video_downloded</th>\n",
       "    </tr>\n",
       "  </thead>\n",
       "  <tbody>\n",
       "    <tr>\n",
       "      <th>79922</th>\n",
       "      <td>79922</td>\n",
       "      <td>79922</td>\n",
       "      <td>train</td>\n",
       "      <td>7.23</td>\n",
       "      <td>0 days 00:00:08.090000</td>\n",
       "      <td>cmu0000033570</td>\n",
       "      <td>noah</td>\n",
       "      <td>0 days 00:00:00.860000</td>\n",
       "      <td>rUZL4z5Drcw</td>\n",
       "      <td>https://www.youtube.com/watch?v=rUZL4z5Drcw</td>\n",
       "      <td>...</td>\n",
       "      <td>0 days 00:00:08.090000</td>\n",
       "      <td>00:00:00.86</td>\n",
       "      <td>00:00:08.9</td>\n",
       "      <td>rUZL4z5Drcw</td>\n",
       "      <td>-1</td>\n",
       "      <td>False</td>\n",
       "      <td>False</td>\n",
       "      <td>False</td>\n",
       "      <td>True</td>\n",
       "      <td>False</td>\n",
       "    </tr>\n",
       "    <tr>\n",
       "      <th>79923</th>\n",
       "      <td>79923</td>\n",
       "      <td>79923</td>\n",
       "      <td>train</td>\n",
       "      <td>7.80</td>\n",
       "      <td>0 days 00:00:30.700000</td>\n",
       "      <td>cmu0000033572</td>\n",
       "      <td>noah</td>\n",
       "      <td>0 days 00:00:22.900000</td>\n",
       "      <td>rUZL4z5Drcw</td>\n",
       "      <td>https://www.youtube.com/watch?v=rUZL4z5Drcw</td>\n",
       "      <td>...</td>\n",
       "      <td>0 days 00:00:30.700000</td>\n",
       "      <td>00:00:22.90</td>\n",
       "      <td>00:00:30.70</td>\n",
       "      <td>rUZL4z5Drcw</td>\n",
       "      <td>-1</td>\n",
       "      <td>False</td>\n",
       "      <td>False</td>\n",
       "      <td>False</td>\n",
       "      <td>True</td>\n",
       "      <td>False</td>\n",
       "    </tr>\n",
       "    <tr>\n",
       "      <th>79924</th>\n",
       "      <td>79924</td>\n",
       "      <td>79924</td>\n",
       "      <td>train</td>\n",
       "      <td>16.03</td>\n",
       "      <td>0 days 00:00:48.460000</td>\n",
       "      <td>cmu0000033573</td>\n",
       "      <td>noah</td>\n",
       "      <td>0 days 00:00:32.430000</td>\n",
       "      <td>rUZL4z5Drcw</td>\n",
       "      <td>https://www.youtube.com/watch?v=rUZL4z5Drcw</td>\n",
       "      <td>...</td>\n",
       "      <td>0 days 00:00:48.460000</td>\n",
       "      <td>00:00:32.43</td>\n",
       "      <td>00:00:48.46</td>\n",
       "      <td>rUZL4z5Drcw</td>\n",
       "      <td>-1</td>\n",
       "      <td>False</td>\n",
       "      <td>False</td>\n",
       "      <td>False</td>\n",
       "      <td>True</td>\n",
       "      <td>False</td>\n",
       "    </tr>\n",
       "    <tr>\n",
       "      <th>79925</th>\n",
       "      <td>79925</td>\n",
       "      <td>79925</td>\n",
       "      <td>train</td>\n",
       "      <td>17.37</td>\n",
       "      <td>0 days 00:02:04.560000</td>\n",
       "      <td>cmu0000033576</td>\n",
       "      <td>noah</td>\n",
       "      <td>0 days 00:01:47.200000</td>\n",
       "      <td>rUZL4z5Drcw</td>\n",
       "      <td>https://www.youtube.com/watch?v=rUZL4z5Drcw</td>\n",
       "      <td>...</td>\n",
       "      <td>0 days 00:02:04.560000</td>\n",
       "      <td>00:01:47.20</td>\n",
       "      <td>00:02:04.56</td>\n",
       "      <td>rUZL4z5Drcw</td>\n",
       "      <td>-1</td>\n",
       "      <td>False</td>\n",
       "      <td>False</td>\n",
       "      <td>False</td>\n",
       "      <td>True</td>\n",
       "      <td>False</td>\n",
       "    </tr>\n",
       "    <tr>\n",
       "      <th>79926</th>\n",
       "      <td>79926</td>\n",
       "      <td>79926</td>\n",
       "      <td>train</td>\n",
       "      <td>13.00</td>\n",
       "      <td>0 days 00:05:32.860000</td>\n",
       "      <td>cmu0000033589</td>\n",
       "      <td>noah</td>\n",
       "      <td>0 days 00:05:19.860000</td>\n",
       "      <td>rUZL4z5Drcw</td>\n",
       "      <td>https://www.youtube.com/watch?v=rUZL4z5Drcw</td>\n",
       "      <td>...</td>\n",
       "      <td>0 days 00:05:32.860000</td>\n",
       "      <td>00:05:19.86</td>\n",
       "      <td>00:05:32.86</td>\n",
       "      <td>rUZL4z5Drcw</td>\n",
       "      <td>-1</td>\n",
       "      <td>False</td>\n",
       "      <td>False</td>\n",
       "      <td>False</td>\n",
       "      <td>True</td>\n",
       "      <td>False</td>\n",
       "    </tr>\n",
       "  </tbody>\n",
       "</table>\n",
       "<p>5 rows × 21 columns</p>\n",
       "</div>"
      ],
      "text/plain": [
       "       Unnamed: 0  Unnamed: 0.1 dataset  duration                end_time  \\\n",
       "79922       79922         79922   train      7.23  0 days 00:00:08.090000   \n",
       "79923       79923         79923   train      7.80  0 days 00:00:30.700000   \n",
       "79924       79924         79924   train     16.03  0 days 00:00:48.460000   \n",
       "79925       79925         79925   train     17.37  0 days 00:02:04.560000   \n",
       "79926       79926         79926   train     13.00  0 days 00:05:32.860000   \n",
       "\n",
       "         interval_id speaker              start_time     video_fn  \\\n",
       "79922  cmu0000033570    noah  0 days 00:00:00.860000  rUZL4z5Drcw   \n",
       "79923  cmu0000033572    noah  0 days 00:00:22.900000  rUZL4z5Drcw   \n",
       "79924  cmu0000033573    noah  0 days 00:00:32.430000  rUZL4z5Drcw   \n",
       "79925  cmu0000033576    noah  0 days 00:01:47.200000  rUZL4z5Drcw   \n",
       "79926  cmu0000033589    noah  0 days 00:05:19.860000  rUZL4z5Drcw   \n",
       "\n",
       "                                        video_link  ...  \\\n",
       "79922  https://www.youtube.com/watch?v=rUZL4z5Drcw  ...   \n",
       "79923  https://www.youtube.com/watch?v=rUZL4z5Drcw  ...   \n",
       "79924  https://www.youtube.com/watch?v=rUZL4z5Drcw  ...   \n",
       "79925  https://www.youtube.com/watch?v=rUZL4z5Drcw  ...   \n",
       "79926  https://www.youtube.com/watch?v=rUZL4z5Drcw  ...   \n",
       "\n",
       "                 org_end_time start_time_string end_time_string     video_id  \\\n",
       "79922  0 days 00:00:08.090000       00:00:00.86      00:00:08.9  rUZL4z5Drcw   \n",
       "79923  0 days 00:00:30.700000       00:00:22.90     00:00:30.70  rUZL4z5Drcw   \n",
       "79924  0 days 00:00:48.460000       00:00:32.43     00:00:48.46  rUZL4z5Drcw   \n",
       "79925  0 days 00:02:04.560000       00:01:47.20     00:02:04.56  rUZL4z5Drcw   \n",
       "79926  0 days 00:05:32.860000       00:05:19.86     00:05:32.86  rUZL4z5Drcw   \n",
       "\n",
       "      max_frames_token  valid  valid_max_frames_per_token  valid_duration  \\\n",
       "79922               -1  False                       False           False   \n",
       "79923               -1  False                       False           False   \n",
       "79924               -1  False                       False           False   \n",
       "79925               -1  False                       False           False   \n",
       "79926               -1  False                       False           False   \n",
       "\n",
       "       valid_single_token_per_frame  video_downloded  \n",
       "79922                          True            False  \n",
       "79923                          True            False  \n",
       "79924                          True            False  \n",
       "79925                          True            False  \n",
       "79926                          True            False  \n",
       "\n",
       "[5 rows x 21 columns]"
      ]
     },
     "execution_count": 186,
     "metadata": {},
     "output_type": "execute_result"
    }
   ],
   "source": [
    "df_intervals.head()"
   ]
  },
  {
   "cell_type": "code",
   "execution_count": 15,
   "metadata": {},
   "outputs": [
    {
     "data": {
      "text/plain": [
       "Index(['Unnamed: 0', 'Unnamed: 0.1', 'dataset', 'duration', 'end_time',\n",
       "       'interval_id', 'speaker', 'start_time', 'video_fn', 'video_link',\n",
       "       'org_start_time', 'org_end_time', 'start_time_string',\n",
       "       'end_time_string', 'video_id', 'max_frames_token', 'valid',\n",
       "       'valid_max_frames_per_token', 'valid_duration',\n",
       "       'valid_single_token_per_frame', 'video_downloded'],\n",
       "      dtype='object')"
      ]
     },
     "execution_count": 15,
     "metadata": {},
     "output_type": "execute_result"
    }
   ],
   "source": [
    "df_intervals.columns"
   ]
  },
  {
   "cell_type": "code",
   "execution_count": 16,
   "metadata": {},
   "outputs": [
    {
     "data": {
      "text/plain": [
       "(4367, 21)"
      ]
     },
     "execution_count": 16,
     "metadata": {},
     "output_type": "execute_result"
    }
   ],
   "source": [
    "df_intervals.shape"
   ]
  },
  {
   "cell_type": "code",
   "execution_count": 17,
   "metadata": {
    "jupyter": {
     "source_hidden": true
    }
   },
   "outputs": [],
   "source": [
    "LIST_BULLET = '  ◘ '\n",
    "TAB = '&nbsp;&nbsp;&nbsp;&nbsp;'\n",
    "VIDEO_ID_LEN = 11"
   ]
  },
  {
   "cell_type": "code",
   "execution_count": 18,
   "metadata": {
    "jupyter": {
     "source_hidden": true
    }
   },
   "outputs": [
    {
     "name": "stdout",
     "output_type": "stream",
     "text": [
      "/home/stav/Data/PATS_DATA/Videos/noah\n",
      "   Total Intervals: 676\n"
     ]
    }
   ],
   "source": [
    "! echo {PATS_SPEAKER_PATS_INTERVAL_DIR}\n",
    "print('   Total Intervals:', end=' ')\n",
    "! ls -al {PATS_SPEAKER_PATS_INTERVAL_DIR} | wc -l"
   ]
  },
  {
   "cell_type": "code",
   "execution_count": 19,
   "metadata": {},
   "outputs": [],
   "source": [
    "COL_VALID_HD5 = 'valid_hd5'"
   ]
  },
  {
   "cell_type": "code",
   "execution_count": 20,
   "metadata": {
    "jupyter": {
     "source_hidden": true
    }
   },
   "outputs": [],
   "source": [
    "COLS_VALIDITY = [\n",
    "    'valid',\n",
    "    'valid_max_frames_per_token',\n",
    "    'valid_duration',\n",
    "    'valid_single_token_per_frame'\n",
    "]\n",
    "COLS_VIEW = [\n",
    "    'speaker', 'interval_id',\n",
    "    'duration', 'start_time_string', 'end_time_string',\n",
    "    'video_link'\n",
    "]\n",
    "COLS_VIDEOS = [\n",
    "    'video_link',\n",
    "    'data_ratio', 'duration_net', 'duration_total',\n",
    "    'num_intervals'\n",
    "]"
   ]
  },
  {
   "cell_type": "markdown",
   "metadata": {},
   "source": [
    "## df_intervals"
   ]
  },
  {
   "cell_type": "code",
   "execution_count": 21,
   "metadata": {
    "ExecuteTime": {
     "end_time": "2021-01-17T10:20:36.300683Z",
     "start_time": "2021-01-17T10:20:36.280070Z"
    },
    "jupyter": {
     "source_hidden": true
    }
   },
   "outputs": [
    {
     "data": {
      "text/html": [
       "<div>\n",
       "<style scoped>\n",
       "    .dataframe tbody tr th:only-of-type {\n",
       "        vertical-align: middle;\n",
       "    }\n",
       "\n",
       "    .dataframe tbody tr th {\n",
       "        vertical-align: top;\n",
       "    }\n",
       "\n",
       "    .dataframe thead th {\n",
       "        text-align: right;\n",
       "    }\n",
       "</style>\n",
       "<table border=\"1\" class=\"dataframe\">\n",
       "  <thead>\n",
       "    <tr style=\"text-align: right;\">\n",
       "      <th></th>\n",
       "      <th>speaker</th>\n",
       "      <th>interval_id</th>\n",
       "      <th>duration</th>\n",
       "      <th>start_time_string</th>\n",
       "      <th>end_time_string</th>\n",
       "      <th>video_link</th>\n",
       "    </tr>\n",
       "  </thead>\n",
       "  <tbody>\n",
       "    <tr>\n",
       "      <th>81077</th>\n",
       "      <td>noah</td>\n",
       "      <td>cmu0000036062</td>\n",
       "      <td>56.73</td>\n",
       "      <td>00:04:34.20</td>\n",
       "      <td>00:05:30.93</td>\n",
       "      <td>https://www.youtube.com/watch?v=pvXJnukCFoo</td>\n",
       "    </tr>\n",
       "    <tr>\n",
       "      <th>81115</th>\n",
       "      <td>noah</td>\n",
       "      <td>cmu0000036149</td>\n",
       "      <td>12.40</td>\n",
       "      <td>00:00:00.0</td>\n",
       "      <td>00:00:12.40</td>\n",
       "      <td>https://www.youtube.com/watch?v=1s-h-bx-cbY</td>\n",
       "    </tr>\n",
       "    <tr>\n",
       "      <th>81447</th>\n",
       "      <td>noah</td>\n",
       "      <td>cmu0000036824</td>\n",
       "      <td>17.83</td>\n",
       "      <td>00:03:38.43</td>\n",
       "      <td>00:03:56.26</td>\n",
       "      <td>https://www.youtube.com/watch?v=rvPRaxR7HOE</td>\n",
       "    </tr>\n",
       "  </tbody>\n",
       "</table>\n",
       "</div>"
      ],
      "text/plain": [
       "      speaker    interval_id  duration start_time_string end_time_string  \\\n",
       "81077    noah  cmu0000036062     56.73       00:04:34.20     00:05:30.93   \n",
       "81115    noah  cmu0000036149     12.40        00:00:00.0     00:00:12.40   \n",
       "81447    noah  cmu0000036824     17.83       00:03:38.43     00:03:56.26   \n",
       "\n",
       "                                        video_link  \n",
       "81077  https://www.youtube.com/watch?v=pvXJnukCFoo  \n",
       "81115  https://www.youtube.com/watch?v=1s-h-bx-cbY  \n",
       "81447  https://www.youtube.com/watch?v=rvPRaxR7HOE  "
      ]
     },
     "execution_count": 21,
     "metadata": {},
     "output_type": "execute_result"
    }
   ],
   "source": [
    "df_intervals.sample(n=3)[COLS_VIEW]"
   ]
  },
  {
   "cell_type": "code",
   "execution_count": 22,
   "metadata": {},
   "outputs": [
    {
     "data": {
      "text/html": [
       "<div>\n",
       "<style scoped>\n",
       "    .dataframe tbody tr th:only-of-type {\n",
       "        vertical-align: middle;\n",
       "    }\n",
       "\n",
       "    .dataframe tbody tr th {\n",
       "        vertical-align: top;\n",
       "    }\n",
       "\n",
       "    .dataframe thead th {\n",
       "        text-align: right;\n",
       "    }\n",
       "</style>\n",
       "<table border=\"1\" class=\"dataframe\">\n",
       "  <thead>\n",
       "    <tr style=\"text-align: right;\">\n",
       "      <th></th>\n",
       "      <th>speaker</th>\n",
       "    </tr>\n",
       "  </thead>\n",
       "  <tbody>\n",
       "    <tr>\n",
       "      <th>noah</th>\n",
       "      <td>4367</td>\n",
       "    </tr>\n",
       "  </tbody>\n",
       "</table>\n",
       "</div>"
      ],
      "text/plain": [
       "      speaker\n",
       "noah     4367"
      ]
     },
     "execution_count": 22,
     "metadata": {},
     "output_type": "execute_result"
    }
   ],
   "source": [
    "df_intervals['speaker'].value_counts().to_frame()"
   ]
  },
  {
   "cell_type": "code",
   "execution_count": 23,
   "metadata": {
    "jupyter": {
     "source_hidden": true
    }
   },
   "outputs": [],
   "source": [
    "def print_df_info(df):\n",
    "    print(f'{LIST_BULLET}Videos: #{df[\"video_link\"].nunique():,}')\n",
    "    print(f'{LIST_BULLET}Intervals: #{df[\"interval_id\"].nunique():,}')\n",
    "    total_duration = df[\"duration\"].sum()\n",
    "    total_duration_string = time.strftime('%H hours, %M minutues, %S seconds', time.gmtime(total_duration))\n",
    "    print(f'{LIST_BULLET}Total Duration: {total_duration_string} ({int(total_duration):,} seconds)')\n",
    "    all_youtube = df_intervals['video_link'].str.contains('youtube').all()\n",
    "    print(f'{LIST_BULLET}All are Youtube videos: {all_youtube}')"
   ]
  },
  {
   "cell_type": "code",
   "execution_count": 24,
   "metadata": {},
   "outputs": [
    {
     "data": {
      "text/markdown": [
       "Speaker **noah**:"
      ],
      "text/plain": [
       "<IPython.core.display.Markdown object>"
      ]
     },
     "metadata": {},
     "output_type": "display_data"
    },
    {
     "name": "stdout",
     "output_type": "stream",
     "text": [
      "  ◘ Videos: #671\n",
      "  ◘ Intervals: #4,367\n",
      "  ◘ Total Duration: 04 hours, 03 minutues, 30 seconds (101,010 seconds)\n",
      "  ◘ All are Youtube videos: True\n"
     ]
    }
   ],
   "source": [
    "printmd(f'Speaker **{SPEAKER_NAME}**:')\n",
    "print_df_info(df_intervals)"
   ]
  },
  {
   "cell_type": "markdown",
   "metadata": {},
   "source": [
    "## df_videos"
   ]
  },
  {
   "cell_type": "markdown",
   "metadata": {},
   "source": [
    "### Duration: Net and Total"
   ]
  },
  {
   "cell_type": "code",
   "execution_count": 25,
   "metadata": {},
   "outputs": [],
   "source": [
    "df_videos_all = pd.read_csv(VIDEOS_PATH)"
   ]
  },
  {
   "cell_type": "code",
   "execution_count": 26,
   "metadata": {},
   "outputs": [
    {
     "data": {
      "text/html": [
       "<div>\n",
       "<style scoped>\n",
       "    .dataframe tbody tr th:only-of-type {\n",
       "        vertical-align: middle;\n",
       "    }\n",
       "\n",
       "    .dataframe tbody tr th {\n",
       "        vertical-align: top;\n",
       "    }\n",
       "\n",
       "    .dataframe thead th {\n",
       "        text-align: right;\n",
       "    }\n",
       "</style>\n",
       "<table border=\"1\" class=\"dataframe\">\n",
       "  <thead>\n",
       "    <tr style=\"text-align: right;\">\n",
       "      <th></th>\n",
       "      <th>Unnamed: 0</th>\n",
       "      <th>speaker</th>\n",
       "      <th>actual_duration</th>\n",
       "      <th>video_id</th>\n",
       "      <th>video_link</th>\n",
       "      <th>duration_secs</th>\n",
       "    </tr>\n",
       "  </thead>\n",
       "  <tbody>\n",
       "    <tr>\n",
       "      <th>4009</th>\n",
       "      <td>4009</td>\n",
       "      <td>noah</td>\n",
       "      <td>137.33</td>\n",
       "      <td>-V7QBRoxa4A</td>\n",
       "      <td>https://www.youtube.com/watch?v=-V7QBRoxa4A</td>\n",
       "      <td>366</td>\n",
       "    </tr>\n",
       "  </tbody>\n",
       "</table>\n",
       "</div>"
      ],
      "text/plain": [
       "      Unnamed: 0 speaker  actual_duration     video_id  \\\n",
       "4009        4009    noah           137.33  -V7QBRoxa4A   \n",
       "\n",
       "                                       video_link  duration_secs  \n",
       "4009  https://www.youtube.com/watch?v=-V7QBRoxa4A            366  "
      ]
     },
     "execution_count": 26,
     "metadata": {},
     "output_type": "execute_result"
    }
   ],
   "source": [
    "df_videos_all[df_videos_all['video_link'] == 'https://www.youtube.com/watch?v=-V7QBRoxa4A']"
   ]
  },
  {
   "cell_type": "code",
   "execution_count": 27,
   "metadata": {},
   "outputs": [],
   "source": [
    "df_videos = df_videos_all[df_videos_all['speaker'] == SPEAKER_NAME].copy()"
   ]
  },
  {
   "cell_type": "code",
   "execution_count": 28,
   "metadata": {
    "jupyter": {
     "source_hidden": true
    }
   },
   "outputs": [],
   "source": [
    "# df_videos = df_intervals.groupby('video_link')['duration'].agg(['sum','count']).reset_index()\n",
    "# df_videos.rename(columns={'sum': 'duration_net', 'count': 'num_intervals'}, inplace=True)\n",
    "# print(f'df_videos: {df_videos.shape[0]}')\n",
    "# df_videos.head()"
   ]
  },
  {
   "cell_type": "code",
   "execution_count": 29,
   "metadata": {},
   "outputs": [
    {
     "data": {
      "text/plain": [
       "Index(['Unnamed: 0', 'speaker', 'actual_duration', 'video_id', 'video_link',\n",
       "       'duration_secs'],\n",
       "      dtype='object')"
      ]
     },
     "execution_count": 29,
     "metadata": {},
     "output_type": "execute_result"
    }
   ],
   "source": [
    "df_videos.columns"
   ]
  },
  {
   "cell_type": "code",
   "execution_count": 30,
   "metadata": {},
   "outputs": [],
   "source": [
    "df_videos.rename(\n",
    "    columns={'actual_duration': 'duration_net', 'duration_secs': 'duration_total'},\n",
    "    inplace=True)"
   ]
  },
  {
   "cell_type": "code",
   "execution_count": 31,
   "metadata": {},
   "outputs": [],
   "source": [
    "df_videos.drop('Unnamed: 0', axis=1, inplace=True)"
   ]
  },
  {
   "cell_type": "code",
   "execution_count": 32,
   "metadata": {},
   "outputs": [
    {
     "data": {
      "text/html": [
       "<div>\n",
       "<style scoped>\n",
       "    .dataframe tbody tr th:only-of-type {\n",
       "        vertical-align: middle;\n",
       "    }\n",
       "\n",
       "    .dataframe tbody tr th {\n",
       "        vertical-align: top;\n",
       "    }\n",
       "\n",
       "    .dataframe thead th {\n",
       "        text-align: right;\n",
       "    }\n",
       "</style>\n",
       "<table border=\"1\" class=\"dataframe\">\n",
       "  <thead>\n",
       "    <tr style=\"text-align: right;\">\n",
       "      <th></th>\n",
       "      <th>speaker</th>\n",
       "      <th>duration_net</th>\n",
       "      <th>video_id</th>\n",
       "      <th>video_link</th>\n",
       "      <th>duration_total</th>\n",
       "    </tr>\n",
       "  </thead>\n",
       "  <tbody>\n",
       "    <tr>\n",
       "      <th>4006</th>\n",
       "      <td>noah</td>\n",
       "      <td>201.63</td>\n",
       "      <td>-DoL722yNn4</td>\n",
       "      <td>https://www.youtube.com/watch?v=-DoL722yNn4</td>\n",
       "      <td>436</td>\n",
       "    </tr>\n",
       "    <tr>\n",
       "      <th>4007</th>\n",
       "      <td>noah</td>\n",
       "      <td>196.67</td>\n",
       "      <td>-EDP12VmqvM</td>\n",
       "      <td>https://www.youtube.com/watch?v=-EDP12VmqvM</td>\n",
       "      <td>374</td>\n",
       "    </tr>\n",
       "    <tr>\n",
       "      <th>4008</th>\n",
       "      <td>noah</td>\n",
       "      <td>245.00</td>\n",
       "      <td>-Kt0bI6o4Kg</td>\n",
       "      <td>https://www.youtube.com/watch?v=-Kt0bI6o4Kg</td>\n",
       "      <td>431</td>\n",
       "    </tr>\n",
       "    <tr>\n",
       "      <th>4009</th>\n",
       "      <td>noah</td>\n",
       "      <td>137.33</td>\n",
       "      <td>-V7QBRoxa4A</td>\n",
       "      <td>https://www.youtube.com/watch?v=-V7QBRoxa4A</td>\n",
       "      <td>366</td>\n",
       "    </tr>\n",
       "    <tr>\n",
       "      <th>4010</th>\n",
       "      <td>noah</td>\n",
       "      <td>23.80</td>\n",
       "      <td>-WBPLBVdmt4</td>\n",
       "      <td>https://www.youtube.com/watch?v=-WBPLBVdmt4</td>\n",
       "      <td>117</td>\n",
       "    </tr>\n",
       "  </tbody>\n",
       "</table>\n",
       "</div>"
      ],
      "text/plain": [
       "     speaker  duration_net     video_id  \\\n",
       "4006    noah        201.63  -DoL722yNn4   \n",
       "4007    noah        196.67  -EDP12VmqvM   \n",
       "4008    noah        245.00  -Kt0bI6o4Kg   \n",
       "4009    noah        137.33  -V7QBRoxa4A   \n",
       "4010    noah         23.80  -WBPLBVdmt4   \n",
       "\n",
       "                                       video_link  duration_total  \n",
       "4006  https://www.youtube.com/watch?v=-DoL722yNn4             436  \n",
       "4007  https://www.youtube.com/watch?v=-EDP12VmqvM             374  \n",
       "4008  https://www.youtube.com/watch?v=-Kt0bI6o4Kg             431  \n",
       "4009  https://www.youtube.com/watch?v=-V7QBRoxa4A             366  \n",
       "4010  https://www.youtube.com/watch?v=-WBPLBVdmt4             117  "
      ]
     },
     "execution_count": 32,
     "metadata": {},
     "output_type": "execute_result"
    }
   ],
   "source": [
    "df_videos.head()"
   ]
  },
  {
   "cell_type": "code",
   "execution_count": 33,
   "metadata": {
    "jupyter": {
     "source_hidden": true
    }
   },
   "outputs": [
    {
     "data": {
      "text/html": [
       "<div>\n",
       "<style scoped>\n",
       "    .dataframe tbody tr th:only-of-type {\n",
       "        vertical-align: middle;\n",
       "    }\n",
       "\n",
       "    .dataframe tbody tr th {\n",
       "        vertical-align: top;\n",
       "    }\n",
       "\n",
       "    .dataframe thead th {\n",
       "        text-align: right;\n",
       "    }\n",
       "</style>\n",
       "<table border=\"1\" class=\"dataframe\">\n",
       "  <thead>\n",
       "    <tr style=\"text-align: right;\">\n",
       "      <th></th>\n",
       "      <th>speaker</th>\n",
       "      <th>duration_net</th>\n",
       "      <th>video_id</th>\n",
       "      <th>video_link</th>\n",
       "      <th>duration_total</th>\n",
       "      <th>data_ratio</th>\n",
       "    </tr>\n",
       "  </thead>\n",
       "  <tbody>\n",
       "    <tr>\n",
       "      <th>4351</th>\n",
       "      <td>noah</td>\n",
       "      <td>108.73</td>\n",
       "      <td>WWEa0p7cKqo</td>\n",
       "      <td>https://www.youtube.com/watch?v=WWEa0p7cKqo</td>\n",
       "      <td>115</td>\n",
       "      <td>94.55</td>\n",
       "    </tr>\n",
       "    <tr>\n",
       "      <th>4284</th>\n",
       "      <td>noah</td>\n",
       "      <td>74.83</td>\n",
       "      <td>ON_ZwV2-nOU</td>\n",
       "      <td>https://www.youtube.com/watch?v=ON_ZwV2-nOU</td>\n",
       "      <td>80</td>\n",
       "      <td>93.54</td>\n",
       "    </tr>\n",
       "    <tr>\n",
       "      <th>4245</th>\n",
       "      <td>noah</td>\n",
       "      <td>89.63</td>\n",
       "      <td>KP_YpMBYttM</td>\n",
       "      <td>https://www.youtube.com/watch?v=KP_YpMBYttM</td>\n",
       "      <td>96</td>\n",
       "      <td>93.37</td>\n",
       "    </tr>\n",
       "    <tr>\n",
       "      <th>4568</th>\n",
       "      <td>noah</td>\n",
       "      <td>74.83</td>\n",
       "      <td>pcKNxA8AF4E</td>\n",
       "      <td>https://www.youtube.com/watch?v=pcKNxA8AF4E</td>\n",
       "      <td>82</td>\n",
       "      <td>91.26</td>\n",
       "    </tr>\n",
       "    <tr>\n",
       "      <th>4540</th>\n",
       "      <td>noah</td>\n",
       "      <td>71.83</td>\n",
       "      <td>n3apu-FHU_0</td>\n",
       "      <td>https://www.youtube.com/watch?v=n3apu-FHU_0</td>\n",
       "      <td>79</td>\n",
       "      <td>90.93</td>\n",
       "    </tr>\n",
       "  </tbody>\n",
       "</table>\n",
       "</div>"
      ],
      "text/plain": [
       "     speaker  duration_net     video_id  \\\n",
       "4351    noah        108.73  WWEa0p7cKqo   \n",
       "4284    noah         74.83  ON_ZwV2-nOU   \n",
       "4245    noah         89.63  KP_YpMBYttM   \n",
       "4568    noah         74.83  pcKNxA8AF4E   \n",
       "4540    noah         71.83  n3apu-FHU_0   \n",
       "\n",
       "                                       video_link  duration_total  data_ratio  \n",
       "4351  https://www.youtube.com/watch?v=WWEa0p7cKqo             115       94.55  \n",
       "4284  https://www.youtube.com/watch?v=ON_ZwV2-nOU              80       93.54  \n",
       "4245  https://www.youtube.com/watch?v=KP_YpMBYttM              96       93.37  \n",
       "4568  https://www.youtube.com/watch?v=pcKNxA8AF4E              82       91.26  \n",
       "4540  https://www.youtube.com/watch?v=n3apu-FHU_0              79       90.93  "
      ]
     },
     "execution_count": 33,
     "metadata": {},
     "output_type": "execute_result"
    }
   ],
   "source": [
    "df_videos['data_ratio'] = df_videos['duration_net'] / df_videos['duration_total'] * 100\n",
    "df_videos.sort_values('data_ratio', ascending=False, inplace=True)\n",
    "# df_videos = df_videos[COLS_VIDEOS]\n",
    "df_videos.head()"
   ]
  },
  {
   "cell_type": "code",
   "execution_count": 34,
   "metadata": {
    "jupyter": {
     "source_hidden": true
    }
   },
   "outputs": [
    {
     "data": {
      "text/html": [
       "<div>\n",
       "<style scoped>\n",
       "    .dataframe tbody tr th:only-of-type {\n",
       "        vertical-align: middle;\n",
       "    }\n",
       "\n",
       "    .dataframe tbody tr th {\n",
       "        vertical-align: top;\n",
       "    }\n",
       "\n",
       "    .dataframe thead th {\n",
       "        text-align: right;\n",
       "    }\n",
       "</style>\n",
       "<table border=\"1\" class=\"dataframe\">\n",
       "  <thead>\n",
       "    <tr style=\"text-align: right;\">\n",
       "      <th></th>\n",
       "      <th>speaker</th>\n",
       "      <th>duration_net</th>\n",
       "      <th>video_id</th>\n",
       "      <th>video_link</th>\n",
       "      <th>duration_total</th>\n",
       "      <th>data_ratio</th>\n",
       "    </tr>\n",
       "  </thead>\n",
       "  <tbody>\n",
       "    <tr>\n",
       "      <th>4634</th>\n",
       "      <td>noah</td>\n",
       "      <td>16.53</td>\n",
       "      <td>vll6MnuC8cg</td>\n",
       "      <td>https://www.youtube.com/watch?v=vll6MnuC8cg</td>\n",
       "      <td>915</td>\n",
       "      <td>1.81</td>\n",
       "    </tr>\n",
       "    <tr>\n",
       "      <th>4483</th>\n",
       "      <td>noah</td>\n",
       "      <td>5.03</td>\n",
       "      <td>hVIeIExVRSw</td>\n",
       "      <td>https://www.youtube.com/watch?v=hVIeIExVRSw</td>\n",
       "      <td>363</td>\n",
       "      <td>1.39</td>\n",
       "    </tr>\n",
       "    <tr>\n",
       "      <th>4515</th>\n",
       "      <td>noah</td>\n",
       "      <td>4.27</td>\n",
       "      <td>l0w4FjJH8k4</td>\n",
       "      <td>https://www.youtube.com/watch?v=l0w4FjJH8k4</td>\n",
       "      <td>331</td>\n",
       "      <td>1.29</td>\n",
       "    </tr>\n",
       "    <tr>\n",
       "      <th>4356</th>\n",
       "      <td>noah</td>\n",
       "      <td>7.37</td>\n",
       "      <td>WlHpv2YySAc</td>\n",
       "      <td>https://www.youtube.com/watch?v=WlHpv2YySAc</td>\n",
       "      <td>907</td>\n",
       "      <td>0.81</td>\n",
       "    </tr>\n",
       "    <tr>\n",
       "      <th>4173</th>\n",
       "      <td>noah</td>\n",
       "      <td>4.97</td>\n",
       "      <td>DFZPaMgjChE</td>\n",
       "      <td>https://www.youtube.com/watch?v=DFZPaMgjChE</td>\n",
       "      <td>642</td>\n",
       "      <td>0.77</td>\n",
       "    </tr>\n",
       "  </tbody>\n",
       "</table>\n",
       "</div>"
      ],
      "text/plain": [
       "     speaker  duration_net     video_id  \\\n",
       "4634    noah         16.53  vll6MnuC8cg   \n",
       "4483    noah          5.03  hVIeIExVRSw   \n",
       "4515    noah          4.27  l0w4FjJH8k4   \n",
       "4356    noah          7.37  WlHpv2YySAc   \n",
       "4173    noah          4.97  DFZPaMgjChE   \n",
       "\n",
       "                                       video_link  duration_total  data_ratio  \n",
       "4634  https://www.youtube.com/watch?v=vll6MnuC8cg             915        1.81  \n",
       "4483  https://www.youtube.com/watch?v=hVIeIExVRSw             363        1.39  \n",
       "4515  https://www.youtube.com/watch?v=l0w4FjJH8k4             331        1.29  \n",
       "4356  https://www.youtube.com/watch?v=WlHpv2YySAc             907        0.81  \n",
       "4173  https://www.youtube.com/watch?v=DFZPaMgjChE             642        0.77  "
      ]
     },
     "execution_count": 34,
     "metadata": {},
     "output_type": "execute_result"
    }
   ],
   "source": [
    "df_videos.tail()"
   ]
  },
  {
   "cell_type": "code",
   "execution_count": 35,
   "metadata": {
    "jupyter": {
     "source_hidden": true
    }
   },
   "outputs": [
    {
     "data": {
      "image/png": "[encoded data removed]",
      "text/plain": [
       "<Figure size 360x360 with 1 Axes>"
      ]
     },
     "metadata": {
      "needs_background": "light"
     },
     "output_type": "display_data"
    }
   ],
   "source": [
    "sns.displot(df_videos['data_ratio']);"
   ]
  },
  {
   "cell_type": "code",
   "execution_count": 36,
   "metadata": {
    "jupyter": {
     "source_hidden": true
    }
   },
   "outputs": [
    {
     "data": {
      "image/png": "[encoded data removed]",
      "text/plain": [
       "<Figure size 360x360 with 1 Axes>"
      ]
     },
     "metadata": {
      "needs_background": "light"
     },
     "output_type": "display_data"
    }
   ],
   "source": [
    "sns.displot(df_videos['duration_total']);"
   ]
  },
  {
   "cell_type": "code",
   "execution_count": 37,
   "metadata": {
    "jupyter": {
     "source_hidden": true
    }
   },
   "outputs": [
    {
     "data": {
      "text/html": [
       "<div>\n",
       "<style scoped>\n",
       "    .dataframe tbody tr th:only-of-type {\n",
       "        vertical-align: middle;\n",
       "    }\n",
       "\n",
       "    .dataframe tbody tr th {\n",
       "        vertical-align: top;\n",
       "    }\n",
       "\n",
       "    .dataframe thead th {\n",
       "        text-align: right;\n",
       "    }\n",
       "</style>\n",
       "<table border=\"1\" class=\"dataframe\">\n",
       "  <thead>\n",
       "    <tr style=\"text-align: right;\">\n",
       "      <th></th>\n",
       "      <th>duration_total</th>\n",
       "    </tr>\n",
       "  </thead>\n",
       "  <tbody>\n",
       "    <tr>\n",
       "      <th>count</th>\n",
       "      <td>671.00</td>\n",
       "    </tr>\n",
       "    <tr>\n",
       "      <th>mean</th>\n",
       "      <td>377.96</td>\n",
       "    </tr>\n",
       "    <tr>\n",
       "      <th>std</th>\n",
       "      <td>223.71</td>\n",
       "    </tr>\n",
       "    <tr>\n",
       "      <th>min</th>\n",
       "      <td>50.00</td>\n",
       "    </tr>\n",
       "    <tr>\n",
       "      <th>25%</th>\n",
       "      <td>265.00</td>\n",
       "    </tr>\n",
       "    <tr>\n",
       "      <th>50%</th>\n",
       "      <td>365.00</td>\n",
       "    </tr>\n",
       "    <tr>\n",
       "      <th>75%</th>\n",
       "      <td>441.00</td>\n",
       "    </tr>\n",
       "    <tr>\n",
       "      <th>max</th>\n",
       "      <td>2,725.00</td>\n",
       "    </tr>\n",
       "  </tbody>\n",
       "</table>\n",
       "</div>"
      ],
      "text/plain": [
       "       duration_total\n",
       "count          671.00\n",
       "mean           377.96\n",
       "std            223.71\n",
       "min             50.00\n",
       "25%            265.00\n",
       "50%            365.00\n",
       "75%            441.00\n",
       "max          2,725.00"
      ]
     },
     "execution_count": 37,
     "metadata": {},
     "output_type": "execute_result"
    }
   ],
   "source": [
    "df_videos['duration_total'].describe().to_frame()"
   ]
  },
  {
   "cell_type": "markdown",
   "metadata": {},
   "source": [
    "## df_words"
   ]
  },
  {
   "cell_type": "code",
   "execution_count": 38,
   "metadata": {},
   "outputs": [],
   "source": [
    "def read_text(interval_id):\n",
    "    raw_text_path = resolve_interval_raw_text_path(interval_id)\n",
    "    return pd.read_csv(raw_text_path)\n",
    "\n",
    "def read_text_str(interval_id):\n",
    "    return ' '.join(read_text(interval_id)['word'].tolist())"
   ]
  },
  {
   "cell_type": "code",
   "execution_count": 39,
   "metadata": {
    "jupyter": {
     "source_hidden": true
    }
   },
   "outputs": [],
   "source": [
    "speaker_interval_ids = df_intervals['interval_id'].tolist()"
   ]
  },
  {
   "cell_type": "code",
   "execution_count": 40,
   "metadata": {},
   "outputs": [
    {
     "data": {
      "text/plain": [
       "'cmu0000033842'"
      ]
     },
     "execution_count": 40,
     "metadata": {},
     "output_type": "execute_result"
    }
   ],
   "source": [
    "speaker_interval_ids[100]"
   ]
  },
  {
   "cell_type": "code",
   "execution_count": 41,
   "metadata": {},
   "outputs": [
    {
     "data": {
      "text/plain": [
       "'/home/stav/Data/PATS_DATA/Videos/noah/g6U0L5ajsvI/cmu0000033842/Text/Raw.csv'"
      ]
     },
     "execution_count": 41,
     "metadata": {},
     "output_type": "execute_result"
    }
   ],
   "source": [
    "resolve_interval_raw_text_path(speaker_interval_ids[100])"
   ]
  },
  {
   "cell_type": "code",
   "execution_count": 42,
   "metadata": {
    "jupyter": {
     "source_hidden": true
    }
   },
   "outputs": [
    {
     "data": {
      "text/html": [
       "<div>\n",
       "<style scoped>\n",
       "    .dataframe tbody tr th:only-of-type {\n",
       "        vertical-align: middle;\n",
       "    }\n",
       "\n",
       "    .dataframe tbody tr th {\n",
       "        vertical-align: top;\n",
       "    }\n",
       "\n",
       "    .dataframe thead th {\n",
       "        text-align: right;\n",
       "    }\n",
       "</style>\n",
       "<table border=\"1\" class=\"dataframe\">\n",
       "  <thead>\n",
       "    <tr style=\"text-align: right;\">\n",
       "      <th></th>\n",
       "      <th>word</th>\n",
       "      <th>start_frame</th>\n",
       "      <th>end_frame</th>\n",
       "      <th>frames_count</th>\n",
       "    </tr>\n",
       "  </thead>\n",
       "  <tbody>\n",
       "    <tr>\n",
       "      <th>0</th>\n",
       "      <td>to</td>\n",
       "      <td>0</td>\n",
       "      <td>12</td>\n",
       "      <td>12</td>\n",
       "    </tr>\n",
       "    <tr>\n",
       "      <th>1</th>\n",
       "      <td>see</td>\n",
       "      <td>12</td>\n",
       "      <td>38</td>\n",
       "      <td>26</td>\n",
       "    </tr>\n",
       "    <tr>\n",
       "      <th>2</th>\n",
       "      <td>what</td>\n",
       "      <td>38</td>\n",
       "      <td>42</td>\n",
       "      <td>4</td>\n",
       "    </tr>\n",
       "    <tr>\n",
       "      <th>3</th>\n",
       "      <td>is</td>\n",
       "      <td>42</td>\n",
       "      <td>53</td>\n",
       "      <td>11</td>\n",
       "    </tr>\n",
       "    <tr>\n",
       "      <th>4</th>\n",
       "      <td>Boxing</td>\n",
       "      <td>53</td>\n",
       "      <td>57</td>\n",
       "      <td>4</td>\n",
       "    </tr>\n",
       "    <tr>\n",
       "      <th>5</th>\n",
       "      <td>Day</td>\n",
       "      <td>57</td>\n",
       "      <td>59</td>\n",
       "      <td>2</td>\n",
       "    </tr>\n",
       "    <tr>\n",
       "      <th>6</th>\n",
       "      <td>brackets</td>\n",
       "      <td>59</td>\n",
       "      <td>71</td>\n",
       "      <td>12</td>\n",
       "    </tr>\n",
       "  </tbody>\n",
       "</table>\n",
       "</div>"
      ],
      "text/plain": [
       "       word  start_frame  end_frame  frames_count\n",
       "0        to            0         12            12\n",
       "1       see           12         38            26\n",
       "2      what           38         42             4\n",
       "3        is           42         53            11\n",
       "4    Boxing           53         57             4\n",
       "5       Day           57         59             2\n",
       "6  brackets           59         71            12"
      ]
     },
     "execution_count": 42,
     "metadata": {},
     "output_type": "execute_result"
    }
   ],
   "source": [
    "read_text('cmu0000033842')"
   ]
  },
  {
   "cell_type": "code",
   "execution_count": 43,
   "metadata": {
    "jupyter": {
     "source_hidden": true
    }
   },
   "outputs": [],
   "source": [
    "interval_text_status = []\n",
    "interval_id_to_df_words = {}\n",
    "for interval_id in speaker_interval_ids:\n",
    "    try:\n",
    "        df_words = read_text(interval_id)\n",
    "        interval_id_to_df_words[interval_id] = df_words\n",
    "        has_text = True\n",
    "    except FileNotFoundError as e:\n",
    "        has_text = False\n",
    "    interval_text_status.append([interval_id, has_text])"
   ]
  },
  {
   "cell_type": "code",
   "execution_count": 44,
   "metadata": {},
   "outputs": [
    {
     "data": {
      "text/plain": [
       "4109"
      ]
     },
     "execution_count": 44,
     "metadata": {},
     "output_type": "execute_result"
    }
   ],
   "source": [
    "len(interval_id_to_df_words)"
   ]
  },
  {
   "cell_type": "markdown",
   "metadata": {},
   "source": [
    "# Intervals Validity"
   ]
  },
  {
   "cell_type": "markdown",
   "metadata": {},
   "source": [
    "## Interval PATS Text"
   ]
  },
  {
   "cell_type": "markdown",
   "metadata": {},
   "source": [
    "### Has Groups (`valid_hd5`)"
   ]
  },
  {
   "cell_type": "code",
   "execution_count": 45,
   "metadata": {},
   "outputs": [],
   "source": [
    "df_interval_text_status = pd.DataFrame(interval_text_status, columns=['interval_id', COL_VALID_HD5])"
   ]
  },
  {
   "cell_type": "code",
   "execution_count": 46,
   "metadata": {},
   "outputs": [
    {
     "data": {
      "text/html": [
       "<div>\n",
       "<style scoped>\n",
       "    .dataframe tbody tr th:only-of-type {\n",
       "        vertical-align: middle;\n",
       "    }\n",
       "\n",
       "    .dataframe tbody tr th {\n",
       "        vertical-align: top;\n",
       "    }\n",
       "\n",
       "    .dataframe thead th {\n",
       "        text-align: right;\n",
       "    }\n",
       "</style>\n",
       "<table border=\"1\" class=\"dataframe\">\n",
       "  <thead>\n",
       "    <tr style=\"text-align: right;\">\n",
       "      <th></th>\n",
       "      <th>interval_id</th>\n",
       "      <th>valid_hd5</th>\n",
       "    </tr>\n",
       "  </thead>\n",
       "  <tbody>\n",
       "    <tr>\n",
       "      <th>0</th>\n",
       "      <td>cmu0000033570</td>\n",
       "      <td>False</td>\n",
       "    </tr>\n",
       "    <tr>\n",
       "      <th>1</th>\n",
       "      <td>cmu0000033572</td>\n",
       "      <td>True</td>\n",
       "    </tr>\n",
       "    <tr>\n",
       "      <th>2</th>\n",
       "      <td>cmu0000033573</td>\n",
       "      <td>True</td>\n",
       "    </tr>\n",
       "    <tr>\n",
       "      <th>3</th>\n",
       "      <td>cmu0000033576</td>\n",
       "      <td>True</td>\n",
       "    </tr>\n",
       "    <tr>\n",
       "      <th>4</th>\n",
       "      <td>cmu0000033589</td>\n",
       "      <td>True</td>\n",
       "    </tr>\n",
       "  </tbody>\n",
       "</table>\n",
       "</div>"
      ],
      "text/plain": [
       "     interval_id  valid_hd5\n",
       "0  cmu0000033570      False\n",
       "1  cmu0000033572       True\n",
       "2  cmu0000033573       True\n",
       "3  cmu0000033576       True\n",
       "4  cmu0000033589       True"
      ]
     },
     "execution_count": 46,
     "metadata": {},
     "output_type": "execute_result"
    }
   ],
   "source": [
    "df_interval_text_status.head()"
   ]
  },
  {
   "cell_type": "code",
   "execution_count": 47,
   "metadata": {},
   "outputs": [
    {
     "data": {
      "text/html": [
       "<div>\n",
       "<style scoped>\n",
       "    .dataframe tbody tr th:only-of-type {\n",
       "        vertical-align: middle;\n",
       "    }\n",
       "\n",
       "    .dataframe tbody tr th {\n",
       "        vertical-align: top;\n",
       "    }\n",
       "\n",
       "    .dataframe thead th {\n",
       "        text-align: right;\n",
       "    }\n",
       "</style>\n",
       "<table border=\"1\" class=\"dataframe\">\n",
       "  <thead>\n",
       "    <tr style=\"text-align: right;\">\n",
       "      <th></th>\n",
       "      <th>valid_hd5</th>\n",
       "    </tr>\n",
       "  </thead>\n",
       "  <tbody>\n",
       "    <tr>\n",
       "      <th>True</th>\n",
       "      <td>4109</td>\n",
       "    </tr>\n",
       "    <tr>\n",
       "      <th>False</th>\n",
       "      <td>258</td>\n",
       "    </tr>\n",
       "  </tbody>\n",
       "</table>\n",
       "</div>"
      ],
      "text/plain": [
       "       valid_hd5\n",
       "True        4109\n",
       "False        258"
      ]
     },
     "execution_count": 47,
     "metadata": {},
     "output_type": "execute_result"
    }
   ],
   "source": [
    "df_interval_text_status[COL_VALID_HD5].value_counts().to_frame()"
   ]
  },
  {
   "cell_type": "code",
   "execution_count": 48,
   "metadata": {
    "jupyter": {
     "source_hidden": true
    }
   },
   "outputs": [
    {
     "data": {
      "text/html": [
       "<style  type=\"text/css\" >\n",
       "    #T_ec73ff2c_7844_11ec_b11a_9346d5fa91fe caption {\n",
       "          color: blue;\n",
       "          font-size: 16px;\n",
       "    }</style><table id=\"T_ec73ff2c_7844_11ec_b11a_9346d5fa91fe\" ><caption>Valid hd5 group</caption><thead>    <tr>        <th class=\"blank level0\" ></th>        <th class=\"col_heading level0 col0\" >valid_hd5</th>    </tr></thead><tbody>\n",
       "                <tr>\n",
       "                        <th id=\"T_ec73ff2c_7844_11ec_b11a_9346d5fa91felevel0_row0\" class=\"row_heading level0 row0\" >True</th>\n",
       "                        <td id=\"T_ec73ff2c_7844_11ec_b11a_9346d5fa91ferow0_col0\" class=\"data row0 col0\" >4109</td>\n",
       "            </tr>\n",
       "            <tr>\n",
       "                        <th id=\"T_ec73ff2c_7844_11ec_b11a_9346d5fa91felevel0_row1\" class=\"row_heading level0 row1\" >False</th>\n",
       "                        <td id=\"T_ec73ff2c_7844_11ec_b11a_9346d5fa91ferow1_col0\" class=\"data row1 col0\" >258</td>\n",
       "            </tr>\n",
       "    </tbody></table>"
      ],
      "text/plain": [
       "<pandas.io.formats.style.Styler at 0x7f39adf29c50>"
      ]
     },
     "metadata": {},
     "output_type": "display_data"
    }
   ],
   "source": [
    "df_intervals = df_intervals.merge(df_interval_text_status)\n",
    "display_value_counts(df_intervals['valid_hd5'], 'Valid hd5 group')"
   ]
  },
  {
   "cell_type": "markdown",
   "metadata": {},
   "source": [
    "### Token Frames Duration (`valid_max_token_duration`)"
   ]
  },
  {
   "cell_type": "code",
   "execution_count": 86,
   "metadata": {
    "jupyter": {
     "source_hidden": true
    }
   },
   "outputs": [
    {
     "name": "stdout",
     "output_type": "stream",
     "text": [
      "Max allowed frames per token is: 150 frames (= 10 seconds)\n"
     ]
    }
   ],
   "source": [
    "MAX_SECONDS_PER_TOKEN = 10\n",
    "MAX_FRAMES_THRESHOLD = FRAME_RATE * MAX_SECONDS_PER_TOKEN\n",
    "print(f'Max allowed frames per token is: {MAX_FRAMES_THRESHOLD} frames (= {MAX_SECONDS_PER_TOKEN} seconds)')"
   ]
  },
  {
   "cell_type": "code",
   "execution_count": 87,
   "metadata": {
    "jupyter": {
     "source_hidden": true
    }
   },
   "outputs": [],
   "source": [
    "UNKNOWN_MAX_FRAMES_PER_TOKEN = -1\n",
    "\n",
    "def get_max_frames_number_for_token(interval_id):\n",
    "    \"\"\"\n",
    "    returns the token idx and the range, of the token with the largest frame range\n",
    "    \"\"\"\n",
    "    try:\n",
    "        df_tokens = interval_id_to_df_words[interval_id]\n",
    "        max_token_frames           = df_tokens['frames_count'].max()\n",
    "        max_token_frames_token_idx = df_tokens['frames_count'].argmax()\n",
    "    except:\n",
    "        max_token_frames           = UNKNOWN_MAX_FRAMES_PER_TOKEN\n",
    "        max_token_frames_token_idx = UNKNOWN_MAX_FRAMES_PER_TOKEN\n",
    "    return max_token_frames, max_token_frames_token_idx"
   ]
  },
  {
   "cell_type": "code",
   "execution_count": 88,
   "metadata": {
    "jupyter": {
     "source_hidden": true
    }
   },
   "outputs": [],
   "source": [
    "df_intervals['max_frames_token'] = df_intervals['interval_id'].apply(get_max_frames_number_for_token)"
   ]
  },
  {
   "cell_type": "code",
   "execution_count": 89,
   "metadata": {},
   "outputs": [
    {
     "data": {
      "text/plain": [
       "0       (-1, -1)\n",
       "1       (118, 0)\n",
       "2        (39, 2)\n",
       "3       (57, 17)\n",
       "4        (54, 2)\n",
       "          ...   \n",
       "4362    (24, 26)\n",
       "4363     (43, 7)\n",
       "4364    (26, 40)\n",
       "4365      (9, 8)\n",
       "4366     (42, 6)\n",
       "Name: interval_id, Length: 4367, dtype: object"
      ]
     },
     "execution_count": 89,
     "metadata": {},
     "output_type": "execute_result"
    }
   ],
   "source": [
    "df_intervals['interval_id'].apply(get_max_frames_number_for_token)"
   ]
  },
  {
   "cell_type": "code",
   "execution_count": 90,
   "metadata": {},
   "outputs": [],
   "source": [
    "df_intervals['max_frames_token'], df_intervals['max_token_frames_token_idx'] = \\\n",
    "    zip(*df_intervals['interval_id'].apply(get_max_frames_number_for_token))"
   ]
  },
  {
   "cell_type": "code",
   "execution_count": 91,
   "metadata": {
    "jupyter": {
     "source_hidden": true
    }
   },
   "outputs": [
    {
     "data": {
      "text/html": [
       "<div>\n",
       "<style scoped>\n",
       "    .dataframe tbody tr th:only-of-type {\n",
       "        vertical-align: middle;\n",
       "    }\n",
       "\n",
       "    .dataframe tbody tr th {\n",
       "        vertical-align: top;\n",
       "    }\n",
       "\n",
       "    .dataframe thead th {\n",
       "        text-align: right;\n",
       "    }\n",
       "</style>\n",
       "<table border=\"1\" class=\"dataframe\">\n",
       "  <thead>\n",
       "    <tr style=\"text-align: right;\">\n",
       "      <th></th>\n",
       "      <th>Unnamed: 0</th>\n",
       "      <th>Unnamed: 0.1</th>\n",
       "      <th>dataset</th>\n",
       "      <th>duration</th>\n",
       "      <th>end_time</th>\n",
       "      <th>interval_id</th>\n",
       "      <th>speaker</th>\n",
       "      <th>start_time</th>\n",
       "      <th>video_fn</th>\n",
       "      <th>video_link</th>\n",
       "      <th>...</th>\n",
       "      <th>video_id</th>\n",
       "      <th>max_frames_token</th>\n",
       "      <th>valid</th>\n",
       "      <th>valid_max_frames_per_token</th>\n",
       "      <th>valid_duration</th>\n",
       "      <th>valid_single_token_per_frame</th>\n",
       "      <th>video_downloded</th>\n",
       "      <th>valid_hd5</th>\n",
       "      <th>max_token_frames_token_idx</th>\n",
       "      <th>valid_max_token_duration</th>\n",
       "    </tr>\n",
       "  </thead>\n",
       "  <tbody>\n",
       "    <tr>\n",
       "      <th>0</th>\n",
       "      <td>79922</td>\n",
       "      <td>79922</td>\n",
       "      <td>train</td>\n",
       "      <td>7.23</td>\n",
       "      <td>0 days 00:00:08.090000</td>\n",
       "      <td>cmu0000033570</td>\n",
       "      <td>noah</td>\n",
       "      <td>0 days 00:00:00.860000</td>\n",
       "      <td>rUZL4z5Drcw</td>\n",
       "      <td>https://www.youtube.com/watch?v=rUZL4z5Drcw</td>\n",
       "      <td>...</td>\n",
       "      <td>rUZL4z5Drcw</td>\n",
       "      <td>-1</td>\n",
       "      <td>False</td>\n",
       "      <td>False</td>\n",
       "      <td>False</td>\n",
       "      <td>True</td>\n",
       "      <td>False</td>\n",
       "      <td>False</td>\n",
       "      <td>-1</td>\n",
       "      <td>True</td>\n",
       "    </tr>\n",
       "    <tr>\n",
       "      <th>1</th>\n",
       "      <td>79923</td>\n",
       "      <td>79923</td>\n",
       "      <td>train</td>\n",
       "      <td>7.80</td>\n",
       "      <td>0 days 00:00:30.700000</td>\n",
       "      <td>cmu0000033572</td>\n",
       "      <td>noah</td>\n",
       "      <td>0 days 00:00:22.900000</td>\n",
       "      <td>rUZL4z5Drcw</td>\n",
       "      <td>https://www.youtube.com/watch?v=rUZL4z5Drcw</td>\n",
       "      <td>...</td>\n",
       "      <td>rUZL4z5Drcw</td>\n",
       "      <td>118</td>\n",
       "      <td>False</td>\n",
       "      <td>False</td>\n",
       "      <td>False</td>\n",
       "      <td>True</td>\n",
       "      <td>False</td>\n",
       "      <td>True</td>\n",
       "      <td>0</td>\n",
       "      <td>True</td>\n",
       "    </tr>\n",
       "  </tbody>\n",
       "</table>\n",
       "<p>2 rows × 24 columns</p>\n",
       "</div>"
      ],
      "text/plain": [
       "   Unnamed: 0  Unnamed: 0.1 dataset  duration                end_time  \\\n",
       "0       79922         79922   train      7.23  0 days 00:00:08.090000   \n",
       "1       79923         79923   train      7.80  0 days 00:00:30.700000   \n",
       "\n",
       "     interval_id speaker              start_time     video_fn  \\\n",
       "0  cmu0000033570    noah  0 days 00:00:00.860000  rUZL4z5Drcw   \n",
       "1  cmu0000033572    noah  0 days 00:00:22.900000  rUZL4z5Drcw   \n",
       "\n",
       "                                    video_link  ...     video_id  \\\n",
       "0  https://www.youtube.com/watch?v=rUZL4z5Drcw  ...  rUZL4z5Drcw   \n",
       "1  https://www.youtube.com/watch?v=rUZL4z5Drcw  ...  rUZL4z5Drcw   \n",
       "\n",
       "  max_frames_token  valid valid_max_frames_per_token valid_duration  \\\n",
       "0               -1  False                      False          False   \n",
       "1              118  False                      False          False   \n",
       "\n",
       "   valid_single_token_per_frame  video_downloded  valid_hd5  \\\n",
       "0                          True            False      False   \n",
       "1                          True            False       True   \n",
       "\n",
       "   max_token_frames_token_idx  valid_max_token_duration  \n",
       "0                          -1                      True  \n",
       "1                           0                      True  \n",
       "\n",
       "[2 rows x 24 columns]"
      ]
     },
     "execution_count": 91,
     "metadata": {},
     "output_type": "execute_result"
    }
   ],
   "source": [
    "df_intervals.head(n=2)"
   ]
  },
  {
   "cell_type": "code",
   "execution_count": 92,
   "metadata": {},
   "outputs": [
    {
     "data": {
      "image/png": "[encoded data removed]",
      "text/plain": [
       "<Figure size 360x360 with 1 Axes>"
      ]
     },
     "metadata": {},
     "output_type": "display_data"
    }
   ],
   "source": [
    "sns.set_style('ticks')\n",
    "sns.displot(df_intervals[df_intervals['max_frames_token'] != -1]['max_frames_token'])\n",
    "plt.axvline(MAX_FRAMES_THRESHOLD, color='deeppink');"
   ]
  },
  {
   "cell_type": "code",
   "execution_count": 93,
   "metadata": {},
   "outputs": [
    {
     "data": {
      "text/plain": [
       "(4367, 24)"
      ]
     },
     "execution_count": 93,
     "metadata": {},
     "output_type": "execute_result"
    }
   ],
   "source": [
    "df_intervals.shape"
   ]
  },
  {
   "cell_type": "code",
   "execution_count": 94,
   "metadata": {},
   "outputs": [
    {
     "data": {
      "text/html": [
       "<style  type=\"text/css\" >\n",
       "    #T_420da160_7848_11ec_b11a_9346d5fa91fe caption {\n",
       "          color: blue;\n",
       "          font-size: 16px;\n",
       "    }</style><table id=\"T_420da160_7848_11ec_b11a_9346d5fa91fe\" ><caption>Valid Token Duration</caption><thead>    <tr>        <th class=\"blank level0\" ></th>        <th class=\"col_heading level0 col0\" >valid_max_token_duration</th>    </tr></thead><tbody>\n",
       "                <tr>\n",
       "                        <th id=\"T_420da160_7848_11ec_b11a_9346d5fa91felevel0_row0\" class=\"row_heading level0 row0\" >True</th>\n",
       "                        <td id=\"T_420da160_7848_11ec_b11a_9346d5fa91ferow0_col0\" class=\"data row0 col0\" >4056</td>\n",
       "            </tr>\n",
       "            <tr>\n",
       "                        <th id=\"T_420da160_7848_11ec_b11a_9346d5fa91felevel0_row1\" class=\"row_heading level0 row1\" >False</th>\n",
       "                        <td id=\"T_420da160_7848_11ec_b11a_9346d5fa91ferow1_col0\" class=\"data row1 col0\" >311</td>\n",
       "            </tr>\n",
       "    </tbody></table>"
      ],
      "text/plain": [
       "<pandas.io.formats.style.Styler at 0x7f39a6f900f0>"
      ]
     },
     "metadata": {},
     "output_type": "display_data"
    }
   ],
   "source": [
    "mask_below_max_frames_limit = (df_intervals['max_frames_token'] < MAX_FRAMES_THRESHOLD)\n",
    "mask_known_max_frames = (df_intervals['max_frames_token'] != UNKNOWN_MAX_FRAMES_PER_TOKEN) \n",
    "\n",
    "df_intervals['valid_max_token_duration'] = mask_below_max_frames_limit & mask_known_max_frames\n",
    "display_value_counts(df_intervals['valid_max_token_duration'], 'Valid Token Duration')"
   ]
  },
  {
   "cell_type": "code",
   "execution_count": 105,
   "metadata": {},
   "outputs": [
    {
     "data": {
      "text/html": [
       "<div>\n",
       "<style scoped>\n",
       "    .dataframe tbody tr th:only-of-type {\n",
       "        vertical-align: middle;\n",
       "    }\n",
       "\n",
       "    .dataframe tbody tr th {\n",
       "        vertical-align: top;\n",
       "    }\n",
       "\n",
       "    .dataframe thead th {\n",
       "        text-align: right;\n",
       "    }\n",
       "</style>\n",
       "<table border=\"1\" class=\"dataframe\">\n",
       "  <thead>\n",
       "    <tr style=\"text-align: right;\">\n",
       "      <th></th>\n",
       "      <th>speaker</th>\n",
       "      <th>interval_id</th>\n",
       "      <th>duration</th>\n",
       "      <th>start_time_string</th>\n",
       "      <th>end_time_string</th>\n",
       "      <th>video_link</th>\n",
       "      <th>max_frames_token</th>\n",
       "      <th>max_token_frames_token_idx</th>\n",
       "    </tr>\n",
       "  </thead>\n",
       "  <tbody>\n",
       "    <tr>\n",
       "      <th>3545</th>\n",
       "      <td>noah</td>\n",
       "      <td>cmu0000041198</td>\n",
       "      <td>15.17</td>\n",
       "      <td>00:01:33.63</td>\n",
       "      <td>00:01:48.79</td>\n",
       "      <td>https://www.youtube.com/watch?v=wHfNaPcCBNc</td>\n",
       "      <td>-1</td>\n",
       "      <td>-1</td>\n",
       "    </tr>\n",
       "    <tr>\n",
       "      <th>2653</th>\n",
       "      <td>noah</td>\n",
       "      <td>cmu0000039283</td>\n",
       "      <td>30.83</td>\n",
       "      <td>00:01:48.86</td>\n",
       "      <td>00:02:19.70</td>\n",
       "      <td>https://www.youtube.com/watch?v=htT9g1uHO00</td>\n",
       "      <td>-1</td>\n",
       "      <td>-1</td>\n",
       "    </tr>\n",
       "    <tr>\n",
       "      <th>153</th>\n",
       "      <td>noah</td>\n",
       "      <td>cmu0000033972</td>\n",
       "      <td>52.40</td>\n",
       "      <td>00:03:00.43</td>\n",
       "      <td>00:03:52.83</td>\n",
       "      <td>https://www.youtube.com/watch?v=-ouP4GOBamU</td>\n",
       "      <td>-1</td>\n",
       "      <td>-1</td>\n",
       "    </tr>\n",
       "    <tr>\n",
       "      <th>2483</th>\n",
       "      <td>noah</td>\n",
       "      <td>cmu0000038955</td>\n",
       "      <td>10.37</td>\n",
       "      <td>00:00:00.0</td>\n",
       "      <td>00:00:10.36</td>\n",
       "      <td>https://www.youtube.com/watch?v=VvdxznLY6jw</td>\n",
       "      <td>-1</td>\n",
       "      <td>-1</td>\n",
       "    </tr>\n",
       "    <tr>\n",
       "      <th>2159</th>\n",
       "      <td>noah</td>\n",
       "      <td>cmu0000038258</td>\n",
       "      <td>9.63</td>\n",
       "      <td>00:00:00.86</td>\n",
       "      <td>00:00:10.50</td>\n",
       "      <td>https://www.youtube.com/watch?v=kmpqnxpYUqA</td>\n",
       "      <td>-1</td>\n",
       "      <td>-1</td>\n",
       "    </tr>\n",
       "  </tbody>\n",
       "</table>\n",
       "</div>"
      ],
      "text/plain": [
       "     speaker    interval_id  duration start_time_string end_time_string  \\\n",
       "3545    noah  cmu0000041198     15.17       00:01:33.63     00:01:48.79   \n",
       "2653    noah  cmu0000039283     30.83       00:01:48.86     00:02:19.70   \n",
       "153     noah  cmu0000033972     52.40       00:03:00.43     00:03:52.83   \n",
       "2483    noah  cmu0000038955     10.37        00:00:00.0     00:00:10.36   \n",
       "2159    noah  cmu0000038258      9.63       00:00:00.86     00:00:10.50   \n",
       "\n",
       "                                       video_link  max_frames_token  \\\n",
       "3545  https://www.youtube.com/watch?v=wHfNaPcCBNc                -1   \n",
       "2653  https://www.youtube.com/watch?v=htT9g1uHO00                -1   \n",
       "153   https://www.youtube.com/watch?v=-ouP4GOBamU                -1   \n",
       "2483  https://www.youtube.com/watch?v=VvdxznLY6jw                -1   \n",
       "2159  https://www.youtube.com/watch?v=kmpqnxpYUqA                -1   \n",
       "\n",
       "      max_token_frames_token_idx  \n",
       "3545                          -1  \n",
       "2653                          -1  \n",
       "153                           -1  \n",
       "2483                          -1  \n",
       "2159                          -1  "
      ]
     },
     "execution_count": 105,
     "metadata": {},
     "output_type": "execute_result"
    }
   ],
   "source": [
    "df_intervals[~(df_intervals['valid_max_token_duration'])].sample(n=5)[COLS_VIEW + ['max_frames_token', 'max_token_frames_token_idx']]"
   ]
  },
  {
   "cell_type": "code",
   "execution_count": 98,
   "metadata": {},
   "outputs": [
    {
     "data": {
      "text/html": [
       "<div>\n",
       "<style scoped>\n",
       "    .dataframe tbody tr th:only-of-type {\n",
       "        vertical-align: middle;\n",
       "    }\n",
       "\n",
       "    .dataframe tbody tr th {\n",
       "        vertical-align: top;\n",
       "    }\n",
       "\n",
       "    .dataframe thead th {\n",
       "        text-align: right;\n",
       "    }\n",
       "</style>\n",
       "<table border=\"1\" class=\"dataframe\">\n",
       "  <thead>\n",
       "    <tr style=\"text-align: right;\">\n",
       "      <th></th>\n",
       "      <th>speaker</th>\n",
       "      <th>interval_id</th>\n",
       "      <th>duration</th>\n",
       "      <th>start_time_string</th>\n",
       "      <th>end_time_string</th>\n",
       "      <th>video_link</th>\n",
       "      <th>max_frames_token</th>\n",
       "      <th>max_token_frames_token_idx</th>\n",
       "    </tr>\n",
       "  </thead>\n",
       "  <tbody>\n",
       "    <tr>\n",
       "      <th>649</th>\n",
       "      <td>noah</td>\n",
       "      <td>cmu0000034989</td>\n",
       "      <td>22.37</td>\n",
       "      <td>00:03:28.13</td>\n",
       "      <td>00:03:50.50</td>\n",
       "      <td>https://www.youtube.com/watch?v=o5NFQrhisnw</td>\n",
       "      <td>189</td>\n",
       "      <td>10</td>\n",
       "    </tr>\n",
       "  </tbody>\n",
       "</table>\n",
       "</div>"
      ],
      "text/plain": [
       "    speaker    interval_id  duration start_time_string end_time_string  \\\n",
       "649    noah  cmu0000034989     22.37       00:03:28.13     00:03:50.50   \n",
       "\n",
       "                                      video_link  max_frames_token  \\\n",
       "649  https://www.youtube.com/watch?v=o5NFQrhisnw               189   \n",
       "\n",
       "     max_token_frames_token_idx  \n",
       "649                          10  "
      ]
     },
     "execution_count": 98,
     "metadata": {},
     "output_type": "execute_result"
    }
   ],
   "source": [
    "df_intervals[df_intervals['interval_id'] == 'cmu0000034989'][COLS_VIEW + ['max_frames_token', 'max_token_frames_token_idx']]"
   ]
  },
  {
   "cell_type": "code",
   "execution_count": 104,
   "metadata": {},
   "outputs": [
    {
     "data": {
      "text/plain": [
       "'fired her Trump Administration office and did it like that photoshoot'"
      ]
     },
     "execution_count": 104,
     "metadata": {},
     "output_type": "execute_result"
    }
   ],
   "source": [
    "read_text_str('cmu0000042143')"
   ]
  },
  {
   "cell_type": "code",
   "execution_count": 84,
   "metadata": {},
   "outputs": [
    {
     "data": {
      "text/html": [
       "<div>\n",
       "<style scoped>\n",
       "    .dataframe tbody tr th:only-of-type {\n",
       "        vertical-align: middle;\n",
       "    }\n",
       "\n",
       "    .dataframe tbody tr th {\n",
       "        vertical-align: top;\n",
       "    }\n",
       "\n",
       "    .dataframe thead th {\n",
       "        text-align: right;\n",
       "    }\n",
       "</style>\n",
       "<table border=\"1\" class=\"dataframe\">\n",
       "  <thead>\n",
       "    <tr style=\"text-align: right;\">\n",
       "      <th></th>\n",
       "      <th>word</th>\n",
       "      <th>start_frame</th>\n",
       "      <th>end_frame</th>\n",
       "      <th>frames_count</th>\n",
       "    </tr>\n",
       "  </thead>\n",
       "  <tbody>\n",
       "    <tr>\n",
       "      <th>100</th>\n",
       "      <td>know</td>\n",
       "      <td>534</td>\n",
       "      <td>537</td>\n",
       "      <td>3</td>\n",
       "    </tr>\n",
       "    <tr>\n",
       "      <th>101</th>\n",
       "      <td>what</td>\n",
       "      <td>537</td>\n",
       "      <td>540</td>\n",
       "      <td>3</td>\n",
       "    </tr>\n",
       "    <tr>\n",
       "      <th>102</th>\n",
       "      <td>I</td>\n",
       "      <td>540</td>\n",
       "      <td>542</td>\n",
       "      <td>2</td>\n",
       "    </tr>\n",
       "    <tr>\n",
       "      <th>103</th>\n",
       "      <td>bring</td>\n",
       "      <td>542</td>\n",
       "      <td>542</td>\n",
       "      <td>0</td>\n",
       "    </tr>\n",
       "    <tr>\n",
       "      <th>104</th>\n",
       "      <td>it</td>\n",
       "      <td>542</td>\n",
       "      <td>545</td>\n",
       "      <td>3</td>\n",
       "    </tr>\n",
       "    <tr>\n",
       "      <th>105</th>\n",
       "      <td>up</td>\n",
       "      <td>545</td>\n",
       "      <td>546</td>\n",
       "      <td>1</td>\n",
       "    </tr>\n",
       "    <tr>\n",
       "      <th>106</th>\n",
       "      <td>because</td>\n",
       "      <td>546</td>\n",
       "      <td>548</td>\n",
       "      <td>2</td>\n",
       "    </tr>\n",
       "    <tr>\n",
       "      <th>107</th>\n",
       "      <td>also</td>\n",
       "      <td>548</td>\n",
       "      <td>699</td>\n",
       "      <td>151</td>\n",
       "    </tr>\n",
       "    <tr>\n",
       "      <th>108</th>\n",
       "      <td>I</td>\n",
       "      <td>699</td>\n",
       "      <td>702</td>\n",
       "      <td>3</td>\n",
       "    </tr>\n",
       "    <tr>\n",
       "      <th>109</th>\n",
       "      <td>don't</td>\n",
       "      <td>702</td>\n",
       "      <td>704</td>\n",
       "      <td>2</td>\n",
       "    </tr>\n",
       "  </tbody>\n",
       "</table>\n",
       "</div>"
      ],
      "text/plain": [
       "        word  start_frame  end_frame  frames_count\n",
       "100     know          534        537             3\n",
       "101     what          537        540             3\n",
       "102        I          540        542             2\n",
       "103    bring          542        542             0\n",
       "104       it          542        545             3\n",
       "105       up          545        546             1\n",
       "106  because          546        548             2\n",
       "107     also          548        699           151\n",
       "108        I          699        702             3\n",
       "109    don't          702        704             2"
      ]
     },
     "execution_count": 84,
     "metadata": {},
     "output_type": "execute_result"
    }
   ],
   "source": [
    "read_text('cmu0000040509')[100:110]"
   ]
  },
  {
   "cell_type": "markdown",
   "metadata": {},
   "source": [
    "### Multiple Words Per Frame (`valid_single_token_per_frame`)"
   ]
  },
  {
   "cell_type": "code",
   "execution_count": 106,
   "metadata": {
    "jupyter": {
     "source_hidden": true
    }
   },
   "outputs": [
    {
     "name": "stdout",
     "output_type": "stream",
     "text": [
      "Start token unique: False\n"
     ]
    },
    {
     "data": {
      "text/html": [
       "<div>\n",
       "<style scoped>\n",
       "    .dataframe tbody tr th:only-of-type {\n",
       "        vertical-align: middle;\n",
       "    }\n",
       "\n",
       "    .dataframe tbody tr th {\n",
       "        vertical-align: top;\n",
       "    }\n",
       "\n",
       "    .dataframe thead th {\n",
       "        text-align: right;\n",
       "    }\n",
       "</style>\n",
       "<table border=\"1\" class=\"dataframe\">\n",
       "  <thead>\n",
       "    <tr style=\"text-align: right;\">\n",
       "      <th></th>\n",
       "      <th>word</th>\n",
       "      <th>start_frame</th>\n",
       "      <th>end_frame</th>\n",
       "      <th>frames_count</th>\n",
       "    </tr>\n",
       "  </thead>\n",
       "  <tbody>\n",
       "    <tr>\n",
       "      <th>24</th>\n",
       "      <td>felt</td>\n",
       "      <td>149</td>\n",
       "      <td>154</td>\n",
       "      <td>5</td>\n",
       "    </tr>\n",
       "    <tr>\n",
       "      <th>25</th>\n",
       "      <td>that</td>\n",
       "      <td>154</td>\n",
       "      <td>155</td>\n",
       "      <td>1</td>\n",
       "    </tr>\n",
       "    <tr>\n",
       "      <th>26</th>\n",
       "      <td>you</td>\n",
       "      <td>155</td>\n",
       "      <td>157</td>\n",
       "      <td>2</td>\n",
       "    </tr>\n",
       "    <tr>\n",
       "      <th>27</th>\n",
       "      <td>need</td>\n",
       "      <td>157</td>\n",
       "      <td>160</td>\n",
       "      <td>3</td>\n",
       "    </tr>\n",
       "    <tr>\n",
       "      <th>28</th>\n",
       "      <td>to</td>\n",
       "      <td>160</td>\n",
       "      <td>161</td>\n",
       "      <td>1</td>\n",
       "    </tr>\n",
       "    <tr>\n",
       "      <th>29</th>\n",
       "      <td>do</td>\n",
       "      <td>161</td>\n",
       "      <td>163</td>\n",
       "      <td>2</td>\n",
       "    </tr>\n",
       "    <tr>\n",
       "      <th>30</th>\n",
       "      <td>you</td>\n",
       "      <td>163</td>\n",
       "      <td>181</td>\n",
       "      <td>18</td>\n",
       "    </tr>\n",
       "    <tr>\n",
       "      <th>31</th>\n",
       "      <td>need</td>\n",
       "      <td>181</td>\n",
       "      <td>181</td>\n",
       "      <td>0</td>\n",
       "    </tr>\n",
       "    <tr>\n",
       "      <th>32</th>\n",
       "      <td>to</td>\n",
       "      <td>181</td>\n",
       "      <td>184</td>\n",
       "      <td>3</td>\n",
       "    </tr>\n",
       "    <tr>\n",
       "      <th>33</th>\n",
       "      <td>get</td>\n",
       "      <td>184</td>\n",
       "      <td>185</td>\n",
       "      <td>1</td>\n",
       "    </tr>\n",
       "    <tr>\n",
       "      <th>34</th>\n",
       "      <td>them</td>\n",
       "      <td>185</td>\n",
       "      <td>190</td>\n",
       "      <td>5</td>\n",
       "    </tr>\n",
       "    <tr>\n",
       "      <th>35</th>\n",
       "      <td>check</td>\n",
       "      <td>190</td>\n",
       "      <td>197</td>\n",
       "      <td>7</td>\n",
       "    </tr>\n",
       "    <tr>\n",
       "      <th>36</th>\n",
       "      <td>okay</td>\n",
       "      <td>197</td>\n",
       "      <td>251</td>\n",
       "      <td>54</td>\n",
       "    </tr>\n",
       "    <tr>\n",
       "      <th>37</th>\n",
       "      <td>and</td>\n",
       "      <td>251</td>\n",
       "      <td>257</td>\n",
       "      <td>6</td>\n",
       "    </tr>\n",
       "    <tr>\n",
       "      <th>38</th>\n",
       "      <td>also</td>\n",
       "      <td>257</td>\n",
       "      <td>262</td>\n",
       "      <td>5</td>\n",
       "    </tr>\n",
       "    <tr>\n",
       "      <th>39</th>\n",
       "      <td>I</td>\n",
       "      <td>262</td>\n",
       "      <td>272</td>\n",
       "      <td>10</td>\n",
       "    </tr>\n",
       "  </tbody>\n",
       "</table>\n",
       "</div>"
      ],
      "text/plain": [
       "     word  start_frame  end_frame  frames_count\n",
       "24   felt          149        154             5\n",
       "25   that          154        155             1\n",
       "26    you          155        157             2\n",
       "27   need          157        160             3\n",
       "28     to          160        161             1\n",
       "29     do          161        163             2\n",
       "30    you          163        181            18\n",
       "31   need          181        181             0\n",
       "32     to          181        184             3\n",
       "33    get          184        185             1\n",
       "34   them          185        190             5\n",
       "35  check          190        197             7\n",
       "36   okay          197        251            54\n",
       "37    and          251        257             6\n",
       "38   also          257        262             5\n",
       "39      I          262        272            10"
      ]
     },
     "execution_count": 106,
     "metadata": {},
     "output_type": "execute_result"
    }
   ],
   "source": [
    "df_tokens = read_text('cmu0000035126')\n",
    "# printmd(f'**Video path**: {resolve_interval_video_path(\"101204\")}')\n",
    "# printmd(f'**Text path**: {resolve_interval_text_path(\"101204\")}')\n",
    "print(f'Start token unique: {df_tokens[\"start_frame\"].is_unique}')\n",
    "df_tokens[24:40]"
   ]
  },
  {
   "cell_type": "code",
   "execution_count": 107,
   "metadata": {
    "jupyter": {
     "source_hidden": true
    }
   },
   "outputs": [],
   "source": [
    "MAX_TOKENS_PER_FRAME_LIMIT = 2 # allow not more two tokens with the same start frame\n",
    "\n",
    "def valid_single_frame_tokens_count(interval_id):\n",
    "    df_tokens = interval_id_to_df_words.get(interval_id)\n",
    "    if df_tokens is None:\n",
    "        return False\n",
    "    max_tokens_per_frame = df_tokens['start_frame'].value_counts().max()\n",
    "    return max_tokens_per_frame <= MAX_TOKENS_PER_FRAME_LIMIT"
   ]
  },
  {
   "cell_type": "code",
   "execution_count": 109,
   "metadata": {
    "jupyter": {
     "source_hidden": true
    }
   },
   "outputs": [],
   "source": [
    "df_intervals['valid_single_token_per_frame'] = df_intervals['interval_id'].apply(valid_single_frame_tokens_count)"
   ]
  },
  {
   "cell_type": "code",
   "execution_count": 110,
   "metadata": {
    "jupyter": {
     "source_hidden": true
    }
   },
   "outputs": [
    {
     "data": {
      "text/html": [
       "<style  type=\"text/css\" >\n",
       "    #T_dfd11562_7848_11ec_b11a_9346d5fa91fe caption {\n",
       "          color: blue;\n",
       "          font-size: 16px;\n",
       "    }</style><table id=\"T_dfd11562_7848_11ec_b11a_9346d5fa91fe\" ><caption>Max of 2 tokens per frame</caption><thead>    <tr>        <th class=\"blank level0\" ></th>        <th class=\"col_heading level0 col0\" >valid_single_token_per_frame</th>    </tr></thead><tbody>\n",
       "                <tr>\n",
       "                        <th id=\"T_dfd11562_7848_11ec_b11a_9346d5fa91felevel0_row0\" class=\"row_heading level0 row0\" >True</th>\n",
       "                        <td id=\"T_dfd11562_7848_11ec_b11a_9346d5fa91ferow0_col0\" class=\"data row0 col0\" >4059</td>\n",
       "            </tr>\n",
       "            <tr>\n",
       "                        <th id=\"T_dfd11562_7848_11ec_b11a_9346d5fa91felevel0_row1\" class=\"row_heading level0 row1\" >False</th>\n",
       "                        <td id=\"T_dfd11562_7848_11ec_b11a_9346d5fa91ferow1_col0\" class=\"data row1 col0\" >308</td>\n",
       "            </tr>\n",
       "    </tbody></table>"
      ],
      "text/plain": [
       "<pandas.io.formats.style.Styler at 0x7f39a699c1d0>"
      ]
     },
     "metadata": {},
     "output_type": "display_data"
    }
   ],
   "source": [
    "display_value_counts(df_intervals['valid_single_token_per_frame'], f'Max of {MAX_TOKENS_PER_FRAME_LIMIT} tokens per frame')"
   ]
  },
  {
   "cell_type": "code",
   "execution_count": 114,
   "metadata": {},
   "outputs": [
    {
     "data": {
      "text/html": [
       "<style  type=\"text/css\" >\n",
       "    #T_2456094a_7849_11ec_b11a_9346d5fa91fe caption {\n",
       "          color: blue;\n",
       "          font-size: 16px;\n",
       "    }</style><table id=\"T_2456094a_7849_11ec_b11a_9346d5fa91fe\" ><caption>Valid so far</caption><thead>    <tr>        <th class=\"blank level0\" ></th>        <th class=\"col_heading level0 col0\" >0</th>    </tr></thead><tbody>\n",
       "                <tr>\n",
       "                        <th id=\"T_2456094a_7849_11ec_b11a_9346d5fa91felevel0_row0\" class=\"row_heading level0 row0\" >True</th>\n",
       "                        <td id=\"T_2456094a_7849_11ec_b11a_9346d5fa91ferow0_col0\" class=\"data row0 col0\" >4007</td>\n",
       "            </tr>\n",
       "            <tr>\n",
       "                        <th id=\"T_2456094a_7849_11ec_b11a_9346d5fa91felevel0_row1\" class=\"row_heading level0 row1\" >False</th>\n",
       "                        <td id=\"T_2456094a_7849_11ec_b11a_9346d5fa91ferow1_col0\" class=\"data row1 col0\" >360</td>\n",
       "            </tr>\n",
       "    </tbody></table>"
      ],
      "text/plain": [
       "<pandas.io.formats.style.Styler at 0x7f39a69a77f0>"
      ]
     },
     "metadata": {},
     "output_type": "display_data"
    }
   ],
   "source": [
    "display_value_counts(\n",
    "    (df_intervals['valid_single_token_per_frame']) & (df_intervals['valid_max_token_duration']),\n",
    "    'Valid so far'\n",
    ")"
   ]
  },
  {
   "cell_type": "markdown",
   "metadata": {},
   "source": [
    "### Frame Count (`valid_frames_count`)"
   ]
  },
  {
   "cell_type": "code",
   "execution_count": 115,
   "metadata": {
    "jupyter": {
     "source_hidden": true
    }
   },
   "outputs": [],
   "source": [
    "def valid_interval_frame_count(interval_id, duration):\n",
    "    df_tokens = interval_id_to_df_words.get(interval_id)\n",
    "    if df_tokens is None:\n",
    "        return False\n",
    "    total_frames = df_tokens['end_frame'].max()\n",
    "    max_tokens_per_frame = df_tokens['start_frame'].value_counts().max()\n",
    "    lower_bound = (duration - 2) * FRAME_RATE\n",
    "    upper_bound = (duration + 1) * FRAME_RATE\n",
    "    is_valid = lower_bound <= total_frames <= upper_bound\n",
    "    debug_symbol = '✓' if is_valid else '✗'\n",
    "    if interval_id in df_intervals['interval_id'][:10].tolist():\n",
    "        print(debug_symbol, interval_id, round(lower_bound, 2), total_frames, round(upper_bound, 2))\n",
    "    return lower_bound <= total_frames <= upper_bound"
   ]
  },
  {
   "cell_type": "code",
   "execution_count": 116,
   "metadata": {
    "jupyter": {
     "source_hidden": true
    }
   },
   "outputs": [
    {
     "name": "stdout",
     "output_type": "stream",
     "text": [
      "✓ cmu0000033572 87.0 118 132.0\n",
      "✓ cmu0000033573 210.5 241 255.5\n",
      "✓ cmu0000033576 230.5 261 275.5\n",
      "✓ cmu0000033589 165.0 196 210.0\n",
      "✓ cmu0000033591 537.0 568 582.0\n",
      "✓ cmu0000033592 149.5 180 194.5\n",
      "✓ cmu0000033594 238.0 269 283.0\n",
      "✓ cmu0000033595 525.0 556 570.0\n",
      "✓ cmu0000033596 57.5 88 102.5\n"
     ]
    }
   ],
   "source": [
    "df_intervals['valid_frames_count'] = df_intervals[['interval_id', 'duration']].apply(lambda x: valid_interval_frame_count(*x), axis=1)"
   ]
  },
  {
   "cell_type": "code",
   "execution_count": 117,
   "metadata": {
    "jupyter": {
     "source_hidden": true
    }
   },
   "outputs": [
    {
     "data": {
      "text/html": [
       "<style  type=\"text/css\" >\n",
       "    #T_2f819f82_7849_11ec_b11a_9346d5fa91fe caption {\n",
       "          color: blue;\n",
       "          font-size: 16px;\n",
       "    }</style><table id=\"T_2f819f82_7849_11ec_b11a_9346d5fa91fe\" ><caption>Frame Count = Frame Rate * Seconds</caption><thead>    <tr>        <th class=\"blank level0\" ></th>        <th class=\"col_heading level0 col0\" >valid_frames_count</th>    </tr></thead><tbody>\n",
       "                <tr>\n",
       "                        <th id=\"T_2f819f82_7849_11ec_b11a_9346d5fa91felevel0_row0\" class=\"row_heading level0 row0\" >True</th>\n",
       "                        <td id=\"T_2f819f82_7849_11ec_b11a_9346d5fa91ferow0_col0\" class=\"data row0 col0\" >4109</td>\n",
       "            </tr>\n",
       "            <tr>\n",
       "                        <th id=\"T_2f819f82_7849_11ec_b11a_9346d5fa91felevel0_row1\" class=\"row_heading level0 row1\" >False</th>\n",
       "                        <td id=\"T_2f819f82_7849_11ec_b11a_9346d5fa91ferow1_col0\" class=\"data row1 col0\" >258</td>\n",
       "            </tr>\n",
       "    </tbody></table>"
      ],
      "text/plain": [
       "<pandas.io.formats.style.Styler at 0x7f39a69a7dd8>"
      ]
     },
     "metadata": {},
     "output_type": "display_data"
    }
   ],
   "source": [
    "display_value_counts(df_intervals['valid_frames_count'], f'Frame Count = Frame Rate * Seconds')"
   ]
  },
  {
   "cell_type": "code",
   "execution_count": 118,
   "metadata": {},
   "outputs": [
    {
     "data": {
      "text/html": [
       "<style  type=\"text/css\" >\n",
       "    #T_4626e300_7849_11ec_b11a_9346d5fa91fe caption {\n",
       "          color: blue;\n",
       "          font-size: 16px;\n",
       "    }</style><table id=\"T_4626e300_7849_11ec_b11a_9346d5fa91fe\" ><caption>Valid so far</caption><thead>    <tr>        <th class=\"blank level0\" ></th>        <th class=\"col_heading level0 col0\" >0</th>    </tr></thead><tbody>\n",
       "                <tr>\n",
       "                        <th id=\"T_4626e300_7849_11ec_b11a_9346d5fa91felevel0_row0\" class=\"row_heading level0 row0\" >True</th>\n",
       "                        <td id=\"T_4626e300_7849_11ec_b11a_9346d5fa91ferow0_col0\" class=\"data row0 col0\" >4007</td>\n",
       "            </tr>\n",
       "            <tr>\n",
       "                        <th id=\"T_4626e300_7849_11ec_b11a_9346d5fa91felevel0_row1\" class=\"row_heading level0 row1\" >False</th>\n",
       "                        <td id=\"T_4626e300_7849_11ec_b11a_9346d5fa91ferow1_col0\" class=\"data row1 col0\" >360</td>\n",
       "            </tr>\n",
       "    </tbody></table>"
      ],
      "text/plain": [
       "<pandas.io.formats.style.Styler at 0x7f39a1c0efd0>"
      ]
     },
     "metadata": {},
     "output_type": "display_data"
    }
   ],
   "source": [
    "display_value_counts(\n",
    "    ((df_intervals['valid_single_token_per_frame']) &\n",
    "     (df_intervals['valid_max_token_duration']) &\n",
    "     df_intervals['valid_frames_count']),\n",
    "    'Valid so far'\n",
    ")"
   ]
  },
  {
   "cell_type": "code",
   "execution_count": 119,
   "metadata": {
    "jupyter": {
     "source_hidden": true
    }
   },
   "outputs": [
    {
     "data": {
      "text/html": [
       "<div>\n",
       "<style scoped>\n",
       "    .dataframe tbody tr th:only-of-type {\n",
       "        vertical-align: middle;\n",
       "    }\n",
       "\n",
       "    .dataframe tbody tr th {\n",
       "        vertical-align: top;\n",
       "    }\n",
       "\n",
       "    .dataframe thead th {\n",
       "        text-align: right;\n",
       "    }\n",
       "</style>\n",
       "<table border=\"1\" class=\"dataframe\">\n",
       "  <thead>\n",
       "    <tr style=\"text-align: right;\">\n",
       "      <th></th>\n",
       "      <th>word</th>\n",
       "      <th>start_frame</th>\n",
       "      <th>end_frame</th>\n",
       "      <th>frames_count</th>\n",
       "    </tr>\n",
       "  </thead>\n",
       "  <tbody>\n",
       "    <tr>\n",
       "      <th>0</th>\n",
       "      <td>granny</td>\n",
       "      <td>0</td>\n",
       "      <td>40</td>\n",
       "      <td>40</td>\n",
       "    </tr>\n",
       "    <tr>\n",
       "      <th>1</th>\n",
       "      <td>you</td>\n",
       "      <td>40</td>\n",
       "      <td>58</td>\n",
       "      <td>18</td>\n",
       "    </tr>\n",
       "    <tr>\n",
       "      <th>2</th>\n",
       "      <td>think</td>\n",
       "      <td>58</td>\n",
       "      <td>62</td>\n",
       "      <td>4</td>\n",
       "    </tr>\n",
       "    <tr>\n",
       "      <th>3</th>\n",
       "      <td>he's</td>\n",
       "      <td>62</td>\n",
       "      <td>65</td>\n",
       "      <td>3</td>\n",
       "    </tr>\n",
       "    <tr>\n",
       "      <th>4</th>\n",
       "      <td>doing</td>\n",
       "      <td>65</td>\n",
       "      <td>67</td>\n",
       "      <td>2</td>\n",
       "    </tr>\n",
       "    <tr>\n",
       "      <th>5</th>\n",
       "      <td>a</td>\n",
       "      <td>67</td>\n",
       "      <td>70</td>\n",
       "      <td>3</td>\n",
       "    </tr>\n",
       "    <tr>\n",
       "      <th>6</th>\n",
       "      <td>good</td>\n",
       "      <td>70</td>\n",
       "      <td>73</td>\n",
       "      <td>3</td>\n",
       "    </tr>\n",
       "    <tr>\n",
       "      <th>7</th>\n",
       "      <td>job</td>\n",
       "      <td>73</td>\n",
       "      <td>76</td>\n",
       "      <td>3</td>\n",
       "    </tr>\n",
       "    <tr>\n",
       "      <th>8</th>\n",
       "      <td>as</td>\n",
       "      <td>76</td>\n",
       "      <td>82</td>\n",
       "      <td>6</td>\n",
       "    </tr>\n",
       "    <tr>\n",
       "      <th>9</th>\n",
       "      <td>president</td>\n",
       "      <td>82</td>\n",
       "      <td>85</td>\n",
       "      <td>3</td>\n",
       "    </tr>\n",
       "    <tr>\n",
       "      <th>10</th>\n",
       "      <td>Orrin</td>\n",
       "      <td>85</td>\n",
       "      <td>101</td>\n",
       "      <td>16</td>\n",
       "    </tr>\n",
       "    <tr>\n",
       "      <th>11</th>\n",
       "      <td>Hatch</td>\n",
       "      <td>101</td>\n",
       "      <td>104</td>\n",
       "      <td>3</td>\n",
       "    </tr>\n",
       "    <tr>\n",
       "      <th>12</th>\n",
       "      <td>you</td>\n",
       "      <td>104</td>\n",
       "      <td>107</td>\n",
       "      <td>3</td>\n",
       "    </tr>\n",
       "    <tr>\n",
       "      <th>13</th>\n",
       "      <td>you</td>\n",
       "      <td>107</td>\n",
       "      <td>109</td>\n",
       "      <td>2</td>\n",
       "    </tr>\n",
       "    <tr>\n",
       "      <th>14</th>\n",
       "      <td>need</td>\n",
       "      <td>109</td>\n",
       "      <td>113</td>\n",
       "      <td>4</td>\n",
       "    </tr>\n",
       "    <tr>\n",
       "      <th>15</th>\n",
       "      <td>to</td>\n",
       "      <td>113</td>\n",
       "      <td>113</td>\n",
       "      <td>0</td>\n",
       "    </tr>\n",
       "    <tr>\n",
       "      <th>16</th>\n",
       "      <td>get</td>\n",
       "      <td>113</td>\n",
       "      <td>116</td>\n",
       "      <td>3</td>\n",
       "    </tr>\n",
       "    <tr>\n",
       "      <th>17</th>\n",
       "      <td>your</td>\n",
       "      <td>116</td>\n",
       "      <td>119</td>\n",
       "      <td>3</td>\n",
       "    </tr>\n",
       "    <tr>\n",
       "      <th>18</th>\n",
       "      <td>imaginary</td>\n",
       "      <td>119</td>\n",
       "      <td>127</td>\n",
       "      <td>8</td>\n",
       "    </tr>\n",
       "    <tr>\n",
       "      <th>19</th>\n",
       "      <td>glasses</td>\n",
       "      <td>127</td>\n",
       "      <td>130</td>\n",
       "      <td>3</td>\n",
       "    </tr>\n",
       "  </tbody>\n",
       "</table>\n",
       "</div>"
      ],
      "text/plain": [
       "         word  start_frame  end_frame  frames_count\n",
       "0      granny            0         40            40\n",
       "1         you           40         58            18\n",
       "2       think           58         62             4\n",
       "3        he's           62         65             3\n",
       "4       doing           65         67             2\n",
       "5           a           67         70             3\n",
       "6        good           70         73             3\n",
       "7         job           73         76             3\n",
       "8          as           76         82             6\n",
       "9   president           82         85             3\n",
       "10      Orrin           85        101            16\n",
       "11      Hatch          101        104             3\n",
       "12        you          104        107             3\n",
       "13        you          107        109             2\n",
       "14       need          109        113             4\n",
       "15         to          113        113             0\n",
       "16        get          113        116             3\n",
       "17       your          116        119             3\n",
       "18  imaginary          119        127             8\n",
       "19    glasses          127        130             3"
      ]
     },
     "execution_count": 119,
     "metadata": {},
     "output_type": "execute_result"
    }
   ],
   "source": [
    "read_text('cmu0000035126').head(n=20)"
   ]
  },
  {
   "cell_type": "markdown",
   "metadata": {},
   "source": [
    "## Interval Video"
   ]
  },
  {
   "cell_type": "markdown",
   "metadata": {},
   "source": [
    "### Total Duration (`valid_duration`)"
   ]
  },
  {
   "cell_type": "code",
   "execution_count": 120,
   "metadata": {
    "jupyter": {
     "source_hidden": true
    }
   },
   "outputs": [],
   "source": [
    "MIN_DURATION_SECS_THRESHOLD = 5"
   ]
  },
  {
   "cell_type": "code",
   "execution_count": 121,
   "metadata": {
    "jupyter": {
     "source_hidden": true
    }
   },
   "outputs": [
    {
     "data": {
      "text/plain": [
       "Index(['Unnamed: 0', 'Unnamed: 0.1', 'dataset', 'duration', 'end_time',\n",
       "       'interval_id', 'speaker', 'start_time', 'video_fn', 'video_link',\n",
       "       'org_start_time', 'org_end_time', 'start_time_string',\n",
       "       'end_time_string', 'video_id', 'max_frames_token', 'valid',\n",
       "       'valid_max_frames_per_token', 'valid_duration',\n",
       "       'valid_single_token_per_frame', 'video_downloded', 'valid_hd5',\n",
       "       'max_token_frames_token_idx', 'valid_max_token_duration',\n",
       "       'valid_frames_count'],\n",
       "      dtype='object')"
      ]
     },
     "execution_count": 121,
     "metadata": {},
     "output_type": "execute_result"
    }
   ],
   "source": [
    "df_intervals.columns"
   ]
  },
  {
   "cell_type": "code",
   "execution_count": 122,
   "metadata": {
    "jupyter": {
     "source_hidden": true
    }
   },
   "outputs": [],
   "source": [
    "df_intervals['valid_duration'] = MIN_DURATION_SECS_THRESHOLD < df_intervals['duration']"
   ]
  },
  {
   "cell_type": "code",
   "execution_count": 123,
   "metadata": {},
   "outputs": [
    {
     "data": {
      "text/plain": [
       "Unnamed: 0                        int64\n",
       "Unnamed: 0.1                      int64\n",
       "dataset                          object\n",
       "duration                        float64\n",
       "end_time                         object\n",
       "interval_id                      object\n",
       "speaker                          object\n",
       "start_time                       object\n",
       "video_fn                         object\n",
       "video_link                       object\n",
       "org_start_time                   object\n",
       "org_end_time                     object\n",
       "start_time_string                object\n",
       "end_time_string                  object\n",
       "video_id                         object\n",
       "max_frames_token                  int64\n",
       "valid                              bool\n",
       "valid_max_frames_per_token         bool\n",
       "valid_duration                     bool\n",
       "valid_single_token_per_frame       bool\n",
       "video_downloded                    bool\n",
       "valid_hd5                          bool\n",
       "max_token_frames_token_idx        int64\n",
       "valid_max_token_duration           bool\n",
       "valid_frames_count                 bool\n",
       "dtype: object"
      ]
     },
     "execution_count": 123,
     "metadata": {},
     "output_type": "execute_result"
    }
   ],
   "source": [
    "df_intervals.dtypes"
   ]
  },
  {
   "cell_type": "code",
   "execution_count": 124,
   "metadata": {
    "jupyter": {
     "source_hidden": true
    }
   },
   "outputs": [
    {
     "data": {
      "text/html": [
       "<style  type=\"text/css\" >\n",
       "    #T_35ad409a_784a_11ec_b11a_9346d5fa91fe caption {\n",
       "          color: blue;\n",
       "          font-size: 16px;\n",
       "    }</style><table id=\"T_35ad409a_784a_11ec_b11a_9346d5fa91fe\" ><caption>Duration > 5 seconds</caption><thead>    <tr>        <th class=\"blank level0\" ></th>        <th class=\"col_heading level0 col0\" >valid_duration</th>    </tr></thead><tbody>\n",
       "                <tr>\n",
       "                        <th id=\"T_35ad409a_784a_11ec_b11a_9346d5fa91felevel0_row0\" class=\"row_heading level0 row0\" >True</th>\n",
       "                        <td id=\"T_35ad409a_784a_11ec_b11a_9346d5fa91ferow0_col0\" class=\"data row0 col0\" >4150</td>\n",
       "            </tr>\n",
       "            <tr>\n",
       "                        <th id=\"T_35ad409a_784a_11ec_b11a_9346d5fa91felevel0_row1\" class=\"row_heading level0 row1\" >False</th>\n",
       "                        <td id=\"T_35ad409a_784a_11ec_b11a_9346d5fa91ferow1_col0\" class=\"data row1 col0\" >217</td>\n",
       "            </tr>\n",
       "    </tbody></table>"
      ],
      "text/plain": [
       "<pandas.io.formats.style.Styler at 0x7f39a1e5a668>"
      ]
     },
     "metadata": {},
     "output_type": "display_data"
    }
   ],
   "source": [
    "display_value_counts(df_intervals['valid_duration'], f'Duration > {MIN_DURATION_SECS_THRESHOLD} seconds')"
   ]
  },
  {
   "cell_type": "markdown",
   "metadata": {},
   "source": [
    "## Intervals.merge(Videos)"
   ]
  },
  {
   "cell_type": "code",
   "execution_count": 323,
   "metadata": {},
   "outputs": [],
   "source": [
    "# df_intervals.drop('Unnamed: 0', inplace=True, axis=1)\n",
    "# df_intervals.drop('Unnamed: 0.1', inplace=True, axis=1)\n",
    "# df_intervals.drop('duration_total_x', inplace=True, axis=1)"
   ]
  },
  {
   "cell_type": "code",
   "execution_count": 125,
   "metadata": {},
   "outputs": [
    {
     "data": {
      "text/plain": [
       "Index(['Unnamed: 0', 'Unnamed: 0.1', 'dataset', 'duration', 'end_time',\n",
       "       'interval_id', 'speaker', 'start_time', 'video_fn', 'video_link',\n",
       "       'org_start_time', 'org_end_time', 'start_time_string',\n",
       "       'end_time_string', 'video_id', 'max_frames_token', 'valid',\n",
       "       'valid_max_frames_per_token', 'valid_duration',\n",
       "       'valid_single_token_per_frame', 'video_downloded', 'valid_hd5',\n",
       "       'max_token_frames_token_idx', 'valid_max_token_duration',\n",
       "       'valid_frames_count'],\n",
       "      dtype='object')"
      ]
     },
     "execution_count": 125,
     "metadata": {},
     "output_type": "execute_result"
    }
   ],
   "source": [
    "df_intervals.columns"
   ]
  },
  {
   "cell_type": "code",
   "execution_count": 126,
   "metadata": {},
   "outputs": [
    {
     "data": {
      "text/plain": [
       "Index(['speaker', 'duration_net', 'video_id', 'video_link', 'duration_total',\n",
       "       'data_ratio'],\n",
       "      dtype='object')"
      ]
     },
     "execution_count": 126,
     "metadata": {},
     "output_type": "execute_result"
    }
   ],
   "source": [
    "df_videos.columns"
   ]
  },
  {
   "cell_type": "code",
   "execution_count": 127,
   "metadata": {},
   "outputs": [
    {
     "data": {
      "text/plain": [
       "{'speaker', 'video_id', 'video_link'}"
      ]
     },
     "execution_count": 127,
     "metadata": {},
     "output_type": "execute_result"
    }
   ],
   "source": [
    "set(df_intervals.columns) & set(df_videos.columns)"
   ]
  },
  {
   "cell_type": "code",
   "execution_count": 128,
   "metadata": {},
   "outputs": [],
   "source": [
    "df_intervals = df_intervals.merge(df_videos, on=['speaker', 'video_id', 'video_link'])"
   ]
  },
  {
   "cell_type": "code",
   "execution_count": 129,
   "metadata": {},
   "outputs": [
    {
     "data": {
      "text/plain": [
       "Index(['Unnamed: 0', 'Unnamed: 0.1', 'dataset', 'duration', 'end_time',\n",
       "       'interval_id', 'speaker', 'start_time', 'video_fn', 'video_link',\n",
       "       'org_start_time', 'org_end_time', 'start_time_string',\n",
       "       'end_time_string', 'video_id', 'max_frames_token', 'valid',\n",
       "       'valid_max_frames_per_token', 'valid_duration',\n",
       "       'valid_single_token_per_frame', 'video_downloded', 'valid_hd5',\n",
       "       'max_token_frames_token_idx', 'valid_max_token_duration',\n",
       "       'valid_frames_count', 'duration_net', 'duration_total', 'data_ratio'],\n",
       "      dtype='object')"
      ]
     },
     "execution_count": 129,
     "metadata": {},
     "output_type": "execute_result"
    }
   ],
   "source": [
    "df_intervals.columns"
   ]
  },
  {
   "cell_type": "markdown",
   "metadata": {},
   "source": [
    "### Total Duration (`valid_video_data_ratio`)"
   ]
  },
  {
   "cell_type": "code",
   "execution_count": 130,
   "metadata": {},
   "outputs": [],
   "source": [
    "# The minimal allowed ratio between the total length of the intervals, to the full video length\n",
    "MIN_VIDEO_DATA_RATIO_THRESHOLD = 10"
   ]
  },
  {
   "cell_type": "code",
   "execution_count": 131,
   "metadata": {},
   "outputs": [],
   "source": [
    "df_intervals['valid_video_data_ratio'] = df_intervals['data_ratio'] > MIN_VIDEO_DATA_RATIO_THRESHOLD"
   ]
  },
  {
   "cell_type": "code",
   "execution_count": 132,
   "metadata": {},
   "outputs": [
    {
     "data": {
      "text/html": [
       "<style  type=\"text/css\" >\n",
       "    #T_3bb46b76_784a_11ec_b11a_9346d5fa91fe caption {\n",
       "          color: blue;\n",
       "          font-size: 16px;\n",
       "    }</style><table id=\"T_3bb46b76_784a_11ec_b11a_9346d5fa91fe\" ><caption>Video data ratio > 10%</caption><thead>    <tr>        <th class=\"blank level0\" ></th>        <th class=\"col_heading level0 col0\" >valid_video_data_ratio</th>    </tr></thead><tbody>\n",
       "                <tr>\n",
       "                        <th id=\"T_3bb46b76_784a_11ec_b11a_9346d5fa91felevel0_row0\" class=\"row_heading level0 row0\" >True</th>\n",
       "                        <td id=\"T_3bb46b76_784a_11ec_b11a_9346d5fa91ferow0_col0\" class=\"data row0 col0\" >4278</td>\n",
       "            </tr>\n",
       "            <tr>\n",
       "                        <th id=\"T_3bb46b76_784a_11ec_b11a_9346d5fa91felevel0_row1\" class=\"row_heading level0 row1\" >False</th>\n",
       "                        <td id=\"T_3bb46b76_784a_11ec_b11a_9346d5fa91ferow1_col0\" class=\"data row1 col0\" >89</td>\n",
       "            </tr>\n",
       "    </tbody></table>"
      ],
      "text/plain": [
       "<pandas.io.formats.style.Styler at 0x7f39a1e5a7b8>"
      ]
     },
     "metadata": {},
     "output_type": "display_data"
    }
   ],
   "source": [
    "display_value_counts(df_intervals['valid_video_data_ratio'], f'Video data ratio > {MIN_VIDEO_DATA_RATIO_THRESHOLD}%')"
   ]
  },
  {
   "cell_type": "markdown",
   "metadata": {},
   "source": [
    "## Finalize Valid"
   ]
  },
  {
   "cell_type": "code",
   "execution_count": 133,
   "metadata": {
    "jupyter": {
     "source_hidden": true
    }
   },
   "outputs": [
    {
     "data": {
      "text/plain": [
       "['valid_max_frames_per_token',\n",
       " 'valid_duration',\n",
       " 'valid_single_token_per_frame',\n",
       " 'valid_hd5',\n",
       " 'valid_max_token_duration',\n",
       " 'valid_frames_count',\n",
       " 'valid_video_data_ratio']"
      ]
     },
     "execution_count": 133,
     "metadata": {},
     "output_type": "execute_result"
    }
   ],
   "source": [
    "df_intervals.columns[df_intervals.columns.str.contains('valid_')].tolist()"
   ]
  },
  {
   "cell_type": "code",
   "execution_count": 134,
   "metadata": {
    "jupyter": {
     "source_hidden": true
    }
   },
   "outputs": [],
   "source": [
    "df_intervals.drop('valid_max_frames_per_token', axis=1, errors='ignore', inplace=True)"
   ]
  },
  {
   "cell_type": "code",
   "execution_count": 135,
   "metadata": {
    "jupyter": {
     "source_hidden": true
    }
   },
   "outputs": [],
   "source": [
    "COLS_VALID = [\n",
    "    'valid_duration',\n",
    "    'valid_single_token_per_frame',\n",
    "    'valid_hd5',\n",
    "    'valid_max_token_duration',\n",
    "    'valid_frames_count',\n",
    "    'valid_video_data_ratio'\n",
    "]"
   ]
  },
  {
   "cell_type": "code",
   "execution_count": 136,
   "metadata": {},
   "outputs": [
    {
     "data": {
      "text/html": [
       "<div>\n",
       "<style scoped>\n",
       "    .dataframe tbody tr th:only-of-type {\n",
       "        vertical-align: middle;\n",
       "    }\n",
       "\n",
       "    .dataframe tbody tr th {\n",
       "        vertical-align: top;\n",
       "    }\n",
       "\n",
       "    .dataframe thead th {\n",
       "        text-align: right;\n",
       "    }\n",
       "</style>\n",
       "<table border=\"1\" class=\"dataframe\">\n",
       "  <thead>\n",
       "    <tr style=\"text-align: right;\">\n",
       "      <th></th>\n",
       "      <th>records</th>\n",
       "      <th>%records</th>\n",
       "    </tr>\n",
       "  </thead>\n",
       "  <tbody>\n",
       "    <tr>\n",
       "      <th>valid_duration</th>\n",
       "      <td>4150</td>\n",
       "      <td>95.03</td>\n",
       "    </tr>\n",
       "    <tr>\n",
       "      <th>valid_single_token_per_frame</th>\n",
       "      <td>4059</td>\n",
       "      <td>92.95</td>\n",
       "    </tr>\n",
       "    <tr>\n",
       "      <th>valid_hd5</th>\n",
       "      <td>4109</td>\n",
       "      <td>94.09</td>\n",
       "    </tr>\n",
       "    <tr>\n",
       "      <th>valid_max_token_duration</th>\n",
       "      <td>4056</td>\n",
       "      <td>92.88</td>\n",
       "    </tr>\n",
       "    <tr>\n",
       "      <th>valid_frames_count</th>\n",
       "      <td>4109</td>\n",
       "      <td>94.09</td>\n",
       "    </tr>\n",
       "    <tr>\n",
       "      <th>valid_video_data_ratio</th>\n",
       "      <td>4278</td>\n",
       "      <td>97.96</td>\n",
       "    </tr>\n",
       "  </tbody>\n",
       "</table>\n",
       "</div>"
      ],
      "text/plain": [
       "                              records  %records\n",
       "valid_duration                   4150     95.03\n",
       "valid_single_token_per_frame     4059     92.95\n",
       "valid_hd5                        4109     94.09\n",
       "valid_max_token_duration         4056     92.88\n",
       "valid_frames_count               4109     94.09\n",
       "valid_video_data_ratio           4278     97.96"
      ]
     },
     "execution_count": 136,
     "metadata": {},
     "output_type": "execute_result"
    }
   ],
   "source": [
    "total_intervals = len(df_intervals)\n",
    "df_validity_summary = df_intervals[COLS_VALID].sum().to_frame().rename(columns={0: 'records'})\n",
    "df_validity_summary['%records'] = df_validity_summary['records'] / total_intervals * 100\n",
    "df_validity_summary"
   ]
  },
  {
   "cell_type": "code",
   "execution_count": 137,
   "metadata": {
    "jupyter": {
     "source_hidden": true
    }
   },
   "outputs": [
    {
     "data": {
      "text/html": [
       "<style  type=\"text/css\" >\n",
       "    #T_5899144e_784a_11ec_b11a_9346d5fa91fe caption {\n",
       "          color: blue;\n",
       "          font-size: 16px;\n",
       "    }</style><table id=\"T_5899144e_784a_11ec_b11a_9346d5fa91fe\" ><caption>Valid Intervals</caption><thead>    <tr>        <th class=\"blank level0\" ></th>        <th class=\"col_heading level0 col0\" >valid</th>    </tr></thead><tbody>\n",
       "                <tr>\n",
       "                        <th id=\"T_5899144e_784a_11ec_b11a_9346d5fa91felevel0_row0\" class=\"row_heading level0 row0\" >True</th>\n",
       "                        <td id=\"T_5899144e_784a_11ec_b11a_9346d5fa91ferow0_col0\" class=\"data row0 col0\" >3744</td>\n",
       "            </tr>\n",
       "            <tr>\n",
       "                        <th id=\"T_5899144e_784a_11ec_b11a_9346d5fa91felevel0_row1\" class=\"row_heading level0 row1\" >False</th>\n",
       "                        <td id=\"T_5899144e_784a_11ec_b11a_9346d5fa91ferow1_col0\" class=\"data row1 col0\" >623</td>\n",
       "            </tr>\n",
       "    </tbody></table>"
      ],
      "text/plain": [
       "<pandas.io.formats.style.Styler at 0x7f39a699ccc0>"
      ]
     },
     "metadata": {},
     "output_type": "display_data"
    }
   ],
   "source": [
    "df_intervals['valid'] = df_intervals[COLS_VALID].all(axis=1)\n",
    "display_value_counts(df_intervals['valid'], 'Valid Intervals')"
   ]
  },
  {
   "cell_type": "code",
   "execution_count": 138,
   "metadata": {
    "jupyter": {
     "source_hidden": true
    }
   },
   "outputs": [
    {
     "data": {
      "text/html": [
       "<div>\n",
       "<style scoped>\n",
       "    .dataframe tbody tr th:only-of-type {\n",
       "        vertical-align: middle;\n",
       "    }\n",
       "\n",
       "    .dataframe tbody tr th {\n",
       "        vertical-align: top;\n",
       "    }\n",
       "\n",
       "    .dataframe thead th {\n",
       "        text-align: right;\n",
       "    }\n",
       "</style>\n",
       "<table border=\"1\" class=\"dataframe\">\n",
       "  <thead>\n",
       "    <tr style=\"text-align: right;\">\n",
       "      <th></th>\n",
       "      <th>records</th>\n",
       "      <th>%records</th>\n",
       "    </tr>\n",
       "  </thead>\n",
       "  <tbody>\n",
       "    <tr>\n",
       "      <th>valid</th>\n",
       "      <td>3744</td>\n",
       "      <td>85.73</td>\n",
       "    </tr>\n",
       "    <tr>\n",
       "      <th>valid_duration</th>\n",
       "      <td>4150</td>\n",
       "      <td>95.03</td>\n",
       "    </tr>\n",
       "    <tr>\n",
       "      <th>valid_single_token_per_frame</th>\n",
       "      <td>4059</td>\n",
       "      <td>92.95</td>\n",
       "    </tr>\n",
       "    <tr>\n",
       "      <th>valid_hd5</th>\n",
       "      <td>4109</td>\n",
       "      <td>94.09</td>\n",
       "    </tr>\n",
       "    <tr>\n",
       "      <th>valid_max_token_duration</th>\n",
       "      <td>4056</td>\n",
       "      <td>92.88</td>\n",
       "    </tr>\n",
       "    <tr>\n",
       "      <th>valid_frames_count</th>\n",
       "      <td>4109</td>\n",
       "      <td>94.09</td>\n",
       "    </tr>\n",
       "    <tr>\n",
       "      <th>valid_video_data_ratio</th>\n",
       "      <td>4278</td>\n",
       "      <td>97.96</td>\n",
       "    </tr>\n",
       "  </tbody>\n",
       "</table>\n",
       "</div>"
      ],
      "text/plain": [
       "                              records  %records\n",
       "valid                            3744     85.73\n",
       "valid_duration                   4150     95.03\n",
       "valid_single_token_per_frame     4059     92.95\n",
       "valid_hd5                        4109     94.09\n",
       "valid_max_token_duration         4056     92.88\n",
       "valid_frames_count               4109     94.09\n",
       "valid_video_data_ratio           4278     97.96"
      ]
     },
     "execution_count": 138,
     "metadata": {},
     "output_type": "execute_result"
    }
   ],
   "source": [
    "df_validity_summary = df_intervals[['valid'] + COLS_VALID].sum().to_frame().rename(columns={0: 'records'})\n",
    "df_validity_summary['%records'] = df_validity_summary['records'] / total_intervals * 100\n",
    "df_validity_summary"
   ]
  },
  {
   "cell_type": "code",
   "execution_count": 153,
   "metadata": {
    "jupyter": {
     "source_hidden": true
    }
   },
   "outputs": [
    {
     "data": {
      "text/html": [
       "<div>\n",
       "<style scoped>\n",
       "    .dataframe tbody tr th:only-of-type {\n",
       "        vertical-align: middle;\n",
       "    }\n",
       "\n",
       "    .dataframe tbody tr th {\n",
       "        vertical-align: top;\n",
       "    }\n",
       "\n",
       "    .dataframe thead th {\n",
       "        text-align: right;\n",
       "    }\n",
       "</style>\n",
       "<table border=\"1\" class=\"dataframe\">\n",
       "  <thead>\n",
       "    <tr style=\"text-align: right;\">\n",
       "      <th></th>\n",
       "      <th>valid</th>\n",
       "      <th>speaker</th>\n",
       "      <th>interval_id</th>\n",
       "      <th>duration</th>\n",
       "      <th>start_time_string</th>\n",
       "      <th>end_time_string</th>\n",
       "      <th>video_link</th>\n",
       "      <th>valid_duration</th>\n",
       "      <th>valid_single_token_per_frame</th>\n",
       "      <th>valid_hd5</th>\n",
       "      <th>valid_max_token_duration</th>\n",
       "      <th>valid_frames_count</th>\n",
       "      <th>valid_video_data_ratio</th>\n",
       "    </tr>\n",
       "  </thead>\n",
       "  <tbody>\n",
       "    <tr>\n",
       "      <th>1496</th>\n",
       "      <td>True</td>\n",
       "      <td>noah</td>\n",
       "      <td>cmu0000036769</td>\n",
       "      <td>14.03</td>\n",
       "      <td>00:00:00.83</td>\n",
       "      <td>00:00:14.86</td>\n",
       "      <td>https://www.youtube.com/watch?v=0IJSSBMLz6g</td>\n",
       "      <td>True</td>\n",
       "      <td>True</td>\n",
       "      <td>True</td>\n",
       "      <td>True</td>\n",
       "      <td>True</td>\n",
       "      <td>True</td>\n",
       "    </tr>\n",
       "    <tr>\n",
       "      <th>4130</th>\n",
       "      <td>True</td>\n",
       "      <td>noah</td>\n",
       "      <td>cmu0000042390</td>\n",
       "      <td>21.43</td>\n",
       "      <td>00:00:50.29</td>\n",
       "      <td>00:01:11.73</td>\n",
       "      <td>https://www.youtube.com/watch?v=_EfVgmV3rWc</td>\n",
       "      <td>True</td>\n",
       "      <td>True</td>\n",
       "      <td>True</td>\n",
       "      <td>True</td>\n",
       "      <td>True</td>\n",
       "      <td>True</td>\n",
       "    </tr>\n",
       "  </tbody>\n",
       "</table>\n",
       "</div>"
      ],
      "text/plain": [
       "      valid speaker    interval_id  duration start_time_string  \\\n",
       "1496   True    noah  cmu0000036769     14.03       00:00:00.83   \n",
       "4130   True    noah  cmu0000042390     21.43       00:00:50.29   \n",
       "\n",
       "     end_time_string                                   video_link  \\\n",
       "1496     00:00:14.86  https://www.youtube.com/watch?v=0IJSSBMLz6g   \n",
       "4130     00:01:11.73  https://www.youtube.com/watch?v=_EfVgmV3rWc   \n",
       "\n",
       "      valid_duration  valid_single_token_per_frame  valid_hd5  \\\n",
       "1496            True                          True       True   \n",
       "4130            True                          True       True   \n",
       "\n",
       "      valid_max_token_duration  valid_frames_count  valid_video_data_ratio  \n",
       "1496                      True                True                    True  \n",
       "4130                      True                True                    True  "
      ]
     },
     "execution_count": 153,
     "metadata": {},
     "output_type": "execute_result"
    }
   ],
   "source": [
    "df_intervals[['valid'] + COLS_VIEW + COLS_VALID].sample(n=2)"
   ]
  },
  {
   "cell_type": "code",
   "execution_count": 154,
   "metadata": {},
   "outputs": [
    {
     "data": {
      "text/plain": [
       "\"even though it's our only Monday but seems to be more news than we have the time to get through in a single show so we won't try good night everybody we had lived in a segment we call ain't nobody got time for that\""
      ]
     },
     "execution_count": 154,
     "metadata": {},
     "output_type": "execute_result"
    }
   ],
   "source": [
    "read_text_str('cmu0000036769')"
   ]
  },
  {
   "cell_type": "markdown",
   "metadata": {},
   "source": [
    "# Download Data"
   ]
  },
  {
   "cell_type": "markdown",
   "metadata": {},
   "source": [
    "## df_intervals.to_csv"
   ]
  },
  {
   "cell_type": "code",
   "execution_count": 155,
   "metadata": {},
   "outputs": [
    {
     "data": {
      "text/plain": [
       "Index(['dataset', 'duration', 'end_time', 'interval_id', 'speaker',\n",
       "       'start_time', 'video_fn', 'video_link', 'org_start_time',\n",
       "       'org_end_time', 'start_time_string', 'end_time_string', 'video_id',\n",
       "       'max_frames_token', 'valid', 'valid_duration',\n",
       "       'valid_single_token_per_frame', 'video_downloded', 'valid_hd5',\n",
       "       'max_token_frames_token_idx', 'valid_max_token_duration',\n",
       "       'valid_frames_count', 'duration_net', 'duration_total', 'data_ratio',\n",
       "       'valid_video_data_ratio'],\n",
       "      dtype='object')"
      ]
     },
     "execution_count": 155,
     "metadata": {},
     "output_type": "execute_result"
    }
   ],
   "source": [
    "df_intervals.columns"
   ]
  },
  {
   "cell_type": "code",
   "execution_count": 156,
   "metadata": {},
   "outputs": [],
   "source": [
    "df_intervals.drop('dataset', axis=1, inplace=True)"
   ]
  },
  {
   "cell_type": "code",
   "execution_count": null,
   "metadata": {},
   "outputs": [],
   "source": [
    "df_intervals.drop(['Unnamed: 0', 'Unnamed: 0.1'], axis=1, inplace=True)"
   ]
  },
  {
   "cell_type": "code",
   "execution_count": 157,
   "metadata": {},
   "outputs": [
    {
     "data": {
      "text/plain": [
       "Index(['duration', 'end_time', 'interval_id', 'speaker', 'start_time',\n",
       "       'video_fn', 'video_link', 'org_start_time', 'org_end_time',\n",
       "       'start_time_string', 'end_time_string', 'video_id', 'max_frames_token',\n",
       "       'valid', 'valid_duration', 'valid_single_token_per_frame',\n",
       "       'video_downloded', 'valid_hd5', 'max_token_frames_token_idx',\n",
       "       'valid_max_token_duration', 'valid_frames_count', 'duration_net',\n",
       "       'duration_total', 'data_ratio', 'valid_video_data_ratio'],\n",
       "      dtype='object')"
      ]
     },
     "execution_count": 157,
     "metadata": {},
     "output_type": "execute_result"
    }
   ],
   "source": [
    "df_intervals.columns"
   ]
  },
  {
   "cell_type": "code",
   "execution_count": 160,
   "metadata": {},
   "outputs": [],
   "source": [
    "df_intervals.rename(\n",
    "    columns={'duration_net':   'video_duration_net',\n",
    "             'duration_total': 'video_duration_total',\n",
    "             'data_ratio':     'video_data_ratio'},\n",
    "    inplace=True)"
   ]
  },
  {
   "cell_type": "code",
   "execution_count": 161,
   "metadata": {
    "jupyter": {
     "source_hidden": true
    }
   },
   "outputs": [],
   "source": [
    "COLS_OUTPUT = [\n",
    "    # core\n",
    "    'speaker', 'video_id', 'interval_id', 'valid',\n",
    "    # features\n",
    "    'duration', 'start_time_string',  'end_time_string',\n",
    "    'video_link', 'video_fn',\n",
    "    'start_time', 'end_time',\n",
    "    'org_start_time', 'org_end_time',\n",
    "    # video info\n",
    "#     'video_duration_net', 'video_duration_total', 'video_data_ratio',\n",
    "    # validity\n",
    "    'max_frames_token',\n",
    "    'valid_duration', 'valid_single_token_per_frame', 'valid_hd5',\n",
    "    'valid_max_token_duration', 'valid_frames_count', 'valid_video_data_ratio'\n",
    "]"
   ]
  },
  {
   "cell_type": "code",
   "execution_count": 162,
   "metadata": {
    "jupyter": {
     "source_hidden": true
    }
   },
   "outputs": [
    {
     "data": {
      "text/plain": [
       "(25, 20)"
      ]
     },
     "execution_count": 162,
     "metadata": {},
     "output_type": "execute_result"
    }
   ],
   "source": [
    "len(df_intervals.columns), len(COLS_OUTPUT)"
   ]
  },
  {
   "cell_type": "code",
   "execution_count": 163,
   "metadata": {
    "jupyter": {
     "source_hidden": true
    }
   },
   "outputs": [
    {
     "data": {
      "text/html": [
       "<div>\n",
       "<style scoped>\n",
       "    .dataframe tbody tr th:only-of-type {\n",
       "        vertical-align: middle;\n",
       "    }\n",
       "\n",
       "    .dataframe tbody tr th {\n",
       "        vertical-align: top;\n",
       "    }\n",
       "\n",
       "    .dataframe thead th {\n",
       "        text-align: right;\n",
       "    }\n",
       "</style>\n",
       "<table border=\"1\" class=\"dataframe\">\n",
       "  <thead>\n",
       "    <tr style=\"text-align: right;\">\n",
       "      <th></th>\n",
       "      <th>speaker</th>\n",
       "      <th>video_id</th>\n",
       "      <th>interval_id</th>\n",
       "      <th>valid</th>\n",
       "      <th>duration</th>\n",
       "      <th>start_time_string</th>\n",
       "      <th>end_time_string</th>\n",
       "      <th>video_link</th>\n",
       "      <th>video_fn</th>\n",
       "      <th>start_time</th>\n",
       "      <th>end_time</th>\n",
       "      <th>org_start_time</th>\n",
       "      <th>org_end_time</th>\n",
       "      <th>max_frames_token</th>\n",
       "      <th>valid_duration</th>\n",
       "      <th>valid_single_token_per_frame</th>\n",
       "      <th>valid_hd5</th>\n",
       "      <th>valid_max_token_duration</th>\n",
       "      <th>valid_frames_count</th>\n",
       "      <th>valid_video_data_ratio</th>\n",
       "    </tr>\n",
       "  </thead>\n",
       "  <tbody>\n",
       "    <tr>\n",
       "      <th>0</th>\n",
       "      <td>noah</td>\n",
       "      <td>rUZL4z5Drcw</td>\n",
       "      <td>cmu0000033570</td>\n",
       "      <td>False</td>\n",
       "      <td>7.23</td>\n",
       "      <td>00:00:00.86</td>\n",
       "      <td>00:00:08.9</td>\n",
       "      <td>https://www.youtube.com/watch?v=rUZL4z5Drcw</td>\n",
       "      <td>rUZL4z5Drcw</td>\n",
       "      <td>0 days 00:00:00.860000</td>\n",
       "      <td>0 days 00:00:08.090000</td>\n",
       "      <td>0 days 00:00:00.860000</td>\n",
       "      <td>0 days 00:00:08.090000</td>\n",
       "      <td>-1</td>\n",
       "      <td>True</td>\n",
       "      <td>False</td>\n",
       "      <td>False</td>\n",
       "      <td>False</td>\n",
       "      <td>False</td>\n",
       "      <td>True</td>\n",
       "    </tr>\n",
       "    <tr>\n",
       "      <th>1</th>\n",
       "      <td>noah</td>\n",
       "      <td>rUZL4z5Drcw</td>\n",
       "      <td>cmu0000033572</td>\n",
       "      <td>True</td>\n",
       "      <td>7.80</td>\n",
       "      <td>00:00:22.90</td>\n",
       "      <td>00:00:30.70</td>\n",
       "      <td>https://www.youtube.com/watch?v=rUZL4z5Drcw</td>\n",
       "      <td>rUZL4z5Drcw</td>\n",
       "      <td>0 days 00:00:22.900000</td>\n",
       "      <td>0 days 00:00:30.700000</td>\n",
       "      <td>0 days 00:00:22.900000</td>\n",
       "      <td>0 days 00:00:30.700000</td>\n",
       "      <td>118</td>\n",
       "      <td>True</td>\n",
       "      <td>True</td>\n",
       "      <td>True</td>\n",
       "      <td>True</td>\n",
       "      <td>True</td>\n",
       "      <td>True</td>\n",
       "    </tr>\n",
       "  </tbody>\n",
       "</table>\n",
       "</div>"
      ],
      "text/plain": [
       "  speaker     video_id    interval_id  valid  duration start_time_string  \\\n",
       "0    noah  rUZL4z5Drcw  cmu0000033570  False      7.23       00:00:00.86   \n",
       "1    noah  rUZL4z5Drcw  cmu0000033572   True      7.80       00:00:22.90   \n",
       "\n",
       "  end_time_string                                   video_link     video_fn  \\\n",
       "0      00:00:08.9  https://www.youtube.com/watch?v=rUZL4z5Drcw  rUZL4z5Drcw   \n",
       "1     00:00:30.70  https://www.youtube.com/watch?v=rUZL4z5Drcw  rUZL4z5Drcw   \n",
       "\n",
       "               start_time                end_time          org_start_time  \\\n",
       "0  0 days 00:00:00.860000  0 days 00:00:08.090000  0 days 00:00:00.860000   \n",
       "1  0 days 00:00:22.900000  0 days 00:00:30.700000  0 days 00:00:22.900000   \n",
       "\n",
       "             org_end_time  max_frames_token  valid_duration  \\\n",
       "0  0 days 00:00:08.090000                -1            True   \n",
       "1  0 days 00:00:30.700000               118            True   \n",
       "\n",
       "   valid_single_token_per_frame  valid_hd5  valid_max_token_duration  \\\n",
       "0                         False      False                     False   \n",
       "1                          True       True                      True   \n",
       "\n",
       "   valid_frames_count  valid_video_data_ratio  \n",
       "0               False                    True  \n",
       "1                True                    True  "
      ]
     },
     "execution_count": 163,
     "metadata": {},
     "output_type": "execute_result"
    }
   ],
   "source": [
    "df_intervals_prev = df_intervals.copy()\n",
    "df_intervals = df_intervals[COLS_OUTPUT]\n",
    "df_intervals.head(n=2)"
   ]
  },
  {
   "cell_type": "code",
   "execution_count": 165,
   "metadata": {
    "jupyter": {
     "source_hidden": true
    }
   },
   "outputs": [
    {
     "data": {
      "text/markdown": [
       "&nbsp;&nbsp;&nbsp;&nbsp; → df_intervals /home/stav/Data/PATS_DATA/DataFrames/noah/df_intervals_noah_v2.csv"
      ],
      "text/plain": [
       "<IPython.core.display.Markdown object>"
      ]
     },
     "metadata": {},
     "output_type": "display_data"
    }
   ],
   "source": [
    "intervals_output_path = f'/home/stav/Data/PATS_DATA/DataFrames/{SPEAKER_NAME}/df_intervals_{SPEAKER_NAME}_v2.csv'\n",
    "printmd(f'{TAB} → df_intervals {intervals_output_path}')\n",
    "df_intervals.to_csv(intervals_output_path, index=False, header=True)"
   ]
  },
  {
   "cell_type": "code",
   "execution_count": 356,
   "metadata": {
    "jupyter": {
     "source_hidden": true
    }
   },
   "outputs": [
    {
     "name": "stdout",
     "output_type": "stream",
     "text": [
      "['cmu0000033573', 'cmu0000033576', 'cmu0000033589', 'cmu0000033592', 'cmu0000033594', 'cmu0000033596', 'cmu0000033599', 'cmu0000033600', 'cmu0000033602', 'cmu0000033605', 'cmu0000033608', 'cmu0000033610', 'cmu0000033617', 'cmu0000033622', 'cmu0000033628', 'cmu0000033656', 'cmu0000033658', 'cmu0000033661', 'cmu0000033663', 'cmu0000033664', 'cmu0000033666', 'cmu0000033671', 'cmu0000033673', 'cmu0000033674', 'cmu0000033675', 'cmu0000033676', 'cmu0000033682', 'cmu0000033697', 'cmu0000033699', 'cmu0000033700', 'cmu0000033702', 'cmu0000033703', 'cmu0000033704', 'cmu0000033706', 'cmu0000033710', 'cmu0000033711', 'cmu0000033714', 'cmu0000033722', 'cmu0000033723', 'cmu0000033725', 'cmu0000033726', 'cmu0000033730', 'cmu0000033745', 'cmu0000033747', 'cmu0000033750', 'cmu0000033765', 'cmu0000033770', 'cmu0000033772', 'cmu0000033780', 'cmu0000033781', 'cmu0000033783', 'cmu0000033784', 'cmu0000033793', 'cmu0000033799', 'cmu0000033801', 'cmu0000033802', 'cmu0000033811', 'cmu0000033817', 'cmu0000033821', 'cmu0000033825', 'cmu0000033840', 'cmu0000033841', 'cmu0000033851', 'cmu0000033854', 'cmu0000033855', 'cmu0000033864', 'cmu0000033866', 'cmu0000033867', 'cmu0000033879', 'cmu0000033881', 'cmu0000033882', 'cmu0000033888', 'cmu0000033901', 'cmu0000033907', 'cmu0000033916', 'cmu0000033919', 'cmu0000033921', 'cmu0000033924', 'cmu0000033925', 'cmu0000033928', 'cmu0000033930', 'cmu0000033931', 'cmu0000033932', 'cmu0000033933', 'cmu0000033935', 'cmu0000033936', 'cmu0000033952', 'cmu0000033954', 'cmu0000033955', 'cmu0000033957', 'cmu0000033958', 'cmu0000033963', 'cmu0000033966', 'cmu0000033967', 'cmu0000033969', 'cmu0000033979', 'cmu0000033980', 'cmu0000033986', 'cmu0000033987', 'cmu0000033988', 'cmu0000033989', 'cmu0000033990', 'cmu0000033991', 'cmu0000033993', 'cmu0000034000', 'cmu0000034003', 'cmu0000034005', 'cmu0000034008', 'cmu0000034009', 'cmu0000034010', 'cmu0000034019', 'cmu0000034030', 'cmu0000034037', 'cmu0000034046', 'cmu0000034047', 'cmu0000034048', 'cmu0000034050', 'cmu0000034067', 'cmu0000034077', 'cmu0000034078', 'cmu0000034079', 'cmu0000034080', 'cmu0000034083', 'cmu0000034089', 'cmu0000034090', 'cmu0000034092', 'cmu0000034098', 'cmu0000034103', 'cmu0000034107', 'cmu0000034117', 'cmu0000034132', 'cmu0000034134', 'cmu0000034135', 'cmu0000034136', 'cmu0000034137', 'cmu0000034140', 'cmu0000034142', 'cmu0000034144', 'cmu0000034146', 'cmu0000034147', 'cmu0000034153', 'cmu0000034155', 'cmu0000034162', 'cmu0000034164', 'cmu0000034165', 'cmu0000034166', 'cmu0000034169', 'cmu0000034171', 'cmu0000034172', 'cmu0000034174', 'cmu0000034176', 'cmu0000034178', 'cmu0000034181', 'cmu0000034182', 'cmu0000034183', 'cmu0000034184', 'cmu0000034185', 'cmu0000034188', 'cmu0000034190', 'cmu0000034191', 'cmu0000034193', 'cmu0000034195', 'cmu0000034196', 'cmu0000034198', 'cmu0000034200', 'cmu0000034201', 'cmu0000034202', 'cmu0000034204', 'cmu0000034211', 'cmu0000034212', 'cmu0000034215', 'cmu0000034217', 'cmu0000034218', 'cmu0000034219', 'cmu0000034221', 'cmu0000034225', 'cmu0000034229', 'cmu0000034230', 'cmu0000034234', 'cmu0000034236', 'cmu0000034269', 'cmu0000034270', 'cmu0000034274', 'cmu0000034282', 'cmu0000034283', 'cmu0000034293', 'cmu0000034294', 'cmu0000034298', 'cmu0000034301', 'cmu0000034304', 'cmu0000034305', 'cmu0000034309', 'cmu0000034310', 'cmu0000034314', 'cmu0000034316', 'cmu0000034326', 'cmu0000034328', 'cmu0000034330', 'cmu0000034331', 'cmu0000034335', 'cmu0000034336', 'cmu0000034337', 'cmu0000034343', 'cmu0000034344', 'cmu0000034345', 'cmu0000034348', 'cmu0000034349', 'cmu0000034351', 'cmu0000034352', 'cmu0000034354', 'cmu0000034358', 'cmu0000034361', 'cmu0000034362', 'cmu0000034364', 'cmu0000034366', 'cmu0000034370', 'cmu0000034373', 'cmu0000034375', 'cmu0000034376', 'cmu0000034377', 'cmu0000034379', 'cmu0000034380', 'cmu0000034387', 'cmu0000034388', 'cmu0000034391', 'cmu0000034403', 'cmu0000034404', 'cmu0000034407', 'cmu0000034408', 'cmu0000034411', 'cmu0000034416', 'cmu0000034418', 'cmu0000034421', 'cmu0000034430', 'cmu0000034431', 'cmu0000034432', 'cmu0000034434', 'cmu0000034436', 'cmu0000034437', 'cmu0000034438', 'cmu0000034441', 'cmu0000034442', 'cmu0000034446', 'cmu0000034447', 'cmu0000034448', 'cmu0000034449', 'cmu0000034454', 'cmu0000034456', 'cmu0000034457', 'cmu0000034469', 'cmu0000034471', 'cmu0000034496', 'cmu0000034497', 'cmu0000034502', 'cmu0000034510', 'cmu0000034513', 'cmu0000034514', 'cmu0000034523', 'cmu0000034525', 'cmu0000034526', 'cmu0000034529', 'cmu0000034531', 'cmu0000034533', 'cmu0000034534', 'cmu0000034535', 'cmu0000034537', 'cmu0000034540', 'cmu0000034544', 'cmu0000034547', 'cmu0000034548', 'cmu0000034549', 'cmu0000034553', 'cmu0000034554', 'cmu0000034555', 'cmu0000034556', 'cmu0000034560', 'cmu0000034562', 'cmu0000034563', 'cmu0000034570', 'cmu0000034572', 'cmu0000034574', 'cmu0000034576', 'cmu0000034580', 'cmu0000034581', 'cmu0000034583', 'cmu0000034590', 'cmu0000034591', 'cmu0000034595', 'cmu0000034597', 'cmu0000034602', 'cmu0000034630', 'cmu0000034633', 'cmu0000034634', 'cmu0000034636', 'cmu0000034638', 'cmu0000034639', 'cmu0000034640', 'cmu0000034645', 'cmu0000034647', 'cmu0000034648', 'cmu0000034667', 'cmu0000034670', 'cmu0000034675', 'cmu0000034684', 'cmu0000034685', 'cmu0000034687', 'cmu0000034688', 'cmu0000034689', 'cmu0000034691', 'cmu0000034693', 'cmu0000034694', 'cmu0000034695', 'cmu0000034698', 'cmu0000034702', 'cmu0000034704', 'cmu0000034705', 'cmu0000034708', 'cmu0000034710', 'cmu0000034715', 'cmu0000034719', 'cmu0000034721', 'cmu0000034722', 'cmu0000034724', 'cmu0000034727', 'cmu0000034733', 'cmu0000034737', 'cmu0000034738', 'cmu0000034739', 'cmu0000034740', 'cmu0000034741', 'cmu0000034743', 'cmu0000034744', 'cmu0000034755', 'cmu0000034760', 'cmu0000034769', 'cmu0000034771', 'cmu0000034772', 'cmu0000034773', 'cmu0000034774', 'cmu0000034775', 'cmu0000034781', 'cmu0000034782', 'cmu0000034784', 'cmu0000034785', 'cmu0000034787', 'cmu0000034791', 'cmu0000034813', 'cmu0000034825', 'cmu0000034831', 'cmu0000034835', 'cmu0000034840', 'cmu0000034846', 'cmu0000034851', 'cmu0000034853', 'cmu0000034854', 'cmu0000034856', 'cmu0000034857', 'cmu0000034866', 'cmu0000034867', 'cmu0000034871', 'cmu0000034882', 'cmu0000034884', 'cmu0000034895', 'cmu0000034897', 'cmu0000034899', 'cmu0000034900', 'cmu0000034903', 'cmu0000034915', 'cmu0000034916', 'cmu0000034919', 'cmu0000034921', 'cmu0000034923', 'cmu0000034929', 'cmu0000034930', 'cmu0000034932', 'cmu0000034933', 'cmu0000034934', 'cmu0000034935', 'cmu0000034948', 'cmu0000034950', 'cmu0000034952', 'cmu0000034953', 'cmu0000034957', 'cmu0000034958', 'cmu0000034959', 'cmu0000034964', 'cmu0000034965', 'cmu0000034979', 'cmu0000034983', 'cmu0000034987', 'cmu0000034990', 'cmu0000034991', 'cmu0000034992', 'cmu0000034998', 'cmu0000035000', 'cmu0000035001', 'cmu0000035011', 'cmu0000035013', 'cmu0000035014', 'cmu0000035017', 'cmu0000035027', 'cmu0000035029', 'cmu0000035030', 'cmu0000035033', 'cmu0000035036', 'cmu0000035037', 'cmu0000035039', 'cmu0000035041', 'cmu0000035056', 'cmu0000035060', 'cmu0000035062', 'cmu0000035065', 'cmu0000035070', 'cmu0000035072', 'cmu0000035090', 'cmu0000035091', 'cmu0000035093', 'cmu0000035094', 'cmu0000035103', 'cmu0000035104', 'cmu0000035107', 'cmu0000035122', 'cmu0000035123', 'cmu0000035126', 'cmu0000035127', 'cmu0000035129', 'cmu0000035130', 'cmu0000035140', 'cmu0000035143', 'cmu0000035147', 'cmu0000035148', 'cmu0000035170', 'cmu0000035172', 'cmu0000035173', 'cmu0000035175', 'cmu0000035177', 'cmu0000035178', 'cmu0000035181', 'cmu0000035186', 'cmu0000035193', 'cmu0000035197', 'cmu0000035201', 'cmu0000035207', 'cmu0000035209', 'cmu0000035210', 'cmu0000035212', 'cmu0000035214', 'cmu0000035215', 'cmu0000035219', 'cmu0000035220', 'cmu0000035221', 'cmu0000035222', 'cmu0000035223', 'cmu0000035225', 'cmu0000035254', 'cmu0000035255', 'cmu0000035256', 'cmu0000035259', 'cmu0000035262', 'cmu0000035264', 'cmu0000035266', 'cmu0000035293', 'cmu0000035298', 'cmu0000035304', 'cmu0000035311', 'cmu0000035318', 'cmu0000035319', 'cmu0000035320', 'cmu0000035323', 'cmu0000035324', 'cmu0000035325', 'cmu0000035327', 'cmu0000035328', 'cmu0000035329', 'cmu0000035330', 'cmu0000035332', 'cmu0000035335', 'cmu0000035336', 'cmu0000035337', 'cmu0000035338', 'cmu0000035340', 'cmu0000035341', 'cmu0000035343', 'cmu0000035354', 'cmu0000035359', 'cmu0000035365', 'cmu0000035366', 'cmu0000035367', 'cmu0000035373', 'cmu0000035375', 'cmu0000035377', 'cmu0000035379', 'cmu0000035381', 'cmu0000035383', 'cmu0000035387', 'cmu0000035389', 'cmu0000035393', 'cmu0000035397', 'cmu0000035398', 'cmu0000035408', 'cmu0000035410', 'cmu0000035411', 'cmu0000035413', 'cmu0000035415', 'cmu0000035416', 'cmu0000035425', 'cmu0000035427', 'cmu0000035431', 'cmu0000035434', 'cmu0000035440', 'cmu0000035441', 'cmu0000035442', 'cmu0000035443', 'cmu0000035445', 'cmu0000035447', 'cmu0000035448', 'cmu0000035449', 'cmu0000035450', 'cmu0000035452', 'cmu0000035455', 'cmu0000035456', 'cmu0000035459', 'cmu0000035463', 'cmu0000035464', 'cmu0000035468', 'cmu0000035470', 'cmu0000035474', 'cmu0000035486', 'cmu0000035487', 'cmu0000035493', 'cmu0000035494', 'cmu0000035496', 'cmu0000035497', 'cmu0000035498', 'cmu0000035499', 'cmu0000035500', 'cmu0000035501', 'cmu0000035508', 'cmu0000035509', 'cmu0000035510', 'cmu0000035511', 'cmu0000035512', 'cmu0000035519', 'cmu0000035520', 'cmu0000035521', 'cmu0000035525', 'cmu0000035526', 'cmu0000035527', 'cmu0000035528', 'cmu0000035546', 'cmu0000035564', 'cmu0000035567', 'cmu0000035570', 'cmu0000035571', 'cmu0000035574', 'cmu0000035576', 'cmu0000035578', 'cmu0000035580', 'cmu0000035581', 'cmu0000035587', 'cmu0000035588', 'cmu0000035592', 'cmu0000035593', 'cmu0000035594', 'cmu0000035601', 'cmu0000035602', 'cmu0000035607', 'cmu0000035609', 'cmu0000035611', 'cmu0000035613', 'cmu0000035616', 'cmu0000035617', 'cmu0000035629', 'cmu0000035630', 'cmu0000035632', 'cmu0000035634', 'cmu0000035637', 'cmu0000035645', 'cmu0000035646', 'cmu0000035647', 'cmu0000035652', 'cmu0000035653', 'cmu0000035661', 'cmu0000035689', 'cmu0000035690', 'cmu0000035694', 'cmu0000035703', 'cmu0000035705', 'cmu0000035706', 'cmu0000035707', 'cmu0000035708', 'cmu0000035710', 'cmu0000035713', 'cmu0000035714', 'cmu0000035724', 'cmu0000035725', 'cmu0000035726', 'cmu0000035730', 'cmu0000035731', 'cmu0000035732', 'cmu0000035746', 'cmu0000035754', 'cmu0000035756', 'cmu0000035761', 'cmu0000035769', 'cmu0000035772', 'cmu0000035773', 'cmu0000035774', 'cmu0000035780', 'cmu0000035789', 'cmu0000035791', 'cmu0000035792', 'cmu0000035794', 'cmu0000035795', 'cmu0000035796', 'cmu0000035800', 'cmu0000035801', 'cmu0000035802', 'cmu0000035803', 'cmu0000035804', 'cmu0000035805', 'cmu0000035806', 'cmu0000035807', 'cmu0000035809', 'cmu0000035810', 'cmu0000035811', 'cmu0000035824', 'cmu0000035828', 'cmu0000035829', 'cmu0000035833', 'cmu0000035842', 'cmu0000035850', 'cmu0000035855', 'cmu0000035858', 'cmu0000035862', 'cmu0000035866', 'cmu0000035870', 'cmu0000035872', 'cmu0000035874', 'cmu0000035875', 'cmu0000035876', 'cmu0000035878', 'cmu0000035883', 'cmu0000035884', 'cmu0000035890', 'cmu0000035891', 'cmu0000035892', 'cmu0000035894', 'cmu0000035897', 'cmu0000035899', 'cmu0000035900', 'cmu0000035905', 'cmu0000035911', 'cmu0000035914', 'cmu0000035915', 'cmu0000035918', 'cmu0000035923', 'cmu0000035925', 'cmu0000035927', 'cmu0000035934', 'cmu0000035938', 'cmu0000035939', 'cmu0000035942', 'cmu0000035946', 'cmu0000035962', 'cmu0000035964', 'cmu0000035966', 'cmu0000035974', 'cmu0000035975', 'cmu0000035976', 'cmu0000035977', 'cmu0000035981', 'cmu0000035982', 'cmu0000035983', 'cmu0000035985', 'cmu0000035986', 'cmu0000035994', 'cmu0000035998', 'cmu0000036000', 'cmu0000036001', 'cmu0000036007', 'cmu0000036022', 'cmu0000036025', 'cmu0000036027', 'cmu0000036028', 'cmu0000036029', 'cmu0000036030', 'cmu0000036031', 'cmu0000036039', 'cmu0000036040', 'cmu0000036041', 'cmu0000036043', 'cmu0000036045', 'cmu0000036046', 'cmu0000036047', 'cmu0000036048', 'cmu0000036052', 'cmu0000036056', 'cmu0000036062', 'cmu0000036064', 'cmu0000036065', 'cmu0000036076', 'cmu0000036077', 'cmu0000036082', 'cmu0000036084', 'cmu0000036088', 'cmu0000036089', 'cmu0000036092', 'cmu0000036094', 'cmu0000036095', 'cmu0000036122', 'cmu0000036126', 'cmu0000036128', 'cmu0000036129', 'cmu0000036132', 'cmu0000036138', 'cmu0000036142', 'cmu0000036145', 'cmu0000036149', 'cmu0000036152', 'cmu0000036154', 'cmu0000036155', 'cmu0000036164', 'cmu0000036166', 'cmu0000036167', 'cmu0000036169', 'cmu0000036175', 'cmu0000036178', 'cmu0000036179', 'cmu0000036182', 'cmu0000036183', 'cmu0000036184', 'cmu0000036186', 'cmu0000036187', 'cmu0000036192', 'cmu0000036193', 'cmu0000036207', 'cmu0000036211', 'cmu0000036212', 'cmu0000036219', 'cmu0000036221', 'cmu0000036222', 'cmu0000036223', 'cmu0000036225', 'cmu0000036228', 'cmu0000036229', 'cmu0000036236', 'cmu0000036237', 'cmu0000036238', 'cmu0000036247', 'cmu0000036256', 'cmu0000036259', 'cmu0000036264', 'cmu0000036265', 'cmu0000036268', 'cmu0000036269', 'cmu0000036270', 'cmu0000036272', 'cmu0000036273', 'cmu0000036274', 'cmu0000036282', 'cmu0000036283', 'cmu0000036284', 'cmu0000036285', 'cmu0000036294', 'cmu0000036295', 'cmu0000036296', 'cmu0000036297', 'cmu0000036298', 'cmu0000036302', 'cmu0000036305', 'cmu0000036309', 'cmu0000036314', 'cmu0000036317', 'cmu0000036331', 'cmu0000036332', 'cmu0000036337', 'cmu0000036339', 'cmu0000036341', 'cmu0000036343', 'cmu0000036344', 'cmu0000036345', 'cmu0000036346', 'cmu0000036348', 'cmu0000036351', 'cmu0000036353', 'cmu0000036355', 'cmu0000036356', 'cmu0000036360', 'cmu0000036370', 'cmu0000036371', 'cmu0000036372', 'cmu0000036373', 'cmu0000036375', 'cmu0000036376', 'cmu0000036385', 'cmu0000036386', 'cmu0000036398', 'cmu0000036399', 'cmu0000036404', 'cmu0000036408', 'cmu0000036410', 'cmu0000036414', 'cmu0000036415', 'cmu0000036421', 'cmu0000036423', 'cmu0000036425', 'cmu0000036428', 'cmu0000036429', 'cmu0000036430', 'cmu0000036437', 'cmu0000036441', 'cmu0000036442', 'cmu0000036444', 'cmu0000036452', 'cmu0000036458', 'cmu0000036462', 'cmu0000036463', 'cmu0000036464', 'cmu0000036465', 'cmu0000036466', 'cmu0000036467', 'cmu0000036468', 'cmu0000036471', 'cmu0000036473', 'cmu0000036474', 'cmu0000036476', 'cmu0000036477', 'cmu0000036478', 'cmu0000036479', 'cmu0000036483', 'cmu0000036486', 'cmu0000036487', 'cmu0000036491', 'cmu0000036492', 'cmu0000036495', 'cmu0000036503', 'cmu0000036510', 'cmu0000036514', 'cmu0000036515', 'cmu0000036527', 'cmu0000036532', 'cmu0000036533', 'cmu0000036535', 'cmu0000036538', 'cmu0000036540', 'cmu0000036542', 'cmu0000036544', 'cmu0000036547', 'cmu0000036548', 'cmu0000036555', 'cmu0000036557', 'cmu0000036558', 'cmu0000036568', 'cmu0000036571', 'cmu0000036574', 'cmu0000036579', 'cmu0000036580', 'cmu0000036581', 'cmu0000036582', 'cmu0000036587', 'cmu0000036594', 'cmu0000036596', 'cmu0000036602', 'cmu0000036611', 'cmu0000036612', 'cmu0000036613', 'cmu0000036619', 'cmu0000036620', 'cmu0000036622', 'cmu0000036624', 'cmu0000036625', 'cmu0000036626', 'cmu0000036629', 'cmu0000036631', 'cmu0000036632', 'cmu0000036636', 'cmu0000036640', 'cmu0000036645', 'cmu0000036646', 'cmu0000036647', 'cmu0000036677', 'cmu0000036678', 'cmu0000036680', 'cmu0000036683', 'cmu0000036688', 'cmu0000036689', 'cmu0000036701', 'cmu0000036702', 'cmu0000036706', 'cmu0000036707', 'cmu0000036710', 'cmu0000036711', 'cmu0000036714', 'cmu0000036715', 'cmu0000036717', 'cmu0000036721', 'cmu0000036722', 'cmu0000036726', 'cmu0000036727', 'cmu0000036742', 'cmu0000036743', 'cmu0000036744', 'cmu0000036748', 'cmu0000036761', 'cmu0000036767', 'cmu0000036770', 'cmu0000036774', 'cmu0000036777', 'cmu0000036778', 'cmu0000036780', 'cmu0000036785', 'cmu0000036786', 'cmu0000036788', 'cmu0000036790', 'cmu0000036796', 'cmu0000036807', 'cmu0000036812', 'cmu0000036814', 'cmu0000036815', 'cmu0000036817', 'cmu0000036819', 'cmu0000036820', 'cmu0000036821', 'cmu0000036822', 'cmu0000036824', 'cmu0000036825', 'cmu0000036829', 'cmu0000036832', 'cmu0000036833', 'cmu0000036834', 'cmu0000036835', 'cmu0000036838', 'cmu0000036849', 'cmu0000036852', 'cmu0000036853', 'cmu0000036854', 'cmu0000036855', 'cmu0000036866', 'cmu0000036870', 'cmu0000036871', 'cmu0000036873', 'cmu0000036883', 'cmu0000036884', 'cmu0000036888', 'cmu0000036889', 'cmu0000036890', 'cmu0000036891', 'cmu0000036892', 'cmu0000036895', 'cmu0000036901', 'cmu0000036902', 'cmu0000036903', 'cmu0000036908', 'cmu0000036909', 'cmu0000036911', 'cmu0000036914', 'cmu0000036920', 'cmu0000036924', 'cmu0000036927', 'cmu0000036930', 'cmu0000036931', 'cmu0000036935', 'cmu0000036942', 'cmu0000036943', 'cmu0000036945', 'cmu0000036946', 'cmu0000036947', 'cmu0000036948', 'cmu0000036949', 'cmu0000036950', 'cmu0000036952', 'cmu0000036959', 'cmu0000036965', 'cmu0000036976', 'cmu0000036979', 'cmu0000036981', 'cmu0000036983', 'cmu0000036986', 'cmu0000036990', 'cmu0000036993', 'cmu0000036994', 'cmu0000036995', 'cmu0000036996', 'cmu0000036997', 'cmu0000036998', 'cmu0000036999', 'cmu0000037002', 'cmu0000037003', 'cmu0000037004', 'cmu0000037005', 'cmu0000037006', 'cmu0000037012', 'cmu0000037015', 'cmu0000037028', 'cmu0000037029', 'cmu0000037033', 'cmu0000037034', 'cmu0000037037', 'cmu0000037044', 'cmu0000037046', 'cmu0000037047', 'cmu0000037050', 'cmu0000037051', 'cmu0000037054', 'cmu0000037057', 'cmu0000037058', 'cmu0000037062', 'cmu0000037068', 'cmu0000037069', 'cmu0000037070', 'cmu0000037073', 'cmu0000037074', 'cmu0000037077', 'cmu0000037081', 'cmu0000037083', 'cmu0000037085', 'cmu0000037086', 'cmu0000037087', 'cmu0000037093', 'cmu0000037096', 'cmu0000037100', 'cmu0000037118', 'cmu0000037122', 'cmu0000037125', 'cmu0000037127', 'cmu0000037135', 'cmu0000037136', 'cmu0000037143', 'cmu0000037177', 'cmu0000037178', 'cmu0000037179', 'cmu0000037180', 'cmu0000037182', 'cmu0000037183', 'cmu0000037187', 'cmu0000037188', 'cmu0000037189', 'cmu0000037190', 'cmu0000037191', 'cmu0000037192', 'cmu0000037194', 'cmu0000037195', 'cmu0000037197', 'cmu0000037198', 'cmu0000037199', 'cmu0000037200', 'cmu0000037205', 'cmu0000037207', 'cmu0000037210', 'cmu0000037211', 'cmu0000037212', 'cmu0000037221', 'cmu0000037222', 'cmu0000037228', 'cmu0000037231', 'cmu0000037232', 'cmu0000037235', 'cmu0000037251', 'cmu0000037252', 'cmu0000037255', 'cmu0000037264', 'cmu0000037268', 'cmu0000037273', 'cmu0000037275', 'cmu0000037294', 'cmu0000037314', 'cmu0000037317', 'cmu0000037324', 'cmu0000037327', 'cmu0000037332', 'cmu0000037333', 'cmu0000037335', 'cmu0000037341', 'cmu0000037351', 'cmu0000037353', 'cmu0000037354', 'cmu0000037356', 'cmu0000037359', 'cmu0000037364', 'cmu0000037365', 'cmu0000037366', 'cmu0000037367', 'cmu0000037369', 'cmu0000037370', 'cmu0000037375', 'cmu0000037384', 'cmu0000037388', 'cmu0000037393', 'cmu0000037398', 'cmu0000037399', 'cmu0000037400', 'cmu0000037401', 'cmu0000037405', 'cmu0000037407', 'cmu0000037426', 'cmu0000037430', 'cmu0000037433', 'cmu0000037435', 'cmu0000037437', 'cmu0000037454', 'cmu0000037455', 'cmu0000037456', 'cmu0000037464', 'cmu0000037468', 'cmu0000037470', 'cmu0000037471', 'cmu0000037479', 'cmu0000037483', 'cmu0000037484', 'cmu0000037486', 'cmu0000037487', 'cmu0000037489', 'cmu0000037491', 'cmu0000037494', 'cmu0000037495', 'cmu0000037496', 'cmu0000037498', 'cmu0000037499', 'cmu0000037502', 'cmu0000037504', 'cmu0000037505', 'cmu0000037507', 'cmu0000037509', 'cmu0000037510', 'cmu0000037512', 'cmu0000037514', 'cmu0000037515', 'cmu0000037519', 'cmu0000037520', 'cmu0000037521', 'cmu0000037524', 'cmu0000037528', 'cmu0000037529', 'cmu0000037531', 'cmu0000037533', 'cmu0000037536', 'cmu0000037539', 'cmu0000037543', 'cmu0000037546', 'cmu0000037549', 'cmu0000037564', 'cmu0000037566', 'cmu0000037592', 'cmu0000037595', 'cmu0000037596', 'cmu0000037599', 'cmu0000037604', 'cmu0000037607', 'cmu0000037608', 'cmu0000037611', 'cmu0000037612', 'cmu0000037622', 'cmu0000037625', 'cmu0000037627', 'cmu0000037629', 'cmu0000037632', 'cmu0000037633', 'cmu0000037634', 'cmu0000037640', 'cmu0000037674', 'cmu0000037678', 'cmu0000037679', 'cmu0000037688', 'cmu0000037694', 'cmu0000037696', 'cmu0000037703', 'cmu0000037705', 'cmu0000037707', 'cmu0000037708', 'cmu0000037709', 'cmu0000037713', 'cmu0000037714', 'cmu0000037716', 'cmu0000037717', 'cmu0000037719', 'cmu0000037721', 'cmu0000037722', 'cmu0000037723', 'cmu0000037724', 'cmu0000037725', 'cmu0000037728', 'cmu0000037733', 'cmu0000037735', 'cmu0000037744', 'cmu0000037745', 'cmu0000037768', 'cmu0000037771', 'cmu0000037774', 'cmu0000037775', 'cmu0000037782', 'cmu0000037787', 'cmu0000037788', 'cmu0000037791', 'cmu0000037798', 'cmu0000037799', 'cmu0000037802', 'cmu0000037804', 'cmu0000037805', 'cmu0000037809', 'cmu0000037821', 'cmu0000037824', 'cmu0000037831', 'cmu0000037833', 'cmu0000037834', 'cmu0000037835', 'cmu0000037836', 'cmu0000037837', 'cmu0000037838', 'cmu0000037842', 'cmu0000037851', 'cmu0000037857', 'cmu0000037858', 'cmu0000037863', 'cmu0000037866', 'cmu0000037880', 'cmu0000037895', 'cmu0000037903', 'cmu0000037906', 'cmu0000037908', 'cmu0000037917', 'cmu0000037919', 'cmu0000037920', 'cmu0000037923', 'cmu0000037924', 'cmu0000037926', 'cmu0000037927', 'cmu0000037931', 'cmu0000037933', 'cmu0000037936', 'cmu0000037940', 'cmu0000037953', 'cmu0000037960', 'cmu0000037966', 'cmu0000037970', 'cmu0000037971', 'cmu0000037972', 'cmu0000037981', 'cmu0000037983', 'cmu0000037984', 'cmu0000037986', 'cmu0000038005', 'cmu0000038007', 'cmu0000038009', 'cmu0000038011', 'cmu0000038013', 'cmu0000038014', 'cmu0000038016', 'cmu0000038021', 'cmu0000038022', 'cmu0000038024', 'cmu0000038035', 'cmu0000038051', 'cmu0000038054', 'cmu0000038058', 'cmu0000038060', 'cmu0000038061', 'cmu0000038064', 'cmu0000038066', 'cmu0000038071', 'cmu0000038075', 'cmu0000038081', 'cmu0000038082', 'cmu0000038085', 'cmu0000038087', 'cmu0000038088', 'cmu0000038090', 'cmu0000038098', 'cmu0000038111', 'cmu0000038114', 'cmu0000038119', 'cmu0000038120', 'cmu0000038121', 'cmu0000038122', 'cmu0000038123', 'cmu0000038124', 'cmu0000038129', 'cmu0000038131', 'cmu0000038134', 'cmu0000038135', 'cmu0000038136', 'cmu0000038137', 'cmu0000038139', 'cmu0000038145', 'cmu0000038148', 'cmu0000038150', 'cmu0000038152', 'cmu0000038154', 'cmu0000038166', 'cmu0000038168', 'cmu0000038174', 'cmu0000038183', 'cmu0000038184', 'cmu0000038191', 'cmu0000038193', 'cmu0000038194', 'cmu0000038199', 'cmu0000038200', 'cmu0000038205', 'cmu0000038211', 'cmu0000038233', 'cmu0000038234', 'cmu0000038235', 'cmu0000038237', 'cmu0000038238', 'cmu0000038239', 'cmu0000038241', 'cmu0000038247', 'cmu0000038248', 'cmu0000038251', 'cmu0000038252', 'cmu0000038254', 'cmu0000038256', 'cmu0000038259', 'cmu0000038260', 'cmu0000038263', 'cmu0000038265', 'cmu0000038267', 'cmu0000038275', 'cmu0000038278', 'cmu0000038282', 'cmu0000038284', 'cmu0000038288', 'cmu0000038301', 'cmu0000038302', 'cmu0000038305', 'cmu0000038306', 'cmu0000038320', 'cmu0000038321', 'cmu0000038322', 'cmu0000038324', 'cmu0000038330', 'cmu0000038340', 'cmu0000038344', 'cmu0000038345', 'cmu0000038358', 'cmu0000038360', 'cmu0000038361', 'cmu0000038362', 'cmu0000038363', 'cmu0000038364', 'cmu0000038366', 'cmu0000038380', 'cmu0000038384', 'cmu0000038386', 'cmu0000038387', 'cmu0000038388', 'cmu0000038389', 'cmu0000038390', 'cmu0000038391', 'cmu0000038396', 'cmu0000038397', 'cmu0000038398', 'cmu0000038402', 'cmu0000038404', 'cmu0000038405', 'cmu0000038407', 'cmu0000038410', 'cmu0000038429', 'cmu0000038430', 'cmu0000038432', 'cmu0000038436', 'cmu0000038437', 'cmu0000038439', 'cmu0000038441', 'cmu0000038442', 'cmu0000038444', 'cmu0000038448', 'cmu0000038449', 'cmu0000038450', 'cmu0000038451', 'cmu0000038453', 'cmu0000038456', 'cmu0000038458', 'cmu0000038463', 'cmu0000038466', 'cmu0000038467', 'cmu0000038469', 'cmu0000038470', 'cmu0000038471', 'cmu0000038476', 'cmu0000038481', 'cmu0000038483', 'cmu0000038486', 'cmu0000038487', 'cmu0000038488', 'cmu0000038490', 'cmu0000038492', 'cmu0000038496', 'cmu0000038497', 'cmu0000038498', 'cmu0000038500', 'cmu0000038502', 'cmu0000038503', 'cmu0000038504', 'cmu0000038505', 'cmu0000038510', 'cmu0000038511', 'cmu0000038512', 'cmu0000038526', 'cmu0000038529', 'cmu0000038531', 'cmu0000038533', 'cmu0000038534', 'cmu0000038536', 'cmu0000038537', 'cmu0000038539', 'cmu0000038542', 'cmu0000038544', 'cmu0000038546', 'cmu0000038548', 'cmu0000038550', 'cmu0000038551', 'cmu0000038584', 'cmu0000038591', 'cmu0000038596', 'cmu0000038602', 'cmu0000038603', 'cmu0000038604', 'cmu0000038609', 'cmu0000038617', 'cmu0000038618', 'cmu0000038621', 'cmu0000038622', 'cmu0000038624', 'cmu0000038638', 'cmu0000038639', 'cmu0000038641', 'cmu0000038643', 'cmu0000038649', 'cmu0000038652', 'cmu0000038653', 'cmu0000038654', 'cmu0000038655', 'cmu0000038658', 'cmu0000038662', 'cmu0000038665', 'cmu0000038674', 'cmu0000038677', 'cmu0000038678', 'cmu0000038685', 'cmu0000038686', 'cmu0000038690', 'cmu0000038691', 'cmu0000038692', 'cmu0000038693', 'cmu0000038697', 'cmu0000038698', 'cmu0000038731', 'cmu0000038735', 'cmu0000038738', 'cmu0000038741', 'cmu0000038742', 'cmu0000038746', 'cmu0000038748', 'cmu0000038754', 'cmu0000038755', 'cmu0000038757', 'cmu0000038769', 'cmu0000038770', 'cmu0000038772', 'cmu0000038794', 'cmu0000038795', 'cmu0000038797', 'cmu0000038799', 'cmu0000038800', 'cmu0000038801', 'cmu0000038803', 'cmu0000038806', 'cmu0000038807', 'cmu0000038810', 'cmu0000038821', 'cmu0000038838', 'cmu0000038839', 'cmu0000038848', 'cmu0000038852', 'cmu0000038853', 'cmu0000038854', 'cmu0000038875', 'cmu0000038880', 'cmu0000038885', 'cmu0000038891', 'cmu0000038892', 'cmu0000038897', 'cmu0000038898', 'cmu0000038899', 'cmu0000038900', 'cmu0000038902', 'cmu0000038905', 'cmu0000038906', 'cmu0000038912', 'cmu0000038915', 'cmu0000038937', 'cmu0000038938', 'cmu0000038939', 'cmu0000038940', 'cmu0000038945', 'cmu0000038946', 'cmu0000038950', 'cmu0000038951', 'cmu0000038952', 'cmu0000038956', 'cmu0000038962', 'cmu0000038964', 'cmu0000038965', 'cmu0000038971', 'cmu0000038973', 'cmu0000038974', 'cmu0000038975', 'cmu0000038976', 'cmu0000038977', 'cmu0000038978', 'cmu0000038979', 'cmu0000038982', 'cmu0000038983', 'cmu0000038987', 'cmu0000038991', 'cmu0000038992', 'cmu0000038995', 'cmu0000038998', 'cmu0000039000', 'cmu0000039003', 'cmu0000039004', 'cmu0000039006', 'cmu0000039007', 'cmu0000039008', 'cmu0000039010', 'cmu0000039012', 'cmu0000039015', 'cmu0000039017', 'cmu0000039019', 'cmu0000039025', 'cmu0000039032', 'cmu0000039039', 'cmu0000039041', 'cmu0000039053', 'cmu0000039055', 'cmu0000039056', 'cmu0000039059', 'cmu0000039062', 'cmu0000039065', 'cmu0000039069', 'cmu0000039077', 'cmu0000039078', 'cmu0000039081', 'cmu0000039082', 'cmu0000039084', 'cmu0000039085', 'cmu0000039089', 'cmu0000039090', 'cmu0000039092', 'cmu0000039100', 'cmu0000039103', 'cmu0000039106', 'cmu0000039108', 'cmu0000039110', 'cmu0000039112', 'cmu0000039117', 'cmu0000039120', 'cmu0000039124', 'cmu0000039127', 'cmu0000039128', 'cmu0000039129', 'cmu0000039130', 'cmu0000039135', 'cmu0000039139', 'cmu0000039141', 'cmu0000039143', 'cmu0000039146', 'cmu0000039149', 'cmu0000039152', 'cmu0000039153', 'cmu0000039156', 'cmu0000039161', 'cmu0000039168', 'cmu0000039171', 'cmu0000039172', 'cmu0000039173', 'cmu0000039178', 'cmu0000039180', 'cmu0000039189', 'cmu0000039192', 'cmu0000039193', 'cmu0000039196', 'cmu0000039197', 'cmu0000039202', 'cmu0000039203', 'cmu0000039205', 'cmu0000039208', 'cmu0000039211', 'cmu0000039215', 'cmu0000039217', 'cmu0000039219', 'cmu0000039229', 'cmu0000039252', 'cmu0000039259', 'cmu0000039260', 'cmu0000039264', 'cmu0000039267', 'cmu0000039270', 'cmu0000039272', 'cmu0000039277', 'cmu0000039284', 'cmu0000039291', 'cmu0000039293', 'cmu0000039295', 'cmu0000039296', 'cmu0000039298', 'cmu0000039302', 'cmu0000039303', 'cmu0000039304', 'cmu0000039306', 'cmu0000039308', 'cmu0000039312', 'cmu0000039313', 'cmu0000039314', 'cmu0000039315', 'cmu0000039322', 'cmu0000039323', 'cmu0000039325', 'cmu0000039326', 'cmu0000039329', 'cmu0000039331', 'cmu0000039334', 'cmu0000039335', 'cmu0000039336', 'cmu0000039337', 'cmu0000039338', 'cmu0000039341', 'cmu0000039342', 'cmu0000039344', 'cmu0000039345', 'cmu0000039348', 'cmu0000039351', 'cmu0000039352', 'cmu0000039354', 'cmu0000039356', 'cmu0000039357', 'cmu0000039358', 'cmu0000039359', 'cmu0000039360', 'cmu0000039361', 'cmu0000039365', 'cmu0000039370', 'cmu0000039372', 'cmu0000039375', 'cmu0000039378', 'cmu0000039381', 'cmu0000039384', 'cmu0000039392', 'cmu0000039395', 'cmu0000039397', 'cmu0000039399', 'cmu0000039400', 'cmu0000039402', 'cmu0000039408', 'cmu0000039409', 'cmu0000039412', 'cmu0000039414', 'cmu0000039415', 'cmu0000039420', 'cmu0000039424', 'cmu0000039425', 'cmu0000039430', 'cmu0000039435', 'cmu0000039440', 'cmu0000039444', 'cmu0000039445', 'cmu0000039446', 'cmu0000039447', 'cmu0000039448', 'cmu0000039450', 'cmu0000039454', 'cmu0000039455', 'cmu0000039456', 'cmu0000039462', 'cmu0000039464', 'cmu0000039467', 'cmu0000039468', 'cmu0000039471', 'cmu0000039473', 'cmu0000039474', 'cmu0000039476', 'cmu0000039477', 'cmu0000039496', 'cmu0000039497', 'cmu0000039500', 'cmu0000039501', 'cmu0000039503', 'cmu0000039507', 'cmu0000039509', 'cmu0000039512', 'cmu0000039513', 'cmu0000039515', 'cmu0000039521', 'cmu0000039529', 'cmu0000039536', 'cmu0000039537', 'cmu0000039538', 'cmu0000039539', 'cmu0000039540', 'cmu0000039544', 'cmu0000039545', 'cmu0000039546', 'cmu0000039567', 'cmu0000039573', 'cmu0000039580', 'cmu0000039583', 'cmu0000039591', 'cmu0000039593', 'cmu0000039596', 'cmu0000039635', 'cmu0000039636', 'cmu0000039642', 'cmu0000039647', 'cmu0000039648', 'cmu0000039652', 'cmu0000039653', 'cmu0000039656', 'cmu0000039657', 'cmu0000039658', 'cmu0000039666', 'cmu0000039672', 'cmu0000039675', 'cmu0000039680', 'cmu0000039684', 'cmu0000039685', 'cmu0000039688', 'cmu0000039689', 'cmu0000039694', 'cmu0000039701', 'cmu0000039704', 'cmu0000039706', 'cmu0000039707', 'cmu0000039709', 'cmu0000039710', 'cmu0000039711', 'cmu0000039713', 'cmu0000039714', 'cmu0000039718', 'cmu0000039719', 'cmu0000039722', 'cmu0000039723', 'cmu0000039724', 'cmu0000039726', 'cmu0000039731', 'cmu0000039740', 'cmu0000039741', 'cmu0000039744', 'cmu0000039747', 'cmu0000039752', 'cmu0000039753', 'cmu0000039754', 'cmu0000039755', 'cmu0000039756', 'cmu0000039757', 'cmu0000039763', 'cmu0000039764', 'cmu0000039765', 'cmu0000039766', 'cmu0000039768', 'cmu0000039769', 'cmu0000039771', 'cmu0000039773', 'cmu0000039774', 'cmu0000039775', 'cmu0000039777', 'cmu0000039780', 'cmu0000039781', 'cmu0000039783', 'cmu0000039786', 'cmu0000039788', 'cmu0000039813', 'cmu0000039818', 'cmu0000039827', 'cmu0000039840', 'cmu0000039841', 'cmu0000039846', 'cmu0000039849', 'cmu0000039850', 'cmu0000039857', 'cmu0000039859', 'cmu0000039860', 'cmu0000039861', 'cmu0000039862', 'cmu0000039868', 'cmu0000039870', 'cmu0000039872', 'cmu0000039876', 'cmu0000039877', 'cmu0000039878', 'cmu0000039879', 'cmu0000039882', 'cmu0000039887', 'cmu0000039889', 'cmu0000039890', 'cmu0000039891', 'cmu0000039894', 'cmu0000039895', 'cmu0000039896', 'cmu0000039909', 'cmu0000039916', 'cmu0000039918', 'cmu0000039929', 'cmu0000039932', 'cmu0000039934', 'cmu0000039937', 'cmu0000039940', 'cmu0000039945', 'cmu0000039946', 'cmu0000039947', 'cmu0000039950', 'cmu0000039951', 'cmu0000039952', 'cmu0000039958', 'cmu0000039962', 'cmu0000039971', 'cmu0000039972', 'cmu0000040047', 'cmu0000040048', 'cmu0000040054', 'cmu0000040055', 'cmu0000040056', 'cmu0000040058', 'cmu0000040059', 'cmu0000040061', 'cmu0000040063', 'cmu0000040068', 'cmu0000040070', 'cmu0000040071', 'cmu0000040072', 'cmu0000040082', 'cmu0000040086', 'cmu0000040087', 'cmu0000040093', 'cmu0000040094', 'cmu0000040095', 'cmu0000040101', 'cmu0000040104', 'cmu0000040106', 'cmu0000040108', 'cmu0000040109', 'cmu0000040111', 'cmu0000040113', 'cmu0000040114', 'cmu0000040115', 'cmu0000040116', 'cmu0000040121', 'cmu0000040122', 'cmu0000040124', 'cmu0000040126', 'cmu0000040146', 'cmu0000040151', 'cmu0000040152', 'cmu0000040161', 'cmu0000040164', 'cmu0000040166', 'cmu0000040173', 'cmu0000040176', 'cmu0000040177', 'cmu0000040179', 'cmu0000040182', 'cmu0000040189', 'cmu0000040199', 'cmu0000040204', 'cmu0000040209', 'cmu0000040211', 'cmu0000040213', 'cmu0000040216', 'cmu0000040217', 'cmu0000040218', 'cmu0000040219', 'cmu0000040220', 'cmu0000040227', 'cmu0000040228', 'cmu0000040231', 'cmu0000040234', 'cmu0000040235', 'cmu0000040237', 'cmu0000040238', 'cmu0000040240', 'cmu0000040242', 'cmu0000040244', 'cmu0000040245', 'cmu0000040247', 'cmu0000040248', 'cmu0000040250', 'cmu0000040254', 'cmu0000040256', 'cmu0000040259', 'cmu0000040263', 'cmu0000040264', 'cmu0000040265', 'cmu0000040266', 'cmu0000040268', 'cmu0000040269', 'cmu0000040273', 'cmu0000040276', 'cmu0000040280', 'cmu0000040281', 'cmu0000040285', 'cmu0000040286', 'cmu0000040290', 'cmu0000040293', 'cmu0000040297', 'cmu0000040299', 'cmu0000040303', 'cmu0000040304', 'cmu0000040305', 'cmu0000040309', 'cmu0000040313', 'cmu0000040315', 'cmu0000040318', 'cmu0000040325', 'cmu0000040329', 'cmu0000040330', 'cmu0000040333', 'cmu0000040337', 'cmu0000040340', 'cmu0000040346', 'cmu0000040348', 'cmu0000040356', 'cmu0000040357', 'cmu0000040359', 'cmu0000040389', 'cmu0000040395', 'cmu0000040397', 'cmu0000040403', 'cmu0000040404', 'cmu0000040408', 'cmu0000040412', 'cmu0000040416', 'cmu0000040423', 'cmu0000040424', 'cmu0000040425', 'cmu0000040432', 'cmu0000040435', 'cmu0000040442', 'cmu0000040448', 'cmu0000040449', 'cmu0000040451', 'cmu0000040452', 'cmu0000040461', 'cmu0000040469', 'cmu0000040471', 'cmu0000040476', 'cmu0000040477', 'cmu0000040483', 'cmu0000040485', 'cmu0000040502', 'cmu0000040504', 'cmu0000040505', 'cmu0000040507', 'cmu0000040510', 'cmu0000040520', 'cmu0000040531', 'cmu0000040533', 'cmu0000040535', 'cmu0000040536', 'cmu0000040537', 'cmu0000040538', 'cmu0000040544', 'cmu0000040550', 'cmu0000040552', 'cmu0000040553', 'cmu0000040556', 'cmu0000040557', 'cmu0000040558', 'cmu0000040566', 'cmu0000040569', 'cmu0000040572', 'cmu0000040573', 'cmu0000040582', 'cmu0000040583', 'cmu0000040587', 'cmu0000040589', 'cmu0000040594', 'cmu0000040599', 'cmu0000040600', 'cmu0000040601', 'cmu0000040605', 'cmu0000040608', 'cmu0000040609', 'cmu0000040612', 'cmu0000040614', 'cmu0000040615', 'cmu0000040616', 'cmu0000040618', 'cmu0000040621', 'cmu0000040622', 'cmu0000040624', 'cmu0000040625', 'cmu0000040626', 'cmu0000040627', 'cmu0000040643', 'cmu0000040644', 'cmu0000040646', 'cmu0000040647', 'cmu0000040649', 'cmu0000040651', 'cmu0000040661', 'cmu0000040662', 'cmu0000040680', 'cmu0000040684', 'cmu0000040687', 'cmu0000040689', 'cmu0000040692', 'cmu0000040693', 'cmu0000040695', 'cmu0000040711', 'cmu0000040714', 'cmu0000040719', 'cmu0000040721', 'cmu0000040723', 'cmu0000040724', 'cmu0000040727', 'cmu0000040731', 'cmu0000040746', 'cmu0000040747', 'cmu0000040748', 'cmu0000040750', 'cmu0000040752', 'cmu0000040753', 'cmu0000040755', 'cmu0000040762', 'cmu0000040763', 'cmu0000040765', 'cmu0000040767', 'cmu0000040768', 'cmu0000040769', 'cmu0000040770', 'cmu0000040772', 'cmu0000040773', 'cmu0000040774', 'cmu0000040775', 'cmu0000040777', 'cmu0000040778', 'cmu0000040779', 'cmu0000040781', 'cmu0000040782', 'cmu0000040784', 'cmu0000040787', 'cmu0000040789', 'cmu0000040793', 'cmu0000040796', 'cmu0000040802', 'cmu0000040805', 'cmu0000040807', 'cmu0000040809', 'cmu0000040810', 'cmu0000040813', 'cmu0000040817', 'cmu0000040831', 'cmu0000040833', 'cmu0000040836', 'cmu0000040840', 'cmu0000040846', 'cmu0000040847', 'cmu0000040849', 'cmu0000040851', 'cmu0000040853', 'cmu0000040856', 'cmu0000040857', 'cmu0000040858', 'cmu0000040859', 'cmu0000040872', 'cmu0000040878', 'cmu0000040879', 'cmu0000040885', 'cmu0000040888', 'cmu0000040895', 'cmu0000040899', 'cmu0000040910', 'cmu0000040916', 'cmu0000040918', 'cmu0000040919', 'cmu0000040920', 'cmu0000040921', 'cmu0000040926', 'cmu0000040928', 'cmu0000040932', 'cmu0000040933', 'cmu0000040936', 'cmu0000040938', 'cmu0000040944', 'cmu0000040945', 'cmu0000040947', 'cmu0000040948', 'cmu0000040949', 'cmu0000040955', 'cmu0000040956', 'cmu0000040960', 'cmu0000040969', 'cmu0000040970', 'cmu0000040971', 'cmu0000040976', 'cmu0000040980', 'cmu0000040981', 'cmu0000040983', 'cmu0000040984', 'cmu0000040987', 'cmu0000040990', 'cmu0000040993', 'cmu0000040995', 'cmu0000040996', 'cmu0000041001', 'cmu0000041005', 'cmu0000041009', 'cmu0000041010', 'cmu0000041011', 'cmu0000041016', 'cmu0000041019', 'cmu0000041023', 'cmu0000041025', 'cmu0000041028', 'cmu0000041029', 'cmu0000041033', 'cmu0000041036', 'cmu0000041054', 'cmu0000041056', 'cmu0000041063', 'cmu0000041065', 'cmu0000041068', 'cmu0000041069', 'cmu0000041071', 'cmu0000041072', 'cmu0000041075', 'cmu0000041077', 'cmu0000041078', 'cmu0000041079', 'cmu0000041082', 'cmu0000041085', 'cmu0000041086', 'cmu0000041087', 'cmu0000041089', 'cmu0000041090', 'cmu0000041091', 'cmu0000041104', 'cmu0000041112', 'cmu0000041113', 'cmu0000041115', 'cmu0000041117', 'cmu0000041118', 'cmu0000041120', 'cmu0000041124', 'cmu0000041128', 'cmu0000041131', 'cmu0000041132', 'cmu0000041135', 'cmu0000041138', 'cmu0000041143', 'cmu0000041145', 'cmu0000041148', 'cmu0000041160', 'cmu0000041162', 'cmu0000041164', 'cmu0000041166', 'cmu0000041170', 'cmu0000041171', 'cmu0000041173', 'cmu0000041177', 'cmu0000041180', 'cmu0000041181', 'cmu0000041183', 'cmu0000041184', 'cmu0000041196', 'cmu0000041197', 'cmu0000041199', 'cmu0000041200', 'cmu0000041204', 'cmu0000041210', 'cmu0000041212', 'cmu0000041213', 'cmu0000041217', 'cmu0000041230', 'cmu0000041233', 'cmu0000041234', 'cmu0000041245', 'cmu0000041247', 'cmu0000041260', 'cmu0000041264', 'cmu0000041265', 'cmu0000041267', 'cmu0000041268', 'cmu0000041269', 'cmu0000041270', 'cmu0000041271', 'cmu0000041273', 'cmu0000041274', 'cmu0000041278', 'cmu0000041279', 'cmu0000041282', 'cmu0000041284', 'cmu0000041288', 'cmu0000041291', 'cmu0000041292', 'cmu0000041293', 'cmu0000041294', 'cmu0000041302', 'cmu0000041304', 'cmu0000041305', 'cmu0000041307', 'cmu0000041308', 'cmu0000041309', 'cmu0000041312', 'cmu0000041313', 'cmu0000041318', 'cmu0000041322', 'cmu0000041327', 'cmu0000041328', 'cmu0000041332', 'cmu0000041333', 'cmu0000041335', 'cmu0000041338', 'cmu0000041343', 'cmu0000041344', 'cmu0000041351', 'cmu0000041357', 'cmu0000041360', 'cmu0000041365', 'cmu0000041371', 'cmu0000041372', 'cmu0000041374', 'cmu0000041375', 'cmu0000041378', 'cmu0000041379', 'cmu0000041381', 'cmu0000041382', 'cmu0000041383', 'cmu0000041387', 'cmu0000041401', 'cmu0000041402', 'cmu0000041405', 'cmu0000041407', 'cmu0000041408', 'cmu0000041421', 'cmu0000041422', 'cmu0000041426', 'cmu0000041428', 'cmu0000041431', 'cmu0000041432', 'cmu0000041435', 'cmu0000041436', 'cmu0000041437', 'cmu0000041438', 'cmu0000041439', 'cmu0000041441', 'cmu0000041443', 'cmu0000041450', 'cmu0000041451', 'cmu0000041452', 'cmu0000041454', 'cmu0000041458', 'cmu0000041492', 'cmu0000041510', 'cmu0000041512', 'cmu0000041515', 'cmu0000041516', 'cmu0000041519', 'cmu0000041521', 'cmu0000041524', 'cmu0000041531', 'cmu0000041535', 'cmu0000041537', 'cmu0000041539', 'cmu0000041542', 'cmu0000041548', 'cmu0000041557', 'cmu0000041559', 'cmu0000041561', 'cmu0000041562', 'cmu0000041563', 'cmu0000041564', 'cmu0000041572', 'cmu0000041573', 'cmu0000041575', 'cmu0000041576', 'cmu0000041581', 'cmu0000041582', 'cmu0000041584', 'cmu0000041585', 'cmu0000041586', 'cmu0000041587', 'cmu0000041588', 'cmu0000041590', 'cmu0000041597', 'cmu0000041604', 'cmu0000041605', 'cmu0000041606', 'cmu0000041609', 'cmu0000041611', 'cmu0000041613', 'cmu0000041619', 'cmu0000041621', 'cmu0000041624', 'cmu0000041627', 'cmu0000041632', 'cmu0000041635', 'cmu0000041637', 'cmu0000041640', 'cmu0000041642', 'cmu0000041646', 'cmu0000041654', 'cmu0000041655', 'cmu0000041670', 'cmu0000041672', 'cmu0000041673', 'cmu0000041674', 'cmu0000041676', 'cmu0000041684', 'cmu0000041695', 'cmu0000041698', 'cmu0000041699', 'cmu0000041702', 'cmu0000041706', 'cmu0000041707', 'cmu0000041709', 'cmu0000041712', 'cmu0000041717', 'cmu0000041721', 'cmu0000041725', 'cmu0000041730', 'cmu0000041733', 'cmu0000041734', 'cmu0000041737', 'cmu0000041738', 'cmu0000041740', 'cmu0000041747', 'cmu0000041749', 'cmu0000041752', 'cmu0000041753', 'cmu0000041766', 'cmu0000041767', 'cmu0000041768', 'cmu0000041769', 'cmu0000041797', 'cmu0000041798', 'cmu0000041804', 'cmu0000041805', 'cmu0000041807', 'cmu0000041809', 'cmu0000041810', 'cmu0000041814', 'cmu0000041822', 'cmu0000041828', 'cmu0000041831', 'cmu0000041832', 'cmu0000041833', 'cmu0000041840', 'cmu0000041844', 'cmu0000041845', 'cmu0000041857', 'cmu0000041862', 'cmu0000041864', 'cmu0000041865', 'cmu0000041868', 'cmu0000041871', 'cmu0000041873', 'cmu0000041876', 'cmu0000041877', 'cmu0000041879', 'cmu0000041882', 'cmu0000041884', 'cmu0000041885', 'cmu0000041893', 'cmu0000041894', 'cmu0000041895', 'cmu0000041896', 'cmu0000041897', 'cmu0000041898', 'cmu0000041899', 'cmu0000041912', 'cmu0000041915', 'cmu0000041921', 'cmu0000041922', 'cmu0000041932', 'cmu0000041936', 'cmu0000041938', 'cmu0000041945', 'cmu0000041946', 'cmu0000041951', 'cmu0000041952', 'cmu0000041958', 'cmu0000041959', 'cmu0000041960', 'cmu0000041961', 'cmu0000041966', 'cmu0000041968', 'cmu0000041969', 'cmu0000041970', 'cmu0000041972', 'cmu0000041981', 'cmu0000041982', 'cmu0000041983', 'cmu0000041987', 'cmu0000041992', 'cmu0000041995', 'cmu0000042003', 'cmu0000042005', 'cmu0000042006', 'cmu0000042014', 'cmu0000042016', 'cmu0000042026', 'cmu0000042031', 'cmu0000042034', 'cmu0000042044', 'cmu0000042048', 'cmu0000042052', 'cmu0000042055', 'cmu0000042058', 'cmu0000042059', 'cmu0000042064', 'cmu0000042067', 'cmu0000042068', 'cmu0000042069', 'cmu0000042071', 'cmu0000042074', 'cmu0000042076', 'cmu0000042077', 'cmu0000042079', 'cmu0000042081', 'cmu0000042082', 'cmu0000042096', 'cmu0000042101', 'cmu0000042103', 'cmu0000042104', 'cmu0000042132', 'cmu0000042136', 'cmu0000042138', 'cmu0000042140', 'cmu0000042141', 'cmu0000042148', 'cmu0000042149', 'cmu0000042150', 'cmu0000042155', 'cmu0000042156', 'cmu0000042157', 'cmu0000042158', 'cmu0000042164', 'cmu0000042167', 'cmu0000042170', 'cmu0000042175', 'cmu0000042176', 'cmu0000042179', 'cmu0000042201', 'cmu0000042202', 'cmu0000042205', 'cmu0000042206', 'cmu0000042208', 'cmu0000042209', 'cmu0000042211', 'cmu0000042216', 'cmu0000042222', 'cmu0000042237', 'cmu0000042238', 'cmu0000042242', 'cmu0000042248', 'cmu0000042250', 'cmu0000042254', 'cmu0000042256', 'cmu0000042257', 'cmu0000042259', 'cmu0000042263', 'cmu0000042265', 'cmu0000042266', 'cmu0000042271', 'cmu0000042278', 'cmu0000042279', 'cmu0000042282', 'cmu0000042283', 'cmu0000042294', 'cmu0000042300', 'cmu0000042302', 'cmu0000042303', 'cmu0000042305', 'cmu0000042307', 'cmu0000042308', 'cmu0000042309', 'cmu0000042316', 'cmu0000042317', 'cmu0000042318', 'cmu0000042319', 'cmu0000042321', 'cmu0000042328', 'cmu0000042334', 'cmu0000042335', 'cmu0000042340', 'cmu0000042344', 'cmu0000042346', 'cmu0000042347', 'cmu0000042356', 'cmu0000042358', 'cmu0000042360', 'cmu0000042366', 'cmu0000042371', 'cmu0000042373', 'cmu0000042383', 'cmu0000042390', 'cmu0000042391', 'cmu0000042392', 'cmu0000042393', 'cmu0000042394', 'cmu0000042398', 'cmu0000042399', 'cmu0000042400', 'cmu0000042402', 'cmu0000042407', 'cmu0000042415', 'cmu0000042416', 'cmu0000042418', 'cmu0000042419', 'cmu0000042420', 'cmu0000042422', 'cmu0000042424', 'cmu0000042429', 'cmu0000042430', 'cmu0000042433', 'cmu0000042434', 'cmu0000042437', 'cmu0000042438', 'cmu0000042442', 'cmu0000042444', 'cmu0000042445', 'cmu0000042449', 'cmu0000042450', 'cmu0000042451', 'cmu0000042453', 'cmu0000042461', 'cmu0000042463', 'cmu0000042467', 'cmu0000042468', 'cmu0000042469', 'cmu0000042470', 'cmu0000042473', 'cmu0000042480', 'cmu0000042486', 'cmu0000042489', 'cmu0000042491', 'cmu0000042493', 'cmu0000042498', 'cmu0000042500', 'cmu0000042501', 'cmu0000042507', 'cmu0000042511', 'cmu0000042513', 'cmu0000042516', 'cmu0000042521', 'cmu0000042522', 'cmu0000042526', 'cmu0000042529', 'cmu0000042530', 'cmu0000042532', 'cmu0000042533', 'cmu0000042535', 'cmu0000042536', 'cmu0000042537', 'cmu0000042541', 'cmu0000042542', 'cmu0000042543', 'cmu0000042545', 'cmu0000042547', 'cmu0000042549', 'cmu0000042550', 'cmu0000042554', 'cmu0000042555', 'cmu0000042557', 'cmu0000042559', 'cmu0000042562', 'cmu0000042564', 'cmu0000042565', 'cmu0000042569', 'cmu0000042571', 'cmu0000042573', 'cmu0000042577', 'cmu0000042578', 'cmu0000042579', 'cmu0000042580', 'cmu0000042585', 'cmu0000042590', 'cmu0000042595', 'cmu0000042603', 'cmu0000042606', 'cmu0000042607', 'cmu0000042611', 'cmu0000042612', 'cmu0000042613', 'cmu0000042614', 'cmu0000042616', 'cmu0000042625', 'cmu0000042626', 'cmu0000042629', 'cmu0000042630', 'cmu0000042631', 'cmu0000042634', 'cmu0000042635', 'cmu0000042637', 'cmu0000042642', 'cmu0000042644', 'cmu0000042645', 'cmu0000042651', 'cmu0000042662', 'cmu0000042664', 'cmu0000042671', 'cmu0000042672', 'cmu0000042675', 'cmu0000042676', 'cmu0000042677', 'cmu0000042678', 'cmu0000042682', 'cmu0000042687', 'cmu0000042688', 'cmu0000042689', 'cmu0000042690', 'cmu0000042693', 'cmu0000042694', 'cmu0000042696', 'cmu0000042697', 'cmu0000042698', 'cmu0000042700', 'cmu0000042709', 'cmu0000042715', 'cmu0000042717', 'cmu0000042718', 'cmu0000042723', 'cmu0000042725', 'cmu0000042727', 'cmu0000042730', 'cmu0000042731', 'cmu0000042732', 'cmu0000042734', 'cmu0000042740', 'cmu0000042741', 'cmu0000042742', 'cmu0000042743', 'cmu0000042747', 'cmu0000042749', 'cmu0000042751', 'cmu0000042791', 'cmu0000042802', 'cmu0000042803', 'cmu0000042804', 'cmu0000042809', 'cmu0000042810', 'cmu0000042812', 'cmu0000042813', 'cmu0000042816', 'cmu0000042818', 'cmu0000042820', 'cmu0000042821', 'cmu0000042830', 'cmu0000042831', 'cmu0000042832', 'cmu0000042837', 'cmu0000042839', 'cmu0000042841', 'cmu0000042842', 'cmu0000042844']\n"
     ]
    }
   ],
   "source": [
    "print(df_intervals[df_intervals['valid']]['interval_id'].tolist())"
   ]
  },
  {
   "cell_type": "code",
   "execution_count": 357,
   "metadata": {},
   "outputs": [
    {
     "data": {
      "text/markdown": [
       "[VALID] Speaker **noah**:"
      ],
      "text/plain": [
       "<IPython.core.display.Markdown object>"
      ]
     },
     "metadata": {},
     "output_type": "display_data"
    },
    {
     "name": "stdout",
     "output_type": "stream",
     "text": [
      "  ◘ Videos: #598\n",
      "  ◘ Intervals: #2,657\n",
      "  ◘ Total Duration: 14 hours, 36 minutues, 04 seconds (52,564 seconds)\n",
      "  ◘ All are Youtube videos: True\n"
     ]
    }
   ],
   "source": [
    "printmd(f'[VALID] Speaker **{SPEAKER_NAME}**:')\n",
    "print_df_info(df_intervals[df_intervals['valid']])"
   ]
  },
  {
   "cell_type": "code",
   "execution_count": 166,
   "metadata": {},
   "outputs": [
    {
     "data": {
      "text/markdown": [
       "[VALID] Speaker **noah**:"
      ],
      "text/plain": [
       "<IPython.core.display.Markdown object>"
      ]
     },
     "metadata": {},
     "output_type": "display_data"
    },
    {
     "name": "stdout",
     "output_type": "stream",
     "text": [
      "  ◘ Videos: #621\n",
      "  ◘ Intervals: #3,744\n",
      "  ◘ Total Duration: 01 hours, 00 minutues, 05 seconds (90,005 seconds)\n",
      "  ◘ All are Youtube videos: True\n"
     ]
    }
   ],
   "source": [
    "printmd(f'[VALID] Speaker **{SPEAKER_NAME}**:')\n",
    "print_df_info(df_intervals[df_intervals['valid']])"
   ]
  },
  {
   "cell_type": "code",
   "execution_count": 167,
   "metadata": {},
   "outputs": [
    {
     "data": {
      "text/markdown": [
       "[ALL] Speaker **noah**:"
      ],
      "text/plain": [
       "<IPython.core.display.Markdown object>"
      ]
     },
     "metadata": {},
     "output_type": "display_data"
    },
    {
     "name": "stdout",
     "output_type": "stream",
     "text": [
      "  ◘ Videos: #671\n",
      "  ◘ Intervals: #4,367\n",
      "  ◘ Total Duration: 04 hours, 03 minutues, 30 seconds (101,010 seconds)\n",
      "  ◘ All are Youtube videos: True\n"
     ]
    }
   ],
   "source": [
    "printmd(f'[ALL] Speaker **{SPEAKER_NAME}**:')\n",
    "print_df_info(df_intervals)"
   ]
  },
  {
   "cell_type": "code",
   "execution_count": 168,
   "metadata": {},
   "outputs": [
    {
     "data": {
      "text/plain": [
       "621"
      ]
     },
     "execution_count": 168,
     "metadata": {},
     "output_type": "execute_result"
    }
   ],
   "source": [
    "df_intervals[df_intervals['valid']]['video_id'].nunique()"
   ]
  },
  {
   "cell_type": "code",
   "execution_count": 169,
   "metadata": {},
   "outputs": [
    {
     "data": {
      "text/plain": [
       "['-DoL722yNn4',\n",
       " '-EDP12VmqvM',\n",
       " '-Kt0bI6o4Kg',\n",
       " '-V7QBRoxa4A',\n",
       " '-WBPLBVdmt4',\n",
       " '-ZFTCUZt6sc',\n",
       " '-gQeWTuWMn8',\n",
       " '-mAxcwBTWj4',\n",
       " '-miQePbGryM',\n",
       " '-ouP4GOBamU',\n",
       " '-oyLA2X3sd4',\n",
       " '-z4bwpdqO-0',\n",
       " '00OoD3_aemQ',\n",
       " '06lR5QpoTzo',\n",
       " '0IJSSBMLz6g',\n",
       " '0ZfrVCiYH9Y',\n",
       " '0fzWsroZPik',\n",
       " '0k3hFEfQ7k8',\n",
       " '0xK1DJ691sE',\n",
       " '11JG5W3WfgM',\n",
       " '19HVfFAc7FI',\n",
       " '1K3p2uH4_ME',\n",
       " '1L1y044HORI',\n",
       " '1WiyVKuuWWU',\n",
       " '1Yv2w7r7ppo',\n",
       " '1fEpScnNLfs',\n",
       " '1hug1qbpbAw',\n",
       " '1pKzrfoOKIA',\n",
       " '1s-h-bx-cbY',\n",
       " '22uvRSqFj98',\n",
       " '243wWj9haKQ',\n",
       " '25w439VNqTw',\n",
       " '28NKj86lTw4',\n",
       " '2Bayu1EnUY0',\n",
       " '2LUNq03VnEg',\n",
       " '2OuIT5xla2Y',\n",
       " '2aNaY9QDTuM',\n",
       " '2a_EeMBVoSM',\n",
       " '2b36m9_QCIQ',\n",
       " '2heqqCYCR2s',\n",
       " '2vqHMTEmRwE',\n",
       " '31MgnYJjIY0',\n",
       " '3FMu_jNOUwY',\n",
       " '3G4aUwgReVc',\n",
       " '3Lkg1eOS8qY',\n",
       " '3N_L9WdgSeQ',\n",
       " '3Pybklc-3cI',\n",
       " '3RCcrt56tO0',\n",
       " '3c-tfwvE8kM',\n",
       " '3dLMX9kiU2Q',\n",
       " '3fzppEqL_34',\n",
       " '3m2QCkXiq_A',\n",
       " '3mHXn6LwQV0',\n",
       " '3pYM3OWh4ug',\n",
       " '3sfUFAXI1cA',\n",
       " '3yKIcyxMLiU',\n",
       " '3zDr04UIr8I',\n",
       " '4-Gx23vH0CE',\n",
       " '42hc0T6VWfQ',\n",
       " '49CKGw8DXcw',\n",
       " '49x3HZweRpU',\n",
       " '4APOXh9qzlw',\n",
       " '4AnFmfH4aNY',\n",
       " '4LZ3P1sv9jE',\n",
       " '4NlECfer_Mo',\n",
       " '4UWAM6mBJD0',\n",
       " '4VhgRttiS7M',\n",
       " '4np_7LkqL5M',\n",
       " '4t6y5NgE4Eg',\n",
       " '51TRDz-suUc',\n",
       " '598zN40zTpU',\n",
       " '5A_2I8Y5tWk',\n",
       " '5BPrTJ0iuOE',\n",
       " '5FUBNhsmCkY',\n",
       " '5GZVzvyZ07o',\n",
       " '5I1v7aXYitI',\n",
       " '5MSQm3hqEUU',\n",
       " '5eeRj6z6xDQ',\n",
       " '5nDkgRE-QeI',\n",
       " '5nIlIPjUsuA',\n",
       " '5tKOV0KqPlg',\n",
       " '5vmpZf7shw0',\n",
       " '5w4toelQs_4',\n",
       " '6-IOrRqLw0g',\n",
       " '60q4UrjlvAA',\n",
       " '6BKZmH4y4GE',\n",
       " '6EEvuMoGmOA',\n",
       " '6Km61zguhFI',\n",
       " '6N1Odg0CPgs',\n",
       " '6PsdwP8zBoU',\n",
       " '6alHr_ZTdQI',\n",
       " '6ewGX9kzEGo',\n",
       " '6klkc60rUSA',\n",
       " '6yOCWTi4F5o',\n",
       " '70vteacsp6U',\n",
       " '787EIzhOIyA',\n",
       " '7CkmLsyvutg',\n",
       " '7EgSXqo968I',\n",
       " '7GboYxcs-HE',\n",
       " '7QD-jvOJfgA',\n",
       " '7RAYoz_vVTQ',\n",
       " '7YOwyhHK4hY',\n",
       " '7mJWwntW6Lw',\n",
       " '7sLKr9kDsB4',\n",
       " '81TNHop1hyE',\n",
       " '836UQ1k2Qkw',\n",
       " '8Kv4F0D210A',\n",
       " '8Qxbfjtj1II',\n",
       " '8ToevwVM3e8',\n",
       " '8U4P1I3Y58g',\n",
       " '8cpnwh6jwaA',\n",
       " '8ef-3ueoRUM',\n",
       " '8gIydF9jHWE',\n",
       " '8vqHuqG6bps',\n",
       " '8xtg9EOsEsg',\n",
       " '8zhYDFjniTo',\n",
       " '9334QCChovo',\n",
       " '9ElnkWjenqA',\n",
       " '9MbGPtX0ELQ',\n",
       " '9P1IVQJdVvE',\n",
       " '9aTKdlvKDl4',\n",
       " '9dgWhY_jRZU',\n",
       " '9dhHG_Ib5Bc',\n",
       " 'A-WOTR8qA54',\n",
       " 'A1Urd0jTEVU',\n",
       " 'AH8ARLu6-_Q',\n",
       " 'AOh6nOcyvyM',\n",
       " 'AZQXqwAeYq4',\n",
       " 'Adbifqgx6d4',\n",
       " 'ApX8fF8Ghcs',\n",
       " 'AqgbQVTW0Ho',\n",
       " 'Ast3c14_i7c',\n",
       " 'BA_7aFYLd3g',\n",
       " 'BB38DvTV5kc',\n",
       " 'Bi4eT7WVzX4',\n",
       " 'Bj3nCJxsuIQ',\n",
       " 'BtQOEG2ThPY',\n",
       " 'Bx0mGCZvIX4',\n",
       " 'BzRSEwrhcTg',\n",
       " 'C1O0-_ZNSzQ',\n",
       " 'C1vBGz8c930',\n",
       " 'CCkDxgJyjXc',\n",
       " 'CDF3tv1JYRA',\n",
       " 'CEQTo9usai4',\n",
       " 'CHImlpUxg9w',\n",
       " 'CIihb1WFj9M',\n",
       " 'CNcgUdPacyo',\n",
       " 'CSx-N9ayCvU',\n",
       " 'CYeKAMrkneM',\n",
       " 'CgQdsoQ2oQY',\n",
       " 'Cm_2rFSN28c',\n",
       " 'CoTA2aqckNM',\n",
       " 'CpYgDTimaKs',\n",
       " 'CtSZLqdO-y4',\n",
       " 'Cu07QRP82N0',\n",
       " 'D6yiw8MD_6o',\n",
       " 'DJyv8x614m0',\n",
       " 'DQqCPckiZpU',\n",
       " 'DWIFd9jx2dQ',\n",
       " 'DXbAv9F2JuM',\n",
       " 'Dbct4yHZ6LA',\n",
       " 'Dexs-nlAvhA',\n",
       " 'DnBHq5I52LM',\n",
       " 'Dq3A7VE6jWM',\n",
       " 'E4V0Y6SzXzE',\n",
       " 'E81hVrd5Ibg',\n",
       " 'EBDpZU-oGoc',\n",
       " 'ECPliGna03U',\n",
       " 'EDxCK4fi_sA',\n",
       " 'EO1kcRYemic',\n",
       " 'ETAX_P8HNNY',\n",
       " 'EWGGuItX9gY',\n",
       " 'EaWI-T8DcRs',\n",
       " 'Eax_1hRbGI0',\n",
       " 'Eni4qP0OYlw',\n",
       " 'Et2DnMxTVws',\n",
       " 'EuNOaH0wq0k',\n",
       " 'F-HTGrI-NXE',\n",
       " 'F2MGNXj8HLo',\n",
       " 'FLFfy0pgBB0',\n",
       " 'FVKJa23IHyo',\n",
       " 'FY5IwndHDLQ',\n",
       " 'FbkmSCwNZl8',\n",
       " 'FgJU2mppHGU',\n",
       " 'FhW7Ww_pqnQ',\n",
       " 'Fn3u1iApneA',\n",
       " 'FrA_nnJygjw',\n",
       " 'FtclXjQLOtM',\n",
       " 'G82UsIzbuRs',\n",
       " 'GGd9YbDH3ew',\n",
       " 'GJk45YEiXo0',\n",
       " 'GSX6EA8X-oY',\n",
       " 'GgHRGgViWfY',\n",
       " 'GvWp0B4IBpU',\n",
       " 'GyDT6YI2AcA',\n",
       " 'HMqCnHq2-q8',\n",
       " 'HPtcDrbUa1A',\n",
       " 'HZvuxKpwY3A',\n",
       " 'HdteSQzKE_4',\n",
       " 'HhpeTelAQ14',\n",
       " 'Hjec21YF6JM',\n",
       " 'Hk5Z_9lPeZ0',\n",
       " 'Hn8PkpWvqMs',\n",
       " 'HyTtnknPKbg',\n",
       " 'IDFq6rVmkao',\n",
       " 'IcSD5ow87QU',\n",
       " 'IpMfCabIId8',\n",
       " 'IscSSf18oqE',\n",
       " 'IxhGjDyBT30',\n",
       " 'J3AoKXiiLag',\n",
       " 'JMQSk9Q65ew',\n",
       " 'Ja2FmusOFpU',\n",
       " 'Ji84ClIa_SQ',\n",
       " 'JmYp6VWUqDI',\n",
       " 'JuTFYhYP4GQ',\n",
       " 'K15j__fl6yc',\n",
       " 'K2yj64tAxj4',\n",
       " 'K56EfuG92Tc',\n",
       " 'KLjlTW9re-o',\n",
       " 'KNciYSuHarI',\n",
       " 'KP_YpMBYttM',\n",
       " 'Kk0nD_n1nlE',\n",
       " 'Kk65soc7Ayw',\n",
       " 'L2MTvBUvtiE',\n",
       " 'L66tZ_WiNbQ',\n",
       " 'LMD7Rd2yBfI',\n",
       " 'LZWU5TWSa2I',\n",
       " 'LbvjVKxcKiA',\n",
       " 'LdraZPkm2tk',\n",
       " 'LggwPPEmyqE',\n",
       " 'LiPjWUn-PUo',\n",
       " 'LqaRqLjLxTA',\n",
       " 'LsGL5MXRVmc',\n",
       " 'LwQe4L9svUU',\n",
       " 'M6W6FzcMjJ0',\n",
       " 'MUDBIGtXTRg',\n",
       " 'MjVUgIaSQdE',\n",
       " 'MmXlT-VRW0U',\n",
       " 'Mqj1C9G3GBw',\n",
       " 'MuHwddQy9RA',\n",
       " 'My7e4qkIemQ',\n",
       " 'NHd0aDpT1aQ',\n",
       " 'NKrrGpoiqSk',\n",
       " 'NOqXgO0MFbQ',\n",
       " 'NZ2dlSIRnDw',\n",
       " 'NZYaC-E_KNg',\n",
       " 'NaWqP28tn3U',\n",
       " 'NnsnZdsJ2R4',\n",
       " 'Nq-NNLOY6LQ',\n",
       " 'NucQzQBALr0',\n",
       " 'Ny9WNvLfldU',\n",
       " 'Nz-PzVYJXF0',\n",
       " 'O76eDqPW2ag',\n",
       " 'OHAZ1qATtzo',\n",
       " 'OI-KAG1FdjY',\n",
       " 'ON_ZwV2-nOU',\n",
       " 'OQkfDJ2zVNo',\n",
       " 'OSnc07IxrfY',\n",
       " 'OTWkeN2Gyz8',\n",
       " 'Of8Cskx7UJQ',\n",
       " 'OqAkQzUGTW8',\n",
       " 'OtHi4hWunaQ',\n",
       " 'P0sLI28HRgk',\n",
       " 'PH9fUt6VZQQ',\n",
       " 'PJmOKR1hOCA',\n",
       " 'PXfc_jGZZkg',\n",
       " 'PelSGxTPlXM',\n",
       " 'Ph9NJq1yEwY',\n",
       " 'PtQDKZ3DllE',\n",
       " 'PykpGVjHuyA',\n",
       " 'Q34E5ONJSbA',\n",
       " 'QFW6FeWdklU',\n",
       " 'QSBoxW7Dc6Y',\n",
       " 'QbJgtZbU8LU',\n",
       " 'QeyyubvBy4A',\n",
       " 'Qi3h_Vjv_ek',\n",
       " 'QlaeirHJpns',\n",
       " 'Qrf6ESWY9kU',\n",
       " 'QtE0acRimSw',\n",
       " 'RGKcIIm_VeU',\n",
       " 'RMpULHRKQVM',\n",
       " 'RWR9U90j588',\n",
       " 'RcksWUqS1Cg',\n",
       " 'RlX0q4IaGA0',\n",
       " 'RqccSEEO-5M',\n",
       " 'S-RnbSKVSa0',\n",
       " 'S95hrT1N0Dc',\n",
       " 'SImrp_VyVR0',\n",
       " 'S_iVjOAMD4Y',\n",
       " 'SgTxGOrXqRQ',\n",
       " 'Sm_t2Fh9ZmA',\n",
       " 'SyTRR0NFnB8',\n",
       " 'TPWtRH_rC54',\n",
       " 'TUMc4cVuexw',\n",
       " 'TVT-5AuWYhY',\n",
       " 'TreyZMjl_SA',\n",
       " 'TtTld5wOyUs',\n",
       " 'TtziF8sgZ0I',\n",
       " 'UKCo9GbN5F4',\n",
       " 'UPN5SN5Hh70',\n",
       " 'UXOesknCZOs',\n",
       " 'UbQqW57EL2w',\n",
       " 'UkdAusG0OUE',\n",
       " 'Ulgz-ZvY1aU',\n",
       " 'UsTHMCWPA7A',\n",
       " 'V6mQYfrbuDQ',\n",
       " 'V9WHeEMug2o',\n",
       " 'VBs7pqh35TQ',\n",
       " 'VTQlX5J-9yg',\n",
       " 'VVchNC5MJjc',\n",
       " 'VigvdWezawI',\n",
       " 'VnLmKJNmIqQ',\n",
       " 'VvdxznLY6jw',\n",
       " 'W4DE5JNNdrE',\n",
       " 'WFn55BBOFI0',\n",
       " 'WKM87UEr6OQ',\n",
       " 'WRVrI2YjxkU',\n",
       " 'WV8JBiOL0Q0',\n",
       " 'WWEa0p7cKqo',\n",
       " 'Wd_-2qU2pUU',\n",
       " 'WfIhqvZTExg',\n",
       " 'WfW_V-RLqrA',\n",
       " 'WhyC1ia_3eA',\n",
       " 'WpFT-NXU-zU',\n",
       " 'WqyWRsAdyfA',\n",
       " 'X14KayX-Dvw',\n",
       " 'XAEokHB1ulQ',\n",
       " 'XIUaRgwJshE',\n",
       " 'XOVsDOG6WWw',\n",
       " 'XUVlRZxJAy0',\n",
       " 'XgG8StjJQcQ',\n",
       " 'Xqd6z-XhfU0',\n",
       " 'XrBxrRLCdn8',\n",
       " 'XxgPb7wPUL8',\n",
       " 'XyQLKimaLpk',\n",
       " 'Y6dpogUHvOk',\n",
       " 'Y7ZYoHtFT7s',\n",
       " 'Y7u9sIsXQP8',\n",
       " 'YG0dYt1GiA4',\n",
       " 'YOfhjDDJUPM',\n",
       " 'YQDbEDCFG1w',\n",
       " 'YRGgbcU7FmI',\n",
       " 'YY6p8B4IR24',\n",
       " 'Y_MwpagOWo0',\n",
       " 'YgMRJguzCNQ',\n",
       " 'YjeHPAUZidI',\n",
       " 'Ym1NLvmcl0k',\n",
       " 'YpAN6e2sTys',\n",
       " 'YunIdTQ4HS8',\n",
       " 'YyDPzeehPH8',\n",
       " 'YzUBMwlGNWQ',\n",
       " 'Z0EVWwa3g8g',\n",
       " 'Z7GCTHP-YP4',\n",
       " 'Z7msRhXgKXk',\n",
       " 'ZGv6QfZkWo8',\n",
       " 'ZHt-_NlHZAU',\n",
       " 'ZLcuzUQaCu0',\n",
       " 'ZQJkwYh1vfk',\n",
       " 'ZQcaYYHqrUY',\n",
       " 'ZQnxjn9Yk40',\n",
       " 'ZVxUS_QtWXU',\n",
       " 'ZZp1QnSliqk',\n",
       " 'Z_x0zaX4Z_0',\n",
       " 'ZaSSzGs2Wvo',\n",
       " 'ZmOKKY9shiQ',\n",
       " 'ZnkNkER9S4g',\n",
       " 'ZrAjJ2NFWUA',\n",
       " 'ZsJAwBayoKc',\n",
       " 'ZvkK8W03ymI',\n",
       " '_7i04G7moYI',\n",
       " '_8JwyiFcAKU',\n",
       " '_AUYWv5DF7A',\n",
       " '_E4cdaRu5y4',\n",
       " '_EfVgmV3rWc',\n",
       " '_HYe9VdOGIQ',\n",
       " '_IPykdnv0fg',\n",
       " '_N-j37SGsxM',\n",
       " '_OfSMdshr_I',\n",
       " '_ZVkLqPX6kk',\n",
       " '__et8A3_jMo',\n",
       " '_kjaBcUwkOc',\n",
       " '_rujVtjlp1Y',\n",
       " '_wfr7Rr_ffc',\n",
       " 'a0kAmYKqGmY',\n",
       " 'aUbzT25kZ6s',\n",
       " 'adElj_VMSQA',\n",
       " 'amF7fLJUjCY',\n",
       " 'anMWTH1LRZg',\n",
       " 'aufMdURbitU',\n",
       " 'bEeFvIWvMLY',\n",
       " 'bSrS2gs6UHc',\n",
       " 'bbD_gKexiZw',\n",
       " 'bkIYY3jy4Bo',\n",
       " 'bnqE3pM22pI',\n",
       " 'bv64-F5ror8',\n",
       " 'c2bi0WLxPwU',\n",
       " 'cCKkr2IIfVU',\n",
       " 'cSmusC3VnHQ',\n",
       " 'ccVuFV_L208',\n",
       " 'cm80MKn_ZQ8',\n",
       " 'cqAe41QTUec',\n",
       " 'ctHj7R35dL0',\n",
       " 'ctcqvDwSHFc',\n",
       " 'czwMU8j0y30',\n",
       " 'd-91kaGe7uM',\n",
       " 'd-b3FWwPb34',\n",
       " 'd169_pZ-8C4',\n",
       " 'd2bg-YK8xXc',\n",
       " 'd8M3EaevzpY',\n",
       " 'dCctj8j7jFw',\n",
       " 'dCf4_qQOKgQ',\n",
       " 'dHSe27mOB-s',\n",
       " 'dP04h0Ayias',\n",
       " 'dZbu5qGfBf4',\n",
       " 'di6YNrCWGIg',\n",
       " 'dpMEXDY-L4M',\n",
       " 'dqLTQjSPPhM',\n",
       " 'e63XbdGBxAg',\n",
       " 'eRZspIF9vjg',\n",
       " 'eVPP-YpRDoY',\n",
       " 'elr-tOT87Hw',\n",
       " 'enfELcLr4q0',\n",
       " 'evacQcRuu5g',\n",
       " 'f0KLJoh5-Os',\n",
       " 'f77aSltwffs',\n",
       " 'f9dGN1AY1no',\n",
       " 'fJADVjnTbYs',\n",
       " 'fQft4Rr5J-k',\n",
       " 'frglD9wF6J0',\n",
       " 'fvWXstffJBQ',\n",
       " 'g6U0L5ajsvI',\n",
       " 'g7ARmmKX-jw',\n",
       " 'g8Y6JhOVYqw',\n",
       " 'gFXUxD5_NSU',\n",
       " 'gK3ZmAtVIPk',\n",
       " 'gOkkrN3H8Nw',\n",
       " 'gQEcZfWPZIo',\n",
       " 'go0RXViJ6lA',\n",
       " 'h0AoA_858W4',\n",
       " 'h0ChlY8mR5k',\n",
       " 'h69N-IFNxM8',\n",
       " 'hDAfY-NdQyA',\n",
       " 'hLfYaklGpIE',\n",
       " 'hPvi5urWnoA',\n",
       " 'hSCAHKy61-M',\n",
       " 'htT9g1uHO00',\n",
       " 'huRVCqOyDcU',\n",
       " 'hw1RrmlrTtM',\n",
       " 'i02hFj5UZI4',\n",
       " 'iA-sXi8v8Ns',\n",
       " 'iLMFf94KMDI',\n",
       " 'iPh1gFp1vBs',\n",
       " 'iQrg8znKKLQ',\n",
       " 'iZ8YFUFnRdU',\n",
       " 'iZAykpQWN_M',\n",
       " 'ikPO9ukO9gU',\n",
       " 'in6rwXjE5w4',\n",
       " 'isxrREkP44I',\n",
       " 'ivICy7ZenkE',\n",
       " 'j-LxrPrXJO8',\n",
       " 'jA2nOf9nTc8',\n",
       " 'jSMGvxwbJ5U',\n",
       " 'jXPUOlyDAGw',\n",
       " 'jboMDuP7t2E',\n",
       " 'jsd7yy_F5OQ',\n",
       " 'jxPne0xdpII',\n",
       " 'k2hsQSY9s2M',\n",
       " 'kB8B1r52y2A',\n",
       " 'kbJurMqT4KI',\n",
       " 'kd9GEQkJLqQ',\n",
       " 'kg-3uvw4LOg',\n",
       " 'kjIylOnOHpI',\n",
       " 'kmpqnxpYUqA',\n",
       " 'kzY5Eah3DYM',\n",
       " 'l9u-bHLsW0M',\n",
       " 'lDsUJIykzds',\n",
       " 'lIYa94IBWbY',\n",
       " 'lWJswyA5lEw',\n",
       " 'lY_-GF1ojss',\n",
       " 'leDRQOYVpho',\n",
       " 'lpgupYoTZXc',\n",
       " 'lqPlBN2f028',\n",
       " 'lz8CrZHGl80',\n",
       " 'm0WZKP_-s4o',\n",
       " 'm2p1pXF6I7M',\n",
       " 'mJQ0GgYZ-Dk',\n",
       " 'mLdWLWvgl9Q',\n",
       " 'mQxW1wxfIT4',\n",
       " 'mW-C7WE1xOs',\n",
       " 'mdyW48HlMKo',\n",
       " 'monhjZzx4nw',\n",
       " 'mq91Z2GW5WA',\n",
       " 'mv6KxGkdb3M',\n",
       " 'n3apu-FHU_0',\n",
       " 'n6zLotxh5po',\n",
       " 'nEmfN5Np7gk',\n",
       " 'nHVXVPi1ezw',\n",
       " 'nMfAyHR-MMw',\n",
       " 'nV5fXPVeZoQ',\n",
       " 'ncJpPNQ-uZU',\n",
       " 'nqNGRGQrpw0',\n",
       " 'nsm9aL-7s8E',\n",
       " 'o5NFQrhisnw',\n",
       " 'oDsYsiUJZP8',\n",
       " 'oE7pZQ28eQw',\n",
       " 'oNE-igGbc5A',\n",
       " 'oUA-aYI6m8Y',\n",
       " 'oUR1GGeFN1Y',\n",
       " 'oWCrc3MwXPI',\n",
       " 'obRAYBt70SE',\n",
       " 'of7g9u54WsI',\n",
       " 'ot3cnM6VNLI',\n",
       " 'ouj8ULggR4k',\n",
       " 'oxWNBWbIOCI',\n",
       " 'p3lZCn47jKM',\n",
       " 'p4osaYDEjck',\n",
       " 'p8a2mzU07Uw',\n",
       " 'pDpf7P-r1L4',\n",
       " 'pJpq4uLYxcE',\n",
       " 'pVbwZg8rM2c',\n",
       " 'pcKNxA8AF4E',\n",
       " 'pgYrFOAjjMg',\n",
       " 'pqLCCVHwDec',\n",
       " 'pvXJnukCFoo',\n",
       " 'pxtZt9M6Flw',\n",
       " 'q3vm7xmQ37s',\n",
       " 'q7A8ibDdK50',\n",
       " 'qDyaspdzhXI',\n",
       " 'qF0-T4-WO2k',\n",
       " 'qJK-hWl_9GQ',\n",
       " 'qdn50yqOVFY',\n",
       " 'qljfObaUG2s',\n",
       " 'qm2C7BccsgM',\n",
       " 'quas9q0sK5Q',\n",
       " 'r1Tgl0NXanY',\n",
       " 'r4VzaPCIMkQ',\n",
       " 'r6d1IR1DH_A',\n",
       " 'rUZL4z5Drcw',\n",
       " 'rfmQbGuk7Jk',\n",
       " 'rrRtG37h4GU',\n",
       " 'ruXZGC0HJfc',\n",
       " 'rvPRaxR7HOE',\n",
       " 'rvfulw6l9Ao',\n",
       " 'rwZouQYMwkI',\n",
       " 'sBCHcnvwfzA',\n",
       " 'sOZIDDl3S6M',\n",
       " 'sP3qPvfbiMw',\n",
       " 'sXXKlL5b0K4',\n",
       " 'sbreVYpFr2w',\n",
       " 'sk7FVJ2MKyI',\n",
       " 'sqfQ04NbiU4',\n",
       " 'swKA0hAMufU',\n",
       " 't2kqHuOniv0',\n",
       " 't6hiV1stRzo',\n",
       " 't7epj5tK54M',\n",
       " 't7p7ALg1qRg',\n",
       " 'tKfIkcLVRO8',\n",
       " 'tLZ_o320DfY',\n",
       " 'tSjL2alKIbI',\n",
       " 'tX7why_IWsk',\n",
       " 'tdjnQvBZJ5k',\n",
       " 'tezzBhJP0UU',\n",
       " 'tmsC-7QwRjU',\n",
       " 'u4RAlBD_wmk',\n",
       " 'uACDL22q_mM',\n",
       " 'uGNDPGTGtfo',\n",
       " 'uNsxCU0glHw',\n",
       " 'ua1tRlkE6O8',\n",
       " 'ubW10K6qfl8',\n",
       " 'uduUXJ5pAEM',\n",
       " 'uh4Ho2wOoco',\n",
       " 'ujU9qLIDRf8',\n",
       " 'umge6h_ZQN0',\n",
       " 'v48EtbCr4TA',\n",
       " 'v70BsGolxKg',\n",
       " 'vBjpTiARC-U',\n",
       " 'vP9l-Lyhl1g',\n",
       " 'vVtphAUDtEY',\n",
       " 'vZPBqQndkVY',\n",
       " 'vflifd3BtPE',\n",
       " 'vlqu5Lc_2c4',\n",
       " 'vsPAUBajtjs',\n",
       " 'vv8yh7kJt1E',\n",
       " 'vx6fJDL4CMg',\n",
       " 'vz8Qs-EYWQw',\n",
       " 'w0QymNhKXNc',\n",
       " 'w5zvsnlyBeU',\n",
       " 'wEKYXGFJzD4',\n",
       " 'wEaAUZfe8bY',\n",
       " 'wHfNaPcCBNc',\n",
       " 'wNLYfuo8hUo',\n",
       " 'wOue4ceC2W8',\n",
       " 'wVM1D-gwDtM',\n",
       " 'wZgtEIp-mTU',\n",
       " 'whQE6JnNoqM',\n",
       " 'wjdyOiTetZY',\n",
       " 'wqgz7kRGVxg',\n",
       " 'x-Wyv7x3wSc',\n",
       " 'x1E0AzpWM-o',\n",
       " 'x2YLS80Nmls',\n",
       " 'xML07JtkO48',\n",
       " 'xP_f6IRh958',\n",
       " 'xWI8jpqlVNE',\n",
       " 'xpTOkPDdeao',\n",
       " 'xwr7pEgPqk4',\n",
       " 'yD87uewhqOA',\n",
       " 'yRRFnPrkFEs',\n",
       " 'yYsV0OBIasA',\n",
       " 'yiER4rUrGN8',\n",
       " 'ypzDLr8PwCw',\n",
       " 'z3zyBV_AHWk',\n",
       " 'z6iPzduN9nc',\n",
       " 'z7bhWyIr0Ys',\n",
       " 'zC4KdjTq9kI',\n",
       " 'zNeGkBqMV2M',\n",
       " 'zYIMhnFWoQA',\n",
       " 'zdO3yCpbgC0',\n",
       " 'zdTm9DYsN1c',\n",
       " 'zueBzoWt5xs',\n",
       " 'zuudCxw1GdQ',\n",
       " 'zw_KAW7NvKA']"
      ]
     },
     "execution_count": 169,
     "metadata": {},
     "output_type": "execute_result"
    }
   ],
   "source": [
    "sorted(df_intervals[df_intervals['valid']]['video_id'].unique().tolist())"
   ]
  },
  {
   "cell_type": "code",
   "execution_count": null,
   "metadata": {},
   "outputs": [],
   "source": []
  }
 ],
 "metadata": {
  "kernelspec": {
   "display_name": "pyvok",
   "language": "python",
   "name": "pyvok"
  },
  "language_info": {
   "codemirror_mode": {
    "name": "ipython",
    "version": 3
   },
   "file_extension": ".py",
   "mimetype": "text/x-python",
   "name": "python",
   "nbconvert_exporter": "python",
   "pygments_lexer": "ipython3",
   "version": "3.6.14"
  },
  "toc": {
   "base_numbering": 1,
   "nav_menu": {},
   "number_sections": true,
   "sideBar": true,
   "skip_h1_title": false,
   "title_cell": "Table of Contents",
   "title_sidebar": "Contents",
   "toc_cell": false,
   "toc_position": {},
   "toc_section_display": true,
   "toc_window_display": false
  },
  "toc-showcode": false
 },
 "nbformat": 4,
 "nbformat_minor": 4
}
