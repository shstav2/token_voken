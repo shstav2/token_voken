{
 "cells": [
  {
   "cell_type": "markdown",
   "id": "under-board",
   "metadata": {},
   "source": [
    "# Imports"
   ]
  },
  {
   "cell_type": "code",
   "execution_count": 1,
   "id": "atmospheric-weekend",
   "metadata": {},
   "outputs": [],
   "source": [
    "import sys\n",
    "import os\n",
    "from pathlib import Path\n",
    "import itertools\n",
    "import shutil\n",
    "import time\n",
    "import h5py\n",
    "import scipy\n",
    "from itertools import cycle, islice\n",
    "from datetime import datetime\n",
    "\n",
    "import torch\n",
    "from torchvision import transforms\n",
    "from torchvision.datasets.folder import default_loader\n",
    "\n",
    "import matplotlib.pyplot as plt\n",
    "import numpy as np\n",
    "import pandas as pd\n",
    "import seaborn as sns\n",
    "\n",
    "import ipywidgets as widgets\n",
    "from ipywidgets import interact\n",
    "\n",
    "import IPython\n",
    "from IPython.display import Markdown, display, YouTubeVideo\n",
    "\n",
    "from tqdm.notebook import tqdm"
   ]
  },
  {
   "cell_type": "code",
   "execution_count": 2,
   "id": "agricultural-reception",
   "metadata": {},
   "outputs": [],
   "source": [
    "pd.options.display.float_format = '{:.2f}'.format\n",
    "pd.options.display.max_colwidth = 300"
   ]
  },
  {
   "cell_type": "code",
   "execution_count": 3,
   "id": "patient-renaissance",
   "metadata": {},
   "outputs": [],
   "source": [
    "sys.path.append('/Users/staveshemesh/Projects/shstav2/token_voken/src')\n",
    "sys.path.append('/Users/staveshemesh/Projects/shstav2/token_voken')"
   ]
  },
  {
   "cell_type": "code",
   "execution_count": 4,
   "id": "equivalent-marketplace",
   "metadata": {},
   "outputs": [],
   "source": [
    "from src.setup import syspath_append_projects"
   ]
  },
  {
   "cell_type": "code",
   "execution_count": 5,
   "id": "handy-mercury",
   "metadata": {},
   "outputs": [],
   "source": [
    "syspath_append_projects()"
   ]
  },
  {
   "cell_type": "markdown",
   "id": "fabulous-mitchell",
   "metadata": {},
   "source": [
    "# Helpers"
   ]
  },
  {
   "cell_type": "markdown",
   "id": "effective-connection",
   "metadata": {},
   "source": [
    "## Paths Resolvers"
   ]
  },
  {
   "cell_type": "code",
   "execution_count": 6,
   "id": "behavioral-stroke",
   "metadata": {},
   "outputs": [],
   "source": [
    "from src.path_resolvers import *"
   ]
  },
  {
   "cell_type": "markdown",
   "id": "covered-portfolio",
   "metadata": {},
   "source": [
    "## Display Utils"
   ]
  },
  {
   "cell_type": "code",
   "execution_count": 7,
   "id": "ceramic-evanescence",
   "metadata": {},
   "outputs": [],
   "source": [
    "from src.display_utils import *"
   ]
  },
  {
   "cell_type": "markdown",
   "id": "precious-vault",
   "metadata": {},
   "source": [
    "## Constants"
   ]
  },
  {
   "cell_type": "code",
   "execution_count": 8,
   "id": "chemical-invalid",
   "metadata": {},
   "outputs": [],
   "source": [
    "FRAME_RATE = 15\n",
    "SAMPLE_INTERVAL = '214625'\n",
    "SPEAKER_NAME = 'oliver'\n",
    "TAB = '&nbsp;&nbsp;&nbsp;&nbsp;'"
   ]
  },
  {
   "cell_type": "markdown",
   "id": "bizarre-track",
   "metadata": {},
   "source": [
    "# Read Data"
   ]
  },
  {
   "cell_type": "markdown",
   "id": "received-liechtenstein",
   "metadata": {},
   "source": [
    "## Constants for Paths"
   ]
  },
  {
   "cell_type": "code",
   "execution_count": 9,
   "id": "deadly-billy",
   "metadata": {},
   "outputs": [],
   "source": [
    "DATA_ROOT = '/Users/staveshemesh/Projects/shstav2/token_voken/data/'\n",
    "INTERVALS_FILE = '20210506_135358_df_intervals_batch1_431.csv'\n",
    "INTERVALS_PATH = os.path.join(DATA_ROOT, INTERVALS_FILE)\n",
    "\n",
    "PATS_DATA_ROOT = '/Users/staveshemesh/Projects/PATS_DATA/'\n",
    "PATS_SPEAKER_VIZ_DIR = os.path.join(PATS_DATA_ROOT, f'Youtube/{SPEAKER_NAME}')\n",
    "PATS_SPEAKER_DATA_DIR = os.path.join(PATS_DATA_ROOT, f'Processed/{SPEAKER_NAME}/data')\n",
    "PATS_SPEAKER_PATS_INTERVAL_DIR = os.path.join(PATS_SPEAKER_DATA_DIR, 'processed', SPEAKER_NAME)\n",
    "\n",
    "# Output files:\n",
    "#   1. DataFrames\n",
    "#   2. Model Input files\n",
    "# Output Dir\n",
    "TIMESTR = time.strftime(\"%Y%m%d_%H%M%S\")\n",
    "#  Model Input files\n",
    "# OUTPUT_TOKENS_PATH = os.path.join(OUTPUT_ITERATION_DIR, 'sample_token_ids_{count}.hdf5')\n",
    "# OUTPUT_VOKENS_PATH = os.path.join(OUTPUT_ITERATION_DIR, 'sample_voken_ids_{count}.hdf5')\n",
    "# OUTPUT_VOKEN_IDS_PATH = os.path.join(OUTPUT_ITERATION_DIR, '{dataset}_{count}.ids')\n",
    "# OUTPUT_VOKEN_KEYS_PATH = os.path.join(OUTPUT_ITERATION_DIR, 'keys')"
   ]
  },
  {
   "cell_type": "markdown",
   "id": "acknowledged-berlin",
   "metadata": {},
   "source": [
    "## DataFrames"
   ]
  },
  {
   "cell_type": "code",
   "execution_count": 10,
   "id": "swiss-champagne",
   "metadata": {},
   "outputs": [],
   "source": [
    "DATASET_FILE = '20210510_190411_df_dataset_batch1_15659.csv'\n",
    "DATASET_PATH = os.path.join(DATA_ROOT, DATASET_FILE)"
   ]
  },
  {
   "cell_type": "code",
   "execution_count": 11,
   "id": "antique-supervision",
   "metadata": {},
   "outputs": [],
   "source": [
    "df_dataset_all = pd.read_csv(DATASET_PATH, dtype={'interval_id': object})"
   ]
  },
  {
   "cell_type": "code",
   "execution_count": 12,
   "id": "deluxe-mills",
   "metadata": {},
   "outputs": [
    {
     "data": {
      "text/plain": [
       "Index(['word_original', 'bert_token', 'token_id', 'frame_selected', 'voken_id',\n",
       "       'interval_id', 'offset_start', 'offset_end', 'word_time',\n",
       "       'word_len_plus_1', 'word_start', 'word_end', 'frame_start', 'frame_end',\n",
       "       'frame_count', 'frame_path', 'frame_face_path', 'video_id',\n",
       "       'interval_time'],\n",
       "      dtype='object')"
      ]
     },
     "execution_count": 12,
     "metadata": {},
     "output_type": "execute_result"
    }
   ],
   "source": [
    "df_dataset_all.columns"
   ]
  },
  {
   "cell_type": "code",
   "execution_count": 14,
   "id": "selected-suffering",
   "metadata": {},
   "outputs": [
    {
     "data": {
      "text/html": [
       "<style  type=\"text/css\" >\n",
       "    #T_57012050_b33c_11eb_aba9_a683e7ab8623 caption {\n",
       "          color: blue;\n",
       "          font-size: 16px;\n",
       "    }</style><table id=\"T_57012050_b33c_11eb_aba9_a683e7ab8623\" ><caption>Existing Frames</caption><thead>    <tr>        <th class=\"blank level0\" ></th>        <th class=\"col_heading level0 col0\" >has_face_frame</th>    </tr></thead><tbody>\n",
       "                <tr>\n",
       "                        <th id=\"T_57012050_b33c_11eb_aba9_a683e7ab8623level0_row0\" class=\"row_heading level0 row0\" >True</th>\n",
       "                        <td id=\"T_57012050_b33c_11eb_aba9_a683e7ab8623row0_col0\" class=\"data row0 col0\" >7970</td>\n",
       "            </tr>\n",
       "            <tr>\n",
       "                        <th id=\"T_57012050_b33c_11eb_aba9_a683e7ab8623level0_row1\" class=\"row_heading level0 row1\" >False</th>\n",
       "                        <td id=\"T_57012050_b33c_11eb_aba9_a683e7ab8623row1_col0\" class=\"data row1 col0\" >7689</td>\n",
       "            </tr>\n",
       "    </tbody></table>"
      ],
      "text/plain": [
       "<pandas.io.formats.style.Styler at 0x13e7a8358>"
      ]
     },
     "execution_count": 14,
     "metadata": {},
     "output_type": "execute_result"
    }
   ],
   "source": [
    "df_dataset_all['has_face_frame'] = df_dataset_all['frame_face_path'].apply(os.path.exists)\n",
    "df_with_caption(df_dataset_all['has_face_frame'].value_counts().to_frame(), 'Existing Frames')"
   ]
  },
  {
   "cell_type": "code",
   "execution_count": 15,
   "id": "finished-florida",
   "metadata": {},
   "outputs": [],
   "source": [
    "df_dataset = df_dataset_all[df_dataset_all['has_face_frame']]"
   ]
  },
  {
   "cell_type": "code",
   "execution_count": 16,
   "id": "fancy-worst",
   "metadata": {},
   "outputs": [],
   "source": [
    "from models.FECNet import FECNet\n",
    "\n",
    "class VisnFECNetModel(torch.nn.Module):\n",
    "    def __init__(self, arch='fecnet', pretrained=True):\n",
    "        \"\"\"\n",
    "        :param dim: dimension of the output\n",
    "        :param arch: backbone architecture,\n",
    "        :param pretrained: load feature with pre-trained vector\n",
    "        :param finetuning: finetune the model\n",
    "        \"\"\"\n",
    "        super().__init__()\n",
    "        fecnet = FECNet(pretrained=True) # Setup Backbone\n",
    "        for param in fecnet.parameters():\n",
    "            param.requires_grad = False\n",
    "        self.backbone = fecnet\n",
    "\n",
    "    def forward(self, img):\n",
    "        \"\"\"\n",
    "        :param img: a tensor of shape [batch_size, H, W, C]\n",
    "        :return: a tensor of [batch_size, d]\n",
    "        \"\"\"\n",
    "        x = self.backbone(img)\n",
    "        x = x.detach()\n",
    "        # x = x / x.norm(2, dim=-1, keepdim=True)\n",
    "        return x"
   ]
  },
  {
   "cell_type": "code",
   "execution_count": 17,
   "id": "under-border",
   "metadata": {},
   "outputs": [],
   "source": [
    "visn_model = VisnFECNetModel(arch='fecnet').eval()\n",
    "assert visn_model.backbone.training == False\n",
    "assert visn_model.training == False"
   ]
  },
  {
   "cell_type": "code",
   "execution_count": 18,
   "id": "sexual-marine",
   "metadata": {},
   "outputs": [],
   "source": [
    "img_sets = [SPEAKER_NAME]\n",
    "img_paths = df_dataset['frame_face_path'].tolist()\n",
    "img_ids = df_dataset['voken_id'].tolist()\n",
    "img_transform = transforms.Compose([transforms.ToTensor()])\n",
    "batch_size = 32"
   ]
  },
  {
   "cell_type": "code",
   "execution_count": 19,
   "id": "engaged-column",
   "metadata": {},
   "outputs": [
    {
     "data": {
      "application/vnd.jupyter.widget-view+json": {
       "model_id": "06e2ac78e5d14be999bda89b0e1227ab",
       "version_major": 2,
       "version_minor": 0
      },
      "text/plain": [
       "HBox(children=(FloatProgress(value=0.0, max=7970.0), HTML(value='')))"
      ]
     },
     "metadata": {},
     "output_type": "display_data"
    },
    {
     "name": "stdout",
     "output_type": "stream",
     "text": [
      "Loaded image /Users/staveshemesh/Projects/PATS_DATA/Youtube/oliver/Tt-mpuR_QHQ/100913/vokens/face_annot_224/00002/detected_face_0.png\n",
      "Loaded image /Users/staveshemesh/Projects/PATS_DATA/Youtube/oliver/Tt-mpuR_QHQ/100913/vokens/face_annot_224/00006/detected_face_0.png\n",
      "Loaded image /Users/staveshemesh/Projects/PATS_DATA/Youtube/oliver/Tt-mpuR_QHQ/100913/vokens/face_annot_224/00011/detected_face_0.png\n",
      "Loaded image /Users/staveshemesh/Projects/PATS_DATA/Youtube/oliver/Tt-mpuR_QHQ/100913/vokens/face_annot_224/00017/detected_face_0.png\n",
      "Loaded image /Users/staveshemesh/Projects/PATS_DATA/Youtube/oliver/Tt-mpuR_QHQ/100913/vokens/face_annot_224/00033/detected_face_0.png\n",
      "Loaded image /Users/staveshemesh/Projects/PATS_DATA/Youtube/oliver/Tt-mpuR_QHQ/100913/vokens/face_annot_224/00033/detected_face_0.png\n",
      "Loaded image /Users/staveshemesh/Projects/PATS_DATA/Youtube/oliver/Tt-mpuR_QHQ/100913/vokens/face_annot_224/00048/detected_face_0.png\n",
      "Loaded image /Users/staveshemesh/Projects/PATS_DATA/Youtube/oliver/Tt-mpuR_QHQ/100913/vokens/face_annot_224/00053/detected_face_0.png\n",
      "Loaded image /Users/staveshemesh/Projects/PATS_DATA/Youtube/oliver/Tt-mpuR_QHQ/100913/vokens/face_annot_224/00059/detected_face_0.png\n",
      "Loaded image /Users/staveshemesh/Projects/PATS_DATA/Youtube/oliver/Tt-mpuR_QHQ/100913/vokens/face_annot_224/00062/detected_face_0.png\n",
      "\n"
     ]
    }
   ],
   "source": [
    "saved_img_paths = []\n",
    "saved_img_ids = []\n",
    "img_keys = []\n",
    "tensor_imgs = []\n",
    "debug_count = 0\n",
    "last_dim = -1\n",
    "\n",
    "for i, img_path in enumerate(tqdm(img_paths)):\n",
    "    try:\n",
    "        pil_img = default_loader(img_path)\n",
    "        saved_img_paths.append(img_path)\n",
    "        saved_img_ids.append(img_ids[i])\n",
    "        img_tensor = img_transform(pil_img)\n",
    "        tensor_imgs.append(img_tensor)\n",
    "        # debug\n",
    "        if i < 5000 and debug_count < 10:\n",
    "            debug_count += 1\n",
    "            print(\"Loaded image %s\" % img_path)\n",
    "    except Exception as e:\n",
    "        if str(SAMPLE_INTERVAL) in img_path:\n",
    "            print(e)\n",
    "            print(\"Skip image %s\" % img_path)\n",
    "        continue\n",
    "\n",
    "    if len(tensor_imgs) == batch_size:\n",
    "        visn_input = torch.stack(tensor_imgs)\n",
    "        with torch.no_grad():\n",
    "            visn_output = visn_model(visn_input)\n",
    "\n",
    "        # Check sizes of features are equal.\n",
    "        if last_dim == -1:\n",
    "            last_dim = visn_output.shape[-1]\n",
    "        assert last_dim == visn_output.shape[-1]\n",
    "        last_dim = visn_output.shape[-1]\n",
    "\n",
    "        # Saved the features in hdf5\n",
    "        img_keys.extend(visn_output.detach().cpu().numpy())\n",
    "\n",
    "        tensor_imgs = []\n",
    "\n",
    "if len(tensor_imgs) > 0:\n",
    "    visn_input = torch.stack(tensor_imgs)\n",
    "    with torch.no_grad():\n",
    "        visn_output = visn_model(visn_input)\n",
    "    # Saved the features in hdf5\n",
    "    img_keys.extend(visn_output.detach().cpu().numpy())"
   ]
  },
  {
   "cell_type": "code",
   "execution_count": 24,
   "id": "listed-tokyo",
   "metadata": {},
   "outputs": [
    {
     "data": {
      "text/plain": [
       "8"
      ]
     },
     "execution_count": 24,
     "metadata": {},
     "output_type": "execute_result"
    }
   ],
   "source": [
    "len(tensor_imgs)"
   ]
  },
  {
   "cell_type": "code",
   "execution_count": 29,
   "id": "sized-breath",
   "metadata": {},
   "outputs": [
    {
     "data": {
      "text/plain": [
       "5128"
      ]
     },
     "execution_count": 29,
     "metadata": {},
     "output_type": "execute_result"
    }
   ],
   "source": [
    "len(img_keys)"
   ]
  },
  {
   "cell_type": "code",
   "execution_count": 31,
   "id": "commercial-curve",
   "metadata": {},
   "outputs": [
    {
     "data": {
      "text/plain": [
       "32"
      ]
     },
     "execution_count": 31,
     "metadata": {},
     "output_type": "execute_result"
    }
   ],
   "source": [
    "batch_size"
   ]
  },
  {
   "cell_type": "code",
   "execution_count": 30,
   "id": "spiritual-traveler",
   "metadata": {},
   "outputs": [
    {
     "data": {
      "text/plain": [
       "(16,)"
      ]
     },
     "execution_count": 30,
     "metadata": {},
     "output_type": "execute_result"
    }
   ],
   "source": [
    "img_keys[10].shape"
   ]
  },
  {
   "cell_type": "markdown",
   "id": "developed-egypt",
   "metadata": {},
   "source": [
    "## Similarities"
   ]
  },
  {
   "cell_type": "code",
   "execution_count": 49,
   "id": "employed-vehicle",
   "metadata": {},
   "outputs": [],
   "source": [
    "def is_symmetric(A, tol=1e-8):\n",
    "    return np.linalg.norm(A-A.T, scipy.Inf) < tol;"
   ]
  },
  {
   "cell_type": "code",
   "execution_count": 50,
   "id": "durable-involvement",
   "metadata": {},
   "outputs": [],
   "source": [
    "from sentence_transformers import util"
   ]
  },
  {
   "cell_type": "code",
   "execution_count": 110,
   "id": "hispanic-doubt",
   "metadata": {},
   "outputs": [],
   "source": [
    "cosine_scores = util.pytorch_cos_sim(img_keys, img_keys).numpy()\n",
    "cosine_scores_without_diag = np.copy(cosine_scores)\n",
    "np.fill_diagonal(cosine_scores_without_diag, np.nan)"
   ]
  },
  {
   "cell_type": "code",
   "execution_count": 117,
   "id": "human-shipping",
   "metadata": {},
   "outputs": [
    {
     "data": {
      "text/markdown": [
       "**Cosine Scores:**"
      ],
      "text/plain": [
       "<IPython.core.display.Markdown object>"
      ]
     },
     "metadata": {},
     "output_type": "display_data"
    },
    {
     "data": {
      "text/markdown": [
       "&nbsp;&nbsp;&nbsp;&nbsp;**Shape**: (5128, 5128)"
      ],
      "text/plain": [
       "<IPython.core.display.Markdown object>"
      ]
     },
     "metadata": {},
     "output_type": "display_data"
    },
    {
     "data": {
      "text/markdown": [
       "&nbsp;&nbsp;&nbsp;&nbsp;**Symmetric:** True"
      ],
      "text/plain": [
       "<IPython.core.display.Markdown object>"
      ]
     },
     "metadata": {},
     "output_type": "display_data"
    },
    {
     "data": {
      "text/markdown": [
       "&nbsp;&nbsp;&nbsp;&nbsp;**Mean:** 0.9467884"
      ],
      "text/plain": [
       "<IPython.core.display.Markdown object>"
      ]
     },
     "metadata": {},
     "output_type": "display_data"
    },
    {
     "data": {
      "text/markdown": [
       "&nbsp;&nbsp;&nbsp;&nbsp;**Nan Mean:** 0.9467782"
      ],
      "text/plain": [
       "<IPython.core.display.Markdown object>"
      ]
     },
     "metadata": {},
     "output_type": "display_data"
    }
   ],
   "source": [
    "printmd('**Cosine Scores:**')\n",
    "printmd(f'{TAB}**Shape**: {cosine_scores.shape}')\n",
    "printmd(f'{TAB}**Symmetric:** {is_symmetric(cosine_scores)}')\n",
    "printmd(f'{TAB}**Mean:** {cosine_scores.mean():.7f}')\n",
    "printmd(f'{TAB}**Nan Mean:** {np.nanmean(cosine_scores_without_diag):.7f}')"
   ]
  },
  {
   "cell_type": "code",
   "execution_count": 65,
   "id": "tracked-norman",
   "metadata": {},
   "outputs": [
    {
     "data": {
      "text/plain": [
       "0.92803365"
      ]
     },
     "execution_count": 65,
     "metadata": {},
     "output_type": "execute_result"
    }
   ],
   "source": [
    "cosine_scores[100][1099]"
   ]
  },
  {
   "cell_type": "code",
   "execution_count": 70,
   "id": "concerned-seeker",
   "metadata": {},
   "outputs": [
    {
     "data": {
      "image/png": "[encoded data removed]",
      "text/plain": [
       "<Figure size 1440x1440 with 2 Axes>"
      ]
     },
     "metadata": {
      "needs_background": "light"
     },
     "output_type": "display_data"
    }
   ],
   "source": [
    "plt.figure(figsize=(20,20))\n",
    "sns.heatmap(cosine_scores[0:100,0:100], square=True, linewidths=.5);"
   ]
  },
  {
   "cell_type": "code",
   "execution_count": 38,
   "id": "streaming-universal",
   "metadata": {},
   "outputs": [
    {
     "ename": "NameError",
     "evalue": "name 'cosine_scores' is not defined",
     "output_type": "error",
     "traceback": [
      "\u001b[0;31m---------------------------------------------------------------------------\u001b[0m",
      "\u001b[0;31mNameError\u001b[0m                                 Traceback (most recent call last)",
      "\u001b[0;32m<ipython-input-38-16ac33a40763>\u001b[0m in \u001b[0;36m<module>\u001b[0;34m\u001b[0m\n\u001b[0;32m----> 1\u001b[0;31m \u001b[0mface_embeddings_similarities\u001b[0m \u001b[0;34m=\u001b[0m \u001b[0mcosine_scores\u001b[0m\u001b[0;34m\u001b[0m\u001b[0;34m\u001b[0m\u001b[0m\n\u001b[0m",
      "\u001b[0;31mNameError\u001b[0m: name 'cosine_scores' is not defined"
     ]
    }
   ],
   "source": [
    "face_embeddings_similarities = cosine_scores"
   ]
  },
  {
   "cell_type": "code",
   "execution_count": 39,
   "id": "atomic-discovery",
   "metadata": {},
   "outputs": [
    {
     "ename": "NameError",
     "evalue": "name 'face_embeddings_similarities' is not defined",
     "output_type": "error",
     "traceback": [
      "\u001b[0;31m---------------------------------------------------------------------------\u001b[0m",
      "\u001b[0;31mNameError\u001b[0m                                 Traceback (most recent call last)",
      "\u001b[0;32m<ipython-input-39-bd57c3d5bae1>\u001b[0m in \u001b[0;36m<module>\u001b[0;34m\u001b[0m\n\u001b[0;32m----> 1\u001b[0;31m \u001b[0mface_embeddings_similarities\u001b[0m\u001b[0;34m[\u001b[0m\u001b[0mnp\u001b[0m\u001b[0;34m.\u001b[0m\u001b[0mdiag_indices_from\u001b[0m\u001b[0;34m(\u001b[0m\u001b[0mface_embeddings_similarities\u001b[0m\u001b[0;34m)\u001b[0m\u001b[0;34m]\u001b[0m \u001b[0;34m=\u001b[0m \u001b[0;36m0.0\u001b[0m\u001b[0;34m\u001b[0m\u001b[0;34m\u001b[0m\u001b[0m\n\u001b[0m\u001b[1;32m      2\u001b[0m \u001b[0midx\u001b[0m \u001b[0;34m=\u001b[0m \u001b[0mnp\u001b[0m\u001b[0;34m.\u001b[0m\u001b[0margsort\u001b[0m\u001b[0;34m(\u001b[0m\u001b[0mface_embeddings_similarities\u001b[0m\u001b[0;34m,\u001b[0m \u001b[0maxis\u001b[0m\u001b[0;34m=\u001b[0m\u001b[0;32mNone\u001b[0m\u001b[0;34m)\u001b[0m\u001b[0;34m[\u001b[0m\u001b[0;34m-\u001b[0m\u001b[0;36m10\u001b[0m\u001b[0;34m:\u001b[0m\u001b[0;34m]\u001b[0m\u001b[0;34m\u001b[0m\u001b[0;34m\u001b[0m\u001b[0m\n\u001b[1;32m      3\u001b[0m \u001b[0mmidx\u001b[0m \u001b[0;34m=\u001b[0m \u001b[0mnp\u001b[0m\u001b[0;34m.\u001b[0m\u001b[0munravel_index\u001b[0m\u001b[0;34m(\u001b[0m\u001b[0midx\u001b[0m\u001b[0;34m,\u001b[0m \u001b[0mface_embeddings_similarities\u001b[0m\u001b[0;34m.\u001b[0m\u001b[0mshape\u001b[0m\u001b[0;34m)\u001b[0m\u001b[0;34m\u001b[0m\u001b[0;34m\u001b[0m\u001b[0m\n\u001b[1;32m      4\u001b[0m \u001b[0mprint\u001b[0m\u001b[0;34m(\u001b[0m\u001b[0mmidx\u001b[0m\u001b[0;34m[\u001b[0m\u001b[0;36m0\u001b[0m\u001b[0;34m]\u001b[0m\u001b[0;34m)\u001b[0m\u001b[0;34m\u001b[0m\u001b[0;34m\u001b[0m\u001b[0m\n\u001b[1;32m      5\u001b[0m \u001b[0mprint\u001b[0m\u001b[0;34m(\u001b[0m\u001b[0mmidx\u001b[0m\u001b[0;34m[\u001b[0m\u001b[0;36m1\u001b[0m\u001b[0;34m]\u001b[0m\u001b[0;34m)\u001b[0m\u001b[0;34m\u001b[0m\u001b[0;34m\u001b[0m\u001b[0m\n",
      "\u001b[0;31mNameError\u001b[0m: name 'face_embeddings_similarities' is not defined"
     ]
    }
   ],
   "source": [
    "face_embeddings_similarities[np.diag_indices_from(face_embeddings_similarities)] = 0.0\n",
    "idx = np.argsort(face_embeddings_similarities, axis=None)[-10:]\n",
    "midx = np.unravel_index(idx, face_embeddings_similarities.shape)\n",
    "print(midx[0])\n",
    "print(midx[1])\n",
    "print(face_embeddings_similarities[midx])"
   ]
  },
  {
   "cell_type": "code",
   "execution_count": 36,
   "id": "several-confirmation",
   "metadata": {},
   "outputs": [],
   "source": [
    "def examine_frame_pair(interval_id, frame_id1, frame_id2):\n",
    "    simlarity = face_embeddings_similarities[frame_id1,frame_id2]\n",
    "    assert face_embeddings_similarities[frame_id1,frame_id2] == face_embeddings_similarities[frame_id2,frame_id1]\n",
    "    print(f'simlarity: {simlarity:.5f}')\n",
    "    display_voken(interval_id=interval_id, frame_id=frame_id1)\n",
    "    display_voken(interval_id=interval_id, frame_id=frame_id2)\n",
    "\n",
    "def display_voken(interval_id, frame_id):\n",
    "    voken_path = resolve_224_voken_path(interval_id=interval_id, frame_id=frame_id)\n",
    "    print(voken_path)\n",
    "    display(IPython.display.Image(voken_path))"
   ]
  },
  {
   "cell_type": "code",
   "execution_count": 37,
   "id": "ignored-module",
   "metadata": {},
   "outputs": [
    {
     "ename": "NameError",
     "evalue": "name 'face_embeddings_similarities' is not defined",
     "output_type": "error",
     "traceback": [
      "\u001b[0;31m---------------------------------------------------------------------------\u001b[0m",
      "\u001b[0;31mNameError\u001b[0m                                 Traceback (most recent call last)",
      "\u001b[0;32m<ipython-input-37-1dce1d00f8e2>\u001b[0m in \u001b[0;36m<module>\u001b[0;34m\u001b[0m\n\u001b[0;32m----> 1\u001b[0;31m \u001b[0mexamine_frame_pair\u001b[0m\u001b[0;34m(\u001b[0m\u001b[0;34m'214625'\u001b[0m\u001b[0;34m,\u001b[0m \u001b[0;36m52\u001b[0m\u001b[0;34m,\u001b[0m \u001b[0;36m64\u001b[0m\u001b[0;34m)\u001b[0m\u001b[0;34m\u001b[0m\u001b[0;34m\u001b[0m\u001b[0m\n\u001b[0m",
      "\u001b[0;32m<ipython-input-36-8a80d9633233>\u001b[0m in \u001b[0;36mexamine_frame_pair\u001b[0;34m(interval_id, frame_id1, frame_id2)\u001b[0m\n\u001b[1;32m      1\u001b[0m \u001b[0;32mdef\u001b[0m \u001b[0mexamine_frame_pair\u001b[0m\u001b[0;34m(\u001b[0m\u001b[0minterval_id\u001b[0m\u001b[0;34m,\u001b[0m \u001b[0mframe_id1\u001b[0m\u001b[0;34m,\u001b[0m \u001b[0mframe_id2\u001b[0m\u001b[0;34m)\u001b[0m\u001b[0;34m:\u001b[0m\u001b[0;34m\u001b[0m\u001b[0;34m\u001b[0m\u001b[0m\n\u001b[0;32m----> 2\u001b[0;31m     \u001b[0msimlarity\u001b[0m \u001b[0;34m=\u001b[0m \u001b[0mface_embeddings_similarities\u001b[0m\u001b[0;34m[\u001b[0m\u001b[0mframe_id1\u001b[0m\u001b[0;34m,\u001b[0m\u001b[0mframe_id2\u001b[0m\u001b[0;34m]\u001b[0m\u001b[0;34m\u001b[0m\u001b[0;34m\u001b[0m\u001b[0m\n\u001b[0m\u001b[1;32m      3\u001b[0m     \u001b[0;32massert\u001b[0m \u001b[0mface_embeddings_similarities\u001b[0m\u001b[0;34m[\u001b[0m\u001b[0mframe_id1\u001b[0m\u001b[0;34m,\u001b[0m\u001b[0mframe_id2\u001b[0m\u001b[0;34m]\u001b[0m \u001b[0;34m==\u001b[0m \u001b[0mface_embeddings_similarities\u001b[0m\u001b[0;34m[\u001b[0m\u001b[0mframe_id2\u001b[0m\u001b[0;34m,\u001b[0m\u001b[0mframe_id1\u001b[0m\u001b[0;34m]\u001b[0m\u001b[0;34m\u001b[0m\u001b[0;34m\u001b[0m\u001b[0m\n\u001b[1;32m      4\u001b[0m     \u001b[0mprint\u001b[0m\u001b[0;34m(\u001b[0m\u001b[0;34mf'simlarity: {simlarity:.5f}'\u001b[0m\u001b[0;34m)\u001b[0m\u001b[0;34m\u001b[0m\u001b[0;34m\u001b[0m\u001b[0m\n\u001b[1;32m      5\u001b[0m     \u001b[0mdisplay_voken\u001b[0m\u001b[0;34m(\u001b[0m\u001b[0minterval_id\u001b[0m\u001b[0;34m=\u001b[0m\u001b[0minterval_id\u001b[0m\u001b[0;34m,\u001b[0m \u001b[0mframe_id\u001b[0m\u001b[0;34m=\u001b[0m\u001b[0mframe_id1\u001b[0m\u001b[0;34m)\u001b[0m\u001b[0;34m\u001b[0m\u001b[0;34m\u001b[0m\u001b[0m\n",
      "\u001b[0;31mNameError\u001b[0m: name 'face_embeddings_similarities' is not defined"
     ]
    }
   ],
   "source": [
    "examine_frame_pair('214625', 52, 64)"
   ]
  },
  {
   "cell_type": "markdown",
   "id": "verified-sector",
   "metadata": {},
   "source": [
    "# Export Data"
   ]
  },
  {
   "cell_type": "code",
   "execution_count": 79,
   "id": "patent-roman",
   "metadata": {},
   "outputs": [],
   "source": [
    "img_keys_2d = np.stack(img_keys)"
   ]
  },
  {
   "cell_type": "code",
   "execution_count": 94,
   "id": "supposed-olive",
   "metadata": {},
   "outputs": [
    {
     "data": {
      "text/markdown": [
       "&nbsp;&nbsp;&nbsp;&nbsp;**Embeddings** → /Users/staveshemesh/Projects/shstav2/token_voken/data/fecnet_embeddings_5128x16_20210511_122252.npy.."
      ],
      "text/plain": [
       "<IPython.core.display.Markdown object>"
      ]
     },
     "metadata": {},
     "output_type": "display_data"
    }
   ],
   "source": [
    "facenet_filename = f'fecnet_embeddings_{img_keys_2d.shape[0]}x{img_keys_2d.shape[1]}_{TIMESTR}.npy'\n",
    "fecnet_embeddings_path = os.path.join(DATA_ROOT, facenet_filename)\n",
    "np.save(fecnet_embeddings_path, img_keys_2d)\n",
    "printmd(f'{TAB}**Embeddings** → {fecnet_embeddings_path}..')"
   ]
  },
  {
   "cell_type": "markdown",
   "id": "violent-moscow",
   "metadata": {},
   "source": [
    "## DataFrames"
   ]
  },
  {
   "cell_type": "code",
   "execution_count": 45,
   "id": "measured-australian",
   "metadata": {},
   "outputs": [],
   "source": [
    "os.makedirs(OUTPUT_DATAFRAMES_ITERATION_DIR)"
   ]
  },
  {
   "cell_type": "code",
   "execution_count": 46,
   "id": "hired-morgan",
   "metadata": {},
   "outputs": [
    {
     "data": {
      "text/markdown": [
       "&nbsp;&nbsp;&nbsp;&nbsp;**df_dataset** → 6,185 rows /Users/staveshemesh/Projects/shstav2/token_voken/data/sample/20210416_212032/dataframes/20210416_212032_df_dataset_6185.csv"
      ],
      "text/plain": [
       "<IPython.core.display.Markdown object>"
      ]
     },
     "metadata": {},
     "output_type": "display_data"
    },
    {
     "data": {
      "text/markdown": [
       "&nbsp;&nbsp;&nbsp;&nbsp;**df_token_voken** → 5,618 rows /Users/staveshemesh/Projects/shstav2/token_voken/data/sample/20210416_212032/dataframes/20210416_212032_df_token_voken_5618.csv"
      ],
      "text/plain": [
       "<IPython.core.display.Markdown object>"
      ]
     },
     "metadata": {},
     "output_type": "display_data"
    },
    {
     "data": {
      "text/markdown": [
       "&nbsp;&nbsp;&nbsp;&nbsp;**rows_df_interval_text** → 64 rows /Users/staveshemesh/Projects/shstav2/token_voken/data/sample/20210416_212032/dataframes/20210416_212032_df_interval_text_64.csv"
      ],
      "text/plain": [
       "<IPython.core.display.Markdown object>"
      ]
     },
     "metadata": {},
     "output_type": "display_data"
    },
    {
     "data": {
      "text/html": [
       "<style  type=\"text/css\" >\n",
       "    #T_79e85b58_9ee0_11eb_876d_acde48001122 caption {\n",
       "          color: blue;\n",
       "          font-size: 16px;\n",
       "    }</style><table id=\"T_79e85b58_9ee0_11eb_876d_acde48001122\" ><caption>df_dataset</caption><thead>    <tr>        <th class=\"blank level0\" ></th>        <th class=\"col_heading level0 col0\" >word_original</th>        <th class=\"col_heading level0 col1\" >bert_token</th>        <th class=\"col_heading level0 col2\" >token_id</th>        <th class=\"col_heading level0 col3\" >frame_selected</th>        <th class=\"col_heading level0 col4\" >voken_id</th>        <th class=\"col_heading level0 col5\" >interval_id</th>        <th class=\"col_heading level0 col6\" >offset_start</th>        <th class=\"col_heading level0 col7\" >offset_end</th>        <th class=\"col_heading level0 col8\" >word_time</th>        <th class=\"col_heading level0 col9\" >word_len_plus_1</th>        <th class=\"col_heading level0 col10\" >word_start</th>        <th class=\"col_heading level0 col11\" >word_end</th>        <th class=\"col_heading level0 col12\" >frame_start</th>        <th class=\"col_heading level0 col13\" >frame_end</th>        <th class=\"col_heading level0 col14\" >frame_count</th>        <th class=\"col_heading level0 col15\" >frame_path</th>        <th class=\"col_heading level0 col16\" >frame_full_path</th>        <th class=\"col_heading level0 col17\" >video_id</th>        <th class=\"col_heading level0 col18\" >interval_time</th>    </tr></thead><tbody>\n",
       "                <tr>\n",
       "                        <th id=\"T_79e85b58_9ee0_11eb_876d_acde48001122level0_row0\" class=\"row_heading level0 row0\" >0</th>\n",
       "                        <td id=\"T_79e85b58_9ee0_11eb_876d_acde48001122row0_col0\" class=\"data row0 col0\" >are</td>\n",
       "                        <td id=\"T_79e85b58_9ee0_11eb_876d_acde48001122row0_col1\" class=\"data row0 col1\" >are</td>\n",
       "                        <td id=\"T_79e85b58_9ee0_11eb_876d_acde48001122row0_col2\" class=\"data row0 col2\" >2024</td>\n",
       "                        <td id=\"T_79e85b58_9ee0_11eb_876d_acde48001122row0_col3\" class=\"data row0 col3\" >0</td>\n",
       "                        <td id=\"T_79e85b58_9ee0_11eb_876d_acde48001122row0_col4\" class=\"data row0 col4\" >1</td>\n",
       "                        <td id=\"T_79e85b58_9ee0_11eb_876d_acde48001122row0_col5\" class=\"data row0 col5\" >100983</td>\n",
       "                        <td id=\"T_79e85b58_9ee0_11eb_876d_acde48001122row0_col6\" class=\"data row0 col6\" >0</td>\n",
       "                        <td id=\"T_79e85b58_9ee0_11eb_876d_acde48001122row0_col7\" class=\"data row0 col7\" >3</td>\n",
       "                        <td id=\"T_79e85b58_9ee0_11eb_876d_acde48001122row0_col8\" class=\"data row0 col8\" >0</td>\n",
       "                        <td id=\"T_79e85b58_9ee0_11eb_876d_acde48001122row0_col9\" class=\"data row0 col9\" >4</td>\n",
       "                        <td id=\"T_79e85b58_9ee0_11eb_876d_acde48001122row0_col10\" class=\"data row0 col10\" >0</td>\n",
       "                        <td id=\"T_79e85b58_9ee0_11eb_876d_acde48001122row0_col11\" class=\"data row0 col11\" >3</td>\n",
       "                        <td id=\"T_79e85b58_9ee0_11eb_876d_acde48001122row0_col12\" class=\"data row0 col12\" >0</td>\n",
       "                        <td id=\"T_79e85b58_9ee0_11eb_876d_acde48001122row0_col13\" class=\"data row0 col13\" >1</td>\n",
       "                        <td id=\"T_79e85b58_9ee0_11eb_876d_acde48001122row0_col14\" class=\"data row0 col14\" >1</td>\n",
       "                        <td id=\"T_79e85b58_9ee0_11eb_876d_acde48001122row0_col15\" class=\"data row0 col15\" >0_100983_hWQiXv0sn9Y</td>\n",
       "                        <td id=\"T_79e85b58_9ee0_11eb_876d_acde48001122row0_col16\" class=\"data row0 col16\" >/Users/staveshemesh/Projects/PATS_DATA/Youtube/oliver/hWQiXv0sn9Y/100983/vokens/face_annot_224/00000.png</td>\n",
       "                        <td id=\"T_79e85b58_9ee0_11eb_876d_acde48001122row0_col17\" class=\"data row0 col17\" >hWQiXv0sn9Y</td>\n",
       "                        <td id=\"T_79e85b58_9ee0_11eb_876d_acde48001122row0_col18\" class=\"data row0 col18\" >26.5599</td>\n",
       "            </tr>\n",
       "            <tr>\n",
       "                        <th id=\"T_79e85b58_9ee0_11eb_876d_acde48001122level0_row1\" class=\"row_heading level0 row1\" >1</th>\n",
       "                        <td id=\"T_79e85b58_9ee0_11eb_876d_acde48001122row1_col0\" class=\"data row1 col0\" >not</td>\n",
       "                        <td id=\"T_79e85b58_9ee0_11eb_876d_acde48001122row1_col1\" class=\"data row1 col1\" >not</td>\n",
       "                        <td id=\"T_79e85b58_9ee0_11eb_876d_acde48001122row1_col2\" class=\"data row1 col2\" >2025</td>\n",
       "                        <td id=\"T_79e85b58_9ee0_11eb_876d_acde48001122row1_col3\" class=\"data row1 col3\" >2</td>\n",
       "                        <td id=\"T_79e85b58_9ee0_11eb_876d_acde48001122row1_col4\" class=\"data row1 col4\" >2</td>\n",
       "                        <td id=\"T_79e85b58_9ee0_11eb_876d_acde48001122row1_col5\" class=\"data row1 col5\" >100983</td>\n",
       "                        <td id=\"T_79e85b58_9ee0_11eb_876d_acde48001122row1_col6\" class=\"data row1 col6\" >4</td>\n",
       "                        <td id=\"T_79e85b58_9ee0_11eb_876d_acde48001122row1_col7\" class=\"data row1 col7\" >7</td>\n",
       "                        <td id=\"T_79e85b58_9ee0_11eb_876d_acde48001122row1_col8\" class=\"data row1 col8\" >0.1</td>\n",
       "                        <td id=\"T_79e85b58_9ee0_11eb_876d_acde48001122row1_col9\" class=\"data row1 col9\" >4</td>\n",
       "                        <td id=\"T_79e85b58_9ee0_11eb_876d_acde48001122row1_col10\" class=\"data row1 col10\" >4</td>\n",
       "                        <td id=\"T_79e85b58_9ee0_11eb_876d_acde48001122row1_col11\" class=\"data row1 col11\" >7</td>\n",
       "                        <td id=\"T_79e85b58_9ee0_11eb_876d_acde48001122row1_col12\" class=\"data row1 col12\" >1</td>\n",
       "                        <td id=\"T_79e85b58_9ee0_11eb_876d_acde48001122row1_col13\" class=\"data row1 col13\" >4</td>\n",
       "                        <td id=\"T_79e85b58_9ee0_11eb_876d_acde48001122row1_col14\" class=\"data row1 col14\" >3</td>\n",
       "                        <td id=\"T_79e85b58_9ee0_11eb_876d_acde48001122row1_col15\" class=\"data row1 col15\" >2_100983_hWQiXv0sn9Y</td>\n",
       "                        <td id=\"T_79e85b58_9ee0_11eb_876d_acde48001122row1_col16\" class=\"data row1 col16\" >/Users/staveshemesh/Projects/PATS_DATA/Youtube/oliver/hWQiXv0sn9Y/100983/vokens/face_annot_224/00002.png</td>\n",
       "                        <td id=\"T_79e85b58_9ee0_11eb_876d_acde48001122row1_col17\" class=\"data row1 col17\" >hWQiXv0sn9Y</td>\n",
       "                        <td id=\"T_79e85b58_9ee0_11eb_876d_acde48001122row1_col18\" class=\"data row1 col18\" >26.5599</td>\n",
       "            </tr>\n",
       "            <tr>\n",
       "                        <th id=\"T_79e85b58_9ee0_11eb_876d_acde48001122level0_row2\" class=\"row_heading level0 row2\" >2</th>\n",
       "                        <td id=\"T_79e85b58_9ee0_11eb_876d_acde48001122row2_col0\" class=\"data row2 col0\" >understanding</td>\n",
       "                        <td id=\"T_79e85b58_9ee0_11eb_876d_acde48001122row2_col1\" class=\"data row2 col1\" >understanding</td>\n",
       "                        <td id=\"T_79e85b58_9ee0_11eb_876d_acde48001122row2_col2\" class=\"data row2 col2\" >4824</td>\n",
       "                        <td id=\"T_79e85b58_9ee0_11eb_876d_acde48001122row2_col3\" class=\"data row2 col3\" >7</td>\n",
       "                        <td id=\"T_79e85b58_9ee0_11eb_876d_acde48001122row2_col4\" class=\"data row2 col4\" >3</td>\n",
       "                        <td id=\"T_79e85b58_9ee0_11eb_876d_acde48001122row2_col5\" class=\"data row2 col5\" >100983</td>\n",
       "                        <td id=\"T_79e85b58_9ee0_11eb_876d_acde48001122row2_col6\" class=\"data row2 col6\" >8</td>\n",
       "                        <td id=\"T_79e85b58_9ee0_11eb_876d_acde48001122row2_col7\" class=\"data row2 col7\" >21</td>\n",
       "                        <td id=\"T_79e85b58_9ee0_11eb_876d_acde48001122row2_col8\" class=\"data row2 col8\" >0.5</td>\n",
       "                        <td id=\"T_79e85b58_9ee0_11eb_876d_acde48001122row2_col9\" class=\"data row2 col9\" >14</td>\n",
       "                        <td id=\"T_79e85b58_9ee0_11eb_876d_acde48001122row2_col10\" class=\"data row2 col10\" >8</td>\n",
       "                        <td id=\"T_79e85b58_9ee0_11eb_876d_acde48001122row2_col11\" class=\"data row2 col11\" >21</td>\n",
       "                        <td id=\"T_79e85b58_9ee0_11eb_876d_acde48001122row2_col12\" class=\"data row2 col12\" >4</td>\n",
       "                        <td id=\"T_79e85b58_9ee0_11eb_876d_acde48001122row2_col13\" class=\"data row2 col13\" >10</td>\n",
       "                        <td id=\"T_79e85b58_9ee0_11eb_876d_acde48001122row2_col14\" class=\"data row2 col14\" >6</td>\n",
       "                        <td id=\"T_79e85b58_9ee0_11eb_876d_acde48001122row2_col15\" class=\"data row2 col15\" >7_100983_hWQiXv0sn9Y</td>\n",
       "                        <td id=\"T_79e85b58_9ee0_11eb_876d_acde48001122row2_col16\" class=\"data row2 col16\" >/Users/staveshemesh/Projects/PATS_DATA/Youtube/oliver/hWQiXv0sn9Y/100983/vokens/face_annot_224/00007.png</td>\n",
       "                        <td id=\"T_79e85b58_9ee0_11eb_876d_acde48001122row2_col17\" class=\"data row2 col17\" >hWQiXv0sn9Y</td>\n",
       "                        <td id=\"T_79e85b58_9ee0_11eb_876d_acde48001122row2_col18\" class=\"data row2 col18\" >26.5599</td>\n",
       "            </tr>\n",
       "            <tr>\n",
       "                        <th id=\"T_79e85b58_9ee0_11eb_876d_acde48001122level0_row3\" class=\"row_heading level0 row3\" >3</th>\n",
       "                        <td id=\"T_79e85b58_9ee0_11eb_876d_acde48001122row3_col0\" class=\"data row3 col0\" >Liquid</td>\n",
       "                        <td id=\"T_79e85b58_9ee0_11eb_876d_acde48001122row3_col1\" class=\"data row3 col1\" >liquid</td>\n",
       "                        <td id=\"T_79e85b58_9ee0_11eb_876d_acde48001122row3_col2\" class=\"data row3 col2\" >6381</td>\n",
       "                        <td id=\"T_79e85b58_9ee0_11eb_876d_acde48001122row3_col3\" class=\"data row3 col3\" >19</td>\n",
       "                        <td id=\"T_79e85b58_9ee0_11eb_876d_acde48001122row3_col4\" class=\"data row3 col4\" >4</td>\n",
       "                        <td id=\"T_79e85b58_9ee0_11eb_876d_acde48001122row3_col5\" class=\"data row3 col5\" >100983</td>\n",
       "                        <td id=\"T_79e85b58_9ee0_11eb_876d_acde48001122row3_col6\" class=\"data row3 col6\" >22</td>\n",
       "                        <td id=\"T_79e85b58_9ee0_11eb_876d_acde48001122row3_col7\" class=\"data row3 col7\" >28</td>\n",
       "                        <td id=\"T_79e85b58_9ee0_11eb_876d_acde48001122row3_col8\" class=\"data row3 col8\" >1.3</td>\n",
       "                        <td id=\"T_79e85b58_9ee0_11eb_876d_acde48001122row3_col9\" class=\"data row3 col9\" >7</td>\n",
       "                        <td id=\"T_79e85b58_9ee0_11eb_876d_acde48001122row3_col10\" class=\"data row3 col10\" >22</td>\n",
       "                        <td id=\"T_79e85b58_9ee0_11eb_876d_acde48001122row3_col11\" class=\"data row3 col11\" >28</td>\n",
       "                        <td id=\"T_79e85b58_9ee0_11eb_876d_acde48001122row3_col12\" class=\"data row3 col12\" >10</td>\n",
       "                        <td id=\"T_79e85b58_9ee0_11eb_876d_acde48001122row3_col13\" class=\"data row3 col13\" >29</td>\n",
       "                        <td id=\"T_79e85b58_9ee0_11eb_876d_acde48001122row3_col14\" class=\"data row3 col14\" >19</td>\n",
       "                        <td id=\"T_79e85b58_9ee0_11eb_876d_acde48001122row3_col15\" class=\"data row3 col15\" >19_100983_hWQiXv0sn9Y</td>\n",
       "                        <td id=\"T_79e85b58_9ee0_11eb_876d_acde48001122row3_col16\" class=\"data row3 col16\" >/Users/staveshemesh/Projects/PATS_DATA/Youtube/oliver/hWQiXv0sn9Y/100983/vokens/face_annot_224/00019.png</td>\n",
       "                        <td id=\"T_79e85b58_9ee0_11eb_876d_acde48001122row3_col17\" class=\"data row3 col17\" >hWQiXv0sn9Y</td>\n",
       "                        <td id=\"T_79e85b58_9ee0_11eb_876d_acde48001122row3_col18\" class=\"data row3 col18\" >26.5599</td>\n",
       "            </tr>\n",
       "            <tr>\n",
       "                        <th id=\"T_79e85b58_9ee0_11eb_876d_acde48001122level0_row4\" class=\"row_heading level0 row4\" >4</th>\n",
       "                        <td id=\"T_79e85b58_9ee0_11eb_876d_acde48001122row4_col0\" class=\"data row4 col0\" >Gold</td>\n",
       "                        <td id=\"T_79e85b58_9ee0_11eb_876d_acde48001122row4_col1\" class=\"data row4 col1\" >gold</td>\n",
       "                        <td id=\"T_79e85b58_9ee0_11eb_876d_acde48001122row4_col2\" class=\"data row4 col2\" >2751</td>\n",
       "                        <td id=\"T_79e85b58_9ee0_11eb_876d_acde48001122row4_col3\" class=\"data row4 col3\" >42</td>\n",
       "                        <td id=\"T_79e85b58_9ee0_11eb_876d_acde48001122row4_col4\" class=\"data row4 col4\" >5</td>\n",
       "                        <td id=\"T_79e85b58_9ee0_11eb_876d_acde48001122row4_col5\" class=\"data row4 col5\" >100983</td>\n",
       "                        <td id=\"T_79e85b58_9ee0_11eb_876d_acde48001122row4_col6\" class=\"data row4 col6\" >29</td>\n",
       "                        <td id=\"T_79e85b58_9ee0_11eb_876d_acde48001122row4_col7\" class=\"data row4 col7\" >33</td>\n",
       "                        <td id=\"T_79e85b58_9ee0_11eb_876d_acde48001122row4_col8\" class=\"data row4 col8\" >2.8</td>\n",
       "                        <td id=\"T_79e85b58_9ee0_11eb_876d_acde48001122row4_col9\" class=\"data row4 col9\" >5</td>\n",
       "                        <td id=\"T_79e85b58_9ee0_11eb_876d_acde48001122row4_col10\" class=\"data row4 col10\" >29</td>\n",
       "                        <td id=\"T_79e85b58_9ee0_11eb_876d_acde48001122row4_col11\" class=\"data row4 col11\" >33</td>\n",
       "                        <td id=\"T_79e85b58_9ee0_11eb_876d_acde48001122row4_col12\" class=\"data row4 col12\" >29</td>\n",
       "                        <td id=\"T_79e85b58_9ee0_11eb_876d_acde48001122row4_col13\" class=\"data row4 col13\" >56</td>\n",
       "                        <td id=\"T_79e85b58_9ee0_11eb_876d_acde48001122row4_col14\" class=\"data row4 col14\" >27</td>\n",
       "                        <td id=\"T_79e85b58_9ee0_11eb_876d_acde48001122row4_col15\" class=\"data row4 col15\" >42_100983_hWQiXv0sn9Y</td>\n",
       "                        <td id=\"T_79e85b58_9ee0_11eb_876d_acde48001122row4_col16\" class=\"data row4 col16\" >/Users/staveshemesh/Projects/PATS_DATA/Youtube/oliver/hWQiXv0sn9Y/100983/vokens/face_annot_224/00042.png</td>\n",
       "                        <td id=\"T_79e85b58_9ee0_11eb_876d_acde48001122row4_col17\" class=\"data row4 col17\" >hWQiXv0sn9Y</td>\n",
       "                        <td id=\"T_79e85b58_9ee0_11eb_876d_acde48001122row4_col18\" class=\"data row4 col18\" >26.5599</td>\n",
       "            </tr>\n",
       "    </tbody></table>"
      ],
      "text/plain": [
       "<pandas.io.formats.style.Styler at 0x15eab3e48>"
      ]
     },
     "metadata": {},
     "output_type": "display_data"
    },
    {
     "data": {
      "text/html": [
       "<style  type=\"text/css\" >\n",
       "    #T_79e92918_9ee0_11eb_9a87_acde48001122 caption {\n",
       "          color: blue;\n",
       "          font-size: 16px;\n",
       "    }</style><table id=\"T_79e92918_9ee0_11eb_9a87_acde48001122\" ><caption>df_token_voken</caption><thead>    <tr>        <th class=\"blank level0\" ></th>        <th class=\"col_heading level0 col0\" >word_original</th>        <th class=\"col_heading level0 col1\" >frame_selected</th>        <th class=\"col_heading level0 col2\" >word_time</th>        <th class=\"col_heading level0 col3\" >word_len_plus_1</th>        <th class=\"col_heading level0 col4\" >word_start</th>        <th class=\"col_heading level0 col5\" >word_end</th>        <th class=\"col_heading level0 col6\" >frame_start</th>        <th class=\"col_heading level0 col7\" >frame_end</th>        <th class=\"col_heading level0 col8\" >frame_count</th>        <th class=\"col_heading level0 col9\" >frame_path</th>        <th class=\"col_heading level0 col10\" >frame_full_path</th>        <th class=\"col_heading level0 col11\" >interval_id</th>        <th class=\"col_heading level0 col12\" >video_id</th>        <th class=\"col_heading level0 col13\" >interval_time</th>    </tr></thead><tbody>\n",
       "                <tr>\n",
       "                        <th id=\"T_79e92918_9ee0_11eb_9a87_acde48001122level0_row0\" class=\"row_heading level0 row0\" >4045</th>\n",
       "                        <td id=\"T_79e92918_9ee0_11eb_9a87_acde48001122row0_col0\" class=\"data row0 col0\" >are</td>\n",
       "                        <td id=\"T_79e92918_9ee0_11eb_9a87_acde48001122row0_col1\" class=\"data row0 col1\" >0</td>\n",
       "                        <td id=\"T_79e92918_9ee0_11eb_9a87_acde48001122row0_col2\" class=\"data row0 col2\" >0</td>\n",
       "                        <td id=\"T_79e92918_9ee0_11eb_9a87_acde48001122row0_col3\" class=\"data row0 col3\" >4</td>\n",
       "                        <td id=\"T_79e92918_9ee0_11eb_9a87_acde48001122row0_col4\" class=\"data row0 col4\" >0</td>\n",
       "                        <td id=\"T_79e92918_9ee0_11eb_9a87_acde48001122row0_col5\" class=\"data row0 col5\" >3</td>\n",
       "                        <td id=\"T_79e92918_9ee0_11eb_9a87_acde48001122row0_col6\" class=\"data row0 col6\" >0</td>\n",
       "                        <td id=\"T_79e92918_9ee0_11eb_9a87_acde48001122row0_col7\" class=\"data row0 col7\" >1</td>\n",
       "                        <td id=\"T_79e92918_9ee0_11eb_9a87_acde48001122row0_col8\" class=\"data row0 col8\" >1</td>\n",
       "                        <td id=\"T_79e92918_9ee0_11eb_9a87_acde48001122row0_col9\" class=\"data row0 col9\" >0_100983_hWQiXv0sn9Y</td>\n",
       "                        <td id=\"T_79e92918_9ee0_11eb_9a87_acde48001122row0_col10\" class=\"data row0 col10\" >/Users/staveshemesh/Projects/PATS_DATA/Youtube/oliver/hWQiXv0sn9Y/100983/vokens/face_annot_224/00000.png</td>\n",
       "                        <td id=\"T_79e92918_9ee0_11eb_9a87_acde48001122row0_col11\" class=\"data row0 col11\" >100983</td>\n",
       "                        <td id=\"T_79e92918_9ee0_11eb_9a87_acde48001122row0_col12\" class=\"data row0 col12\" >hWQiXv0sn9Y</td>\n",
       "                        <td id=\"T_79e92918_9ee0_11eb_9a87_acde48001122row0_col13\" class=\"data row0 col13\" >26.5599</td>\n",
       "            </tr>\n",
       "            <tr>\n",
       "                        <th id=\"T_79e92918_9ee0_11eb_9a87_acde48001122level0_row1\" class=\"row_heading level0 row1\" >4046</th>\n",
       "                        <td id=\"T_79e92918_9ee0_11eb_9a87_acde48001122row1_col0\" class=\"data row1 col0\" >not</td>\n",
       "                        <td id=\"T_79e92918_9ee0_11eb_9a87_acde48001122row1_col1\" class=\"data row1 col1\" >2</td>\n",
       "                        <td id=\"T_79e92918_9ee0_11eb_9a87_acde48001122row1_col2\" class=\"data row1 col2\" >0.1</td>\n",
       "                        <td id=\"T_79e92918_9ee0_11eb_9a87_acde48001122row1_col3\" class=\"data row1 col3\" >4</td>\n",
       "                        <td id=\"T_79e92918_9ee0_11eb_9a87_acde48001122row1_col4\" class=\"data row1 col4\" >4</td>\n",
       "                        <td id=\"T_79e92918_9ee0_11eb_9a87_acde48001122row1_col5\" class=\"data row1 col5\" >7</td>\n",
       "                        <td id=\"T_79e92918_9ee0_11eb_9a87_acde48001122row1_col6\" class=\"data row1 col6\" >1</td>\n",
       "                        <td id=\"T_79e92918_9ee0_11eb_9a87_acde48001122row1_col7\" class=\"data row1 col7\" >4</td>\n",
       "                        <td id=\"T_79e92918_9ee0_11eb_9a87_acde48001122row1_col8\" class=\"data row1 col8\" >3</td>\n",
       "                        <td id=\"T_79e92918_9ee0_11eb_9a87_acde48001122row1_col9\" class=\"data row1 col9\" >2_100983_hWQiXv0sn9Y</td>\n",
       "                        <td id=\"T_79e92918_9ee0_11eb_9a87_acde48001122row1_col10\" class=\"data row1 col10\" >/Users/staveshemesh/Projects/PATS_DATA/Youtube/oliver/hWQiXv0sn9Y/100983/vokens/face_annot_224/00002.png</td>\n",
       "                        <td id=\"T_79e92918_9ee0_11eb_9a87_acde48001122row1_col11\" class=\"data row1 col11\" >100983</td>\n",
       "                        <td id=\"T_79e92918_9ee0_11eb_9a87_acde48001122row1_col12\" class=\"data row1 col12\" >hWQiXv0sn9Y</td>\n",
       "                        <td id=\"T_79e92918_9ee0_11eb_9a87_acde48001122row1_col13\" class=\"data row1 col13\" >26.5599</td>\n",
       "            </tr>\n",
       "            <tr>\n",
       "                        <th id=\"T_79e92918_9ee0_11eb_9a87_acde48001122level0_row2\" class=\"row_heading level0 row2\" >4047</th>\n",
       "                        <td id=\"T_79e92918_9ee0_11eb_9a87_acde48001122row2_col0\" class=\"data row2 col0\" >understanding</td>\n",
       "                        <td id=\"T_79e92918_9ee0_11eb_9a87_acde48001122row2_col1\" class=\"data row2 col1\" >7</td>\n",
       "                        <td id=\"T_79e92918_9ee0_11eb_9a87_acde48001122row2_col2\" class=\"data row2 col2\" >0.5</td>\n",
       "                        <td id=\"T_79e92918_9ee0_11eb_9a87_acde48001122row2_col3\" class=\"data row2 col3\" >14</td>\n",
       "                        <td id=\"T_79e92918_9ee0_11eb_9a87_acde48001122row2_col4\" class=\"data row2 col4\" >8</td>\n",
       "                        <td id=\"T_79e92918_9ee0_11eb_9a87_acde48001122row2_col5\" class=\"data row2 col5\" >21</td>\n",
       "                        <td id=\"T_79e92918_9ee0_11eb_9a87_acde48001122row2_col6\" class=\"data row2 col6\" >4</td>\n",
       "                        <td id=\"T_79e92918_9ee0_11eb_9a87_acde48001122row2_col7\" class=\"data row2 col7\" >10</td>\n",
       "                        <td id=\"T_79e92918_9ee0_11eb_9a87_acde48001122row2_col8\" class=\"data row2 col8\" >6</td>\n",
       "                        <td id=\"T_79e92918_9ee0_11eb_9a87_acde48001122row2_col9\" class=\"data row2 col9\" >7_100983_hWQiXv0sn9Y</td>\n",
       "                        <td id=\"T_79e92918_9ee0_11eb_9a87_acde48001122row2_col10\" class=\"data row2 col10\" >/Users/staveshemesh/Projects/PATS_DATA/Youtube/oliver/hWQiXv0sn9Y/100983/vokens/face_annot_224/00007.png</td>\n",
       "                        <td id=\"T_79e92918_9ee0_11eb_9a87_acde48001122row2_col11\" class=\"data row2 col11\" >100983</td>\n",
       "                        <td id=\"T_79e92918_9ee0_11eb_9a87_acde48001122row2_col12\" class=\"data row2 col12\" >hWQiXv0sn9Y</td>\n",
       "                        <td id=\"T_79e92918_9ee0_11eb_9a87_acde48001122row2_col13\" class=\"data row2 col13\" >26.5599</td>\n",
       "            </tr>\n",
       "            <tr>\n",
       "                        <th id=\"T_79e92918_9ee0_11eb_9a87_acde48001122level0_row3\" class=\"row_heading level0 row3\" >4048</th>\n",
       "                        <td id=\"T_79e92918_9ee0_11eb_9a87_acde48001122row3_col0\" class=\"data row3 col0\" >Liquid</td>\n",
       "                        <td id=\"T_79e92918_9ee0_11eb_9a87_acde48001122row3_col1\" class=\"data row3 col1\" >19</td>\n",
       "                        <td id=\"T_79e92918_9ee0_11eb_9a87_acde48001122row3_col2\" class=\"data row3 col2\" >1.3</td>\n",
       "                        <td id=\"T_79e92918_9ee0_11eb_9a87_acde48001122row3_col3\" class=\"data row3 col3\" >7</td>\n",
       "                        <td id=\"T_79e92918_9ee0_11eb_9a87_acde48001122row3_col4\" class=\"data row3 col4\" >22</td>\n",
       "                        <td id=\"T_79e92918_9ee0_11eb_9a87_acde48001122row3_col5\" class=\"data row3 col5\" >28</td>\n",
       "                        <td id=\"T_79e92918_9ee0_11eb_9a87_acde48001122row3_col6\" class=\"data row3 col6\" >10</td>\n",
       "                        <td id=\"T_79e92918_9ee0_11eb_9a87_acde48001122row3_col7\" class=\"data row3 col7\" >29</td>\n",
       "                        <td id=\"T_79e92918_9ee0_11eb_9a87_acde48001122row3_col8\" class=\"data row3 col8\" >19</td>\n",
       "                        <td id=\"T_79e92918_9ee0_11eb_9a87_acde48001122row3_col9\" class=\"data row3 col9\" >19_100983_hWQiXv0sn9Y</td>\n",
       "                        <td id=\"T_79e92918_9ee0_11eb_9a87_acde48001122row3_col10\" class=\"data row3 col10\" >/Users/staveshemesh/Projects/PATS_DATA/Youtube/oliver/hWQiXv0sn9Y/100983/vokens/face_annot_224/00019.png</td>\n",
       "                        <td id=\"T_79e92918_9ee0_11eb_9a87_acde48001122row3_col11\" class=\"data row3 col11\" >100983</td>\n",
       "                        <td id=\"T_79e92918_9ee0_11eb_9a87_acde48001122row3_col12\" class=\"data row3 col12\" >hWQiXv0sn9Y</td>\n",
       "                        <td id=\"T_79e92918_9ee0_11eb_9a87_acde48001122row3_col13\" class=\"data row3 col13\" >26.5599</td>\n",
       "            </tr>\n",
       "            <tr>\n",
       "                        <th id=\"T_79e92918_9ee0_11eb_9a87_acde48001122level0_row4\" class=\"row_heading level0 row4\" >4049</th>\n",
       "                        <td id=\"T_79e92918_9ee0_11eb_9a87_acde48001122row4_col0\" class=\"data row4 col0\" >Gold</td>\n",
       "                        <td id=\"T_79e92918_9ee0_11eb_9a87_acde48001122row4_col1\" class=\"data row4 col1\" >42</td>\n",
       "                        <td id=\"T_79e92918_9ee0_11eb_9a87_acde48001122row4_col2\" class=\"data row4 col2\" >2.8</td>\n",
       "                        <td id=\"T_79e92918_9ee0_11eb_9a87_acde48001122row4_col3\" class=\"data row4 col3\" >5</td>\n",
       "                        <td id=\"T_79e92918_9ee0_11eb_9a87_acde48001122row4_col4\" class=\"data row4 col4\" >29</td>\n",
       "                        <td id=\"T_79e92918_9ee0_11eb_9a87_acde48001122row4_col5\" class=\"data row4 col5\" >33</td>\n",
       "                        <td id=\"T_79e92918_9ee0_11eb_9a87_acde48001122row4_col6\" class=\"data row4 col6\" >29</td>\n",
       "                        <td id=\"T_79e92918_9ee0_11eb_9a87_acde48001122row4_col7\" class=\"data row4 col7\" >56</td>\n",
       "                        <td id=\"T_79e92918_9ee0_11eb_9a87_acde48001122row4_col8\" class=\"data row4 col8\" >27</td>\n",
       "                        <td id=\"T_79e92918_9ee0_11eb_9a87_acde48001122row4_col9\" class=\"data row4 col9\" >42_100983_hWQiXv0sn9Y</td>\n",
       "                        <td id=\"T_79e92918_9ee0_11eb_9a87_acde48001122row4_col10\" class=\"data row4 col10\" >/Users/staveshemesh/Projects/PATS_DATA/Youtube/oliver/hWQiXv0sn9Y/100983/vokens/face_annot_224/00042.png</td>\n",
       "                        <td id=\"T_79e92918_9ee0_11eb_9a87_acde48001122row4_col11\" class=\"data row4 col11\" >100983</td>\n",
       "                        <td id=\"T_79e92918_9ee0_11eb_9a87_acde48001122row4_col12\" class=\"data row4 col12\" >hWQiXv0sn9Y</td>\n",
       "                        <td id=\"T_79e92918_9ee0_11eb_9a87_acde48001122row4_col13\" class=\"data row4 col13\" >26.5599</td>\n",
       "            </tr>\n",
       "    </tbody></table>"
      ],
      "text/plain": [
       "<pandas.io.formats.style.Styler at 0x1631919b0>"
      ]
     },
     "metadata": {},
     "output_type": "display_data"
    },
    {
     "data": {
      "text/html": [
       "<style  type=\"text/css\" >\n",
       "    #T_79e9e446_9ee0_11eb_9fed_acde48001122 caption {\n",
       "          color: blue;\n",
       "          font-size: 16px;\n",
       "    }</style><table id=\"T_79e9e446_9ee0_11eb_9fed_acde48001122\" ><caption>df_interval_text</caption><thead>    <tr>        <th class=\"blank level0\" ></th>        <th class=\"col_heading level0 col0\" >interval_id</th>        <th class=\"col_heading level0 col1\" >text</th>    </tr></thead><tbody>\n",
       "                <tr>\n",
       "                        <th id=\"T_79e9e446_9ee0_11eb_9fed_acde48001122level0_row0\" class=\"row_heading level0 row0\" >0</th>\n",
       "                        <td id=\"T_79e9e446_9ee0_11eb_9fed_acde48001122row0_col0\" class=\"data row0 col0\" >100983</td>\n",
       "                        <td id=\"T_79e9e446_9ee0_11eb_9fed_acde48001122row0_col1\" class=\"data row0 col1\" >are not understanding Liquid Gold everything about this industry is incredibly difficult to navigate which is dangerous because even one of its own trains groups its own tree groups has wounds that some sectors of it are out of control and percent of just how helpless you can be in the face of old is just listen to Tom McClellan he was a ball as Deputy drugs are you would think that if anyone knows this world it would be him</td>\n",
       "            </tr>\n",
       "            <tr>\n",
       "                        <th id=\"T_79e9e446_9ee0_11eb_9fed_acde48001122level0_row1\" class=\"row_heading level0 row1\" >1</th>\n",
       "                        <td id=\"T_79e9e446_9ee0_11eb_9fed_acde48001122row1_col0\" class=\"data row1 col0\" >101126</td>\n",
       "                        <td id=\"T_79e9e446_9ee0_11eb_9fed_acde48001122row1_col1\" class=\"data row1 col1\" >plus it's a phone call so you'll say whatever it takes to make it end cuz getting so but might be hard but nothing is harder than an 8 minute phone call with another human being nothing nothing at all those claims of success it is very hard to know exactly what you're getting at any given rehab 12-step bicep wrote which undoubtedly what's the song with the most experts argue that they should also be consistent access to other newer treatments like sun behavioral therapy</td>\n",
       "            </tr>\n",
       "            <tr>\n",
       "                        <th id=\"T_79e9e446_9ee0_11eb_9fed_acde48001122level0_row2\" class=\"row_heading level0 row2\" >2</th>\n",
       "                        <td id=\"T_79e9e446_9ee0_11eb_9fed_acde48001122row2_col0\" class=\"data row2 col0\" >101127</td>\n",
       "                        <td id=\"T_79e9e446_9ee0_11eb_9fed_acde48001122row2_col1\" class=\"data row2 col1\" >medications like these are not required to offer Lowe's because we have to essentially be whatever is proprietor says it is that means they can frame almost anything as treatment for instance many Hawaiians rehabs off of something cold Equine Therapy and again if you respond to that that's great but there is no empirical evidence that as a treatment for addiction it works which means some people who paid a high price for it can end up</td>\n",
       "            </tr>\n",
       "            <tr>\n",
       "                        <th id=\"T_79e9e446_9ee0_11eb_9fed_acde48001122level0_row3\" class=\"row_heading level0 row3\" >3</th>\n",
       "                        <td id=\"T_79e9e446_9ee0_11eb_9fed_acde48001122row3_col0\" class=\"data row3 col0\" >101174</td>\n",
       "                        <td id=\"T_79e9e446_9ee0_11eb_9fed_acde48001122row3_col1\" class=\"data row3 col1\" >true even the nation's Deputy drugs are couldn't confidently navigate their system in the tragedy is his son died and remember the funny guy who hated horses he died too so this is a matter of life and death are you if you're wondering what experts would advise you to do in seeking treatment money that we spoke to suggested beginning not with a rehab which may try and sell you on its own substance but with the doctor who is board certified in addiction medicine now it's only recently become an official specialty so they just aren't many of them around but you can find those the doing sitting out this website here that you may be able to go with you to a treatment the best suits your needs which might well not be a fancy Center where you have to pay $73,000 to have this guy lose you look up this system clearly Berkeley needs more expertise and it might be really important to understand the word rehab is so broadly defined as to be close to meaningless it is honestly barely better defined in the word building and if someone were to tell you I have a drug problem but don't worry I'm going to building in Florida would not</td>\n",
       "            </tr>\n",
       "            <tr>\n",
       "                        <th id=\"T_79e9e446_9ee0_11eb_9fed_acde48001122level0_row4\" class=\"row_heading level0 row4\" >4</th>\n",
       "                        <td id=\"T_79e9e446_9ee0_11eb_9fed_acde48001122row4_col0\" class=\"data row4 col0\" >101178</td>\n",
       "                        <td id=\"T_79e9e446_9ee0_11eb_9fed_acde48001122row4_col1\" class=\"data row4 col1\" >horse ratio like in that I'm so ugly right now it can be way too difficult to get all answers to those questions which is crazy because so much about battling addiction is really hard guessing clean is hard staying clean is hard but getting good evidence-based trustworthy help should be the fucking easy pops and right now it is way too easy to literally one. Pissing</td>\n",
       "            </tr>\n",
       "    </tbody></table>"
      ],
      "text/plain": [
       "<pandas.io.formats.style.Styler at 0x163191908>"
      ]
     },
     "metadata": {},
     "output_type": "display_data"
    }
   ],
   "source": [
    "# df_dataset\n",
    "rows_df_dataset = df_dataset.shape[0]\n",
    "path_df_dataset = os.path.join(OUTPUT_DATAFRAMES_ITERATION_DIR, f'{TIMESTR}_df_dataset_{rows_df_dataset}.csv')\n",
    "printmd(f'{TAB}**df_dataset** → {rows_df_dataset:,} rows {path_df_dataset}')\n",
    "df_dataset.to_csv(path_df_dataset, header=True)\n",
    "\n",
    "# df_token_voken\n",
    "rows_df_token_voken = df_token_voken.shape[0]\n",
    "path_df_token_voken = os.path.join(OUTPUT_DATAFRAMES_ITERATION_DIR, f'{TIMESTR}_df_token_voken_{rows_df_token_voken}.csv')\n",
    "printmd(f'{TAB}**df_token_voken** → {rows_df_token_voken:,} rows {path_df_token_voken}')\n",
    "df_token_voken.to_csv(path_df_token_voken, header=True)\n",
    "\n",
    "# df_interval_text\n",
    "rows_df_interval_text = df_interval_text.shape[0]\n",
    "path_df_interval_text = os.path.join(OUTPUT_DATAFRAMES_ITERATION_DIR, f'{TIMESTR}_df_interval_text_{rows_df_interval_text}.csv')\n",
    "printmd(f'{TAB}**rows_df_interval_text** → {rows_df_interval_text:,} rows {path_df_interval_text}')\n",
    "df_interval_text.to_csv(path_df_interval_text, header=True)\n",
    "\n",
    "display(df_with_caption(df_dataset.head(), 'df_dataset'))\n",
    "display(df_with_caption(df_token_voken.head(), 'df_token_voken'))\n",
    "display(df_with_caption(df_interval_text.head(), 'df_interval_text'))"
   ]
  },
  {
   "cell_type": "code",
   "execution_count": 47,
   "id": "correct-mumbai",
   "metadata": {},
   "outputs": [
    {
     "data": {
      "text/html": [
       "<style  type=\"text/css\" >\n",
       "    #T_79f31a98_9ee0_11eb_86c5_acde48001122row0_col0 {\n",
       "            text-align:  left;\n",
       "            font-size:  12pt;\n",
       "        }    #T_79f31a98_9ee0_11eb_86c5_acde48001122row0_col1 {\n",
       "            text-align:  left;\n",
       "            font-size:  12pt;\n",
       "        }    #T_79f31a98_9ee0_11eb_86c5_acde48001122row0_col2 {\n",
       "            text-align:  left;\n",
       "            font-size:  12pt;\n",
       "        }    #T_79f31a98_9ee0_11eb_86c5_acde48001122row0_col3 {\n",
       "            text-align:  left;\n",
       "            font-size:  12pt;\n",
       "        }    #T_79f31a98_9ee0_11eb_86c5_acde48001122row0_col4 {\n",
       "            text-align:  left;\n",
       "            font-size:  12pt;\n",
       "        }    #T_79f31a98_9ee0_11eb_86c5_acde48001122row1_col0 {\n",
       "            text-align:  left;\n",
       "            font-size:  12pt;\n",
       "        }    #T_79f31a98_9ee0_11eb_86c5_acde48001122row1_col1 {\n",
       "            text-align:  left;\n",
       "            font-size:  12pt;\n",
       "        }    #T_79f31a98_9ee0_11eb_86c5_acde48001122row1_col2 {\n",
       "            text-align:  left;\n",
       "            font-size:  12pt;\n",
       "        }    #T_79f31a98_9ee0_11eb_86c5_acde48001122row1_col3 {\n",
       "            text-align:  left;\n",
       "            font-size:  12pt;\n",
       "        }    #T_79f31a98_9ee0_11eb_86c5_acde48001122row1_col4 {\n",
       "            text-align:  left;\n",
       "            font-size:  12pt;\n",
       "        }    #T_79f31a98_9ee0_11eb_86c5_acde48001122row2_col0 {\n",
       "            text-align:  left;\n",
       "            font-size:  12pt;\n",
       "        }    #T_79f31a98_9ee0_11eb_86c5_acde48001122row2_col1 {\n",
       "            text-align:  left;\n",
       "            font-size:  12pt;\n",
       "        }    #T_79f31a98_9ee0_11eb_86c5_acde48001122row2_col2 {\n",
       "            text-align:  left;\n",
       "            font-size:  12pt;\n",
       "        }    #T_79f31a98_9ee0_11eb_86c5_acde48001122row2_col3 {\n",
       "            text-align:  left;\n",
       "            font-size:  12pt;\n",
       "        }    #T_79f31a98_9ee0_11eb_86c5_acde48001122row2_col4 {\n",
       "            text-align:  left;\n",
       "            font-size:  12pt;\n",
       "        }    #T_79f31a98_9ee0_11eb_86c5_acde48001122row3_col0 {\n",
       "            text-align:  left;\n",
       "            font-size:  12pt;\n",
       "        }    #T_79f31a98_9ee0_11eb_86c5_acde48001122row3_col1 {\n",
       "            text-align:  left;\n",
       "            font-size:  12pt;\n",
       "        }    #T_79f31a98_9ee0_11eb_86c5_acde48001122row3_col2 {\n",
       "            text-align:  left;\n",
       "            font-size:  12pt;\n",
       "        }    #T_79f31a98_9ee0_11eb_86c5_acde48001122row3_col3 {\n",
       "            text-align:  left;\n",
       "            font-size:  12pt;\n",
       "        }    #T_79f31a98_9ee0_11eb_86c5_acde48001122row3_col4 {\n",
       "            text-align:  left;\n",
       "            font-size:  12pt;\n",
       "        }    #T_79f31a98_9ee0_11eb_86c5_acde48001122row4_col0 {\n",
       "            text-align:  left;\n",
       "            font-size:  12pt;\n",
       "        }    #T_79f31a98_9ee0_11eb_86c5_acde48001122row4_col1 {\n",
       "            text-align:  left;\n",
       "            font-size:  12pt;\n",
       "        }    #T_79f31a98_9ee0_11eb_86c5_acde48001122row4_col2 {\n",
       "            text-align:  left;\n",
       "            font-size:  12pt;\n",
       "        }    #T_79f31a98_9ee0_11eb_86c5_acde48001122row4_col3 {\n",
       "            text-align:  left;\n",
       "            font-size:  12pt;\n",
       "        }    #T_79f31a98_9ee0_11eb_86c5_acde48001122row4_col4 {\n",
       "            text-align:  left;\n",
       "            font-size:  12pt;\n",
       "        }    #T_79f31a98_9ee0_11eb_86c5_acde48001122row5_col0 {\n",
       "            text-align:  left;\n",
       "            font-size:  12pt;\n",
       "        }    #T_79f31a98_9ee0_11eb_86c5_acde48001122row5_col1 {\n",
       "            text-align:  left;\n",
       "            font-size:  12pt;\n",
       "        }    #T_79f31a98_9ee0_11eb_86c5_acde48001122row5_col2 {\n",
       "            text-align:  left;\n",
       "            font-size:  12pt;\n",
       "        }    #T_79f31a98_9ee0_11eb_86c5_acde48001122row5_col3 {\n",
       "            text-align:  left;\n",
       "            font-size:  12pt;\n",
       "        }    #T_79f31a98_9ee0_11eb_86c5_acde48001122row5_col4 {\n",
       "            text-align:  left;\n",
       "            font-size:  12pt;\n",
       "        }    #T_79f31a98_9ee0_11eb_86c5_acde48001122row6_col0 {\n",
       "            text-align:  left;\n",
       "            font-size:  12pt;\n",
       "        }    #T_79f31a98_9ee0_11eb_86c5_acde48001122row6_col1 {\n",
       "            text-align:  left;\n",
       "            font-size:  12pt;\n",
       "        }    #T_79f31a98_9ee0_11eb_86c5_acde48001122row6_col2 {\n",
       "            text-align:  left;\n",
       "            font-size:  12pt;\n",
       "        }    #T_79f31a98_9ee0_11eb_86c5_acde48001122row6_col3 {\n",
       "            text-align:  left;\n",
       "            font-size:  12pt;\n",
       "        }    #T_79f31a98_9ee0_11eb_86c5_acde48001122row6_col4 {\n",
       "            text-align:  left;\n",
       "            font-size:  12pt;\n",
       "        }    #T_79f31a98_9ee0_11eb_86c5_acde48001122row7_col0 {\n",
       "            text-align:  left;\n",
       "            font-size:  12pt;\n",
       "        }    #T_79f31a98_9ee0_11eb_86c5_acde48001122row7_col1 {\n",
       "            text-align:  left;\n",
       "            font-size:  12pt;\n",
       "        }    #T_79f31a98_9ee0_11eb_86c5_acde48001122row7_col2 {\n",
       "            text-align:  left;\n",
       "            font-size:  12pt;\n",
       "        }    #T_79f31a98_9ee0_11eb_86c5_acde48001122row7_col3 {\n",
       "            text-align:  left;\n",
       "            font-size:  12pt;\n",
       "        }    #T_79f31a98_9ee0_11eb_86c5_acde48001122row7_col4 {\n",
       "            text-align:  left;\n",
       "            font-size:  12pt;\n",
       "        }    #T_79f31a98_9ee0_11eb_86c5_acde48001122row8_col0 {\n",
       "            text-align:  left;\n",
       "            font-size:  12pt;\n",
       "        }    #T_79f31a98_9ee0_11eb_86c5_acde48001122row8_col1 {\n",
       "            text-align:  left;\n",
       "            font-size:  12pt;\n",
       "        }    #T_79f31a98_9ee0_11eb_86c5_acde48001122row8_col2 {\n",
       "            text-align:  left;\n",
       "            font-size:  12pt;\n",
       "        }    #T_79f31a98_9ee0_11eb_86c5_acde48001122row8_col3 {\n",
       "            text-align:  left;\n",
       "            font-size:  12pt;\n",
       "        }    #T_79f31a98_9ee0_11eb_86c5_acde48001122row8_col4 {\n",
       "            text-align:  left;\n",
       "            font-size:  12pt;\n",
       "        }    #T_79f31a98_9ee0_11eb_86c5_acde48001122row9_col0 {\n",
       "            text-align:  left;\n",
       "            font-size:  12pt;\n",
       "        }    #T_79f31a98_9ee0_11eb_86c5_acde48001122row9_col1 {\n",
       "            text-align:  left;\n",
       "            font-size:  12pt;\n",
       "        }    #T_79f31a98_9ee0_11eb_86c5_acde48001122row9_col2 {\n",
       "            text-align:  left;\n",
       "            font-size:  12pt;\n",
       "        }    #T_79f31a98_9ee0_11eb_86c5_acde48001122row9_col3 {\n",
       "            text-align:  left;\n",
       "            font-size:  12pt;\n",
       "        }    #T_79f31a98_9ee0_11eb_86c5_acde48001122row9_col4 {\n",
       "            text-align:  left;\n",
       "            font-size:  12pt;\n",
       "        }    #T_79f31a98_9ee0_11eb_86c5_acde48001122row10_col0 {\n",
       "            text-align:  left;\n",
       "            font-size:  12pt;\n",
       "        }    #T_79f31a98_9ee0_11eb_86c5_acde48001122row10_col1 {\n",
       "            text-align:  left;\n",
       "            font-size:  12pt;\n",
       "        }    #T_79f31a98_9ee0_11eb_86c5_acde48001122row10_col2 {\n",
       "            text-align:  left;\n",
       "            font-size:  12pt;\n",
       "        }    #T_79f31a98_9ee0_11eb_86c5_acde48001122row10_col3 {\n",
       "            text-align:  left;\n",
       "            font-size:  12pt;\n",
       "        }    #T_79f31a98_9ee0_11eb_86c5_acde48001122row10_col4 {\n",
       "            text-align:  left;\n",
       "            font-size:  12pt;\n",
       "        }    #T_79f31a98_9ee0_11eb_86c5_acde48001122row11_col0 {\n",
       "            text-align:  left;\n",
       "            font-size:  12pt;\n",
       "        }    #T_79f31a98_9ee0_11eb_86c5_acde48001122row11_col1 {\n",
       "            text-align:  left;\n",
       "            font-size:  12pt;\n",
       "        }    #T_79f31a98_9ee0_11eb_86c5_acde48001122row11_col2 {\n",
       "            text-align:  left;\n",
       "            font-size:  12pt;\n",
       "        }    #T_79f31a98_9ee0_11eb_86c5_acde48001122row11_col3 {\n",
       "            text-align:  left;\n",
       "            font-size:  12pt;\n",
       "        }    #T_79f31a98_9ee0_11eb_86c5_acde48001122row11_col4 {\n",
       "            text-align:  left;\n",
       "            font-size:  12pt;\n",
       "        }    #T_79f31a98_9ee0_11eb_86c5_acde48001122row12_col0 {\n",
       "            text-align:  left;\n",
       "            font-size:  12pt;\n",
       "        }    #T_79f31a98_9ee0_11eb_86c5_acde48001122row12_col1 {\n",
       "            text-align:  left;\n",
       "            font-size:  12pt;\n",
       "        }    #T_79f31a98_9ee0_11eb_86c5_acde48001122row12_col2 {\n",
       "            text-align:  left;\n",
       "            font-size:  12pt;\n",
       "        }    #T_79f31a98_9ee0_11eb_86c5_acde48001122row12_col3 {\n",
       "            text-align:  left;\n",
       "            font-size:  12pt;\n",
       "        }    #T_79f31a98_9ee0_11eb_86c5_acde48001122row12_col4 {\n",
       "            text-align:  left;\n",
       "            font-size:  12pt;\n",
       "        }    #T_79f31a98_9ee0_11eb_86c5_acde48001122row13_col0 {\n",
       "            text-align:  left;\n",
       "            font-size:  12pt;\n",
       "        }    #T_79f31a98_9ee0_11eb_86c5_acde48001122row13_col1 {\n",
       "            text-align:  left;\n",
       "            font-size:  12pt;\n",
       "        }    #T_79f31a98_9ee0_11eb_86c5_acde48001122row13_col2 {\n",
       "            text-align:  left;\n",
       "            font-size:  12pt;\n",
       "        }    #T_79f31a98_9ee0_11eb_86c5_acde48001122row13_col3 {\n",
       "            text-align:  left;\n",
       "            font-size:  12pt;\n",
       "        }    #T_79f31a98_9ee0_11eb_86c5_acde48001122row13_col4 {\n",
       "            text-align:  left;\n",
       "            font-size:  12pt;\n",
       "        }    #T_79f31a98_9ee0_11eb_86c5_acde48001122row14_col0 {\n",
       "            text-align:  left;\n",
       "            font-size:  12pt;\n",
       "        }    #T_79f31a98_9ee0_11eb_86c5_acde48001122row14_col1 {\n",
       "            text-align:  left;\n",
       "            font-size:  12pt;\n",
       "        }    #T_79f31a98_9ee0_11eb_86c5_acde48001122row14_col2 {\n",
       "            text-align:  left;\n",
       "            font-size:  12pt;\n",
       "        }    #T_79f31a98_9ee0_11eb_86c5_acde48001122row14_col3 {\n",
       "            text-align:  left;\n",
       "            font-size:  12pt;\n",
       "        }    #T_79f31a98_9ee0_11eb_86c5_acde48001122row14_col4 {\n",
       "            text-align:  left;\n",
       "            font-size:  12pt;\n",
       "        }    #T_79f31a98_9ee0_11eb_86c5_acde48001122row15_col0 {\n",
       "            text-align:  left;\n",
       "            font-size:  12pt;\n",
       "        }    #T_79f31a98_9ee0_11eb_86c5_acde48001122row15_col1 {\n",
       "            text-align:  left;\n",
       "            font-size:  12pt;\n",
       "        }    #T_79f31a98_9ee0_11eb_86c5_acde48001122row15_col2 {\n",
       "            text-align:  left;\n",
       "            font-size:  12pt;\n",
       "        }    #T_79f31a98_9ee0_11eb_86c5_acde48001122row15_col3 {\n",
       "            text-align:  left;\n",
       "            font-size:  12pt;\n",
       "        }    #T_79f31a98_9ee0_11eb_86c5_acde48001122row15_col4 {\n",
       "            text-align:  left;\n",
       "            font-size:  12pt;\n",
       "        }</style><table id=\"T_79f31a98_9ee0_11eb_86c5_acde48001122\" ><thead>    <tr>        <th class=\"blank level0\" ></th>        <th class=\"col_heading level0 col0\" >word_original</th>        <th class=\"col_heading level0 col1\" >bert_token</th>        <th class=\"col_heading level0 col2\" >frame_selected</th>        <th class=\"col_heading level0 col3\" >frame_full_path</th>        <th class=\"col_heading level0 col4\" >voken_file</th>    </tr></thead><tbody>\n",
       "                <tr>\n",
       "                        <th id=\"T_79f31a98_9ee0_11eb_86c5_acde48001122level0_row0\" class=\"row_heading level0 row0\" >90</th>\n",
       "                        <td id=\"T_79f31a98_9ee0_11eb_86c5_acde48001122row0_col0\" class=\"data row0 col0\" >you'll</td>\n",
       "                        <td id=\"T_79f31a98_9ee0_11eb_86c5_acde48001122row0_col1\" class=\"data row0 col1\" >you</td>\n",
       "                        <td id=\"T_79f31a98_9ee0_11eb_86c5_acde48001122row0_col2\" class=\"data row0 col2\" >98</td>\n",
       "                        <td id=\"T_79f31a98_9ee0_11eb_86c5_acde48001122row0_col3\" class=\"data row0 col3\" >/Users/staveshemesh/Projects/PATS_DATA/Youtube/oliver/hWQiXv0sn9Y/101126/vokens/face_annot_224/00098.png</td>\n",
       "                        <td id=\"T_79f31a98_9ee0_11eb_86c5_acde48001122row0_col4\" class=\"data row0 col4\" >oliver/hWQiXv0sn9Y/101126/vokens/face_annot_224/00098.png</td>\n",
       "            </tr>\n",
       "            <tr>\n",
       "                        <th id=\"T_79f31a98_9ee0_11eb_86c5_acde48001122level0_row1\" class=\"row_heading level0 row1\" >91</th>\n",
       "                        <td id=\"T_79f31a98_9ee0_11eb_86c5_acde48001122row1_col0\" class=\"data row1 col0\" >you'll</td>\n",
       "                        <td id=\"T_79f31a98_9ee0_11eb_86c5_acde48001122row1_col1\" class=\"data row1 col1\" >'</td>\n",
       "                        <td id=\"T_79f31a98_9ee0_11eb_86c5_acde48001122row1_col2\" class=\"data row1 col2\" >98</td>\n",
       "                        <td id=\"T_79f31a98_9ee0_11eb_86c5_acde48001122row1_col3\" class=\"data row1 col3\" >/Users/staveshemesh/Projects/PATS_DATA/Youtube/oliver/hWQiXv0sn9Y/101126/vokens/face_annot_224/00098.png</td>\n",
       "                        <td id=\"T_79f31a98_9ee0_11eb_86c5_acde48001122row1_col4\" class=\"data row1 col4\" >oliver/hWQiXv0sn9Y/101126/vokens/face_annot_224/00098.png</td>\n",
       "            </tr>\n",
       "            <tr>\n",
       "                        <th id=\"T_79f31a98_9ee0_11eb_86c5_acde48001122level0_row2\" class=\"row_heading level0 row2\" >92</th>\n",
       "                        <td id=\"T_79f31a98_9ee0_11eb_86c5_acde48001122row2_col0\" class=\"data row2 col0\" >you'll</td>\n",
       "                        <td id=\"T_79f31a98_9ee0_11eb_86c5_acde48001122row2_col1\" class=\"data row2 col1\" >ll</td>\n",
       "                        <td id=\"T_79f31a98_9ee0_11eb_86c5_acde48001122row2_col2\" class=\"data row2 col2\" >98</td>\n",
       "                        <td id=\"T_79f31a98_9ee0_11eb_86c5_acde48001122row2_col3\" class=\"data row2 col3\" >/Users/staveshemesh/Projects/PATS_DATA/Youtube/oliver/hWQiXv0sn9Y/101126/vokens/face_annot_224/00098.png</td>\n",
       "                        <td id=\"T_79f31a98_9ee0_11eb_86c5_acde48001122row2_col4\" class=\"data row2 col4\" >oliver/hWQiXv0sn9Y/101126/vokens/face_annot_224/00098.png</td>\n",
       "            </tr>\n",
       "            <tr>\n",
       "                        <th id=\"T_79f31a98_9ee0_11eb_86c5_acde48001122level0_row3\" class=\"row_heading level0 row3\" >93</th>\n",
       "                        <td id=\"T_79f31a98_9ee0_11eb_86c5_acde48001122row3_col0\" class=\"data row3 col0\" >say</td>\n",
       "                        <td id=\"T_79f31a98_9ee0_11eb_86c5_acde48001122row3_col1\" class=\"data row3 col1\" >say</td>\n",
       "                        <td id=\"T_79f31a98_9ee0_11eb_86c5_acde48001122row3_col2\" class=\"data row3 col2\" >101</td>\n",
       "                        <td id=\"T_79f31a98_9ee0_11eb_86c5_acde48001122row3_col3\" class=\"data row3 col3\" >/Users/staveshemesh/Projects/PATS_DATA/Youtube/oliver/hWQiXv0sn9Y/101126/vokens/face_annot_224/00101.png</td>\n",
       "                        <td id=\"T_79f31a98_9ee0_11eb_86c5_acde48001122row3_col4\" class=\"data row3 col4\" >oliver/hWQiXv0sn9Y/101126/vokens/face_annot_224/00101.png</td>\n",
       "            </tr>\n",
       "            <tr>\n",
       "                        <th id=\"T_79f31a98_9ee0_11eb_86c5_acde48001122level0_row4\" class=\"row_heading level0 row4\" >94</th>\n",
       "                        <td id=\"T_79f31a98_9ee0_11eb_86c5_acde48001122row4_col0\" class=\"data row4 col0\" >whatever</td>\n",
       "                        <td id=\"T_79f31a98_9ee0_11eb_86c5_acde48001122row4_col1\" class=\"data row4 col1\" >whatever</td>\n",
       "                        <td id=\"T_79f31a98_9ee0_11eb_86c5_acde48001122row4_col2\" class=\"data row4 col2\" >105</td>\n",
       "                        <td id=\"T_79f31a98_9ee0_11eb_86c5_acde48001122row4_col3\" class=\"data row4 col3\" >/Users/staveshemesh/Projects/PATS_DATA/Youtube/oliver/hWQiXv0sn9Y/101126/vokens/face_annot_224/00105.png</td>\n",
       "                        <td id=\"T_79f31a98_9ee0_11eb_86c5_acde48001122row4_col4\" class=\"data row4 col4\" >oliver/hWQiXv0sn9Y/101126/vokens/face_annot_224/00105.png</td>\n",
       "            </tr>\n",
       "            <tr>\n",
       "                        <th id=\"T_79f31a98_9ee0_11eb_86c5_acde48001122level0_row5\" class=\"row_heading level0 row5\" >95</th>\n",
       "                        <td id=\"T_79f31a98_9ee0_11eb_86c5_acde48001122row5_col0\" class=\"data row5 col0\" >it</td>\n",
       "                        <td id=\"T_79f31a98_9ee0_11eb_86c5_acde48001122row5_col1\" class=\"data row5 col1\" >it</td>\n",
       "                        <td id=\"T_79f31a98_9ee0_11eb_86c5_acde48001122row5_col2\" class=\"data row5 col2\" >109</td>\n",
       "                        <td id=\"T_79f31a98_9ee0_11eb_86c5_acde48001122row5_col3\" class=\"data row5 col3\" >/Users/staveshemesh/Projects/PATS_DATA/Youtube/oliver/hWQiXv0sn9Y/101126/vokens/face_annot_224/00109.png</td>\n",
       "                        <td id=\"T_79f31a98_9ee0_11eb_86c5_acde48001122row5_col4\" class=\"data row5 col4\" >oliver/hWQiXv0sn9Y/101126/vokens/face_annot_224/00109.png</td>\n",
       "            </tr>\n",
       "            <tr>\n",
       "                        <th id=\"T_79f31a98_9ee0_11eb_86c5_acde48001122level0_row6\" class=\"row_heading level0 row6\" >96</th>\n",
       "                        <td id=\"T_79f31a98_9ee0_11eb_86c5_acde48001122row6_col0\" class=\"data row6 col0\" >takes</td>\n",
       "                        <td id=\"T_79f31a98_9ee0_11eb_86c5_acde48001122row6_col1\" class=\"data row6 col1\" >takes</td>\n",
       "                        <td id=\"T_79f31a98_9ee0_11eb_86c5_acde48001122row6_col2\" class=\"data row6 col2\" >114</td>\n",
       "                        <td id=\"T_79f31a98_9ee0_11eb_86c5_acde48001122row6_col3\" class=\"data row6 col3\" >/Users/staveshemesh/Projects/PATS_DATA/Youtube/oliver/hWQiXv0sn9Y/101126/vokens/face_annot_224/00114.png</td>\n",
       "                        <td id=\"T_79f31a98_9ee0_11eb_86c5_acde48001122row6_col4\" class=\"data row6 col4\" >oliver/hWQiXv0sn9Y/101126/vokens/face_annot_224/00114.png</td>\n",
       "            </tr>\n",
       "            <tr>\n",
       "                        <th id=\"T_79f31a98_9ee0_11eb_86c5_acde48001122level0_row7\" class=\"row_heading level0 row7\" >97</th>\n",
       "                        <td id=\"T_79f31a98_9ee0_11eb_86c5_acde48001122row7_col0\" class=\"data row7 col0\" >to</td>\n",
       "                        <td id=\"T_79f31a98_9ee0_11eb_86c5_acde48001122row7_col1\" class=\"data row7 col1\" >to</td>\n",
       "                        <td id=\"T_79f31a98_9ee0_11eb_86c5_acde48001122row7_col2\" class=\"data row7 col2\" >117</td>\n",
       "                        <td id=\"T_79f31a98_9ee0_11eb_86c5_acde48001122row7_col3\" class=\"data row7 col3\" >/Users/staveshemesh/Projects/PATS_DATA/Youtube/oliver/hWQiXv0sn9Y/101126/vokens/face_annot_224/00117.png</td>\n",
       "                        <td id=\"T_79f31a98_9ee0_11eb_86c5_acde48001122row7_col4\" class=\"data row7 col4\" >oliver/hWQiXv0sn9Y/101126/vokens/face_annot_224/00117.png</td>\n",
       "            </tr>\n",
       "            <tr>\n",
       "                        <th id=\"T_79f31a98_9ee0_11eb_86c5_acde48001122level0_row8\" class=\"row_heading level0 row8\" >98</th>\n",
       "                        <td id=\"T_79f31a98_9ee0_11eb_86c5_acde48001122row8_col0\" class=\"data row8 col0\" >make</td>\n",
       "                        <td id=\"T_79f31a98_9ee0_11eb_86c5_acde48001122row8_col1\" class=\"data row8 col1\" >make</td>\n",
       "                        <td id=\"T_79f31a98_9ee0_11eb_86c5_acde48001122row8_col2\" class=\"data row8 col2\" >118</td>\n",
       "                        <td id=\"T_79f31a98_9ee0_11eb_86c5_acde48001122row8_col3\" class=\"data row8 col3\" >/Users/staveshemesh/Projects/PATS_DATA/Youtube/oliver/hWQiXv0sn9Y/101126/vokens/face_annot_224/00118.png</td>\n",
       "                        <td id=\"T_79f31a98_9ee0_11eb_86c5_acde48001122row8_col4\" class=\"data row8 col4\" >oliver/hWQiXv0sn9Y/101126/vokens/face_annot_224/00118.png</td>\n",
       "            </tr>\n",
       "            <tr>\n",
       "                        <th id=\"T_79f31a98_9ee0_11eb_86c5_acde48001122level0_row9\" class=\"row_heading level0 row9\" >99</th>\n",
       "                        <td id=\"T_79f31a98_9ee0_11eb_86c5_acde48001122row9_col0\" class=\"data row9 col0\" >it</td>\n",
       "                        <td id=\"T_79f31a98_9ee0_11eb_86c5_acde48001122row9_col1\" class=\"data row9 col1\" >it</td>\n",
       "                        <td id=\"T_79f31a98_9ee0_11eb_86c5_acde48001122row9_col2\" class=\"data row9 col2\" >120</td>\n",
       "                        <td id=\"T_79f31a98_9ee0_11eb_86c5_acde48001122row9_col3\" class=\"data row9 col3\" >/Users/staveshemesh/Projects/PATS_DATA/Youtube/oliver/hWQiXv0sn9Y/101126/vokens/face_annot_224/00120.png</td>\n",
       "                        <td id=\"T_79f31a98_9ee0_11eb_86c5_acde48001122row9_col4\" class=\"data row9 col4\" >oliver/hWQiXv0sn9Y/101126/vokens/face_annot_224/00120.png</td>\n",
       "            </tr>\n",
       "            <tr>\n",
       "                        <th id=\"T_79f31a98_9ee0_11eb_86c5_acde48001122level0_row10\" class=\"row_heading level0 row10\" >100</th>\n",
       "                        <td id=\"T_79f31a98_9ee0_11eb_86c5_acde48001122row10_col0\" class=\"data row10 col0\" >end</td>\n",
       "                        <td id=\"T_79f31a98_9ee0_11eb_86c5_acde48001122row10_col1\" class=\"data row10 col1\" >end</td>\n",
       "                        <td id=\"T_79f31a98_9ee0_11eb_86c5_acde48001122row10_col2\" class=\"data row10 col2\" >125</td>\n",
       "                        <td id=\"T_79f31a98_9ee0_11eb_86c5_acde48001122row10_col3\" class=\"data row10 col3\" >/Users/staveshemesh/Projects/PATS_DATA/Youtube/oliver/hWQiXv0sn9Y/101126/vokens/face_annot_224/00125.png</td>\n",
       "                        <td id=\"T_79f31a98_9ee0_11eb_86c5_acde48001122row10_col4\" class=\"data row10 col4\" >oliver/hWQiXv0sn9Y/101126/vokens/face_annot_224/00125.png</td>\n",
       "            </tr>\n",
       "            <tr>\n",
       "                        <th id=\"T_79f31a98_9ee0_11eb_86c5_acde48001122level0_row11\" class=\"row_heading level0 row11\" >101</th>\n",
       "                        <td id=\"T_79f31a98_9ee0_11eb_86c5_acde48001122row11_col0\" class=\"data row11 col0\" >cuz</td>\n",
       "                        <td id=\"T_79f31a98_9ee0_11eb_86c5_acde48001122row11_col1\" class=\"data row11 col1\" >cu</td>\n",
       "                        <td id=\"T_79f31a98_9ee0_11eb_86c5_acde48001122row11_col2\" class=\"data row11 col2\" >131</td>\n",
       "                        <td id=\"T_79f31a98_9ee0_11eb_86c5_acde48001122row11_col3\" class=\"data row11 col3\" >/Users/staveshemesh/Projects/PATS_DATA/Youtube/oliver/hWQiXv0sn9Y/101126/vokens/face_annot_224/00131.png</td>\n",
       "                        <td id=\"T_79f31a98_9ee0_11eb_86c5_acde48001122row11_col4\" class=\"data row11 col4\" >oliver/hWQiXv0sn9Y/101126/vokens/face_annot_224/00131.png</td>\n",
       "            </tr>\n",
       "            <tr>\n",
       "                        <th id=\"T_79f31a98_9ee0_11eb_86c5_acde48001122level0_row12\" class=\"row_heading level0 row12\" >102</th>\n",
       "                        <td id=\"T_79f31a98_9ee0_11eb_86c5_acde48001122row12_col0\" class=\"data row12 col0\" >cuz</td>\n",
       "                        <td id=\"T_79f31a98_9ee0_11eb_86c5_acde48001122row12_col1\" class=\"data row12 col1\" >##z</td>\n",
       "                        <td id=\"T_79f31a98_9ee0_11eb_86c5_acde48001122row12_col2\" class=\"data row12 col2\" >131</td>\n",
       "                        <td id=\"T_79f31a98_9ee0_11eb_86c5_acde48001122row12_col3\" class=\"data row12 col3\" >/Users/staveshemesh/Projects/PATS_DATA/Youtube/oliver/hWQiXv0sn9Y/101126/vokens/face_annot_224/00131.png</td>\n",
       "                        <td id=\"T_79f31a98_9ee0_11eb_86c5_acde48001122row12_col4\" class=\"data row12 col4\" >oliver/hWQiXv0sn9Y/101126/vokens/face_annot_224/00131.png</td>\n",
       "            </tr>\n",
       "            <tr>\n",
       "                        <th id=\"T_79f31a98_9ee0_11eb_86c5_acde48001122level0_row13\" class=\"row_heading level0 row13\" >103</th>\n",
       "                        <td id=\"T_79f31a98_9ee0_11eb_86c5_acde48001122row13_col0\" class=\"data row13 col0\" >getting</td>\n",
       "                        <td id=\"T_79f31a98_9ee0_11eb_86c5_acde48001122row13_col1\" class=\"data row13 col1\" >getting</td>\n",
       "                        <td id=\"T_79f31a98_9ee0_11eb_86c5_acde48001122row13_col2\" class=\"data row13 col2\" >138</td>\n",
       "                        <td id=\"T_79f31a98_9ee0_11eb_86c5_acde48001122row13_col3\" class=\"data row13 col3\" >/Users/staveshemesh/Projects/PATS_DATA/Youtube/oliver/hWQiXv0sn9Y/101126/vokens/face_annot_224/00138.png</td>\n",
       "                        <td id=\"T_79f31a98_9ee0_11eb_86c5_acde48001122row13_col4\" class=\"data row13 col4\" >oliver/hWQiXv0sn9Y/101126/vokens/face_annot_224/00138.png</td>\n",
       "            </tr>\n",
       "            <tr>\n",
       "                        <th id=\"T_79f31a98_9ee0_11eb_86c5_acde48001122level0_row14\" class=\"row_heading level0 row14\" >104</th>\n",
       "                        <td id=\"T_79f31a98_9ee0_11eb_86c5_acde48001122row14_col0\" class=\"data row14 col0\" >so</td>\n",
       "                        <td id=\"T_79f31a98_9ee0_11eb_86c5_acde48001122row14_col1\" class=\"data row14 col1\" >so</td>\n",
       "                        <td id=\"T_79f31a98_9ee0_11eb_86c5_acde48001122row14_col2\" class=\"data row14 col2\" >144</td>\n",
       "                        <td id=\"T_79f31a98_9ee0_11eb_86c5_acde48001122row14_col3\" class=\"data row14 col3\" >/Users/staveshemesh/Projects/PATS_DATA/Youtube/oliver/hWQiXv0sn9Y/101126/vokens/face_annot_224/00144.png</td>\n",
       "                        <td id=\"T_79f31a98_9ee0_11eb_86c5_acde48001122row14_col4\" class=\"data row14 col4\" >oliver/hWQiXv0sn9Y/101126/vokens/face_annot_224/00144.png</td>\n",
       "            </tr>\n",
       "            <tr>\n",
       "                        <th id=\"T_79f31a98_9ee0_11eb_86c5_acde48001122level0_row15\" class=\"row_heading level0 row15\" >105</th>\n",
       "                        <td id=\"T_79f31a98_9ee0_11eb_86c5_acde48001122row15_col0\" class=\"data row15 col0\" >but</td>\n",
       "                        <td id=\"T_79f31a98_9ee0_11eb_86c5_acde48001122row15_col1\" class=\"data row15 col1\" >but</td>\n",
       "                        <td id=\"T_79f31a98_9ee0_11eb_86c5_acde48001122row15_col2\" class=\"data row15 col2\" >147</td>\n",
       "                        <td id=\"T_79f31a98_9ee0_11eb_86c5_acde48001122row15_col3\" class=\"data row15 col3\" >/Users/staveshemesh/Projects/PATS_DATA/Youtube/oliver/hWQiXv0sn9Y/101126/vokens/face_annot_224/00147.png</td>\n",
       "                        <td id=\"T_79f31a98_9ee0_11eb_86c5_acde48001122row15_col4\" class=\"data row15 col4\" >oliver/hWQiXv0sn9Y/101126/vokens/face_annot_224/00147.png</td>\n",
       "            </tr>\n",
       "    </tbody></table>"
      ],
      "text/plain": [
       "<pandas.io.formats.style.Styler at 0x15eb30278>"
      ]
     },
     "execution_count": 47,
     "metadata": {},
     "output_type": "execute_result"
    }
   ],
   "source": [
    "df_dataset['voken_file'] = df_dataset['frame_full_path'].str.slice(47)\n",
    "SHOW_COLS = ['word_original', 'bert_token', 'frame_selected', 'frame_full_path', 'voken_file']\n",
    "df_dataset[SHOW_COLS][90:106].style.set_properties(**{'text-align': 'left', 'font-size': '12pt'})"
   ]
  },
  {
   "cell_type": "markdown",
   "id": "thorough-failure",
   "metadata": {},
   "source": [
    "## Training Data"
   ]
  },
  {
   "cell_type": "markdown",
   "id": "ordinary-mexico",
   "metadata": {},
   "source": [
    "## Tokens"
   ]
  },
  {
   "cell_type": "markdown",
   "id": "cloudy-temperature",
   "metadata": {},
   "source": [
    "### Save tokens.hdf5"
   ]
  },
  {
   "cell_type": "code",
   "execution_count": 48,
   "id": "strategic-pitch",
   "metadata": {},
   "outputs": [
    {
     "name": "stdout",
     "output_type": "stream",
     "text": [
      "Saved 6,185 to /Users/staveshemesh/Projects/shstav2/token_voken/data/sample/20210416_212032/sample_token_ids_6185.hdf5.\n"
     ]
    }
   ],
   "source": [
    "token_ids = df_dataset['token_id']\n",
    "token_output_path = OUTPUT_TOKENS_PATH.format(count=len(token_ids))\n",
    "with h5py.File(token_output_path, 'w') as hf:\n",
    "    hf.create_dataset('tokens', data=token_ids)\n",
    "\n",
    "print(f'Saved {len(token_ids):,} to {token_output_path}.')"
   ]
  },
  {
   "cell_type": "code",
   "execution_count": 49,
   "id": "appointed-calculation",
   "metadata": {},
   "outputs": [
    {
     "name": "stdout",
     "output_type": "stream",
     "text": [
      "<HDF5 dataset \"tokens\": shape (6185,), type \"<i8\">\n"
     ]
    }
   ],
   "source": [
    "token_hdf5 = h5py.File(token_output_path, 'r')\n",
    "token_ids_from_file = token_hdf5['tokens']\n",
    "print(token_ids_from_file)\n",
    "token_hdf5.close()"
   ]
  },
  {
   "cell_type": "markdown",
   "id": "czech-architecture",
   "metadata": {},
   "source": [
    "## Vokens"
   ]
  },
  {
   "cell_type": "markdown",
   "id": "alive-payday",
   "metadata": {},
   "source": [
    "### Save vokens.hdf5"
   ]
  },
  {
   "cell_type": "code",
   "execution_count": 50,
   "id": "rough-ocean",
   "metadata": {},
   "outputs": [],
   "source": [
    "voken_ids = df_dataset['voken_id'].tolist()"
   ]
  },
  {
   "cell_type": "markdown",
   "id": "educated-surfing",
   "metadata": {},
   "source": [
    "**Save File**"
   ]
  },
  {
   "cell_type": "code",
   "execution_count": 51,
   "id": "terminal-australian",
   "metadata": {},
   "outputs": [
    {
     "data": {
      "text/markdown": [
       "&nbsp;&nbsp;&nbsp;&nbsp;**voken keys** → 6,185 to /Users/staveshemesh/Projects/shstav2/token_voken/data/sample/20210416_212032/sample_voken_ids_6185.hdf5."
      ],
      "text/plain": [
       "<IPython.core.display.Markdown object>"
      ]
     },
     "metadata": {},
     "output_type": "display_data"
    }
   ],
   "source": [
    "voken_output_path = OUTPUT_VOKENS_PATH.format(count=len(voken_ids))\n",
    "with h5py.File(voken_output_path, 'w') as hf:\n",
    "    hf.create_dataset('vokens', data=voken_ids)\n",
    "\n",
    "printmd(f'{TAB}**voken keys** → {len(voken_ids):,} to {voken_output_path}.')"
   ]
  },
  {
   "cell_type": "markdown",
   "id": "ecological-arbitration",
   "metadata": {},
   "source": [
    "**Validate File**"
   ]
  },
  {
   "cell_type": "code",
   "execution_count": 52,
   "id": "exposed-ancient",
   "metadata": {},
   "outputs": [
    {
     "name": "stdout",
     "output_type": "stream",
     "text": [
      "<HDF5 dataset \"vokens\": shape (6185,), type \"<i8\">\n"
     ]
    }
   ],
   "source": [
    "voken_hdf5 = h5py.File(voken_output_path, 'r')\n",
    "voken_ids_from_file = voken_hdf5['vokens']\n",
    "print(voken_ids_from_file)\n",
    "voken_ids_from_file_list = voken_ids_from_file[:].tolist()\n",
    "assert voken_ids_from_file_list == voken_ids\n",
    "voken_hdf5.close()"
   ]
  },
  {
   "cell_type": "markdown",
   "id": "civil-smell",
   "metadata": {},
   "source": [
    "### Save vokens.ids (vg_nococo/241)"
   ]
  },
  {
   "cell_type": "code",
   "execution_count": 53,
   "id": "recognized-selection",
   "metadata": {},
   "outputs": [
    {
     "data": {
      "text/markdown": [
       "&nbsp;&nbsp;&nbsp;&nbsp;**voken unique ids** → 5,611 to /Users/staveshemesh/Projects/shstav2/token_voken/data/sample/20210416_212032/oliver_5611.ids."
      ],
      "text/plain": [
       "<IPython.core.display.Markdown object>"
      ]
     },
     "metadata": {},
     "output_type": "display_data"
    }
   ],
   "source": [
    "# TODO: use pandas\n",
    "img_set = img_sets[0]\n",
    "img_ids = (img_set + '/' + df_vokens['voken_id'].astype(str)).tolist()\n",
    "\n",
    "ids_path = OUTPUT_VOKEN_IDS_PATH.format(dataset=img_set, count=len(unique_voken_ids))\n",
    "\n",
    "with open(ids_path, 'w') as f:\n",
    "    for img_id in img_ids:\n",
    "        f.write(str(img_id) + '\\n')\n",
    "\n",
    "printmd(f'{TAB}**voken unique ids** → {len(img_ids):,} to {ids_path}.')"
   ]
  },
  {
   "cell_type": "markdown",
   "id": "accredited-arrow",
   "metadata": {},
   "source": [
    "### Save voken keys"
   ]
  },
  {
   "cell_type": "code",
   "execution_count": 54,
   "id": "marked-advertising",
   "metadata": {},
   "outputs": [
    {
     "data": {
      "text/markdown": [
       "&nbsp;&nbsp;&nbsp;&nbsp;**keys dir** → /Users/staveshemesh/Projects/shstav2/token_voken/data/sample/20210416_212032/keys"
      ],
      "text/plain": [
       "<IPython.core.display.Markdown object>"
      ]
     },
     "metadata": {},
     "output_type": "display_data"
    }
   ],
   "source": [
    "keys_output_dir = OUTPUT_VOKEN_KEYS_PATH\n",
    "printmd(f'{TAB}**keys dir** → {keys_output_dir}')\n",
    "os.makedirs(keys_output_dir)"
   ]
  },
  {
   "cell_type": "code",
   "execution_count": 55,
   "id": "cross-ordering",
   "metadata": {},
   "outputs": [
    {
     "data": {
      "text/plain": [
       "(6185, 20)"
      ]
     },
     "execution_count": 55,
     "metadata": {},
     "output_type": "execute_result"
    }
   ],
   "source": [
    "df_dataset.shape"
   ]
  },
  {
   "cell_type": "code",
   "execution_count": 56,
   "id": "innocent-liabilities",
   "metadata": {},
   "outputs": [
    {
     "name": "stdout",
     "output_type": "stream",
     "text": [
      "\tSave features (keys) to /Users/staveshemesh/Projects/shstav2/token_voken/data/sample/20210416_212032/keys/oliver.hdf5 with hdf5 dataset 'Keys'.\n"
     ]
    }
   ],
   "source": [
    "h5_path = os.path.join(keys_output_dir, img_set + '.hdf5')\n",
    "print(f\"\\tSave features (keys) to {h5_path} with hdf5 dataset 'Keys'.\")\n",
    "h5_file = h5py.File(h5_path, 'w')\n",
    "#TODO: TMP. FIXME\n",
    "TARGET_LEN = df_dataset.shape[0]\n",
    "dset = h5_file.create_dataset(\"keys\", (TARGET_LEN, last_dim))\n",
    "# dset = h5_file.create_dataset(\"keys\", (len(saved_img_paths), last_dim))\n",
    "for i, img_key in enumerate(islice(cycle(img_keys), TARGET_LEN)):\n",
    "    dset[i] = img_key\n",
    "h5_file.close()"
   ]
  },
  {
   "cell_type": "code",
   "execution_count": 57,
   "id": "practical-guidance",
   "metadata": {},
   "outputs": [
    {
     "name": "stdout",
     "output_type": "stream",
     "text": [
      "<HDF5 dataset \"keys\": shape (6185, 16), type \"<f4\">\n",
      "✓ Same Len: 55\n",
      "✓ Same Features: 55x16\n"
     ]
    }
   ],
   "source": [
    "voken_feat_hdf5 = h5py.File(h5_path, 'r')\n",
    "voken_keys_from_file = voken_feat_hdf5['keys']\n",
    "print(voken_keys_from_file)\n",
    "voken_keys_from_file_list = voken_keys_from_file[:].tolist()\n",
    "assert TARGET_LEN == len(voken_keys_from_file_list)\n",
    "# assert len(img_keys) == len(voken_keys_from_file_list)\n",
    "assert all([(img_keys[i] == voken_keys_from_file_list[i]).all() for i in range(len(img_keys))])\n",
    "print(f'✓ Same Len: {len(img_keys)}')\n",
    "print(f'✓ Same Features: {len(img_keys)}x{len(img_keys[0])}')\n",
    "voken_feat_hdf5.close()"
   ]
  },
  {
   "cell_type": "code",
   "execution_count": 58,
   "id": "documented-career",
   "metadata": {},
   "outputs": [
    {
     "name": "stdout",
     "output_type": "stream",
     "text": [
      "Save 55 feature keys of size 16 each.\n"
     ]
    }
   ],
   "source": [
    "print(f'Save {len(saved_img_paths):,} feature keys of size {img_keys[0].shape[0]} each.')"
   ]
  },
  {
   "cell_type": "code",
   "execution_count": 59,
   "id": "severe-cholesterol",
   "metadata": {},
   "outputs": [
    {
     "name": "stdout",
     "output_type": "stream",
     "text": [
      "\tSave img paths to  /Users/staveshemesh/Projects/shstav2/token_voken/data/sample/20210416_212032/keys/oliver.path\n"
     ]
    }
   ],
   "source": [
    "# Save Image Paths\n",
    "curr_paths_fname = os.path.join(keys_output_dir, img_set + '.path')\n",
    "print(\"\\tSave img paths to \", curr_paths_fname)\n",
    "with open(curr_paths_fname, 'w') as f:\n",
    "    for path in img_paths:\n",
    "        f.write(path + \"\\n\")"
   ]
  },
  {
   "cell_type": "code",
   "execution_count": 60,
   "id": "olympic-driving",
   "metadata": {},
   "outputs": [
    {
     "name": "stdout",
     "output_type": "stream",
     "text": [
      "\tSave img ids to  /Users/staveshemesh/Projects/shstav2/token_voken/data/sample/20210416_212032/keys/oliver.ids\n"
     ]
    }
   ],
   "source": [
    "# Save Within Set Image Ids\n",
    "curr_ids_fname = os.path.join(keys_output_dir, img_set + '.ids')\n",
    "local_img_ids = df_dataset['voken_id'].tolist()\n",
    "print(\"\\tSave img ids to \", curr_ids_fname)\n",
    "with open(curr_ids_fname, 'w') as f:\n",
    "    for idx in local_img_ids:\n",
    "        f.write(str(idx) + \"\\n\")"
   ]
  },
  {
   "cell_type": "markdown",
   "id": "amateur-basement",
   "metadata": {},
   "source": [
    "## Show Content"
   ]
  },
  {
   "cell_type": "code",
   "execution_count": 61,
   "id": "heavy-intermediate",
   "metadata": {},
   "outputs": [
    {
     "name": "stdout",
     "output_type": "stream",
     "text": [
      "\u001b[01;34m/Users/staveshemesh/Projects/shstav2/token_voken/data/sample/20210416_212032\u001b[00m\n",
      "├── \u001b[01;34mdataframes\u001b[00m\n",
      "│   ├── 20210416_212032_df_dataset_6185.csv\n",
      "│   ├── 20210416_212032_df_interval_text_64.csv\n",
      "│   └── 20210416_212032_df_token_voken_5618.csv\n",
      "├── \u001b[01;34mkeys\u001b[00m\n",
      "│   ├── oliver.hdf5\n",
      "│   ├── oliver.ids\n",
      "│   └── oliver.path\n",
      "├── oliver_5611.ids\n",
      "├── sample_token_ids_6185.hdf5\n",
      "└── sample_voken_ids_6185.hdf5\n",
      "\n",
      "2 directories, 9 files\n"
     ]
    }
   ],
   "source": [
    "!tree {OUTPUT_ITERATION_DIR}"
   ]
  },
  {
   "cell_type": "markdown",
   "id": "attended-anatomy",
   "metadata": {},
   "source": [
    "List of **unique** voken ids"
   ]
  },
  {
   "cell_type": "markdown",
   "id": "loaded-cattle",
   "metadata": {},
   "source": [
    "### Vokens"
   ]
  },
  {
   "cell_type": "code",
   "execution_count": 62,
   "id": "loved-trailer",
   "metadata": {},
   "outputs": [
    {
     "name": "stdout",
     "output_type": "stream",
     "text": [
      "/Users/staveshemesh/Projects/shstav2/token_voken/data/sample/20210416_212032/keys/oliver.ids\n",
      "1\n",
      "2\n",
      "3\n",
      "4\n",
      "5\n",
      "5608\n",
      "5609\n",
      "5610\n",
      "5610\n",
      "5611\n"
     ]
    }
   ],
   "source": [
    "! echo {curr_ids_fname}\n",
    "! (head -5 && tail -n5) < {curr_ids_fname}"
   ]
  },
  {
   "cell_type": "code",
   "execution_count": 63,
   "id": "living-retreat",
   "metadata": {},
   "outputs": [
    {
     "name": "stdout",
     "output_type": "stream",
     "text": [
      "cat: /Users/staveshemesh/Projects/shstav2/token_voken/data/sample/20210416_212032/keys/pats.path: No such file or directory\n"
     ]
    }
   ],
   "source": [
    "!cat {OUTPUT_ITERATION_DIR}/keys/pats.path | head -n 5"
   ]
  },
  {
   "cell_type": "code",
   "execution_count": null,
   "id": "dirty-borough",
   "metadata": {},
   "outputs": [],
   "source": []
  },
  {
   "cell_type": "code",
   "execution_count": null,
   "id": "laden-relevance",
   "metadata": {},
   "outputs": [],
   "source": []
  }
 ],
 "metadata": {
  "kernelspec": {
   "display_name": "Python 3",
   "language": "python",
   "name": "python3"
  },
  "language_info": {
   "codemirror_mode": {
    "name": "ipython",
    "version": 3
   },
   "file_extension": ".py",
   "mimetype": "text/x-python",
   "name": "python",
   "nbconvert_exporter": "python",
   "pygments_lexer": "ipython3",
   "version": "3.9.5"
  },
  "toc-autonumbering": false,
  "toc-showcode": false,
  "toc-showmarkdowntxt": false
 },
 "nbformat": 4,
 "nbformat_minor": 5
}
