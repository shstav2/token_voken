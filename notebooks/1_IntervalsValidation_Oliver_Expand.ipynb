{
 "cells": [
  {
   "cell_type": "markdown",
   "metadata": {},
   "source": [
    "# Imports"
   ]
  },
  {
   "cell_type": "code",
   "execution_count": 1,
   "metadata": {},
   "outputs": [
    {
     "data": {
      "text/plain": [
       "'/home/stav/.local/share/virtualenvs/vokenization-XaO4r3tO/bin/python'"
      ]
     },
     "execution_count": 1,
     "metadata": {},
     "output_type": "execute_result"
    }
   ],
   "source": [
    "import sys\n",
    "sys.executable"
   ]
  },
  {
   "cell_type": "code",
   "execution_count": 2,
   "metadata": {},
   "outputs": [
    {
     "data": {
      "text/plain": [
       "'/home/stav/.local/share/virtualenvs/vokenization-XaO4r3tO/bin/python'"
      ]
     },
     "execution_count": 2,
     "metadata": {},
     "output_type": "execute_result"
    }
   ],
   "source": [
    "import sys\n",
    "sys.executable"
   ]
  },
  {
   "cell_type": "code",
   "execution_count": 3,
   "metadata": {},
   "outputs": [],
   "source": [
    "import os\n",
    "import sys"
   ]
  },
  {
   "cell_type": "code",
   "execution_count": 4,
   "metadata": {
    "ExecuteTime": {
     "end_time": "2021-01-17T10:20:35.569777Z",
     "start_time": "2021-01-17T10:20:34.256242Z"
    },
    "jupyter": {
     "source_hidden": true
    }
   },
   "outputs": [],
   "source": [
    "import os\n",
    "import sys\n",
    "import h5py\n",
    "import time\n",
    "# import youtube_dl\n",
    "\n",
    "import numpy as np\n",
    "import pandas as pd\n",
    "\n",
    "import seaborn as sns\n",
    "from pprint import pprint\n",
    "import matplotlib.pyplot as plt\n",
    "# from ipywidgets import interact\n",
    "from IPython.display import YouTubeVideo, Markdown, display, Video, Image\n",
    "\n",
    "from tqdm.notebook import tqdm\n",
    "tqdm.pandas()"
   ]
  },
  {
   "cell_type": "code",
   "execution_count": 5,
   "metadata": {},
   "outputs": [],
   "source": [
    "sys.path.append('/Users/staveshemesh/Projects/shstav2/token_voken/src')\n",
    "sys.path.append('/Users/staveshemesh/Projects/shstav2/token_voken')\n",
    "sys.path.append('/home/stav/Projects/token_voken')"
   ]
  },
  {
   "cell_type": "code",
   "execution_count": 6,
   "metadata": {},
   "outputs": [],
   "source": [
    "from src.common.path_resolvers import resolve_interval_raw_text_path\n",
    "from src.common.display_utils import display_value_counts, printmd\n",
    "from src.common.constants import FRAME_RATE"
   ]
  },
  {
   "cell_type": "code",
   "execution_count": 7,
   "metadata": {
    "ExecuteTime": {
     "end_time": "2021-01-17T10:20:35.575362Z",
     "start_time": "2021-01-17T10:20:35.572207Z"
    },
    "jupyter": {
     "source_hidden": true
    }
   },
   "outputs": [],
   "source": [
    "pd.set_option('display.max_colwidth', 200)\n",
    "pd.options.display.float_format = '{:,.2f}'.format"
   ]
  },
  {
   "cell_type": "markdown",
   "metadata": {},
   "source": [
    "# Constants"
   ]
  },
  {
   "cell_type": "code",
   "execution_count": 8,
   "metadata": {},
   "outputs": [],
   "source": [
    "SPEAKER_NAME       = 'oliver'\n",
    "INTERVALS_ORG_PATH = '/home/stav/Data/PATS_DATA/DataFrames/original/cmu_intervals_df.csv'\n",
    "INTERVALS_PATH     = '/home/stav/Data/PATS_DATA/DataFrames/df_intervals_all.csv'\n",
    "VIDEOS_PATH        = '/home/stav/Data/PATS_DATA/DataFrames/df_videos_all.csv'\n",
    "INTERVALS_OLIVER_PATH = '/home/stav/Data/PATS_DATA/DataFrames/oliver/df_intervals_oliver_valid_text.csv'"
   ]
  },
  {
   "cell_type": "code",
   "execution_count": 9,
   "metadata": {},
   "outputs": [],
   "source": [
    "PATS_SPEAKER_PATS_INTERVAL_DIR = '/home/stav/Data/PATS_DATA/Videos/oliver'"
   ]
  },
  {
   "cell_type": "markdown",
   "metadata": {},
   "source": [
    "# DataFrames"
   ]
  },
  {
   "cell_type": "markdown",
   "metadata": {},
   "source": [
    "### df_intervals_org"
   ]
  },
  {
   "cell_type": "code",
   "execution_count": 10,
   "metadata": {},
   "outputs": [],
   "source": [
    "df_intervals_org = pd.read_csv(INTERVALS_ORG_PATH)"
   ]
  },
  {
   "cell_type": "code",
   "execution_count": 11,
   "metadata": {},
   "outputs": [
    {
     "data": {
      "text/plain": [
       "(84289, 8)"
      ]
     },
     "execution_count": 11,
     "metadata": {},
     "output_type": "execute_result"
    }
   ],
   "source": [
    "df_intervals_org.shape"
   ]
  },
  {
   "cell_type": "code",
   "execution_count": 12,
   "metadata": {},
   "outputs": [
    {
     "data": {
      "text/html": [
       "<div>\n",
       "<style scoped>\n",
       "    .dataframe tbody tr th:only-of-type {\n",
       "        vertical-align: middle;\n",
       "    }\n",
       "\n",
       "    .dataframe tbody tr th {\n",
       "        vertical-align: top;\n",
       "    }\n",
       "\n",
       "    .dataframe thead th {\n",
       "        text-align: right;\n",
       "    }\n",
       "</style>\n",
       "<table border=\"1\" class=\"dataframe\">\n",
       "  <thead>\n",
       "    <tr style=\"text-align: right;\">\n",
       "      <th></th>\n",
       "      <th>dataset</th>\n",
       "      <th>delta_time</th>\n",
       "      <th>end_time</th>\n",
       "      <th>interval_id</th>\n",
       "      <th>speaker</th>\n",
       "      <th>start_time</th>\n",
       "      <th>video_fn</th>\n",
       "      <th>video_link</th>\n",
       "    </tr>\n",
       "  </thead>\n",
       "  <tbody>\n",
       "    <tr>\n",
       "      <th>0</th>\n",
       "      <td>train</td>\n",
       "      <td>25.83</td>\n",
       "      <td>2019-06-07 00:13:07.420754</td>\n",
       "      <td>120149</td>\n",
       "      <td>almaram</td>\n",
       "      <td>2019-06-07 00:12:41.594928</td>\n",
       "      <td>Lessons_in_Fiqh_02-_How_to_do_wudu-iUGLu4BYH7s.mkv</td>\n",
       "      <td>http://www.youtube.com/watch?v=iUGLu4BYH7s</td>\n",
       "    </tr>\n",
       "    <tr>\n",
       "      <th>1</th>\n",
       "      <td>train</td>\n",
       "      <td>47.78</td>\n",
       "      <td>2019-06-07 00:20:24.357691</td>\n",
       "      <td>120150</td>\n",
       "      <td>almaram</td>\n",
       "      <td>2019-06-07 00:19:36.576577</td>\n",
       "      <td>Lessons_in_Fiqh_02-_How_to_do_wudu-iUGLu4BYH7s.mkv</td>\n",
       "      <td>http://www.youtube.com/watch?v=iUGLu4BYH7s</td>\n",
       "    </tr>\n",
       "    <tr>\n",
       "      <th>2</th>\n",
       "      <td>train</td>\n",
       "      <td>1.67</td>\n",
       "      <td>2019-06-07 00:08:39.252586</td>\n",
       "      <td>120312</td>\n",
       "      <td>almaram</td>\n",
       "      <td>2019-06-07 00:08:37.584251</td>\n",
       "      <td>Lessons_in_Fiqh_02-_How_to_do_wudu-iUGLu4BYH7s.mkv</td>\n",
       "      <td>http://www.youtube.com/watch?v=iUGLu4BYH7s</td>\n",
       "    </tr>\n",
       "    <tr>\n",
       "      <th>3</th>\n",
       "      <td>train</td>\n",
       "      <td>22.09</td>\n",
       "      <td>2019-06-07 00:09:02.409076</td>\n",
       "      <td>120315</td>\n",
       "      <td>almaram</td>\n",
       "      <td>2019-06-07 00:08:40.320320</td>\n",
       "      <td>Lessons_in_Fiqh_02-_How_to_do_wudu-iUGLu4BYH7s.mkv</td>\n",
       "      <td>http://www.youtube.com/watch?v=iUGLu4BYH7s</td>\n",
       "    </tr>\n",
       "    <tr>\n",
       "      <th>4</th>\n",
       "      <td>train</td>\n",
       "      <td>59.66</td>\n",
       "      <td>2019-06-07 00:24:26.266266</td>\n",
       "      <td>120472</td>\n",
       "      <td>almaram</td>\n",
       "      <td>2019-06-07 00:23:26.606607</td>\n",
       "      <td>Lessons_in_Fiqh_02-_How_to_do_wudu-iUGLu4BYH7s.mkv</td>\n",
       "      <td>http://www.youtube.com/watch?v=iUGLu4BYH7s</td>\n",
       "    </tr>\n",
       "  </tbody>\n",
       "</table>\n",
       "</div>"
      ],
      "text/plain": [
       "  dataset  delta_time                    end_time interval_id  speaker  \\\n",
       "0   train       25.83  2019-06-07 00:13:07.420754      120149  almaram   \n",
       "1   train       47.78  2019-06-07 00:20:24.357691      120150  almaram   \n",
       "2   train        1.67  2019-06-07 00:08:39.252586      120312  almaram   \n",
       "3   train       22.09  2019-06-07 00:09:02.409076      120315  almaram   \n",
       "4   train       59.66  2019-06-07 00:24:26.266266      120472  almaram   \n",
       "\n",
       "                   start_time  \\\n",
       "0  2019-06-07 00:12:41.594928   \n",
       "1  2019-06-07 00:19:36.576577   \n",
       "2  2019-06-07 00:08:37.584251   \n",
       "3  2019-06-07 00:08:40.320320   \n",
       "4  2019-06-07 00:23:26.606607   \n",
       "\n",
       "                                             video_fn  \\\n",
       "0  Lessons_in_Fiqh_02-_How_to_do_wudu-iUGLu4BYH7s.mkv   \n",
       "1  Lessons_in_Fiqh_02-_How_to_do_wudu-iUGLu4BYH7s.mkv   \n",
       "2  Lessons_in_Fiqh_02-_How_to_do_wudu-iUGLu4BYH7s.mkv   \n",
       "3  Lessons_in_Fiqh_02-_How_to_do_wudu-iUGLu4BYH7s.mkv   \n",
       "4  Lessons_in_Fiqh_02-_How_to_do_wudu-iUGLu4BYH7s.mkv   \n",
       "\n",
       "                                   video_link  \n",
       "0  http://www.youtube.com/watch?v=iUGLu4BYH7s  \n",
       "1  http://www.youtube.com/watch?v=iUGLu4BYH7s  \n",
       "2  http://www.youtube.com/watch?v=iUGLu4BYH7s  \n",
       "3  http://www.youtube.com/watch?v=iUGLu4BYH7s  \n",
       "4  http://www.youtube.com/watch?v=iUGLu4BYH7s  "
      ]
     },
     "execution_count": 12,
     "metadata": {},
     "output_type": "execute_result"
    }
   ],
   "source": [
    "df_intervals_org.head()"
   ]
  },
  {
   "cell_type": "code",
   "execution_count": 13,
   "metadata": {},
   "outputs": [
    {
     "data": {
      "text/html": [
       "<div>\n",
       "<style scoped>\n",
       "    .dataframe tbody tr th:only-of-type {\n",
       "        vertical-align: middle;\n",
       "    }\n",
       "\n",
       "    .dataframe tbody tr th {\n",
       "        vertical-align: top;\n",
       "    }\n",
       "\n",
       "    .dataframe thead th {\n",
       "        text-align: right;\n",
       "    }\n",
       "</style>\n",
       "<table border=\"1\" class=\"dataframe\">\n",
       "  <thead>\n",
       "    <tr style=\"text-align: right;\">\n",
       "      <th></th>\n",
       "      <th>speaker</th>\n",
       "    </tr>\n",
       "  </thead>\n",
       "  <tbody>\n",
       "    <tr>\n",
       "      <th>angelica</th>\n",
       "      <td>19795</td>\n",
       "    </tr>\n",
       "    <tr>\n",
       "      <th>jon</th>\n",
       "      <td>8257</td>\n",
       "    </tr>\n",
       "    <tr>\n",
       "      <th>ellen</th>\n",
       "      <td>5605</td>\n",
       "    </tr>\n",
       "    <tr>\n",
       "      <th>colbert</th>\n",
       "      <td>4744</td>\n",
       "    </tr>\n",
       "    <tr>\n",
       "      <th>seth</th>\n",
       "      <td>4636</td>\n",
       "    </tr>\n",
       "    <tr>\n",
       "      <th>oliver</th>\n",
       "      <td>4629</td>\n",
       "    </tr>\n",
       "    <tr>\n",
       "      <th>corden</th>\n",
       "      <td>4408</td>\n",
       "    </tr>\n",
       "    <tr>\n",
       "      <th>noah</th>\n",
       "      <td>4367</td>\n",
       "    </tr>\n",
       "    <tr>\n",
       "      <th>conan</th>\n",
       "      <td>4266</td>\n",
       "    </tr>\n",
       "    <tr>\n",
       "      <th>chemistry</th>\n",
       "      <td>4083</td>\n",
       "    </tr>\n",
       "    <tr>\n",
       "      <th>rock</th>\n",
       "      <td>3794</td>\n",
       "    </tr>\n",
       "    <tr>\n",
       "      <th>shelly</th>\n",
       "      <td>3582</td>\n",
       "    </tr>\n",
       "    <tr>\n",
       "      <th>fallon</th>\n",
       "      <td>2107</td>\n",
       "    </tr>\n",
       "    <tr>\n",
       "      <th>ferguson</th>\n",
       "      <td>1604</td>\n",
       "    </tr>\n",
       "    <tr>\n",
       "      <th>maher</th>\n",
       "      <td>1291</td>\n",
       "    </tr>\n",
       "  </tbody>\n",
       "</table>\n",
       "</div>"
      ],
      "text/plain": [
       "           speaker\n",
       "angelica     19795\n",
       "jon           8257\n",
       "ellen         5605\n",
       "colbert       4744\n",
       "seth          4636\n",
       "oliver        4629\n",
       "corden        4408\n",
       "noah          4367\n",
       "conan         4266\n",
       "chemistry     4083\n",
       "rock          3794\n",
       "shelly        3582\n",
       "fallon        2107\n",
       "ferguson      1604\n",
       "maher         1291"
      ]
     },
     "execution_count": 13,
     "metadata": {},
     "output_type": "execute_result"
    }
   ],
   "source": [
    "df_intervals_org['speaker'].value_counts().to_frame().head(n=15)"
   ]
  },
  {
   "cell_type": "code",
   "execution_count": 14,
   "metadata": {
    "jupyter": {
     "source_hidden": true
    }
   },
   "outputs": [],
   "source": [
    "df_intervals = pd.read_csv(INTERVALS_OLIVER_PATH)\n",
    "df_intervals['interval_id'] = df_intervals['interval_id'].astype(str)\n",
    "df_intervals.rename(columns={'delta_time': 'duration'}, inplace=True)"
   ]
  },
  {
   "cell_type": "code",
   "execution_count": 15,
   "metadata": {},
   "outputs": [
    {
     "data": {
      "text/plain": [
       "(4629, 20)"
      ]
     },
     "execution_count": 15,
     "metadata": {},
     "output_type": "execute_result"
    }
   ],
   "source": [
    "df_intervals.shape"
   ]
  },
  {
   "cell_type": "code",
   "execution_count": 16,
   "metadata": {},
   "outputs": [
    {
     "data": {
      "text/html": [
       "<div>\n",
       "<style scoped>\n",
       "    .dataframe tbody tr th:only-of-type {\n",
       "        vertical-align: middle;\n",
       "    }\n",
       "\n",
       "    .dataframe tbody tr th {\n",
       "        vertical-align: top;\n",
       "    }\n",
       "\n",
       "    .dataframe thead th {\n",
       "        text-align: right;\n",
       "    }\n",
       "</style>\n",
       "<table border=\"1\" class=\"dataframe\">\n",
       "  <thead>\n",
       "    <tr style=\"text-align: right;\">\n",
       "      <th></th>\n",
       "      <th>Unnamed: 0</th>\n",
       "      <th>dataset</th>\n",
       "      <th>duration</th>\n",
       "      <th>end_time</th>\n",
       "      <th>interval_id</th>\n",
       "      <th>speaker</th>\n",
       "      <th>start_time</th>\n",
       "      <th>video_fn</th>\n",
       "      <th>video_link</th>\n",
       "      <th>org_start_time</th>\n",
       "      <th>org_end_time</th>\n",
       "      <th>start_time_string</th>\n",
       "      <th>end_time_string</th>\n",
       "      <th>video_id</th>\n",
       "      <th>max_frames_token</th>\n",
       "      <th>valid</th>\n",
       "      <th>valid_max_frames_per_token</th>\n",
       "      <th>valid_duration</th>\n",
       "      <th>valid_single_token_per_frame</th>\n",
       "      <th>video_downloded</th>\n",
       "    </tr>\n",
       "  </thead>\n",
       "  <tbody>\n",
       "    <tr>\n",
       "      <th>0</th>\n",
       "      <td>43180</td>\n",
       "      <td>dev</td>\n",
       "      <td>12.21</td>\n",
       "      <td>0 days 00:01:10.830000</td>\n",
       "      <td>214428</td>\n",
       "      <td>oliver</td>\n",
       "      <td>0 days 00:00:58.620000</td>\n",
       "      <td>Abortion_Laws_-_Last_Week_Tonight_with_John_Oliver_HBO-DRauXXz6t0Y.webm</td>\n",
       "      <td>http://www.youtube.com/watch?v=DRauXXz6t0Y</td>\n",
       "      <td>0 days 00:00:58.620000</td>\n",
       "      <td>0 days 00:01:10.830000</td>\n",
       "      <td>00:00:58.62</td>\n",
       "      <td>00:01:10.83</td>\n",
       "      <td>DRauXXz6t0Y</td>\n",
       "      <td>88</td>\n",
       "      <td>True</td>\n",
       "      <td>False</td>\n",
       "      <td>False</td>\n",
       "      <td>True</td>\n",
       "      <td>False</td>\n",
       "    </tr>\n",
       "    <tr>\n",
       "      <th>1</th>\n",
       "      <td>43181</td>\n",
       "      <td>dev</td>\n",
       "      <td>6.14</td>\n",
       "      <td>0 days 00:01:17.110000</td>\n",
       "      <td>214429</td>\n",
       "      <td>oliver</td>\n",
       "      <td>0 days 00:01:10.970000</td>\n",
       "      <td>Abortion_Laws_-_Last_Week_Tonight_with_John_Oliver_HBO-DRauXXz6t0Y.webm</td>\n",
       "      <td>http://www.youtube.com/watch?v=DRauXXz6t0Y</td>\n",
       "      <td>0 days 00:01:10.970000</td>\n",
       "      <td>0 days 00:01:17.110000</td>\n",
       "      <td>00:01:10.97</td>\n",
       "      <td>00:01:17.11</td>\n",
       "      <td>DRauXXz6t0Y</td>\n",
       "      <td>31</td>\n",
       "      <td>True</td>\n",
       "      <td>True</td>\n",
       "      <td>False</td>\n",
       "      <td>True</td>\n",
       "      <td>False</td>\n",
       "    </tr>\n",
       "    <tr>\n",
       "      <th>2</th>\n",
       "      <td>43182</td>\n",
       "      <td>dev</td>\n",
       "      <td>102.44</td>\n",
       "      <td>0 days 00:02:59.670000</td>\n",
       "      <td>214430</td>\n",
       "      <td>oliver</td>\n",
       "      <td>0 days 00:01:17.240000</td>\n",
       "      <td>Abortion_Laws_-_Last_Week_Tonight_with_John_Oliver_HBO-DRauXXz6t0Y.webm</td>\n",
       "      <td>http://www.youtube.com/watch?v=DRauXXz6t0Y</td>\n",
       "      <td>0 days 00:01:17.240000</td>\n",
       "      <td>0 days 00:02:59.670000</td>\n",
       "      <td>00:01:17.24</td>\n",
       "      <td>00:02:59.67</td>\n",
       "      <td>DRauXXz6t0Y</td>\n",
       "      <td>75</td>\n",
       "      <td>True</td>\n",
       "      <td>False</td>\n",
       "      <td>True</td>\n",
       "      <td>False</td>\n",
       "      <td>False</td>\n",
       "    </tr>\n",
       "    <tr>\n",
       "      <th>3</th>\n",
       "      <td>43183</td>\n",
       "      <td>dev</td>\n",
       "      <td>6.87</td>\n",
       "      <td>0 days 00:03:06.750000</td>\n",
       "      <td>214431</td>\n",
       "      <td>oliver</td>\n",
       "      <td>0 days 00:02:59.870000</td>\n",
       "      <td>Abortion_Laws_-_Last_Week_Tonight_with_John_Oliver_HBO-DRauXXz6t0Y.webm</td>\n",
       "      <td>http://www.youtube.com/watch?v=DRauXXz6t0Y</td>\n",
       "      <td>0 days 00:02:59.870000</td>\n",
       "      <td>0 days 00:03:06.750000</td>\n",
       "      <td>00:02:59.87</td>\n",
       "      <td>00:03:06.75</td>\n",
       "      <td>DRauXXz6t0Y</td>\n",
       "      <td>25</td>\n",
       "      <td>True</td>\n",
       "      <td>True</td>\n",
       "      <td>False</td>\n",
       "      <td>True</td>\n",
       "      <td>False</td>\n",
       "    </tr>\n",
       "    <tr>\n",
       "      <th>4</th>\n",
       "      <td>43184</td>\n",
       "      <td>dev</td>\n",
       "      <td>16.15</td>\n",
       "      <td>0 days 00:06:07</td>\n",
       "      <td>214433</td>\n",
       "      <td>oliver</td>\n",
       "      <td>0 days 00:05:50.850000</td>\n",
       "      <td>Abortion_Laws_-_Last_Week_Tonight_with_John_Oliver_HBO-DRauXXz6t0Y.webm</td>\n",
       "      <td>http://www.youtube.com/watch?v=DRauXXz6t0Y</td>\n",
       "      <td>0 days 00:05:50.850000</td>\n",
       "      <td>0 days 00:06:07</td>\n",
       "      <td>00:05:50.85</td>\n",
       "      <td>00:06:07.0</td>\n",
       "      <td>DRauXXz6t0Y</td>\n",
       "      <td>92</td>\n",
       "      <td>True</td>\n",
       "      <td>False</td>\n",
       "      <td>False</td>\n",
       "      <td>True</td>\n",
       "      <td>False</td>\n",
       "    </tr>\n",
       "  </tbody>\n",
       "</table>\n",
       "</div>"
      ],
      "text/plain": [
       "   Unnamed: 0 dataset  duration                end_time interval_id speaker  \\\n",
       "0       43180     dev     12.21  0 days 00:01:10.830000      214428  oliver   \n",
       "1       43181     dev      6.14  0 days 00:01:17.110000      214429  oliver   \n",
       "2       43182     dev    102.44  0 days 00:02:59.670000      214430  oliver   \n",
       "3       43183     dev      6.87  0 days 00:03:06.750000      214431  oliver   \n",
       "4       43184     dev     16.15         0 days 00:06:07      214433  oliver   \n",
       "\n",
       "               start_time  \\\n",
       "0  0 days 00:00:58.620000   \n",
       "1  0 days 00:01:10.970000   \n",
       "2  0 days 00:01:17.240000   \n",
       "3  0 days 00:02:59.870000   \n",
       "4  0 days 00:05:50.850000   \n",
       "\n",
       "                                                                  video_fn  \\\n",
       "0  Abortion_Laws_-_Last_Week_Tonight_with_John_Oliver_HBO-DRauXXz6t0Y.webm   \n",
       "1  Abortion_Laws_-_Last_Week_Tonight_with_John_Oliver_HBO-DRauXXz6t0Y.webm   \n",
       "2  Abortion_Laws_-_Last_Week_Tonight_with_John_Oliver_HBO-DRauXXz6t0Y.webm   \n",
       "3  Abortion_Laws_-_Last_Week_Tonight_with_John_Oliver_HBO-DRauXXz6t0Y.webm   \n",
       "4  Abortion_Laws_-_Last_Week_Tonight_with_John_Oliver_HBO-DRauXXz6t0Y.webm   \n",
       "\n",
       "                                   video_link          org_start_time  \\\n",
       "0  http://www.youtube.com/watch?v=DRauXXz6t0Y  0 days 00:00:58.620000   \n",
       "1  http://www.youtube.com/watch?v=DRauXXz6t0Y  0 days 00:01:10.970000   \n",
       "2  http://www.youtube.com/watch?v=DRauXXz6t0Y  0 days 00:01:17.240000   \n",
       "3  http://www.youtube.com/watch?v=DRauXXz6t0Y  0 days 00:02:59.870000   \n",
       "4  http://www.youtube.com/watch?v=DRauXXz6t0Y  0 days 00:05:50.850000   \n",
       "\n",
       "             org_end_time start_time_string end_time_string     video_id  \\\n",
       "0  0 days 00:01:10.830000       00:00:58.62     00:01:10.83  DRauXXz6t0Y   \n",
       "1  0 days 00:01:17.110000       00:01:10.97     00:01:17.11  DRauXXz6t0Y   \n",
       "2  0 days 00:02:59.670000       00:01:17.24     00:02:59.67  DRauXXz6t0Y   \n",
       "3  0 days 00:03:06.750000       00:02:59.87     00:03:06.75  DRauXXz6t0Y   \n",
       "4         0 days 00:06:07       00:05:50.85      00:06:07.0  DRauXXz6t0Y   \n",
       "\n",
       "   max_frames_token  valid  valid_max_frames_per_token  valid_duration  \\\n",
       "0                88   True                       False           False   \n",
       "1                31   True                        True           False   \n",
       "2                75   True                       False            True   \n",
       "3                25   True                        True           False   \n",
       "4                92   True                       False           False   \n",
       "\n",
       "   valid_single_token_per_frame  video_downloded  \n",
       "0                          True            False  \n",
       "1                          True            False  \n",
       "2                         False            False  \n",
       "3                          True            False  \n",
       "4                          True            False  "
      ]
     },
     "execution_count": 16,
     "metadata": {},
     "output_type": "execute_result"
    }
   ],
   "source": [
    "df_intervals.head()"
   ]
  },
  {
   "cell_type": "code",
   "execution_count": 17,
   "metadata": {},
   "outputs": [
    {
     "data": {
      "text/plain": [
       "Index(['Unnamed: 0', 'dataset', 'duration', 'end_time', 'interval_id',\n",
       "       'speaker', 'start_time', 'video_fn', 'video_link', 'org_start_time',\n",
       "       'org_end_time', 'start_time_string', 'end_time_string', 'video_id',\n",
       "       'max_frames_token', 'valid', 'valid_max_frames_per_token',\n",
       "       'valid_duration', 'valid_single_token_per_frame', 'video_downloded'],\n",
       "      dtype='object')"
      ]
     },
     "execution_count": 17,
     "metadata": {},
     "output_type": "execute_result"
    }
   ],
   "source": [
    "df_intervals.columns"
   ]
  },
  {
   "cell_type": "code",
   "execution_count": 18,
   "metadata": {},
   "outputs": [
    {
     "data": {
      "text/plain": [
       "(4629, 20)"
      ]
     },
     "execution_count": 18,
     "metadata": {},
     "output_type": "execute_result"
    }
   ],
   "source": [
    "df_intervals.shape"
   ]
  },
  {
   "cell_type": "code",
   "execution_count": 19,
   "metadata": {
    "jupyter": {
     "source_hidden": true
    }
   },
   "outputs": [],
   "source": [
    "LIST_BULLET = '  ◘ '\n",
    "TAB = '&nbsp;&nbsp;&nbsp;&nbsp;'\n",
    "VIDEO_ID_LEN = 11"
   ]
  },
  {
   "cell_type": "code",
   "execution_count": 20,
   "metadata": {
    "jupyter": {
     "source_hidden": true
    }
   },
   "outputs": [
    {
     "name": "stdout",
     "output_type": "stream",
     "text": [
      "/home/stav/Data/PATS_DATA/Videos/oliver\n",
      "   Total Intervals: 130\n"
     ]
    }
   ],
   "source": [
    "! echo {PATS_SPEAKER_PATS_INTERVAL_DIR}\n",
    "print('   Total Intervals:', end=' ')\n",
    "! ls -al {PATS_SPEAKER_PATS_INTERVAL_DIR} | wc -l"
   ]
  },
  {
   "cell_type": "code",
   "execution_count": 21,
   "metadata": {},
   "outputs": [],
   "source": [
    "COL_VALID_HD5 = 'valid_hd5'"
   ]
  },
  {
   "cell_type": "code",
   "execution_count": 22,
   "metadata": {
    "jupyter": {
     "source_hidden": true
    }
   },
   "outputs": [],
   "source": [
    "COLS_VALIDITY = [\n",
    "    'valid',\n",
    "    'valid_max_frames_per_token',\n",
    "    'valid_duration',\n",
    "    'valid_single_token_per_frame'\n",
    "]\n",
    "COLS_VIEW = [\n",
    "    'speaker', 'interval_id',\n",
    "    'duration', 'start_time_string', 'end_time_string',\n",
    "    'video_link'\n",
    "]\n",
    "COLS_VIDEOS = [\n",
    "    'video_link',\n",
    "    'data_ratio', 'duration_net', 'duration_total',\n",
    "    'num_intervals'\n",
    "]"
   ]
  },
  {
   "cell_type": "markdown",
   "metadata": {},
   "source": [
    "## df_intervals"
   ]
  },
  {
   "cell_type": "code",
   "execution_count": 23,
   "metadata": {
    "ExecuteTime": {
     "end_time": "2021-01-17T10:20:36.300683Z",
     "start_time": "2021-01-17T10:20:36.280070Z"
    },
    "jupyter": {
     "source_hidden": true
    }
   },
   "outputs": [
    {
     "data": {
      "text/html": [
       "<div>\n",
       "<style scoped>\n",
       "    .dataframe tbody tr th:only-of-type {\n",
       "        vertical-align: middle;\n",
       "    }\n",
       "\n",
       "    .dataframe tbody tr th {\n",
       "        vertical-align: top;\n",
       "    }\n",
       "\n",
       "    .dataframe thead th {\n",
       "        text-align: right;\n",
       "    }\n",
       "</style>\n",
       "<table border=\"1\" class=\"dataframe\">\n",
       "  <thead>\n",
       "    <tr style=\"text-align: right;\">\n",
       "      <th></th>\n",
       "      <th>speaker</th>\n",
       "      <th>interval_id</th>\n",
       "      <th>duration</th>\n",
       "      <th>start_time_string</th>\n",
       "      <th>end_time_string</th>\n",
       "      <th>video_link</th>\n",
       "    </tr>\n",
       "  </thead>\n",
       "  <tbody>\n",
       "    <tr>\n",
       "      <th>2738</th>\n",
       "      <td>oliver</td>\n",
       "      <td>102260</td>\n",
       "      <td>21.80</td>\n",
       "      <td>00:20:24.36</td>\n",
       "      <td>00:20:46.16</td>\n",
       "      <td>http://www.youtube.com/watch?v=5scez5dqtAc</td>\n",
       "    </tr>\n",
       "    <tr>\n",
       "      <th>587</th>\n",
       "      <td>oliver</td>\n",
       "      <td>216657</td>\n",
       "      <td>34.77</td>\n",
       "      <td>00:09:53.52</td>\n",
       "      <td>00:10:28.29</td>\n",
       "      <td>http://www.youtube.com/watch?v=RKjk0ECXjiQ</td>\n",
       "    </tr>\n",
       "    <tr>\n",
       "      <th>2835</th>\n",
       "      <td>oliver</td>\n",
       "      <td>105979</td>\n",
       "      <td>3.67</td>\n",
       "      <td>00:03:43.99</td>\n",
       "      <td>00:03:47.66</td>\n",
       "      <td>http://www.youtube.com/watch?v=3bxcc3SM_KA</td>\n",
       "    </tr>\n",
       "  </tbody>\n",
       "</table>\n",
       "</div>"
      ],
      "text/plain": [
       "     speaker interval_id  duration start_time_string end_time_string  \\\n",
       "2738  oliver      102260     21.80       00:20:24.36     00:20:46.16   \n",
       "587   oliver      216657     34.77       00:09:53.52     00:10:28.29   \n",
       "2835  oliver      105979      3.67       00:03:43.99     00:03:47.66   \n",
       "\n",
       "                                      video_link  \n",
       "2738  http://www.youtube.com/watch?v=5scez5dqtAc  \n",
       "587   http://www.youtube.com/watch?v=RKjk0ECXjiQ  \n",
       "2835  http://www.youtube.com/watch?v=3bxcc3SM_KA  "
      ]
     },
     "execution_count": 23,
     "metadata": {},
     "output_type": "execute_result"
    }
   ],
   "source": [
    "df_intervals.sample(n=3)[COLS_VIEW]"
   ]
  },
  {
   "cell_type": "code",
   "execution_count": 24,
   "metadata": {},
   "outputs": [
    {
     "data": {
      "text/html": [
       "<div>\n",
       "<style scoped>\n",
       "    .dataframe tbody tr th:only-of-type {\n",
       "        vertical-align: middle;\n",
       "    }\n",
       "\n",
       "    .dataframe tbody tr th {\n",
       "        vertical-align: top;\n",
       "    }\n",
       "\n",
       "    .dataframe thead th {\n",
       "        text-align: right;\n",
       "    }\n",
       "</style>\n",
       "<table border=\"1\" class=\"dataframe\">\n",
       "  <thead>\n",
       "    <tr style=\"text-align: right;\">\n",
       "      <th></th>\n",
       "      <th>speaker</th>\n",
       "    </tr>\n",
       "  </thead>\n",
       "  <tbody>\n",
       "    <tr>\n",
       "      <th>oliver</th>\n",
       "      <td>4629</td>\n",
       "    </tr>\n",
       "  </tbody>\n",
       "</table>\n",
       "</div>"
      ],
      "text/plain": [
       "        speaker\n",
       "oliver     4629"
      ]
     },
     "execution_count": 24,
     "metadata": {},
     "output_type": "execute_result"
    }
   ],
   "source": [
    "df_intervals['speaker'].value_counts().to_frame()"
   ]
  },
  {
   "cell_type": "code",
   "execution_count": 25,
   "metadata": {
    "jupyter": {
     "source_hidden": true
    }
   },
   "outputs": [],
   "source": [
    "def print_df_info(df):\n",
    "    print(f'{LIST_BULLET}Videos: #{df[\"video_link\"].nunique():,}')\n",
    "    print(f'{LIST_BULLET}Intervals: #{df[\"interval_id\"].nunique():,}')\n",
    "    total_duration = df[\"duration\"].sum()\n",
    "    total_duration_string = time.strftime('%H hours, %M minutues, %S seconds', time.gmtime(total_duration))\n",
    "    print(f'{LIST_BULLET}Total Duration: {total_duration_string} ({int(total_duration):,} seconds)')\n",
    "    all_youtube = df_intervals['video_link'].str.contains('youtube').all()\n",
    "    print(f'{LIST_BULLET}All are Youtube videos: {all_youtube}')"
   ]
  },
  {
   "cell_type": "code",
   "execution_count": 26,
   "metadata": {},
   "outputs": [
    {
     "data": {
      "text/markdown": [
       "Speaker **oliver**:"
      ],
      "text/plain": [
       "<IPython.core.display.Markdown object>"
      ]
     },
     "metadata": {},
     "output_type": "display_data"
    },
    {
     "name": "stdout",
     "output_type": "stream",
     "text": [
      "  ◘ Videos: #124\n",
      "  ◘ Intervals: #4,629\n",
      "  ◘ Total Duration: 18 hours, 15 minutues, 23 seconds (65,723 seconds)\n",
      "  ◘ All are Youtube videos: True\n"
     ]
    }
   ],
   "source": [
    "printmd(f'Speaker **{SPEAKER_NAME}**:')\n",
    "print_df_info(df_intervals)"
   ]
  },
  {
   "cell_type": "markdown",
   "metadata": {},
   "source": [
    "## df_videos"
   ]
  },
  {
   "cell_type": "markdown",
   "metadata": {},
   "source": [
    "### Duration: Net and Total"
   ]
  },
  {
   "cell_type": "code",
   "execution_count": 27,
   "metadata": {},
   "outputs": [],
   "source": [
    "df_videos_all = pd.read_csv(VIDEOS_PATH)"
   ]
  },
  {
   "cell_type": "code",
   "execution_count": 28,
   "metadata": {},
   "outputs": [
    {
     "data": {
      "text/html": [
       "<div>\n",
       "<style scoped>\n",
       "    .dataframe tbody tr th:only-of-type {\n",
       "        vertical-align: middle;\n",
       "    }\n",
       "\n",
       "    .dataframe tbody tr th {\n",
       "        vertical-align: top;\n",
       "    }\n",
       "\n",
       "    .dataframe thead th {\n",
       "        text-align: right;\n",
       "    }\n",
       "</style>\n",
       "<table border=\"1\" class=\"dataframe\">\n",
       "  <thead>\n",
       "    <tr style=\"text-align: right;\">\n",
       "      <th></th>\n",
       "      <th>Unnamed: 0</th>\n",
       "      <th>speaker</th>\n",
       "      <th>actual_duration</th>\n",
       "      <th>video_id</th>\n",
       "      <th>video_link</th>\n",
       "      <th>duration_secs</th>\n",
       "    </tr>\n",
       "  </thead>\n",
       "  <tbody>\n",
       "    <tr>\n",
       "      <th>4009</th>\n",
       "      <td>4009</td>\n",
       "      <td>noah</td>\n",
       "      <td>137.33</td>\n",
       "      <td>-V7QBRoxa4A</td>\n",
       "      <td>https://www.youtube.com/watch?v=-V7QBRoxa4A</td>\n",
       "      <td>366</td>\n",
       "    </tr>\n",
       "  </tbody>\n",
       "</table>\n",
       "</div>"
      ],
      "text/plain": [
       "      Unnamed: 0 speaker  actual_duration     video_id  \\\n",
       "4009        4009    noah           137.33  -V7QBRoxa4A   \n",
       "\n",
       "                                       video_link  duration_secs  \n",
       "4009  https://www.youtube.com/watch?v=-V7QBRoxa4A            366  "
      ]
     },
     "execution_count": 28,
     "metadata": {},
     "output_type": "execute_result"
    }
   ],
   "source": [
    "df_videos_all[df_videos_all['video_link'] == 'https://www.youtube.com/watch?v=-V7QBRoxa4A']"
   ]
  },
  {
   "cell_type": "code",
   "execution_count": 29,
   "metadata": {},
   "outputs": [],
   "source": [
    "df_videos = df_videos_all[df_videos_all['speaker'] == SPEAKER_NAME].copy()"
   ]
  },
  {
   "cell_type": "code",
   "execution_count": 30,
   "metadata": {},
   "outputs": [
    {
     "data": {
      "text/plain": [
       "Index(['Unnamed: 0', 'speaker', 'actual_duration', 'video_id', 'video_link',\n",
       "       'duration_secs'],\n",
       "      dtype='object')"
      ]
     },
     "execution_count": 30,
     "metadata": {},
     "output_type": "execute_result"
    }
   ],
   "source": [
    "df_videos.columns"
   ]
  },
  {
   "cell_type": "code",
   "execution_count": 31,
   "metadata": {},
   "outputs": [],
   "source": [
    "df_videos.rename(\n",
    "    columns={'actual_duration': 'duration_net', 'duration_secs': 'duration_total'},\n",
    "    inplace=True)"
   ]
  },
  {
   "cell_type": "code",
   "execution_count": 32,
   "metadata": {},
   "outputs": [],
   "source": [
    "df_videos.drop('Unnamed: 0', axis=1, inplace=True)"
   ]
  },
  {
   "cell_type": "code",
   "execution_count": 33,
   "metadata": {},
   "outputs": [
    {
     "data": {
      "text/html": [
       "<div>\n",
       "<style scoped>\n",
       "    .dataframe tbody tr th:only-of-type {\n",
       "        vertical-align: middle;\n",
       "    }\n",
       "\n",
       "    .dataframe tbody tr th {\n",
       "        vertical-align: top;\n",
       "    }\n",
       "\n",
       "    .dataframe thead th {\n",
       "        text-align: right;\n",
       "    }\n",
       "</style>\n",
       "<table border=\"1\" class=\"dataframe\">\n",
       "  <thead>\n",
       "    <tr style=\"text-align: right;\">\n",
       "      <th></th>\n",
       "      <th>speaker</th>\n",
       "      <th>duration_net</th>\n",
       "      <th>video_id</th>\n",
       "      <th>video_link</th>\n",
       "      <th>duration_total</th>\n",
       "    </tr>\n",
       "  </thead>\n",
       "  <tbody>\n",
       "    <tr>\n",
       "      <th>4677</th>\n",
       "      <td>oliver</td>\n",
       "      <td>711.64</td>\n",
       "      <td>0Rnq1NpHdmw</td>\n",
       "      <td>http://www.youtube.com/watch?v=0Rnq1NpHdmw</td>\n",
       "      <td>1167</td>\n",
       "    </tr>\n",
       "    <tr>\n",
       "      <th>4678</th>\n",
       "      <td>oliver</td>\n",
       "      <td>104.77</td>\n",
       "      <td>2sWRXr2Yu9g</td>\n",
       "      <td>http://www.youtube.com/watch?v=2sWRXr2Yu9g</td>\n",
       "      <td>238</td>\n",
       "    </tr>\n",
       "    <tr>\n",
       "      <th>4679</th>\n",
       "      <td>oliver</td>\n",
       "      <td>52.72</td>\n",
       "      <td>3FCioWz7aps</td>\n",
       "      <td>http://www.youtube.com/watch?v=3FCioWz7aps</td>\n",
       "      <td>190</td>\n",
       "    </tr>\n",
       "    <tr>\n",
       "      <th>4680</th>\n",
       "      <td>oliver</td>\n",
       "      <td>328.06</td>\n",
       "      <td>3bxcc3SM_KA</td>\n",
       "      <td>http://www.youtube.com/watch?v=3bxcc3SM_KA</td>\n",
       "      <td>663</td>\n",
       "    </tr>\n",
       "    <tr>\n",
       "      <th>4681</th>\n",
       "      <td>oliver</td>\n",
       "      <td>505.44</td>\n",
       "      <td>3kEpZWGgJks</td>\n",
       "      <td>http://www.youtube.com/watch?v=3kEpZWGgJks</td>\n",
       "      <td>989</td>\n",
       "    </tr>\n",
       "  </tbody>\n",
       "</table>\n",
       "</div>"
      ],
      "text/plain": [
       "     speaker  duration_net     video_id  \\\n",
       "4677  oliver        711.64  0Rnq1NpHdmw   \n",
       "4678  oliver        104.77  2sWRXr2Yu9g   \n",
       "4679  oliver         52.72  3FCioWz7aps   \n",
       "4680  oliver        328.06  3bxcc3SM_KA   \n",
       "4681  oliver        505.44  3kEpZWGgJks   \n",
       "\n",
       "                                      video_link  duration_total  \n",
       "4677  http://www.youtube.com/watch?v=0Rnq1NpHdmw            1167  \n",
       "4678  http://www.youtube.com/watch?v=2sWRXr2Yu9g             238  \n",
       "4679  http://www.youtube.com/watch?v=3FCioWz7aps             190  \n",
       "4680  http://www.youtube.com/watch?v=3bxcc3SM_KA             663  \n",
       "4681  http://www.youtube.com/watch?v=3kEpZWGgJks             989  "
      ]
     },
     "execution_count": 33,
     "metadata": {},
     "output_type": "execute_result"
    }
   ],
   "source": [
    "df_videos.head()"
   ]
  },
  {
   "cell_type": "code",
   "execution_count": 34,
   "metadata": {
    "jupyter": {
     "source_hidden": true
    }
   },
   "outputs": [
    {
     "data": {
      "text/html": [
       "<div>\n",
       "<style scoped>\n",
       "    .dataframe tbody tr th:only-of-type {\n",
       "        vertical-align: middle;\n",
       "    }\n",
       "\n",
       "    .dataframe tbody tr th {\n",
       "        vertical-align: top;\n",
       "    }\n",
       "\n",
       "    .dataframe thead th {\n",
       "        text-align: right;\n",
       "    }\n",
       "</style>\n",
       "<table border=\"1\" class=\"dataframe\">\n",
       "  <thead>\n",
       "    <tr style=\"text-align: right;\">\n",
       "      <th></th>\n",
       "      <th>speaker</th>\n",
       "      <th>duration_net</th>\n",
       "      <th>video_id</th>\n",
       "      <th>video_link</th>\n",
       "      <th>duration_total</th>\n",
       "      <th>data_ratio</th>\n",
       "    </tr>\n",
       "  </thead>\n",
       "  <tbody>\n",
       "    <tr>\n",
       "      <th>4769</th>\n",
       "      <td>oliver</td>\n",
       "      <td>142.94</td>\n",
       "      <td>rrawNvcF64g</td>\n",
       "      <td>http://www.youtube.com/watch?v=rrawNvcF64g</td>\n",
       "      <td>187</td>\n",
       "      <td>76.44</td>\n",
       "    </tr>\n",
       "    <tr>\n",
       "      <th>4703</th>\n",
       "      <td>oliver</td>\n",
       "      <td>988.52</td>\n",
       "      <td>DnpO_RTSNmQ</td>\n",
       "      <td>http://www.youtube.com/watch?v=DnpO_RTSNmQ</td>\n",
       "      <td>1313</td>\n",
       "      <td>75.29</td>\n",
       "    </tr>\n",
       "    <tr>\n",
       "      <th>4705</th>\n",
       "      <td>oliver</td>\n",
       "      <td>1,081.40</td>\n",
       "      <td>FVFdsl29s_Q</td>\n",
       "      <td>http://www.youtube.com/watch?v=FVFdsl29s_Q</td>\n",
       "      <td>1446</td>\n",
       "      <td>74.79</td>\n",
       "    </tr>\n",
       "    <tr>\n",
       "      <th>4737</th>\n",
       "      <td>oliver</td>\n",
       "      <td>644.11</td>\n",
       "      <td>_S2G8jhhUHg</td>\n",
       "      <td>http://www.youtube.com/watch?v=_S2G8jhhUHg</td>\n",
       "      <td>867</td>\n",
       "      <td>74.29</td>\n",
       "    </tr>\n",
       "    <tr>\n",
       "      <th>4687</th>\n",
       "      <td>oliver</td>\n",
       "      <td>653.59</td>\n",
       "      <td>5d667Bb_iYA</td>\n",
       "      <td>http://www.youtube.com/watch?v=5d667Bb_iYA</td>\n",
       "      <td>885</td>\n",
       "      <td>73.85</td>\n",
       "    </tr>\n",
       "  </tbody>\n",
       "</table>\n",
       "</div>"
      ],
      "text/plain": [
       "     speaker  duration_net     video_id  \\\n",
       "4769  oliver        142.94  rrawNvcF64g   \n",
       "4703  oliver        988.52  DnpO_RTSNmQ   \n",
       "4705  oliver      1,081.40  FVFdsl29s_Q   \n",
       "4737  oliver        644.11  _S2G8jhhUHg   \n",
       "4687  oliver        653.59  5d667Bb_iYA   \n",
       "\n",
       "                                      video_link  duration_total  data_ratio  \n",
       "4769  http://www.youtube.com/watch?v=rrawNvcF64g             187       76.44  \n",
       "4703  http://www.youtube.com/watch?v=DnpO_RTSNmQ            1313       75.29  \n",
       "4705  http://www.youtube.com/watch?v=FVFdsl29s_Q            1446       74.79  \n",
       "4737  http://www.youtube.com/watch?v=_S2G8jhhUHg             867       74.29  \n",
       "4687  http://www.youtube.com/watch?v=5d667Bb_iYA             885       73.85  "
      ]
     },
     "execution_count": 34,
     "metadata": {},
     "output_type": "execute_result"
    }
   ],
   "source": [
    "df_videos['data_ratio'] = df_videos['duration_net'] / df_videos['duration_total'] * 100\n",
    "df_videos.sort_values('data_ratio', ascending=False, inplace=True)\n",
    "# df_videos = df_videos[COLS_VIDEOS]\n",
    "df_videos.head()"
   ]
  },
  {
   "cell_type": "code",
   "execution_count": 35,
   "metadata": {
    "jupyter": {
     "source_hidden": true
    }
   },
   "outputs": [
    {
     "data": {
      "text/html": [
       "<div>\n",
       "<style scoped>\n",
       "    .dataframe tbody tr th:only-of-type {\n",
       "        vertical-align: middle;\n",
       "    }\n",
       "\n",
       "    .dataframe tbody tr th {\n",
       "        vertical-align: top;\n",
       "    }\n",
       "\n",
       "    .dataframe thead th {\n",
       "        text-align: right;\n",
       "    }\n",
       "</style>\n",
       "<table border=\"1\" class=\"dataframe\">\n",
       "  <thead>\n",
       "    <tr style=\"text-align: right;\">\n",
       "      <th></th>\n",
       "      <th>speaker</th>\n",
       "      <th>duration_net</th>\n",
       "      <th>video_id</th>\n",
       "      <th>video_link</th>\n",
       "      <th>duration_total</th>\n",
       "      <th>data_ratio</th>\n",
       "    </tr>\n",
       "  </thead>\n",
       "  <tbody>\n",
       "    <tr>\n",
       "      <th>4797</th>\n",
       "      <td>oliver</td>\n",
       "      <td>67.87</td>\n",
       "      <td>l9qA8c-E_oA</td>\n",
       "      <td>https://www.youtube.com/watch?v=l9qA8c-E_oA</td>\n",
       "      <td>267</td>\n",
       "      <td>25.42</td>\n",
       "    </tr>\n",
       "    <tr>\n",
       "      <th>4686</th>\n",
       "      <td>oliver</td>\n",
       "      <td>126.00</td>\n",
       "      <td>5cBV8KFFasY</td>\n",
       "      <td>http://www.youtube.com/watch?v=5cBV8KFFasY</td>\n",
       "      <td>534</td>\n",
       "      <td>23.60</td>\n",
       "    </tr>\n",
       "    <tr>\n",
       "      <th>4745</th>\n",
       "      <td>oliver</td>\n",
       "      <td>36.30</td>\n",
       "      <td>dH573B1bkHI</td>\n",
       "      <td>http://www.youtube.com/watch?v=dH573B1bkHI</td>\n",
       "      <td>172</td>\n",
       "      <td>21.11</td>\n",
       "    </tr>\n",
       "    <tr>\n",
       "      <th>4723</th>\n",
       "      <td>oliver</td>\n",
       "      <td>79.55</td>\n",
       "      <td>UC_gXD5OE88</td>\n",
       "      <td>http://www.youtube.com/watch?v=UC_gXD5OE88</td>\n",
       "      <td>389</td>\n",
       "      <td>20.45</td>\n",
       "    </tr>\n",
       "    <tr>\n",
       "      <th>4782</th>\n",
       "      <td>oliver</td>\n",
       "      <td>6.40</td>\n",
       "      <td>-Z668Qc0P4Q</td>\n",
       "      <td>https://www.youtube.com/watch?v=-Z668Qc0P4Q</td>\n",
       "      <td>1412</td>\n",
       "      <td>0.45</td>\n",
       "    </tr>\n",
       "  </tbody>\n",
       "</table>\n",
       "</div>"
      ],
      "text/plain": [
       "     speaker  duration_net     video_id  \\\n",
       "4797  oliver         67.87  l9qA8c-E_oA   \n",
       "4686  oliver        126.00  5cBV8KFFasY   \n",
       "4745  oliver         36.30  dH573B1bkHI   \n",
       "4723  oliver         79.55  UC_gXD5OE88   \n",
       "4782  oliver          6.40  -Z668Qc0P4Q   \n",
       "\n",
       "                                       video_link  duration_total  data_ratio  \n",
       "4797  https://www.youtube.com/watch?v=l9qA8c-E_oA             267       25.42  \n",
       "4686   http://www.youtube.com/watch?v=5cBV8KFFasY             534       23.60  \n",
       "4745   http://www.youtube.com/watch?v=dH573B1bkHI             172       21.11  \n",
       "4723   http://www.youtube.com/watch?v=UC_gXD5OE88             389       20.45  \n",
       "4782  https://www.youtube.com/watch?v=-Z668Qc0P4Q            1412        0.45  "
      ]
     },
     "execution_count": 35,
     "metadata": {},
     "output_type": "execute_result"
    }
   ],
   "source": [
    "df_videos.tail()"
   ]
  },
  {
   "cell_type": "code",
   "execution_count": 36,
   "metadata": {
    "jupyter": {
     "source_hidden": true
    }
   },
   "outputs": [
    {
     "data": {
      "image/png": "[encoded data removed]",
      "text/plain": [
       "<Figure size 360x360 with 1 Axes>"
      ]
     },
     "metadata": {
      "needs_background": "light"
     },
     "output_type": "display_data"
    }
   ],
   "source": [
    "sns.displot(df_videos['data_ratio']);"
   ]
  },
  {
   "cell_type": "code",
   "execution_count": 37,
   "metadata": {
    "jupyter": {
     "source_hidden": true
    }
   },
   "outputs": [
    {
     "data": {
      "text/html": [
       "<div>\n",
       "<style scoped>\n",
       "    .dataframe tbody tr th:only-of-type {\n",
       "        vertical-align: middle;\n",
       "    }\n",
       "\n",
       "    .dataframe tbody tr th {\n",
       "        vertical-align: top;\n",
       "    }\n",
       "\n",
       "    .dataframe thead th {\n",
       "        text-align: right;\n",
       "    }\n",
       "</style>\n",
       "<table border=\"1\" class=\"dataframe\">\n",
       "  <thead>\n",
       "    <tr style=\"text-align: right;\">\n",
       "      <th></th>\n",
       "      <th>duration_total</th>\n",
       "    </tr>\n",
       "  </thead>\n",
       "  <tbody>\n",
       "    <tr>\n",
       "      <th>count</th>\n",
       "      <td>124.00</td>\n",
       "    </tr>\n",
       "    <tr>\n",
       "      <th>mean</th>\n",
       "      <td>885.64</td>\n",
       "    </tr>\n",
       "    <tr>\n",
       "      <th>std</th>\n",
       "      <td>411.25</td>\n",
       "    </tr>\n",
       "    <tr>\n",
       "      <th>min</th>\n",
       "      <td>38.00</td>\n",
       "    </tr>\n",
       "    <tr>\n",
       "      <th>25%</th>\n",
       "      <td>678.00</td>\n",
       "    </tr>\n",
       "    <tr>\n",
       "      <th>50%</th>\n",
       "      <td>999.50</td>\n",
       "    </tr>\n",
       "    <tr>\n",
       "      <th>75%</th>\n",
       "      <td>1,163.25</td>\n",
       "    </tr>\n",
       "    <tr>\n",
       "      <th>max</th>\n",
       "      <td>1,994.00</td>\n",
       "    </tr>\n",
       "  </tbody>\n",
       "</table>\n",
       "</div>"
      ],
      "text/plain": [
       "       duration_total\n",
       "count          124.00\n",
       "mean           885.64\n",
       "std            411.25\n",
       "min             38.00\n",
       "25%            678.00\n",
       "50%            999.50\n",
       "75%          1,163.25\n",
       "max          1,994.00"
      ]
     },
     "execution_count": 37,
     "metadata": {},
     "output_type": "execute_result"
    }
   ],
   "source": [
    "df_videos['duration_total'].describe().to_frame()"
   ]
  },
  {
   "cell_type": "markdown",
   "metadata": {},
   "source": [
    "## df_words"
   ]
  },
  {
   "cell_type": "code",
   "execution_count": 38,
   "metadata": {},
   "outputs": [],
   "source": [
    "def read_text(interval_id):\n",
    "    raw_text_path = resolve_interval_raw_text_path(interval_id)\n",
    "    return pd.read_csv(raw_text_path)\n",
    "\n",
    "def read_text_str(interval_id):\n",
    "    return ' '.join(read_text(interval_id)['word'].tolist())"
   ]
  },
  {
   "cell_type": "code",
   "execution_count": 39,
   "metadata": {
    "jupyter": {
     "source_hidden": true
    }
   },
   "outputs": [],
   "source": [
    "speaker_interval_ids = df_intervals['interval_id'].tolist()"
   ]
  },
  {
   "cell_type": "code",
   "execution_count": 40,
   "metadata": {},
   "outputs": [
    {
     "data": {
      "text/plain": [
       "str"
      ]
     },
     "execution_count": 40,
     "metadata": {},
     "output_type": "execute_result"
    }
   ],
   "source": [
    "type(speaker_interval_ids[100])"
   ]
  },
  {
   "cell_type": "code",
   "execution_count": 41,
   "metadata": {},
   "outputs": [
    {
     "data": {
      "text/plain": [
       "'/home/stav/Data/PATS_DATA/Videos/oliver/Ifi9M7DRazI/215196/Text/Raw.csv'"
      ]
     },
     "execution_count": 41,
     "metadata": {},
     "output_type": "execute_result"
    }
   ],
   "source": [
    "resolve_interval_raw_text_path(str(speaker_interval_ids[100]))"
   ]
  },
  {
   "cell_type": "code",
   "execution_count": 42,
   "metadata": {
    "jupyter": {
     "source_hidden": true
    }
   },
   "outputs": [
    {
     "data": {
      "text/html": [
       "<div>\n",
       "<style scoped>\n",
       "    .dataframe tbody tr th:only-of-type {\n",
       "        vertical-align: middle;\n",
       "    }\n",
       "\n",
       "    .dataframe tbody tr th {\n",
       "        vertical-align: top;\n",
       "    }\n",
       "\n",
       "    .dataframe thead th {\n",
       "        text-align: right;\n",
       "    }\n",
       "</style>\n",
       "<table border=\"1\" class=\"dataframe\">\n",
       "  <thead>\n",
       "    <tr style=\"text-align: right;\">\n",
       "      <th></th>\n",
       "      <th>word</th>\n",
       "      <th>start_frame</th>\n",
       "      <th>end_frame</th>\n",
       "      <th>frames_count</th>\n",
       "    </tr>\n",
       "  </thead>\n",
       "  <tbody>\n",
       "    <tr>\n",
       "      <th>0</th>\n",
       "      <td>find</td>\n",
       "      <td>0</td>\n",
       "      <td>4</td>\n",
       "      <td>4</td>\n",
       "    </tr>\n",
       "    <tr>\n",
       "      <th>1</th>\n",
       "      <td>out</td>\n",
       "      <td>4</td>\n",
       "      <td>29</td>\n",
       "      <td>25</td>\n",
       "    </tr>\n",
       "    <tr>\n",
       "      <th>2</th>\n",
       "      <td>Trump</td>\n",
       "      <td>29</td>\n",
       "      <td>38</td>\n",
       "      <td>9</td>\n",
       "    </tr>\n",
       "    <tr>\n",
       "      <th>3</th>\n",
       "      <td>helping</td>\n",
       "      <td>38</td>\n",
       "      <td>43</td>\n",
       "      <td>5</td>\n",
       "    </tr>\n",
       "    <tr>\n",
       "      <th>4</th>\n",
       "      <td>noticeably</td>\n",
       "      <td>43</td>\n",
       "      <td>53</td>\n",
       "      <td>10</td>\n",
       "    </tr>\n",
       "    <tr>\n",
       "      <th>5</th>\n",
       "      <td>distance</td>\n",
       "      <td>53</td>\n",
       "      <td>62</td>\n",
       "      <td>9</td>\n",
       "    </tr>\n",
       "    <tr>\n",
       "      <th>6</th>\n",
       "      <td>from</td>\n",
       "      <td>62</td>\n",
       "      <td>71</td>\n",
       "      <td>9</td>\n",
       "    </tr>\n",
       "    <tr>\n",
       "      <th>7</th>\n",
       "      <td>this</td>\n",
       "      <td>71</td>\n",
       "      <td>73</td>\n",
       "      <td>2</td>\n",
       "    </tr>\n",
       "    <tr>\n",
       "      <th>8</th>\n",
       "      <td>whole</td>\n",
       "      <td>73</td>\n",
       "      <td>76</td>\n",
       "      <td>3</td>\n",
       "    </tr>\n",
       "    <tr>\n",
       "      <th>9</th>\n",
       "      <td>process</td>\n",
       "      <td>76</td>\n",
       "      <td>82</td>\n",
       "      <td>6</td>\n",
       "    </tr>\n",
       "    <tr>\n",
       "      <th>10</th>\n",
       "      <td>and</td>\n",
       "      <td>82</td>\n",
       "      <td>85</td>\n",
       "      <td>3</td>\n",
       "    </tr>\n",
       "    <tr>\n",
       "      <th>11</th>\n",
       "      <td>perhaps</td>\n",
       "      <td>85</td>\n",
       "      <td>88</td>\n",
       "      <td>3</td>\n",
       "    </tr>\n",
       "    <tr>\n",
       "      <th>12</th>\n",
       "      <td>nothing</td>\n",
       "      <td>88</td>\n",
       "      <td>97</td>\n",
       "      <td>9</td>\n",
       "    </tr>\n",
       "    <tr>\n",
       "      <th>13</th>\n",
       "      <td>shows.</td>\n",
       "      <td>97</td>\n",
       "      <td>106</td>\n",
       "      <td>9</td>\n",
       "    </tr>\n",
       "    <tr>\n",
       "      <th>14</th>\n",
       "      <td>More</td>\n",
       "      <td>106</td>\n",
       "      <td>112</td>\n",
       "      <td>6</td>\n",
       "    </tr>\n",
       "    <tr>\n",
       "      <th>15</th>\n",
       "      <td>than</td>\n",
       "      <td>112</td>\n",
       "      <td>116</td>\n",
       "      <td>4</td>\n",
       "    </tr>\n",
       "    <tr>\n",
       "      <th>16</th>\n",
       "      <td>how</td>\n",
       "      <td>116</td>\n",
       "      <td>119</td>\n",
       "      <td>3</td>\n",
       "    </tr>\n",
       "    <tr>\n",
       "      <th>17</th>\n",
       "      <td>this</td>\n",
       "      <td>119</td>\n",
       "      <td>124</td>\n",
       "      <td>5</td>\n",
       "    </tr>\n",
       "    <tr>\n",
       "      <th>18</th>\n",
       "      <td>bill</td>\n",
       "      <td>124</td>\n",
       "      <td>127</td>\n",
       "      <td>3</td>\n",
       "    </tr>\n",
       "    <tr>\n",
       "      <th>19</th>\n",
       "      <td>is</td>\n",
       "      <td>127</td>\n",
       "      <td>132</td>\n",
       "      <td>5</td>\n",
       "    </tr>\n",
       "  </tbody>\n",
       "</table>\n",
       "</div>"
      ],
      "text/plain": [
       "          word  start_frame  end_frame  frames_count\n",
       "0         find            0          4             4\n",
       "1          out            4         29            25\n",
       "2        Trump           29         38             9\n",
       "3      helping           38         43             5\n",
       "4   noticeably           43         53            10\n",
       "5     distance           53         62             9\n",
       "6         from           62         71             9\n",
       "7         this           71         73             2\n",
       "8        whole           73         76             3\n",
       "9      process           76         82             6\n",
       "10         and           82         85             3\n",
       "11     perhaps           85         88             3\n",
       "12     nothing           88         97             9\n",
       "13      shows.           97        106             9\n",
       "14        More          106        112             6\n",
       "15        than          112        116             4\n",
       "16         how          116        119             3\n",
       "17        this          119        124             5\n",
       "18        bill          124        127             3\n",
       "19          is          127        132             5"
      ]
     },
     "execution_count": 42,
     "metadata": {},
     "output_type": "execute_result"
    }
   ],
   "source": [
    "read_text('215196')"
   ]
  },
  {
   "cell_type": "code",
   "execution_count": 43,
   "metadata": {},
   "outputs": [],
   "source": [
    "# dict(df_intervals.sort_values(['video_id', 'interval_id'])[['interval_id', 'video_id']].values.tolist()[4000-6:])"
   ]
  },
  {
   "cell_type": "code",
   "execution_count": 44,
   "metadata": {},
   "outputs": [
    {
     "data": {
      "text/html": [
       "<div>\n",
       "<style scoped>\n",
       "    .dataframe tbody tr th:only-of-type {\n",
       "        vertical-align: middle;\n",
       "    }\n",
       "\n",
       "    .dataframe tbody tr th {\n",
       "        vertical-align: top;\n",
       "    }\n",
       "\n",
       "    .dataframe thead th {\n",
       "        text-align: right;\n",
       "    }\n",
       "</style>\n",
       "<table border=\"1\" class=\"dataframe\">\n",
       "  <thead>\n",
       "    <tr style=\"text-align: right;\">\n",
       "      <th></th>\n",
       "      <th>Unnamed: 0</th>\n",
       "      <th>dataset</th>\n",
       "      <th>duration</th>\n",
       "      <th>end_time</th>\n",
       "      <th>interval_id</th>\n",
       "      <th>speaker</th>\n",
       "      <th>start_time</th>\n",
       "      <th>video_fn</th>\n",
       "      <th>video_link</th>\n",
       "      <th>org_start_time</th>\n",
       "      <th>org_end_time</th>\n",
       "      <th>start_time_string</th>\n",
       "      <th>end_time_string</th>\n",
       "      <th>video_id</th>\n",
       "      <th>max_frames_token</th>\n",
       "      <th>valid</th>\n",
       "      <th>valid_max_frames_per_token</th>\n",
       "      <th>valid_duration</th>\n",
       "      <th>valid_single_token_per_frame</th>\n",
       "      <th>video_downloded</th>\n",
       "    </tr>\n",
       "  </thead>\n",
       "  <tbody>\n",
       "    <tr>\n",
       "      <th>0</th>\n",
       "      <td>43180</td>\n",
       "      <td>dev</td>\n",
       "      <td>12.21</td>\n",
       "      <td>0 days 00:01:10.830000</td>\n",
       "      <td>214428</td>\n",
       "      <td>oliver</td>\n",
       "      <td>0 days 00:00:58.620000</td>\n",
       "      <td>Abortion_Laws_-_Last_Week_Tonight_with_John_Oliver_HBO-DRauXXz6t0Y.webm</td>\n",
       "      <td>http://www.youtube.com/watch?v=DRauXXz6t0Y</td>\n",
       "      <td>0 days 00:00:58.620000</td>\n",
       "      <td>0 days 00:01:10.830000</td>\n",
       "      <td>00:00:58.62</td>\n",
       "      <td>00:01:10.83</td>\n",
       "      <td>DRauXXz6t0Y</td>\n",
       "      <td>88</td>\n",
       "      <td>True</td>\n",
       "      <td>False</td>\n",
       "      <td>False</td>\n",
       "      <td>True</td>\n",
       "      <td>False</td>\n",
       "    </tr>\n",
       "  </tbody>\n",
       "</table>\n",
       "</div>"
      ],
      "text/plain": [
       "   Unnamed: 0 dataset  duration                end_time interval_id speaker  \\\n",
       "0       43180     dev     12.21  0 days 00:01:10.830000      214428  oliver   \n",
       "\n",
       "               start_time  \\\n",
       "0  0 days 00:00:58.620000   \n",
       "\n",
       "                                                                  video_fn  \\\n",
       "0  Abortion_Laws_-_Last_Week_Tonight_with_John_Oliver_HBO-DRauXXz6t0Y.webm   \n",
       "\n",
       "                                   video_link          org_start_time  \\\n",
       "0  http://www.youtube.com/watch?v=DRauXXz6t0Y  0 days 00:00:58.620000   \n",
       "\n",
       "             org_end_time start_time_string end_time_string     video_id  \\\n",
       "0  0 days 00:01:10.830000       00:00:58.62     00:01:10.83  DRauXXz6t0Y   \n",
       "\n",
       "   max_frames_token  valid  valid_max_frames_per_token  valid_duration  \\\n",
       "0                88   True                       False           False   \n",
       "\n",
       "   valid_single_token_per_frame  video_downloded  \n",
       "0                          True            False  "
      ]
     },
     "execution_count": 44,
     "metadata": {},
     "output_type": "execute_result"
    }
   ],
   "source": [
    "df_intervals[df_intervals['interval_id'] == '214428']"
   ]
  },
  {
   "cell_type": "code",
   "execution_count": 45,
   "metadata": {
    "jupyter": {
     "source_hidden": true
    }
   },
   "outputs": [],
   "source": [
    "interval_text_status = []\n",
    "interval_id_to_df_words = {}\n",
    "for interval_id in speaker_interval_ids:\n",
    "    try:\n",
    "        df_words = read_text(interval_id)\n",
    "        interval_id_to_df_words[interval_id] = df_words\n",
    "        has_text = True\n",
    "    except FileNotFoundError as e:\n",
    "        has_text = False\n",
    "    interval_text_status.append([interval_id, has_text])"
   ]
  },
  {
   "cell_type": "code",
   "execution_count": 46,
   "metadata": {},
   "outputs": [
    {
     "data": {
      "text/plain": [
       "4254"
      ]
     },
     "execution_count": 46,
     "metadata": {},
     "output_type": "execute_result"
    }
   ],
   "source": [
    "len(interval_id_to_df_words)"
   ]
  },
  {
   "cell_type": "markdown",
   "metadata": {},
   "source": [
    "# Intervals Validity"
   ]
  },
  {
   "cell_type": "markdown",
   "metadata": {},
   "source": [
    "## Interval PATS Text"
   ]
  },
  {
   "cell_type": "markdown",
   "metadata": {},
   "source": [
    "### Has Groups (`valid_hd5`)"
   ]
  },
  {
   "cell_type": "code",
   "execution_count": 47,
   "metadata": {},
   "outputs": [],
   "source": [
    "df_interval_text_status = pd.DataFrame(interval_text_status, columns=['interval_id', COL_VALID_HD5])"
   ]
  },
  {
   "cell_type": "code",
   "execution_count": 48,
   "metadata": {},
   "outputs": [
    {
     "data": {
      "text/html": [
       "<div>\n",
       "<style scoped>\n",
       "    .dataframe tbody tr th:only-of-type {\n",
       "        vertical-align: middle;\n",
       "    }\n",
       "\n",
       "    .dataframe tbody tr th {\n",
       "        vertical-align: top;\n",
       "    }\n",
       "\n",
       "    .dataframe thead th {\n",
       "        text-align: right;\n",
       "    }\n",
       "</style>\n",
       "<table border=\"1\" class=\"dataframe\">\n",
       "  <thead>\n",
       "    <tr style=\"text-align: right;\">\n",
       "      <th></th>\n",
       "      <th>interval_id</th>\n",
       "      <th>valid_hd5</th>\n",
       "    </tr>\n",
       "  </thead>\n",
       "  <tbody>\n",
       "    <tr>\n",
       "      <th>0</th>\n",
       "      <td>214428</td>\n",
       "      <td>True</td>\n",
       "    </tr>\n",
       "    <tr>\n",
       "      <th>1</th>\n",
       "      <td>214429</td>\n",
       "      <td>True</td>\n",
       "    </tr>\n",
       "    <tr>\n",
       "      <th>2</th>\n",
       "      <td>214430</td>\n",
       "      <td>True</td>\n",
       "    </tr>\n",
       "    <tr>\n",
       "      <th>3</th>\n",
       "      <td>214431</td>\n",
       "      <td>True</td>\n",
       "    </tr>\n",
       "    <tr>\n",
       "      <th>4</th>\n",
       "      <td>214433</td>\n",
       "      <td>True</td>\n",
       "    </tr>\n",
       "  </tbody>\n",
       "</table>\n",
       "</div>"
      ],
      "text/plain": [
       "  interval_id  valid_hd5\n",
       "0      214428       True\n",
       "1      214429       True\n",
       "2      214430       True\n",
       "3      214431       True\n",
       "4      214433       True"
      ]
     },
     "execution_count": 48,
     "metadata": {},
     "output_type": "execute_result"
    }
   ],
   "source": [
    "df_interval_text_status.head()"
   ]
  },
  {
   "cell_type": "code",
   "execution_count": 49,
   "metadata": {},
   "outputs": [
    {
     "data": {
      "text/html": [
       "<div>\n",
       "<style scoped>\n",
       "    .dataframe tbody tr th:only-of-type {\n",
       "        vertical-align: middle;\n",
       "    }\n",
       "\n",
       "    .dataframe tbody tr th {\n",
       "        vertical-align: top;\n",
       "    }\n",
       "\n",
       "    .dataframe thead th {\n",
       "        text-align: right;\n",
       "    }\n",
       "</style>\n",
       "<table border=\"1\" class=\"dataframe\">\n",
       "  <thead>\n",
       "    <tr style=\"text-align: right;\">\n",
       "      <th></th>\n",
       "      <th>valid_hd5</th>\n",
       "    </tr>\n",
       "  </thead>\n",
       "  <tbody>\n",
       "    <tr>\n",
       "      <th>True</th>\n",
       "      <td>4254</td>\n",
       "    </tr>\n",
       "    <tr>\n",
       "      <th>False</th>\n",
       "      <td>375</td>\n",
       "    </tr>\n",
       "  </tbody>\n",
       "</table>\n",
       "</div>"
      ],
      "text/plain": [
       "       valid_hd5\n",
       "True        4254\n",
       "False        375"
      ]
     },
     "execution_count": 49,
     "metadata": {},
     "output_type": "execute_result"
    }
   ],
   "source": [
    "df_interval_text_status[COL_VALID_HD5].value_counts().to_frame()"
   ]
  },
  {
   "cell_type": "code",
   "execution_count": 50,
   "metadata": {
    "jupyter": {
     "source_hidden": true
    }
   },
   "outputs": [
    {
     "data": {
      "text/html": [
       "<style  type=\"text/css\" >\n",
       "    #T_d6769f0e_7c4a_11ec_b7db_97c1a56176e3 caption {\n",
       "          color: blue;\n",
       "          font-size: 16px;\n",
       "    }</style><table id=\"T_d6769f0e_7c4a_11ec_b7db_97c1a56176e3\" ><caption>Valid hd5 group</caption><thead>    <tr>        <th class=\"blank level0\" ></th>        <th class=\"col_heading level0 col0\" >valid_hd5</th>    </tr></thead><tbody>\n",
       "                <tr>\n",
       "                        <th id=\"T_d6769f0e_7c4a_11ec_b7db_97c1a56176e3level0_row0\" class=\"row_heading level0 row0\" >True</th>\n",
       "                        <td id=\"T_d6769f0e_7c4a_11ec_b7db_97c1a56176e3row0_col0\" class=\"data row0 col0\" >4254</td>\n",
       "            </tr>\n",
       "            <tr>\n",
       "                        <th id=\"T_d6769f0e_7c4a_11ec_b7db_97c1a56176e3level0_row1\" class=\"row_heading level0 row1\" >False</th>\n",
       "                        <td id=\"T_d6769f0e_7c4a_11ec_b7db_97c1a56176e3row1_col0\" class=\"data row1 col0\" >375</td>\n",
       "            </tr>\n",
       "    </tbody></table>"
      ],
      "text/plain": [
       "<pandas.io.formats.style.Styler at 0x7f18d5032cf8>"
      ]
     },
     "metadata": {},
     "output_type": "display_data"
    }
   ],
   "source": [
    "df_intervals = df_intervals.merge(df_interval_text_status)\n",
    "display_value_counts(df_intervals['valid_hd5'], 'Valid hd5 group')"
   ]
  },
  {
   "cell_type": "markdown",
   "metadata": {},
   "source": [
    "### Token Frames Duration (`valid_max_token_duration`)"
   ]
  },
  {
   "cell_type": "code",
   "execution_count": 51,
   "metadata": {
    "jupyter": {
     "source_hidden": true
    }
   },
   "outputs": [
    {
     "name": "stdout",
     "output_type": "stream",
     "text": [
      "Max allowed frames per token is: 150 frames (= 10 seconds)\n"
     ]
    }
   ],
   "source": [
    "MAX_SECONDS_PER_TOKEN = 10\n",
    "MAX_FRAMES_THRESHOLD = FRAME_RATE * MAX_SECONDS_PER_TOKEN\n",
    "print(f'Max allowed frames per token is: {MAX_FRAMES_THRESHOLD} frames (= {MAX_SECONDS_PER_TOKEN} seconds)')"
   ]
  },
  {
   "cell_type": "code",
   "execution_count": 52,
   "metadata": {
    "jupyter": {
     "source_hidden": true
    }
   },
   "outputs": [],
   "source": [
    "UNKNOWN_MAX_FRAMES_PER_TOKEN = -1\n",
    "\n",
    "def get_max_frames_number_for_token(interval_id):\n",
    "    \"\"\"\n",
    "    returns the token idx and the range, of the token with the largest frame range\n",
    "    \"\"\"\n",
    "    try:\n",
    "        df_tokens = interval_id_to_df_words[interval_id]\n",
    "        max_token_frames           = df_tokens['frames_count'].max()\n",
    "        max_token_frames_token_idx = df_tokens['frames_count'].argmax()\n",
    "    except:\n",
    "        max_token_frames           = UNKNOWN_MAX_FRAMES_PER_TOKEN\n",
    "        max_token_frames_token_idx = UNKNOWN_MAX_FRAMES_PER_TOKEN\n",
    "    return max_token_frames, max_token_frames_token_idx"
   ]
  },
  {
   "cell_type": "code",
   "execution_count": 53,
   "metadata": {
    "jupyter": {
     "source_hidden": true
    }
   },
   "outputs": [],
   "source": [
    "df_intervals['max_frames_token'] = df_intervals['interval_id'].apply(get_max_frames_number_for_token)"
   ]
  },
  {
   "cell_type": "code",
   "execution_count": 54,
   "metadata": {},
   "outputs": [
    {
     "data": {
      "text/plain": [
       "0        (88, 0)\n",
       "1        (31, 0)\n",
       "2        (75, 8)\n",
       "3       (25, 11)\n",
       "4        (92, 0)\n",
       "          ...   \n",
       "4624     (39, 5)\n",
       "4625     (17, 1)\n",
       "4626     (18, 5)\n",
       "4627    (86, 28)\n",
       "4628    (16, 34)\n",
       "Name: interval_id, Length: 4629, dtype: object"
      ]
     },
     "execution_count": 54,
     "metadata": {},
     "output_type": "execute_result"
    }
   ],
   "source": [
    "df_intervals['interval_id'].apply(get_max_frames_number_for_token)"
   ]
  },
  {
   "cell_type": "code",
   "execution_count": 55,
   "metadata": {},
   "outputs": [],
   "source": [
    "df_intervals['max_frames_token'], df_intervals['max_token_frames_token_idx'] = \\\n",
    "    zip(*df_intervals['interval_id'].apply(get_max_frames_number_for_token))"
   ]
  },
  {
   "cell_type": "code",
   "execution_count": 56,
   "metadata": {
    "jupyter": {
     "source_hidden": true
    }
   },
   "outputs": [
    {
     "data": {
      "text/html": [
       "<div>\n",
       "<style scoped>\n",
       "    .dataframe tbody tr th:only-of-type {\n",
       "        vertical-align: middle;\n",
       "    }\n",
       "\n",
       "    .dataframe tbody tr th {\n",
       "        vertical-align: top;\n",
       "    }\n",
       "\n",
       "    .dataframe thead th {\n",
       "        text-align: right;\n",
       "    }\n",
       "</style>\n",
       "<table border=\"1\" class=\"dataframe\">\n",
       "  <thead>\n",
       "    <tr style=\"text-align: right;\">\n",
       "      <th></th>\n",
       "      <th>Unnamed: 0</th>\n",
       "      <th>dataset</th>\n",
       "      <th>duration</th>\n",
       "      <th>end_time</th>\n",
       "      <th>interval_id</th>\n",
       "      <th>speaker</th>\n",
       "      <th>start_time</th>\n",
       "      <th>video_fn</th>\n",
       "      <th>video_link</th>\n",
       "      <th>org_start_time</th>\n",
       "      <th>...</th>\n",
       "      <th>end_time_string</th>\n",
       "      <th>video_id</th>\n",
       "      <th>max_frames_token</th>\n",
       "      <th>valid</th>\n",
       "      <th>valid_max_frames_per_token</th>\n",
       "      <th>valid_duration</th>\n",
       "      <th>valid_single_token_per_frame</th>\n",
       "      <th>video_downloded</th>\n",
       "      <th>valid_hd5</th>\n",
       "      <th>max_token_frames_token_idx</th>\n",
       "    </tr>\n",
       "  </thead>\n",
       "  <tbody>\n",
       "    <tr>\n",
       "      <th>0</th>\n",
       "      <td>43180</td>\n",
       "      <td>dev</td>\n",
       "      <td>12.21</td>\n",
       "      <td>0 days 00:01:10.830000</td>\n",
       "      <td>214428</td>\n",
       "      <td>oliver</td>\n",
       "      <td>0 days 00:00:58.620000</td>\n",
       "      <td>Abortion_Laws_-_Last_Week_Tonight_with_John_Oliver_HBO-DRauXXz6t0Y.webm</td>\n",
       "      <td>http://www.youtube.com/watch?v=DRauXXz6t0Y</td>\n",
       "      <td>0 days 00:00:58.620000</td>\n",
       "      <td>...</td>\n",
       "      <td>00:01:10.83</td>\n",
       "      <td>DRauXXz6t0Y</td>\n",
       "      <td>88</td>\n",
       "      <td>True</td>\n",
       "      <td>False</td>\n",
       "      <td>False</td>\n",
       "      <td>True</td>\n",
       "      <td>False</td>\n",
       "      <td>True</td>\n",
       "      <td>0</td>\n",
       "    </tr>\n",
       "    <tr>\n",
       "      <th>1</th>\n",
       "      <td>43181</td>\n",
       "      <td>dev</td>\n",
       "      <td>6.14</td>\n",
       "      <td>0 days 00:01:17.110000</td>\n",
       "      <td>214429</td>\n",
       "      <td>oliver</td>\n",
       "      <td>0 days 00:01:10.970000</td>\n",
       "      <td>Abortion_Laws_-_Last_Week_Tonight_with_John_Oliver_HBO-DRauXXz6t0Y.webm</td>\n",
       "      <td>http://www.youtube.com/watch?v=DRauXXz6t0Y</td>\n",
       "      <td>0 days 00:01:10.970000</td>\n",
       "      <td>...</td>\n",
       "      <td>00:01:17.11</td>\n",
       "      <td>DRauXXz6t0Y</td>\n",
       "      <td>31</td>\n",
       "      <td>True</td>\n",
       "      <td>True</td>\n",
       "      <td>False</td>\n",
       "      <td>True</td>\n",
       "      <td>False</td>\n",
       "      <td>True</td>\n",
       "      <td>0</td>\n",
       "    </tr>\n",
       "  </tbody>\n",
       "</table>\n",
       "<p>2 rows × 22 columns</p>\n",
       "</div>"
      ],
      "text/plain": [
       "   Unnamed: 0 dataset  duration                end_time interval_id speaker  \\\n",
       "0       43180     dev     12.21  0 days 00:01:10.830000      214428  oliver   \n",
       "1       43181     dev      6.14  0 days 00:01:17.110000      214429  oliver   \n",
       "\n",
       "               start_time  \\\n",
       "0  0 days 00:00:58.620000   \n",
       "1  0 days 00:01:10.970000   \n",
       "\n",
       "                                                                  video_fn  \\\n",
       "0  Abortion_Laws_-_Last_Week_Tonight_with_John_Oliver_HBO-DRauXXz6t0Y.webm   \n",
       "1  Abortion_Laws_-_Last_Week_Tonight_with_John_Oliver_HBO-DRauXXz6t0Y.webm   \n",
       "\n",
       "                                   video_link          org_start_time  ...  \\\n",
       "0  http://www.youtube.com/watch?v=DRauXXz6t0Y  0 days 00:00:58.620000  ...   \n",
       "1  http://www.youtube.com/watch?v=DRauXXz6t0Y  0 days 00:01:10.970000  ...   \n",
       "\n",
       "  end_time_string     video_id max_frames_token valid  \\\n",
       "0     00:01:10.83  DRauXXz6t0Y               88  True   \n",
       "1     00:01:17.11  DRauXXz6t0Y               31  True   \n",
       "\n",
       "   valid_max_frames_per_token  valid_duration  valid_single_token_per_frame  \\\n",
       "0                       False           False                          True   \n",
       "1                        True           False                          True   \n",
       "\n",
       "   video_downloded  valid_hd5  max_token_frames_token_idx  \n",
       "0            False       True                           0  \n",
       "1            False       True                           0  \n",
       "\n",
       "[2 rows x 22 columns]"
      ]
     },
     "execution_count": 56,
     "metadata": {},
     "output_type": "execute_result"
    }
   ],
   "source": [
    "df_intervals.head(n=2)"
   ]
  },
  {
   "cell_type": "code",
   "execution_count": 57,
   "metadata": {},
   "outputs": [
    {
     "data": {
      "image/png": "[encoded data removed]",
      "text/plain": [
       "<Figure size 360x360 with 1 Axes>"
      ]
     },
     "metadata": {},
     "output_type": "display_data"
    }
   ],
   "source": [
    "sns.set_style('ticks')\n",
    "sns.displot(df_intervals[df_intervals['max_frames_token'] != -1]['max_frames_token'])\n",
    "plt.axvline(MAX_FRAMES_THRESHOLD, color='deeppink');"
   ]
  },
  {
   "cell_type": "code",
   "execution_count": 58,
   "metadata": {},
   "outputs": [
    {
     "data": {
      "text/plain": [
       "(4629, 22)"
      ]
     },
     "execution_count": 58,
     "metadata": {},
     "output_type": "execute_result"
    }
   ],
   "source": [
    "df_intervals.shape"
   ]
  },
  {
   "cell_type": "code",
   "execution_count": 59,
   "metadata": {},
   "outputs": [
    {
     "data": {
      "text/html": [
       "<style  type=\"text/css\" >\n",
       "    #T_d7920464_7c4a_11ec_b7db_97c1a56176e3 caption {\n",
       "          color: blue;\n",
       "          font-size: 16px;\n",
       "    }</style><table id=\"T_d7920464_7c4a_11ec_b7db_97c1a56176e3\" ><caption>Valid Token Duration</caption><thead>    <tr>        <th class=\"blank level0\" ></th>        <th class=\"col_heading level0 col0\" >valid_max_token_duration</th>    </tr></thead><tbody>\n",
       "                <tr>\n",
       "                        <th id=\"T_d7920464_7c4a_11ec_b7db_97c1a56176e3level0_row0\" class=\"row_heading level0 row0\" >True</th>\n",
       "                        <td id=\"T_d7920464_7c4a_11ec_b7db_97c1a56176e3row0_col0\" class=\"data row0 col0\" >4171</td>\n",
       "            </tr>\n",
       "            <tr>\n",
       "                        <th id=\"T_d7920464_7c4a_11ec_b7db_97c1a56176e3level0_row1\" class=\"row_heading level0 row1\" >False</th>\n",
       "                        <td id=\"T_d7920464_7c4a_11ec_b7db_97c1a56176e3row1_col0\" class=\"data row1 col0\" >458</td>\n",
       "            </tr>\n",
       "    </tbody></table>"
      ],
      "text/plain": [
       "<pandas.io.formats.style.Styler at 0x7f168a0ab0f0>"
      ]
     },
     "metadata": {},
     "output_type": "display_data"
    }
   ],
   "source": [
    "mask_below_max_frames_limit = (df_intervals['max_frames_token'] < MAX_FRAMES_THRESHOLD)\n",
    "mask_known_max_frames = (df_intervals['max_frames_token'] != UNKNOWN_MAX_FRAMES_PER_TOKEN) \n",
    "\n",
    "df_intervals['valid_max_token_duration'] = mask_below_max_frames_limit & mask_known_max_frames\n",
    "display_value_counts(df_intervals['valid_max_token_duration'], 'Valid Token Duration')"
   ]
  },
  {
   "cell_type": "code",
   "execution_count": 60,
   "metadata": {},
   "outputs": [
    {
     "data": {
      "text/html": [
       "<div>\n",
       "<style scoped>\n",
       "    .dataframe tbody tr th:only-of-type {\n",
       "        vertical-align: middle;\n",
       "    }\n",
       "\n",
       "    .dataframe tbody tr th {\n",
       "        vertical-align: top;\n",
       "    }\n",
       "\n",
       "    .dataframe thead th {\n",
       "        text-align: right;\n",
       "    }\n",
       "</style>\n",
       "<table border=\"1\" class=\"dataframe\">\n",
       "  <thead>\n",
       "    <tr style=\"text-align: right;\">\n",
       "      <th></th>\n",
       "      <th>speaker</th>\n",
       "      <th>interval_id</th>\n",
       "      <th>duration</th>\n",
       "      <th>start_time_string</th>\n",
       "      <th>end_time_string</th>\n",
       "      <th>video_link</th>\n",
       "      <th>max_frames_token</th>\n",
       "      <th>max_token_frames_token_idx</th>\n",
       "    </tr>\n",
       "  </thead>\n",
       "  <tbody>\n",
       "    <tr>\n",
       "      <th>1033</th>\n",
       "      <td>oliver</td>\n",
       "      <td>216686</td>\n",
       "      <td>1.87</td>\n",
       "      <td>00:05:21.45</td>\n",
       "      <td>00:05:23.32</td>\n",
       "      <td>http://www.youtube.com/watch?v=K4NRJoCNHIs</td>\n",
       "      <td>-1</td>\n",
       "      <td>-1</td>\n",
       "    </tr>\n",
       "    <tr>\n",
       "      <th>4508</th>\n",
       "      <td>oliver</td>\n",
       "      <td>103736</td>\n",
       "      <td>1.07</td>\n",
       "      <td>00:07:34.38</td>\n",
       "      <td>00:07:35.45</td>\n",
       "      <td>http://www.youtube.com/watch?v=4Z4j2CrJRn4</td>\n",
       "      <td>-1</td>\n",
       "      <td>-1</td>\n",
       "    </tr>\n",
       "    <tr>\n",
       "      <th>1074</th>\n",
       "      <td>oliver</td>\n",
       "      <td>214696</td>\n",
       "      <td>15.08</td>\n",
       "      <td>00:13:10.29</td>\n",
       "      <td>00:13:25.37</td>\n",
       "      <td>https://www.youtube.com/watch?v=poL7l-Uk3I8</td>\n",
       "      <td>163</td>\n",
       "      <td>16</td>\n",
       "    </tr>\n",
       "    <tr>\n",
       "      <th>666</th>\n",
       "      <td>oliver</td>\n",
       "      <td>214941</td>\n",
       "      <td>6.07</td>\n",
       "      <td>00:01:49.50</td>\n",
       "      <td>00:01:55.58</td>\n",
       "      <td>https://www.youtube.com/watch?v=Kye2oX-b39E</td>\n",
       "      <td>-1</td>\n",
       "      <td>-1</td>\n",
       "    </tr>\n",
       "    <tr>\n",
       "      <th>3844</th>\n",
       "      <td>oliver</td>\n",
       "      <td>101277</td>\n",
       "      <td>6.21</td>\n",
       "      <td>00:08:53.6</td>\n",
       "      <td>00:08:59.27</td>\n",
       "      <td>http://www.youtube.com/watch?v=Nn_Zln_4pA8</td>\n",
       "      <td>-1</td>\n",
       "      <td>-1</td>\n",
       "    </tr>\n",
       "  </tbody>\n",
       "</table>\n",
       "</div>"
      ],
      "text/plain": [
       "     speaker interval_id  duration start_time_string end_time_string  \\\n",
       "1033  oliver      216686      1.87       00:05:21.45     00:05:23.32   \n",
       "4508  oliver      103736      1.07       00:07:34.38     00:07:35.45   \n",
       "1074  oliver      214696     15.08       00:13:10.29     00:13:25.37   \n",
       "666   oliver      214941      6.07       00:01:49.50     00:01:55.58   \n",
       "3844  oliver      101277      6.21        00:08:53.6     00:08:59.27   \n",
       "\n",
       "                                       video_link  max_frames_token  \\\n",
       "1033   http://www.youtube.com/watch?v=K4NRJoCNHIs                -1   \n",
       "4508   http://www.youtube.com/watch?v=4Z4j2CrJRn4                -1   \n",
       "1074  https://www.youtube.com/watch?v=poL7l-Uk3I8               163   \n",
       "666   https://www.youtube.com/watch?v=Kye2oX-b39E                -1   \n",
       "3844   http://www.youtube.com/watch?v=Nn_Zln_4pA8                -1   \n",
       "\n",
       "      max_token_frames_token_idx  \n",
       "1033                          -1  \n",
       "4508                          -1  \n",
       "1074                          16  \n",
       "666                           -1  \n",
       "3844                          -1  "
      ]
     },
     "execution_count": 60,
     "metadata": {},
     "output_type": "execute_result"
    }
   ],
   "source": [
    "df_intervals[~(df_intervals['valid_max_token_duration'])].sample(n=5)[COLS_VIEW + ['max_frames_token', 'max_token_frames_token_idx']]"
   ]
  },
  {
   "cell_type": "code",
   "execution_count": 61,
   "metadata": {},
   "outputs": [
    {
     "data": {
      "text/html": [
       "<div>\n",
       "<style scoped>\n",
       "    .dataframe tbody tr th:only-of-type {\n",
       "        vertical-align: middle;\n",
       "    }\n",
       "\n",
       "    .dataframe tbody tr th {\n",
       "        vertical-align: top;\n",
       "    }\n",
       "\n",
       "    .dataframe thead th {\n",
       "        text-align: right;\n",
       "    }\n",
       "</style>\n",
       "<table border=\"1\" class=\"dataframe\">\n",
       "  <thead>\n",
       "    <tr style=\"text-align: right;\">\n",
       "      <th></th>\n",
       "      <th>speaker</th>\n",
       "      <th>interval_id</th>\n",
       "      <th>duration</th>\n",
       "      <th>start_time_string</th>\n",
       "      <th>end_time_string</th>\n",
       "      <th>video_link</th>\n",
       "      <th>max_frames_token</th>\n",
       "      <th>max_token_frames_token_idx</th>\n",
       "    </tr>\n",
       "  </thead>\n",
       "  <tbody>\n",
       "  </tbody>\n",
       "</table>\n",
       "</div>"
      ],
      "text/plain": [
       "Empty DataFrame\n",
       "Columns: [speaker, interval_id, duration, start_time_string, end_time_string, video_link, max_frames_token, max_token_frames_token_idx]\n",
       "Index: []"
      ]
     },
     "execution_count": 61,
     "metadata": {},
     "output_type": "execute_result"
    }
   ],
   "source": [
    "df_intervals[df_intervals['interval_id'] == 'cmu0000034989'][COLS_VIEW + ['max_frames_token', 'max_token_frames_token_idx']]"
   ]
  },
  {
   "cell_type": "code",
   "execution_count": 62,
   "metadata": {},
   "outputs": [
    {
     "data": {
      "text/plain": [
       "'fired her Trump Administration office and did it like that photoshoot'"
      ]
     },
     "execution_count": 62,
     "metadata": {},
     "output_type": "execute_result"
    }
   ],
   "source": [
    "read_text_str('cmu0000042143')"
   ]
  },
  {
   "cell_type": "code",
   "execution_count": 63,
   "metadata": {},
   "outputs": [
    {
     "data": {
      "text/html": [
       "<div>\n",
       "<style scoped>\n",
       "    .dataframe tbody tr th:only-of-type {\n",
       "        vertical-align: middle;\n",
       "    }\n",
       "\n",
       "    .dataframe tbody tr th {\n",
       "        vertical-align: top;\n",
       "    }\n",
       "\n",
       "    .dataframe thead th {\n",
       "        text-align: right;\n",
       "    }\n",
       "</style>\n",
       "<table border=\"1\" class=\"dataframe\">\n",
       "  <thead>\n",
       "    <tr style=\"text-align: right;\">\n",
       "      <th></th>\n",
       "      <th>word</th>\n",
       "      <th>start_frame</th>\n",
       "      <th>end_frame</th>\n",
       "      <th>frames_count</th>\n",
       "    </tr>\n",
       "  </thead>\n",
       "  <tbody>\n",
       "    <tr>\n",
       "      <th>100</th>\n",
       "      <td>know</td>\n",
       "      <td>534</td>\n",
       "      <td>537</td>\n",
       "      <td>3</td>\n",
       "    </tr>\n",
       "    <tr>\n",
       "      <th>101</th>\n",
       "      <td>what</td>\n",
       "      <td>537</td>\n",
       "      <td>540</td>\n",
       "      <td>3</td>\n",
       "    </tr>\n",
       "    <tr>\n",
       "      <th>102</th>\n",
       "      <td>I</td>\n",
       "      <td>540</td>\n",
       "      <td>542</td>\n",
       "      <td>2</td>\n",
       "    </tr>\n",
       "    <tr>\n",
       "      <th>103</th>\n",
       "      <td>bring</td>\n",
       "      <td>542</td>\n",
       "      <td>542</td>\n",
       "      <td>0</td>\n",
       "    </tr>\n",
       "    <tr>\n",
       "      <th>104</th>\n",
       "      <td>it</td>\n",
       "      <td>542</td>\n",
       "      <td>545</td>\n",
       "      <td>3</td>\n",
       "    </tr>\n",
       "    <tr>\n",
       "      <th>105</th>\n",
       "      <td>up</td>\n",
       "      <td>545</td>\n",
       "      <td>546</td>\n",
       "      <td>1</td>\n",
       "    </tr>\n",
       "    <tr>\n",
       "      <th>106</th>\n",
       "      <td>because</td>\n",
       "      <td>546</td>\n",
       "      <td>548</td>\n",
       "      <td>2</td>\n",
       "    </tr>\n",
       "    <tr>\n",
       "      <th>107</th>\n",
       "      <td>also</td>\n",
       "      <td>548</td>\n",
       "      <td>699</td>\n",
       "      <td>151</td>\n",
       "    </tr>\n",
       "    <tr>\n",
       "      <th>108</th>\n",
       "      <td>I</td>\n",
       "      <td>699</td>\n",
       "      <td>702</td>\n",
       "      <td>3</td>\n",
       "    </tr>\n",
       "    <tr>\n",
       "      <th>109</th>\n",
       "      <td>don't</td>\n",
       "      <td>702</td>\n",
       "      <td>704</td>\n",
       "      <td>2</td>\n",
       "    </tr>\n",
       "  </tbody>\n",
       "</table>\n",
       "</div>"
      ],
      "text/plain": [
       "        word  start_frame  end_frame  frames_count\n",
       "100     know          534        537             3\n",
       "101     what          537        540             3\n",
       "102        I          540        542             2\n",
       "103    bring          542        542             0\n",
       "104       it          542        545             3\n",
       "105       up          545        546             1\n",
       "106  because          546        548             2\n",
       "107     also          548        699           151\n",
       "108        I          699        702             3\n",
       "109    don't          702        704             2"
      ]
     },
     "execution_count": 63,
     "metadata": {},
     "output_type": "execute_result"
    }
   ],
   "source": [
    "read_text('cmu0000040509')[100:110]"
   ]
  },
  {
   "cell_type": "markdown",
   "metadata": {},
   "source": [
    "### Multiple Words Per Frame (`valid_single_token_per_frame`)"
   ]
  },
  {
   "cell_type": "code",
   "execution_count": 64,
   "metadata": {
    "jupyter": {
     "source_hidden": true
    }
   },
   "outputs": [
    {
     "name": "stdout",
     "output_type": "stream",
     "text": [
      "Start token unique: False\n"
     ]
    },
    {
     "data": {
      "text/html": [
       "<div>\n",
       "<style scoped>\n",
       "    .dataframe tbody tr th:only-of-type {\n",
       "        vertical-align: middle;\n",
       "    }\n",
       "\n",
       "    .dataframe tbody tr th {\n",
       "        vertical-align: top;\n",
       "    }\n",
       "\n",
       "    .dataframe thead th {\n",
       "        text-align: right;\n",
       "    }\n",
       "</style>\n",
       "<table border=\"1\" class=\"dataframe\">\n",
       "  <thead>\n",
       "    <tr style=\"text-align: right;\">\n",
       "      <th></th>\n",
       "      <th>word</th>\n",
       "      <th>start_frame</th>\n",
       "      <th>end_frame</th>\n",
       "      <th>frames_count</th>\n",
       "    </tr>\n",
       "  </thead>\n",
       "  <tbody>\n",
       "    <tr>\n",
       "      <th>24</th>\n",
       "      <td>felt</td>\n",
       "      <td>149</td>\n",
       "      <td>154</td>\n",
       "      <td>5</td>\n",
       "    </tr>\n",
       "    <tr>\n",
       "      <th>25</th>\n",
       "      <td>that</td>\n",
       "      <td>154</td>\n",
       "      <td>155</td>\n",
       "      <td>1</td>\n",
       "    </tr>\n",
       "    <tr>\n",
       "      <th>26</th>\n",
       "      <td>you</td>\n",
       "      <td>155</td>\n",
       "      <td>157</td>\n",
       "      <td>2</td>\n",
       "    </tr>\n",
       "    <tr>\n",
       "      <th>27</th>\n",
       "      <td>need</td>\n",
       "      <td>157</td>\n",
       "      <td>160</td>\n",
       "      <td>3</td>\n",
       "    </tr>\n",
       "    <tr>\n",
       "      <th>28</th>\n",
       "      <td>to</td>\n",
       "      <td>160</td>\n",
       "      <td>161</td>\n",
       "      <td>1</td>\n",
       "    </tr>\n",
       "    <tr>\n",
       "      <th>29</th>\n",
       "      <td>do</td>\n",
       "      <td>161</td>\n",
       "      <td>163</td>\n",
       "      <td>2</td>\n",
       "    </tr>\n",
       "    <tr>\n",
       "      <th>30</th>\n",
       "      <td>you</td>\n",
       "      <td>163</td>\n",
       "      <td>181</td>\n",
       "      <td>18</td>\n",
       "    </tr>\n",
       "    <tr>\n",
       "      <th>31</th>\n",
       "      <td>need</td>\n",
       "      <td>181</td>\n",
       "      <td>181</td>\n",
       "      <td>0</td>\n",
       "    </tr>\n",
       "    <tr>\n",
       "      <th>32</th>\n",
       "      <td>to</td>\n",
       "      <td>181</td>\n",
       "      <td>184</td>\n",
       "      <td>3</td>\n",
       "    </tr>\n",
       "    <tr>\n",
       "      <th>33</th>\n",
       "      <td>get</td>\n",
       "      <td>184</td>\n",
       "      <td>185</td>\n",
       "      <td>1</td>\n",
       "    </tr>\n",
       "    <tr>\n",
       "      <th>34</th>\n",
       "      <td>them</td>\n",
       "      <td>185</td>\n",
       "      <td>190</td>\n",
       "      <td>5</td>\n",
       "    </tr>\n",
       "    <tr>\n",
       "      <th>35</th>\n",
       "      <td>check</td>\n",
       "      <td>190</td>\n",
       "      <td>197</td>\n",
       "      <td>7</td>\n",
       "    </tr>\n",
       "    <tr>\n",
       "      <th>36</th>\n",
       "      <td>okay</td>\n",
       "      <td>197</td>\n",
       "      <td>251</td>\n",
       "      <td>54</td>\n",
       "    </tr>\n",
       "    <tr>\n",
       "      <th>37</th>\n",
       "      <td>and</td>\n",
       "      <td>251</td>\n",
       "      <td>257</td>\n",
       "      <td>6</td>\n",
       "    </tr>\n",
       "    <tr>\n",
       "      <th>38</th>\n",
       "      <td>also</td>\n",
       "      <td>257</td>\n",
       "      <td>262</td>\n",
       "      <td>5</td>\n",
       "    </tr>\n",
       "    <tr>\n",
       "      <th>39</th>\n",
       "      <td>I</td>\n",
       "      <td>262</td>\n",
       "      <td>272</td>\n",
       "      <td>10</td>\n",
       "    </tr>\n",
       "  </tbody>\n",
       "</table>\n",
       "</div>"
      ],
      "text/plain": [
       "     word  start_frame  end_frame  frames_count\n",
       "24   felt          149        154             5\n",
       "25   that          154        155             1\n",
       "26    you          155        157             2\n",
       "27   need          157        160             3\n",
       "28     to          160        161             1\n",
       "29     do          161        163             2\n",
       "30    you          163        181            18\n",
       "31   need          181        181             0\n",
       "32     to          181        184             3\n",
       "33    get          184        185             1\n",
       "34   them          185        190             5\n",
       "35  check          190        197             7\n",
       "36   okay          197        251            54\n",
       "37    and          251        257             6\n",
       "38   also          257        262             5\n",
       "39      I          262        272            10"
      ]
     },
     "execution_count": 64,
     "metadata": {},
     "output_type": "execute_result"
    }
   ],
   "source": [
    "df_tokens = read_text('cmu0000035126')\n",
    "# printmd(f'**Video path**: {resolve_interval_video_path(\"101204\")}')\n",
    "# printmd(f'**Text path**: {resolve_interval_text_path(\"101204\")}')\n",
    "print(f'Start token unique: {df_tokens[\"start_frame\"].is_unique}')\n",
    "df_tokens[24:40]"
   ]
  },
  {
   "cell_type": "code",
   "execution_count": 65,
   "metadata": {
    "jupyter": {
     "source_hidden": true
    }
   },
   "outputs": [],
   "source": [
    "MAX_TOKENS_PER_FRAME_LIMIT = 3 # allow not more two tokens with the same start frame\n",
    "\n",
    "def valid_single_frame_tokens_count(interval_id):\n",
    "    df_tokens = interval_id_to_df_words.get(interval_id)\n",
    "    if df_tokens is None:\n",
    "        return False\n",
    "    max_tokens_per_frame = df_tokens['start_frame'].value_counts().max()\n",
    "    return max_tokens_per_frame <= MAX_TOKENS_PER_FRAME_LIMIT"
   ]
  },
  {
   "cell_type": "code",
   "execution_count": 66,
   "metadata": {
    "jupyter": {
     "source_hidden": true
    }
   },
   "outputs": [],
   "source": [
    "df_intervals['valid_single_token_per_frame'] = df_intervals['interval_id'].apply(valid_single_frame_tokens_count)"
   ]
  },
  {
   "cell_type": "code",
   "execution_count": 67,
   "metadata": {
    "jupyter": {
     "source_hidden": true
    }
   },
   "outputs": [
    {
     "data": {
      "text/html": [
       "<style  type=\"text/css\" >\n",
       "    #T_d8ce9cd4_7c4a_11ec_b7db_97c1a56176e3 caption {\n",
       "          color: blue;\n",
       "          font-size: 16px;\n",
       "    }</style><table id=\"T_d8ce9cd4_7c4a_11ec_b7db_97c1a56176e3\" ><caption>Max of 3 tokens per frame</caption><thead>    <tr>        <th class=\"blank level0\" ></th>        <th class=\"col_heading level0 col0\" >valid_single_token_per_frame</th>    </tr></thead><tbody>\n",
       "                <tr>\n",
       "                        <th id=\"T_d8ce9cd4_7c4a_11ec_b7db_97c1a56176e3level0_row0\" class=\"row_heading level0 row0\" >True</th>\n",
       "                        <td id=\"T_d8ce9cd4_7c4a_11ec_b7db_97c1a56176e3row0_col0\" class=\"data row0 col0\" >4089</td>\n",
       "            </tr>\n",
       "            <tr>\n",
       "                        <th id=\"T_d8ce9cd4_7c4a_11ec_b7db_97c1a56176e3level0_row1\" class=\"row_heading level0 row1\" >False</th>\n",
       "                        <td id=\"T_d8ce9cd4_7c4a_11ec_b7db_97c1a56176e3row1_col0\" class=\"data row1 col0\" >540</td>\n",
       "            </tr>\n",
       "    </tbody></table>"
      ],
      "text/plain": [
       "<pandas.io.formats.style.Styler at 0x7f1687ae4550>"
      ]
     },
     "metadata": {},
     "output_type": "display_data"
    }
   ],
   "source": [
    "display_value_counts(df_intervals['valid_single_token_per_frame'], f'Max of {MAX_TOKENS_PER_FRAME_LIMIT} tokens per frame')"
   ]
  },
  {
   "cell_type": "code",
   "execution_count": 68,
   "metadata": {},
   "outputs": [
    {
     "data": {
      "text/html": [
       "<style  type=\"text/css\" >\n",
       "    #T_d8ce9cd5_7c4a_11ec_b7db_97c1a56176e3 caption {\n",
       "          color: blue;\n",
       "          font-size: 16px;\n",
       "    }</style><table id=\"T_d8ce9cd5_7c4a_11ec_b7db_97c1a56176e3\" ><caption>Valid so far</caption><thead>    <tr>        <th class=\"blank level0\" ></th>        <th class=\"col_heading level0 col0\" >0</th>    </tr></thead><tbody>\n",
       "                <tr>\n",
       "                        <th id=\"T_d8ce9cd5_7c4a_11ec_b7db_97c1a56176e3level0_row0\" class=\"row_heading level0 row0\" >True</th>\n",
       "                        <td id=\"T_d8ce9cd5_7c4a_11ec_b7db_97c1a56176e3row0_col0\" class=\"data row0 col0\" >4014</td>\n",
       "            </tr>\n",
       "            <tr>\n",
       "                        <th id=\"T_d8ce9cd5_7c4a_11ec_b7db_97c1a56176e3level0_row1\" class=\"row_heading level0 row1\" >False</th>\n",
       "                        <td id=\"T_d8ce9cd5_7c4a_11ec_b7db_97c1a56176e3row1_col0\" class=\"data row1 col0\" >615</td>\n",
       "            </tr>\n",
       "    </tbody></table>"
      ],
      "text/plain": [
       "<pandas.io.formats.style.Styler at 0x7f1687ae4cc0>"
      ]
     },
     "metadata": {},
     "output_type": "display_data"
    }
   ],
   "source": [
    "display_value_counts(\n",
    "    (df_intervals['valid_single_token_per_frame']) & (df_intervals['valid_max_token_duration']),\n",
    "    'Valid so far'\n",
    ")"
   ]
  },
  {
   "cell_type": "markdown",
   "metadata": {},
   "source": [
    "### Frame Count (`valid_frames_count`)"
   ]
  },
  {
   "cell_type": "code",
   "execution_count": 69,
   "metadata": {
    "jupyter": {
     "source_hidden": true
    }
   },
   "outputs": [],
   "source": [
    "def valid_interval_frame_count(interval_id, duration):\n",
    "    df_tokens = interval_id_to_df_words.get(interval_id)\n",
    "    if df_tokens is None:\n",
    "        return False\n",
    "    total_frames = df_tokens['end_frame'].max()\n",
    "    max_tokens_per_frame = df_tokens['start_frame'].value_counts().max()\n",
    "    lower_bound = (duration - 2) * FRAME_RATE\n",
    "    upper_bound = (duration + 1) * FRAME_RATE\n",
    "    is_valid = lower_bound <= total_frames <= upper_bound\n",
    "    debug_symbol = '✓' if is_valid else '✗'\n",
    "    if interval_id in df_intervals['interval_id'][:10].tolist():\n",
    "        print(debug_symbol, interval_id, round(lower_bound, 2), total_frames, round(upper_bound, 2))\n",
    "    return lower_bound <= total_frames <= upper_bound"
   ]
  },
  {
   "cell_type": "code",
   "execution_count": 70,
   "metadata": {
    "jupyter": {
     "source_hidden": true
    }
   },
   "outputs": [
    {
     "name": "stdout",
     "output_type": "stream",
     "text": [
      "✓ 214428 153.18 184 198.18\n",
      "✓ 214429 62.09 93 107.09\n",
      "✗ 214430 1506.54 1482 1551.54\n",
      "✓ 214431 73.1 104 118.1\n",
      "✓ 214433 212.24 241 257.24\n",
      "✓ 214434 368.4 396 413.4\n",
      "✓ 214435 70.1 101 115.1\n",
      "✓ 214436 61.09 92 106.09\n",
      "✓ 214438 1164.19 1190 1209.19\n",
      "✗ 214439 124.15 123 169.15\n"
     ]
    }
   ],
   "source": [
    "df_intervals['valid_frames_count'] = df_intervals[['interval_id', 'duration']].apply(lambda x: valid_interval_frame_count(*x), axis=1)"
   ]
  },
  {
   "cell_type": "code",
   "execution_count": 71,
   "metadata": {
    "jupyter": {
     "source_hidden": true
    }
   },
   "outputs": [
    {
     "data": {
      "text/html": [
       "<style  type=\"text/css\" >\n",
       "    #T_da6a2cf2_7c4a_11ec_b7db_97c1a56176e3 caption {\n",
       "          color: blue;\n",
       "          font-size: 16px;\n",
       "    }</style><table id=\"T_da6a2cf2_7c4a_11ec_b7db_97c1a56176e3\" ><caption>Frame Count = Frame Rate * Seconds</caption><thead>    <tr>        <th class=\"blank level0\" ></th>        <th class=\"col_heading level0 col0\" >valid_frames_count</th>    </tr></thead><tbody>\n",
       "                <tr>\n",
       "                        <th id=\"T_da6a2cf2_7c4a_11ec_b7db_97c1a56176e3level0_row0\" class=\"row_heading level0 row0\" >True</th>\n",
       "                        <td id=\"T_da6a2cf2_7c4a_11ec_b7db_97c1a56176e3row0_col0\" class=\"data row0 col0\" >4076</td>\n",
       "            </tr>\n",
       "            <tr>\n",
       "                        <th id=\"T_da6a2cf2_7c4a_11ec_b7db_97c1a56176e3level0_row1\" class=\"row_heading level0 row1\" >False</th>\n",
       "                        <td id=\"T_da6a2cf2_7c4a_11ec_b7db_97c1a56176e3row1_col0\" class=\"data row1 col0\" >553</td>\n",
       "            </tr>\n",
       "    </tbody></table>"
      ],
      "text/plain": [
       "<pandas.io.formats.style.Styler at 0x7f1687aeef98>"
      ]
     },
     "metadata": {},
     "output_type": "display_data"
    }
   ],
   "source": [
    "display_value_counts(df_intervals['valid_frames_count'], f'Frame Count = Frame Rate * Seconds')"
   ]
  },
  {
   "cell_type": "code",
   "execution_count": 72,
   "metadata": {},
   "outputs": [
    {
     "data": {
      "text/html": [
       "<style  type=\"text/css\" >\n",
       "    #T_da6a2cf3_7c4a_11ec_b7db_97c1a56176e3 caption {\n",
       "          color: blue;\n",
       "          font-size: 16px;\n",
       "    }</style><table id=\"T_da6a2cf3_7c4a_11ec_b7db_97c1a56176e3\" ><caption>Valid so far</caption><thead>    <tr>        <th class=\"blank level0\" ></th>        <th class=\"col_heading level0 col0\" >0</th>    </tr></thead><tbody>\n",
       "                <tr>\n",
       "                        <th id=\"T_da6a2cf3_7c4a_11ec_b7db_97c1a56176e3level0_row0\" class=\"row_heading level0 row0\" >True</th>\n",
       "                        <td id=\"T_da6a2cf3_7c4a_11ec_b7db_97c1a56176e3row0_col0\" class=\"data row0 col0\" >3991</td>\n",
       "            </tr>\n",
       "            <tr>\n",
       "                        <th id=\"T_da6a2cf3_7c4a_11ec_b7db_97c1a56176e3level0_row1\" class=\"row_heading level0 row1\" >False</th>\n",
       "                        <td id=\"T_da6a2cf3_7c4a_11ec_b7db_97c1a56176e3row1_col0\" class=\"data row1 col0\" >638</td>\n",
       "            </tr>\n",
       "    </tbody></table>"
      ],
      "text/plain": [
       "<pandas.io.formats.style.Styler at 0x7f16877f7400>"
      ]
     },
     "metadata": {},
     "output_type": "display_data"
    }
   ],
   "source": [
    "display_value_counts(\n",
    "    ((df_intervals['valid_single_token_per_frame']) &\n",
    "     (df_intervals['valid_max_token_duration']) &\n",
    "     df_intervals['valid_frames_count']),\n",
    "    'Valid so far'\n",
    ")"
   ]
  },
  {
   "cell_type": "code",
   "execution_count": 73,
   "metadata": {
    "jupyter": {
     "source_hidden": true
    }
   },
   "outputs": [
    {
     "data": {
      "text/html": [
       "<div>\n",
       "<style scoped>\n",
       "    .dataframe tbody tr th:only-of-type {\n",
       "        vertical-align: middle;\n",
       "    }\n",
       "\n",
       "    .dataframe tbody tr th {\n",
       "        vertical-align: top;\n",
       "    }\n",
       "\n",
       "    .dataframe thead th {\n",
       "        text-align: right;\n",
       "    }\n",
       "</style>\n",
       "<table border=\"1\" class=\"dataframe\">\n",
       "  <thead>\n",
       "    <tr style=\"text-align: right;\">\n",
       "      <th></th>\n",
       "      <th>word</th>\n",
       "      <th>start_frame</th>\n",
       "      <th>end_frame</th>\n",
       "      <th>frames_count</th>\n",
       "    </tr>\n",
       "  </thead>\n",
       "  <tbody>\n",
       "    <tr>\n",
       "      <th>0</th>\n",
       "      <td>granny</td>\n",
       "      <td>0</td>\n",
       "      <td>40</td>\n",
       "      <td>40</td>\n",
       "    </tr>\n",
       "    <tr>\n",
       "      <th>1</th>\n",
       "      <td>you</td>\n",
       "      <td>40</td>\n",
       "      <td>58</td>\n",
       "      <td>18</td>\n",
       "    </tr>\n",
       "    <tr>\n",
       "      <th>2</th>\n",
       "      <td>think</td>\n",
       "      <td>58</td>\n",
       "      <td>62</td>\n",
       "      <td>4</td>\n",
       "    </tr>\n",
       "    <tr>\n",
       "      <th>3</th>\n",
       "      <td>he's</td>\n",
       "      <td>62</td>\n",
       "      <td>65</td>\n",
       "      <td>3</td>\n",
       "    </tr>\n",
       "    <tr>\n",
       "      <th>4</th>\n",
       "      <td>doing</td>\n",
       "      <td>65</td>\n",
       "      <td>67</td>\n",
       "      <td>2</td>\n",
       "    </tr>\n",
       "    <tr>\n",
       "      <th>5</th>\n",
       "      <td>a</td>\n",
       "      <td>67</td>\n",
       "      <td>70</td>\n",
       "      <td>3</td>\n",
       "    </tr>\n",
       "    <tr>\n",
       "      <th>6</th>\n",
       "      <td>good</td>\n",
       "      <td>70</td>\n",
       "      <td>73</td>\n",
       "      <td>3</td>\n",
       "    </tr>\n",
       "    <tr>\n",
       "      <th>7</th>\n",
       "      <td>job</td>\n",
       "      <td>73</td>\n",
       "      <td>76</td>\n",
       "      <td>3</td>\n",
       "    </tr>\n",
       "    <tr>\n",
       "      <th>8</th>\n",
       "      <td>as</td>\n",
       "      <td>76</td>\n",
       "      <td>82</td>\n",
       "      <td>6</td>\n",
       "    </tr>\n",
       "    <tr>\n",
       "      <th>9</th>\n",
       "      <td>president</td>\n",
       "      <td>82</td>\n",
       "      <td>85</td>\n",
       "      <td>3</td>\n",
       "    </tr>\n",
       "    <tr>\n",
       "      <th>10</th>\n",
       "      <td>Orrin</td>\n",
       "      <td>85</td>\n",
       "      <td>101</td>\n",
       "      <td>16</td>\n",
       "    </tr>\n",
       "    <tr>\n",
       "      <th>11</th>\n",
       "      <td>Hatch</td>\n",
       "      <td>101</td>\n",
       "      <td>104</td>\n",
       "      <td>3</td>\n",
       "    </tr>\n",
       "    <tr>\n",
       "      <th>12</th>\n",
       "      <td>you</td>\n",
       "      <td>104</td>\n",
       "      <td>107</td>\n",
       "      <td>3</td>\n",
       "    </tr>\n",
       "    <tr>\n",
       "      <th>13</th>\n",
       "      <td>you</td>\n",
       "      <td>107</td>\n",
       "      <td>109</td>\n",
       "      <td>2</td>\n",
       "    </tr>\n",
       "    <tr>\n",
       "      <th>14</th>\n",
       "      <td>need</td>\n",
       "      <td>109</td>\n",
       "      <td>113</td>\n",
       "      <td>4</td>\n",
       "    </tr>\n",
       "    <tr>\n",
       "      <th>15</th>\n",
       "      <td>to</td>\n",
       "      <td>113</td>\n",
       "      <td>113</td>\n",
       "      <td>0</td>\n",
       "    </tr>\n",
       "    <tr>\n",
       "      <th>16</th>\n",
       "      <td>get</td>\n",
       "      <td>113</td>\n",
       "      <td>116</td>\n",
       "      <td>3</td>\n",
       "    </tr>\n",
       "    <tr>\n",
       "      <th>17</th>\n",
       "      <td>your</td>\n",
       "      <td>116</td>\n",
       "      <td>119</td>\n",
       "      <td>3</td>\n",
       "    </tr>\n",
       "    <tr>\n",
       "      <th>18</th>\n",
       "      <td>imaginary</td>\n",
       "      <td>119</td>\n",
       "      <td>127</td>\n",
       "      <td>8</td>\n",
       "    </tr>\n",
       "    <tr>\n",
       "      <th>19</th>\n",
       "      <td>glasses</td>\n",
       "      <td>127</td>\n",
       "      <td>130</td>\n",
       "      <td>3</td>\n",
       "    </tr>\n",
       "  </tbody>\n",
       "</table>\n",
       "</div>"
      ],
      "text/plain": [
       "         word  start_frame  end_frame  frames_count\n",
       "0      granny            0         40            40\n",
       "1         you           40         58            18\n",
       "2       think           58         62             4\n",
       "3        he's           62         65             3\n",
       "4       doing           65         67             2\n",
       "5           a           67         70             3\n",
       "6        good           70         73             3\n",
       "7         job           73         76             3\n",
       "8          as           76         82             6\n",
       "9   president           82         85             3\n",
       "10      Orrin           85        101            16\n",
       "11      Hatch          101        104             3\n",
       "12        you          104        107             3\n",
       "13        you          107        109             2\n",
       "14       need          109        113             4\n",
       "15         to          113        113             0\n",
       "16        get          113        116             3\n",
       "17       your          116        119             3\n",
       "18  imaginary          119        127             8\n",
       "19    glasses          127        130             3"
      ]
     },
     "execution_count": 73,
     "metadata": {},
     "output_type": "execute_result"
    }
   ],
   "source": [
    "read_text('cmu0000035126').head(n=20)"
   ]
  },
  {
   "cell_type": "markdown",
   "metadata": {},
   "source": [
    "## Interval Video"
   ]
  },
  {
   "cell_type": "markdown",
   "metadata": {},
   "source": [
    "### Total Duration (`valid_duration`)"
   ]
  },
  {
   "cell_type": "code",
   "execution_count": 74,
   "metadata": {
    "jupyter": {
     "source_hidden": true
    }
   },
   "outputs": [],
   "source": [
    "MIN_DURATION_SECS_THRESHOLD = 5"
   ]
  },
  {
   "cell_type": "code",
   "execution_count": 75,
   "metadata": {
    "jupyter": {
     "source_hidden": true
    }
   },
   "outputs": [
    {
     "data": {
      "text/plain": [
       "Index(['Unnamed: 0', 'dataset', 'duration', 'end_time', 'interval_id',\n",
       "       'speaker', 'start_time', 'video_fn', 'video_link', 'org_start_time',\n",
       "       'org_end_time', 'start_time_string', 'end_time_string', 'video_id',\n",
       "       'max_frames_token', 'valid', 'valid_max_frames_per_token',\n",
       "       'valid_duration', 'valid_single_token_per_frame', 'video_downloded',\n",
       "       'valid_hd5', 'max_token_frames_token_idx', 'valid_max_token_duration',\n",
       "       'valid_frames_count'],\n",
       "      dtype='object')"
      ]
     },
     "execution_count": 75,
     "metadata": {},
     "output_type": "execute_result"
    }
   ],
   "source": [
    "df_intervals.columns"
   ]
  },
  {
   "cell_type": "code",
   "execution_count": 76,
   "metadata": {
    "jupyter": {
     "source_hidden": true
    }
   },
   "outputs": [],
   "source": [
    "df_intervals['valid_duration'] = MIN_DURATION_SECS_THRESHOLD < df_intervals['duration']"
   ]
  },
  {
   "cell_type": "code",
   "execution_count": 77,
   "metadata": {},
   "outputs": [
    {
     "data": {
      "text/html": [
       "<div>\n",
       "<style scoped>\n",
       "    .dataframe tbody tr th:only-of-type {\n",
       "        vertical-align: middle;\n",
       "    }\n",
       "\n",
       "    .dataframe tbody tr th {\n",
       "        vertical-align: top;\n",
       "    }\n",
       "\n",
       "    .dataframe thead th {\n",
       "        text-align: right;\n",
       "    }\n",
       "</style>\n",
       "<table border=\"1\" class=\"dataframe\">\n",
       "  <thead>\n",
       "    <tr style=\"text-align: right;\">\n",
       "      <th></th>\n",
       "      <th>Unnamed: 0</th>\n",
       "      <th>dataset</th>\n",
       "      <th>duration</th>\n",
       "      <th>end_time</th>\n",
       "      <th>interval_id</th>\n",
       "      <th>speaker</th>\n",
       "      <th>start_time</th>\n",
       "      <th>video_fn</th>\n",
       "      <th>video_link</th>\n",
       "      <th>org_start_time</th>\n",
       "      <th>...</th>\n",
       "      <th>max_frames_token</th>\n",
       "      <th>valid</th>\n",
       "      <th>valid_max_frames_per_token</th>\n",
       "      <th>valid_duration</th>\n",
       "      <th>valid_single_token_per_frame</th>\n",
       "      <th>video_downloded</th>\n",
       "      <th>valid_hd5</th>\n",
       "      <th>max_token_frames_token_idx</th>\n",
       "      <th>valid_max_token_duration</th>\n",
       "      <th>valid_frames_count</th>\n",
       "    </tr>\n",
       "  </thead>\n",
       "  <tbody>\n",
       "    <tr>\n",
       "      <th>751</th>\n",
       "      <td>43931</td>\n",
       "      <td>train</td>\n",
       "      <td>2.34</td>\n",
       "      <td>0 days 00:12:51.470000</td>\n",
       "      <td>216360</td>\n",
       "      <td>oliver</td>\n",
       "      <td>0 days 00:12:49.130000</td>\n",
       "      <td>Debt_Buyers_-_Last_Week_Tonight_with_John_Oliver_HBO-hxUAntt1z2c.mkv</td>\n",
       "      <td>http://www.youtube.com/watch?v=hxUAntt1z2c</td>\n",
       "      <td>0 days 00:12:49.130000</td>\n",
       "      <td>...</td>\n",
       "      <td>14</td>\n",
       "      <td>True</td>\n",
       "      <td>True</td>\n",
       "      <td>False</td>\n",
       "      <td>True</td>\n",
       "      <td>False</td>\n",
       "      <td>True</td>\n",
       "      <td>0</td>\n",
       "      <td>True</td>\n",
       "      <td>True</td>\n",
       "    </tr>\n",
       "    <tr>\n",
       "      <th>1208</th>\n",
       "      <td>44388</td>\n",
       "      <td>train</td>\n",
       "      <td>3.00</td>\n",
       "      <td>0 days 00:12:12.630000</td>\n",
       "      <td>217072</td>\n",
       "      <td>oliver</td>\n",
       "      <td>0 days 00:12:09.620000</td>\n",
       "      <td>FIFA_II_-_Last_Week_Tonight_with_John_Oliver_HBO-qr6ar3xJL_Q.mkv</td>\n",
       "      <td>http://www.youtube.com/watch?v=qr6ar3xJL_Q</td>\n",
       "      <td>0 days 00:12:09.620000</td>\n",
       "      <td>...</td>\n",
       "      <td>46</td>\n",
       "      <td>True</td>\n",
       "      <td>True</td>\n",
       "      <td>False</td>\n",
       "      <td>True</td>\n",
       "      <td>True</td>\n",
       "      <td>True</td>\n",
       "      <td>0</td>\n",
       "      <td>True</td>\n",
       "      <td>True</td>\n",
       "    </tr>\n",
       "    <tr>\n",
       "      <th>3731</th>\n",
       "      <td>46911</td>\n",
       "      <td>dev</td>\n",
       "      <td>2.14</td>\n",
       "      <td>0 days 00:03:07.650000</td>\n",
       "      <td>101715</td>\n",
       "      <td>oliver</td>\n",
       "      <td>0 days 00:03:05.510000</td>\n",
       "      <td>Sugar_-_Last_Week_Tonight_with_John_Oliver_HBO-MepXBJjsNxs.webm</td>\n",
       "      <td>http://www.youtube.com/watch?v=MepXBJjsNxs</td>\n",
       "      <td>0 days 00:03:05.510000</td>\n",
       "      <td>...</td>\n",
       "      <td>19</td>\n",
       "      <td>True</td>\n",
       "      <td>True</td>\n",
       "      <td>False</td>\n",
       "      <td>True</td>\n",
       "      <td>False</td>\n",
       "      <td>True</td>\n",
       "      <td>0</td>\n",
       "      <td>True</td>\n",
       "      <td>True</td>\n",
       "    </tr>\n",
       "    <tr>\n",
       "      <th>3326</th>\n",
       "      <td>46506</td>\n",
       "      <td>train</td>\n",
       "      <td>3.60</td>\n",
       "      <td>0 days 00:15:12.570000</td>\n",
       "      <td>103849</td>\n",
       "      <td>oliver</td>\n",
       "      <td>0 days 00:15:08.970000</td>\n",
       "      <td>Scientific_Studies_-_Last_Week_Tonight_with_John_Oliver_HBO-0Rnq1NpHdmw.webm</td>\n",
       "      <td>http://www.youtube.com/watch?v=0Rnq1NpHdmw</td>\n",
       "      <td>0 days 00:15:08.970000</td>\n",
       "      <td>...</td>\n",
       "      <td>40</td>\n",
       "      <td>True</td>\n",
       "      <td>True</td>\n",
       "      <td>False</td>\n",
       "      <td>True</td>\n",
       "      <td>False</td>\n",
       "      <td>True</td>\n",
       "      <td>0</td>\n",
       "      <td>True</td>\n",
       "      <td>True</td>\n",
       "    </tr>\n",
       "    <tr>\n",
       "      <th>3406</th>\n",
       "      <td>46586</td>\n",
       "      <td>dev</td>\n",
       "      <td>1.94</td>\n",
       "      <td>0 days 00:05:24.220000</td>\n",
       "      <td>104703</td>\n",
       "      <td>oliver</td>\n",
       "      <td>0 days 00:05:22.280000</td>\n",
       "      <td>Stadiums_-_Last_Week_Tonight_with_John_Oliver_HBO-xcwJt4bcnXs.mkv</td>\n",
       "      <td>http://www.youtube.com/watch?v=xcwJt4bcnXs</td>\n",
       "      <td>0 days 00:05:22.280000</td>\n",
       "      <td>...</td>\n",
       "      <td>12</td>\n",
       "      <td>True</td>\n",
       "      <td>True</td>\n",
       "      <td>False</td>\n",
       "      <td>True</td>\n",
       "      <td>False</td>\n",
       "      <td>True</td>\n",
       "      <td>4</td>\n",
       "      <td>True</td>\n",
       "      <td>True</td>\n",
       "    </tr>\n",
       "  </tbody>\n",
       "</table>\n",
       "<p>5 rows × 24 columns</p>\n",
       "</div>"
      ],
      "text/plain": [
       "      Unnamed: 0 dataset  duration                end_time interval_id  \\\n",
       "751        43931   train      2.34  0 days 00:12:51.470000      216360   \n",
       "1208       44388   train      3.00  0 days 00:12:12.630000      217072   \n",
       "3731       46911     dev      2.14  0 days 00:03:07.650000      101715   \n",
       "3326       46506   train      3.60  0 days 00:15:12.570000      103849   \n",
       "3406       46586     dev      1.94  0 days 00:05:24.220000      104703   \n",
       "\n",
       "     speaker              start_time  \\\n",
       "751   oliver  0 days 00:12:49.130000   \n",
       "1208  oliver  0 days 00:12:09.620000   \n",
       "3731  oliver  0 days 00:03:05.510000   \n",
       "3326  oliver  0 days 00:15:08.970000   \n",
       "3406  oliver  0 days 00:05:22.280000   \n",
       "\n",
       "                                                                          video_fn  \\\n",
       "751           Debt_Buyers_-_Last_Week_Tonight_with_John_Oliver_HBO-hxUAntt1z2c.mkv   \n",
       "1208              FIFA_II_-_Last_Week_Tonight_with_John_Oliver_HBO-qr6ar3xJL_Q.mkv   \n",
       "3731               Sugar_-_Last_Week_Tonight_with_John_Oliver_HBO-MepXBJjsNxs.webm   \n",
       "3326  Scientific_Studies_-_Last_Week_Tonight_with_John_Oliver_HBO-0Rnq1NpHdmw.webm   \n",
       "3406             Stadiums_-_Last_Week_Tonight_with_John_Oliver_HBO-xcwJt4bcnXs.mkv   \n",
       "\n",
       "                                      video_link          org_start_time  ...  \\\n",
       "751   http://www.youtube.com/watch?v=hxUAntt1z2c  0 days 00:12:49.130000  ...   \n",
       "1208  http://www.youtube.com/watch?v=qr6ar3xJL_Q  0 days 00:12:09.620000  ...   \n",
       "3731  http://www.youtube.com/watch?v=MepXBJjsNxs  0 days 00:03:05.510000  ...   \n",
       "3326  http://www.youtube.com/watch?v=0Rnq1NpHdmw  0 days 00:15:08.970000  ...   \n",
       "3406  http://www.youtube.com/watch?v=xcwJt4bcnXs  0 days 00:05:22.280000  ...   \n",
       "\n",
       "     max_frames_token valid valid_max_frames_per_token valid_duration  \\\n",
       "751                14  True                       True          False   \n",
       "1208               46  True                       True          False   \n",
       "3731               19  True                       True          False   \n",
       "3326               40  True                       True          False   \n",
       "3406               12  True                       True          False   \n",
       "\n",
       "      valid_single_token_per_frame  video_downloded  valid_hd5  \\\n",
       "751                           True            False       True   \n",
       "1208                          True             True       True   \n",
       "3731                          True            False       True   \n",
       "3326                          True            False       True   \n",
       "3406                          True            False       True   \n",
       "\n",
       "      max_token_frames_token_idx  valid_max_token_duration  valid_frames_count  \n",
       "751                            0                      True                True  \n",
       "1208                           0                      True                True  \n",
       "3731                           0                      True                True  \n",
       "3326                           0                      True                True  \n",
       "3406                           4                      True                True  \n",
       "\n",
       "[5 rows x 24 columns]"
      ]
     },
     "execution_count": 77,
     "metadata": {},
     "output_type": "execute_result"
    }
   ],
   "source": [
    "df_intervals[~df_intervals['valid_duration']].sample(n=5)"
   ]
  },
  {
   "cell_type": "code",
   "execution_count": 78,
   "metadata": {},
   "outputs": [
    {
     "data": {
      "text/html": [
       "<div>\n",
       "<style scoped>\n",
       "    .dataframe tbody tr th:only-of-type {\n",
       "        vertical-align: middle;\n",
       "    }\n",
       "\n",
       "    .dataframe tbody tr th {\n",
       "        vertical-align: top;\n",
       "    }\n",
       "\n",
       "    .dataframe thead th {\n",
       "        text-align: right;\n",
       "    }\n",
       "</style>\n",
       "<table border=\"1\" class=\"dataframe\">\n",
       "  <thead>\n",
       "    <tr style=\"text-align: right;\">\n",
       "      <th></th>\n",
       "      <th>word</th>\n",
       "      <th>start_frame</th>\n",
       "      <th>end_frame</th>\n",
       "      <th>frames_count</th>\n",
       "    </tr>\n",
       "  </thead>\n",
       "  <tbody>\n",
       "    <tr>\n",
       "      <th>0</th>\n",
       "      <td>Russia</td>\n",
       "      <td>0</td>\n",
       "      <td>70</td>\n",
       "      <td>70</td>\n",
       "    </tr>\n",
       "  </tbody>\n",
       "</table>\n",
       "</div>"
      ],
      "text/plain": [
       "     word  start_frame  end_frame  frames_count\n",
       "0  Russia            0         70            70"
      ]
     },
     "execution_count": 78,
     "metadata": {},
     "output_type": "execute_result"
    }
   ],
   "source": [
    "read_text('216588')"
   ]
  },
  {
   "cell_type": "code",
   "execution_count": 79,
   "metadata": {},
   "outputs": [
    {
     "data": {
      "text/html": [
       "<div>\n",
       "<style scoped>\n",
       "    .dataframe tbody tr th:only-of-type {\n",
       "        vertical-align: middle;\n",
       "    }\n",
       "\n",
       "    .dataframe tbody tr th {\n",
       "        vertical-align: top;\n",
       "    }\n",
       "\n",
       "    .dataframe thead th {\n",
       "        text-align: right;\n",
       "    }\n",
       "</style>\n",
       "<table border=\"1\" class=\"dataframe\">\n",
       "  <thead>\n",
       "    <tr style=\"text-align: right;\">\n",
       "      <th></th>\n",
       "      <th>word</th>\n",
       "      <th>start_frame</th>\n",
       "      <th>end_frame</th>\n",
       "      <th>frames_count</th>\n",
       "    </tr>\n",
       "  </thead>\n",
       "  <tbody>\n",
       "    <tr>\n",
       "      <th>0</th>\n",
       "      <td>this</td>\n",
       "      <td>0</td>\n",
       "      <td>2</td>\n",
       "      <td>2</td>\n",
       "    </tr>\n",
       "    <tr>\n",
       "      <th>1</th>\n",
       "      <td>is</td>\n",
       "      <td>2</td>\n",
       "      <td>5</td>\n",
       "      <td>3</td>\n",
       "    </tr>\n",
       "    <tr>\n",
       "      <th>2</th>\n",
       "      <td>clearly</td>\n",
       "      <td>5</td>\n",
       "      <td>8</td>\n",
       "      <td>3</td>\n",
       "    </tr>\n",
       "    <tr>\n",
       "      <th>3</th>\n",
       "      <td>pointless</td>\n",
       "      <td>8</td>\n",
       "      <td>32</td>\n",
       "      <td>24</td>\n",
       "    </tr>\n",
       "  </tbody>\n",
       "</table>\n",
       "</div>"
      ],
      "text/plain": [
       "        word  start_frame  end_frame  frames_count\n",
       "0       this            0          2             2\n",
       "1         is            2          5             3\n",
       "2    clearly            5          8             3\n",
       "3  pointless            8         32            24"
      ]
     },
     "execution_count": 79,
     "metadata": {},
     "output_type": "execute_result"
    }
   ],
   "source": [
    "read_text('214181')"
   ]
  },
  {
   "cell_type": "code",
   "execution_count": 80,
   "metadata": {},
   "outputs": [
    {
     "data": {
      "text/html": [
       "<div>\n",
       "<style scoped>\n",
       "    .dataframe tbody tr th:only-of-type {\n",
       "        vertical-align: middle;\n",
       "    }\n",
       "\n",
       "    .dataframe tbody tr th {\n",
       "        vertical-align: top;\n",
       "    }\n",
       "\n",
       "    .dataframe thead th {\n",
       "        text-align: right;\n",
       "    }\n",
       "</style>\n",
       "<table border=\"1\" class=\"dataframe\">\n",
       "  <thead>\n",
       "    <tr style=\"text-align: right;\">\n",
       "      <th></th>\n",
       "      <th>word</th>\n",
       "      <th>start_frame</th>\n",
       "      <th>end_frame</th>\n",
       "      <th>frames_count</th>\n",
       "    </tr>\n",
       "  </thead>\n",
       "  <tbody>\n",
       "    <tr>\n",
       "      <th>0</th>\n",
       "      <td>put</td>\n",
       "      <td>0</td>\n",
       "      <td>0</td>\n",
       "      <td>0</td>\n",
       "    </tr>\n",
       "    <tr>\n",
       "      <th>1</th>\n",
       "      <td>it</td>\n",
       "      <td>0</td>\n",
       "      <td>1</td>\n",
       "      <td>1</td>\n",
       "    </tr>\n",
       "    <tr>\n",
       "      <th>2</th>\n",
       "      <td>in</td>\n",
       "      <td>1</td>\n",
       "      <td>4</td>\n",
       "      <td>3</td>\n",
       "    </tr>\n",
       "    <tr>\n",
       "      <th>3</th>\n",
       "      <td>the</td>\n",
       "      <td>4</td>\n",
       "      <td>6</td>\n",
       "      <td>2</td>\n",
       "    </tr>\n",
       "    <tr>\n",
       "      <th>4</th>\n",
       "      <td>microwave</td>\n",
       "      <td>6</td>\n",
       "      <td>6</td>\n",
       "      <td>0</td>\n",
       "    </tr>\n",
       "    <tr>\n",
       "      <th>5</th>\n",
       "      <td>problem</td>\n",
       "      <td>6</td>\n",
       "      <td>18</td>\n",
       "      <td>12</td>\n",
       "    </tr>\n",
       "    <tr>\n",
       "      <th>6</th>\n",
       "      <td>solved</td>\n",
       "      <td>18</td>\n",
       "      <td>22</td>\n",
       "      <td>4</td>\n",
       "    </tr>\n",
       "    <tr>\n",
       "      <th>7</th>\n",
       "      <td>I'm</td>\n",
       "      <td>22</td>\n",
       "      <td>33</td>\n",
       "      <td>11</td>\n",
       "    </tr>\n",
       "    <tr>\n",
       "      <th>8</th>\n",
       "      <td>a</td>\n",
       "      <td>33</td>\n",
       "      <td>33</td>\n",
       "      <td>0</td>\n",
       "    </tr>\n",
       "    <tr>\n",
       "      <th>9</th>\n",
       "      <td>legend</td>\n",
       "      <td>33</td>\n",
       "      <td>70</td>\n",
       "      <td>37</td>\n",
       "    </tr>\n",
       "  </tbody>\n",
       "</table>\n",
       "</div>"
      ],
      "text/plain": [
       "        word  start_frame  end_frame  frames_count\n",
       "0        put            0          0             0\n",
       "1         it            0          1             1\n",
       "2         in            1          4             3\n",
       "3        the            4          6             2\n",
       "4  microwave            6          6             0\n",
       "5    problem            6         18            12\n",
       "6     solved           18         22             4\n",
       "7        I'm           22         33            11\n",
       "8          a           33         33             0\n",
       "9     legend           33         70            37"
      ]
     },
     "execution_count": 80,
     "metadata": {},
     "output_type": "execute_result"
    }
   ],
   "source": [
    "read_text('105239')"
   ]
  },
  {
   "cell_type": "code",
   "execution_count": 81,
   "metadata": {},
   "outputs": [
    {
     "data": {
      "text/html": [
       "<div>\n",
       "<style scoped>\n",
       "    .dataframe tbody tr th:only-of-type {\n",
       "        vertical-align: middle;\n",
       "    }\n",
       "\n",
       "    .dataframe tbody tr th {\n",
       "        vertical-align: top;\n",
       "    }\n",
       "\n",
       "    .dataframe thead th {\n",
       "        text-align: right;\n",
       "    }\n",
       "</style>\n",
       "<table border=\"1\" class=\"dataframe\">\n",
       "  <thead>\n",
       "    <tr style=\"text-align: right;\">\n",
       "      <th></th>\n",
       "      <th>dataset</th>\n",
       "      <th>delta_time</th>\n",
       "      <th>end_time</th>\n",
       "      <th>interval_id</th>\n",
       "      <th>speaker</th>\n",
       "      <th>start_time</th>\n",
       "      <th>video_fn</th>\n",
       "      <th>video_link</th>\n",
       "    </tr>\n",
       "  </thead>\n",
       "  <tbody>\n",
       "    <tr>\n",
       "      <th>44763</th>\n",
       "      <td>train</td>\n",
       "      <td>4.60</td>\n",
       "      <td>2019-06-07 00:01:04.197531</td>\n",
       "      <td>216588</td>\n",
       "      <td>oliver</td>\n",
       "      <td>2019-06-07 00:00:59.592926</td>\n",
       "      <td>GoGetThoseGeckos_-_Last_Week_Tonight_with_John_Oliver_HBO-b436uUuf_VI.mkv</td>\n",
       "      <td>http://www.youtube.com/watch?v=b436uUuf_VI</td>\n",
       "    </tr>\n",
       "  </tbody>\n",
       "</table>\n",
       "</div>"
      ],
      "text/plain": [
       "      dataset  delta_time                    end_time interval_id speaker  \\\n",
       "44763   train        4.60  2019-06-07 00:01:04.197531      216588  oliver   \n",
       "\n",
       "                       start_time  \\\n",
       "44763  2019-06-07 00:00:59.592926   \n",
       "\n",
       "                                                                        video_fn  \\\n",
       "44763  GoGetThoseGeckos_-_Last_Week_Tonight_with_John_Oliver_HBO-b436uUuf_VI.mkv   \n",
       "\n",
       "                                       video_link  \n",
       "44763  http://www.youtube.com/watch?v=b436uUuf_VI  "
      ]
     },
     "execution_count": 81,
     "metadata": {},
     "output_type": "execute_result"
    }
   ],
   "source": [
    "df_intervals_org[df_intervals_org['interval_id'] == '216588']"
   ]
  },
  {
   "cell_type": "code",
   "execution_count": 82,
   "metadata": {
    "jupyter": {
     "source_hidden": true
    }
   },
   "outputs": [
    {
     "data": {
      "text/html": [
       "<style  type=\"text/css\" >\n",
       "    #T_da6a2cf4_7c4a_11ec_b7db_97c1a56176e3 caption {\n",
       "          color: blue;\n",
       "          font-size: 16px;\n",
       "    }</style><table id=\"T_da6a2cf4_7c4a_11ec_b7db_97c1a56176e3\" ><caption>Duration > 5 seconds</caption><thead>    <tr>        <th class=\"blank level0\" ></th>        <th class=\"col_heading level0 col0\" >valid_duration</th>    </tr></thead><tbody>\n",
       "                <tr>\n",
       "                        <th id=\"T_da6a2cf4_7c4a_11ec_b7db_97c1a56176e3level0_row0\" class=\"row_heading level0 row0\" >True</th>\n",
       "                        <td id=\"T_da6a2cf4_7c4a_11ec_b7db_97c1a56176e3row0_col0\" class=\"data row0 col0\" >3281</td>\n",
       "            </tr>\n",
       "            <tr>\n",
       "                        <th id=\"T_da6a2cf4_7c4a_11ec_b7db_97c1a56176e3level0_row1\" class=\"row_heading level0 row1\" >False</th>\n",
       "                        <td id=\"T_da6a2cf4_7c4a_11ec_b7db_97c1a56176e3row1_col0\" class=\"data row1 col0\" >1348</td>\n",
       "            </tr>\n",
       "    </tbody></table>"
      ],
      "text/plain": [
       "<pandas.io.formats.style.Styler at 0x7f16875e5c50>"
      ]
     },
     "metadata": {},
     "output_type": "display_data"
    }
   ],
   "source": [
    "display_value_counts(df_intervals['valid_duration'], f'Duration > {MIN_DURATION_SECS_THRESHOLD} seconds')"
   ]
  },
  {
   "cell_type": "markdown",
   "metadata": {},
   "source": [
    "## Intervals.merge(Videos)"
   ]
  },
  {
   "cell_type": "code",
   "execution_count": 83,
   "metadata": {},
   "outputs": [],
   "source": [
    "# df_intervals.drop('Unnamed: 0', inplace=True, axis=1)\n",
    "# df_intervals.drop('Unnamed: 0.1', inplace=True, axis=1)\n",
    "# df_intervals.drop('duration_total_x', inplace=True, axis=1)"
   ]
  },
  {
   "cell_type": "code",
   "execution_count": 84,
   "metadata": {},
   "outputs": [
    {
     "data": {
      "text/plain": [
       "Index(['Unnamed: 0', 'dataset', 'duration', 'end_time', 'interval_id',\n",
       "       'speaker', 'start_time', 'video_fn', 'video_link', 'org_start_time',\n",
       "       'org_end_time', 'start_time_string', 'end_time_string', 'video_id',\n",
       "       'max_frames_token', 'valid', 'valid_max_frames_per_token',\n",
       "       'valid_duration', 'valid_single_token_per_frame', 'video_downloded',\n",
       "       'valid_hd5', 'max_token_frames_token_idx', 'valid_max_token_duration',\n",
       "       'valid_frames_count'],\n",
       "      dtype='object')"
      ]
     },
     "execution_count": 84,
     "metadata": {},
     "output_type": "execute_result"
    }
   ],
   "source": [
    "df_intervals.columns"
   ]
  },
  {
   "cell_type": "code",
   "execution_count": 85,
   "metadata": {},
   "outputs": [
    {
     "data": {
      "text/plain": [
       "Index(['speaker', 'duration_net', 'video_id', 'video_link', 'duration_total',\n",
       "       'data_ratio'],\n",
       "      dtype='object')"
      ]
     },
     "execution_count": 85,
     "metadata": {},
     "output_type": "execute_result"
    }
   ],
   "source": [
    "df_videos.columns"
   ]
  },
  {
   "cell_type": "code",
   "execution_count": 86,
   "metadata": {},
   "outputs": [
    {
     "data": {
      "text/plain": [
       "{'speaker', 'video_id', 'video_link'}"
      ]
     },
     "execution_count": 86,
     "metadata": {},
     "output_type": "execute_result"
    }
   ],
   "source": [
    "set(df_intervals.columns) & set(df_videos.columns)"
   ]
  },
  {
   "cell_type": "code",
   "execution_count": 87,
   "metadata": {},
   "outputs": [],
   "source": [
    "df_intervals = df_intervals.merge(df_videos, on=['speaker', 'video_id', 'video_link'])"
   ]
  },
  {
   "cell_type": "code",
   "execution_count": 88,
   "metadata": {},
   "outputs": [
    {
     "data": {
      "text/plain": [
       "Index(['Unnamed: 0', 'dataset', 'duration', 'end_time', 'interval_id',\n",
       "       'speaker', 'start_time', 'video_fn', 'video_link', 'org_start_time',\n",
       "       'org_end_time', 'start_time_string', 'end_time_string', 'video_id',\n",
       "       'max_frames_token', 'valid', 'valid_max_frames_per_token',\n",
       "       'valid_duration', 'valid_single_token_per_frame', 'video_downloded',\n",
       "       'valid_hd5', 'max_token_frames_token_idx', 'valid_max_token_duration',\n",
       "       'valid_frames_count', 'duration_net', 'duration_total', 'data_ratio'],\n",
       "      dtype='object')"
      ]
     },
     "execution_count": 88,
     "metadata": {},
     "output_type": "execute_result"
    }
   ],
   "source": [
    "df_intervals.columns"
   ]
  },
  {
   "cell_type": "markdown",
   "metadata": {},
   "source": [
    "### Total Duration (`valid_video_data_ratio`)"
   ]
  },
  {
   "cell_type": "code",
   "execution_count": 89,
   "metadata": {},
   "outputs": [],
   "source": [
    "# The minimal allowed ratio between the total length of the intervals, to the full video length\n",
    "MIN_VIDEO_DATA_RATIO_THRESHOLD = 10"
   ]
  },
  {
   "cell_type": "code",
   "execution_count": 90,
   "metadata": {},
   "outputs": [],
   "source": [
    "df_intervals['valid_video_data_ratio'] = df_intervals['data_ratio'] > MIN_VIDEO_DATA_RATIO_THRESHOLD"
   ]
  },
  {
   "cell_type": "code",
   "execution_count": 91,
   "metadata": {},
   "outputs": [
    {
     "data": {
      "text/html": [
       "<style  type=\"text/css\" >\n",
       "    #T_da6a2cf5_7c4a_11ec_b7db_97c1a56176e3 caption {\n",
       "          color: blue;\n",
       "          font-size: 16px;\n",
       "    }</style><table id=\"T_da6a2cf5_7c4a_11ec_b7db_97c1a56176e3\" ><caption>Video data ratio > 10%</caption><thead>    <tr>        <th class=\"blank level0\" ></th>        <th class=\"col_heading level0 col0\" >valid_video_data_ratio</th>    </tr></thead><tbody>\n",
       "                <tr>\n",
       "                        <th id=\"T_da6a2cf5_7c4a_11ec_b7db_97c1a56176e3level0_row0\" class=\"row_heading level0 row0\" >True</th>\n",
       "                        <td id=\"T_da6a2cf5_7c4a_11ec_b7db_97c1a56176e3row0_col0\" class=\"data row0 col0\" >4628</td>\n",
       "            </tr>\n",
       "            <tr>\n",
       "                        <th id=\"T_da6a2cf5_7c4a_11ec_b7db_97c1a56176e3level0_row1\" class=\"row_heading level0 row1\" >False</th>\n",
       "                        <td id=\"T_da6a2cf5_7c4a_11ec_b7db_97c1a56176e3row1_col0\" class=\"data row1 col0\" >1</td>\n",
       "            </tr>\n",
       "    </tbody></table>"
      ],
      "text/plain": [
       "<pandas.io.formats.style.Styler at 0x7f1687863198>"
      ]
     },
     "metadata": {},
     "output_type": "display_data"
    }
   ],
   "source": [
    "display_value_counts(df_intervals['valid_video_data_ratio'], f'Video data ratio > {MIN_VIDEO_DATA_RATIO_THRESHOLD}%')"
   ]
  },
  {
   "cell_type": "markdown",
   "metadata": {},
   "source": [
    "## Finalize Valid"
   ]
  },
  {
   "cell_type": "code",
   "execution_count": 92,
   "metadata": {
    "jupyter": {
     "source_hidden": true
    }
   },
   "outputs": [
    {
     "data": {
      "text/plain": [
       "['valid_max_frames_per_token',\n",
       " 'valid_duration',\n",
       " 'valid_single_token_per_frame',\n",
       " 'valid_hd5',\n",
       " 'valid_max_token_duration',\n",
       " 'valid_frames_count',\n",
       " 'valid_video_data_ratio']"
      ]
     },
     "execution_count": 92,
     "metadata": {},
     "output_type": "execute_result"
    }
   ],
   "source": [
    "df_intervals.columns[df_intervals.columns.str.contains('valid_')].tolist()"
   ]
  },
  {
   "cell_type": "code",
   "execution_count": 93,
   "metadata": {
    "jupyter": {
     "source_hidden": true
    }
   },
   "outputs": [],
   "source": [
    "df_intervals.drop('valid_max_frames_per_token', axis=1, errors='ignore', inplace=True)"
   ]
  },
  {
   "cell_type": "code",
   "execution_count": 94,
   "metadata": {
    "jupyter": {
     "source_hidden": true
    }
   },
   "outputs": [],
   "source": [
    "COLS_VALID = [\n",
    "    'valid_duration',\n",
    "    'valid_single_token_per_frame',\n",
    "    'valid_hd5',\n",
    "    'valid_max_token_duration',\n",
    "    'valid_frames_count',\n",
    "    'valid_video_data_ratio'\n",
    "]"
   ]
  },
  {
   "cell_type": "code",
   "execution_count": 95,
   "metadata": {},
   "outputs": [
    {
     "data": {
      "text/html": [
       "<div>\n",
       "<style scoped>\n",
       "    .dataframe tbody tr th:only-of-type {\n",
       "        vertical-align: middle;\n",
       "    }\n",
       "\n",
       "    .dataframe tbody tr th {\n",
       "        vertical-align: top;\n",
       "    }\n",
       "\n",
       "    .dataframe thead th {\n",
       "        text-align: right;\n",
       "    }\n",
       "</style>\n",
       "<table border=\"1\" class=\"dataframe\">\n",
       "  <thead>\n",
       "    <tr style=\"text-align: right;\">\n",
       "      <th></th>\n",
       "      <th>records</th>\n",
       "      <th>%records</th>\n",
       "    </tr>\n",
       "  </thead>\n",
       "  <tbody>\n",
       "    <tr>\n",
       "      <th>valid_duration</th>\n",
       "      <td>3281</td>\n",
       "      <td>70.88</td>\n",
       "    </tr>\n",
       "    <tr>\n",
       "      <th>valid_single_token_per_frame</th>\n",
       "      <td>4089</td>\n",
       "      <td>88.33</td>\n",
       "    </tr>\n",
       "    <tr>\n",
       "      <th>valid_hd5</th>\n",
       "      <td>4254</td>\n",
       "      <td>91.90</td>\n",
       "    </tr>\n",
       "    <tr>\n",
       "      <th>valid_max_token_duration</th>\n",
       "      <td>4171</td>\n",
       "      <td>90.11</td>\n",
       "    </tr>\n",
       "    <tr>\n",
       "      <th>valid_frames_count</th>\n",
       "      <td>4076</td>\n",
       "      <td>88.05</td>\n",
       "    </tr>\n",
       "    <tr>\n",
       "      <th>valid_video_data_ratio</th>\n",
       "      <td>4628</td>\n",
       "      <td>99.98</td>\n",
       "    </tr>\n",
       "  </tbody>\n",
       "</table>\n",
       "</div>"
      ],
      "text/plain": [
       "                              records  %records\n",
       "valid_duration                   3281     70.88\n",
       "valid_single_token_per_frame     4089     88.33\n",
       "valid_hd5                        4254     91.90\n",
       "valid_max_token_duration         4171     90.11\n",
       "valid_frames_count               4076     88.05\n",
       "valid_video_data_ratio           4628     99.98"
      ]
     },
     "execution_count": 95,
     "metadata": {},
     "output_type": "execute_result"
    }
   ],
   "source": [
    "total_intervals = len(df_intervals)\n",
    "df_validity_summary = df_intervals[COLS_VALID].sum().to_frame().rename(columns={0: 'records'})\n",
    "df_validity_summary['%records'] = df_validity_summary['records'] / total_intervals * 100\n",
    "df_validity_summary"
   ]
  },
  {
   "cell_type": "code",
   "execution_count": 96,
   "metadata": {
    "jupyter": {
     "source_hidden": true
    }
   },
   "outputs": [
    {
     "data": {
      "text/html": [
       "<style  type=\"text/css\" >\n",
       "    #T_da6a2cf6_7c4a_11ec_b7db_97c1a56176e3 caption {\n",
       "          color: blue;\n",
       "          font-size: 16px;\n",
       "    }</style><table id=\"T_da6a2cf6_7c4a_11ec_b7db_97c1a56176e3\" ><caption>Valid Intervals</caption><thead>    <tr>        <th class=\"blank level0\" ></th>        <th class=\"col_heading level0 col0\" >valid</th>    </tr></thead><tbody>\n",
       "                <tr>\n",
       "                        <th id=\"T_da6a2cf6_7c4a_11ec_b7db_97c1a56176e3level0_row0\" class=\"row_heading level0 row0\" >True</th>\n",
       "                        <td id=\"T_da6a2cf6_7c4a_11ec_b7db_97c1a56176e3row0_col0\" class=\"data row0 col0\" >2952</td>\n",
       "            </tr>\n",
       "            <tr>\n",
       "                        <th id=\"T_da6a2cf6_7c4a_11ec_b7db_97c1a56176e3level0_row1\" class=\"row_heading level0 row1\" >False</th>\n",
       "                        <td id=\"T_da6a2cf6_7c4a_11ec_b7db_97c1a56176e3row1_col0\" class=\"data row1 col0\" >1677</td>\n",
       "            </tr>\n",
       "    </tbody></table>"
      ],
      "text/plain": [
       "<pandas.io.formats.style.Styler at 0x7f1687a97ac8>"
      ]
     },
     "metadata": {},
     "output_type": "display_data"
    }
   ],
   "source": [
    "df_intervals['valid'] = df_intervals[COLS_VALID].all(axis=1)\n",
    "display_value_counts(df_intervals['valid'], 'Valid Intervals')"
   ]
  },
  {
   "cell_type": "code",
   "execution_count": 97,
   "metadata": {
    "jupyter": {
     "source_hidden": true
    }
   },
   "outputs": [
    {
     "data": {
      "text/html": [
       "<div>\n",
       "<style scoped>\n",
       "    .dataframe tbody tr th:only-of-type {\n",
       "        vertical-align: middle;\n",
       "    }\n",
       "\n",
       "    .dataframe tbody tr th {\n",
       "        vertical-align: top;\n",
       "    }\n",
       "\n",
       "    .dataframe thead th {\n",
       "        text-align: right;\n",
       "    }\n",
       "</style>\n",
       "<table border=\"1\" class=\"dataframe\">\n",
       "  <thead>\n",
       "    <tr style=\"text-align: right;\">\n",
       "      <th></th>\n",
       "      <th>records</th>\n",
       "      <th>%records</th>\n",
       "    </tr>\n",
       "  </thead>\n",
       "  <tbody>\n",
       "    <tr>\n",
       "      <th>valid</th>\n",
       "      <td>2952</td>\n",
       "      <td>63.77</td>\n",
       "    </tr>\n",
       "    <tr>\n",
       "      <th>valid_duration</th>\n",
       "      <td>3281</td>\n",
       "      <td>70.88</td>\n",
       "    </tr>\n",
       "    <tr>\n",
       "      <th>valid_single_token_per_frame</th>\n",
       "      <td>4089</td>\n",
       "      <td>88.33</td>\n",
       "    </tr>\n",
       "    <tr>\n",
       "      <th>valid_hd5</th>\n",
       "      <td>4254</td>\n",
       "      <td>91.90</td>\n",
       "    </tr>\n",
       "    <tr>\n",
       "      <th>valid_max_token_duration</th>\n",
       "      <td>4171</td>\n",
       "      <td>90.11</td>\n",
       "    </tr>\n",
       "    <tr>\n",
       "      <th>valid_frames_count</th>\n",
       "      <td>4076</td>\n",
       "      <td>88.05</td>\n",
       "    </tr>\n",
       "    <tr>\n",
       "      <th>valid_video_data_ratio</th>\n",
       "      <td>4628</td>\n",
       "      <td>99.98</td>\n",
       "    </tr>\n",
       "  </tbody>\n",
       "</table>\n",
       "</div>"
      ],
      "text/plain": [
       "                              records  %records\n",
       "valid                            2952     63.77\n",
       "valid_duration                   3281     70.88\n",
       "valid_single_token_per_frame     4089     88.33\n",
       "valid_hd5                        4254     91.90\n",
       "valid_max_token_duration         4171     90.11\n",
       "valid_frames_count               4076     88.05\n",
       "valid_video_data_ratio           4628     99.98"
      ]
     },
     "execution_count": 97,
     "metadata": {},
     "output_type": "execute_result"
    }
   ],
   "source": [
    "df_validity_summary = df_intervals[['valid'] + COLS_VALID].sum().to_frame().rename(columns={0: 'records'})\n",
    "df_validity_summary['%records'] = df_validity_summary['records'] / total_intervals * 100\n",
    "df_validity_summary"
   ]
  },
  {
   "cell_type": "code",
   "execution_count": 98,
   "metadata": {
    "jupyter": {
     "source_hidden": true
    }
   },
   "outputs": [
    {
     "data": {
      "text/html": [
       "<div>\n",
       "<style scoped>\n",
       "    .dataframe tbody tr th:only-of-type {\n",
       "        vertical-align: middle;\n",
       "    }\n",
       "\n",
       "    .dataframe tbody tr th {\n",
       "        vertical-align: top;\n",
       "    }\n",
       "\n",
       "    .dataframe thead th {\n",
       "        text-align: right;\n",
       "    }\n",
       "</style>\n",
       "<table border=\"1\" class=\"dataframe\">\n",
       "  <thead>\n",
       "    <tr style=\"text-align: right;\">\n",
       "      <th></th>\n",
       "      <th>valid</th>\n",
       "      <th>speaker</th>\n",
       "      <th>interval_id</th>\n",
       "      <th>duration</th>\n",
       "      <th>start_time_string</th>\n",
       "      <th>end_time_string</th>\n",
       "      <th>video_link</th>\n",
       "      <th>valid_duration</th>\n",
       "      <th>valid_single_token_per_frame</th>\n",
       "      <th>valid_hd5</th>\n",
       "      <th>valid_max_token_duration</th>\n",
       "      <th>valid_frames_count</th>\n",
       "      <th>valid_video_data_ratio</th>\n",
       "    </tr>\n",
       "  </thead>\n",
       "  <tbody>\n",
       "    <tr>\n",
       "      <th>785</th>\n",
       "      <td>False</td>\n",
       "      <td>oliver</td>\n",
       "      <td>216435</td>\n",
       "      <td>36.77</td>\n",
       "      <td>00:10:43.81</td>\n",
       "      <td>00:11:20.58</td>\n",
       "      <td>http://www.youtube.com/watch?v=BUCnjlTfXDw</td>\n",
       "      <td>True</td>\n",
       "      <td>False</td>\n",
       "      <td>True</td>\n",
       "      <td>True</td>\n",
       "      <td>False</td>\n",
       "      <td>True</td>\n",
       "    </tr>\n",
       "    <tr>\n",
       "      <th>4313</th>\n",
       "      <td>False</td>\n",
       "      <td>oliver</td>\n",
       "      <td>102623</td>\n",
       "      <td>3.34</td>\n",
       "      <td>00:03:30.51</td>\n",
       "      <td>00:03:33.84</td>\n",
       "      <td>http://www.youtube.com/watch?v=CesHr99ezWE</td>\n",
       "      <td>False</td>\n",
       "      <td>True</td>\n",
       "      <td>True</td>\n",
       "      <td>True</td>\n",
       "      <td>True</td>\n",
       "      <td>True</td>\n",
       "    </tr>\n",
       "  </tbody>\n",
       "</table>\n",
       "</div>"
      ],
      "text/plain": [
       "      valid speaker interval_id  duration start_time_string end_time_string  \\\n",
       "785   False  oliver      216435     36.77       00:10:43.81     00:11:20.58   \n",
       "4313  False  oliver      102623      3.34       00:03:30.51     00:03:33.84   \n",
       "\n",
       "                                      video_link  valid_duration  \\\n",
       "785   http://www.youtube.com/watch?v=BUCnjlTfXDw            True   \n",
       "4313  http://www.youtube.com/watch?v=CesHr99ezWE           False   \n",
       "\n",
       "      valid_single_token_per_frame  valid_hd5  valid_max_token_duration  \\\n",
       "785                          False       True                      True   \n",
       "4313                          True       True                      True   \n",
       "\n",
       "      valid_frames_count  valid_video_data_ratio  \n",
       "785                False                    True  \n",
       "4313                True                    True  "
      ]
     },
     "execution_count": 98,
     "metadata": {},
     "output_type": "execute_result"
    }
   ],
   "source": [
    "df_intervals[['valid'] + COLS_VIEW + COLS_VALID].sample(n=2)"
   ]
  },
  {
   "cell_type": "code",
   "execution_count": 99,
   "metadata": {},
   "outputs": [
    {
     "data": {
      "text/plain": [
       "'please make sure your apologies are the best ones of your life because thanks to the text that we are saddling you with they almost certainly will be'"
      ]
     },
     "execution_count": 99,
     "metadata": {},
     "output_type": "execute_result"
    }
   ],
   "source": [
    "read_text_str('102370')"
   ]
  },
  {
   "cell_type": "markdown",
   "metadata": {},
   "source": [
    "# Download Data"
   ]
  },
  {
   "cell_type": "markdown",
   "metadata": {},
   "source": [
    "## df_intervals.to_csv"
   ]
  },
  {
   "cell_type": "code",
   "execution_count": 100,
   "metadata": {},
   "outputs": [
    {
     "data": {
      "text/plain": [
       "Index(['Unnamed: 0', 'dataset', 'duration', 'end_time', 'interval_id',\n",
       "       'speaker', 'start_time', 'video_fn', 'video_link', 'org_start_time',\n",
       "       'org_end_time', 'start_time_string', 'end_time_string', 'video_id',\n",
       "       'max_frames_token', 'valid', 'valid_duration',\n",
       "       'valid_single_token_per_frame', 'video_downloded', 'valid_hd5',\n",
       "       'max_token_frames_token_idx', 'valid_max_token_duration',\n",
       "       'valid_frames_count', 'duration_net', 'duration_total', 'data_ratio',\n",
       "       'valid_video_data_ratio'],\n",
       "      dtype='object')"
      ]
     },
     "execution_count": 100,
     "metadata": {},
     "output_type": "execute_result"
    }
   ],
   "source": [
    "df_intervals.columns"
   ]
  },
  {
   "cell_type": "code",
   "execution_count": 101,
   "metadata": {},
   "outputs": [],
   "source": [
    "df_intervals.drop('dataset', axis=1, inplace=True)"
   ]
  },
  {
   "cell_type": "code",
   "execution_count": 102,
   "metadata": {},
   "outputs": [],
   "source": [
    "df_intervals.drop('Unnamed: 0', axis=1, inplace=True)"
   ]
  },
  {
   "cell_type": "code",
   "execution_count": 103,
   "metadata": {},
   "outputs": [
    {
     "data": {
      "text/plain": [
       "Index(['duration', 'end_time', 'interval_id', 'speaker', 'start_time',\n",
       "       'video_fn', 'video_link', 'org_start_time', 'org_end_time',\n",
       "       'start_time_string', 'end_time_string', 'video_id', 'max_frames_token',\n",
       "       'valid', 'valid_duration', 'valid_single_token_per_frame',\n",
       "       'video_downloded', 'valid_hd5', 'max_token_frames_token_idx',\n",
       "       'valid_max_token_duration', 'valid_frames_count', 'duration_net',\n",
       "       'duration_total', 'data_ratio', 'valid_video_data_ratio'],\n",
       "      dtype='object')"
      ]
     },
     "execution_count": 103,
     "metadata": {},
     "output_type": "execute_result"
    }
   ],
   "source": [
    "df_intervals.columns"
   ]
  },
  {
   "cell_type": "code",
   "execution_count": 104,
   "metadata": {},
   "outputs": [],
   "source": [
    "df_intervals.rename(\n",
    "    columns={'duration_net':   'video_duration_net',\n",
    "             'duration_total': 'video_duration_total',\n",
    "             'data_ratio':     'video_data_ratio'},\n",
    "    inplace=True)"
   ]
  },
  {
   "cell_type": "code",
   "execution_count": 105,
   "metadata": {
    "jupyter": {
     "source_hidden": true
    }
   },
   "outputs": [],
   "source": [
    "COLS_OUTPUT = [\n",
    "    # core\n",
    "    'speaker', 'video_id', 'interval_id', 'valid',\n",
    "    # features\n",
    "    'duration', 'start_time_string',  'end_time_string',\n",
    "    'video_link', 'video_fn',\n",
    "    'start_time', 'end_time',\n",
    "    'org_start_time', 'org_end_time',\n",
    "    # video info\n",
    "#     'video_duration_net', 'video_duration_total', 'video_data_ratio',\n",
    "    # validity\n",
    "    'max_frames_token',\n",
    "    'valid_duration', 'valid_single_token_per_frame', 'valid_hd5',\n",
    "    'valid_max_token_duration', 'valid_frames_count', 'valid_video_data_ratio'\n",
    "]"
   ]
  },
  {
   "cell_type": "code",
   "execution_count": 106,
   "metadata": {
    "jupyter": {
     "source_hidden": true
    }
   },
   "outputs": [
    {
     "data": {
      "text/plain": [
       "(25, 20)"
      ]
     },
     "execution_count": 106,
     "metadata": {},
     "output_type": "execute_result"
    }
   ],
   "source": [
    "len(df_intervals.columns), len(COLS_OUTPUT)"
   ]
  },
  {
   "cell_type": "code",
   "execution_count": 107,
   "metadata": {
    "jupyter": {
     "source_hidden": true
    }
   },
   "outputs": [
    {
     "data": {
      "text/html": [
       "<div>\n",
       "<style scoped>\n",
       "    .dataframe tbody tr th:only-of-type {\n",
       "        vertical-align: middle;\n",
       "    }\n",
       "\n",
       "    .dataframe tbody tr th {\n",
       "        vertical-align: top;\n",
       "    }\n",
       "\n",
       "    .dataframe thead th {\n",
       "        text-align: right;\n",
       "    }\n",
       "</style>\n",
       "<table border=\"1\" class=\"dataframe\">\n",
       "  <thead>\n",
       "    <tr style=\"text-align: right;\">\n",
       "      <th></th>\n",
       "      <th>speaker</th>\n",
       "      <th>video_id</th>\n",
       "      <th>interval_id</th>\n",
       "      <th>valid</th>\n",
       "      <th>duration</th>\n",
       "      <th>start_time_string</th>\n",
       "      <th>end_time_string</th>\n",
       "      <th>video_link</th>\n",
       "      <th>video_fn</th>\n",
       "      <th>start_time</th>\n",
       "      <th>end_time</th>\n",
       "      <th>org_start_time</th>\n",
       "      <th>org_end_time</th>\n",
       "      <th>max_frames_token</th>\n",
       "      <th>valid_duration</th>\n",
       "      <th>valid_single_token_per_frame</th>\n",
       "      <th>valid_hd5</th>\n",
       "      <th>valid_max_token_duration</th>\n",
       "      <th>valid_frames_count</th>\n",
       "      <th>valid_video_data_ratio</th>\n",
       "    </tr>\n",
       "  </thead>\n",
       "  <tbody>\n",
       "    <tr>\n",
       "      <th>0</th>\n",
       "      <td>oliver</td>\n",
       "      <td>DRauXXz6t0Y</td>\n",
       "      <td>214428</td>\n",
       "      <td>True</td>\n",
       "      <td>12.21</td>\n",
       "      <td>00:00:58.62</td>\n",
       "      <td>00:01:10.83</td>\n",
       "      <td>http://www.youtube.com/watch?v=DRauXXz6t0Y</td>\n",
       "      <td>Abortion_Laws_-_Last_Week_Tonight_with_John_Oliver_HBO-DRauXXz6t0Y.webm</td>\n",
       "      <td>0 days 00:00:58.620000</td>\n",
       "      <td>0 days 00:01:10.830000</td>\n",
       "      <td>0 days 00:00:58.620000</td>\n",
       "      <td>0 days 00:01:10.830000</td>\n",
       "      <td>88</td>\n",
       "      <td>True</td>\n",
       "      <td>True</td>\n",
       "      <td>True</td>\n",
       "      <td>True</td>\n",
       "      <td>True</td>\n",
       "      <td>True</td>\n",
       "    </tr>\n",
       "    <tr>\n",
       "      <th>1</th>\n",
       "      <td>oliver</td>\n",
       "      <td>DRauXXz6t0Y</td>\n",
       "      <td>214429</td>\n",
       "      <td>True</td>\n",
       "      <td>6.14</td>\n",
       "      <td>00:01:10.97</td>\n",
       "      <td>00:01:17.11</td>\n",
       "      <td>http://www.youtube.com/watch?v=DRauXXz6t0Y</td>\n",
       "      <td>Abortion_Laws_-_Last_Week_Tonight_with_John_Oliver_HBO-DRauXXz6t0Y.webm</td>\n",
       "      <td>0 days 00:01:10.970000</td>\n",
       "      <td>0 days 00:01:17.110000</td>\n",
       "      <td>0 days 00:01:10.970000</td>\n",
       "      <td>0 days 00:01:17.110000</td>\n",
       "      <td>31</td>\n",
       "      <td>True</td>\n",
       "      <td>True</td>\n",
       "      <td>True</td>\n",
       "      <td>True</td>\n",
       "      <td>True</td>\n",
       "      <td>True</td>\n",
       "    </tr>\n",
       "  </tbody>\n",
       "</table>\n",
       "</div>"
      ],
      "text/plain": [
       "  speaker     video_id interval_id  valid  duration start_time_string  \\\n",
       "0  oliver  DRauXXz6t0Y      214428   True     12.21       00:00:58.62   \n",
       "1  oliver  DRauXXz6t0Y      214429   True      6.14       00:01:10.97   \n",
       "\n",
       "  end_time_string                                  video_link  \\\n",
       "0     00:01:10.83  http://www.youtube.com/watch?v=DRauXXz6t0Y   \n",
       "1     00:01:17.11  http://www.youtube.com/watch?v=DRauXXz6t0Y   \n",
       "\n",
       "                                                                  video_fn  \\\n",
       "0  Abortion_Laws_-_Last_Week_Tonight_with_John_Oliver_HBO-DRauXXz6t0Y.webm   \n",
       "1  Abortion_Laws_-_Last_Week_Tonight_with_John_Oliver_HBO-DRauXXz6t0Y.webm   \n",
       "\n",
       "               start_time                end_time          org_start_time  \\\n",
       "0  0 days 00:00:58.620000  0 days 00:01:10.830000  0 days 00:00:58.620000   \n",
       "1  0 days 00:01:10.970000  0 days 00:01:17.110000  0 days 00:01:10.970000   \n",
       "\n",
       "             org_end_time  max_frames_token  valid_duration  \\\n",
       "0  0 days 00:01:10.830000                88            True   \n",
       "1  0 days 00:01:17.110000                31            True   \n",
       "\n",
       "   valid_single_token_per_frame  valid_hd5  valid_max_token_duration  \\\n",
       "0                          True       True                      True   \n",
       "1                          True       True                      True   \n",
       "\n",
       "   valid_frames_count  valid_video_data_ratio  \n",
       "0                True                    True  \n",
       "1                True                    True  "
      ]
     },
     "execution_count": 107,
     "metadata": {},
     "output_type": "execute_result"
    }
   ],
   "source": [
    "df_intervals_prev = df_intervals.copy()\n",
    "df_intervals = df_intervals[COLS_OUTPUT]\n",
    "df_intervals.head(n=2)"
   ]
  },
  {
   "cell_type": "code",
   "execution_count": 108,
   "metadata": {
    "jupyter": {
     "source_hidden": true
    }
   },
   "outputs": [
    {
     "data": {
      "text/markdown": [
       "&nbsp;&nbsp;&nbsp;&nbsp; → df_intervals /home/stav/Data/PATS_DATA/DataFrames/oliver/df_intervals_oliver_v2.csv"
      ],
      "text/plain": [
       "<IPython.core.display.Markdown object>"
      ]
     },
     "metadata": {},
     "output_type": "display_data"
    }
   ],
   "source": [
    "intervals_output_path = f'/home/stav/Data/PATS_DATA/DataFrames/{SPEAKER_NAME}/df_intervals_{SPEAKER_NAME}_v2.csv'\n",
    "printmd(f'{TAB} → df_intervals {intervals_output_path}')\n",
    "df_intervals.to_csv(intervals_output_path, index=False, header=True)"
   ]
  },
  {
   "cell_type": "code",
   "execution_count": 115,
   "metadata": {},
   "outputs": [
    {
     "data": {
      "text/plain": [
       "(4629, 20)"
      ]
     },
     "execution_count": 115,
     "metadata": {},
     "output_type": "execute_result"
    }
   ],
   "source": [
    "df_intervals.shape"
   ]
  },
  {
   "cell_type": "code",
   "execution_count": 109,
   "metadata": {
    "jupyter": {
     "source_hidden": true
    }
   },
   "outputs": [
    {
     "name": "stdout",
     "output_type": "stream",
     "text": [
      "['214428', '214429', '214431', '214433', '214434', '214435', '214436', '214494', '214495', '214600', '215061', '215652', '215654', '215875', '215876', '215878', '216037', '216039', '216104', '216292', '216294', '216295', '216316', '216913', '214036', '214225', '214750', '214754', '214868', '214871', '214969', '214970', '214971', '214974', '215436', '215437', '215854', '215859', '216030', '216033', '216046', '216050', '216112', '216113', '216320', '216321', '216393', '216400', '216700', '216748', '216841', '216926', '217028', '214789', '214934', '214938', '215196', '215232', '215233', '215446', '215447', '215448', '215594', '215595', '215671', '215685', '216419', '216759', '216842', '216843', '216909', '216915', '216916', '217021', '217087', '217088', '214627', '214628', '214844', '215666', '215667', '215724', '215728', '215818', '215819', '215832', '215834', '216389', '216390', '216520', '216551', '216552', '216633', '216634', '216647', '216766', '214157', '214338', '214444', '214446', '214812', '214821', '214915', '214919', '215250', '215251', '215432', '215433', '215602', '215605', '215608', '215794', '215795', '215797', '215813', '216219', '216248', '216250', '216255', '216256', '216257', '216438', '216648', '216650', '216682', '216814', '216816', '216817', '214164', '214165', '214534', '214542', '214543', '214722', '214724', '214725', '214732', '214734', '214947', '214950', '214954', '214955', '214999', '215000', '215001', '215344', '215603', '215604', '215735', '215865', '215866', '215867', '215869', '216111', '216184', '216185', '216596', '216609', '216635', '216641', '216642', '216738', '216892', '216897', '217023', '217045', '214183', '214186', '214224', '214402', '214403', '214661', '214664', '214675', '214676', '214681', '214837', '214838', '214839', '215235', '215236', '215686', '215703', '215916', '215935', '215936', '215943', '216148', '216165', '216264', '216270', '216272', '216284', '216553', '216556', '216566', '216577', '216578', '216764', '214034', '214035', '214103', '214104', '214127', '214128', '214240', '214241', '214342', '214343', '214344', '214346', '214449', '214506', '214507', '214508', '214639', '214642', '214980', '214981', '215072', '215434', '215950', '215951', '216099', '216221', '216698', '216699', '217014', '215156', '215338', '215339', '216051', '216054', '216322', '216327', '216336', '215915', '216791', '216806', '216860', '216862', '214037', '214038', '214039', '214042', '214044', '214105', '214624', '214625', '214626', '214744', '214745', '214784', '214790', '215070', '215071', '215345', '215346', '215350', '215362', '215366', '215367', '215398', '215431', '215464', '216008', '216010', '216189', '216190', '216197', '216199', '216981', '215143', '215205', '215206', '215207', '215238', '215242', '215272', '215284', '215285', '215287', '215288', '215290', '215291', '215380', '215383', '215384', '215612', '215616', '215621', '215623', '215631', '216021', '216223', '216226', '216236', '216302', '216403', '216404', '216579', '216639', '216805', '216875', '216877', '216898', '216902', '216947', '216948', '215390', '215971', '217064', '214488', '214489', '214490', '214491', '214492', '214493', '214786', '214787', '214993', '214994', '215063', '215064', '215067', '215243', '215419', '215420', '215863', '216044', '216045', '216114', '216116', '216220', '216380', '216387', '216447', '216492', '216508', '216509', '216784', '216858', '216859', '216861', '214236', '214239', '214596', '214598', '214599', '215199', '215201', '215316', '215317', '215318', '215319', '215326', '215327', '215328', '216457', '216458', '216516', '216517', '216543', '216618', '216625', '216662', '216663', '216812', '216813', '217022', '214305', '214307', '214321', '214326', '214544', '214545', '214546', '214548', '214558', '214567', '214568', '214612', '214623', '215053', '215054', '215055', '215056', '215057', '215058', '215059', '215305', '215306', '215948', '215949', '216065', '216066', '216097', '216651', '216657', '216903', '214126', '214139', '214142', '214290', '214579', '214580', '214582', '214583', '214584', '214902', '214910', '214911', '214914', '215215', '215407', '215646', '215648', '215651', '216397', '216398', '216446', '216498', '216684', '216685', '216971', '216980', '217037', '214285', '214577', '214578', '214975', '214976', '215181', '215183', '215571', '215582', '215583', '215593', '215729', '215732', '216314', '216421', '216432', '216495', '216614', '217035', '214610', '214611', '214920', '214944', '214945', '215208', '215210', '215211', '215229', '215230', '215231', '215309', '215638', '215639', '216204', '216205', '216206', '216626', '216765', '216792', '216818', '216836', '216949', '217039', '217040', '217042', '217090', '217093', '214106', '214107', '214108', '214113', '214121', '214122', '214382', '214388', '214755', '214756', '214757', '214758', '214761', '214762', '214765', '214845', '214857', '214859', '214865', '214867', '214921', '214922', '214983', '214990', '215596', '215622', '215645', '216166', '216180', '216258', '216259', '216317', '216319', '216358', '216359', '216610', '216755', '216756', '216800', '216802', '216997', '217004', '214276', '214281', '214443', '214574', '214575', '215040', '215213', '215532', '215534', '215535', '215553', '215784', '216241', '216253', '216408', '216436', '216437', '216627', '216640', '216703', '216749', '216750', '214046', '214057', '214308', '214319', '214320', '214572', '215168', '215169', '215170', '215174', '215175', '215299', '215301', '216621', '216661', '216767', '216807', '216885', '217048', '215481', '216518', '214526', '214528', '214834', '214835', '214836', '214956', '214957', '214958', '214959', '214960', '214961', '214962', '214965', '214966', '215136', '215137', '215313', '215314', '215315', '215403', '215430', '215529', '216001', '216002', '216003', '216004', '216035', '216036', '216521', '216522', '216582', '216664', '216773', '216034', '216433', '216637', '216638', '214166', '214169', '214176', '214180', '214182', '214292', '214293', '214362', '214522', '214643', '214649', '215041', '215045', '215083', '215088', '215096', '215097', '215099', '215100', '215101', '215499', '215512', '215518', '215758', '215759', '216839', '216868', '216874', '216917', '214399', '214401', '214682', '214824', '214826', '214827', '214828', '214830', '215124', '215135', '215400', '215401', '215568', '215845', '215896', '216105', '216106', '216203', '216440', '216499', '216504', '216505', '216598', '216599', '216607', '217027', '217052', '217092', '217094', '214469', '214487', '214881', '214882', '214891', '214892', '214896', '215102', '215123', '215176', '215177', '215180', '215292', '215294', '215911', '215912', '216119', '216125', '216480', '216490', '216506', '216507', '216693', '216695', '216696', '216720', '216725', '216737', '216848', '216888', '216891', '216927', '216930', '216944', '214130', '214131', '214135', '214291', '214450', '214452', '214683', '214689', '214693', '214716', '214720', '214832', '214833', '214872', '214877', '214880', '214931', '215521', '215522', '215523', '215525', '215555', '215564', '216109', '216207', '216286', '216287', '216291', '216628', '216768', '216769', '216772', '215154', '215298', '215415', '215416', '215418', '215973', '215974', '215996', '216000', '216181', '216242', '216243', '216244', '216262', '216369', '216375', '216377', '216378', '216379', '216616', '216617', '216636', '216670', '216782', '216963', '214405', '214416', '214791', '214793', '214794', '214840', '216413', '216414', '216774', '216831', '216834', '216835', '216863', '217033', '217055', '214143', '214145', '214147', '214148', '214156', '214742', '214743', '215068', '215069', '215296', '215655', '215661', '215744', '215746', '215749', '215853', '215861', '215888', '215895', '215975', '215976', '215977', '215979', '216217', '216394', '216395', '216396', '217077', '217098', '215247', '215302', '215304', '215312', '215599', '215871', '215884', '216186', '216188', '216251', '216252', '216285', '216510', '216679', '216847', '216865', '216867', '216904', '216945', '216946', '216985', '217059', '214093', '214096', '214137', '214138', '214398', '214729', '214730', '214842', '215635', '215637', '215720', '215783', '215843', '215981', '215983', '215984', '216108', '216406', '216407', '216500', '216501', '216502', '216819', '216820', '216857', '216886', '217030', '217032', '214735', '214798', '214800', '214801', '214803', '214979', '214982', '215391', '215399', '215723', '216076', '216209', '216211', '216214', '216356', '216357', '216417', '214243', '214244', '214245', '214327', '214328', '214448', '214930', '215060', '215408', '215410', '215411', '215414', '215435', '215465', '215664', '215665', '215736', '215738', '215743', '215782', '215879', '215880', '216096', '216245', '216246', '216260', '216586', '216587', '216631', '216739', '216740', '216884', '216959', '217047', '217054', '214260', '214272', '214273', '214283', '214340', '214341', '214601', '214602', '214603', '214605', '214608', '214796', '214797', '214923', '214929', '215379', '215441', '215443', '215445', '215528', '215897', '216101', '216103', '216540', '216541', '216546', '216550', '216881', '216882', '216883', '216961', '216983', '217041', '214061', '214065', '214075', '214076', '214089', '214091', '214158', '214160', '214163', '214703', '214804', '214811', '215080', '215082', '215147', '215152', '215153', '215254', '215270', '215405', '215777', '215781', '215835', '215836', '215840', '216680', '216711', '216718', '216719', '216826', '216855', '216987', '214447', '215155', '215404', '215482', '215554', '216062', '216072', '216107', '216143', '216144', '216402', '216503', '216542', '216597', '216697', '216808', '216853', '216854', '217068', '214404', '214532', '214533', '214587', '214593', '214739', '214740', '214741', '215569', '215570', '215705', '215712', '215717', '215718', '215786', '215793', '215898', '215899', '216063', '216237', '216524', '216526', '216528', '216658', '216982', '214228', '214229', '214231', '214235', '214274', '214275', '214353', '214530', '214785', '214822', '214843', '215138', '215139', '215140', '215203', '215246', '215814', '215816', '216761', '217016', '217051', '214496', '214497', '216496', '216589', '216593', '217036', '217091', '217097', '214704', '214714', '216620', '216798', '216918', '214432', '215601', '216702', '105498', '214458', '214460', '214467', '215216', '215225', '215226', '215228', '215644', '215733', '215734', '215842', '215881', '215882', '215883', '216077', '216081', '216084', '216200', '216201', '216298', '216299', '216339', '216355', '216448', '216449', '216451', '216452', '216453', '216455', '216778', '216781', '217017', '101157', '101161', '101167', '101168', '101710', '102022', '102023', '102024', '102025', '102026', '102029', '102534', '102536', '102537', '104185', '104661', '104663', '104870', '104943', '104959', '104968', '105111', '105112', '105605', '105607', '103844', '104071', '104523', '105692', '106366', '103089', '103090', '104068', '104733', '104734', '101419', '105170', '105251', '101673', '101676', '102170', '102576', '102577', '102579', '102581', '102781', '103284', '103286', '103287', '103288', '103386', '103387', '103388', '103487', '103489', '103504', '103868', '103870', '103874', '103878', '103881', '103883', '103888', '103889', '104058', '104063', '104582', '104583', '104706', '104707', '104711', '104716', '104727', '104758', '104781', '104783', '104788', '105238', '105240', '105296', '105358', '105359', '105461', '105462', '105463', '105990', '106211', '106298', '106365', '106373', '101236', '101266', '101267', '101268', '101269', '101271', '102152', '102155', '102156', '102784', '102948', '103083', '103697', '103814', '103821', '104335', '104339', '104358', '104363', '104406', '104410', '104735', '105604', '105655', '105696', '105698', '105971', '106084', '101125', '101596', '101601', '101602', '101671', '101672', '101797', '101800', '101822', '102855', '102856', '102858', '102859', '102867', '102869', '103422', '103423', '103641', '103644', '104102', '104139', '104140', '104173', '104174', '104178', '104926', '104927', '105108', '105129', '105208', '105241', '105242', '105774', '105900', '101240', '101241', '101251', '102158', '102160', '102412', '102414', '102689', '102691', '103444', '103445', '103792', '103793', '103794', '105048', '105049', '105121', '105124', '105126', '105782', '102079', '102082', '102083', '102171', '102172', '102353', '102355', '103369', '103374', '103375', '103376', '103377', '103579', '103580', '103590', '103704', '103706', '103709', '103934', '103937', '104587', '104588', '104589', '104664', '104923', '104975', '105838', '105844', '106378', '101189', '101190', '101191', '101193', '101198', '101199', '101505', '102202', '102204', '102439', '102639', '102640', '102765', '102767', '103077', '103717', '103719', '103720', '103754', '104066', '104067', '104969', '105162', '105566', '105792', '106343', '104422', '106346', '101005', '101081', '101084', '101113', '101117', '101218', '101220', '101221', '101228', '102030', '102477', '102480', '102486', '102804', '102810', '102811', '102832', '102835', '102852', '102853', '102854', '103565', '103776', '104521', '105652', '105738', '105739', '106288', '106345', '101169', '101170', '101420', '102877', '102878', '103136', '103138', '103446', '103447', '103455', '103899', '103900', '104153', '104165', '105141', '105150', '105562', '105563', '105833', '105907', '105910', '105911', '105914', '106052', '106054', '106057', '106080', '106081', '106082', '106183', '106205', '101075', '101076', '101080', '101252', '101256', '101265', '101339', '101343', '101344', '101345', '101347', '101352', '102713', '102901', '103016', '103017', '103721', '103866', '103926', '103928', '103929', '103933', '103982', '104441', '104442', '104451', '105350', '106007', '106008', '101148', '101150', '101412', '101417', '101665', '101670', '102567', '102643', '102644', '102645', '102980', '102987', '102988', '103015', '103273', '103275', '103276', '103420', '103890', '103892', '103917', '103918', '103925', '104557', '104818', '104828', '104829', '104830', '105373', '105377', '105442', '105572', '105772', '106193', '106216', '106222', '106223', '106255', '106340', '101136', '101137', '101140', '101300', '101302', '101303', '101687', '102043', '102047', '102161', '102162', '102759', '103833', '103908', '104138', '104419', '104420', '104596', '105058', '106219', '106221', '106329', '106342', '106363', '106374', '101388', '101390', '101391', '101392', '101455', '101897', '101898', '101899', '102472', '102701', '102702', '102707', '102708', '102803', '103055', '103057', '103265', '103514', '103864', '103865', '103909', '103910', '103912', '103913', '103916', '104284', '104816', '104817', '104974', '101298', '102626', '102627', '102628', '102629', '102631', '103115', '103117', '103118', '103119', '103120', '103125', '103130', '103133', '103135', '103730', '103731', '103799', '103802', '103894', '104590', '104591', '104593', '104595', '104755', '104928', '104929', '104930', '105053', '105257', '105767', '106148', '106266', '106315', '106324', '106336', '106338', '106339', '102641', '103999', '104000', '105047', '105160', '105161', '102552', '103349', '103351', '103352', '103355', '103356', '103358', '103562', '103563', '103924', '104125', '104126', '104130', '104132', '105040', '105046', '105815', '105816', '106119', '106120', '106198', '103711', '103712', '105706', '106229', '101272', '101274', '101275', '101276', '102712', '102943', '102945', '103408', '103409', '103902', '103904', '103905', '103906', '103907', '104242', '104243', '104522', '104597', '104599', '105211', '105235', '105237', '105277', '105279', '105319', '105385', '105405', '105565', '106010', '101141', '101526', '101528', '101610', '101611', '101698', '101700', '101701', '101809', '102195', '102200', '102255', '102256', '102374', '102375', '102384', '102400', '102401', '102406', '102974', '102975', '102978', '103857', '103858', '103862', '104833', '105057', '105773', '105858', '102210', '105349', '106284', '101410', '102163', '102164', '102166', '102569', '102892', '102893', '103459', '103462', '103490', '103751', '103752', '103837', '103838', '103839', '103842', '103843', '104476', '104477', '104667', '104990', '105127', '105182', '105185', '105297', '105298', '106123', '106208', '101406', '101409', '102031', '102147', '102148', '102149', '102356', '102358', '103415', '103416', '103577', '103578', '103845', '103846', '103967', '103969', '104411', '104412', '104619', '104620', '104621', '104628', '105104', '105106', '105107', '105372', '105727', '105728', '106048', '106051', '106137', '106199', '100984', '100987', '100988', '100991', '101053', '101056', '101057', '101813', '101814', '101816', '101821', '102063', '103102', '103295', '103804', '104005', '104006', '104009', '104400', '104401', '104402', '104561', '104731', '104875', '105710', '105714', '105715', '105931', '105934', '106011', '106013', '106014', '106280', '106290', '101920', '102659', '102660', '102661', '102669', '102670', '102671', '103650', '103651', '103653', '103921', '103961', '103964', '103991', '104010', '104011', '104250', '104251', '104252', '104345', '104347', '104413', '104414', '104525', '104529', '104532', '104909', '104910', '105225', '105231', '105232', '105310', '105459', '105517', '105677', '105720', '105724', '105899', '101478', '101481', '101483', '102175', '103336', '103517', '103528', '104979', '104986', '104987', '105021', '105609', '105610', '101022', '101026', '101027', '101028', '101231', '101904', '102814', '102949', '102950', '102951', '103753', '104351', '104352', '104475', '104613', '104615', '104770', '104774', '104775', '105272', '105560', '105736', '106041', '106097', '106226', '106291', '102714', '102718', '102719', '103561', '103975', '103976', '103977', '104166', '104944', '104945', '104948', '105511', '105614', '105616', '105631', '105831', '105972', '106121', '106238', '106243', '102065', '102173', '102259', '102260', '102330', '102332', '102333', '102349', '102547', '102548', '102891', '103576', '104054', '104056', '104524', '104547', '104549', '104550', '104728', '104729', '105568', '105573', '105582', '105632', '105633', '105634', '105898', '106033', '106367', '101884', '101888', '101993', '101999', '102000', '102020', '102448', '102469', '102470', '103259', '103313', '103328', '103329', '103505', '103507', '103508', '104015', '104424', '104507', '104518', '105039', '105509', '105989', '101295', '101296', '101858', '102289', '102299', '102302', '102520', '102553', '102556', '102802', '102921', '102931', '103078', '103591', '103597', '103607', '103686', '103758', '103762', '103763', '104687', '104689', '104949', '104953', '104955', '104957', '104958', '105427', '105435', '105501', '105504', '105505', '105593', '105740', '106072', '106079', '106279', '106335', '101332', '101333', '101334', '101335', '101404', '101881', '101901', '102108', '102118', '102119', '102122', '102614', '102615', '102776', '102907', '102908', '102918', '103497', '103498', '103779', '103787', '104294', '104479', '104480', '101306', '101308', '101310', '101456', '101923', '101924', '102074', '102078', '102138', '102139', '102146', '102575', '102611', '102612', '103337', '103338', '103341', '103342', '103343', '103344', '103553', '103954', '104038', '104039', '104349', '104350', '104876', '106022', '106023', '106026', '100912', '100913', '100937', '101058', '101066', '101067', '101068', '101171', '101173', '101549', '101553', '101554', '101555', '101565', '101568', '101571', '101573', '101584', '101695', '102092', '102783', '102843', '102844', '102846', '102874', '102875', '103529', '103530', '103547', '104029', '104037', '104652', '104653', '104808', '104812', '105647', '106122', '102816', '104580', '105956', '105965', '105968', '105970', '100971', '100972', '100973', '100976', '100978', '100980', '100983', '101126', '101127', '101174', '101175', '101178', '102177', '102179', '102538', '102540', '102543', '102545', '102638', '102698', '103515', '103548', '103552', '103971', '103973', '104471', '104690', '105110', '105586', '105709', '105734', '101501', '101502', '101504', '101513', '102619', '102621', '103366', '104013', '104014', '104076', '104077', '105163', '105262', '105263', '105489', '105512', '105598', '105601', '105811', '105812', '101484', '101491', '101725', '101736', '101740', '101741', '101746', '101747', '101749', '101769', '101783', '101790', '101791', '101792', '101793', '101794', '101795', '101984', '102086', '102189', '102193', '102194', '102261', '102959', '103955', '103959', '104537', '104581', '105113', '105119', '105380', '105381', '106362', '101186', '101188', '101434', '101438', '101439', '101444', '101445', '101454', '104170', '104740', '104741', '104742', '105325', '105876', '105880', '104558', '104560', '106059', '106214', '106217', '102551', '102720', '103654', '101130', '101132', '101134', '101381', '101705', '102509', '103476', '103795', '103798', '104606', '104608', '105303', '105492', '105496', '105640', '105929', '106085', '106103', '106104', '101461', '101462', '101463', '101677', '101834', '101843', '102184', '102187', '102743', '102744', '102749', '102750', '102826', '102827', '103848', '103850', '104075', '104198', '104200', '104201', '104204', '104695', '104696', '104698', '101229', '101230', '101900', '102032', '102435', '102437', '102438', '102777', '103018', '103267', '103268', '103271', '103272', '103791', '104600', '104970', '105280', '105391', '105400', '105594', '105595', '105685', '104392', '104399', '105603', '106377', '101151', '101152', '101153', '101623', '101624', '101627', '101630', '101860', '101864', '101867', '102056', '103389', '103390', '103687', '103805', '103806', '103853', '103855', '104417', '104418', '104586', '104699', '104761', '105269', '105270', '105271', '106087', '106293', '101070', '101071', '101072', '101396', '101397', '101823', '101825', '101826', '101829', '101831', '101832', '101913', '101914', '101917', '101919', '103429', '103431', '103985', '103986', '104222', '104225', '104552', '104776', '104778', '104780', '105139', '105153', '105154', '105156', '105157', '105158', '105159', '105177', '105471', '105475', '105476', '105486', '105488', '105635', '105884', '105885', '105893', '105894', '105895', '106117', '106161', '106162', '101217', '101529', '101530', '101535', '101537', '101538', '101540', '101545', '101546', '101810', '101812', '102881', '102882', '102889', '103477', '103479', '103481', '103482', '103668', '103669', '103768', '103775', '104212', '104214', '104217', '104218', '104219', '104220', '104244', '104245', '104249', '104577', '104578', '104579', '105067', '105068', '105275', '105905', '106145', '106147', '106181', '106182', '106244', '106268', '106319', '102217', '102585', '104458', '104461', '105735', '100945', '100958', '100959', '100970', '101019', '101020', '101678', '101679', '101680', '101681', '101690', '101691', '101872', '101876', '102359', '102363', '102364', '102370', '102488', '102489', '102654', '102658', '104253', '104384', '104385', '104452', '104456', '104457', '104584', '104585', '105649', '105650', '105695', '105716', '105717', '105718', '105938', '106136', '106204', '106232', '101103', '101124', '101142', '102511', '103309', '103310', '103312', '103432', '103496', '103645', '103647', '103952', '103953', '103998', '104041', '104042', '104186', '104237', '104789', '104790', '105003', '105324', '105597', '106254', '101239', '101431', '101433', '101457', '101460', '101651', '101855', '101856', '101857', '101905', '101906', '101907', '102418', '102419', '102674', '102779', '102787', '102801', '103013', '103014', '104482', '104486', '104487', '105382', '106215', '101029', '101033', '101037', '101311', '101312', '101321', '101331', '101642', '101644', '101650', '101724', '101926', '101928', '101949', '101951', '101954', '101956', '101969', '101979', '103146', '103160', '103163', '103164', '103214', '103222', '103691', '104432', '105065', '105526', '105554', '105703', '101868', '101870', '104880', '105128', '105314', '105447', '105523', '105525', '105636', '106256', '106320', '101421', '101422', '101427', '101428', '101492', '101500', '101508', '102123', '102188', '103566', '103567', '103573', '103575', '104380', '104382', '104416', '104814', '104815', '105015', '105164', '105357', '105386', '105464', '105519', '105520', '105845', '105952', '106285', '106341', '101585', '101592', '101593', '102055', '102533', '102563', '102632', '102634', '102635', '102636', '102960', '102961', '102962', '103106', '103107', '103109', '103424', '103425', '103428', '104082', '104086', '104098', '104792', '105339', '105341', '105365', '105371', '105457', '105458', '106330', '101353', '101354', '101360', '101361', '101365', '101376', '101378', '102780', '103079', '103082', '103283', '103558', '103559', '103765', '103826', '104288', '104289', '104290', '104293', '104630', '104636', '104637', '104644', '104647', '104837', '104851', '104852', '104853', '104911', '104917', '104921', '105181', '105417', '105418', '105731', '105901', '102490', '102495', '102499', '103139', '103143', '103414', '103726', '104053', '104069', '104137', '104488', '104489', '104491', '104492', '104605', '104934', '104935', '104936', '104937', '105317', '105338', '105483', '105654', '105689', '105690', '105732', '105733', '105748', '105766', '105809', '105846', '105848', '105849', '105887', '105892', '106001', '106003', '106225', '106263', '106265', '106326', '106327', '103732', '103822', '103823', '105479', '106344', '101429', '101430', '101682', '101683', '101685', '101889', '101890', '101891', '102093', '102097', '102100', '102101', '102103', '102104', '102107', '102212', '102216', '102475', '102761', '102836', '102837', '103058', '103059', '103060', '103070', '103733', '103735', '103813', '103938', '103940', '103951', '104233', '104234', '104353', '104357', '104884', '104885', '105069', '105075', '105081', '105342', '105611', '105612', '106116', '106160', '106206', '103099', '105091', '105095', '105320', '105953', '106286', '102425', '102430', '102431', '102432', '102433', '102434', '103266', '103824', '104121', '104122', '104123', '104124', '104141', '104142', '104143', '104146', '104147', '104148', '104403', '104404', '104405', '105165', '105166', '105167', '105169', '105446', '105514', '105515', '105832', '105930', '106019', '101104', '101105', '101464', '101465', '102157', '102919', '103302', '103304', '103305', '103713', '103715', '104541', '104544', '104545', '104611', '104612', '104799', '105285', '105291', '105295', '105322', '105323', '105454', '105456', '105859', '106028', '106173', '106201', '106203', '101004', '101514', '101522', '101523', '101808', '102035', '102128', '102129', '102132', '102137', '102209', '102325', '102328', '102329', '102686', '103019', '103047', '103048', '103050', '103053', '103054', '103104', '103291', '103292', '103640', '103655', '103658', '103662', '103836', '104298', '104300', '104334', '105174', '105176', '105343', '105345', '105348', '105656', '105657', '105781', '106032', '106133', '106134', '106172', '101006', '101007', '101010', '101011', '101014', '102058', '102059', '102060', '102226', '102229', '102230', '102234', '102238', '102248', '102352', '102624', '102722', '102742', '103500', '103702', '103703', '103978', '103980', '105059', '105062', '105063', '105064', '105451', '105453', '105902', '106251', '102127', '102167', '103554', '103557', '104877', '101086', '101087', '101092', '101093', '101097', '101297', '101336', '101337', '101338', '101398', '101399', '101402', '101403', '101612', '101613', '101614', '101616', '101619', '101622', '101702', '101882', '101883', '102570', '102571', '102572', '103345', '103346', '103348', '104087', '104094', '104103', '104238', '104239', '104240', '104241', '104340', '104343', '104364', '104739', '105318', '105561', '105823', '101040', '101052', '101098', '102087', '102089', '102090', '102249', '102254', '102625', '102673', '102973', '103110', '103111', '103755', '103835', '103974', '104538', '104601', '105210', '105478', '105787', '105788', '106016', '106262', '102067', '102069', '102423', '103463', '103465', '103473', '103663', '103667', '104519', '104602', '104604', '104654', '104668', '104669', '104670', '104679', '105050', '105100', '105101', '105450', '105588', '105915', '101805', '102150', '103995', '104472', '104474', '105936', '106190', '106323', '103230', '104226', '105827', '105828', '105829', '101073', '101074', '101385', '101386', '101387', '101509', '101510', '102616', '102618', '102695', '102696', '102697', '102751', '102756', '102758', '102894', '103741', '103750', '103994', '104172', '104285', '104286', '104287', '104648', '104649', '104650', '104973', '105516', '105567', '105874', '106027', '106163', '106165', '106166', '101663', '101664', '102420', '102421', '102422', '103417', '103997', '104045', '104051', '104052', '104167', '104169', '104197', '105187', '105195', '105224', '105256', '105264', '105484', '105651', '105680', '105681', '106299', '102048', '102051', '102054', '102057', '102775', '102828', '102829', '102830', '102896', '103095', '103096', '103098', '103492', '103495', '104546', '104692', '104694', '104872', '104873', '104874', '105066', '105351', '105353', '105354', '105355', '105443', '105444', '105659', '105661', '105875', '105917', '105918', '106083', '106184', '101279', '101280', '101283', '101285', '104878']\n"
     ]
    }
   ],
   "source": [
    "print(df_intervals[df_intervals['valid']]['interval_id'].tolist())"
   ]
  },
  {
   "cell_type": "code",
   "execution_count": 110,
   "metadata": {},
   "outputs": [
    {
     "data": {
      "text/markdown": [
       "[VALID] Speaker **oliver**:"
      ],
      "text/plain": [
       "<IPython.core.display.Markdown object>"
      ]
     },
     "metadata": {},
     "output_type": "display_data"
    },
    {
     "name": "stdout",
     "output_type": "stream",
     "text": [
      "  ◘ Videos: #123\n",
      "  ◘ Intervals: #2,952\n",
      "  ◘ Total Duration: 14 hours, 45 minutues, 32 seconds (53,132 seconds)\n",
      "  ◘ All are Youtube videos: True\n"
     ]
    }
   ],
   "source": [
    "printmd(f'[VALID] Speaker **{SPEAKER_NAME}**:')\n",
    "print_df_info(df_intervals[df_intervals['valid']])"
   ]
  },
  {
   "cell_type": "code",
   "execution_count": 112,
   "metadata": {},
   "outputs": [
    {
     "data": {
      "text/markdown": [
       "[ALL] Speaker **oliver**:"
      ],
      "text/plain": [
       "<IPython.core.display.Markdown object>"
      ]
     },
     "metadata": {},
     "output_type": "display_data"
    },
    {
     "name": "stdout",
     "output_type": "stream",
     "text": [
      "  ◘ Videos: #124\n",
      "  ◘ Intervals: #4,629\n",
      "  ◘ Total Duration: 18 hours, 15 minutues, 23 seconds (65,723 seconds)\n",
      "  ◘ All are Youtube videos: True\n"
     ]
    }
   ],
   "source": [
    "printmd(f'[ALL] Speaker **{SPEAKER_NAME}**:')\n",
    "print_df_info(df_intervals)"
   ]
  },
  {
   "cell_type": "code",
   "execution_count": 113,
   "metadata": {},
   "outputs": [
    {
     "data": {
      "text/plain": [
       "123"
      ]
     },
     "execution_count": 113,
     "metadata": {},
     "output_type": "execute_result"
    }
   ],
   "source": [
    "df_intervals[df_intervals['valid']]['video_id'].nunique()"
   ]
  },
  {
   "cell_type": "code",
   "execution_count": 114,
   "metadata": {},
   "outputs": [
    {
     "data": {
      "text/plain": [
       "['0Rnq1NpHdmw',\n",
       " '1Y1ya-yF35g',\n",
       " '1ZNZY-gd3K0',\n",
       " '2sWRXr2Yu9g',\n",
       " '32n4h0kn-88',\n",
       " '3FCioWz7aps',\n",
       " '3bxcc3SM_KA',\n",
       " '3kEpZWGgJks',\n",
       " '3lKYPp2Kp6s',\n",
       " '44fCfJQV7yQ',\n",
       " '4U2eDJnwz_s',\n",
       " '4Z4j2CrJRn4',\n",
       " '5cBV8KFFasY',\n",
       " '5d667Bb_iYA',\n",
       " '5scez5dqtAc',\n",
       " '5xnZ_CeTqyM',\n",
       " '6UsHHOCH4q8',\n",
       " '7-LPcVo7gC0',\n",
       " '7VG_s2PCH_c',\n",
       " '7y1xJAVZxXg',\n",
       " '8-hahRWhFvg',\n",
       " '8YQ_HGvrHEU',\n",
       " '92vuuZt7wak',\n",
       " '9PK-netuhHA',\n",
       " 'A-4dIImaodQ',\n",
       " 'AJKfs4ZnbNE',\n",
       " 'AJm8PeWkiEU',\n",
       " 'BUCnjlTfXDw',\n",
       " 'BcR_Wg42dv8',\n",
       " 'BgyqAD5Z6_A',\n",
       " 'CesHr99ezWE',\n",
       " 'DRauXXz6t0Y',\n",
       " 'DlJEt2KU33I',\n",
       " 'DnpO_RTSNmQ',\n",
       " 'E_F5GxCwizc',\n",
       " 'FVFdsl29s_Q',\n",
       " 'GUizvEjR-0U',\n",
       " 'GvtNyOzGogc',\n",
       " 'HKMNKS-9ugY',\n",
       " 'HNPRad65-Kg',\n",
       " 'IYfgvS0FA7U',\n",
       " 'Ifi9M7DRazI',\n",
       " 'J6lyURyVz7k',\n",
       " 'K4NRJoCNHIs',\n",
       " 'KUdHIatS36A',\n",
       " 'Kye2oX-b39E',\n",
       " 'LfgSEwjAeno',\n",
       " 'MepXBJjsNxs',\n",
       " 'NnW5EjwtE2U',\n",
       " 'Nn_Zln_4pA8',\n",
       " 'OubM8bD9kck',\n",
       " 'P8pjd1QEA0c',\n",
       " 'PDylgzybWAw',\n",
       " 'PsB1e-1BB4Y',\n",
       " 'PuNIwYsz7PI',\n",
       " 'QplQL5eAxlY',\n",
       " 'RKjk0ECXjiQ',\n",
       " 'TrS0uNBuG9c',\n",
       " 'Tt-mpuR_QHQ',\n",
       " 'UC_gXD5OE88',\n",
       " 'UkBvsCMxrNU',\n",
       " 'VdLf4fihP78',\n",
       " 'WA0wKeokWUU',\n",
       " 'WHCQndalv94',\n",
       " 'We1IvUe6KLo',\n",
       " 'Wpzvaqypav8',\n",
       " 'WyGq6cjcc3Q',\n",
       " 'XEVlyP4_11M',\n",
       " 'YEGpriv2TAc',\n",
       " 'YQZ2UeOTO3I',\n",
       " 'Ylomy1Aw9Hk',\n",
       " 'ZwY2E0hjGuU',\n",
       " '_Pz3syET3DY',\n",
       " '_S2G8jhhUHg',\n",
       " 'aIMgfBZrrZ8',\n",
       " 'aRrDsbUdY_k',\n",
       " 'aw6RsUhw1Q8',\n",
       " 'b436uUuf_VI',\n",
       " 'bLY45o6rHm0',\n",
       " 'boI4D1FlIVs',\n",
       " 'bq2_wSsDwkQ',\n",
       " 'dH573B1bkHI',\n",
       " 'fJ9prhPV2PI',\n",
       " 'fpbOEoRrHyU',\n",
       " 'fyVz5vgqBhE',\n",
       " 'gvZSpET11ZY',\n",
       " 'h1Lfd1aB9YI',\n",
       " 'hWQiXv0sn9Y',\n",
       " 'hkYzuHMcP64',\n",
       " 'hkZir1L7fSY',\n",
       " 'hkjkQ-wCZ5A',\n",
       " 'hmoAX9f6MOc',\n",
       " 'hxUAntt1z2c',\n",
       " 'i8xwLWb0lLY',\n",
       " 'iAgKHSNqxa8',\n",
       " 'l9qA8c-E_oA',\n",
       " 'l_htSPGAY7I',\n",
       " 'mOVPStnVgvU',\n",
       " 'nG2pEffLEJo',\n",
       " 'nJ24vcyJxDs',\n",
       " 'nh0ac5HUpDU',\n",
       " 'oDPCmmZifE8',\n",
       " 'pDVmldTurqk',\n",
       " 'pX8BXH3SJn0',\n",
       " 'pf1t7cs9dkc',\n",
       " 'poL7l-Uk3I8',\n",
       " 'qr6ar3xJL_Q',\n",
       " 'r-ERajkMXw0',\n",
       " 'rHFOwlMCdto',\n",
       " 'rrawNvcF64g',\n",
       " 'uiN_-AEhTpk',\n",
       " 'umqvYhb3wf4',\n",
       " 'vU8dCYocuyI',\n",
       " 'wD8AwgO0AQI',\n",
       " 'xAnw2atT628',\n",
       " 'xM8qVuc32Rc',\n",
       " 'xcwJt4bcnXs',\n",
       " 'xecEV4dSAXE',\n",
       " 'ySTQk6updjQ',\n",
       " 'yw_nqzVfxFQ',\n",
       " 'zIhKAQX5izw',\n",
       " 'zNdkrtfZP8I',\n",
       " 'zsjZ2r9Ygzw']"
      ]
     },
     "execution_count": 114,
     "metadata": {},
     "output_type": "execute_result"
    }
   ],
   "source": [
    "sorted(df_intervals[df_intervals['valid']]['video_id'].unique().tolist())"
   ]
  },
  {
   "cell_type": "code",
   "execution_count": 118,
   "metadata": {},
   "outputs": [
    {
     "data": {
      "text/plain": [
       "Index(['dataset', 'delta_time', 'end_time', 'interval_id', 'speaker',\n",
       "       'start_time', 'video_fn', 'video_link'],\n",
       "      dtype='object')"
      ]
     },
     "execution_count": 118,
     "metadata": {},
     "output_type": "execute_result"
    }
   ],
   "source": [
    "df_intervals_org.columns"
   ]
  },
  {
   "cell_type": "code",
   "execution_count": 119,
   "metadata": {},
   "outputs": [
    {
     "data": {
      "text/html": [
       "<div>\n",
       "<style scoped>\n",
       "    .dataframe tbody tr th:only-of-type {\n",
       "        vertical-align: middle;\n",
       "    }\n",
       "\n",
       "    .dataframe tbody tr th {\n",
       "        vertical-align: top;\n",
       "    }\n",
       "\n",
       "    .dataframe thead th {\n",
       "        text-align: right;\n",
       "    }\n",
       "</style>\n",
       "<table border=\"1\" class=\"dataframe\">\n",
       "  <thead>\n",
       "    <tr style=\"text-align: right;\">\n",
       "      <th></th>\n",
       "      <th>dataset</th>\n",
       "      <th>delta_time</th>\n",
       "      <th>end_time</th>\n",
       "      <th>interval_id</th>\n",
       "      <th>speaker</th>\n",
       "      <th>start_time</th>\n",
       "      <th>video_fn</th>\n",
       "      <th>video_link</th>\n",
       "    </tr>\n",
       "  </thead>\n",
       "  <tbody>\n",
       "    <tr>\n",
       "      <th>81026</th>\n",
       "      <td>train</td>\n",
       "      <td>32.10</td>\n",
       "      <td>2019-09-26 00:00:32.099999905</td>\n",
       "      <td>cmu0000035962</td>\n",
       "      <td>noah</td>\n",
       "      <td>2019-09-26 00:00:00</td>\n",
       "      <td>MjVUgIaSQdE</td>\n",
       "      <td>https://www.youtube.com/watch?v=MjVUgIaSQdE</td>\n",
       "    </tr>\n",
       "    <tr>\n",
       "      <th>81027</th>\n",
       "      <td>train</td>\n",
       "      <td>36.60</td>\n",
       "      <td>2019-09-26 00:01:36.500000</td>\n",
       "      <td>cmu0000035964</td>\n",
       "      <td>noah</td>\n",
       "      <td>2019-09-26 00:00:59.900000095</td>\n",
       "      <td>MjVUgIaSQdE</td>\n",
       "      <td>https://www.youtube.com/watch?v=MjVUgIaSQdE</td>\n",
       "    </tr>\n",
       "    <tr>\n",
       "      <th>81028</th>\n",
       "      <td>train</td>\n",
       "      <td>13.93</td>\n",
       "      <td>2019-09-26 00:02:40.933333397</td>\n",
       "      <td>cmu0000035966</td>\n",
       "      <td>noah</td>\n",
       "      <td>2019-09-26 00:02:27</td>\n",
       "      <td>MjVUgIaSQdE</td>\n",
       "      <td>https://www.youtube.com/watch?v=MjVUgIaSQdE</td>\n",
       "    </tr>\n",
       "    <tr>\n",
       "      <th>81029</th>\n",
       "      <td>train</td>\n",
       "      <td>73.33</td>\n",
       "      <td>2019-09-26 00:04:35.766666651</td>\n",
       "      <td>cmu0000035970</td>\n",
       "      <td>noah</td>\n",
       "      <td>2019-09-26 00:03:22.433333397</td>\n",
       "      <td>MjVUgIaSQdE</td>\n",
       "      <td>https://www.youtube.com/watch?v=MjVUgIaSQdE</td>\n",
       "    </tr>\n",
       "  </tbody>\n",
       "</table>\n",
       "</div>"
      ],
      "text/plain": [
       "      dataset  delta_time                       end_time    interval_id  \\\n",
       "81026   train       32.10  2019-09-26 00:00:32.099999905  cmu0000035962   \n",
       "81027   train       36.60     2019-09-26 00:01:36.500000  cmu0000035964   \n",
       "81028   train       13.93  2019-09-26 00:02:40.933333397  cmu0000035966   \n",
       "81029   train       73.33  2019-09-26 00:04:35.766666651  cmu0000035970   \n",
       "\n",
       "      speaker                     start_time     video_fn  \\\n",
       "81026    noah            2019-09-26 00:00:00  MjVUgIaSQdE   \n",
       "81027    noah  2019-09-26 00:00:59.900000095  MjVUgIaSQdE   \n",
       "81028    noah            2019-09-26 00:02:27  MjVUgIaSQdE   \n",
       "81029    noah  2019-09-26 00:03:22.433333397  MjVUgIaSQdE   \n",
       "\n",
       "                                        video_link  \n",
       "81026  https://www.youtube.com/watch?v=MjVUgIaSQdE  \n",
       "81027  https://www.youtube.com/watch?v=MjVUgIaSQdE  \n",
       "81028  https://www.youtube.com/watch?v=MjVUgIaSQdE  \n",
       "81029  https://www.youtube.com/watch?v=MjVUgIaSQdE  "
      ]
     },
     "execution_count": 119,
     "metadata": {},
     "output_type": "execute_result"
    }
   ],
   "source": [
    "df_intervals_org[df_intervals_org['video_link'].str.contains('MjVUgIaSQdE')]"
   ]
  },
  {
   "cell_type": "code",
   "execution_count": null,
   "metadata": {},
   "outputs": [],
   "source": []
  }
 ],
 "metadata": {
  "kernelspec": {
   "display_name": "pyvok",
   "language": "python",
   "name": "pyvok"
  },
  "language_info": {
   "codemirror_mode": {
    "name": "ipython",
    "version": 3
   },
   "file_extension": ".py",
   "mimetype": "text/x-python",
   "name": "python",
   "nbconvert_exporter": "python",
   "pygments_lexer": "ipython3",
   "version": "3.6.14"
  },
  "toc": {
   "base_numbering": 1,
   "nav_menu": {},
   "number_sections": true,
   "sideBar": true,
   "skip_h1_title": false,
   "title_cell": "Table of Contents",
   "title_sidebar": "Contents",
   "toc_cell": false,
   "toc_position": {},
   "toc_section_display": true,
   "toc_window_display": false
  },
  "toc-showcode": false
 },
 "nbformat": 4,
 "nbformat_minor": 4
}
