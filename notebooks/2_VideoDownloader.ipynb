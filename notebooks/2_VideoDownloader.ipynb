{
 "cells": [
  {
   "cell_type": "markdown",
   "metadata": {},
   "source": [
    "# Imports"
   ]
  },
  {
   "cell_type": "code",
   "execution_count": 1,
   "metadata": {
    "ExecuteTime": {
     "end_time": "2021-01-17T10:20:35.569777Z",
     "start_time": "2021-01-17T10:20:34.256242Z"
    }
   },
   "outputs": [],
   "source": [
    "import os\n",
    "import h5py\n",
    "import time\n",
    "from subprocess import call\n",
    "import youtube_dl\n",
    "\n",
    "import numpy as np\n",
    "import pandas as pd\n",
    "\n",
    "import seaborn as sns\n",
    "from pprint import pprint\n",
    "import matplotlib.pyplot as plt\n",
    "from ipywidgets import interact\n",
    "from IPython.display import YouTubeVideo, Markdown, display, Video, Image\n",
    "\n",
    "from tqdm.notebook import tqdm\n",
    "tqdm.pandas()"
   ]
  },
  {
   "cell_type": "code",
   "execution_count": 2,
   "metadata": {
    "ExecuteTime": {
     "end_time": "2021-01-17T10:20:35.575362Z",
     "start_time": "2021-01-17T10:20:35.572207Z"
    }
   },
   "outputs": [],
   "source": [
    "pd.set_option('display.max_colwidth', 200)\n",
    "pd.options.display.float_format = '{:,.2f}'.format\n",
    "\n",
    "def printmd(string):\n",
    "    display(Markdown(string))"
   ]
  },
  {
   "cell_type": "markdown",
   "metadata": {},
   "source": [
    "# Constants"
   ]
  },
  {
   "cell_type": "code",
   "execution_count": 205,
   "metadata": {},
   "outputs": [],
   "source": [
    "SPEAKER_NAME = 'oliver'\n",
    "LIST_BULLET = '  ◘ '\n",
    "TAB = '&nbsp;&nbsp;&nbsp;&nbsp;'\n",
    "VIDEO_ID_LEN = 11\n",
    "FRAME_RATE = 15"
   ]
  },
  {
   "cell_type": "code",
   "execution_count": 206,
   "metadata": {},
   "outputs": [],
   "source": [
    "PATS_DATA_ROOT = '/Users/staveshemesh/Projects/PATS_DATA/'\n",
    "PATS_INTERVALS_DIR = os.path.join(PATS_DATA_ROOT, f'Processed/{SPEAKER_NAME}/data/processed/{SPEAKER_NAME}/')\n",
    "\n",
    "INTERVALS_PATH = '/Users/staveshemesh/Projects/shstav2/token_voken/data/20210418_005318/dataframes/df_intervals_oliver.csv'\n",
    "\n",
    "# /Users/staveshemesh/Projects/PATS_DATA/Youtube/oliver\n",
    "PATS_SPEAKER_VIZ_DIR = os.path.join(PATS_DATA_ROOT, f'Youtube/{SPEAKER_NAME}')"
   ]
  },
  {
   "cell_type": "code",
   "execution_count": 158,
   "metadata": {},
   "outputs": [],
   "source": [
    "TIMESTR = time.strftime(\"%Y%m%d_%H%M%S\")\n",
    "\n",
    "OUTPUT_ROOT = '/Users/staveshemesh/Projects/shstav2/token_voken/data/'\n",
    "OUTPUT_DIR = os.path.join(OUTPUT_ROOT, TIMESTR, 'dataframes')"
   ]
  },
  {
   "cell_type": "code",
   "execution_count": 54,
   "metadata": {},
   "outputs": [],
   "source": [
    "COLS_VIEW = [\n",
    "    'speaker', 'interval_id',\n",
    "    'duration', 'start_time_string', 'end_time_string',\n",
    "    'video_link'\n",
    "]"
   ]
  },
  {
   "cell_type": "markdown",
   "metadata": {},
   "source": [
    "# Helpers"
   ]
  },
  {
   "cell_type": "markdown",
   "metadata": {},
   "source": [
    "## Resolvers"
   ]
  },
  {
   "cell_type": "markdown",
   "metadata": {},
   "source": [
    "## Display Utils"
   ]
  },
  {
   "cell_type": "code",
   "execution_count": 5,
   "metadata": {},
   "outputs": [],
   "source": [
    "def printmd(string):\n",
    "    display(Markdown(string))\n",
    "\n",
    "CAPTION_STYLE = {\n",
    "    'selector': 'caption',\n",
    "    'props': [\n",
    "        ('color', 'navy'),\n",
    "        ('font-size', '16px')\n",
    "    ]\n",
    "}\n",
    "\n",
    "def display_df_with_caption(df, title):\n",
    "    return df.style.set_caption(title).set_table_styles([CAPTION_STYLE])\n",
    "\n",
    "def display_value_counts(series, title):\n",
    "    df_value_counts = series.value_counts().to_frame().head()\n",
    "    df_style = display_df_with_caption(df_value_counts, title)\n",
    "    display(df_style)\n",
    "    \n",
    "def display_df_info(df):\n",
    "    print(f'{LIST_BULLET}Videos: #{df[\"video_link\"].nunique():,}')\n",
    "    print(f'{LIST_BULLET}Intervals: #{df[\"interval_id\"].nunique():,}')\n",
    "    total_duration = df[\"duration\"].sum()\n",
    "    total_duration_string = time.strftime('%H hours, %M minutues, %S seconds', time.gmtime(total_duration))\n",
    "    print(f'{LIST_BULLET}Total Duration: {total_duration_string} ({int(total_duration):,} seconds)')\n",
    "    all_youtube = df_intervals['video_link'].str.contains('youtube').all()\n",
    "    print(f'{LIST_BULLET}All are Youtube videos: {all_youtube}')"
   ]
  },
  {
   "cell_type": "markdown",
   "metadata": {},
   "source": [
    "# Read Data"
   ]
  },
  {
   "cell_type": "markdown",
   "metadata": {},
   "source": [
    "## df_intervals"
   ]
  },
  {
   "cell_type": "code",
   "execution_count": 6,
   "metadata": {},
   "outputs": [],
   "source": [
    "df_intervals = pd.read_csv(INTERVALS_PATH)"
   ]
  },
  {
   "cell_type": "code",
   "execution_count": 7,
   "metadata": {},
   "outputs": [
    {
     "data": {
      "text/html": [
       "<div>\n",
       "<style scoped>\n",
       "    .dataframe tbody tr th:only-of-type {\n",
       "        vertical-align: middle;\n",
       "    }\n",
       "\n",
       "    .dataframe tbody tr th {\n",
       "        vertical-align: top;\n",
       "    }\n",
       "\n",
       "    .dataframe thead th {\n",
       "        text-align: right;\n",
       "    }\n",
       "</style>\n",
       "<table border=\"1\" class=\"dataframe\">\n",
       "  <thead>\n",
       "    <tr style=\"text-align: right;\">\n",
       "      <th></th>\n",
       "      <th>speaker</th>\n",
       "      <th>video_id</th>\n",
       "      <th>interval_id</th>\n",
       "      <th>valid</th>\n",
       "      <th>duration</th>\n",
       "      <th>start_time_string</th>\n",
       "      <th>end_time_string</th>\n",
       "      <th>video_link</th>\n",
       "      <th>video_fn</th>\n",
       "      <th>start_time</th>\n",
       "      <th>end_time</th>\n",
       "      <th>org_start_time</th>\n",
       "      <th>org_end_time</th>\n",
       "      <th>max_frames_token</th>\n",
       "      <th>valid_duration</th>\n",
       "      <th>valid_single_token_per_frame</th>\n",
       "      <th>video_downloded</th>\n",
       "      <th>valid_hd5</th>\n",
       "      <th>valid_max_token_duration</th>\n",
       "      <th>valid_frames_count</th>\n",
       "    </tr>\n",
       "  </thead>\n",
       "  <tbody>\n",
       "    <tr>\n",
       "      <th>0</th>\n",
       "      <td>oliver</td>\n",
       "      <td>DRauXXz6t0Y</td>\n",
       "      <td>214428</td>\n",
       "      <td>False</td>\n",
       "      <td>12.21</td>\n",
       "      <td>00:00:58.62</td>\n",
       "      <td>00:01:10.83</td>\n",
       "      <td>http://www.youtube.com/watch?v=DRauXXz6t0Y</td>\n",
       "      <td>Abortion_Laws_-_Last_Week_Tonight_with_John_Oliver_HBO-DRauXXz6t0Y.webm</td>\n",
       "      <td>0 days 00:00:58.620000</td>\n",
       "      <td>0 days 00:01:10.830000</td>\n",
       "      <td>0 days 00:00:58.620000</td>\n",
       "      <td>0 days 00:01:10.830000</td>\n",
       "      <td>88</td>\n",
       "      <td>True</td>\n",
       "      <td>True</td>\n",
       "      <td>False</td>\n",
       "      <td>True</td>\n",
       "      <td>False</td>\n",
       "      <td>True</td>\n",
       "    </tr>\n",
       "    <tr>\n",
       "      <th>1</th>\n",
       "      <td>oliver</td>\n",
       "      <td>DRauXXz6t0Y</td>\n",
       "      <td>214429</td>\n",
       "      <td>True</td>\n",
       "      <td>6.14</td>\n",
       "      <td>00:01:10.97</td>\n",
       "      <td>00:01:17.11</td>\n",
       "      <td>http://www.youtube.com/watch?v=DRauXXz6t0Y</td>\n",
       "      <td>Abortion_Laws_-_Last_Week_Tonight_with_John_Oliver_HBO-DRauXXz6t0Y.webm</td>\n",
       "      <td>0 days 00:01:10.970000</td>\n",
       "      <td>0 days 00:01:17.110000</td>\n",
       "      <td>0 days 00:01:10.970000</td>\n",
       "      <td>0 days 00:01:17.110000</td>\n",
       "      <td>31</td>\n",
       "      <td>True</td>\n",
       "      <td>True</td>\n",
       "      <td>False</td>\n",
       "      <td>True</td>\n",
       "      <td>True</td>\n",
       "      <td>True</td>\n",
       "    </tr>\n",
       "  </tbody>\n",
       "</table>\n",
       "</div>"
      ],
      "text/plain": [
       "  speaker     video_id  interval_id  valid  duration start_time_string  \\\n",
       "0  oliver  DRauXXz6t0Y       214428  False     12.21       00:00:58.62   \n",
       "1  oliver  DRauXXz6t0Y       214429   True      6.14       00:01:10.97   \n",
       "\n",
       "  end_time_string                                  video_link  \\\n",
       "0     00:01:10.83  http://www.youtube.com/watch?v=DRauXXz6t0Y   \n",
       "1     00:01:17.11  http://www.youtube.com/watch?v=DRauXXz6t0Y   \n",
       "\n",
       "                                                                  video_fn  \\\n",
       "0  Abortion_Laws_-_Last_Week_Tonight_with_John_Oliver_HBO-DRauXXz6t0Y.webm   \n",
       "1  Abortion_Laws_-_Last_Week_Tonight_with_John_Oliver_HBO-DRauXXz6t0Y.webm   \n",
       "\n",
       "               start_time                end_time          org_start_time  \\\n",
       "0  0 days 00:00:58.620000  0 days 00:01:10.830000  0 days 00:00:58.620000   \n",
       "1  0 days 00:01:10.970000  0 days 00:01:17.110000  0 days 00:01:10.970000   \n",
       "\n",
       "             org_end_time  max_frames_token  valid_duration  \\\n",
       "0  0 days 00:01:10.830000                88            True   \n",
       "1  0 days 00:01:17.110000                31            True   \n",
       "\n",
       "   valid_single_token_per_frame  video_downloded  valid_hd5  \\\n",
       "0                          True            False       True   \n",
       "1                          True            False       True   \n",
       "\n",
       "   valid_max_token_duration  valid_frames_count  \n",
       "0                     False                True  \n",
       "1                      True                True  "
      ]
     },
     "execution_count": 7,
     "metadata": {},
     "output_type": "execute_result"
    }
   ],
   "source": [
    "df_intervals.head(n=2)"
   ]
  },
  {
   "cell_type": "code",
   "execution_count": 11,
   "metadata": {},
   "outputs": [
    {
     "data": {
      "text/markdown": [
       "**All intervals, Speaker oliver**:"
      ],
      "text/plain": [
       "<IPython.core.display.Markdown object>"
      ]
     },
     "metadata": {},
     "output_type": "display_data"
    },
    {
     "name": "stdout",
     "output_type": "stream",
     "text": [
      "  ◘ Videos: #124\n",
      "  ◘ Intervals: #4,629\n",
      "  ◘ Total Duration: 18 hours, 15 minutues, 23 seconds (65,723 seconds)\n",
      "  ◘ All are Youtube videos: True\n"
     ]
    }
   ],
   "source": [
    "printmd(f'**All intervals, Speaker {SPEAKER_NAME}**:')\n",
    "display_df_info(df_intervals)"
   ]
  },
  {
   "cell_type": "markdown",
   "metadata": {},
   "source": [
    "## df_intervals_valid"
   ]
  },
  {
   "cell_type": "code",
   "execution_count": 40,
   "metadata": {},
   "outputs": [],
   "source": [
    "df_intervals_valid = df_intervals[df_intervals['valid']].copy()"
   ]
  },
  {
   "cell_type": "code",
   "execution_count": 41,
   "metadata": {},
   "outputs": [
    {
     "data": {
      "text/markdown": [
       "**VALID intervals, Speaker oliver**:"
      ],
      "text/plain": [
       "<IPython.core.display.Markdown object>"
      ]
     },
     "metadata": {},
     "output_type": "display_data"
    },
    {
     "name": "stdout",
     "output_type": "stream",
     "text": [
      "  ◘ Videos: #123\n",
      "  ◘ Intervals: #2,118\n",
      "  ◘ Total Duration: 08 hours, 13 minutues, 25 seconds (29,605 seconds)\n",
      "  ◘ All are Youtube videos: True\n"
     ]
    }
   ],
   "source": [
    "printmd(f'**VALID intervals, Speaker {SPEAKER_NAME}**:')\n",
    "display_df_info(df_intervals_valid)"
   ]
  },
  {
   "cell_type": "markdown",
   "metadata": {},
   "source": [
    "# Download Youtube Videos"
   ]
  },
  {
   "cell_type": "markdown",
   "metadata": {},
   "source": [
    "## Downaloder"
   ]
  },
  {
   "cell_type": "code",
   "execution_count": 42,
   "metadata": {},
   "outputs": [],
   "source": [
    "SUCCESS_RETURN_CODE = 0\n",
    "\n",
    "def run_command(command):\n",
    "    result = call(command, shell=True)\n",
    "    success = result == SUCCESS_RETURN_CODE\n",
    "    status_symbol = '✅ ' if success else '❌'\n",
    "    print(f'{status_symbol} {command}')\n",
    "\n",
    "def youtube_downloader(video_id):\n",
    "    link = f'https://www.youtube.com/watch?v={video_id}'\n",
    "    output_dir = os.path.join(PATS_SPEAKER_VIZ_DIR, video_id)\n",
    "    output_path = os.path.join(output_dir, video_id)\n",
    "    if not(os.path.exists(os.path.dirname(output_dir))):\n",
    "        os.makedirs(os.path.dirname(output_dir))\n",
    "    command = 'youtube-dl -f bestvideo[ext=mp4]+bestaudio[ext=m4a]/bestvideo+bestaudio -o {output_path} {link}'.format(link=link, output_path=output_path)\n",
    "    run_command(command)"
   ]
  },
  {
   "cell_type": "markdown",
   "metadata": {},
   "source": [
    "## Pending Videos"
   ]
  },
  {
   "cell_type": "code",
   "execution_count": 44,
   "metadata": {},
   "outputs": [],
   "source": [
    "def get_download_status():\n",
    "    # want to downloaded\n",
    "    to_download_video_links = df_intervals_valid['video_link'].unique()\n",
    "    to_download_video_ids = [lnk[-VIDEO_ID_LEN:] for lnk in to_download_video_links]\n",
    "    # already downloaded\n",
    "    already_downloaded_video_ids = !ls {PATS_SPEAKER_VIZ_DIR}\n",
    "    # assert unique ids\n",
    "    assert len(to_download_video_links) == len(set(to_download_video_links))\n",
    "    assert len(already_downloaded_video_ids) == len(set(already_downloaded_video_ids))\n",
    "    # needs to download\n",
    "    pending_download = set(already_downloaded_video_ids) - set(to_download_video_ids)\n",
    "    print(f'Download Status: {len(already_downloaded_video_ids)} / {len(to_download_video_ids)} downloaded, {len(pending_download)} pending.')\n",
    "    return pending_download, already_downloaded_video_ids"
   ]
  },
  {
   "cell_type": "code",
   "execution_count": 45,
   "metadata": {},
   "outputs": [
    {
     "name": "stdout",
     "output_type": "stream",
     "text": [
      "Download Status: 124 / 123 downloaded, 1 pending.\n"
     ]
    }
   ],
   "source": [
    "pending_download, already_downloaded_video_ids = get_download_status()"
   ]
  },
  {
   "cell_type": "code",
   "execution_count": 46,
   "metadata": {},
   "outputs": [
    {
     "name": "stdout",
     "output_type": "stream",
     "text": [
      "✅  youtube-dl -f bestvideo[ext=mp4]+bestaudio[ext=m4a]/bestvideo+bestaudio -o /Users/staveshemesh/Projects/PATS_DATA/Youtube/oliver/-Z668Qc0P4Q/-Z668Qc0P4Q https://www.youtube.com/watch?v=-Z668Qc0P4Q\n"
     ]
    }
   ],
   "source": [
    "for video_id in pending_download:\n",
    "    youtube_downloader(video_id)"
   ]
  },
  {
   "cell_type": "code",
   "execution_count": 47,
   "metadata": {},
   "outputs": [
    {
     "name": "stdout",
     "output_type": "stream",
     "text": [
      "Download Status: 124 / 123 downloaded, 1 pending.\n"
     ]
    }
   ],
   "source": [
    "pending_download, already_downloaded_video_ids = get_download_status()"
   ]
  },
  {
   "cell_type": "markdown",
   "metadata": {},
   "source": [
    "# Crop Videos"
   ]
  },
  {
   "cell_type": "code",
   "execution_count": 49,
   "metadata": {},
   "outputs": [],
   "source": [
    "df_intervals_valid['video_downloaded'] = df_intervals_valid['video_id'].isin(already_downloaded_video_ids)"
   ]
  },
  {
   "cell_type": "code",
   "execution_count": 55,
   "metadata": {},
   "outputs": [
    {
     "data": {
      "text/html": [
       "<style  type=\"text/css\" >\n",
       "    #T_cedadcde_a04e_11eb_9a68_acde48001122 caption {\n",
       "          color: navy;\n",
       "          font-size: 16px;\n",
       "    }</style><table id=\"T_cedadcde_a04e_11eb_9a68_acde48001122\" ><caption>Downloaded out of Valids</caption><thead>    <tr>        <th class=\"blank level0\" ></th>        <th class=\"col_heading level0 col0\" >video_downloaded</th>    </tr></thead><tbody>\n",
       "                <tr>\n",
       "                        <th id=\"T_cedadcde_a04e_11eb_9a68_acde48001122level0_row0\" class=\"row_heading level0 row0\" >True</th>\n",
       "                        <td id=\"T_cedadcde_a04e_11eb_9a68_acde48001122row0_col0\" class=\"data row0 col0\" >2118</td>\n",
       "            </tr>\n",
       "    </tbody></table>"
      ],
      "text/plain": [
       "<pandas.io.formats.style.Styler at 0x139f400f0>"
      ]
     },
     "metadata": {},
     "output_type": "display_data"
    }
   ],
   "source": [
    "display_value_counts(df_intervals_valid['video_downloaded'], 'Downloaded out of Valids')"
   ]
  },
  {
   "cell_type": "code",
   "execution_count": 56,
   "metadata": {},
   "outputs": [],
   "source": [
    "df_intervals_valid.sort_values(['video_id', 'start_time'], inplace=True)"
   ]
  },
  {
   "cell_type": "code",
   "execution_count": 59,
   "metadata": {},
   "outputs": [
    {
     "data": {
      "text/html": [
       "<div>\n",
       "<style scoped>\n",
       "    .dataframe tbody tr th:only-of-type {\n",
       "        vertical-align: middle;\n",
       "    }\n",
       "\n",
       "    .dataframe tbody tr th {\n",
       "        vertical-align: top;\n",
       "    }\n",
       "\n",
       "    .dataframe thead th {\n",
       "        text-align: right;\n",
       "    }\n",
       "</style>\n",
       "<table border=\"1\" class=\"dataframe\">\n",
       "  <thead>\n",
       "    <tr style=\"text-align: right;\">\n",
       "      <th></th>\n",
       "      <th>speaker</th>\n",
       "      <th>interval_id</th>\n",
       "      <th>duration</th>\n",
       "      <th>start_time_string</th>\n",
       "      <th>end_time_string</th>\n",
       "      <th>video_link</th>\n",
       "    </tr>\n",
       "  </thead>\n",
       "  <tbody>\n",
       "    <tr>\n",
       "      <th>4344</th>\n",
       "      <td>oliver</td>\n",
       "      <td>101087</td>\n",
       "      <td>16.53</td>\n",
       "      <td>00:15:06.43</td>\n",
       "      <td>00:15:22.96</td>\n",
       "      <td>http://www.youtube.com/watch?v=7VG_s2PCH_c</td>\n",
       "    </tr>\n",
       "    <tr>\n",
       "      <th>4347</th>\n",
       "      <td>oliver</td>\n",
       "      <td>101092</td>\n",
       "      <td>11.07</td>\n",
       "      <td>00:15:29.10</td>\n",
       "      <td>00:15:40.16</td>\n",
       "      <td>http://www.youtube.com/watch?v=7VG_s2PCH_c</td>\n",
       "    </tr>\n",
       "    <tr>\n",
       "      <th>4348</th>\n",
       "      <td>oliver</td>\n",
       "      <td>101093</td>\n",
       "      <td>5.67</td>\n",
       "      <td>00:15:40.30</td>\n",
       "      <td>00:15:45.96</td>\n",
       "      <td>http://www.youtube.com/watch?v=7VG_s2PCH_c</td>\n",
       "    </tr>\n",
       "    <tr>\n",
       "      <th>4349</th>\n",
       "      <td>oliver</td>\n",
       "      <td>101097</td>\n",
       "      <td>6.47</td>\n",
       "      <td>00:15:47.36</td>\n",
       "      <td>00:15:53.83</td>\n",
       "      <td>http://www.youtube.com/watch?v=7VG_s2PCH_c</td>\n",
       "    </tr>\n",
       "    <tr>\n",
       "      <th>3628</th>\n",
       "      <td>oliver</td>\n",
       "      <td>101103</td>\n",
       "      <td>14.00</td>\n",
       "      <td>00:19:48.50</td>\n",
       "      <td>00:20:02.50</td>\n",
       "      <td>http://www.youtube.com/watch?v=FVFdsl29s_Q</td>\n",
       "    </tr>\n",
       "  </tbody>\n",
       "</table>\n",
       "</div>"
      ],
      "text/plain": [
       "     speaker  interval_id  duration start_time_string end_time_string  \\\n",
       "4344  oliver       101087     16.53       00:15:06.43     00:15:22.96   \n",
       "4347  oliver       101092     11.07       00:15:29.10     00:15:40.16   \n",
       "4348  oliver       101093      5.67       00:15:40.30     00:15:45.96   \n",
       "4349  oliver       101097      6.47       00:15:47.36     00:15:53.83   \n",
       "3628  oliver       101103     14.00       00:19:48.50     00:20:02.50   \n",
       "\n",
       "                                      video_link  \n",
       "4344  http://www.youtube.com/watch?v=7VG_s2PCH_c  \n",
       "4347  http://www.youtube.com/watch?v=7VG_s2PCH_c  \n",
       "4348  http://www.youtube.com/watch?v=7VG_s2PCH_c  \n",
       "4349  http://www.youtube.com/watch?v=7VG_s2PCH_c  \n",
       "3628  http://www.youtube.com/watch?v=FVFdsl29s_Q  "
      ]
     },
     "execution_count": 59,
     "metadata": {},
     "output_type": "execute_result"
    }
   ],
   "source": [
    "df_intervals_valid[COLS_VIEW][40:45]"
   ]
  },
  {
   "cell_type": "markdown",
   "metadata": {},
   "source": [
    "## Cropper"
   ]
  },
  {
   "cell_type": "code",
   "execution_count": 96,
   "metadata": {},
   "outputs": [],
   "source": [
    "def get_video_id(interval_id):\n",
    "    df_interval = df_intervals_valid[df_intervals_valid['interval_id'] == interval_id]\n",
    "    return df_interval.iloc[0]['video_id']\n",
    "    \n",
    "def resolve_interval_video_path(interval_id):\n",
    "    video_id = get_video_id(interval_id)\n",
    "    video_dir = os.path.join(PATS_DATA_ROOT, 'Youtube', SPEAKER_NAME, video_id)    \n",
    "    interval_path = os.path.join(video_dir, interval_id, f'{interval_id}.mp4')\n",
    "    return interval_path\n",
    "\n",
    "def resolve_interval_frames_dir(interval_id, create=True):\n",
    "    interval_video_path = resolve_interval_video_path(interval_id)\n",
    "    interval_video_dir = os.path.dirname(interval_video_path)\n",
    "    inetrval_frames_dir = os.path.join(interval_video_dir, 'frames')\n",
    "    if create and not os.path.exists(inetrval_frames_dir):\n",
    "        os.makedirs(inetrval_frames_dir)\n",
    "    return inetrval_frames_dir\n",
    "\n",
    "def save_interval(input_fn, start, end, output_fn):\n",
    "    \"\"\"\n",
    "        -strict: Specify how strictly to follow the standards\n",
    "        -y: Overwrite output files without asking\n",
    "    \"\"\"\n",
    "    command = 'ffmpeg -i \"%s\" -ss %s -to %s -strict -2 \"%s\" -y' % (input_fn, start, end, output_fn)\n",
    "    run_command(command)\n",
    "\n",
    "def crop_tool(interval_row):\n",
    "    speaker, video_id, interval_id, start, end = interval_row[['speaker', 'video_id', 'interval_id', 'start_time_string', 'end_time_string']]\n",
    "    \n",
    "    video_dir = os.path.join(PATS_SPEAKER_VIZ_DIR, video_id)\n",
    "    video_path = os.path.join(video_dir, f'{video_id}.mp4')\n",
    "    \n",
    "    #TODO: use get_interval_video_path\n",
    "    interval_dir = os.path.join(video_dir, str(interval_id))\n",
    "    interval_path = os.path.join(interval_dir, f'{interval_id}.mp4')\n",
    "    \n",
    "    if not(os.path.exists(os.path.dirname(interval_path))):\n",
    "        os.makedirs(os.path.dirname(interval_path))\n",
    "        save_interval(video_path, start, end, interval_path)"
   ]
  },
  {
   "cell_type": "code",
   "execution_count": null,
   "metadata": {},
   "outputs": [],
   "source": [
    "df_intervals_valid[1500:].progress_apply(crop_tool, axis=1);"
   ]
  },
  {
   "cell_type": "code",
   "execution_count": 107,
   "metadata": {},
   "outputs": [],
   "source": [
    "df_intervals_valid['interval_id'] = df_intervals_valid['interval_id'].astype(str)"
   ]
  },
  {
   "cell_type": "code",
   "execution_count": 126,
   "metadata": {},
   "outputs": [],
   "source": [
    "df_intervals_valid['interval_video_path'] = \\\n",
    "    PATS_SPEAKER_VIZ_DIR + '/' + \\\n",
    "    df_intervals_valid['video_id'] + '/' + \\\n",
    "    df_intervals_valid['interval_id'] + '/' + \\\n",
    "    df_intervals_valid['interval_id'] + '.mp4'"
   ]
  },
  {
   "cell_type": "code",
   "execution_count": 172,
   "metadata": {},
   "outputs": [],
   "source": [
    "df_intervals_valid['full_video_path'] = \\\n",
    "    PATS_SPEAKER_VIZ_DIR + '/' + \\\n",
    "    df_intervals_valid['video_id'] + '/' + \\\n",
    "    df_intervals_valid['video_id'] + '.mp4'"
   ]
  },
  {
   "cell_type": "code",
   "execution_count": 174,
   "metadata": {},
   "outputs": [
    {
     "data": {
      "text/plain": [
       "True     1851\n",
       "False     267\n",
       "Name: full_video_path, dtype: int64"
      ]
     },
     "execution_count": 174,
     "metadata": {},
     "output_type": "execute_result"
    }
   ],
   "source": [
    "df_intervals_valid['full_video_path'].apply(os.path.exists).value_counts()"
   ]
  },
  {
   "cell_type": "code",
   "execution_count": 184,
   "metadata": {},
   "outputs": [
    {
     "data": {
      "text/plain": [
       "False    2118\n",
       "Name: full_video_path, dtype: int64"
      ]
     },
     "execution_count": 184,
     "metadata": {},
     "output_type": "execute_result"
    }
   ],
   "source": [
    "df_intervals_valid['full_video_path'].apply(os.path.exists).value_counts()"
   ]
  },
  {
   "cell_type": "code",
   "execution_count": 183,
   "metadata": {},
   "outputs": [],
   "source": [
    "for video_path in df_intervals_valid['full_video_path'].unique():\n",
    "    if os.path.exists(video_path):\n",
    "        print('delete: ', video_path)\n",
    "        os.remove(video_path)"
   ]
  },
  {
   "cell_type": "code",
   "execution_count": 176,
   "metadata": {},
   "outputs": [
    {
     "data": {
      "text/plain": [
       "True     1992\n",
       "False     126\n",
       "Name: interval_video_downloaded, dtype: int64"
      ]
     },
     "execution_count": 176,
     "metadata": {},
     "output_type": "execute_result"
    }
   ],
   "source": [
    "df_intervals_valid['interval_video_downloaded'].value_counts()"
   ]
  },
  {
   "cell_type": "code",
   "execution_count": 144,
   "metadata": {},
   "outputs": [],
   "source": [
    "df_intervals_valid['interval_frames_dir'] = \\\n",
    "    PATS_SPEAKER_VIZ_DIR + '/' + \\\n",
    "    df_intervals_valid['video_id'] + '/' + \\\n",
    "    df_intervals_valid['interval_id'] + \\\n",
    "    '/vokens/face_annot_224'"
   ]
  },
  {
   "cell_type": "code",
   "execution_count": 145,
   "metadata": {},
   "outputs": [
    {
     "data": {
      "application/vnd.jupyter.widget-view+json": {
       "model_id": "36b9995247034d1087e5cc18c3be9158",
       "version_major": 2,
       "version_minor": 0
      },
      "text/plain": [
       "HBox(children=(FloatProgress(value=0.0, max=2118.0), HTML(value='')))"
      ]
     },
     "metadata": {},
     "output_type": "display_data"
    },
    {
     "name": "stdout",
     "output_type": "stream",
     "text": [
      "\n"
     ]
    }
   ],
   "source": [
    "df_intervals_valid['interval_video_downloaded'] = df_intervals_valid['interval_video_path'].progress_apply(os.path.exists)"
   ]
  },
  {
   "cell_type": "code",
   "execution_count": 146,
   "metadata": {},
   "outputs": [
    {
     "data": {
      "text/plain": [
       "3033    /Users/staveshemesh/Projects/PATS_DATA/Youtube/oliver/Tt-mpuR_QHQ/100912/100912.mp4\n",
       "3034    /Users/staveshemesh/Projects/PATS_DATA/Youtube/oliver/Tt-mpuR_QHQ/100913/100913.mp4\n",
       "3036    /Users/staveshemesh/Projects/PATS_DATA/Youtube/oliver/Tt-mpuR_QHQ/100937/100937.mp4\n",
       "3565    /Users/staveshemesh/Projects/PATS_DATA/Youtube/oliver/P8pjd1QEA0c/100945/100945.mp4\n",
       "3567    /Users/staveshemesh/Projects/PATS_DATA/Youtube/oliver/P8pjd1QEA0c/100958/100958.mp4\n",
       "Name: interval_video_path, dtype: object"
      ]
     },
     "execution_count": 146,
     "metadata": {},
     "output_type": "execute_result"
    }
   ],
   "source": [
    "df_intervals_valid['interval_video_path'].head()"
   ]
  },
  {
   "cell_type": "code",
   "execution_count": 159,
   "metadata": {},
   "outputs": [],
   "source": [
    "os.makedirs(OUTPUT_DIR)"
   ]
  },
  {
   "cell_type": "code",
   "execution_count": 160,
   "metadata": {},
   "outputs": [
    {
     "data": {
      "text/plain": [
       "'/Users/staveshemesh/Projects/shstav2/token_voken/data/20210419_220655/dataframes'"
      ]
     },
     "execution_count": 160,
     "metadata": {},
     "output_type": "execute_result"
    }
   ],
   "source": [
    "OUTPUT_DIR"
   ]
  },
  {
   "cell_type": "code",
   "execution_count": 186,
   "metadata": {},
   "outputs": [],
   "source": [
    "output_path = os.path.join(OUTPUT_DIR, 'df_intervals_valid.csv')\n",
    "df_intervals_valid.to_csv(output_path, index=False, header=True)"
   ]
  },
  {
   "cell_type": "code",
   "execution_count": 196,
   "metadata": {},
   "outputs": [
    {
     "data": {
      "text/html": [
       "<div>\n",
       "<style scoped>\n",
       "    .dataframe tbody tr th:only-of-type {\n",
       "        vertical-align: middle;\n",
       "    }\n",
       "\n",
       "    .dataframe tbody tr th {\n",
       "        vertical-align: top;\n",
       "    }\n",
       "\n",
       "    .dataframe thead th {\n",
       "        text-align: right;\n",
       "    }\n",
       "</style>\n",
       "<table border=\"1\" class=\"dataframe\">\n",
       "  <thead>\n",
       "    <tr style=\"text-align: right;\">\n",
       "      <th></th>\n",
       "      <th>speaker</th>\n",
       "      <th>video_id</th>\n",
       "      <th>interval_id</th>\n",
       "      <th>valid</th>\n",
       "      <th>duration</th>\n",
       "      <th>start_time_string</th>\n",
       "      <th>end_time_string</th>\n",
       "      <th>video_link</th>\n",
       "      <th>video_fn</th>\n",
       "      <th>start_time</th>\n",
       "      <th>end_time</th>\n",
       "      <th>org_start_time</th>\n",
       "      <th>org_end_time</th>\n",
       "      <th>max_frames_token</th>\n",
       "      <th>valid_duration</th>\n",
       "      <th>valid_single_token_per_frame</th>\n",
       "      <th>video_downloded</th>\n",
       "      <th>valid_hd5</th>\n",
       "      <th>valid_max_token_duration</th>\n",
       "      <th>valid_frames_count</th>\n",
       "    </tr>\n",
       "  </thead>\n",
       "  <tbody>\n",
       "    <tr>\n",
       "      <th>28</th>\n",
       "      <td>oliver</td>\n",
       "      <td>DRauXXz6t0Y</td>\n",
       "      <td>216104</td>\n",
       "      <td>False</td>\n",
       "      <td>69.34</td>\n",
       "      <td>00:04:32.47</td>\n",
       "      <td>00:05:41.80</td>\n",
       "      <td>http://www.youtube.com/watch?v=DRauXXz6t0Y</td>\n",
       "      <td>Abortion_Laws_-_Last_Week_Tonight_with_John_Oliver_HBO-DRauXXz6t0Y.webm</td>\n",
       "      <td>0 days 00:04:32.470000</td>\n",
       "      <td>0 days 00:05:41.800000</td>\n",
       "      <td>0 days 00:04:32.470000</td>\n",
       "      <td>0 days 00:05:41.800000</td>\n",
       "      <td>78</td>\n",
       "      <td>True</td>\n",
       "      <td>True</td>\n",
       "      <td>False</td>\n",
       "      <td>True</td>\n",
       "      <td>False</td>\n",
       "      <td>True</td>\n",
       "    </tr>\n",
       "  </tbody>\n",
       "</table>\n",
       "</div>"
      ],
      "text/plain": [
       "   speaker     video_id  interval_id  valid  duration start_time_string  \\\n",
       "28  oliver  DRauXXz6t0Y       216104  False     69.34       00:04:32.47   \n",
       "\n",
       "   end_time_string                                  video_link  \\\n",
       "28     00:05:41.80  http://www.youtube.com/watch?v=DRauXXz6t0Y   \n",
       "\n",
       "                                                                   video_fn  \\\n",
       "28  Abortion_Laws_-_Last_Week_Tonight_with_John_Oliver_HBO-DRauXXz6t0Y.webm   \n",
       "\n",
       "                start_time                end_time          org_start_time  \\\n",
       "28  0 days 00:04:32.470000  0 days 00:05:41.800000  0 days 00:04:32.470000   \n",
       "\n",
       "              org_end_time  max_frames_token  valid_duration  \\\n",
       "28  0 days 00:05:41.800000                78            True   \n",
       "\n",
       "    valid_single_token_per_frame  video_downloded  valid_hd5  \\\n",
       "28                          True            False       True   \n",
       "\n",
       "    valid_max_token_duration  valid_frames_count  \n",
       "28                     False                True  "
      ]
     },
     "execution_count": 196,
     "metadata": {},
     "output_type": "execute_result"
    }
   ],
   "source": [
    "df_intervals[df_intervals['interval_id'] == 216104]"
   ]
  },
  {
   "cell_type": "code",
   "execution_count": 202,
   "metadata": {},
   "outputs": [
    {
     "name": "stdout",
     "output_type": "stream",
     "text": [
      "Invalid Intervals: 2,511\n"
     ]
    }
   ],
   "source": [
    "invalid_interval_ids = df_intervals[~df_intervals['valid']]['interval_id'].tolist()\n",
    "print(f'Invalid Intervals: {len(invalid_interval_ids):,}')"
   ]
  },
  {
   "cell_type": "code",
   "execution_count": 207,
   "metadata": {},
   "outputs": [
    {
     "data": {
      "text/plain": [
       "'/Users/staveshemesh/Projects/PATS_DATA/Processed/oliver/data/processed/oliver/'"
      ]
     },
     "execution_count": 207,
     "metadata": {},
     "output_type": "execute_result"
    }
   ],
   "source": [
    "PATS_INTERVALS_DIR"
   ]
  },
  {
   "cell_type": "code",
   "execution_count": 209,
   "metadata": {},
   "outputs": [],
   "source": [
    "for invalid_interval_id in invalid_interval_ids:\n",
    "    invalid_interval_path = os.path.join(PATS_INTERVALS_DIR, str(invalid_interval_id) + '.h5')\n",
    "    os.remove(invalid_interval_path)"
   ]
  },
  {
   "cell_type": "code",
   "execution_count": null,
   "metadata": {},
   "outputs": [],
   "source": []
  }
 ],
 "metadata": {
  "kernelspec": {
   "display_name": "Python 3",
   "language": "python",
   "name": "python3"
  },
  "language_info": {
   "codemirror_mode": {
    "name": "ipython",
    "version": 3
   },
   "file_extension": ".py",
   "mimetype": "text/x-python",
   "name": "python",
   "nbconvert_exporter": "python",
   "pygments_lexer": "ipython3",
   "version": "3.6.8"
  },
  "toc": {
   "base_numbering": 1,
   "nav_menu": {},
   "number_sections": true,
   "sideBar": true,
   "skip_h1_title": false,
   "title_cell": "Table of Contents",
   "title_sidebar": "Contents",
   "toc_cell": false,
   "toc_position": {},
   "toc_section_display": true,
   "toc_window_display": false
  },
  "toc-showcode": false
 },
 "nbformat": 4,
 "nbformat_minor": 4
}
