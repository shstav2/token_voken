{
 "cells": [
  {
   "cell_type": "markdown",
   "metadata": {},
   "source": [
    "# Imports"
   ]
  },
  {
   "cell_type": "code",
   "execution_count": 30,
   "metadata": {
    "ExecuteTime": {
     "end_time": "2021-01-17T10:20:35.569777Z",
     "start_time": "2021-01-17T10:20:34.256242Z"
    }
   },
   "outputs": [],
   "source": [
    "import os\n",
    "import h5py\n",
    "import time\n",
    "from subprocess import call\n",
    "import youtube_dl\n",
    "\n",
    "import numpy as np\n",
    "import pandas as pd\n",
    "\n",
    "import seaborn as sns\n",
    "from pprint import pprint\n",
    "import matplotlib.pyplot as plt\n",
    "from ipywidgets import interact\n",
    "from IPython.display import YouTubeVideo, Markdown, display, Video, Image\n",
    "\n",
    "from tqdm.notebook import tqdm\n",
    "tqdm.pandas()"
   ]
  },
  {
   "cell_type": "code",
   "execution_count": 31,
   "metadata": {
    "ExecuteTime": {
     "end_time": "2021-01-17T10:20:35.575362Z",
     "start_time": "2021-01-17T10:20:35.572207Z"
    }
   },
   "outputs": [],
   "source": [
    "pd.set_option('display.max_colwidth', 200)\n",
    "pd.options.display.float_format = '{:,.2f}'.format\n",
    "\n",
    "def printmd(string):\n",
    "    display(Markdown(string))"
   ]
  },
  {
   "cell_type": "markdown",
   "metadata": {},
   "source": [
    "# Constants"
   ]
  },
  {
   "cell_type": "code",
   "execution_count": 32,
   "metadata": {},
   "outputs": [],
   "source": [
    "PATS_DATA_ROOT = '/Users/staveshemesh/Projects/PATS_DATA/'\n",
    "\n",
    "INPUT_DATA_ROOT = '/Users/staveshemesh/Projects/shstav2/token_voken/data/'\n",
    "INPUT_ITERATION = '20210419_220655'\n",
    "VALID_INTERVALS_PATH = os.path.join(INPUT_DATA_ROOT, INPUT_ITERATION, 'dataframes/df_intervals_valid.csv')\n",
    "\n",
    "SPEAKER_NAME = 'oliver'\n",
    "# /Users/staveshemesh/Projects/PATS_DATA/Youtube/oliver\n",
    "PATS_SPEAKER_VIZ_DIR = os.path.join(PATS_DATA_ROOT, f'Youtube/{SPEAKER_NAME}')"
   ]
  },
  {
   "cell_type": "code",
   "execution_count": 33,
   "metadata": {},
   "outputs": [],
   "source": [
    "TIMESTR = time.strftime(\"%Y%m%d_%H%M%S\")\n",
    "\n",
    "OUTPUT_ROOT = '/Users/staveshemesh/Projects/shstav2/token_voken/data/'\n",
    "OUTPUT_DIR = os.path.join(OUTPUT_ROOT, TIMESTR, 'dataframes')"
   ]
  },
  {
   "cell_type": "code",
   "execution_count": 34,
   "metadata": {},
   "outputs": [],
   "source": [
    "LIST_BULLET = '  ◘ '\n",
    "TAB = '&nbsp;&nbsp;&nbsp;&nbsp;'\n",
    "VIDEO_ID_LEN = 11\n",
    "FRAME_RATE = 15"
   ]
  },
  {
   "cell_type": "code",
   "execution_count": 35,
   "metadata": {},
   "outputs": [],
   "source": [
    "COLS_VIEW = [\n",
    "    'speaker', 'interval_id',\n",
    "    'duration', 'start_time_string', 'end_time_string',\n",
    "    'video_link'\n",
    "]"
   ]
  },
  {
   "cell_type": "markdown",
   "metadata": {},
   "source": [
    "# Helpers"
   ]
  },
  {
   "cell_type": "markdown",
   "metadata": {},
   "source": [
    "## Resolvers"
   ]
  },
  {
   "cell_type": "markdown",
   "metadata": {},
   "source": [
    "## Display Utils"
   ]
  },
  {
   "cell_type": "code",
   "execution_count": 36,
   "metadata": {},
   "outputs": [],
   "source": [
    "def printmd(string):\n",
    "    display(Markdown(string))\n",
    "\n",
    "CAPTION_STYLE = {\n",
    "    'selector': 'caption',\n",
    "    'props': [\n",
    "        ('color', 'navy'),\n",
    "        ('font-size', '16px')\n",
    "    ]\n",
    "}\n",
    "\n",
    "def display_df_with_caption(df, title):\n",
    "    return df.style.set_caption(title).set_table_styles([CAPTION_STYLE])\n",
    "\n",
    "def display_value_counts(series, title):\n",
    "    df_value_counts = series.value_counts().to_frame().head()\n",
    "    df_style = display_df_with_caption(df_value_counts, title)\n",
    "    display(df_style)\n",
    "    \n",
    "def display_df_info(df):\n",
    "    print(f'{LIST_BULLET}Videos: #{df[\"video_link\"].nunique():,}')\n",
    "    print(f'{LIST_BULLET}Intervals: #{df[\"interval_id\"].nunique():,}')\n",
    "    total_duration = df[\"duration\"].sum()\n",
    "    total_duration_string = time.strftime('%H hours, %M minutues, %S seconds', time.gmtime(total_duration))\n",
    "    print(f'{LIST_BULLET}Total Duration: {total_duration_string} ({int(total_duration):,} seconds)')\n",
    "    all_youtube = df_intervals['video_link'].str.contains('youtube').all()\n",
    "    print(f'{LIST_BULLET}All are Youtube videos: {all_youtube}')"
   ]
  },
  {
   "cell_type": "markdown",
   "metadata": {},
   "source": [
    "## Commands"
   ]
  },
  {
   "cell_type": "code",
   "execution_count": 37,
   "metadata": {},
   "outputs": [],
   "source": [
    "SUCCESS_RETURN_CODE = 0\n",
    "\n",
    "def run_command(command):\n",
    "    result = call(command, shell=True)\n",
    "    success = result == SUCCESS_RETURN_CODE\n",
    "    status_symbol = '✅ ' if success else '❌'\n",
    "    print(f'{status_symbol} {command}')"
   ]
  },
  {
   "cell_type": "markdown",
   "metadata": {},
   "source": [
    "# Read Data"
   ]
  },
  {
   "cell_type": "markdown",
   "metadata": {},
   "source": [
    "## df_intervals"
   ]
  },
  {
   "cell_type": "code",
   "execution_count": 38,
   "metadata": {},
   "outputs": [],
   "source": [
    "df_intervals = pd.read_csv(VALID_INTERVALS_PATH, dtype={'interval_id': object})"
   ]
  },
  {
   "cell_type": "code",
   "execution_count": 39,
   "metadata": {},
   "outputs": [
    {
     "data": {
      "text/html": [
       "<div>\n",
       "<style scoped>\n",
       "    .dataframe tbody tr th:only-of-type {\n",
       "        vertical-align: middle;\n",
       "    }\n",
       "\n",
       "    .dataframe tbody tr th {\n",
       "        vertical-align: top;\n",
       "    }\n",
       "\n",
       "    .dataframe thead th {\n",
       "        text-align: right;\n",
       "    }\n",
       "</style>\n",
       "<table border=\"1\" class=\"dataframe\">\n",
       "  <thead>\n",
       "    <tr style=\"text-align: right;\">\n",
       "      <th></th>\n",
       "      <th>speaker</th>\n",
       "      <th>video_id</th>\n",
       "      <th>interval_id</th>\n",
       "      <th>valid</th>\n",
       "      <th>duration</th>\n",
       "      <th>start_time_string</th>\n",
       "      <th>end_time_string</th>\n",
       "      <th>video_link</th>\n",
       "      <th>video_fn</th>\n",
       "      <th>start_time</th>\n",
       "      <th>...</th>\n",
       "      <th>valid_single_token_per_frame</th>\n",
       "      <th>video_downloded</th>\n",
       "      <th>valid_hd5</th>\n",
       "      <th>valid_max_token_duration</th>\n",
       "      <th>valid_frames_count</th>\n",
       "      <th>video_downloaded</th>\n",
       "      <th>interval_video_path</th>\n",
       "      <th>interval_video_downloaded</th>\n",
       "      <th>interval_frames_dir</th>\n",
       "      <th>full_video_path</th>\n",
       "    </tr>\n",
       "  </thead>\n",
       "  <tbody>\n",
       "    <tr>\n",
       "      <th>0</th>\n",
       "      <td>oliver</td>\n",
       "      <td>Tt-mpuR_QHQ</td>\n",
       "      <td>100912</td>\n",
       "      <td>True</td>\n",
       "      <td>20.75</td>\n",
       "      <td>00:10:26.55</td>\n",
       "      <td>00:10:47.31</td>\n",
       "      <td>https://www.youtube.com/watch?v=Tt-mpuR_QHQ</td>\n",
       "      <td>Puerto_Rico_-_Last_Week_Tonight_with_John_Oliver_HBO-Tt-mpuR_QHQ.webm</td>\n",
       "      <td>0 days 00:10:26.550000</td>\n",
       "      <td>...</td>\n",
       "      <td>True</td>\n",
       "      <td>False</td>\n",
       "      <td>True</td>\n",
       "      <td>True</td>\n",
       "      <td>True</td>\n",
       "      <td>True</td>\n",
       "      <td>/Users/staveshemesh/Projects/PATS_DATA/Youtube/oliver/Tt-mpuR_QHQ/100912/100912.mp4</td>\n",
       "      <td>True</td>\n",
       "      <td>/Users/staveshemesh/Projects/PATS_DATA/Youtube/oliver/Tt-mpuR_QHQ/100912/vokens/face_annot_224</td>\n",
       "      <td>/Users/staveshemesh/Projects/PATS_DATA/Youtube/oliver/Tt-mpuR_QHQ/Tt-mpuR_QHQ.mp4</td>\n",
       "    </tr>\n",
       "    <tr>\n",
       "      <th>1</th>\n",
       "      <td>oliver</td>\n",
       "      <td>Tt-mpuR_QHQ</td>\n",
       "      <td>100913</td>\n",
       "      <td>True</td>\n",
       "      <td>7.74</td>\n",
       "      <td>00:10:47.44</td>\n",
       "      <td>00:10:55.18</td>\n",
       "      <td>https://www.youtube.com/watch?v=Tt-mpuR_QHQ</td>\n",
       "      <td>Puerto_Rico_-_Last_Week_Tonight_with_John_Oliver_HBO-Tt-mpuR_QHQ.webm</td>\n",
       "      <td>0 days 00:10:47.440000</td>\n",
       "      <td>...</td>\n",
       "      <td>True</td>\n",
       "      <td>False</td>\n",
       "      <td>True</td>\n",
       "      <td>True</td>\n",
       "      <td>True</td>\n",
       "      <td>True</td>\n",
       "      <td>/Users/staveshemesh/Projects/PATS_DATA/Youtube/oliver/Tt-mpuR_QHQ/100913/100913.mp4</td>\n",
       "      <td>True</td>\n",
       "      <td>/Users/staveshemesh/Projects/PATS_DATA/Youtube/oliver/Tt-mpuR_QHQ/100913/vokens/face_annot_224</td>\n",
       "      <td>/Users/staveshemesh/Projects/PATS_DATA/Youtube/oliver/Tt-mpuR_QHQ/Tt-mpuR_QHQ.mp4</td>\n",
       "    </tr>\n",
       "  </tbody>\n",
       "</table>\n",
       "<p>2 rows × 25 columns</p>\n",
       "</div>"
      ],
      "text/plain": [
       "  speaker     video_id interval_id  valid  duration start_time_string  \\\n",
       "0  oliver  Tt-mpuR_QHQ      100912   True     20.75       00:10:26.55   \n",
       "1  oliver  Tt-mpuR_QHQ      100913   True      7.74       00:10:47.44   \n",
       "\n",
       "  end_time_string                                   video_link  \\\n",
       "0     00:10:47.31  https://www.youtube.com/watch?v=Tt-mpuR_QHQ   \n",
       "1     00:10:55.18  https://www.youtube.com/watch?v=Tt-mpuR_QHQ   \n",
       "\n",
       "                                                                video_fn  \\\n",
       "0  Puerto_Rico_-_Last_Week_Tonight_with_John_Oliver_HBO-Tt-mpuR_QHQ.webm   \n",
       "1  Puerto_Rico_-_Last_Week_Tonight_with_John_Oliver_HBO-Tt-mpuR_QHQ.webm   \n",
       "\n",
       "               start_time  ... valid_single_token_per_frame video_downloded  \\\n",
       "0  0 days 00:10:26.550000  ...                         True           False   \n",
       "1  0 days 00:10:47.440000  ...                         True           False   \n",
       "\n",
       "  valid_hd5  valid_max_token_duration  valid_frames_count  video_downloaded  \\\n",
       "0      True                      True                True              True   \n",
       "1      True                      True                True              True   \n",
       "\n",
       "                                                                   interval_video_path  \\\n",
       "0  /Users/staveshemesh/Projects/PATS_DATA/Youtube/oliver/Tt-mpuR_QHQ/100912/100912.mp4   \n",
       "1  /Users/staveshemesh/Projects/PATS_DATA/Youtube/oliver/Tt-mpuR_QHQ/100913/100913.mp4   \n",
       "\n",
       "   interval_video_downloaded  \\\n",
       "0                       True   \n",
       "1                       True   \n",
       "\n",
       "                                                                              interval_frames_dir  \\\n",
       "0  /Users/staveshemesh/Projects/PATS_DATA/Youtube/oliver/Tt-mpuR_QHQ/100912/vokens/face_annot_224   \n",
       "1  /Users/staveshemesh/Projects/PATS_DATA/Youtube/oliver/Tt-mpuR_QHQ/100913/vokens/face_annot_224   \n",
       "\n",
       "                                                                     full_video_path  \n",
       "0  /Users/staveshemesh/Projects/PATS_DATA/Youtube/oliver/Tt-mpuR_QHQ/Tt-mpuR_QHQ.mp4  \n",
       "1  /Users/staveshemesh/Projects/PATS_DATA/Youtube/oliver/Tt-mpuR_QHQ/Tt-mpuR_QHQ.mp4  \n",
       "\n",
       "[2 rows x 25 columns]"
      ]
     },
     "execution_count": 39,
     "metadata": {},
     "output_type": "execute_result"
    }
   ],
   "source": [
    "df_intervals.head(n=2)"
   ]
  },
  {
   "cell_type": "code",
   "execution_count": 40,
   "metadata": {},
   "outputs": [
    {
     "data": {
      "text/markdown": [
       "**Valid intervals, Speaker oliver**:"
      ],
      "text/plain": [
       "<IPython.core.display.Markdown object>"
      ]
     },
     "metadata": {},
     "output_type": "display_data"
    },
    {
     "name": "stdout",
     "output_type": "stream",
     "text": [
      "  ◘ Videos: #123\n",
      "  ◘ Intervals: #2,118\n",
      "  ◘ Total Duration: 08 hours, 13 minutues, 25 seconds (29,605 seconds)\n",
      "  ◘ All are Youtube videos: True\n"
     ]
    }
   ],
   "source": [
    "printmd(f'**Valid intervals, Speaker {SPEAKER_NAME}**:')\n",
    "display_df_info(df_intervals)"
   ]
  },
  {
   "cell_type": "markdown",
   "metadata": {},
   "source": [
    "# Video → Frames"
   ]
  },
  {
   "cell_type": "code",
   "execution_count": 41,
   "metadata": {},
   "outputs": [],
   "source": [
    "START_FRAME = 0"
   ]
  },
  {
   "cell_type": "code",
   "execution_count": 46,
   "metadata": {},
   "outputs": [
    {
     "data": {
      "text/html": [
       "<style  type=\"text/css\" >\n",
       "    #T_df67d224_a1b0_11eb_9b63_acde48001122 caption {\n",
       "          color: navy;\n",
       "          font-size: 16px;\n",
       "    }</style><table id=\"T_df67d224_a1b0_11eb_9b63_acde48001122\" ><caption>Downloaded Interval Video</caption><thead>    <tr>        <th class=\"blank level0\" ></th>        <th class=\"col_heading level0 col0\" >interval_video_downloaded</th>    </tr></thead><tbody>\n",
       "                <tr>\n",
       "                        <th id=\"T_df67d224_a1b0_11eb_9b63_acde48001122level0_row0\" class=\"row_heading level0 row0\" >True</th>\n",
       "                        <td id=\"T_df67d224_a1b0_11eb_9b63_acde48001122row0_col0\" class=\"data row0 col0\" >1992</td>\n",
       "            </tr>\n",
       "            <tr>\n",
       "                        <th id=\"T_df67d224_a1b0_11eb_9b63_acde48001122level0_row1\" class=\"row_heading level0 row1\" >False</th>\n",
       "                        <td id=\"T_df67d224_a1b0_11eb_9b63_acde48001122row1_col0\" class=\"data row1 col0\" >126</td>\n",
       "            </tr>\n",
       "    </tbody></table>"
      ],
      "text/plain": [
       "<pandas.io.formats.style.Styler at 0x133d2c5f8>"
      ]
     },
     "metadata": {},
     "output_type": "display_data"
    }
   ],
   "source": [
    "display_value_counts(df_intervals['interval_video_downloaded'], 'Downloaded Interval Video')"
   ]
  },
  {
   "cell_type": "code",
   "execution_count": 61,
   "metadata": {},
   "outputs": [],
   "source": [
    "def video_to_frames_and_delete(interval_video_path, interval_frames_dir):\n",
    "    video_has_frames = os.path.exists(interval_frames_dir) and os.path.getsize(interval_frames_dir) > 0\n",
    "    if not video_has_frames:\n",
    "        video_to_frames(interval_video_path, interval_frames_dir)\n",
    "    delete_video(interval_video_path)\n",
    "\n",
    "def video_to_frames(interval_video_path, interval_frames_dir):\n",
    "    os.makedirs(interval_frames_dir)\n",
    "    command = f'ffmpeg -i \"{interval_video_path}\" -start_number {START_FRAME} -r {FRAME_RATE} \"{interval_frames_dir}/$filename%05d.png\"'\n",
    "    run_command(command)\n",
    "    \n",
    "def delete_video(interval_video_path):\n",
    "    if os.path.exists(interval_video_path):\n",
    "        os.remove(interval_video_path)"
   ]
  },
  {
   "cell_type": "code",
   "execution_count": 62,
   "metadata": {},
   "outputs": [],
   "source": [
    "df_batch = df_intervals[:800]\n",
    "interval_video_paths = df_batch['interval_video_path'].tolist()\n",
    "interval_frames_dir = df_batch['interval_frames_dir'].tolist()"
   ]
  },
  {
   "cell_type": "code",
   "execution_count": 64,
   "metadata": {},
   "outputs": [
    {
     "data": {
      "application/vnd.jupyter.widget-view+json": {
       "model_id": "d9c084e898d44c368f26ef555af69cdc",
       "version_major": 2,
       "version_minor": 0
      },
      "text/plain": [
       "HBox(children=(FloatProgress(value=1.0, bar_style='info', max=1.0), HTML(value='')))"
      ]
     },
     "metadata": {},
     "output_type": "display_data"
    },
    {
     "name": "stdout",
     "output_type": "stream",
     "text": [
      "❌ ffmpeg -i \"/Users/staveshemesh/Projects/PATS_DATA/Youtube/oliver/Tt-mpuR_QHQ/100913/100913.mp4\" -start_number 0 -r 15 \"U/$filename%05d.png\"\n",
      "❌ ffmpeg -i \"/Users/staveshemesh/Projects/PATS_DATA/Youtube/oliver/Tt-mpuR_QHQ/100937/100937.mp4\" -start_number 0 -r 15 \"s/$filename%05d.png\"\n",
      "❌ ffmpeg -i \"/Users/staveshemesh/Projects/PATS_DATA/Youtube/oliver/P8pjd1QEA0c/100945/100945.mp4\" -start_number 0 -r 15 \"e/$filename%05d.png\"\n",
      "❌ ffmpeg -i \"/Users/staveshemesh/Projects/PATS_DATA/Youtube/oliver/P8pjd1QEA0c/100958/100958.mp4\" -start_number 0 -r 15 \"r/$filename%05d.png\"\n",
      "❌ ffmpeg -i \"/Users/staveshemesh/Projects/PATS_DATA/Youtube/oliver/hWQiXv0sn9Y/100976/100976.mp4\" -start_number 0 -r 15 \"t/$filename%05d.png\"\n",
      "❌ ffmpeg -i \"/Users/staveshemesh/Projects/PATS_DATA/Youtube/oliver/hWQiXv0sn9Y/100978/100978.mp4\" -start_number 0 -r 15 \"a/$filename%05d.png\"\n",
      "❌ ffmpeg -i \"/Users/staveshemesh/Projects/PATS_DATA/Youtube/oliver/hWQiXv0sn9Y/100983/100983.mp4\" -start_number 0 -r 15 \"v/$filename%05d.png\"\n",
      "❌ ffmpeg -i \"/Users/staveshemesh/Projects/PATS_DATA/Youtube/oliver/1Y1ya-yF35g/100991/100991.mp4\" -start_number 0 -r 15 \"h/$filename%05d.png\"\n",
      "❌ ffmpeg -i \"/Users/staveshemesh/Projects/PATS_DATA/Youtube/oliver/CesHr99ezWE/101006/101006.mp4\" -start_number 0 -r 15 \"m/$filename%05d.png\"\n",
      "❌ ffmpeg -i \"/Users/staveshemesh/Projects/PATS_DATA/Youtube/oliver/P8pjd1QEA0c/101020/101020.mp4\" -start_number 0 -r 15 \"P/$filename%05d.png\"\n",
      "❌ ffmpeg -i \"/Users/staveshemesh/Projects/PATS_DATA/Youtube/oliver/PuNIwYsz7PI/101026/101026.mp4\" -start_number 0 -r 15 \"o/$filename%05d.png\"\n",
      "❌ ffmpeg -i \"/Users/staveshemesh/Projects/PATS_DATA/Youtube/oliver/PuNIwYsz7PI/101027/101027.mp4\" -start_number 0 -r 15 \"j/$filename%05d.png\"\n",
      "❌ ffmpeg -i \"/Users/staveshemesh/Projects/PATS_DATA/Youtube/oliver/MepXBJjsNxs/101033/101033.mp4\" -start_number 0 -r 15 \"c/$filename%05d.png\"\n",
      "❌ ffmpeg -i \"/Users/staveshemesh/Projects/PATS_DATA/Youtube/oliver/Tt-mpuR_QHQ/101067/101067.mp4\" -start_number 0 -r 15 \"_/$filename%05d.png\"\n",
      "❌ ffmpeg -i \"/Users/staveshemesh/Projects/PATS_DATA/Youtube/oliver/Tt-mpuR_QHQ/101068/101068.mp4\" -start_number 0 -r 15 \"D/$filename%05d.png\"\n",
      "❌ ffmpeg -i \"/Users/staveshemesh/Projects/PATS_DATA/Youtube/oliver/GUizvEjR-0U/101084/101084.mp4\" -start_number 0 -r 15 \"Y/$filename%05d.png\"\n",
      "❌ ffmpeg -i \"/Users/staveshemesh/Projects/PATS_DATA/Youtube/oliver/FVFdsl29s_Q/101103/101103.mp4\" -start_number 0 -r 15 \"b/$filename%05d.png\"\n",
      "❌ ffmpeg -i \"/Users/staveshemesh/Projects/PATS_DATA/Youtube/oliver/hWQiXv0sn9Y/101127/101127.mp4\" -start_number 0 -r 15 \"l/$filename%05d.png\"\n",
      "❌ ffmpeg -i \"/Users/staveshemesh/Projects/PATS_DATA/Youtube/oliver/92vuuZt7wak/101141/101141.mp4\" -start_number 0 -r 15 \"i/$filename%05d.png\"\n",
      "❌ ffmpeg -i \"/Users/staveshemesh/Projects/PATS_DATA/Youtube/oliver/nG2pEffLEJo/101168/101168.mp4\" -start_number 0 -r 15 \"X/$filename%05d.png\"\n",
      "❌ ffmpeg -i \"/Users/staveshemesh/Projects/PATS_DATA/Youtube/oliver/pDVmldTurqk/101170/101170.mp4\" -start_number 0 -r 15 \"9/$filename%05d.png\"\n",
      "❌ ffmpeg -i \"/Users/staveshemesh/Projects/PATS_DATA/Youtube/oliver/Tt-mpuR_QHQ/101173/101173.mp4\" -start_number 0 -r 15 \"f/$filename%05d.png\"\n",
      "❌ ffmpeg -i \"/Users/staveshemesh/Projects/PATS_DATA/Youtube/oliver/hWQiXv0sn9Y/101174/101174.mp4\" -start_number 0 -r 15 \"6/$filename%05d.png\"\n",
      "❌ ffmpeg -i \"/Users/staveshemesh/Projects/PATS_DATA/Youtube/oliver/r-ERajkMXw0/101188/101188.mp4\" -start_number 0 -r 15 \"1/$filename%05d.png\"\n",
      "❌ ffmpeg -i \"/Users/staveshemesh/Projects/PATS_DATA/Youtube/oliver/5d667Bb_iYA/101190/101190.mp4\" -start_number 0 -r 15 \"0/$filename%05d.png\"\n",
      "❌ ffmpeg -i \"/Users/staveshemesh/Projects/PATS_DATA/Youtube/oliver/5d667Bb_iYA/101191/101191.mp4\" -start_number 0 -r 15 \"2/$filename%05d.png\"\n",
      "❌ ffmpeg -i \"/Users/staveshemesh/Projects/PATS_DATA/Youtube/oliver/5d667Bb_iYA/101193/101193.mp4\" -start_number 0 -r 15 \"4/$filename%05d.png\"\n",
      "❌ ffmpeg -i \"/Users/staveshemesh/Projects/PATS_DATA/Youtube/oliver/aIMgfBZrrZ8/101205/101205.mp4\" -start_number 0 -r 15 \"5/$filename%05d.png\"\n",
      "❌ ffmpeg -i \"/Users/staveshemesh/Projects/PATS_DATA/Youtube/oliver/GUizvEjR-0U/101221/101221.mp4\" -start_number 0 -r 15 \"k/$filename%05d.png\"\n",
      "❌ ffmpeg -i \"/Users/staveshemesh/Projects/PATS_DATA/Youtube/oliver/GvtNyOzGogc/101230/101230.mp4\" -start_number 0 -r 15 \"n/$filename%05d.png\"\n",
      "\n"
     ]
    }
   ],
   "source": [
    "for interval_video_path, interval_frames_dir in tqdm(zip(interval_video_paths, interval_frames_dir)):\n",
    "    video_to_frames_and_delete(interval_video_path, interval_frames_dir)"
   ]
  },
  {
   "cell_type": "code",
   "execution_count": 68,
   "metadata": {},
   "outputs": [],
   "source": [
    "df_batch = df_intervals[800:1600]\n",
    "interval_video_paths = df_batch['interval_video_path'].tolist()\n",
    "interval_frames_dir = df_batch['interval_frames_dir'].tolist()"
   ]
  },
  {
   "cell_type": "code",
   "execution_count": 69,
   "metadata": {},
   "outputs": [
    {
     "data": {
      "application/vnd.jupyter.widget-view+json": {
       "model_id": "dfc5a0051b944df38aabcf49b813745c",
       "version_major": 2,
       "version_minor": 0
      },
      "text/plain": [
       "HBox(children=(FloatProgress(value=1.0, bar_style='info', max=1.0), HTML(value='')))"
      ]
     },
     "metadata": {},
     "output_type": "display_data"
    },
    {
     "name": "stdout",
     "output_type": "stream",
     "text": [
      "✅  ffmpeg -i \"/Users/staveshemesh/Projects/PATS_DATA/Youtube/oliver/PDylgzybWAw/104958/104958.mp4\" -start_number 0 -r 15 \"/Users/staveshemesh/Projects/PATS_DATA/Youtube/oliver/PDylgzybWAw/104958/vokens/face_annot_224/$filename%05d.png\"\n",
      "✅  ffmpeg -i \"/Users/staveshemesh/Projects/PATS_DATA/Youtube/oliver/nG2pEffLEJo/104959/104959.mp4\" -start_number 0 -r 15 \"/Users/staveshemesh/Projects/PATS_DATA/Youtube/oliver/nG2pEffLEJo/104959/vokens/face_annot_224/$filename%05d.png\"\n",
      "✅  ffmpeg -i \"/Users/staveshemesh/Projects/PATS_DATA/Youtube/oliver/4Z4j2CrJRn4/104973/104973.mp4\" -start_number 0 -r 15 \"/Users/staveshemesh/Projects/PATS_DATA/Youtube/oliver/4Z4j2CrJRn4/104973/vokens/face_annot_224/$filename%05d.png\"\n",
      "✅  ffmpeg -i \"/Users/staveshemesh/Projects/PATS_DATA/Youtube/oliver/bq2_wSsDwkQ/104975/104975.mp4\" -start_number 0 -r 15 \"/Users/staveshemesh/Projects/PATS_DATA/Youtube/oliver/bq2_wSsDwkQ/104975/vokens/face_annot_224/$filename%05d.png\"\n",
      "✅  ffmpeg -i \"/Users/staveshemesh/Projects/PATS_DATA/Youtube/oliver/7-LPcVo7gC0/104987/104987.mp4\" -start_number 0 -r 15 \"/Users/staveshemesh/Projects/PATS_DATA/Youtube/oliver/7-LPcVo7gC0/104987/vokens/face_annot_224/$filename%05d.png\"\n",
      "✅  ffmpeg -i \"/Users/staveshemesh/Projects/PATS_DATA/Youtube/oliver/TrS0uNBuG9c/104988/104988.mp4\" -start_number 0 -r 15 \"/Users/staveshemesh/Projects/PATS_DATA/Youtube/oliver/TrS0uNBuG9c/104988/vokens/face_annot_224/$filename%05d.png\"\n",
      "✅  ffmpeg -i \"/Users/staveshemesh/Projects/PATS_DATA/Youtube/oliver/FVFdsl29s_Q/105003/105003.mp4\" -start_number 0 -r 15 \"/Users/staveshemesh/Projects/PATS_DATA/Youtube/oliver/FVFdsl29s_Q/105003/vokens/face_annot_224/$filename%05d.png\"\n",
      "✅  ffmpeg -i \"/Users/staveshemesh/Projects/PATS_DATA/Youtube/oliver/7y1xJAVZxXg/105014/105014.mp4\" -start_number 0 -r 15 \"/Users/staveshemesh/Projects/PATS_DATA/Youtube/oliver/7y1xJAVZxXg/105014/vokens/face_annot_224/$filename%05d.png\"\n",
      "✅  ffmpeg -i \"/Users/staveshemesh/Projects/PATS_DATA/Youtube/oliver/7y1xJAVZxXg/105015/105015.mp4\" -start_number 0 -r 15 \"/Users/staveshemesh/Projects/PATS_DATA/Youtube/oliver/7y1xJAVZxXg/105015/vokens/face_annot_224/$filename%05d.png\"\n",
      "✅  ffmpeg -i \"/Users/staveshemesh/Projects/PATS_DATA/Youtube/oliver/3bxcc3SM_KA/105039/105039.mp4\" -start_number 0 -r 15 \"/Users/staveshemesh/Projects/PATS_DATA/Youtube/oliver/3bxcc3SM_KA/105039/vokens/face_annot_224/$filename%05d.png\"\n",
      "✅  ffmpeg -i \"/Users/staveshemesh/Projects/PATS_DATA/Youtube/oliver/E_F5GxCwizc/105040/105040.mp4\" -start_number 0 -r 15 \"/Users/staveshemesh/Projects/PATS_DATA/Youtube/oliver/E_F5GxCwizc/105040/vokens/face_annot_224/$filename%05d.png\"\n",
      "✅  ffmpeg -i \"/Users/staveshemesh/Projects/PATS_DATA/Youtube/oliver/E_F5GxCwizc/105046/105046.mp4\" -start_number 0 -r 15 \"/Users/staveshemesh/Projects/PATS_DATA/Youtube/oliver/E_F5GxCwizc/105046/vokens/face_annot_224/$filename%05d.png\"\n",
      "✅  ffmpeg -i \"/Users/staveshemesh/Projects/PATS_DATA/Youtube/oliver/hkYzuHMcP64/105047/105047.mp4\" -start_number 0 -r 15 \"/Users/staveshemesh/Projects/PATS_DATA/Youtube/oliver/hkYzuHMcP64/105047/vokens/face_annot_224/$filename%05d.png\"\n",
      "✅  ffmpeg -i \"/Users/staveshemesh/Projects/PATS_DATA/Youtube/oliver/1ZNZY-gd3K0/105048/105048.mp4\" -start_number 0 -r 15 \"/Users/staveshemesh/Projects/PATS_DATA/Youtube/oliver/1ZNZY-gd3K0/105048/vokens/face_annot_224/$filename%05d.png\"\n",
      "✅  ffmpeg -i \"/Users/staveshemesh/Projects/PATS_DATA/Youtube/oliver/1ZNZY-gd3K0/105049/105049.mp4\" -start_number 0 -r 15 \"/Users/staveshemesh/Projects/PATS_DATA/Youtube/oliver/1ZNZY-gd3K0/105049/vokens/face_annot_224/$filename%05d.png\"\n",
      "✅  ffmpeg -i \"/Users/staveshemesh/Projects/PATS_DATA/Youtube/oliver/rHFOwlMCdto/105050/105050.mp4\" -start_number 0 -r 15 \"/Users/staveshemesh/Projects/PATS_DATA/Youtube/oliver/rHFOwlMCdto/105050/vokens/face_annot_224/$filename%05d.png\"\n",
      "✅  ffmpeg -i \"/Users/staveshemesh/Projects/PATS_DATA/Youtube/oliver/CesHr99ezWE/105062/105062.mp4\" -start_number 0 -r 15 \"/Users/staveshemesh/Projects/PATS_DATA/Youtube/oliver/CesHr99ezWE/105062/vokens/face_annot_224/$filename%05d.png\"\n",
      "✅  ffmpeg -i \"/Users/staveshemesh/Projects/PATS_DATA/Youtube/oliver/CesHr99ezWE/105063/105063.mp4\" -start_number 0 -r 15 \"/Users/staveshemesh/Projects/PATS_DATA/Youtube/oliver/CesHr99ezWE/105063/vokens/face_annot_224/$filename%05d.png\"\n",
      "✅  ffmpeg -i \"/Users/staveshemesh/Projects/PATS_DATA/Youtube/oliver/CesHr99ezWE/105064/105064.mp4\" -start_number 0 -r 15 \"/Users/staveshemesh/Projects/PATS_DATA/Youtube/oliver/CesHr99ezWE/105064/vokens/face_annot_224/$filename%05d.png\"\n",
      "✅  ffmpeg -i \"/Users/staveshemesh/Projects/PATS_DATA/Youtube/oliver/OubM8bD9kck/105066/105066.mp4\" -start_number 0 -r 15 \"/Users/staveshemesh/Projects/PATS_DATA/Youtube/oliver/OubM8bD9kck/105066/vokens/face_annot_224/$filename%05d.png\"\n",
      "✅  ffmpeg -i \"/Users/staveshemesh/Projects/PATS_DATA/Youtube/oliver/aIMgfBZrrZ8/105067/105067.mp4\" -start_number 0 -r 15 \"/Users/staveshemesh/Projects/PATS_DATA/Youtube/oliver/aIMgfBZrrZ8/105067/vokens/face_annot_224/$filename%05d.png\"\n",
      "✅  ffmpeg -i \"/Users/staveshemesh/Projects/PATS_DATA/Youtube/oliver/aIMgfBZrrZ8/105068/105068.mp4\" -start_number 0 -r 15 \"/Users/staveshemesh/Projects/PATS_DATA/Youtube/oliver/aIMgfBZrrZ8/105068/vokens/face_annot_224/$filename%05d.png\"\n",
      "✅  ffmpeg -i \"/Users/staveshemesh/Projects/PATS_DATA/Youtube/oliver/6UsHHOCH4q8/105069/105069.mp4\" -start_number 0 -r 15 \"/Users/staveshemesh/Projects/PATS_DATA/Youtube/oliver/6UsHHOCH4q8/105069/vokens/face_annot_224/$filename%05d.png\"\n",
      "✅  ffmpeg -i \"/Users/staveshemesh/Projects/PATS_DATA/Youtube/oliver/6UsHHOCH4q8/105075/105075.mp4\" -start_number 0 -r 15 \"/Users/staveshemesh/Projects/PATS_DATA/Youtube/oliver/6UsHHOCH4q8/105075/vokens/face_annot_224/$filename%05d.png\"\n",
      "✅  ffmpeg -i \"/Users/staveshemesh/Projects/PATS_DATA/Youtube/oliver/6UsHHOCH4q8/105081/105081.mp4\" -start_number 0 -r 15 \"/Users/staveshemesh/Projects/PATS_DATA/Youtube/oliver/6UsHHOCH4q8/105081/vokens/face_annot_224/$filename%05d.png\"\n",
      "✅  ffmpeg -i \"/Users/staveshemesh/Projects/PATS_DATA/Youtube/oliver/6UsHHOCH4q8/105083/105083.mp4\" -start_number 0 -r 15 \"/Users/staveshemesh/Projects/PATS_DATA/Youtube/oliver/6UsHHOCH4q8/105083/vokens/face_annot_224/$filename%05d.png\"\n",
      "✅  ffmpeg -i \"/Users/staveshemesh/Projects/PATS_DATA/Youtube/oliver/6UsHHOCH4q8/105090/105090.mp4\" -start_number 0 -r 15 \"/Users/staveshemesh/Projects/PATS_DATA/Youtube/oliver/6UsHHOCH4q8/105090/vokens/face_annot_224/$filename%05d.png\"\n",
      "✅  ffmpeg -i \"/Users/staveshemesh/Projects/PATS_DATA/Youtube/oliver/hkjkQ-wCZ5A/105091/105091.mp4\" -start_number 0 -r 15 \"/Users/staveshemesh/Projects/PATS_DATA/Youtube/oliver/hkjkQ-wCZ5A/105091/vokens/face_annot_224/$filename%05d.png\"\n",
      "✅  ffmpeg -i \"/Users/staveshemesh/Projects/PATS_DATA/Youtube/oliver/hkjkQ-wCZ5A/105093/105093.mp4\" -start_number 0 -r 15 \"/Users/staveshemesh/Projects/PATS_DATA/Youtube/oliver/hkjkQ-wCZ5A/105093/vokens/face_annot_224/$filename%05d.png\"\n",
      "✅  ffmpeg -i \"/Users/staveshemesh/Projects/PATS_DATA/Youtube/oliver/rHFOwlMCdto/105099/105099.mp4\" -start_number 0 -r 15 \"/Users/staveshemesh/Projects/PATS_DATA/Youtube/oliver/rHFOwlMCdto/105099/vokens/face_annot_224/$filename%05d.png\"\n",
      "✅  ffmpeg -i \"/Users/staveshemesh/Projects/PATS_DATA/Youtube/oliver/rHFOwlMCdto/105101/105101.mp4\" -start_number 0 -r 15 \"/Users/staveshemesh/Projects/PATS_DATA/Youtube/oliver/rHFOwlMCdto/105101/vokens/face_annot_224/$filename%05d.png\"\n",
      "✅  ffmpeg -i \"/Users/staveshemesh/Projects/PATS_DATA/Youtube/oliver/wD8AwgO0AQI/105108/105108.mp4\" -start_number 0 -r 15 \"/Users/staveshemesh/Projects/PATS_DATA/Youtube/oliver/wD8AwgO0AQI/105108/vokens/face_annot_224/$filename%05d.png\"\n",
      "❌ ffmpeg -i \"/Users/staveshemesh/Projects/PATS_DATA/Youtube/oliver/gvZSpET11ZY/105113/105113.mp4\" -start_number 0 -r 15 \"/Users/staveshemesh/Projects/PATS_DATA/Youtube/oliver/gvZSpET11ZY/105113/vokens/face_annot_224/$filename%05d.png\"\n",
      "❌ ffmpeg -i \"/Users/staveshemesh/Projects/PATS_DATA/Youtube/oliver/gvZSpET11ZY/105119/105119.mp4\" -start_number 0 -r 15 \"/Users/staveshemesh/Projects/PATS_DATA/Youtube/oliver/gvZSpET11ZY/105119/vokens/face_annot_224/$filename%05d.png\"\n",
      "✅  ffmpeg -i \"/Users/staveshemesh/Projects/PATS_DATA/Youtube/oliver/1ZNZY-gd3K0/105123/105123.mp4\" -start_number 0 -r 15 \"/Users/staveshemesh/Projects/PATS_DATA/Youtube/oliver/1ZNZY-gd3K0/105123/vokens/face_annot_224/$filename%05d.png\"\n",
      "✅  ffmpeg -i \"/Users/staveshemesh/Projects/PATS_DATA/Youtube/oliver/1ZNZY-gd3K0/105126/105126.mp4\" -start_number 0 -r 15 \"/Users/staveshemesh/Projects/PATS_DATA/Youtube/oliver/1ZNZY-gd3K0/105126/vokens/face_annot_224/$filename%05d.png\"\n",
      "✅  ffmpeg -i \"/Users/staveshemesh/Projects/PATS_DATA/Youtube/oliver/fJ9prhPV2PI/105128/105128.mp4\" -start_number 0 -r 15 \"/Users/staveshemesh/Projects/PATS_DATA/Youtube/oliver/fJ9prhPV2PI/105128/vokens/face_annot_224/$filename%05d.png\"\n",
      "✅  ffmpeg -i \"/Users/staveshemesh/Projects/PATS_DATA/Youtube/oliver/pDVmldTurqk/105141/105141.mp4\" -start_number 0 -r 15 \"/Users/staveshemesh/Projects/PATS_DATA/Youtube/oliver/pDVmldTurqk/105141/vokens/face_annot_224/$filename%05d.png\"\n",
      "✅  ffmpeg -i \"/Users/staveshemesh/Projects/PATS_DATA/Youtube/oliver/pDVmldTurqk/105150/105150.mp4\" -start_number 0 -r 15 \"/Users/staveshemesh/Projects/PATS_DATA/Youtube/oliver/pDVmldTurqk/105150/vokens/face_annot_224/$filename%05d.png\"\n",
      "✅  ffmpeg -i \"/Users/staveshemesh/Projects/PATS_DATA/Youtube/oliver/J6lyURyVz7k/105154/105154.mp4\" -start_number 0 -r 15 \"/Users/staveshemesh/Projects/PATS_DATA/Youtube/oliver/J6lyURyVz7k/105154/vokens/face_annot_224/$filename%05d.png\"\n",
      "✅  ffmpeg -i \"/Users/staveshemesh/Projects/PATS_DATA/Youtube/oliver/J6lyURyVz7k/105157/105157.mp4\" -start_number 0 -r 15 \"/Users/staveshemesh/Projects/PATS_DATA/Youtube/oliver/J6lyURyVz7k/105157/vokens/face_annot_224/$filename%05d.png\"\n",
      "✅  ffmpeg -i \"/Users/staveshemesh/Projects/PATS_DATA/Youtube/oliver/J6lyURyVz7k/105158/105158.mp4\" -start_number 0 -r 15 \"/Users/staveshemesh/Projects/PATS_DATA/Youtube/oliver/J6lyURyVz7k/105158/vokens/face_annot_224/$filename%05d.png\"\n",
      "✅  ffmpeg -i \"/Users/staveshemesh/Projects/PATS_DATA/Youtube/oliver/hkYzuHMcP64/105160/105160.mp4\" -start_number 0 -r 15 \"/Users/staveshemesh/Projects/PATS_DATA/Youtube/oliver/hkYzuHMcP64/105160/vokens/face_annot_224/$filename%05d.png\"\n",
      "✅  ffmpeg -i \"/Users/staveshemesh/Projects/PATS_DATA/Youtube/oliver/hkYzuHMcP64/105161/105161.mp4\" -start_number 0 -r 15 \"/Users/staveshemesh/Projects/PATS_DATA/Youtube/oliver/hkYzuHMcP64/105161/vokens/face_annot_224/$filename%05d.png\"\n",
      "✅  ffmpeg -i \"/Users/staveshemesh/Projects/PATS_DATA/Youtube/oliver/5d667Bb_iYA/105162/105162.mp4\" -start_number 0 -r 15 \"/Users/staveshemesh/Projects/PATS_DATA/Youtube/oliver/5d667Bb_iYA/105162/vokens/face_annot_224/$filename%05d.png\"\n",
      "✅  ffmpeg -i \"/Users/staveshemesh/Projects/PATS_DATA/Youtube/oliver/7y1xJAVZxXg/105164/105164.mp4\" -start_number 0 -r 15 \"/Users/staveshemesh/Projects/PATS_DATA/Youtube/oliver/7y1xJAVZxXg/105164/vokens/face_annot_224/$filename%05d.png\"\n",
      "✅  ffmpeg -i \"/Users/staveshemesh/Projects/PATS_DATA/Youtube/oliver/hmoAX9f6MOc/105167/105167.mp4\" -start_number 0 -r 15 \"/Users/staveshemesh/Projects/PATS_DATA/Youtube/oliver/hmoAX9f6MOc/105167/vokens/face_annot_224/$filename%05d.png\"\n",
      "✅  ffmpeg -i \"/Users/staveshemesh/Projects/PATS_DATA/Youtube/oliver/hmoAX9f6MOc/105169/105169.mp4\" -start_number 0 -r 15 \"/Users/staveshemesh/Projects/PATS_DATA/Youtube/oliver/hmoAX9f6MOc/105169/vokens/face_annot_224/$filename%05d.png\"\n",
      "❌ ffmpeg -i \"/Users/staveshemesh/Projects/PATS_DATA/Youtube/oliver/xecEV4dSAXE/105174/105174.mp4\" -start_number 0 -r 15 \"/Users/staveshemesh/Projects/PATS_DATA/Youtube/oliver/xecEV4dSAXE/105174/vokens/face_annot_224/$filename%05d.png\"\n",
      "❌ ffmpeg -i \"/Users/staveshemesh/Projects/PATS_DATA/Youtube/oliver/xecEV4dSAXE/105176/105176.mp4\" -start_number 0 -r 15 \"/Users/staveshemesh/Projects/PATS_DATA/Youtube/oliver/xecEV4dSAXE/105176/vokens/face_annot_224/$filename%05d.png\"\n",
      "✅  ffmpeg -i \"/Users/staveshemesh/Projects/PATS_DATA/Youtube/oliver/J6lyURyVz7k/105177/105177.mp4\" -start_number 0 -r 15 \"/Users/staveshemesh/Projects/PATS_DATA/Youtube/oliver/J6lyURyVz7k/105177/vokens/face_annot_224/$filename%05d.png\"\n",
      "✅  ffmpeg -i \"/Users/staveshemesh/Projects/PATS_DATA/Youtube/oliver/9PK-netuhHA/105181/105181.mp4\" -start_number 0 -r 15 \"/Users/staveshemesh/Projects/PATS_DATA/Youtube/oliver/9PK-netuhHA/105181/vokens/face_annot_224/$filename%05d.png\"\n",
      "✅  ffmpeg -i \"/Users/staveshemesh/Projects/PATS_DATA/Youtube/oliver/TrS0uNBuG9c/105185/105185.mp4\" -start_number 0 -r 15 \"/Users/staveshemesh/Projects/PATS_DATA/Youtube/oliver/TrS0uNBuG9c/105185/vokens/face_annot_224/$filename%05d.png\"\n",
      "✅  ffmpeg -i \"/Users/staveshemesh/Projects/PATS_DATA/Youtube/oliver/LfgSEwjAeno/105195/105195.mp4\" -start_number 0 -r 15 \"/Users/staveshemesh/Projects/PATS_DATA/Youtube/oliver/LfgSEwjAeno/105195/vokens/face_annot_224/$filename%05d.png\"\n",
      "✅  ffmpeg -i \"/Users/staveshemesh/Projects/PATS_DATA/Youtube/oliver/LfgSEwjAeno/105200/105200.mp4\" -start_number 0 -r 15 \"/Users/staveshemesh/Projects/PATS_DATA/Youtube/oliver/LfgSEwjAeno/105200/vokens/face_annot_224/$filename%05d.png\"\n",
      "❌ ffmpeg -i \"/Users/staveshemesh/Projects/PATS_DATA/Youtube/oliver/7-LPcVo7gC0/105207/105207.mp4\" -start_number 0 -r 15 \"/Users/staveshemesh/Projects/PATS_DATA/Youtube/oliver/7-LPcVo7gC0/105207/vokens/face_annot_224/$filename%05d.png\"\n"
     ]
    },
    {
     "ename": "OSError",
     "evalue": "[Errno 28] No space left on device: '/Users/staveshemesh/Projects/PATS_DATA/Youtube/oliver/LfgSEwjAeno/105222/vokens'",
     "output_type": "error",
     "traceback": [
      "\u001b[0;31m---------------------------------------------------------------------------\u001b[0m",
      "\u001b[0;31mOSError\u001b[0m                                   Traceback (most recent call last)",
      "\u001b[0;32m<ipython-input-69-2bcb92e959d0>\u001b[0m in \u001b[0;36m<module>\u001b[0;34m\u001b[0m\n\u001b[1;32m      1\u001b[0m \u001b[0;32mfor\u001b[0m \u001b[0minterval_video_path\u001b[0m\u001b[0;34m,\u001b[0m \u001b[0minterval_frames_dir\u001b[0m \u001b[0;32min\u001b[0m \u001b[0mtqdm\u001b[0m\u001b[0;34m(\u001b[0m\u001b[0mzip\u001b[0m\u001b[0;34m(\u001b[0m\u001b[0minterval_video_paths\u001b[0m\u001b[0;34m,\u001b[0m \u001b[0minterval_frames_dir\u001b[0m\u001b[0;34m)\u001b[0m\u001b[0;34m)\u001b[0m\u001b[0;34m:\u001b[0m\u001b[0;34m\u001b[0m\u001b[0;34m\u001b[0m\u001b[0m\n\u001b[0;32m----> 2\u001b[0;31m     \u001b[0mvideo_to_frames_and_delete\u001b[0m\u001b[0;34m(\u001b[0m\u001b[0minterval_video_path\u001b[0m\u001b[0;34m,\u001b[0m \u001b[0minterval_frames_dir\u001b[0m\u001b[0;34m)\u001b[0m\u001b[0;34m\u001b[0m\u001b[0;34m\u001b[0m\u001b[0m\n\u001b[0m",
      "\u001b[0;32m<ipython-input-61-ad0ce1435271>\u001b[0m in \u001b[0;36mvideo_to_frames_and_delete\u001b[0;34m(interval_video_path, interval_frames_dir)\u001b[0m\n\u001b[1;32m      2\u001b[0m     \u001b[0mvideo_has_frames\u001b[0m \u001b[0;34m=\u001b[0m \u001b[0mos\u001b[0m\u001b[0;34m.\u001b[0m\u001b[0mpath\u001b[0m\u001b[0;34m.\u001b[0m\u001b[0mexists\u001b[0m\u001b[0;34m(\u001b[0m\u001b[0minterval_frames_dir\u001b[0m\u001b[0;34m)\u001b[0m \u001b[0;32mand\u001b[0m \u001b[0mos\u001b[0m\u001b[0;34m.\u001b[0m\u001b[0mpath\u001b[0m\u001b[0;34m.\u001b[0m\u001b[0mgetsize\u001b[0m\u001b[0;34m(\u001b[0m\u001b[0minterval_frames_dir\u001b[0m\u001b[0;34m)\u001b[0m \u001b[0;34m>\u001b[0m \u001b[0;36m0\u001b[0m\u001b[0;34m\u001b[0m\u001b[0;34m\u001b[0m\u001b[0m\n\u001b[1;32m      3\u001b[0m     \u001b[0;32mif\u001b[0m \u001b[0;32mnot\u001b[0m \u001b[0mvideo_has_frames\u001b[0m\u001b[0;34m:\u001b[0m\u001b[0;34m\u001b[0m\u001b[0;34m\u001b[0m\u001b[0m\n\u001b[0;32m----> 4\u001b[0;31m         \u001b[0mvideo_to_frames\u001b[0m\u001b[0;34m(\u001b[0m\u001b[0minterval_video_path\u001b[0m\u001b[0;34m,\u001b[0m \u001b[0minterval_frames_dir\u001b[0m\u001b[0;34m)\u001b[0m\u001b[0;34m\u001b[0m\u001b[0;34m\u001b[0m\u001b[0m\n\u001b[0m\u001b[1;32m      5\u001b[0m     \u001b[0mdelete_video\u001b[0m\u001b[0;34m(\u001b[0m\u001b[0minterval_video_path\u001b[0m\u001b[0;34m)\u001b[0m\u001b[0;34m\u001b[0m\u001b[0;34m\u001b[0m\u001b[0m\n\u001b[1;32m      6\u001b[0m \u001b[0;34m\u001b[0m\u001b[0m\n",
      "\u001b[0;32m<ipython-input-61-ad0ce1435271>\u001b[0m in \u001b[0;36mvideo_to_frames\u001b[0;34m(interval_video_path, interval_frames_dir)\u001b[0m\n\u001b[1;32m      6\u001b[0m \u001b[0;34m\u001b[0m\u001b[0m\n\u001b[1;32m      7\u001b[0m \u001b[0;32mdef\u001b[0m \u001b[0mvideo_to_frames\u001b[0m\u001b[0;34m(\u001b[0m\u001b[0minterval_video_path\u001b[0m\u001b[0;34m,\u001b[0m \u001b[0minterval_frames_dir\u001b[0m\u001b[0;34m)\u001b[0m\u001b[0;34m:\u001b[0m\u001b[0;34m\u001b[0m\u001b[0;34m\u001b[0m\u001b[0m\n\u001b[0;32m----> 8\u001b[0;31m     \u001b[0mos\u001b[0m\u001b[0;34m.\u001b[0m\u001b[0mmakedirs\u001b[0m\u001b[0;34m(\u001b[0m\u001b[0minterval_frames_dir\u001b[0m\u001b[0;34m)\u001b[0m\u001b[0;34m\u001b[0m\u001b[0;34m\u001b[0m\u001b[0m\n\u001b[0m\u001b[1;32m      9\u001b[0m     \u001b[0mcommand\u001b[0m \u001b[0;34m=\u001b[0m \u001b[0;34mf'ffmpeg -i \"{interval_video_path}\" -start_number {START_FRAME} -r {FRAME_RATE} \"{interval_frames_dir}/$filename%05d.png\"'\u001b[0m\u001b[0;34m\u001b[0m\u001b[0;34m\u001b[0m\u001b[0m\n\u001b[1;32m     10\u001b[0m     \u001b[0mrun_command\u001b[0m\u001b[0;34m(\u001b[0m\u001b[0mcommand\u001b[0m\u001b[0;34m)\u001b[0m\u001b[0;34m\u001b[0m\u001b[0;34m\u001b[0m\u001b[0m\n",
      "\u001b[0;32m~/.pyenv/versions/3.6.8/lib/python3.6/os.py\u001b[0m in \u001b[0;36mmakedirs\u001b[0;34m(name, mode, exist_ok)\u001b[0m\n\u001b[1;32m    208\u001b[0m     \u001b[0;32mif\u001b[0m \u001b[0mhead\u001b[0m \u001b[0;32mand\u001b[0m \u001b[0mtail\u001b[0m \u001b[0;32mand\u001b[0m \u001b[0;32mnot\u001b[0m \u001b[0mpath\u001b[0m\u001b[0;34m.\u001b[0m\u001b[0mexists\u001b[0m\u001b[0;34m(\u001b[0m\u001b[0mhead\u001b[0m\u001b[0;34m)\u001b[0m\u001b[0;34m:\u001b[0m\u001b[0;34m\u001b[0m\u001b[0;34m\u001b[0m\u001b[0m\n\u001b[1;32m    209\u001b[0m         \u001b[0;32mtry\u001b[0m\u001b[0;34m:\u001b[0m\u001b[0;34m\u001b[0m\u001b[0;34m\u001b[0m\u001b[0m\n\u001b[0;32m--> 210\u001b[0;31m             \u001b[0mmakedirs\u001b[0m\u001b[0;34m(\u001b[0m\u001b[0mhead\u001b[0m\u001b[0;34m,\u001b[0m \u001b[0mmode\u001b[0m\u001b[0;34m,\u001b[0m \u001b[0mexist_ok\u001b[0m\u001b[0;34m)\u001b[0m\u001b[0;34m\u001b[0m\u001b[0;34m\u001b[0m\u001b[0m\n\u001b[0m\u001b[1;32m    211\u001b[0m         \u001b[0;32mexcept\u001b[0m \u001b[0mFileExistsError\u001b[0m\u001b[0;34m:\u001b[0m\u001b[0;34m\u001b[0m\u001b[0;34m\u001b[0m\u001b[0m\n\u001b[1;32m    212\u001b[0m             \u001b[0;31m# Defeats race condition when another thread created the path\u001b[0m\u001b[0;34m\u001b[0m\u001b[0;34m\u001b[0m\u001b[0;34m\u001b[0m\u001b[0m\n",
      "\u001b[0;32m~/.pyenv/versions/3.6.8/lib/python3.6/os.py\u001b[0m in \u001b[0;36mmakedirs\u001b[0;34m(name, mode, exist_ok)\u001b[0m\n\u001b[1;32m    218\u001b[0m             \u001b[0;32mreturn\u001b[0m\u001b[0;34m\u001b[0m\u001b[0;34m\u001b[0m\u001b[0m\n\u001b[1;32m    219\u001b[0m     \u001b[0;32mtry\u001b[0m\u001b[0;34m:\u001b[0m\u001b[0;34m\u001b[0m\u001b[0;34m\u001b[0m\u001b[0m\n\u001b[0;32m--> 220\u001b[0;31m         \u001b[0mmkdir\u001b[0m\u001b[0;34m(\u001b[0m\u001b[0mname\u001b[0m\u001b[0;34m,\u001b[0m \u001b[0mmode\u001b[0m\u001b[0;34m)\u001b[0m\u001b[0;34m\u001b[0m\u001b[0;34m\u001b[0m\u001b[0m\n\u001b[0m\u001b[1;32m    221\u001b[0m     \u001b[0;32mexcept\u001b[0m \u001b[0mOSError\u001b[0m\u001b[0;34m:\u001b[0m\u001b[0;34m\u001b[0m\u001b[0;34m\u001b[0m\u001b[0m\n\u001b[1;32m    222\u001b[0m         \u001b[0;31m# Cannot rely on checking for EEXIST, since the operating system\u001b[0m\u001b[0;34m\u001b[0m\u001b[0;34m\u001b[0m\u001b[0;34m\u001b[0m\u001b[0m\n",
      "\u001b[0;31mOSError\u001b[0m: [Errno 28] No space left on device: '/Users/staveshemesh/Projects/PATS_DATA/Youtube/oliver/LfgSEwjAeno/105222/vokens'"
     ]
    }
   ],
   "source": [
    "for interval_video_path, interval_frames_dir in tqdm(zip(interval_video_paths, interval_frames_dir)):\n",
    "    video_to_frames_and_delete(interval_video_path, interval_frames_dir)"
   ]
  },
  {
   "cell_type": "code",
   "execution_count": null,
   "metadata": {},
   "outputs": [],
   "source": []
  }
 ],
 "metadata": {
  "kernelspec": {
   "display_name": "Python 3",
   "language": "python",
   "name": "python3"
  },
  "language_info": {
   "codemirror_mode": {
    "name": "ipython",
    "version": 3
   },
   "file_extension": ".py",
   "mimetype": "text/x-python",
   "name": "python",
   "nbconvert_exporter": "python",
   "pygments_lexer": "ipython3",
   "version": "3.6.8"
  },
  "toc": {
   "base_numbering": 1,
   "nav_menu": {},
   "number_sections": true,
   "sideBar": true,
   "skip_h1_title": false,
   "title_cell": "Table of Contents",
   "title_sidebar": "Contents",
   "toc_cell": false,
   "toc_position": {},
   "toc_section_display": true,
   "toc_window_display": false
  },
  "toc-showcode": false
 },
 "nbformat": 4,
 "nbformat_minor": 4
}
