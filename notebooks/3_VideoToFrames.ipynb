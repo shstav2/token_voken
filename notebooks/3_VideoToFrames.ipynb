{
 "cells": [
  {
   "cell_type": "markdown",
   "metadata": {},
   "source": [
    "# Imports"
   ]
  },
  {
   "cell_type": "code",
   "execution_count": 1,
   "metadata": {
    "ExecuteTime": {
     "end_time": "2021-01-17T10:20:35.569777Z",
     "start_time": "2021-01-17T10:20:34.256242Z"
    }
   },
   "outputs": [],
   "source": [
    "import os\n",
    "import sys\n",
    "import time\n",
    "\n",
    "import numpy as np\n",
    "import pandas as pd\n",
    "\n",
    "import seaborn as sns\n",
    "import matplotlib.pyplot as plt\n",
    "from ipywidgets import interact\n",
    "from IPython.display import YouTubeVideo, Markdown, display, Video, Image\n",
    "\n",
    "from tqdm.notebook import tqdm\n",
    "tqdm.pandas()"
   ]
  },
  {
   "cell_type": "code",
   "execution_count": 2,
   "metadata": {
    "ExecuteTime": {
     "end_time": "2021-01-17T10:20:35.575362Z",
     "start_time": "2021-01-17T10:20:35.572207Z"
    }
   },
   "outputs": [],
   "source": [
    "pd.set_option('display.max_colwidth', 200)\n",
    "pd.options.display.float_format = '{:,.2f}'.format"
   ]
  },
  {
   "cell_type": "code",
   "execution_count": 3,
   "metadata": {},
   "outputs": [],
   "source": [
    "sys.path.append('/Users/staveshemesh/Projects/shstav2/token_voken/src')\n",
    "sys.path.append('/Users/staveshemesh/Projects/shstav2/token_voken')\n",
    "from src.common.setup import syspath_append_projects\n",
    "syspath_append_projects()"
   ]
  },
  {
   "cell_type": "code",
   "execution_count": 4,
   "metadata": {},
   "outputs": [],
   "source": [
    "from src.common.path_resolvers import *\n",
    "from src.common.constants import *\n",
    "from src.common.display_utils import *\n",
    "from src.common.commands import *\n",
    "from src.common.status import *\n",
    "from src.pipeline.video_to_frames import video_to_frames_and_delete"
   ]
  },
  {
   "cell_type": "code",
   "execution_count": 5,
   "metadata": {},
   "outputs": [],
   "source": [
    "INPUT_DATA_ROOT = '/Users/staveshemesh/Projects/shstav2/token_voken/data/'\n",
    "INPUT_ITERATION = '20210419_220655'\n",
    "VALID_INTERVALS_PATH = os.path.join(INPUT_DATA_ROOT, INPUT_ITERATION, 'dataframes/df_intervals_valid.csv')"
   ]
  },
  {
   "cell_type": "code",
   "execution_count": 27,
   "metadata": {},
   "outputs": [],
   "source": [
    "TIMESTR = time.strftime(\"%Y%m%d_%H%M%S\")\n",
    "\n",
    "OUTPUT_ROOT = '/Users/staveshemesh/Projects/shstav2/token_voken/data/'"
   ]
  },
  {
   "cell_type": "markdown",
   "metadata": {},
   "source": [
    "# Read Data"
   ]
  },
  {
   "cell_type": "markdown",
   "metadata": {},
   "source": [
    "## df_intervals"
   ]
  },
  {
   "cell_type": "code",
   "execution_count": 7,
   "metadata": {},
   "outputs": [],
   "source": [
    "df_intervals = pd.read_csv(VALID_INTERVALS_PATH, dtype={'interval_id': object})"
   ]
  },
  {
   "cell_type": "code",
   "execution_count": 8,
   "metadata": {},
   "outputs": [
    {
     "data": {
      "text/html": [
       "<div>\n",
       "<style scoped>\n",
       "    .dataframe tbody tr th:only-of-type {\n",
       "        vertical-align: middle;\n",
       "    }\n",
       "\n",
       "    .dataframe tbody tr th {\n",
       "        vertical-align: top;\n",
       "    }\n",
       "\n",
       "    .dataframe thead th {\n",
       "        text-align: right;\n",
       "    }\n",
       "</style>\n",
       "<table border=\"1\" class=\"dataframe\">\n",
       "  <thead>\n",
       "    <tr style=\"text-align: right;\">\n",
       "      <th></th>\n",
       "      <th>speaker</th>\n",
       "      <th>video_id</th>\n",
       "      <th>interval_id</th>\n",
       "      <th>valid</th>\n",
       "      <th>duration</th>\n",
       "      <th>start_time_string</th>\n",
       "      <th>end_time_string</th>\n",
       "      <th>video_link</th>\n",
       "      <th>video_fn</th>\n",
       "      <th>start_time</th>\n",
       "      <th>...</th>\n",
       "      <th>valid_single_token_per_frame</th>\n",
       "      <th>video_downloded</th>\n",
       "      <th>valid_hd5</th>\n",
       "      <th>valid_max_token_duration</th>\n",
       "      <th>valid_frames_count</th>\n",
       "      <th>video_downloaded</th>\n",
       "      <th>interval_video_path</th>\n",
       "      <th>interval_video_downloaded</th>\n",
       "      <th>interval_frames_dir</th>\n",
       "      <th>full_video_path</th>\n",
       "    </tr>\n",
       "  </thead>\n",
       "  <tbody>\n",
       "    <tr>\n",
       "      <th>0</th>\n",
       "      <td>oliver</td>\n",
       "      <td>Tt-mpuR_QHQ</td>\n",
       "      <td>100912</td>\n",
       "      <td>True</td>\n",
       "      <td>20.75</td>\n",
       "      <td>00:10:26.55</td>\n",
       "      <td>00:10:47.31</td>\n",
       "      <td>https://www.youtube.com/watch?v=Tt-mpuR_QHQ</td>\n",
       "      <td>Puerto_Rico_-_Last_Week_Tonight_with_John_Oliver_HBO-Tt-mpuR_QHQ.webm</td>\n",
       "      <td>0 days 00:10:26.550000</td>\n",
       "      <td>...</td>\n",
       "      <td>True</td>\n",
       "      <td>False</td>\n",
       "      <td>True</td>\n",
       "      <td>True</td>\n",
       "      <td>True</td>\n",
       "      <td>True</td>\n",
       "      <td>/Users/staveshemesh/Projects/PATS_DATA/Youtube/oliver/Tt-mpuR_QHQ/100912/100912.mp4</td>\n",
       "      <td>True</td>\n",
       "      <td>/Users/staveshemesh/Projects/PATS_DATA/Youtube/oliver/Tt-mpuR_QHQ/100912/vokens/face_annot_224</td>\n",
       "      <td>/Users/staveshemesh/Projects/PATS_DATA/Youtube/oliver/Tt-mpuR_QHQ/Tt-mpuR_QHQ.mp4</td>\n",
       "    </tr>\n",
       "    <tr>\n",
       "      <th>1</th>\n",
       "      <td>oliver</td>\n",
       "      <td>Tt-mpuR_QHQ</td>\n",
       "      <td>100913</td>\n",
       "      <td>True</td>\n",
       "      <td>7.74</td>\n",
       "      <td>00:10:47.44</td>\n",
       "      <td>00:10:55.18</td>\n",
       "      <td>https://www.youtube.com/watch?v=Tt-mpuR_QHQ</td>\n",
       "      <td>Puerto_Rico_-_Last_Week_Tonight_with_John_Oliver_HBO-Tt-mpuR_QHQ.webm</td>\n",
       "      <td>0 days 00:10:47.440000</td>\n",
       "      <td>...</td>\n",
       "      <td>True</td>\n",
       "      <td>False</td>\n",
       "      <td>True</td>\n",
       "      <td>True</td>\n",
       "      <td>True</td>\n",
       "      <td>True</td>\n",
       "      <td>/Users/staveshemesh/Projects/PATS_DATA/Youtube/oliver/Tt-mpuR_QHQ/100913/100913.mp4</td>\n",
       "      <td>True</td>\n",
       "      <td>/Users/staveshemesh/Projects/PATS_DATA/Youtube/oliver/Tt-mpuR_QHQ/100913/vokens/face_annot_224</td>\n",
       "      <td>/Users/staveshemesh/Projects/PATS_DATA/Youtube/oliver/Tt-mpuR_QHQ/Tt-mpuR_QHQ.mp4</td>\n",
       "    </tr>\n",
       "  </tbody>\n",
       "</table>\n",
       "<p>2 rows × 25 columns</p>\n",
       "</div>"
      ],
      "text/plain": [
       "  speaker     video_id interval_id  valid  duration start_time_string  \\\n",
       "0  oliver  Tt-mpuR_QHQ      100912   True     20.75       00:10:26.55   \n",
       "1  oliver  Tt-mpuR_QHQ      100913   True      7.74       00:10:47.44   \n",
       "\n",
       "  end_time_string                                   video_link  \\\n",
       "0     00:10:47.31  https://www.youtube.com/watch?v=Tt-mpuR_QHQ   \n",
       "1     00:10:55.18  https://www.youtube.com/watch?v=Tt-mpuR_QHQ   \n",
       "\n",
       "                                                                video_fn  \\\n",
       "0  Puerto_Rico_-_Last_Week_Tonight_with_John_Oliver_HBO-Tt-mpuR_QHQ.webm   \n",
       "1  Puerto_Rico_-_Last_Week_Tonight_with_John_Oliver_HBO-Tt-mpuR_QHQ.webm   \n",
       "\n",
       "               start_time  ... valid_single_token_per_frame video_downloded  \\\n",
       "0  0 days 00:10:26.550000  ...                         True           False   \n",
       "1  0 days 00:10:47.440000  ...                         True           False   \n",
       "\n",
       "  valid_hd5  valid_max_token_duration  valid_frames_count  video_downloaded  \\\n",
       "0      True                      True                True              True   \n",
       "1      True                      True                True              True   \n",
       "\n",
       "                                                                   interval_video_path  \\\n",
       "0  /Users/staveshemesh/Projects/PATS_DATA/Youtube/oliver/Tt-mpuR_QHQ/100912/100912.mp4   \n",
       "1  /Users/staveshemesh/Projects/PATS_DATA/Youtube/oliver/Tt-mpuR_QHQ/100913/100913.mp4   \n",
       "\n",
       "   interval_video_downloaded  \\\n",
       "0                       True   \n",
       "1                       True   \n",
       "\n",
       "                                                                              interval_frames_dir  \\\n",
       "0  /Users/staveshemesh/Projects/PATS_DATA/Youtube/oliver/Tt-mpuR_QHQ/100912/vokens/face_annot_224   \n",
       "1  /Users/staveshemesh/Projects/PATS_DATA/Youtube/oliver/Tt-mpuR_QHQ/100913/vokens/face_annot_224   \n",
       "\n",
       "                                                                     full_video_path  \n",
       "0  /Users/staveshemesh/Projects/PATS_DATA/Youtube/oliver/Tt-mpuR_QHQ/Tt-mpuR_QHQ.mp4  \n",
       "1  /Users/staveshemesh/Projects/PATS_DATA/Youtube/oliver/Tt-mpuR_QHQ/Tt-mpuR_QHQ.mp4  \n",
       "\n",
       "[2 rows x 25 columns]"
      ]
     },
     "execution_count": 8,
     "metadata": {},
     "output_type": "execute_result"
    }
   ],
   "source": [
    "df_intervals.head(n=2)"
   ]
  },
  {
   "cell_type": "code",
   "execution_count": 9,
   "metadata": {},
   "outputs": [
    {
     "data": {
      "text/markdown": [
       "**Valid intervals, Speaker oliver**:"
      ],
      "text/plain": [
       "<IPython.core.display.Markdown object>"
      ]
     },
     "metadata": {},
     "output_type": "display_data"
    },
    {
     "name": "stdout",
     "output_type": "stream",
     "text": [
      "  ◘ Videos: #123\n",
      "  ◘ Intervals: #2,118\n",
      "  ◘ Total Duration: 08 hours, 13 minutues, 25 seconds (29,605 seconds)\n",
      "  ◘ All are Youtube videos: True\n"
     ]
    }
   ],
   "source": [
    "printmd(f'**Valid intervals, Speaker {SPEAKER_NAME}**:')\n",
    "display_df_info(df_intervals)"
   ]
  },
  {
   "cell_type": "markdown",
   "metadata": {},
   "source": [
    "## Interval Data Status"
   ]
  },
  {
   "cell_type": "code",
   "execution_count": 10,
   "metadata": {},
   "outputs": [
    {
     "name": "stdout",
     "output_type": "stream",
     "text": [
      "2021-05-15 17:23:48,230 | INFO : Note: NumExpr detected 12 cores but \"NUMEXPR_MAX_THREADS\" not set, so enforcing safe limit of 8.\n",
      "2021-05-15 17:23:48,231 | INFO : NumExpr defaulting to 8 threads.\n"
     ]
    }
   ],
   "source": [
    "status_frames(df_intervals)"
   ]
  },
  {
   "cell_type": "code",
   "execution_count": 11,
   "metadata": {},
   "outputs": [
    {
     "data": {
      "text/html": [
       "<style  type=\"text/css\" >\n",
       "    #T_346d4f68_b589_11eb_ba64_a683e7ab8623 caption {\n",
       "          color: blue;\n",
       "          font-size: 16px;\n",
       "    }</style><table id=\"T_346d4f68_b589_11eb_ba64_a683e7ab8623\" ><caption>[1] Downloaded Interval Video</caption><thead>    <tr>        <th class=\"blank level0\" ></th>        <th class=\"col_heading level0 col0\" >interval_video_downloaded</th>    </tr></thead><tbody>\n",
       "                <tr>\n",
       "                        <th id=\"T_346d4f68_b589_11eb_ba64_a683e7ab8623level0_row0\" class=\"row_heading level0 row0\" >True</th>\n",
       "                        <td id=\"T_346d4f68_b589_11eb_ba64_a683e7ab8623row0_col0\" class=\"data row0 col0\" >1992</td>\n",
       "            </tr>\n",
       "            <tr>\n",
       "                        <th id=\"T_346d4f68_b589_11eb_ba64_a683e7ab8623level0_row1\" class=\"row_heading level0 row1\" >False</th>\n",
       "                        <td id=\"T_346d4f68_b589_11eb_ba64_a683e7ab8623row1_col0\" class=\"data row1 col0\" >126</td>\n",
       "            </tr>\n",
       "    </tbody></table>"
      ],
      "text/plain": [
       "<pandas.io.formats.style.Styler at 0x12b168cc0>"
      ]
     },
     "metadata": {},
     "output_type": "display_data"
    },
    {
     "data": {
      "text/html": [
       "<style  type=\"text/css\" >\n",
       "    #T_34706706_b589_11eb_8beb_a683e7ab8623 caption {\n",
       "          color: blue;\n",
       "          font-size: 16px;\n",
       "    }</style><table id=\"T_34706706_b589_11eb_8beb_a683e7ab8623\" ><caption>[2] Frame Dir Exsits</caption><thead>    <tr>        <th class=\"blank level0\" ></th>        <th class=\"col_heading level0 col0\" >frames_dir_exists</th>    </tr></thead><tbody>\n",
       "                <tr>\n",
       "                        <th id=\"T_34706706_b589_11eb_8beb_a683e7ab8623level0_row0\" class=\"row_heading level0 row0\" >False</th>\n",
       "                        <td id=\"T_34706706_b589_11eb_8beb_a683e7ab8623row0_col0\" class=\"data row0 col0\" >1487</td>\n",
       "            </tr>\n",
       "            <tr>\n",
       "                        <th id=\"T_34706706_b589_11eb_8beb_a683e7ab8623level0_row1\" class=\"row_heading level0 row1\" >True</th>\n",
       "                        <td id=\"T_34706706_b589_11eb_8beb_a683e7ab8623row1_col0\" class=\"data row1 col0\" >631</td>\n",
       "            </tr>\n",
       "    </tbody></table>"
      ],
      "text/plain": [
       "<pandas.io.formats.style.Styler at 0x12b168cf8>"
      ]
     },
     "metadata": {},
     "output_type": "display_data"
    },
    {
     "data": {
      "text/html": [
       "<style  type=\"text/css\" >\n",
       "    #T_34711780_b589_11eb_9f83_a683e7ab8623 caption {\n",
       "          color: blue;\n",
       "          font-size: 16px;\n",
       "    }</style><table id=\"T_34711780_b589_11eb_9f83_a683e7ab8623\" ><caption>[3] Frames Dir Has Content</caption><thead>    <tr>        <th class=\"blank level0\" ></th>        <th class=\"col_heading level0 col0\" >frames_dir_content_size</th>    </tr></thead><tbody>\n",
       "                <tr>\n",
       "                        <th id=\"T_34711780_b589_11eb_9f83_a683e7ab8623level0_row0\" class=\"row_heading level0 row0\" >False</th>\n",
       "                        <td id=\"T_34711780_b589_11eb_9f83_a683e7ab8623row0_col0\" class=\"data row0 col0\" >2078</td>\n",
       "            </tr>\n",
       "            <tr>\n",
       "                        <th id=\"T_34711780_b589_11eb_9f83_a683e7ab8623level0_row1\" class=\"row_heading level0 row1\" >True</th>\n",
       "                        <td id=\"T_34711780_b589_11eb_9f83_a683e7ab8623row1_col0\" class=\"data row1 col0\" >40</td>\n",
       "            </tr>\n",
       "    </tbody></table>"
      ],
      "text/plain": [
       "<pandas.io.formats.style.Styler at 0x12b168e10>"
      ]
     },
     "metadata": {},
     "output_type": "display_data"
    },
    {
     "data": {
      "text/html": [
       "<style  type=\"text/css\" >\n",
       "    #T_3471af88_b589_11eb_942b_a683e7ab8623 caption {\n",
       "          color: blue;\n",
       "          font-size: 16px;\n",
       "    }</style><table id=\"T_3471af88_b589_11eb_942b_a683e7ab8623\" ><caption>[4] Has Completed Frames (Video -> Frames)</caption><thead>    <tr>        <th class=\"blank level0\" ></th>        <th class=\"col_heading level0 col0\" >has_completed_frames</th>    </tr></thead><tbody>\n",
       "                <tr>\n",
       "                        <th id=\"T_3471af88_b589_11eb_942b_a683e7ab8623level0_row0\" class=\"row_heading level0 row0\" >False</th>\n",
       "                        <td id=\"T_3471af88_b589_11eb_942b_a683e7ab8623row0_col0\" class=\"data row0 col0\" >1697</td>\n",
       "            </tr>\n",
       "            <tr>\n",
       "                        <th id=\"T_3471af88_b589_11eb_942b_a683e7ab8623level0_row1\" class=\"row_heading level0 row1\" >True</th>\n",
       "                        <td id=\"T_3471af88_b589_11eb_942b_a683e7ab8623row1_col0\" class=\"data row1 col0\" >421</td>\n",
       "            </tr>\n",
       "    </tbody></table>"
      ],
      "text/plain": [
       "<pandas.io.formats.style.Styler at 0x12b4b4748>"
      ]
     },
     "metadata": {},
     "output_type": "display_data"
    },
    {
     "data": {
      "text/html": [
       "<style  type=\"text/css\" >\n",
       "    #T_34726c8c_b589_11eb_bf3b_a683e7ab8623 caption {\n",
       "          color: blue;\n",
       "          font-size: 16px;\n",
       "    }</style><table id=\"T_34726c8c_b589_11eb_bf3b_a683e7ab8623\" ><caption>[5] Detected Face</caption><thead>    <tr>        <th class=\"blank level0\" ></th>        <th class=\"col_heading level0 col0\" >has_detected_faces</th>    </tr></thead><tbody>\n",
       "                <tr>\n",
       "                        <th id=\"T_34726c8c_b589_11eb_bf3b_a683e7ab8623level0_row0\" class=\"row_heading level0 row0\" >False</th>\n",
       "                        <td id=\"T_34726c8c_b589_11eb_bf3b_a683e7ab8623row0_col0\" class=\"data row0 col0\" >1764</td>\n",
       "            </tr>\n",
       "            <tr>\n",
       "                        <th id=\"T_34726c8c_b589_11eb_bf3b_a683e7ab8623level0_row1\" class=\"row_heading level0 row1\" >True</th>\n",
       "                        <td id=\"T_34726c8c_b589_11eb_bf3b_a683e7ab8623row1_col0\" class=\"data row1 col0\" >354</td>\n",
       "            </tr>\n",
       "    </tbody></table>"
      ],
      "text/plain": [
       "<pandas.io.formats.style.Styler at 0x12b4b40b8>"
      ]
     },
     "metadata": {},
     "output_type": "display_data"
    },
    {
     "data": {
      "text/html": [
       "<style  type=\"text/css\" >\n",
       "    #T_347308cc_b589_11eb_8d80_a683e7ab8623 caption {\n",
       "          color: blue;\n",
       "          font-size: 16px;\n",
       "    }</style><table id=\"T_347308cc_b589_11eb_8d80_a683e7ab8623\" ><caption>[6] Need To Extract Frames</caption><thead>    <tr>        <th class=\"blank level0\" ></th>        <th class=\"col_heading level0 col0\" >need_to_extract_frames</th>    </tr></thead><tbody>\n",
       "                <tr>\n",
       "                        <th id=\"T_347308cc_b589_11eb_8d80_a683e7ab8623level0_row0\" class=\"row_heading level0 row0\" >True</th>\n",
       "                        <td id=\"T_347308cc_b589_11eb_8d80_a683e7ab8623row0_col0\" class=\"data row0 col0\" >1696</td>\n",
       "            </tr>\n",
       "            <tr>\n",
       "                        <th id=\"T_347308cc_b589_11eb_8d80_a683e7ab8623level0_row1\" class=\"row_heading level0 row1\" >False</th>\n",
       "                        <td id=\"T_347308cc_b589_11eb_8d80_a683e7ab8623row1_col0\" class=\"data row1 col0\" >422</td>\n",
       "            </tr>\n",
       "    </tbody></table>"
      ],
      "text/plain": [
       "<pandas.io.formats.style.Styler at 0x105c3b470>"
      ]
     },
     "metadata": {},
     "output_type": "display_data"
    }
   ],
   "source": [
    "display_value_counts(df_intervals['interval_video_downloaded'], '[1] Downloaded Interval Video')\n",
    "display_value_counts(df_intervals['frames_dir_exists'],         '[2] Frame Dir Exsits')\n",
    "display_value_counts(df_intervals['frames_dir_content_size'],   '[3] Frames Dir Has Content')\n",
    "display_value_counts(df_intervals['has_completed_frames'],      '[4] Has Completed Frames (Video -> Frames)')\n",
    "display_value_counts(df_intervals['has_detected_faces'],        '[5] Detected Face')\n",
    "display_value_counts(df_intervals['need_to_extract_frames'],    '[6] Need To Extract Frames')"
   ]
  },
  {
   "cell_type": "code",
   "execution_count": 12,
   "metadata": {},
   "outputs": [
    {
     "data": {
      "text/plain": [
       "(100, 34)"
      ]
     },
     "execution_count": 12,
     "metadata": {},
     "output_type": "execute_result"
    }
   ],
   "source": [
    "df_batch2 = df_intervals[(df_intervals['need_to_extract_frames'])&((df_intervals['status_interval_video_downloaded']))].iloc[:100]\n",
    "df_batch2.shape"
   ]
  },
  {
   "cell_type": "code",
   "execution_count": 20,
   "metadata": {},
   "outputs": [
    {
     "data": {
      "text/plain": [
       "(400, 34)"
      ]
     },
     "execution_count": 20,
     "metadata": {},
     "output_type": "execute_result"
    }
   ],
   "source": [
    "df_batch3 = df_intervals[(df_intervals['need_to_extract_frames'])&((df_intervals['status_interval_video_downloaded']))].iloc[100:500]\n",
    "df_batch3.shape"
   ]
  },
  {
   "cell_type": "code",
   "execution_count": 21,
   "metadata": {},
   "outputs": [],
   "source": [
    "interval_video_paths = df_batch3['interval_video_path'].tolist()\n",
    "interval_frames_dirs = df_batch3['interval_frames_dir'].tolist()"
   ]
  },
  {
   "cell_type": "code",
   "execution_count": 22,
   "metadata": {},
   "outputs": [
    {
     "data": {
      "text/plain": [
       "['/Users/staveshemesh/Projects/PATS_DATA/Youtube/oliver/_S2G8jhhUHg/102918/102918.mp4',\n",
       " '/Users/staveshemesh/Projects/PATS_DATA/Youtube/oliver/QplQL5eAxlY/102919/102919.mp4']"
      ]
     },
     "execution_count": 22,
     "metadata": {},
     "output_type": "execute_result"
    }
   ],
   "source": [
    "interval_video_paths[10:12]"
   ]
  },
  {
   "cell_type": "code",
   "execution_count": 23,
   "metadata": {},
   "outputs": [
    {
     "data": {
      "text/plain": [
       "['/Users/staveshemesh/Projects/PATS_DATA/Youtube/oliver/_S2G8jhhUHg/102918/vokens/face_annot_224',\n",
       " '/Users/staveshemesh/Projects/PATS_DATA/Youtube/oliver/QplQL5eAxlY/102919/vokens/face_annot_224']"
      ]
     },
     "execution_count": 23,
     "metadata": {},
     "output_type": "execute_result"
    }
   ],
   "source": [
    "interval_frames_dirs[10:12]"
   ]
  },
  {
   "cell_type": "code",
   "execution_count": 25,
   "metadata": {},
   "outputs": [
    {
     "data": {
      "text/plain": [
       "(500, 34)"
      ]
     },
     "execution_count": 25,
     "metadata": {},
     "output_type": "execute_result"
    }
   ],
   "source": [
    "df_batch2 = df_intervals[(df_intervals['need_to_extract_frames'])&((df_intervals['status_interval_video_downloaded']))].iloc[:500]\n",
    "df_batch2.shape"
   ]
  },
  {
   "cell_type": "code",
   "execution_count": 28,
   "metadata": {},
   "outputs": [
    {
     "data": {
      "text/plain": [
       "500"
      ]
     },
     "execution_count": 28,
     "metadata": {},
     "output_type": "execute_result"
    }
   ],
   "source": [
    "len(df_batch2)"
   ]
  },
  {
   "cell_type": "code",
   "execution_count": 29,
   "metadata": {},
   "outputs": [],
   "source": [
    "batchfile = f'df_intervals_batch2_{len(df_batch2)}_{TIMESTR}'\n",
    "batch_path = os.path.join(OUTPUT_ROOT, batchfile)"
   ]
  },
  {
   "cell_type": "code",
   "execution_count": 30,
   "metadata": {},
   "outputs": [
    {
     "data": {
      "text/plain": [
       "'/Users/staveshemesh/Projects/shstav2/token_voken/data/df_intervals_batch2_500_20210515_195921'"
      ]
     },
     "execution_count": 30,
     "metadata": {},
     "output_type": "execute_result"
    }
   ],
   "source": [
    "batch_path"
   ]
  },
  {
   "cell_type": "code",
   "execution_count": 31,
   "metadata": {},
   "outputs": [],
   "source": [
    "df_batch2.to_csv(batch_path, header=True)"
   ]
  },
  {
   "cell_type": "code",
   "execution_count": null,
   "metadata": {},
   "outputs": [],
   "source": [
    "for interval_video_path, interval_frames_dir in tqdm(zip(interval_video_paths, interval_frames_dirs)):\n",
    "    video_to_frames_and_delete(interval_video_path, interval_frames_dir, override=True)"
   ]
  }
 ],
 "metadata": {
  "kernelspec": {
   "display_name": "Python 3",
   "language": "python",
   "name": "python3"
  },
  "language_info": {
   "codemirror_mode": {
    "name": "ipython",
    "version": 3
   },
   "file_extension": ".py",
   "mimetype": "text/x-python",
   "name": "python",
   "nbconvert_exporter": "python",
   "pygments_lexer": "ipython3",
   "version": "3.6.8"
  },
  "toc": {
   "base_numbering": 1,
   "nav_menu": {},
   "number_sections": true,
   "sideBar": true,
   "skip_h1_title": false,
   "title_cell": "Table of Contents",
   "title_sidebar": "Contents",
   "toc_cell": false,
   "toc_position": {},
   "toc_section_display": true,
   "toc_window_display": false
  },
  "toc-showcode": false
 },
 "nbformat": 4,
 "nbformat_minor": 4
}
