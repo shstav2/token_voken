{
 "cells": [
  {
   "cell_type": "code",
   "execution_count": 278,
   "id": "binary-experience",
   "metadata": {},
   "outputs": [],
   "source": [
    "import os\n",
    "import time\n",
    "import itertools\n",
    "\n",
    "import numpy as np\n",
    "import pandas as pd\n",
    "\n",
    "import torch\n",
    "from sklearn.metrics.pairwise import cosine_similarity\n",
    "from scipy.spatial import distance\n",
    "\n",
    "from ipywidgets import interact\n",
    "import matplotlib.pyplot as plt\n",
    "import seaborn as sns\n",
    "import IPython\n",
    "from IPython.display import Markdown, display\n",
    "from tqdm.notebook import tqdm"
   ]
  },
  {
   "cell_type": "code",
   "execution_count": 216,
   "id": "configured-business",
   "metadata": {},
   "outputs": [],
   "source": [
    "LIST_BULLET = '  ◘ '\n",
    "TAB = '&nbsp;&nbsp;&nbsp;&nbsp;'\n",
    "VIDEO_ID_LEN = 11\n",
    "FRAME_RATE = 15"
   ]
  },
  {
   "cell_type": "code",
   "execution_count": 294,
   "id": "homeless-adelaide",
   "metadata": {},
   "outputs": [],
   "source": [
    "DATA_ROOT = '/Users/staveshemesh/Projects/shstav2/token_voken/data'\n",
    "INTERVALS_FILE = '20210420_111641/dataframes/df_intervals_with_frame_status.csv'\n",
    "INTERVALS_PATH = os.path.join(DATA_ROOT, INTERVALS_FILE)\n",
    "\n",
    "PATS_DATA_ROOT = '/Users/staveshemesh/Projects/PATS_DATA'\n",
    "SPEAKER_NAME = 'oliver'\n",
    "\n",
    "TIMESTR = time.strftime(\"%Y%m%d_%H%M%S\")"
   ]
  },
  {
   "cell_type": "code",
   "execution_count": 218,
   "id": "later-tsunami",
   "metadata": {},
   "outputs": [],
   "source": [
    "def get_interval_row(interval_id):\n",
    "    row = df_interval = df_intervals[df_intervals['interval_id'] == interval_id].iloc[0]\n",
    "    return row\n",
    "\n",
    "def get_video_id(interval_id):\n",
    "    row = get_interval_row(interval_id)\n",
    "    return row['video_id']\n",
    "\n",
    "def resolve_interval_video_path(interval_id):\n",
    "    video_id = get_video_id(interval_id)\n",
    "    video_dir = os.path.join(DATA_ROOT, 'Youtube', SPEAKER_NAME, video_id)    \n",
    "    interval_path = os.path.join(video_dir, interval_id, f'{interval_id}.mp4')\n",
    "    return interval_path\n",
    "\n",
    "def resolve_interval_frames_dir(interval_id, create=False):\n",
    "    interval_video_path = resolve_interval_video_path(interval_id)\n",
    "    interval_video_dir = os.path.dirname(interval_video_path)\n",
    "    inetrval_frames_dir = os.path.join(interval_video_dir, 'frames')\n",
    "    if create and not os.path.exists(inetrval_frames_dir):\n",
    "        os.makedirs(inetrval_frames_dir)\n",
    "    return inetrval_frames_dir\n",
    "\n",
    "\n",
    "### FECNet Resolver\n",
    "\n",
    "def resolve_interval_face_annot_dir(interval_id, create=True):\n",
    "    interval_video_path = resolve_interval_video_path(interval_id)\n",
    "    interval_video_dir = os.path.dirname(interval_video_path)\n",
    "    inetrval_face_annot_dir = os.path.join(interval_video_dir, 'face_annot')\n",
    "    if create and not os.path.exists(inetrval_face_annot_dir):\n",
    "        os.makedirs(inetrval_face_annot_dir)\n",
    "    return inetrval_face_annot_dir\n",
    "\n",
    "def resolve_frame_face_annot_dir(interval_id, frame_id, create=True):\n",
    "    face_annot_dir = resolve_interval_face_annot_224_dir(interval_id)\n",
    "    single_frame_face_annot_dir = os.path.join(face_annot_dir, f\"{frame_id:05d}\")\n",
    "    if create and not os.path.exists(single_frame_face_annot_dir):\n",
    "        os.makedirs(single_frame_face_annot_dir)\n",
    "    return single_frame_face_annot_dir\n",
    "\n",
    "def resolve_detected_face_path(interval_id, frame_id, face_id, create=True):\n",
    "    single_frame_face_annot_dir = resolve_frame_face_annot_dir(interval_id, frame_id)\n",
    "    detected_face_frame_path = os.path.join(single_frame_face_annot_dir, 'detected_face_{}.png').format(face_id)\n",
    "    return detected_face_frame_path\n",
    "\n",
    "def resolve_annot_faces_path(interval_id, frame_id, ):\n",
    "    single_frame_face_annot_dir = resolve_frame_face_annot_dir(interval_id, frame_id)\n",
    "    return os.path.join(single_frame_face_annot_dir, 'annotated_faces.png')\n",
    "\n",
    "def resolve_interval_face_annot_224_dir(interval_id, create=True):\n",
    "    interval_video_path = resolve_interval_video_path(interval_id)\n",
    "    interval_video_dir = os.path.dirname(interval_video_path)\n",
    "    inetrval_face_annot_dir = os.path.join(interval_video_dir, 'vokens', 'face_annot_224')\n",
    "    if create and not os.path.exists(inetrval_face_annot_dir):\n",
    "        os.makedirs(inetrval_face_annot_dir)\n",
    "    return inetrval_face_annot_dir\n",
    "\n",
    "def resolve_224_voken_path(interval_id, frame_id):\n",
    "    single_frame_face_annot_dir = resolve_interval_face_annot_224_dir(interval_id)\n",
    "    detected_face_frame_path = os.path.join(single_frame_face_annot_dir, f'{frame_id:05d}.png').format(frame_id)\n",
    "    return detected_face_frame_path\n",
    "\n",
    "def extract_frame_id(frame_filename):\n",
    "    return int(os.path.basename(frame_filename).split(\".\")[0])"
   ]
  },
  {
   "cell_type": "code",
   "execution_count": 245,
   "id": "eastern-establishment",
   "metadata": {},
   "outputs": [],
   "source": [
    "display_every = 187\n",
    "\n",
    "def save_faces(interval_id, frame_filename, debug=False):\n",
    "    frame_id, frame_path = resolve_paths(frame_filename, interval_id)\n",
    "    \n",
    "    image = Image.open(frame_path)\n",
    "    boxes, probs, points = mtcnn.detect(image, landmarks=True)\n",
    "    img_draw = image.copy()\n",
    "    draw = ImageDraw.Draw(img_draw)\n",
    "    \n",
    "    for i, (box, point) in enumerate(zip(boxes, points)):\n",
    "        draw.rectangle(box.tolist(), width=5)\n",
    "        for p in point:\n",
    "            draw.rectangle((p - 10).tolist() + (p + 10).tolist(), width=10)\n",
    "        detected_face_path = resolve_detected_face_path(interval_id, frame_id, i, create=True)\n",
    "        extract_face(image, box, image_size=224, margin=70, save_path=detected_face_path)\n",
    "    \n",
    "    annotated_faces_path = resolve_annot_faces_path(interval_id, frame_id)\n",
    "    img_draw.save(annotated_faces_path)\n",
    "    \n",
    "    debug_print(debug, frame_filename, frame_id, annotated_faces_path, probs)\n",
    "    \n",
    "\n",
    "def debug_print(debug, frame_filename, frame_id, annotated_faces_path, probs):\n",
    "    should_display = debug or ('000.png' in frame_filename)\n",
    "    if should_display:\n",
    "        print(f'Frame id: {frame_id}. Ouput dir: {annotated_faces_path}..')\n",
    "        print(f'probs: {probs}')\n",
    "        display(IPython.display.Image(annotated_faces_path, height=500, width=500))        \n",
    "\n",
    "def get_video_id(interval_id):\n",
    "    df_interval = df_intervals[df_intervals['interval_id'] == interval_id]\n",
    "    return df_interval.iloc[0]['video_id']\n",
    "    \n",
    "def resolve_interval_video_path(interval_id):\n",
    "    video_id = get_video_id(interval_id)\n",
    "    video_dir = os.path.join(PATS_DATA_ROOT, 'Youtube', SPEAKER_NAME, video_id)    \n",
    "    interval_path = os.path.join(video_dir, interval_id, f'{interval_id}.mp4')\n",
    "    return interval_path\n",
    "\n",
    "def resolve_interval_frames_dir(interval_id, create=True):\n",
    "    interval_video_path = resolve_interval_video_path(interval_id)\n",
    "    interval_video_dir = os.path.dirname(interval_video_path)\n",
    "    inetrval_frames_dir = os.path.join(interval_video_dir, 'frames')\n",
    "    if create and not os.path.exists(inetrval_frames_dir):\n",
    "        os.makedirs(inetrval_frames_dir)\n",
    "    return inetrval_frames_dir\n",
    "\n",
    "def resolve_paths(frame_filename, interval_id):\n",
    "    frame_id = int(frame_filename.split(\".\")[0])\n",
    "    face_annot_dir = resolve_interval_face_annot_224_dir(interval_id)\n",
    "    \n",
    "    frame_path = os.path.join(face_annot_dir, frame_filename)\n",
    "    return frame_id, frame_path"
   ]
  },
  {
   "cell_type": "markdown",
   "id": "accurate-stand",
   "metadata": {},
   "source": [
    "## Display Utils"
   ]
  },
  {
   "cell_type": "code",
   "execution_count": 246,
   "id": "processed-coffee",
   "metadata": {},
   "outputs": [],
   "source": [
    "def printmd(string):\n",
    "    display(Markdown(string))\n",
    "\n",
    "CAPTION_STYLE = {\n",
    "    'selector': 'caption',\n",
    "    'props': [\n",
    "        ('color', 'navy'),\n",
    "        ('font-size', '16px')\n",
    "    ]\n",
    "}\n",
    "\n",
    "def display_df_with_caption(df, title):\n",
    "    return df.style.set_caption(title).set_table_styles([CAPTION_STYLE])\n",
    "\n",
    "def display_value_counts(series, title):\n",
    "    df_value_counts = series.value_counts().to_frame().head()\n",
    "    df_style = display_df_with_caption(df_value_counts, title)\n",
    "    display(df_style)"
   ]
  },
  {
   "cell_type": "markdown",
   "id": "smooth-sympathy",
   "metadata": {},
   "source": [
    "## Load Intervals"
   ]
  },
  {
   "cell_type": "code",
   "execution_count": 247,
   "id": "previous-value",
   "metadata": {},
   "outputs": [],
   "source": [
    "df_intervals = pd.read_csv(INTERVALS_PATH, dtype={'interval_id': object})"
   ]
  },
  {
   "cell_type": "code",
   "execution_count": 248,
   "id": "continued-effects",
   "metadata": {},
   "outputs": [
    {
     "data": {
      "text/plain": [
       "Index(['speaker', 'video_id', 'interval_id', 'valid', 'duration',\n",
       "       'start_time_string', 'end_time_string', 'video_link', 'video_fn',\n",
       "       'start_time', 'end_time', 'org_start_time', 'org_end_time',\n",
       "       'max_frames_token', 'valid_duration', 'valid_single_token_per_frame',\n",
       "       'video_downloded', 'valid_hd5', 'valid_max_token_duration',\n",
       "       'valid_frames_count', 'video_downloaded', 'interval_video_path',\n",
       "       'interval_video_downloaded', 'interval_frames_dir', 'full_video_path',\n",
       "       'frames_dir_exists', 'frames_dir_content_size', 'frames_count',\n",
       "       'supposed_frames_count', 'missing_frames_count', 'has_completed_frames',\n",
       "       'pats_path', 'word_count'],\n",
       "      dtype='object')"
      ]
     },
     "execution_count": 248,
     "metadata": {},
     "output_type": "execute_result"
    }
   ],
   "source": [
    "df_intervals.columns"
   ]
  },
  {
   "cell_type": "code",
   "execution_count": 249,
   "id": "charitable-zealand",
   "metadata": {},
   "outputs": [
    {
     "data": {
      "text/plain": [
       "(2118, 33)"
      ]
     },
     "execution_count": 249,
     "metadata": {},
     "output_type": "execute_result"
    }
   ],
   "source": [
    "df_intervals.shape"
   ]
  },
  {
   "cell_type": "code",
   "execution_count": 264,
   "id": "limited-organization",
   "metadata": {},
   "outputs": [],
   "source": [
    "DELETED_VIDEO = 'hWQiXv0sn9Y'"
   ]
  },
  {
   "cell_type": "markdown",
   "id": "controversial-relief",
   "metadata": {},
   "source": [
    "### Fetch Batch"
   ]
  },
  {
   "cell_type": "code",
   "execution_count": 268,
   "id": "finite-feelings",
   "metadata": {},
   "outputs": [],
   "source": [
    "df_inervals_batch1 = df_intervals[(df_intervals['has_completed_frames']) & (df_intervals['video_id'] != DELETED_VIDEO)]"
   ]
  },
  {
   "cell_type": "code",
   "execution_count": 269,
   "id": "turned-territory",
   "metadata": {},
   "outputs": [
    {
     "data": {
      "text/plain": [
       "(431, 33)"
      ]
     },
     "execution_count": 269,
     "metadata": {},
     "output_type": "execute_result"
    }
   ],
   "source": [
    "df_inervals_batch1.shape"
   ]
  },
  {
   "cell_type": "code",
   "execution_count": 270,
   "id": "thirty-topic",
   "metadata": {},
   "outputs": [
    {
     "data": {
      "text/html": [
       "<div>\n",
       "<style scoped>\n",
       "    .dataframe tbody tr th:only-of-type {\n",
       "        vertical-align: middle;\n",
       "    }\n",
       "\n",
       "    .dataframe tbody tr th {\n",
       "        vertical-align: top;\n",
       "    }\n",
       "\n",
       "    .dataframe thead th {\n",
       "        text-align: right;\n",
       "    }\n",
       "</style>\n",
       "<table border=\"1\" class=\"dataframe\">\n",
       "  <thead>\n",
       "    <tr style=\"text-align: right;\">\n",
       "      <th></th>\n",
       "      <th>speaker</th>\n",
       "      <th>video_id</th>\n",
       "      <th>interval_id</th>\n",
       "      <th>valid</th>\n",
       "      <th>duration</th>\n",
       "      <th>start_time_string</th>\n",
       "      <th>end_time_string</th>\n",
       "      <th>video_link</th>\n",
       "      <th>video_fn</th>\n",
       "      <th>start_time</th>\n",
       "      <th>...</th>\n",
       "      <th>interval_frames_dir</th>\n",
       "      <th>full_video_path</th>\n",
       "      <th>frames_dir_exists</th>\n",
       "      <th>frames_dir_content_size</th>\n",
       "      <th>frames_count</th>\n",
       "      <th>supposed_frames_count</th>\n",
       "      <th>missing_frames_count</th>\n",
       "      <th>has_completed_frames</th>\n",
       "      <th>pats_path</th>\n",
       "      <th>word_count</th>\n",
       "    </tr>\n",
       "  </thead>\n",
       "  <tbody>\n",
       "    <tr>\n",
       "      <th>140</th>\n",
       "      <td>oliver</td>\n",
       "      <td>r-ERajkMXw0</td>\n",
       "      <td>101444</td>\n",
       "      <td>True</td>\n",
       "      <td>20.153487</td>\n",
       "      <td>00:05:40.80</td>\n",
       "      <td>00:06:00.96</td>\n",
       "      <td>https://www.youtube.com/watch?v=r-ERajkMXw0</td>\n",
       "      <td>Right_To_Be_Forgotten_-_Last_Week_Tonight_with...</td>\n",
       "      <td>0 days 00:05:40.800000</td>\n",
       "      <td>...</td>\n",
       "      <td>/Users/staveshemesh/Projects/PATS_DATA/Youtube...</td>\n",
       "      <td>/Users/staveshemesh/Projects/PATS_DATA/Youtube...</td>\n",
       "      <td>True</td>\n",
       "      <td>9824</td>\n",
       "      <td>305</td>\n",
       "      <td>302</td>\n",
       "      <td>3</td>\n",
       "      <td>True</td>\n",
       "      <td>/Users/staveshemesh/Projects/PATS_DATA/Process...</td>\n",
       "      <td>51</td>\n",
       "    </tr>\n",
       "    <tr>\n",
       "      <th>266</th>\n",
       "      <td>oliver</td>\n",
       "      <td>3bxcc3SM_KA</td>\n",
       "      <td>101991</td>\n",
       "      <td>True</td>\n",
       "      <td>4.604604</td>\n",
       "      <td>00:08:32.81</td>\n",
       "      <td>00:08:37.41</td>\n",
       "      <td>http://www.youtube.com/watch?v=3bxcc3SM_KA</td>\n",
       "      <td>Patents_-_Last_Week_Tonight_with_John_Oliver_H...</td>\n",
       "      <td>0 days 00:08:32.810000</td>\n",
       "      <td>...</td>\n",
       "      <td>/Users/staveshemesh/Projects/PATS_DATA/Youtube...</td>\n",
       "      <td>/Users/staveshemesh/Projects/PATS_DATA/Youtube...</td>\n",
       "      <td>True</td>\n",
       "      <td>2336</td>\n",
       "      <td>71</td>\n",
       "      <td>69</td>\n",
       "      <td>2</td>\n",
       "      <td>True</td>\n",
       "      <td>/Users/staveshemesh/Projects/PATS_DATA/Process...</td>\n",
       "      <td>11</td>\n",
       "    </tr>\n",
       "    <tr>\n",
       "      <th>50</th>\n",
       "      <td>oliver</td>\n",
       "      <td>FVFdsl29s_Q</td>\n",
       "      <td>101142</td>\n",
       "      <td>True</td>\n",
       "      <td>9.666666</td>\n",
       "      <td>00:03:42.56</td>\n",
       "      <td>00:03:52.23</td>\n",
       "      <td>http://www.youtube.com/watch?v=FVFdsl29s_Q</td>\n",
       "      <td>Stupid_Watergate_-_Last_Week_Tonight_with_John...</td>\n",
       "      <td>0 days 00:03:42.560000</td>\n",
       "      <td>...</td>\n",
       "      <td>/Users/staveshemesh/Projects/PATS_DATA/Youtube...</td>\n",
       "      <td>/Users/staveshemesh/Projects/PATS_DATA/Youtube...</td>\n",
       "      <td>True</td>\n",
       "      <td>4768</td>\n",
       "      <td>147</td>\n",
       "      <td>144</td>\n",
       "      <td>3</td>\n",
       "      <td>True</td>\n",
       "      <td>/Users/staveshemesh/Projects/PATS_DATA/Process...</td>\n",
       "      <td>27</td>\n",
       "    </tr>\n",
       "    <tr>\n",
       "      <th>3</th>\n",
       "      <td>oliver</td>\n",
       "      <td>P8pjd1QEA0c</td>\n",
       "      <td>100945</td>\n",
       "      <td>True</td>\n",
       "      <td>16.349683</td>\n",
       "      <td>00:09:46.95</td>\n",
       "      <td>00:10:03.30</td>\n",
       "      <td>http://www.youtube.com/watch?v=P8pjd1QEA0c</td>\n",
       "      <td>Student_Debt_-_Last_Week_Tonight_with_John_Oli...</td>\n",
       "      <td>0 days 00:09:46.950000</td>\n",
       "      <td>...</td>\n",
       "      <td>/Users/staveshemesh/Projects/PATS_DATA/Youtube...</td>\n",
       "      <td>/Users/staveshemesh/Projects/PATS_DATA/Youtube...</td>\n",
       "      <td>True</td>\n",
       "      <td>8000</td>\n",
       "      <td>248</td>\n",
       "      <td>245</td>\n",
       "      <td>3</td>\n",
       "      <td>True</td>\n",
       "      <td>/Users/staveshemesh/Projects/PATS_DATA/Process...</td>\n",
       "      <td>30</td>\n",
       "    </tr>\n",
       "  </tbody>\n",
       "</table>\n",
       "<p>4 rows × 33 columns</p>\n",
       "</div>"
      ],
      "text/plain": [
       "    speaker     video_id interval_id  valid   duration start_time_string  \\\n",
       "140  oliver  r-ERajkMXw0      101444   True  20.153487       00:05:40.80   \n",
       "266  oliver  3bxcc3SM_KA      101991   True   4.604604       00:08:32.81   \n",
       "50   oliver  FVFdsl29s_Q      101142   True   9.666666       00:03:42.56   \n",
       "3    oliver  P8pjd1QEA0c      100945   True  16.349683       00:09:46.95   \n",
       "\n",
       "    end_time_string                                   video_link  \\\n",
       "140     00:06:00.96  https://www.youtube.com/watch?v=r-ERajkMXw0   \n",
       "266     00:08:37.41   http://www.youtube.com/watch?v=3bxcc3SM_KA   \n",
       "50      00:03:52.23   http://www.youtube.com/watch?v=FVFdsl29s_Q   \n",
       "3       00:10:03.30   http://www.youtube.com/watch?v=P8pjd1QEA0c   \n",
       "\n",
       "                                              video_fn  \\\n",
       "140  Right_To_Be_Forgotten_-_Last_Week_Tonight_with...   \n",
       "266  Patents_-_Last_Week_Tonight_with_John_Oliver_H...   \n",
       "50   Stupid_Watergate_-_Last_Week_Tonight_with_John...   \n",
       "3    Student_Debt_-_Last_Week_Tonight_with_John_Oli...   \n",
       "\n",
       "                 start_time  ...  \\\n",
       "140  0 days 00:05:40.800000  ...   \n",
       "266  0 days 00:08:32.810000  ...   \n",
       "50   0 days 00:03:42.560000  ...   \n",
       "3    0 days 00:09:46.950000  ...   \n",
       "\n",
       "                                   interval_frames_dir  \\\n",
       "140  /Users/staveshemesh/Projects/PATS_DATA/Youtube...   \n",
       "266  /Users/staveshemesh/Projects/PATS_DATA/Youtube...   \n",
       "50   /Users/staveshemesh/Projects/PATS_DATA/Youtube...   \n",
       "3    /Users/staveshemesh/Projects/PATS_DATA/Youtube...   \n",
       "\n",
       "                                       full_video_path frames_dir_exists  \\\n",
       "140  /Users/staveshemesh/Projects/PATS_DATA/Youtube...              True   \n",
       "266  /Users/staveshemesh/Projects/PATS_DATA/Youtube...              True   \n",
       "50   /Users/staveshemesh/Projects/PATS_DATA/Youtube...              True   \n",
       "3    /Users/staveshemesh/Projects/PATS_DATA/Youtube...              True   \n",
       "\n",
       "     frames_dir_content_size  frames_count  supposed_frames_count  \\\n",
       "140                     9824           305                    302   \n",
       "266                     2336            71                     69   \n",
       "50                      4768           147                    144   \n",
       "3                       8000           248                    245   \n",
       "\n",
       "     missing_frames_count  has_completed_frames  \\\n",
       "140                     3                  True   \n",
       "266                     2                  True   \n",
       "50                      3                  True   \n",
       "3                       3                  True   \n",
       "\n",
       "                                             pats_path  word_count  \n",
       "140  /Users/staveshemesh/Projects/PATS_DATA/Process...          51  \n",
       "266  /Users/staveshemesh/Projects/PATS_DATA/Process...          11  \n",
       "50   /Users/staveshemesh/Projects/PATS_DATA/Process...          27  \n",
       "3    /Users/staveshemesh/Projects/PATS_DATA/Process...          30  \n",
       "\n",
       "[4 rows x 33 columns]"
      ]
     },
     "execution_count": 270,
     "metadata": {},
     "output_type": "execute_result"
    }
   ],
   "source": [
    "df_inervals_batch1.sample(n=4)"
   ]
  },
  {
   "cell_type": "code",
   "execution_count": 271,
   "id": "white-thread",
   "metadata": {},
   "outputs": [],
   "source": [
    "batch_interval_ids = df_inervals_batch1[df_inervals_batch1['has_completed_frames']]['interval_id'].tolist()"
   ]
  },
  {
   "cell_type": "code",
   "execution_count": 283,
   "id": "interested-image",
   "metadata": {},
   "outputs": [
    {
     "name": "stdout",
     "output_type": "stream",
     "text": [
      "Saved to /Users/staveshemesh/Projects/shstav2/token_voken/data/20210506_135358_df_intervals_batch1_431.csv.\n"
     ]
    }
   ],
   "source": [
    "batch_interval_filename = f'{TIMESTR}_df_intervals_batch1_{len(batch_interval_ids)}.csv'\n",
    "batch_interval_path = os.path.join(DATA_ROOT, batch_interval_filename)\n",
    "df_inervals_batch1.to_csv(batch_interval_path, index=False, header=True)\n",
    "print(f'Saved to {batch_interval_path}.')"
   ]
  },
  {
   "cell_type": "markdown",
   "id": "above-indonesian",
   "metadata": {},
   "source": [
    "## MTCNN Model"
   ]
  },
  {
   "cell_type": "code",
   "execution_count": 430,
   "id": "lovely-ireland",
   "metadata": {},
   "outputs": [],
   "source": [
    "from PIL import Image, ImageDraw, UnidentifiedImageError\n",
    "from facenet_pytorch import MTCNN, extract_face"
   ]
  },
  {
   "cell_type": "code",
   "execution_count": 284,
   "id": "registered-virginia",
   "metadata": {},
   "outputs": [],
   "source": [
    "mtcnn = MTCNN(keep_all=False)"
   ]
  },
  {
   "cell_type": "code",
   "execution_count": 285,
   "id": "forced-underground",
   "metadata": {},
   "outputs": [
    {
     "data": {
      "text/plain": [
       "'/Users/staveshemesh/Projects/Youtube/oliver/Tt-mpuR_QHQ/100913/vokens/face_annot_224'"
      ]
     },
     "execution_count": 285,
     "metadata": {},
     "output_type": "execute_result"
    }
   ],
   "source": [
    "resolve_interval_face_annot_224_dir('100913')"
   ]
  },
  {
   "cell_type": "code",
   "execution_count": null,
   "id": "mexican-virtue",
   "metadata": {},
   "outputs": [],
   "source": [
    "do_sample = False\n",
    "if do_sample:\n",
    "    # Just a sample test\n",
    "    for idx, row in tqdm(df_inervals_batch1[['interval_id', 'interval_frames_dir']][1:3].iterrows()):\n",
    "        interval_id, frames_dir = row['interval_id'], row['interval_frames_dir']\n",
    "        print(frames_dir)\n",
    "        frames = sorted(os.listdir(frames_dir))\n",
    "        for frame_filename in tqdm(frames):\n",
    "            if frame_filename.endswith(\".png\"):\n",
    "                save_faces(interval_id, frame_filename)"
   ]
  },
  {
   "cell_type": "code",
   "execution_count": null,
   "id": "surrounded-hotel",
   "metadata": {},
   "outputs": [],
   "source": [
    "# Just a sample test\n",
    "for idx, row in tqdm(df_inervals_batch1[['interval_id', 'interval_frames_dir']][:4].iterrows()):\n",
    "    interval_id, frames_dir = row['interval_id'], row['interval_frames_dir']\n",
    "    print(frames_dir)\n",
    "    frames = sorted(os.listdir(frames_dir))\n",
    "    for frame_filename in tqdm(frames[:3]):\n",
    "        if frame_filename.endswith(\".png\"):\n",
    "            save_faces(interval_id, frame_filename)"
   ]
  },
  {
   "cell_type": "code",
   "execution_count": 359,
   "id": "authorized-bargain",
   "metadata": {},
   "outputs": [],
   "source": [
    "def create_face_images(df_batch):\n",
    "    for idx, row in tqdm(df_batch[['interval_id', 'interval_frames_dir']].iterrows()):\n",
    "        interval_id, frames_dir = row['interval_id'], row['interval_frames_dir']\n",
    "        print(frames_dir)\n",
    "        frames = sorted(os.listdir(frames_dir))\n",
    "        for frame_filename in frames:\n",
    "            if frame_filename.endswith(\".png\"):\n",
    "                save_faces(interval_id, frame_filename)"
   ]
  },
  {
   "cell_type": "code",
   "execution_count": 360,
   "id": "mounted-spank",
   "metadata": {},
   "outputs": [
    {
     "data": {
      "text/plain": [
       "(431, 35)"
      ]
     },
     "execution_count": 360,
     "metadata": {},
     "output_type": "execute_result"
    }
   ],
   "source": [
    "df_inervals_batch1.shape"
   ]
  },
  {
   "cell_type": "code",
   "execution_count": 291,
   "id": "silent-divorce",
   "metadata": {},
   "outputs": [
    {
     "data": {
      "text/html": [
       "<div>\n",
       "<style scoped>\n",
       "    .dataframe tbody tr th:only-of-type {\n",
       "        vertical-align: middle;\n",
       "    }\n",
       "\n",
       "    .dataframe tbody tr th {\n",
       "        vertical-align: top;\n",
       "    }\n",
       "\n",
       "    .dataframe thead th {\n",
       "        text-align: right;\n",
       "    }\n",
       "</style>\n",
       "<table border=\"1\" class=\"dataframe\">\n",
       "  <thead>\n",
       "    <tr style=\"text-align: right;\">\n",
       "      <th></th>\n",
       "      <th>speaker</th>\n",
       "      <th>video_id</th>\n",
       "      <th>interval_id</th>\n",
       "      <th>valid</th>\n",
       "      <th>duration</th>\n",
       "      <th>start_time_string</th>\n",
       "      <th>end_time_string</th>\n",
       "      <th>video_link</th>\n",
       "      <th>video_fn</th>\n",
       "      <th>start_time</th>\n",
       "      <th>...</th>\n",
       "      <th>interval_frames_dir</th>\n",
       "      <th>full_video_path</th>\n",
       "      <th>frames_dir_exists</th>\n",
       "      <th>frames_dir_content_size</th>\n",
       "      <th>frames_count</th>\n",
       "      <th>supposed_frames_count</th>\n",
       "      <th>missing_frames_count</th>\n",
       "      <th>has_completed_frames</th>\n",
       "      <th>pats_path</th>\n",
       "      <th>word_count</th>\n",
       "    </tr>\n",
       "  </thead>\n",
       "  <tbody>\n",
       "    <tr>\n",
       "      <th>100</th>\n",
       "      <td>oliver</td>\n",
       "      <td>MepXBJjsNxs</td>\n",
       "      <td>101321</td>\n",
       "      <td>True</td>\n",
       "      <td>6.606607</td>\n",
       "      <td>00:06:46.10</td>\n",
       "      <td>00:06:52.71</td>\n",
       "      <td>http://www.youtube.com/watch?v=MepXBJjsNxs</td>\n",
       "      <td>Sugar_-_Last_Week_Tonight_with_John_Oliver_HBO...</td>\n",
       "      <td>0 days 00:06:46.100000</td>\n",
       "      <td>...</td>\n",
       "      <td>/Users/staveshemesh/Projects/PATS_DATA/Youtube...</td>\n",
       "      <td>/Users/staveshemesh/Projects/PATS_DATA/Youtube...</td>\n",
       "      <td>True</td>\n",
       "      <td>3296</td>\n",
       "      <td>101</td>\n",
       "      <td>99</td>\n",
       "      <td>2</td>\n",
       "      <td>True</td>\n",
       "      <td>/Users/staveshemesh/Projects/PATS_DATA/Process...</td>\n",
       "      <td>10</td>\n",
       "    </tr>\n",
       "    <tr>\n",
       "      <th>66</th>\n",
       "      <td>oliver</td>\n",
       "      <td>r-ERajkMXw0</td>\n",
       "      <td>101188</td>\n",
       "      <td>True</td>\n",
       "      <td>5.805806</td>\n",
       "      <td>00:03:28.40</td>\n",
       "      <td>00:03:34.21</td>\n",
       "      <td>https://www.youtube.com/watch?v=r-ERajkMXw0</td>\n",
       "      <td>Right_To_Be_Forgotten_-_Last_Week_Tonight_with...</td>\n",
       "      <td>0 days 00:03:28.400000</td>\n",
       "      <td>...</td>\n",
       "      <td>/Users/staveshemesh/Projects/PATS_DATA/Youtube...</td>\n",
       "      <td>/Users/staveshemesh/Projects/PATS_DATA/Youtube...</td>\n",
       "      <td>True</td>\n",
       "      <td>2944</td>\n",
       "      <td>90</td>\n",
       "      <td>87</td>\n",
       "      <td>3</td>\n",
       "      <td>True</td>\n",
       "      <td>/Users/staveshemesh/Projects/PATS_DATA/Process...</td>\n",
       "      <td>18</td>\n",
       "    </tr>\n",
       "  </tbody>\n",
       "</table>\n",
       "<p>2 rows × 33 columns</p>\n",
       "</div>"
      ],
      "text/plain": [
       "    speaker     video_id interval_id  valid  duration start_time_string  \\\n",
       "100  oliver  MepXBJjsNxs      101321   True  6.606607       00:06:46.10   \n",
       "66   oliver  r-ERajkMXw0      101188   True  5.805806       00:03:28.40   \n",
       "\n",
       "    end_time_string                                   video_link  \\\n",
       "100     00:06:52.71   http://www.youtube.com/watch?v=MepXBJjsNxs   \n",
       "66      00:03:34.21  https://www.youtube.com/watch?v=r-ERajkMXw0   \n",
       "\n",
       "                                              video_fn  \\\n",
       "100  Sugar_-_Last_Week_Tonight_with_John_Oliver_HBO...   \n",
       "66   Right_To_Be_Forgotten_-_Last_Week_Tonight_with...   \n",
       "\n",
       "                 start_time  ...  \\\n",
       "100  0 days 00:06:46.100000  ...   \n",
       "66   0 days 00:03:28.400000  ...   \n",
       "\n",
       "                                   interval_frames_dir  \\\n",
       "100  /Users/staveshemesh/Projects/PATS_DATA/Youtube...   \n",
       "66   /Users/staveshemesh/Projects/PATS_DATA/Youtube...   \n",
       "\n",
       "                                       full_video_path frames_dir_exists  \\\n",
       "100  /Users/staveshemesh/Projects/PATS_DATA/Youtube...              True   \n",
       "66   /Users/staveshemesh/Projects/PATS_DATA/Youtube...              True   \n",
       "\n",
       "     frames_dir_content_size  frames_count  supposed_frames_count  \\\n",
       "100                     3296           101                     99   \n",
       "66                      2944            90                     87   \n",
       "\n",
       "     missing_frames_count  has_completed_frames  \\\n",
       "100                     2                  True   \n",
       "66                      3                  True   \n",
       "\n",
       "                                             pats_path  word_count  \n",
       "100  /Users/staveshemesh/Projects/PATS_DATA/Process...          10  \n",
       "66   /Users/staveshemesh/Projects/PATS_DATA/Process...          18  \n",
       "\n",
       "[2 rows x 33 columns]"
      ]
     },
     "execution_count": 291,
     "metadata": {},
     "output_type": "execute_result"
    }
   ],
   "source": [
    "create_face_images(df_inervals_batch1)"
   ]
  },
  {
   "cell_type": "code",
   "execution_count": 361,
   "id": "ecological-anderson",
   "metadata": {},
   "outputs": [
    {
     "data": {
      "text/plain": [
       "Index(['speaker', 'video_id', 'interval_id', 'valid', 'duration',\n",
       "       'start_time_string', 'end_time_string', 'video_link', 'video_fn',\n",
       "       'start_time', 'end_time', 'org_start_time', 'org_end_time',\n",
       "       'max_frames_token', 'valid_duration', 'valid_single_token_per_frame',\n",
       "       'video_downloded', 'valid_hd5', 'valid_max_token_duration',\n",
       "       'valid_frames_count', 'video_downloaded', 'interval_video_path',\n",
       "       'interval_video_downloaded', 'interval_frames_dir', 'full_video_path',\n",
       "       'frames_dir_exists', 'frames_dir_content_size', 'frames_count',\n",
       "       'supposed_frames_count', 'missing_frames_count', 'has_completed_frames',\n",
       "       'pats_path', 'word_count', 'has_annot_224', 'face_annot_224_dir'],\n",
       "      dtype='object')"
      ]
     },
     "execution_count": 361,
     "metadata": {},
     "output_type": "execute_result"
    }
   ],
   "source": [
    "df_inervals_batch1.columns"
   ]
  },
  {
   "cell_type": "code",
   "execution_count": null,
   "id": "posted-routine",
   "metadata": {},
   "outputs": [],
   "source": [
    "df_inervals_batch1"
   ]
  },
  {
   "cell_type": "code",
   "execution_count": 389,
   "id": "dynamic-financing",
   "metadata": {},
   "outputs": [],
   "source": [
    "def fcount(path):\n",
    "    count1 = 0\n",
    "    for root, dirs, files in os.walk(path):\n",
    "        count1 += len(dirs)\n",
    "\n",
    "    return count1"
   ]
  },
  {
   "cell_type": "code",
   "execution_count": 401,
   "id": "capable-mercy",
   "metadata": {},
   "outputs": [
    {
     "name": "stderr",
     "output_type": "stream",
     "text": [
      "/Users/staveshemesh/.pyenv/versions/3.6.8/lib/python3.6/site-packages/ipykernel_launcher.py:2: SettingWithCopyWarning: \n",
      "A value is trying to be set on a copy of a slice from a DataFrame.\n",
      "Try using .loc[row_indexer,col_indexer] = value instead\n",
      "\n",
      "See the caveats in the documentation: http://pandas.pydata.org/pandas-docs/stable/indexing.html#indexing-view-versus-copy\n",
      "  \n"
     ]
    }
   ],
   "source": [
    "df_inervals_batch1['has_annot_224'] = df_inervals_batch1['interval_id'].apply(\n",
    "    lambda interval_id: \n",
    "        os.path.exists(resolve_interval_face_annot_224_dir(interval_id)) and\n",
    "        10 < fcount(resolve_interval_face_annot_224_dir(interval_id))\n",
    ")"
   ]
  },
  {
   "cell_type": "code",
   "execution_count": 402,
   "id": "numeric-switzerland",
   "metadata": {},
   "outputs": [
    {
     "data": {
      "text/html": [
       "<style  type=\"text/css\" >\n",
       "    #T_73e89d1e_b586_11eb_8160_a683e7ab8623 caption {\n",
       "          color: navy;\n",
       "          font-size: 16px;\n",
       "    }</style><table id=\"T_73e89d1e_b586_11eb_8160_a683e7ab8623\" ><caption>Has Annotations</caption><thead>    <tr>        <th class=\"blank level0\" ></th>        <th class=\"col_heading level0 col0\" >has_annot_224</th>    </tr></thead><tbody>\n",
       "                <tr>\n",
       "                        <th id=\"T_73e89d1e_b586_11eb_8160_a683e7ab8623level0_row0\" class=\"row_heading level0 row0\" >True</th>\n",
       "                        <td id=\"T_73e89d1e_b586_11eb_8160_a683e7ab8623row0_col0\" class=\"data row0 col0\" >354</td>\n",
       "            </tr>\n",
       "            <tr>\n",
       "                        <th id=\"T_73e89d1e_b586_11eb_8160_a683e7ab8623level0_row1\" class=\"row_heading level0 row1\" >False</th>\n",
       "                        <td id=\"T_73e89d1e_b586_11eb_8160_a683e7ab8623row1_col0\" class=\"data row1 col0\" >77</td>\n",
       "            </tr>\n",
       "    </tbody></table>"
      ],
      "text/plain": [
       "<pandas.io.formats.style.Styler at 0x1594d57f0>"
      ]
     },
     "metadata": {},
     "output_type": "display_data"
    }
   ],
   "source": [
    "display_value_counts(df_inervals_batch1['has_annot_224'], 'Has Annotations')"
   ]
  },
  {
   "cell_type": "code",
   "execution_count": 367,
   "id": "undefined-necessity",
   "metadata": {},
   "outputs": [
    {
     "data": {
      "text/html": [
       "<style  type=\"text/css\" >\n",
       "    #T_e8b5e976_b3e7_11eb_b9ad_a683e7ab8623 caption {\n",
       "          color: navy;\n",
       "          font-size: 16px;\n",
       "    }</style><table id=\"T_e8b5e976_b3e7_11eb_b9ad_a683e7ab8623\" ><caption>Has Annotations</caption><thead>    <tr>        <th class=\"blank level0\" ></th>        <th class=\"col_heading level0 col0\" >has_annot_224</th>    </tr></thead><tbody>\n",
       "                <tr>\n",
       "                        <th id=\"T_e8b5e976_b3e7_11eb_b9ad_a683e7ab8623level0_row0\" class=\"row_heading level0 row0\" >True</th>\n",
       "                        <td id=\"T_e8b5e976_b3e7_11eb_b9ad_a683e7ab8623row0_col0\" class=\"data row0 col0\" >228</td>\n",
       "            </tr>\n",
       "            <tr>\n",
       "                        <th id=\"T_e8b5e976_b3e7_11eb_b9ad_a683e7ab8623level0_row1\" class=\"row_heading level0 row1\" >False</th>\n",
       "                        <td id=\"T_e8b5e976_b3e7_11eb_b9ad_a683e7ab8623row1_col0\" class=\"data row1 col0\" >203</td>\n",
       "            </tr>\n",
       "    </tbody></table>"
      ],
      "text/plain": [
       "<pandas.io.formats.style.Styler at 0x159240320>"
      ]
     },
     "metadata": {},
     "output_type": "display_data"
    }
   ],
   "source": [
    "display_value_counts(df_inervals_batch1['has_annot_224'], 'Has Annotations')"
   ]
  },
  {
   "cell_type": "code",
   "execution_count": 393,
   "id": "bigger-marshall",
   "metadata": {},
   "outputs": [
    {
     "data": {
      "text/html": [
       "<style  type=\"text/css\" >\n",
       "    #T_140e674a_b3f4_11eb_8071_a683e7ab8623 caption {\n",
       "          color: navy;\n",
       "          font-size: 16px;\n",
       "    }</style><table id=\"T_140e674a_b3f4_11eb_8071_a683e7ab8623\" ><caption>Has Annotations</caption><thead>    <tr>        <th class=\"blank level0\" ></th>        <th class=\"col_heading level0 col0\" >has_annot_224</th>    </tr></thead><tbody>\n",
       "                <tr>\n",
       "                        <th id=\"T_140e674a_b3f4_11eb_8071_a683e7ab8623level0_row0\" class=\"row_heading level0 row0\" >True</th>\n",
       "                        <td id=\"T_140e674a_b3f4_11eb_8071_a683e7ab8623row0_col0\" class=\"data row0 col0\" >230</td>\n",
       "            </tr>\n",
       "            <tr>\n",
       "                        <th id=\"T_140e674a_b3f4_11eb_8071_a683e7ab8623level0_row1\" class=\"row_heading level0 row1\" >False</th>\n",
       "                        <td id=\"T_140e674a_b3f4_11eb_8071_a683e7ab8623row1_col0\" class=\"data row1 col0\" >201</td>\n",
       "            </tr>\n",
       "    </tbody></table>"
      ],
      "text/plain": [
       "<pandas.io.formats.style.Styler at 0x15922b588>"
      ]
     },
     "metadata": {},
     "output_type": "display_data"
    }
   ],
   "source": [
    "display_value_counts(df_inervals_batch1['has_annot_224'], 'Has Annotations')"
   ]
  },
  {
   "cell_type": "code",
   "execution_count": 369,
   "id": "characteristic-python",
   "metadata": {},
   "outputs": [],
   "source": [
    "# for d in (df_inervals_batch1[df_inervals_batch1['has_annot_224']]['interval_frames_dir'] + '/*png').tolist():\n",
    "#     !rm {d}"
   ]
  },
  {
   "cell_type": "code",
   "execution_count": 432,
   "id": "pregnant-league",
   "metadata": {},
   "outputs": [],
   "source": [
    "def create_face_images(df_batch):\n",
    "    for idx, row in tqdm(df_batch[['interval_id', 'interval_frames_dir']].iterrows()):\n",
    "        interval_id, frames_dir = row['interval_id'], row['interval_frames_dir']\n",
    "        if interval_id in ['102025', '102079', '102300', '104716', '104770', '104775', '104788', '104818', '104853', '104885', '104918', '104921']:\n",
    "            continue\n",
    "        print(frames_dir)\n",
    "        frames = sorted(os.listdir(frames_dir))\n",
    "        for frame_filename in frames:\n",
    "            if frame_filename.endswith(\".png\"):\n",
    "                save_faces(interval_id, frame_filename)"
   ]
  },
  {
   "cell_type": "code",
   "execution_count": 435,
   "id": "talented-payment",
   "metadata": {},
   "outputs": [],
   "source": [
    "skip_intervals=[]"
   ]
  },
  {
   "cell_type": "code",
   "execution_count": 436,
   "id": "outstanding-flexibility",
   "metadata": {},
   "outputs": [],
   "source": [
    "def save_faces(interval_id, frame_filename, debug=False):\n",
    "    frame_id, frame_path = resolve_paths(frame_filename, interval_id)\n",
    "    \n",
    "    try:\n",
    "        image = Image.open(frame_path)\n",
    "    except UnidentifiedImageError:\n",
    "        skip_intervals.append(interval_id)\n",
    "        return\n",
    "    boxes, probs, points = mtcnn.detect(image, landmarks=True)\n",
    "    img_draw = image.copy()\n",
    "    draw = ImageDraw.Draw(img_draw)\n",
    "    \n",
    "    for i, (box, point) in enumerate(zip(boxes, points)):\n",
    "        draw.rectangle(box.tolist(), width=5)\n",
    "        for p in point:\n",
    "            draw.rectangle((p - 10).tolist() + (p + 10).tolist(), width=10)\n",
    "        detected_face_path = resolve_detected_face_path(interval_id, frame_id, i, create=True)\n",
    "        extract_face(image, box, image_size=224, margin=70, save_path=detected_face_path)\n",
    "    \n",
    "    annotated_faces_path = resolve_annot_faces_path(interval_id, frame_id)\n",
    "    img_draw.save(annotated_faces_path)\n",
    "    \n",
    "    debug_print(debug, frame_filename, frame_id, annotated_faces_path, probs)\n",
    "    "
   ]
  },
  {
   "cell_type": "code",
   "execution_count": null,
   "id": "thirty-headquarters",
   "metadata": {},
   "outputs": [],
   "source": [
    "create_face_images(df_inervals_batch1[~df_inervals_batch1['has_annot_224']])"
   ]
  },
  {
   "cell_type": "code",
   "execution_count": null,
   "id": "secondary-international",
   "metadata": {},
   "outputs": [],
   "source": [
    "df_inervals_batch1[df_inervals_batch1['interval_id'] == '102025']"
   ]
  },
  {
   "cell_type": "code",
   "execution_count": 379,
   "id": "absent-software",
   "metadata": {},
   "outputs": [
    {
     "name": "stderr",
     "output_type": "stream",
     "text": [
      "/Users/staveshemesh/.pyenv/versions/3.6.8/lib/python3.6/site-packages/pandas/core/generic.py:5096: SettingWithCopyWarning: \n",
      "A value is trying to be set on a copy of a slice from a DataFrame\n",
      "\n",
      "See the caveats in the documentation: http://pandas.pydata.org/pandas-docs/stable/indexing.html#indexing-view-versus-copy\n",
      "  self[name] = value\n"
     ]
    }
   ],
   "source": [
    "df_inervals_batch1.iloc[273].has_annot_224 = True"
   ]
  },
  {
   "cell_type": "code",
   "execution_count": null,
   "id": "random-mirror",
   "metadata": {},
   "outputs": [],
   "source": []
  }
 ],
 "metadata": {
  "kernelspec": {
   "display_name": "Python 3",
   "language": "python",
   "name": "python3"
  },
  "language_info": {
   "codemirror_mode": {
    "name": "ipython",
    "version": 3
   },
   "file_extension": ".py",
   "mimetype": "text/x-python",
   "name": "python",
   "nbconvert_exporter": "python",
   "pygments_lexer": "ipython3",
   "version": "3.6.8"
  }
 },
 "nbformat": 4,
 "nbformat_minor": 5
}
